{
  "nbformat": 4,
  "nbformat_minor": 0,
  "metadata": {
    "colab": {
      "provenance": [],
      "authorship_tag": "ABX9TyN/Wm6ECyAGrszjQLnHM8QX",
      "include_colab_link": true
    },
    "kernelspec": {
      "name": "python3",
      "display_name": "Python 3"
    },
    "language_info": {
      "name": "python"
    }
  },
  "cells": [
    {
      "cell_type": "markdown",
      "metadata": {
        "id": "view-in-github",
        "colab_type": "text"
      },
      "source": [
        "<a href=\"https://colab.research.google.com/github/Ana-AlonsoCanizares/AA_GRUPO3/blob/main/Creacion_df8000.ipynb\" target=\"_parent\"><img src=\"https://colab.research.google.com/assets/colab-badge.svg\" alt=\"Open In Colab\"/></a>"
      ]
    },
    {
      "cell_type": "code",
      "execution_count": null,
      "metadata": {
        "id": "OxwdBu-1lZ6Y"
      },
      "outputs": [],
      "source": [
        "import pandas as pd\n",
        "import numpy as np\n",
        "\n",
        "# Load the cleaned municipalities and provinces dataframe\n",
        "municipios_provincias = municipios_provincias_1_clm[['PROVINCIA', 'LOCALIDAD']].drop_duplicates()\n",
        "\n",
        "# Generate the DataFrame with 8000 rows ensuring correct province-locality mapping\n",
        "num_records = 8000\n",
        "\n",
        "# Generate random data for the other columns\n",
        "localidades = np.random.choice(municipios_provincias['LOCALIDAD'], num_records)\n",
        "genero = np.random.choice(['HOMBRE', 'MUJER'], num_records, p=[0.5, 0.5])\n",
        "year_nacimiento = np.random.choice(np.arange(1940, 2021), num_records)\n",
        "tipo_sordera = np.random.choice(['Neurosensorial', 'Conductiva', 'Mixta'], num_records, p=[0.6, 0.3, 0.1])\n",
        "\n",
        "# Create a DataFrame with the generated data\n",
        "data_corrected = {\n",
        "    'LOCALIDAD': localidades,\n",
        "    'GENERO': genero,\n",
        "    'YEAR NACIMIENTO': year_nacimiento,\n",
        "    'TIPO SORDERA': tipo_sordera\n",
        "}\n",
        "\n",
        "df_corrected = pd.DataFrame(data_corrected)\n",
        "\n",
        "# Merge with the municipalities_provincias dataframe to add the correct province\n",
        "df_corrected = df_corrected.merge(municipios_provincias, on='LOCALIDAD', how='left')\n",
        "\n",
        "# Save the corrected DataFrame to an Excel file\n",
        "output_path_corrected = '/mnt/data/generated_data_corrected_final.xlsx'\n",
        "df_corrected.to_excel(output_path_corrected, index=False)\n",
        "\n",
        "import ace_tools as tools; tools.display_dataframe_to_user(name=\"Generated Data Corrected Final\", dataframe=df_corrected)\n",
        "\n",
        "output_path_corrected"
      ]
    }
  ]
}