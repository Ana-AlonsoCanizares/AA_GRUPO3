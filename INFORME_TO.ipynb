{
  "nbformat": 4,
  "nbformat_minor": 0,
  "metadata": {
    "colab": {
      "provenance": [],
      "include_colab_link": true
    },
    "kernelspec": {
      "name": "python3",
      "display_name": "Python 3"
    },
    "language_info": {
      "name": "python"
    }
  },
  "cells": [
    {
      "cell_type": "markdown",
      "metadata": {
        "id": "view-in-github",
        "colab_type": "text"
      },
      "source": [
        "<a href=\"https://colab.research.google.com/github/Ana-AlonsoCanizares/AA_GRUPO3/blob/main/INFORME_TO.ipynb\" target=\"_parent\"><img src=\"https://colab.research.google.com/assets/colab-badge.svg\" alt=\"Open In Colab\"/></a>"
      ]
    },
    {
      "cell_type": "markdown",
      "source": [
        "#Informe Provincial Toledo\n",
        "##Descarga y limpeza de datos"
      ],
      "metadata": {
        "id": "cncOKnCG9KT2"
      }
    },
    {
      "cell_type": "markdown",
      "source": [
        "Comenzamos cargando los datos de la carpeta de Google Drive en la que estén guardados (será necesario cambiar esta ruta en función de la ruta del ordenador).\n",
        "\n",
        "Es necesario aceptar la conexión con la cuenta de Google Drive.\n",
        "\n",
        "Importante y esencial, antes de tirar el código es necesario que la carpeta de Drive a la que se va a llamar tenga los archivos en formato xlsx así nombrados: 'TO_SAAF.xlsx', 'TO_AT.xlsx', 'TO_EM.xlsx', 'TO_LOG.xlsx' y 'TO_SO.xlsx' para que no haya errores a la hora de ejecutar este código.\n",
        "\n",
        "**¡OJO! Primeros archivo con extensión xlsx y los de las zonas a clasificar, con extensión csv, en teoría, los csv no deberían modificarse (a menos que las normativas cambien y con ello las zonas de impacto se modifiquen).**\n",
        "\n",
        "**Y todos las columnas deben tener los nombres definidos en el documento \"Resumen de datos por servicio FASPAS\" y en mayúsculas antes de ser subidos al programa.**"
      ],
      "metadata": {
        "id": "SHATfRyI9VF6"
      }
    },
    {
      "cell_type": "code",
      "execution_count": null,
      "metadata": {
        "colab": {
          "base_uri": "https://localhost:8080/"
        },
        "id": "mhwbvGlQ9JVW",
        "outputId": "6365e495-f22d-4a90-f974-d93511a06fe4"
      },
      "outputs": [
        {
          "output_type": "stream",
          "name": "stdout",
          "text": [
            "Mounted at /content/drive\n"
          ]
        }
      ],
      "source": [
        "from google.colab import drive\n",
        "drive.mount('/content/drive')"
      ]
    },
    {
      "cell_type": "markdown",
      "source": [
        "Se importan las librerías necesarias para la parte de carga de datos y su limpieza."
      ],
      "metadata": {
        "id": "T6gtnbKM-e5p"
      }
    },
    {
      "cell_type": "code",
      "source": [
        "pip install unidecode"
      ],
      "metadata": {
        "colab": {
          "base_uri": "https://localhost:8080/"
        },
        "id": "4Cdv4QrHLrle",
        "outputId": "2a1896fd-182f-4ac2-8dd6-9b76d6b4c1db"
      },
      "execution_count": null,
      "outputs": [
        {
          "output_type": "stream",
          "name": "stdout",
          "text": [
            "Collecting unidecode\n",
            "  Downloading Unidecode-1.3.8-py3-none-any.whl (235 kB)\n",
            "\u001b[2K     \u001b[90m━━━━━━━━━━━━━━━━━━━━━━━━━━━━━━━━━━━━━━━━\u001b[0m \u001b[32m235.5/235.5 kB\u001b[0m \u001b[31m3.9 MB/s\u001b[0m eta \u001b[36m0:00:00\u001b[0m\n",
            "\u001b[?25hInstalling collected packages: unidecode\n",
            "Successfully installed unidecode-1.3.8\n"
          ]
        }
      ]
    },
    {
      "cell_type": "code",
      "source": [
        "import os\n",
        "import pandas as pd\n",
        "import numpy as np\n",
        "from unidecode import unidecode\n",
        "import matplotlib.pyplot as plt"
      ],
      "metadata": {
        "id": "e4n3PNFZ-oIq"
      },
      "execution_count": null,
      "outputs": []
    },
    {
      "cell_type": "code",
      "source": [
        "# Asegúrarse de cambiar la ruta por el nombre real de la carpeta en Google Drive\n",
        "folder_path = '/content/drive/My Drive/PFG_FASPAS/TO'\n",
        "docs_xlsx = [f for f in os.listdir(folder_path) if f.endswith('.xlsx')]\n",
        "print(docs_xlsx)\n",
        "\n",
        "# Asegúrarse de cambiar la ruta por el nombre real de la carpeta en Google Drive\n",
        "folder_path_csv = '/content/drive/My Drive/PFG_FASPAS/Zonas_Prioritarias'\n",
        "doc_zonas = [f for f in os.listdir(folder_path_csv) if f.endswith('limpio.xlsx')]\n",
        "print(doc_zonas)\n",
        "\n",
        "# Asegúrarse de cambiar la ruta por el nombre real de la carpeta en Google Drive\n",
        "folder_path_mun = '/content/drive/My Drive/PFG_FASPAS/Municipios_Despoblacion'\n",
        "doc_mun = [f for f in os.listdir(folder_path_mun) if f.endswith('limpio.xlsx')]\n",
        "print(doc_mun)\n",
        "\n",
        "# Asegúrarse de cambiar la ruta por el nombre real de la carpeta en Google Drive\n",
        "folder_path_areas = '/content/drive/My Drive/PFG_FASPAS/Areas_Salud'\n",
        "doc_areas = [f for f in os.listdir(folder_path_areas) if f.endswith('limpio.xlsx')]\n",
        "print(doc_areas)"
      ],
      "metadata": {
        "colab": {
          "base_uri": "https://localhost:8080/"
        },
        "id": "yMug4vBB9ozZ",
        "outputId": "eb7c8529-d607-464d-8558-395c42314631"
      },
      "execution_count": null,
      "outputs": [
        {
          "output_type": "stream",
          "name": "stdout",
          "text": [
            "['CU_SAAF_limpio.xlsx', 'CU_AT_limpio.xlsx', 'CU_LOG_limpio.xlsx', 'CU_EM_limpio.xlsx', 'CU_SO_limpio.xlsx']\n",
            "['mun_pri_clm_limpio.xlsx']\n",
            "['Municipios_Despoblacion_CLM_limpio.xlsx']\n",
            "['areas_salud_clm_limpio.xlsx']\n"
          ]
        }
      ]
    },
    {
      "cell_type": "markdown",
      "source": [
        "Creación de un diccionario que almacene los dataframes (.xlsx) contenidos en la carpeta de Cuenca.\n",
        "\n",
        "Se irán cargando todos los archivos en un dataframe que se añade al diccionario con el nombre de dicho archivo como clave."
      ],
      "metadata": {
        "id": "hxl_Z9P1-wXB"
      }
    },
    {
      "cell_type": "code",
      "source": [
        "dic_dataframes = {}\n",
        "dic_zonas = {}\n",
        "dic_mun = {}\n",
        "dic_areas = {}\n",
        "\n",
        "for doc in docs_xlsx:\n",
        "    entire_path = os.path.join(folder_path, doc)\n",
        "    df = pd.read_excel(entire_path)\n",
        "    # Uso el nombre del archivo como clave\n",
        "    dic_dataframes[doc] = df\n",
        "\n",
        "for doc in doc_zonas:\n",
        "  entire_path = os.path.join(folder_path_csv, doc)\n",
        "  df = pd.read_excel(entire_path)\n",
        "  # Uso el nombre del archivo como clave\n",
        "  dic_zonas[doc] = df\n",
        "\n",
        "for doc in doc_mun:\n",
        "  entire_path = os.path.join(folder_path_mun, doc)\n",
        "  df = pd.read_excel(entire_path)\n",
        "  # Uso el nombre del archivo como clave\n",
        "  dic_mun[doc] = df\n",
        "\n",
        "for doc in doc_areas:\n",
        "  entire_path = os.path.join(folder_path_areas, doc)\n",
        "  df = pd.read_excel(entire_path)\n",
        "  # Uso el nombre del archivo como clave\n",
        "  dic_areas[doc] = df"
      ],
      "metadata": {
        "id": "wpsYAD2X-c4D"
      },
      "execution_count": null,
      "outputs": []
    },
    {
      "cell_type": "markdown",
      "source": [
        "A continuación se debe observar que el dataframe cuente con al menos las columnas: 'AÑOS ATENCIÓN', 'FECHA NACIMIENTO' **en formato fecha**, 'LOCALIDAD', 'GÉNERO' y 'CP'"
      ],
      "metadata": {
        "id": "swAIR8SeSRpf"
      }
    },
    {
      "cell_type": "markdown",
      "source": [
        "Ahora que sabemos cuáles son las claves, guardamos cada dataframe por separado para trabajar con todos ellos de manera individual, por el momento."
      ],
      "metadata": {
        "id": "j7NG1ZuiB2pr"
      }
    },
    {
      "cell_type": "code",
      "source": [
        "# Imprimir todas las claves\n",
        "for clave in dic_dataframes.keys():\n",
        "    print(clave)\n",
        "for clave in dic_zonas.keys():\n",
        "  print(clave)\n",
        "for clave in dic_mun.keys():\n",
        "  print(clave)\n",
        "for clave in dic_areas.keys():\n",
        "  print(clave)"
      ],
      "metadata": {
        "colab": {
          "base_uri": "https://localhost:8080/"
        },
        "id": "-bSrp6NdAwQZ",
        "outputId": "a2a14c61-d2b6-46ee-a7fe-31667c13b25a"
      },
      "execution_count": null,
      "outputs": [
        {
          "output_type": "stream",
          "name": "stdout",
          "text": [
            "CU_SAAF_limpio.xlsx\n",
            "CU_AT_limpio.xlsx\n",
            "CU_LOG_limpio.xlsx\n",
            "CU_EM_limpio.xlsx\n",
            "CU_SO_limpio.xlsx\n",
            "mun_pri_clm_limpio.xlsx\n",
            "Municipios_Despoblacion_CLM_limpio.xlsx\n",
            "areas_salud_clm_limpio.xlsx\n"
          ]
        }
      ]
    },
    {
      "cell_type": "code",
      "source": [
        "TO_SAAF = dic_dataframes.get(\"TO_SAAF_limpio.xlsx\")\n",
        "TO_AT = dic_dataframes.get(\"TO_AT_limpio.xlsx\")\n",
        "TO_EM = dic_dataframes.get(\"TO_EM_limpio.xlsx\")\n",
        "TO_LOG = dic_dataframes.get(\"TO_LOG_limpio.xlsx\")\n",
        "TO_SO = dic_dataframes.get(\"TO_SO_limpio.xlsx\")\n",
        "mun_pri_clm = dic_zonas.get(\"mun_pri_clm_limpio.xlsx\")\n",
        "mun_desp_clm = dic_mun.get(\"Municipios_Despoblacion_CLM_limpio.xlsx\")\n",
        "areas_clm = dic_areas.get(\"areas_salud_clm_limpio.xlsx\")"
      ],
      "metadata": {
        "id": "tgagsBVtCDkc"
      },
      "execution_count": null,
      "outputs": []
    },
    {
      "cell_type": "code",
      "source": [
        "# # CÓDIGO SOLO PARA EL CURRO (PQ NO PUEDO ACCEDER AL DRIVE)\n",
        "# CU_SAAF = pd.read_excel('/content/CU_SAAF.xlsx')\n",
        "# CU_AT = pd.read_excel('/content/CU_AT.xlsx')\n",
        "# CU_EMPLEO = pd.read_excel('/content/CU_EMPLEO.xlsx')\n",
        "# CU_LOG = pd.read_excel('/content/CU_LOG.xlsx')\n",
        "# # CU_SOCIOS = pd.read_excel('/content/CU_SOCIOS.xlsx')\n",
        "# mun_pri_clm = pd.read_csv('/content/municipios_prioritarios_clm.csv')"
      ],
      "metadata": {
        "id": "FzS8Balj4ozG"
      },
      "execution_count": null,
      "outputs": []
    },
    {
      "cell_type": "code",
      "source": [
        "def impact_analysis_per_service(df, key, nombre):\n",
        "    # Calcular el conteo de registros para cada categoría\n",
        "    cat_count = df['LOCALIDAD'].value_counts()\n",
        "    # Imprimir los resultados\n",
        "    print(f\"\\n\\nEn el caso del servicio de {key}, las localidades con impacto dentro de las que se incluyen en las {nombre} son:\\n\")\n",
        "\n",
        "    # Iterar sobre la serie y mostrar el impacto\n",
        "    for localidad, valor in cat_count.items():\n",
        "        if valor > 10:\n",
        "            print(f\"La localidad de {localidad} que tiene un impacto fuerte, ya que cuenta con {valor} registros.\\n\")\n",
        "        elif valor > 5:\n",
        "            print(f\"La localidad de {localidad} que tiene un impacto medio, ya que cuenta con {valor} registros.\\n\")\n",
        "        else:\n",
        "            if valor > 1:\n",
        "                print(f\"La localidad de {localidad} que tiene un impacto leve, ya que cuenta con {valor} registros.\\n\")\n",
        "            else:\n",
        "                print(f\"La localidad de {localidad} que tiene un impacto leve, ya que cuenta con {valor} registro.\\n\")\n",
        "\n",
        "def impact_analysis_depopulation(df, key, nombre):\n",
        "    # Calcular el conteo de registros para cada categoría\n",
        "    cat_count = df['CLASIFICACION DE ZONA'].value_counts()\n",
        "    # Imprimir los resultados\n",
        "    print(f\"\\n\\nEn el caso del servicio de {key}, los números sobre el impacto para el tipo de {nombre} son:\\n\")\n",
        "\n",
        "    # Iterar sobre la serie y mostrar el impacto\n",
        "    for zona, valor in cat_count.items():\n",
        "        if valor > 10:\n",
        "            print(f\"El tipo de zona de {zona} que tiene un impacto fuerte, ya que cuenta con {valor} registros.\\n\")\n",
        "        elif valor > 5:\n",
        "            print(f\"El tipo de zona de {zona} que tiene un impacto medio, ya que cuenta con {valor} registros.\\n\")\n",
        "        else:\n",
        "            if valor > 1:\n",
        "                print(f\"El tipo de zona de {zona} que tiene un impacto leve, ya que cuenta con {valor} registros.\\n\")\n",
        "            else:\n",
        "                print(f\"El tipo de zona de {zona} que tiene un impacto leve, ya que cuenta con {valor} registro.\\n\")\n",
        "\n",
        "def impact_analysis(df):\n",
        "    # Calcular el conteo de registros para cada categoría\n",
        "    cat_count = df['LOCALIDAD'].value_counts()\n",
        "    # Imprimir los resultados\n",
        "    print(f\"\\nPara todos los servicios de la provincia de Toledo, las localidades con impacto dentro de las que se incluyen en las zonas prioritarias son:\\n\")\n",
        "\n",
        "    # Iterar sobre la serie y mostrar el impacto\n",
        "    for localidad, valor in cat_count.items():\n",
        "        if valor > 10:\n",
        "            print(f\"La localidad de {localidad} que tiene un impacto fuerte, ya que cuenta con {valor} registros.\\n\")\n",
        "        elif valor > 5:\n",
        "            print(f\"La localidad de {localidad} que tiene un impacto medio, ya que cuenta con {valor} registros.\\n\")\n",
        "        else:\n",
        "            if valor > 1:\n",
        "                print(f\"La localidad de {localidad} que tiene un impacto leve, ya que cuenta con {valor} registros.\\n\")\n",
        "            else:\n",
        "                print(f\"La localidad de {localidad} que tiene un impacto leve, ya que cuenta con {valor} registro.\\n\")\n",
        "\n",
        "def combine_and_filter_common_columns(df_dict, common_columns):\n",
        "    \"\"\"\n",
        "    Combina los DataFrames en el diccionario según las columnas comunes y elimina las filas\n",
        "    donde los valores de las columnas comunes sean iguales.\n",
        "\n",
        "    :param df_dict: Diccionario de DataFrames\n",
        "    :param common_columns: Lista de columnas comunes a considerar\n",
        "    :return: DataFrame combinado y filtrado\n",
        "    \"\"\"\n",
        "    # Crear una lista para almacenar los DataFrames con las tres columnas comunes\n",
        "    df_list = []\n",
        "\n",
        "    # Extraer las columnas comunes de cada DataFrame y añadirlas a la lista\n",
        "    for key, df in df_dict.items():\n",
        "        df_common = df[common_columns]\n",
        "        df_list.append(df_common)\n",
        "\n",
        "    # Concatenar todos los DataFrames de la lista en uno solo\n",
        "    combined_df = pd.concat(df_list)\n",
        "\n",
        "    # Eliminar las filas donde los valores de las tres columnas sean iguales\n",
        "    combined_df = combined_df.drop_duplicates(subset=common_columns, keep=False)\n",
        "\n",
        "    return combined_df"
      ],
      "metadata": {
        "id": "Ytfhidh0bzXC"
      },
      "execution_count": null,
      "outputs": []
    },
    {
      "cell_type": "markdown",
      "source": [
        "#Número total de usuarios y socios\n",
        "Vamos a sacar el número total de usuarios y socios por servicio y cuáles son únicos, independientemente del servicio al que pertenezcan."
      ],
      "metadata": {
        "id": "UQon77Gkix7V"
      }
    },
    {
      "cell_type": "code",
      "source": [
        "df_dict = {\n",
        "    'zp_SAAF': TO_SAAF,\n",
        "    'zp_AT': TO_AT,\n",
        "    'zp_EM':TO_EM,\n",
        "    'zp_LOG':TO_LOG,\n",
        "    'zp_SO': TO_SO\n",
        "}"
      ],
      "metadata": {
        "id": "OANPBSJcixcy"
      },
      "execution_count": null,
      "outputs": []
    },
    {
      "cell_type": "code",
      "source": [
        "# Iterando sobre el diccionario para crear gráficos y analizar impacto\n",
        "for key, df in df_dict.items():\n",
        "  valor = len(df)\n",
        "  print(f'Para el servicio de {key} hay un total de {valor} usuarios.\\n')\n",
        "\n",
        "# Assuming 'df_dict' is your dictionary of DataFrames\n",
        "column_sets = []\n",
        "\n",
        "# Iterate over each DataFrame in the dictionary to collect column sets\n",
        "for key, df in df_dict.items():\n",
        "    column_sets.append(set(df.columns))\n",
        "\n",
        "# Find the intersection of all column sets to get the common columns\n",
        "common_columns = list(set.intersection(*column_sets))\n",
        "\n",
        "# print(\"Common columns across all DataFrames:\", common_columns)\n",
        "\n",
        "# Collect DataFrames with only the common columns\n",
        "dfs_common_cols = [df[common_columns] for df in df_dict.values()]\n",
        "\n",
        "# Use pd.concat to combine all the DataFrames in the list\n",
        "result_df = pd.concat(dfs_common_cols, ignore_index=True)\n",
        "\n",
        "total = len(result_df)\n",
        "print(f'\\nLa provincia de Cuenca cuenta con un total de {total} usuarios y socios distintos.')\n"
      ],
      "metadata": {
        "id": "QZ3Wct82jUDr",
        "outputId": "bdf21c4f-2aa5-435a-aa8a-0471c8e89ba5",
        "colab": {
          "base_uri": "https://localhost:8080/"
        }
      },
      "execution_count": null,
      "outputs": [
        {
          "output_type": "stream",
          "name": "stdout",
          "text": [
            "Para el servicio de zp_SAAF hay un total de 77 usuarios.\n",
            "\n",
            "Para el servicio de zp_AT hay un total de 9 usuarios.\n",
            "\n",
            "Para el servicio de zp_EM hay un total de 15 usuarios.\n",
            "\n",
            "Para el servicio de zp_LOG hay un total de 51 usuarios.\n",
            "\n",
            "Para el servicio de zp_SO hay un total de 61 usuarios.\n",
            "\n",
            "\n",
            "La provincia de Cuenca cuenta con un total de 213 usuarios y socios distintos.\n"
          ]
        }
      ]
    },
    {
      "cell_type": "markdown",
      "source": [
        "##Zonas Prioritarias\n",
        "Vemos el impacto que tiene en las zonas prioritarias."
      ],
      "metadata": {
        "id": "41R1ETSNgyxX"
      }
    },
    {
      "cell_type": "markdown",
      "source": [
        "### Dataframes cruzados con zonas prioritarias\n",
        "\n",
        "Cruzamos todos los dfs con el df de municipios prioritarios para sacar el impacto de cada servicio en estas zonas."
      ],
      "metadata": {
        "id": "iCE0swqIWWZw"
      }
    },
    {
      "cell_type": "code",
      "source": [
        "dict_prio = {\n",
        "    'zp_SAAF': pd.merge(TO_SAAF, mun_pri_clm, left_on='LOCALIDAD', right_on='ZONA PRIORITARIA'),\n",
        "    'zp_AT': pd.merge(TO_AT, mun_pri_clm, left_on='LOCALIDAD', right_on='ZONA PRIORITARIA'),\n",
        "    'zp_EM': pd.merge(TO_EM, mun_pri_clm, left_on='LOCALIDAD', right_on='ZONA PRIORITARIA'),\n",
        "    'zp_LOG': pd.merge(TO_LOG, mun_pri_clm, left_on='LOCALIDAD', right_on='ZONA PRIORITARIA'),\n",
        "    'zp_SO': pd.merge(TO_SO, mun_pri_clm, left_on='LOCALIDAD', right_on='ZONA PRIORITARIA')\n",
        "}"
      ],
      "metadata": {
        "id": "i4n9cHTXcCqI"
      },
      "execution_count": null,
      "outputs": []
    },
    {
      "cell_type": "code",
      "source": [
        "# List of DataFrames\n",
        "dfs = [dict_prio['zp_SAAF'], dict_prio['zp_AT'], dict_prio['zp_EM'], dict_prio['zp_LOG'], dict_prio['zp_SO']]\n",
        "\n",
        "# Corresponding folder paths on Google Drive\n",
        "folder_paths = [\n",
        "    '/content/drive/My Drive/PFG_FASPAS/TO',\n",
        "    '/content/drive/My Drive/PFG_FASPAS/TO',\n",
        "    '/content/drive/My Drive/PFG_FASPAS/TO',\n",
        "    '/content/drive/My Drive/PFG_FASPAS/TO',\n",
        "    '/content/drive/My Drive/PFG_FASPAS/TO'\n",
        "]\n",
        "\n",
        "# Corresponding file names\n",
        "file_names = ['zp_SAAF.xlsx', 'zp_AT.xlsx', 'zp_EM.xlsx', 'zp_LOG.xlsx', 'zp_SO.xlsx']"
      ],
      "metadata": {
        "id": "jjMp_unIxhdJ"
      },
      "execution_count": null,
      "outputs": []
    },
    {
      "cell_type": "code",
      "source": [
        "# Iterate over the DataFrames, folder paths, and file names\n",
        "for df, folder_path, file_name in zip(dfs, folder_paths, file_names):\n",
        "    # Define the complete file path\n",
        "    file_path = f\"{folder_path}/{file_name}\"\n",
        "\n",
        "    # Save the DataFrame as an Excel file\n",
        "    df.to_excel(file_path, index=False)\n",
        "\n",
        "print(\"All DataFrames have been exported successfully.\")"
      ],
      "metadata": {
        "id": "p79pTiXeyADK",
        "outputId": "72145897-ea2d-4323-9370-ff555797a90d",
        "colab": {
          "base_uri": "https://localhost:8080/"
        }
      },
      "execution_count": null,
      "outputs": [
        {
          "output_type": "stream",
          "name": "stdout",
          "text": [
            "All DataFrames have been exported successfully.\n"
          ]
        }
      ]
    },
    {
      "cell_type": "code",
      "source": [
        "# Iterando sobre el diccionario para crear gráficos\n",
        "for key, df in dict_prio.items():\n",
        "    # Calcular el conteo de registros para cada categoría\n",
        "    cat_count = df['LOCALIDAD'].value_counts()\n",
        "\n",
        "    # Crear un gráfico de barras\n",
        "    ax = cat_count.sort_index().plot(kind='bar')\n",
        "\n",
        "    # Personalización adicional\n",
        "    plt.title(f'{key}: Impacto en Zonas por Zonas Prioritarias')\n",
        "    plt.xlabel('ZONA PRIORITARIA')\n",
        "    plt.ylabel('Número de Registros')\n",
        "    plt.xticks(rotation=45)  # Rota las etiquetas del eje X para mejor lectura\n",
        "\n",
        "    # Añadir el número de conteos en la parte superior de cada barra\n",
        "    for i in ax.containers:\n",
        "        ax.bar_label(i, label_type='edge')\n",
        "\n",
        "    # Mostrar el gráfico\n",
        "    plt.show()"
      ],
      "metadata": {
        "id": "yA6sWBBaeR-c"
      },
      "execution_count": null,
      "outputs": []
    },
    {
      "cell_type": "code",
      "source": [
        "# Iterando sobre el diccionario para crear gráficos y analizar impacto\n",
        "nombre = ('zonas prioritarias')\n",
        "for key, df in dict_prio.items():\n",
        "    impact_analysis_per_service(df, key, nombre)"
      ],
      "metadata": {
        "id": "_jZTIFrahZzL"
      },
      "execution_count": null,
      "outputs": []
    },
    {
      "cell_type": "code",
      "source": [
        "# Iterando sobre el diccionario para crear gráficos y analizar impacto\n",
        "for key, df in dict_prio.items():\n",
        "  valor = len(df)\n",
        "  print(f'Para el servicio de {key} hay un total de {valor} usuarios en zonas prioritarias.\\n')"
      ],
      "metadata": {
        "id": "7H-Nh6GeljPg"
      },
      "execution_count": null,
      "outputs": []
    },
    {
      "cell_type": "markdown",
      "source": [
        "Para el informe de impacto real de la provincia de Cuenca, tendremos en cuenta la localidad, la fecha de nacimiento y el género de los registros para no duplicar usuarios."
      ],
      "metadata": {
        "id": "FccobOQhdtwh"
      }
    },
    {
      "cell_type": "code",
      "source": [
        "# Llamar a la función\n",
        "result = pd.merge(result_df, mun_pri_clm, left_on='LOCALIDAD', right_on='ZONA PRIORITARIA')\n",
        "\n",
        "impact_analysis(result)"
      ],
      "metadata": {
        "id": "3FAElvWcdtQg"
      },
      "execution_count": null,
      "outputs": []
    },
    {
      "cell_type": "markdown",
      "source": [
        "##Zonas de Despoblación\n"
      ],
      "metadata": {
        "id": "uXOMcSMt31St"
      }
    },
    {
      "cell_type": "code",
      "source": [
        "dict_mun_desp = {\n",
        "    'md_SAAF': pd.merge(TO_SAAF, mun_desp_clm, left_on='LOCALIDAD', right_on='MUNICIPIO'),\n",
        "    'md_AT': pd.merge(TO_AT, mun_desp_clm, left_on='LOCALIDAD', right_on='MUNICIPIO'),\n",
        "    'md_EM': pd.merge(TO_EM, mun_desp_clm, left_on='LOCALIDAD', right_on='MUNICIPIO'),\n",
        "    'md_LOG': pd.merge(TO_LOG, mun_desp_clm, left_on='LOCALIDAD', right_on='MUNICIPIO'),\n",
        "    'md_SO': pd.merge(TO_SO, mun_desp_clm, left_on='LOCALIDAD', right_on='MUNICIPIO')\n",
        "}"
      ],
      "metadata": {
        "id": "jT8ioqM3_tmj"
      },
      "execution_count": null,
      "outputs": []
    },
    {
      "cell_type": "code",
      "source": [
        "# List of DataFrames\n",
        "dfs = [dict_mun_desp['md_SAAF'], dict_mun_desp['md_AT'], dict_mun_desp['md_EM'], dict_mun_desp['md_LOG'], dict_mun_desp['md_SO']]\n",
        "\n",
        "# Corresponding folder paths on Google Drive\n",
        "folder_paths = [\n",
        "    '/content/drive/My Drive/PFG_FASPAS/TO',\n",
        "    '/content/drive/My Drive/PFG_FASPAS/TO',\n",
        "    '/content/drive/My Drive/PFG_FASPAS/TO',\n",
        "    '/content/drive/My Drive/PFG_FASPAS/TO',\n",
        "    '/content/drive/My Drive/PFG_FASPAS/TO'\n",
        "]\n",
        "\n",
        "# Corresponding file names\n",
        "file_names = ['md_SAAF.xlsx', 'md_AT.xlsx', 'md_EM.xlsx', 'md_LOG.xlsx', 'md_SO.xlsx']\n",
        "\n",
        "# Iterate over the DataFrames, folder paths, and file names\n",
        "for df, folder_path, file_name in zip(dfs, folder_paths, file_names):\n",
        "    # Define the complete file path\n",
        "    file_path = f\"{folder_path}/{file_name}\"\n",
        "\n",
        "    # Save the DataFrame as an Excel file\n",
        "    df.to_excel(file_path, index=False)\n",
        "\n",
        "print(\"All DataFrames have been exported successfully.\")"
      ],
      "metadata": {
        "id": "YQYLxl1Y7ABD",
        "outputId": "acf1c07a-32fb-4ebf-8404-f9b0c19f4ab3",
        "colab": {
          "base_uri": "https://localhost:8080/"
        }
      },
      "execution_count": null,
      "outputs": [
        {
          "output_type": "stream",
          "name": "stdout",
          "text": [
            "All DataFrames have been exported successfully.\n"
          ]
        }
      ]
    },
    {
      "cell_type": "code",
      "source": [
        "# Iterando sobre el diccionario para crear gráficos\n",
        "for key, df in dict_mun_desp.items():\n",
        "    # Calcular el conteo de registros para cada categoría\n",
        "    cat_count = df['LOCALIDAD'].value_counts()\n",
        "\n",
        "    plt.figure(figsize=(12, 5))  # Width=12 inches and Height=5 inches\n",
        "    # Crear un gráfico de barras\n",
        "    ax = cat_count.sort_index().plot(kind='bar')\n",
        "\n",
        "    # Personalización adicional\n",
        "    plt.title(f'{key}: Impacto en Zonas por Zonas Despobladas')\n",
        "    plt.xlabel('ZONA DESPOBLADA')\n",
        "    plt.ylabel('Número de Registros')\n",
        "    plt.xticks(rotation=45, ha = 'right')  # Rota las etiquetas del eje X para mejor lectura\n",
        "    plt.xticks(fontsize=10)\n",
        "\n",
        "    # Añadir el número de conteos en la parte superior de cada barra\n",
        "    for i in ax.containers:\n",
        "        ax.bar_label(i, label_type='edge')\n",
        "\n",
        "    # Mostrar el gráfico\n",
        "    plt.show()"
      ],
      "metadata": {
        "id": "18AxZxXz34e6"
      },
      "execution_count": null,
      "outputs": []
    },
    {
      "cell_type": "code",
      "source": [
        "# Iterando sobre el diccionario para crear gráficos\n",
        "for key, df in dict_mun_desp.items():\n",
        "    # Calcular el conteo de registros para cada categoría\n",
        "    cat_count = df['CLASIFICACION DE ZONA'].value_counts()\n",
        "\n",
        "    plt.figure(figsize=(12, 5))  # Width=12 inches and Height=5 inches\n",
        "    # Crear un gráfico de barras\n",
        "    ax = cat_count.sort_index().plot(kind='bar')\n",
        "\n",
        "    # Personalización adicional\n",
        "    plt.title(f'{key}: Impacto en Zonas por Tipo de Zonas Despobladas')\n",
        "    plt.xlabel('TIPO DE DESPOBLACIÓN')\n",
        "    plt.ylabel('Número de Registros')\n",
        "    plt.xticks(rotation=45, ha = 'right')  # Rota las etiquetas del eje X para mejor lectura\n",
        "    plt.xticks(fontsize=10)\n",
        "\n",
        "    # Añadir el número de conteos en la parte superior de cada barra\n",
        "    for i in ax.containers:\n",
        "        ax.bar_label(i, label_type='edge')\n",
        "\n",
        "    # Mostrar el gráfico\n",
        "    plt.show()"
      ],
      "metadata": {
        "id": "8CbxAiG66TIn"
      },
      "execution_count": null,
      "outputs": []
    },
    {
      "cell_type": "code",
      "source": [
        "# Iterando sobre el diccionario para crear gráficos y analizar impacto\n",
        "nombre = ('zonas despobladas')\n",
        "for key, df in dict_mun_desp.items():\n",
        "    impact_analysis_per_service(df, key, nombre)"
      ],
      "metadata": {
        "id": "EUmwQJNAwdoF"
      },
      "execution_count": null,
      "outputs": []
    },
    {
      "cell_type": "code",
      "source": [
        "# Iterando sobre el diccionario para crear gráficos y analizar impacto\n",
        "nombre = ('zonas despobladas')\n",
        "for key, df in dict_mun_desp.items():\n",
        "    impact_analysis_depopulation(df, key, nombre)"
      ],
      "metadata": {
        "id": "78NhiEgPyOMP"
      },
      "execution_count": null,
      "outputs": []
    },
    {
      "cell_type": "code",
      "source": [
        "# Llamar a la función\n",
        "result = pd.merge(result_df, mun_desp_clm, left_on='LOCALIDAD', right_on='MUNICIPIO')\n",
        "\n",
        "impact_analysis(result)"
      ],
      "metadata": {
        "id": "ymooLx7PxL3Z"
      },
      "execution_count": null,
      "outputs": []
    },
    {
      "cell_type": "markdown",
      "source": [
        "## Áreas de Salud"
      ],
      "metadata": {
        "id": "pI0mJwQWuAVe"
      }
    },
    {
      "cell_type": "code",
      "source": [
        "dict_areas_salud = {\n",
        "    'as_SAAF': pd.merge(TO_SAAF, areas_clm, left_on='LOCALIDAD', right_on='ENTIDAD SINGULAR'),\n",
        "    'as_AT': pd.merge(TO_RT, areas_clm, left_on='LOCALIDAD', right_on='ENTIDAD SINGULAR'),\n",
        "    'as_EM': pd.merge(TO_RM, areas_clm, left_on='LOCALIDAD', right_on='ENTIDAD SINGULAR'),\n",
        "    'as_LOG': pd.merge(TO_LOG, areas_clm, left_on='LOCALIDAD', right_on='ENTIDAD SINGULAR'),\n",
        "    'as_SO': pd.merge(TO_SO, areas_clm, left_on='LOCALIDAD', right_on='ENTIDAD SINGULAR')\n",
        "}"
      ],
      "metadata": {
        "id": "Usz9XD-buMYb"
      },
      "execution_count": null,
      "outputs": []
    },
    {
      "cell_type": "code",
      "source": [
        "# Iterando sobre el diccionario para crear gráficos\n",
        "for key, df in dict_areas_salud.items():\n",
        "    # Calcular el conteo de registros para cada categoría\n",
        "    cat_count = df['ZONA BASICA DE SALUD'].value_counts()\n",
        "\n",
        "    plt.figure(figsize=(12, 5))  # Width=12 inches and Height=5 inches\n",
        "    # Crear un gráfico de barras\n",
        "    ax = cat_count.sort_index().plot(kind='bar')\n",
        "\n",
        "    # Personalización adicional\n",
        "    plt.title(f'{key}: Impacto en ZOona por Zona Básica de Salud')\n",
        "    plt.xlabel('ZONA BÁSICA DE SALUD')\n",
        "    plt.ylabel('Número de Registros')\n",
        "    plt.xticks(rotation=45, ha = 'right')  # Rota las etiquetas del eje X para mejor lectura\n",
        "    plt.xticks(fontsize=10)\n",
        "\n",
        "    # Añadir el número de conteos en la parte superior de cada barra\n",
        "    for i in ax.containers:\n",
        "        ax.bar_label(i, label_type='edge')\n",
        "\n",
        "    # Mostrar el gráfico\n",
        "    plt.show()"
      ],
      "metadata": {
        "id": "2sF8Knmwvw3J"
      },
      "execution_count": null,
      "outputs": []
    },
    {
      "cell_type": "code",
      "source": [
        "# Iterando sobre el diccionario para crear gráficos\n",
        "for key, df in dict_areas_salud.items():\n",
        "    # Calcular el conteo de registros para cada categoría\n",
        "    cat_count = df['AREA DE SALUD'].value_counts()\n",
        "\n",
        "    plt.figure(figsize=(12, 5))  # Width=12 inches and Height=5 inches\n",
        "    # Crear un gráfico de barras\n",
        "    ax = cat_count.sort_index().plot(kind='bar')\n",
        "\n",
        "    # Personalización adicional\n",
        "    plt.title(f'{key}: Impacto en Áreas por Áreas de Salud')\n",
        "    plt.xlabel('ÁREA DE SALUD')\n",
        "    plt.ylabel('Número de Registros')\n",
        "    plt.xticks(rotation=45, ha = 'right')  # Rota las etiquetas del eje X para mejor lectura\n",
        "    plt.xticks(fontsize=10)\n",
        "\n",
        "    # Añadir el número de conteos en la parte superior de cada barra\n",
        "    for i in ax.containers:\n",
        "        ax.bar_label(i, label_type='edge')\n",
        "\n",
        "    # Mostrar el gráfico\n",
        "    plt.show()"
      ],
      "metadata": {
        "id": "4UL56g9VwFKw"
      },
      "execution_count": null,
      "outputs": []
    }
  ]
}