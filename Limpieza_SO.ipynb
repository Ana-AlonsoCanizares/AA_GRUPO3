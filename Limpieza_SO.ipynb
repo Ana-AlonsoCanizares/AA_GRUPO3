{
  "cells": [
    {
      "cell_type": "markdown",
      "metadata": {
        "id": "view-in-github",
        "colab_type": "text"
      },
      "source": [
        "<a href=\"https://colab.research.google.com/github/Ana-AlonsoCanizares/AA_GRUPO3/blob/main/Limpieza_SO.ipynb\" target=\"_parent\"><img src=\"https://colab.research.google.com/assets/colab-badge.svg\" alt=\"Open In Colab\"/></a>"
      ]
    },
    {
      "cell_type": "markdown",
      "source": [
        "#Limipieza SOCIOS"
      ],
      "metadata": {
        "id": "1EjsqsX9M9_Z"
      }
    },
    {
      "cell_type": "code",
      "source": [
        "pip install unidecode"
      ],
      "metadata": {
        "id": "w4k-HIpkNCOX",
        "outputId": "9a716ae6-ab82-4dc2-cb19-392397b92318",
        "colab": {
          "base_uri": "https://localhost:8080/"
        }
      },
      "execution_count": 1,
      "outputs": [
        {
          "output_type": "stream",
          "name": "stdout",
          "text": [
            "Collecting unidecode\n",
            "  Downloading Unidecode-1.3.8-py3-none-any.whl (235 kB)\n",
            "\u001b[2K     \u001b[90m━━━━━━━━━━━━━━━━━━━━━━━━━━━━━━━━━━━━━━━━\u001b[0m \u001b[32m235.5/235.5 kB\u001b[0m \u001b[31m1.9 MB/s\u001b[0m eta \u001b[36m0:00:00\u001b[0m\n",
            "\u001b[?25hInstalling collected packages: unidecode\n",
            "Successfully installed unidecode-1.3.8\n"
          ]
        }
      ]
    },
    {
      "cell_type": "code",
      "source": [
        "import os\n",
        "import pandas as pd\n",
        "import numpy as np\n",
        "from unidecode import unidecode\n",
        "import matplotlib.pyplot as plt"
      ],
      "metadata": {
        "id": "jrAwAX8tNG48"
      },
      "execution_count": 2,
      "outputs": []
    },
    {
      "cell_type": "code",
      "source": [
        "# CÓDIGO SOLO PARA EL CURRO (PQ NO PUEDO ACCEDER AL DRIVE)\n",
        "CU_SO = pd.read_excel('/content/CU_SO.xlsx')\n",
        "TO_SO = pd.read_excel('/content/TO_SO.xlsx')\n",
        "# AB_SO = pd.read_excel('/content/AB_SO.xlsx')\n",
        "GU_SO = pd.read_excel('/content/GU_SO.xlsx')\n",
        "CR_SO = pd.read_excel('/content/CR_SO.xlsx')"
      ],
      "metadata": {
        "id": "xDphnlmGP3bK"
      },
      "execution_count": 14,
      "outputs": []
    },
    {
      "cell_type": "code",
      "source": [
        "GU_SO.info()"
      ],
      "metadata": {
        "id": "s_GEWbkBS4h5",
        "outputId": "c0529cd4-c295-4d27-d8b2-1675aa7cd75c",
        "colab": {
          "base_uri": "https://localhost:8080/"
        }
      },
      "execution_count": 23,
      "outputs": [
        {
          "output_type": "stream",
          "name": "stdout",
          "text": [
            "<class 'pandas.core.frame.DataFrame'>\n",
            "RangeIndex: 130 entries, 0 to 129\n",
            "Data columns (total 9 columns):\n",
            " #   Column     Non-Null Count  Dtype  \n",
            "---  ------     --------------  -----  \n",
            " 0   Género     130 non-null    object \n",
            " 1   Fecha nac  130 non-null    object \n",
            " 2   Localidad  130 non-null    object \n",
            " 3   CP         130 non-null    int64  \n",
            " 4   Disc       130 non-null    object \n",
            " 5   %          24 non-null     float64\n",
            " 6   Prót aud   88 non-null     object \n",
            " 7   Tipo       30 non-null     object \n",
            " 8   Mod com    33 non-null     object \n",
            "dtypes: float64(1), int64(1), object(7)\n",
            "memory usage: 9.3+ KB\n"
          ]
        }
      ]
    },
    {
      "cell_type": "code",
      "source": [
        "# Definir la función que realiza las transformaciones\n",
        "def transform_df(df):\n",
        "    col_excluded = ['FECHA NACIMIENTO', 'FECHA DE NACIMIENTO', 'FECHA NAC']\n",
        "\n",
        "    # Convertir todas las columnas de tipo object a mayúsculas, excepto las especificadas\n",
        "    for column in df.columns:\n",
        "        if df[column].dtype == 'object' and column not in col_excluded:\n",
        "            df[column] = df[column].apply(lambda x: unidecode(x.upper()) if isinstance(x, str) else x)\n",
        "\n",
        "    # Ahora, aplicamos unidecode a los nombres de las columnas\n",
        "    df.columns = [unidecode(col.upper()) for col in df.columns]\n",
        "\n",
        "    return df\n",
        "\n",
        "def mapping_names(df):\n",
        "    # Diccionario con los mapeos deseados\n",
        "    columns_map = {\n",
        "        'CODIGO POSTAL': 'CP',\n",
        "        'MUNICIPIO': 'LOCALIDAD',\n",
        "        'FECHA DE SOCIO/A': 'FECHA ALTA SOCIO',\n",
        "        'FECHA NAC': 'FECHA NACIMIENTO',\n",
        "        'F NAC': 'FECHA NACIMIENTO',\n",
        "        'PROT AUD': 'PROTESIS',\n",
        "    }\n",
        "\n",
        "    # Crear un nuevo diccionario para los nombres de columnas\n",
        "    rename_columns = {}\n",
        "\n",
        "    # Iterar sobre las columnas y aplicar el mapeo\n",
        "    for col in df.columns:\n",
        "        norm_col = columns_map.get(col, col)\n",
        "        rename_columns[col] = norm_col\n",
        "\n",
        "    # Renombrar las columnas del DataFrame\n",
        "    df.rename(columns=rename_columns, inplace=True)\n",
        "    return df\n",
        "\n",
        "def CP_year(df):\n",
        "    if 'FECHA NACIMIENTO' in df.columns:\n",
        "        if not pd.api.types.is_datetime64_any_dtype(df['FECHA NACIMIENTO']):\n",
        "            df['FECHA NACIMIENTO'] = pd.to_datetime(df['FECHA NACIMIENTO'], errors='coerce')\n",
        "\n",
        "        df['FECHA NACIMIENTO'] = df['FECHA NACIMIENTO'].apply(lambda x: np.nan if str(x).isdigit() or x == '(ADULTO)' else x)\n",
        "        df['YEAR NACIMIENTO'] = df['FECHA NACIMIENTO'].dt.year\n",
        "\n",
        "    if 'CP' in df.columns:\n",
        "        # Convertir a numérico, dejando como NaN los valores que no sean convertibles\n",
        "        df['CP'] = pd.to_numeric(df['CP'], errors='coerce').astype('Int64')\n",
        "\n",
        "        df = df.dropna(subset=['CP', 'LOCALIDAD'], how='all')\n",
        "        CP_loc_filter = df['CP'].isnull() & df['LOCALIDAD'].isnull()\n",
        "        df = df[~CP_loc_filter]\n",
        "\n",
        "    elif 'LOCALIDAD' in df.columns:\n",
        "        df = df.dropna(subset=['LOCALIDAD'], how='all')\n",
        "        loc_filter = df['LOCALIDAD'].isnull()\n",
        "        df = df[~loc_filter]\n",
        "\n",
        "    # Limpiar los datos eliminando contenido entre paréntesis\n",
        "    df['LOCALIDAD'] = df['LOCALIDAD'].str.replace(r'\\s*\\([^)]*\\)', '', regex=True)\n",
        "    return df\n",
        "\n",
        "\n",
        "def keep_columns(df):\n",
        "    desired_columns = ['FECHA NACIMIENTO', 'GENERO', 'LOCALIDAD', 'CP', 'PROVINCIA', 'YEAR NACIMIENTO', 'FECHA ALTA SOCIO']\n",
        "    # Filtrar el DataFrame para incluir solo las columnas que existen en el DataFrame\n",
        "    filtered_df = df[df.columns.intersection(desired_columns)]\n",
        "    return filtered_df"
      ],
      "metadata": {
        "id": "ray--8plSmVq"
      },
      "execution_count": 44,
      "outputs": []
    },
    {
      "cell_type": "code",
      "source": [
        "# AB_SO = transform_df(AB_SO)\n",
        "# AB_SO = mapping_names(AB_SO)\n",
        "# AB_SO = CP_year(AB_SO)\n",
        "# AB_SO = keep_columns(AB_SO)\n",
        "\n",
        "CU_SO = transform_df(CU_SO)\n",
        "CU_SO = mapping_names(CU_SO)\n",
        "CU_SO = CP_year(CU_SO)\n",
        "CU_SO = keep_columns(CU_SO)\n",
        "\n",
        "CR_SO = transform_df(CR_SO)\n",
        "CR_SO = mapping_names(CR_SO)\n",
        "CR_SO = CP_year(CR_SO)\n",
        "CR_SO = keep_columns(CR_SO)\n",
        "\n",
        "GU_SO = transform_df(GU_SO)\n",
        "GU_SO = mapping_names(GU_SO)\n",
        "GU_SO = CP_year(GU_SO)\n",
        "GU_SO = keep_columns(GU_SO)\n",
        "\n",
        "TO_SO = transform_df(TO_SO)\n",
        "TO_SO = mapping_names(TO_SO)\n",
        "TO_SO = CP_year(TO_SO)\n",
        "TO_SO = keep_columns(TO_SO)"
      ],
      "metadata": {
        "id": "zGLJUIE9Ubdm"
      },
      "execution_count": 45,
      "outputs": []
    },
    {
      "cell_type": "code",
      "source": [
        "CLM_SO = pd.concat([CU_SO, CR_SO, GU_SO, TO_SO])"
      ],
      "metadata": {
        "id": "sD0rWvLCUzqK"
      },
      "execution_count": 47,
      "outputs": []
    },
    {
      "cell_type": "code",
      "source": [
        "CLM_SO.info()"
      ],
      "metadata": {
        "id": "OS48A3bUYmlr",
        "outputId": "20c10be2-faa1-482d-c52e-db300d01cbef",
        "colab": {
          "base_uri": "https://localhost:8080/"
        }
      },
      "execution_count": 50,
      "outputs": [
        {
          "output_type": "stream",
          "name": "stdout",
          "text": [
            "<class 'pandas.core.frame.DataFrame'>\n",
            "Index: 791 entries, 0 to 490\n",
            "Data columns (total 7 columns):\n",
            " #   Column            Non-Null Count  Dtype         \n",
            "---  ------            --------------  -----         \n",
            " 0   GENERO            309 non-null    object        \n",
            " 1   CP                306 non-null    Int64         \n",
            " 2   LOCALIDAD         791 non-null    object        \n",
            " 3   PROVINCIA         61 non-null     object        \n",
            " 4   FECHA ALTA SOCIO  58 non-null     datetime64[ns]\n",
            " 5   FECHA NACIMIENTO  241 non-null    datetime64[ns]\n",
            " 6   YEAR NACIMIENTO   241 non-null    float64       \n",
            "dtypes: Int64(1), datetime64[ns](2), float64(1), object(3)\n",
            "memory usage: 50.2+ KB\n"
          ]
        }
      ]
    }
  ],
  "metadata": {
    "colab": {
      "name": "Welcome To Colab",
      "provenance": [],
      "include_colab_link": true
    },
    "kernelspec": {
      "display_name": "Python 3",
      "name": "python3"
    }
  },
  "nbformat": 4,
  "nbformat_minor": 0
}