{
  "cells": [
    {
      "cell_type": "markdown",
      "metadata": {
        "id": "view-in-github",
        "colab_type": "text"
      },
      "source": [
        "<a href=\"https://colab.research.google.com/github/Ana-AlonsoCanizares/AA_GRUPO3/blob/main/Limpieza_SO.ipynb\" target=\"_parent\"><img src=\"https://colab.research.google.com/assets/colab-badge.svg\" alt=\"Open In Colab\"/></a>"
      ]
    },
    {
      "cell_type": "markdown",
      "source": [
        "#Limipieza SOCIOS"
      ],
      "metadata": {
        "id": "1EjsqsX9M9_Z"
      }
    },
    {
      "cell_type": "code",
      "source": [
        "from google.colab import drive\n",
        "drive.mount('/content/drive')"
      ],
      "metadata": {
        "id": "eOEO0b1Y7bTP",
        "outputId": "246f5ab3-a828-408a-96e2-02dd3c3ec96f",
        "colab": {
          "base_uri": "https://localhost:8080/"
        }
      },
      "execution_count": 1,
      "outputs": [
        {
          "output_type": "stream",
          "name": "stdout",
          "text": [
            "Mounted at /content/drive\n"
          ]
        }
      ]
    },
    {
      "cell_type": "code",
      "source": [
        "pip install unidecode"
      ],
      "metadata": {
        "id": "w4k-HIpkNCOX",
        "outputId": "d8ea6bbc-3fe1-45db-f483-27b94c346b75",
        "colab": {
          "base_uri": "https://localhost:8080/"
        }
      },
      "execution_count": 2,
      "outputs": [
        {
          "output_type": "stream",
          "name": "stdout",
          "text": [
            "Collecting unidecode\n",
            "  Downloading Unidecode-1.3.8-py3-none-any.whl (235 kB)\n",
            "\u001b[?25l     \u001b[90m━━━━━━━━━━━━━━━━━━━━━━━━━━━━━━━━━━━━━━━━\u001b[0m \u001b[32m0.0/235.5 kB\u001b[0m \u001b[31m?\u001b[0m eta \u001b[36m-:--:--\u001b[0m\r\u001b[2K     \u001b[91m━━━━━━━━━━━━━━━━━━━━━━━━━━\u001b[0m\u001b[90m╺\u001b[0m\u001b[90m━━━━━━━━━━━━━\u001b[0m \u001b[32m153.6/235.5 kB\u001b[0m \u001b[31m4.4 MB/s\u001b[0m eta \u001b[36m0:00:01\u001b[0m\r\u001b[2K     \u001b[90m━━━━━━━━━━━━━━━━━━━━━━━━━━━━━━━━━━━━━━━━\u001b[0m \u001b[32m235.5/235.5 kB\u001b[0m \u001b[31m4.6 MB/s\u001b[0m eta \u001b[36m0:00:00\u001b[0m\n",
            "\u001b[?25hInstalling collected packages: unidecode\n",
            "Successfully installed unidecode-1.3.8\n"
          ]
        }
      ]
    },
    {
      "cell_type": "code",
      "source": [
        "import os\n",
        "import pandas as pd\n",
        "import numpy as np\n",
        "from unidecode import unidecode\n",
        "import matplotlib.pyplot as plt"
      ],
      "metadata": {
        "id": "jrAwAX8tNG48"
      },
      "execution_count": 3,
      "outputs": []
    },
    {
      "cell_type": "code",
      "source": [
        "# CÓDIGO SOLO PARA EL CURRO (PQ NO PUEDO ACCEDER AL DRIVE)\n",
        "# CU_SO = pd.read_excel('/content/CU_SO.xlsx')\n",
        "# TO_SO = pd.read_excel('/content/TO_SO.xlsx')\n",
        "# AB_SO = pd.read_excel('/content/AB_SO.xlsx')\n",
        "# GU_SO = pd.read_excel('/content/GU_SO.xlsx')\n",
        "# CR_SO = pd.read_excel('/content/CR_SO.xlsx')"
      ],
      "metadata": {
        "id": "xDphnlmGP3bK"
      },
      "execution_count": 5,
      "outputs": []
    },
    {
      "cell_type": "code",
      "source": [
        "# Asegúrarse de cambiar la ruta por el nombre real de la carpeta en Google Drive\n",
        "folder_path = '/content/drive/My Drive/PFG_FASPAS/SO'\n",
        "docs_xlsx = [f for f in os.listdir(folder_path) if f.endswith('.xlsx')]\n",
        "print(docs_xlsx)"
      ],
      "metadata": {
        "id": "yfs7777l7iWK",
        "outputId": "0b5e2ef5-3991-4bd8-ec7f-520e4dd6e332",
        "colab": {
          "base_uri": "https://localhost:8080/"
        }
      },
      "execution_count": 11,
      "outputs": [
        {
          "output_type": "stream",
          "name": "stdout",
          "text": [
            "['CR_SO.xlsx', 'TO_SO.xlsx', 'GU_SO.xlsx', 'AB_SO.xlsx', 'CU_SO.xlsx']\n"
          ]
        }
      ]
    },
    {
      "cell_type": "code",
      "source": [
        "dic_dataframes = {}\n",
        "\n",
        "for doc in docs_xlsx:\n",
        "    entire_path = os.path.join(folder_path, doc)\n",
        "    df = pd.read_excel(entire_path)\n",
        "    # Uso el nombre del archivo como clave\n",
        "    dic_dataframes[doc] = df"
      ],
      "metadata": {
        "id": "rcUHjX5yi5xv"
      },
      "execution_count": 12,
      "outputs": []
    },
    {
      "cell_type": "code",
      "source": [
        "# Imprimir todas las claves\n",
        "for clave in dic_dataframes.keys():\n",
        "    print(clave)"
      ],
      "metadata": {
        "id": "0HU4TYrtjCP5",
        "outputId": "0f0ea30b-692e-4703-a829-bdba08ddf032",
        "colab": {
          "base_uri": "https://localhost:8080/"
        }
      },
      "execution_count": 13,
      "outputs": [
        {
          "output_type": "stream",
          "name": "stdout",
          "text": [
            "CR_SO.xlsx\n",
            "TO_SO.xlsx\n",
            "GU_SO.xlsx\n",
            "AB_SO.xlsx\n",
            "CU_SO.xlsx\n"
          ]
        }
      ]
    },
    {
      "cell_type": "code",
      "source": [
        "dic_dataframes['CR_SO.xlsx']"
      ],
      "metadata": {
        "id": "TgqpUUfA_wUD",
        "outputId": "001acc6c-e7c0-40ff-8078-565b794ea65c",
        "colab": {
          "base_uri": "https://localhost:8080/",
          "height": 423
        }
      },
      "execution_count": 28,
      "outputs": [
        {
          "output_type": "execute_result",
          "data": {
            "text/plain": [
              "    Id socio                      Nombre y Apellidos     GENERO    LOCALIDAD  \\\n",
              "0          1         JUAN MANUEL BARCO YRURETAGOYENA  MASCULINO  CIUDAD REAL   \n",
              "1          2                 MANUEL RAMÍREZ PALACIOS  MASCULINO  CIUDAD REAL   \n",
              "2          3                JESÚS RODRÍGUEZ GONZÁLEZ  MASCULINO  CIUDAD REAL   \n",
              "3          4               JOSÉ IGNACIO ORTÚZAR SANZ  MASCULINO  CIUDAD REAL   \n",
              "4          5                     ANGEL GASCÓN GARCÍA  MASCULINO  CIUDAD REAL   \n",
              "..       ...                                     ...        ...          ...   \n",
              "116       23               MARIA DEL PIL GIL CABAÑAS   FEMENINO       MADRID   \n",
              "117       24                    MARCOS ROBLES ROBLES  MASCULINO          NaN   \n",
              "118       25                   BARBARA ZAMORA ZAPATA   FEMENINO  CIUDAD REAL   \n",
              "119       26            JOSE ANTONIO MAYORAL MONTEJO  MASCULINO  CIUDAD REAL   \n",
              "120       27  MARIA DEL PILAR FERNÁNDEZ DÍAZ DE MERA   FEMENINO  CIUDAD REAL   \n",
              "\n",
              "    Código postal  \n",
              "0           13002  \n",
              "1           13001  \n",
              "2           13001  \n",
              "3           13001  \n",
              "4           13005  \n",
              "..            ...  \n",
              "116         28032  \n",
              "117           NaN  \n",
              "118         13002  \n",
              "119         13004  \n",
              "120         13004  \n",
              "\n",
              "[121 rows x 5 columns]"
            ],
            "text/html": [
              "\n",
              "  <div id=\"df-ea2c0668-092d-4e05-95fe-9356be2df99b\" class=\"colab-df-container\">\n",
              "    <div>\n",
              "<style scoped>\n",
              "    .dataframe tbody tr th:only-of-type {\n",
              "        vertical-align: middle;\n",
              "    }\n",
              "\n",
              "    .dataframe tbody tr th {\n",
              "        vertical-align: top;\n",
              "    }\n",
              "\n",
              "    .dataframe thead th {\n",
              "        text-align: right;\n",
              "    }\n",
              "</style>\n",
              "<table border=\"1\" class=\"dataframe\">\n",
              "  <thead>\n",
              "    <tr style=\"text-align: right;\">\n",
              "      <th></th>\n",
              "      <th>Id socio</th>\n",
              "      <th>Nombre y Apellidos</th>\n",
              "      <th>GENERO</th>\n",
              "      <th>LOCALIDAD</th>\n",
              "      <th>Código postal</th>\n",
              "    </tr>\n",
              "  </thead>\n",
              "  <tbody>\n",
              "    <tr>\n",
              "      <th>0</th>\n",
              "      <td>1</td>\n",
              "      <td>JUAN MANUEL BARCO YRURETAGOYENA</td>\n",
              "      <td>MASCULINO</td>\n",
              "      <td>CIUDAD REAL</td>\n",
              "      <td>13002</td>\n",
              "    </tr>\n",
              "    <tr>\n",
              "      <th>1</th>\n",
              "      <td>2</td>\n",
              "      <td>MANUEL RAMÍREZ PALACIOS</td>\n",
              "      <td>MASCULINO</td>\n",
              "      <td>CIUDAD REAL</td>\n",
              "      <td>13001</td>\n",
              "    </tr>\n",
              "    <tr>\n",
              "      <th>2</th>\n",
              "      <td>3</td>\n",
              "      <td>JESÚS RODRÍGUEZ GONZÁLEZ</td>\n",
              "      <td>MASCULINO</td>\n",
              "      <td>CIUDAD REAL</td>\n",
              "      <td>13001</td>\n",
              "    </tr>\n",
              "    <tr>\n",
              "      <th>3</th>\n",
              "      <td>4</td>\n",
              "      <td>JOSÉ IGNACIO ORTÚZAR SANZ</td>\n",
              "      <td>MASCULINO</td>\n",
              "      <td>CIUDAD REAL</td>\n",
              "      <td>13001</td>\n",
              "    </tr>\n",
              "    <tr>\n",
              "      <th>4</th>\n",
              "      <td>5</td>\n",
              "      <td>ANGEL GASCÓN GARCÍA</td>\n",
              "      <td>MASCULINO</td>\n",
              "      <td>CIUDAD REAL</td>\n",
              "      <td>13005</td>\n",
              "    </tr>\n",
              "    <tr>\n",
              "      <th>...</th>\n",
              "      <td>...</td>\n",
              "      <td>...</td>\n",
              "      <td>...</td>\n",
              "      <td>...</td>\n",
              "      <td>...</td>\n",
              "    </tr>\n",
              "    <tr>\n",
              "      <th>116</th>\n",
              "      <td>23</td>\n",
              "      <td>MARIA DEL PIL GIL CABAÑAS</td>\n",
              "      <td>FEMENINO</td>\n",
              "      <td>MADRID</td>\n",
              "      <td>28032</td>\n",
              "    </tr>\n",
              "    <tr>\n",
              "      <th>117</th>\n",
              "      <td>24</td>\n",
              "      <td>MARCOS ROBLES ROBLES</td>\n",
              "      <td>MASCULINO</td>\n",
              "      <td>NaN</td>\n",
              "      <td>NaN</td>\n",
              "    </tr>\n",
              "    <tr>\n",
              "      <th>118</th>\n",
              "      <td>25</td>\n",
              "      <td>BARBARA ZAMORA ZAPATA</td>\n",
              "      <td>FEMENINO</td>\n",
              "      <td>CIUDAD REAL</td>\n",
              "      <td>13002</td>\n",
              "    </tr>\n",
              "    <tr>\n",
              "      <th>119</th>\n",
              "      <td>26</td>\n",
              "      <td>JOSE ANTONIO MAYORAL MONTEJO</td>\n",
              "      <td>MASCULINO</td>\n",
              "      <td>CIUDAD REAL</td>\n",
              "      <td>13004</td>\n",
              "    </tr>\n",
              "    <tr>\n",
              "      <th>120</th>\n",
              "      <td>27</td>\n",
              "      <td>MARIA DEL PILAR FERNÁNDEZ DÍAZ DE MERA</td>\n",
              "      <td>FEMENINO</td>\n",
              "      <td>CIUDAD REAL</td>\n",
              "      <td>13004</td>\n",
              "    </tr>\n",
              "  </tbody>\n",
              "</table>\n",
              "<p>121 rows × 5 columns</p>\n",
              "</div>\n",
              "    <div class=\"colab-df-buttons\">\n",
              "\n",
              "  <div class=\"colab-df-container\">\n",
              "    <button class=\"colab-df-convert\" onclick=\"convertToInteractive('df-ea2c0668-092d-4e05-95fe-9356be2df99b')\"\n",
              "            title=\"Convert this dataframe to an interactive table.\"\n",
              "            style=\"display:none;\">\n",
              "\n",
              "  <svg xmlns=\"http://www.w3.org/2000/svg\" height=\"24px\" viewBox=\"0 -960 960 960\">\n",
              "    <path d=\"M120-120v-720h720v720H120Zm60-500h600v-160H180v160Zm220 220h160v-160H400v160Zm0 220h160v-160H400v160ZM180-400h160v-160H180v160Zm440 0h160v-160H620v160ZM180-180h160v-160H180v160Zm440 0h160v-160H620v160Z\"/>\n",
              "  </svg>\n",
              "    </button>\n",
              "\n",
              "  <style>\n",
              "    .colab-df-container {\n",
              "      display:flex;\n",
              "      gap: 12px;\n",
              "    }\n",
              "\n",
              "    .colab-df-convert {\n",
              "      background-color: #E8F0FE;\n",
              "      border: none;\n",
              "      border-radius: 50%;\n",
              "      cursor: pointer;\n",
              "      display: none;\n",
              "      fill: #1967D2;\n",
              "      height: 32px;\n",
              "      padding: 0 0 0 0;\n",
              "      width: 32px;\n",
              "    }\n",
              "\n",
              "    .colab-df-convert:hover {\n",
              "      background-color: #E2EBFA;\n",
              "      box-shadow: 0px 1px 2px rgba(60, 64, 67, 0.3), 0px 1px 3px 1px rgba(60, 64, 67, 0.15);\n",
              "      fill: #174EA6;\n",
              "    }\n",
              "\n",
              "    .colab-df-buttons div {\n",
              "      margin-bottom: 4px;\n",
              "    }\n",
              "\n",
              "    [theme=dark] .colab-df-convert {\n",
              "      background-color: #3B4455;\n",
              "      fill: #D2E3FC;\n",
              "    }\n",
              "\n",
              "    [theme=dark] .colab-df-convert:hover {\n",
              "      background-color: #434B5C;\n",
              "      box-shadow: 0px 1px 3px 1px rgba(0, 0, 0, 0.15);\n",
              "      filter: drop-shadow(0px 1px 2px rgba(0, 0, 0, 0.3));\n",
              "      fill: #FFFFFF;\n",
              "    }\n",
              "  </style>\n",
              "\n",
              "    <script>\n",
              "      const buttonEl =\n",
              "        document.querySelector('#df-ea2c0668-092d-4e05-95fe-9356be2df99b button.colab-df-convert');\n",
              "      buttonEl.style.display =\n",
              "        google.colab.kernel.accessAllowed ? 'block' : 'none';\n",
              "\n",
              "      async function convertToInteractive(key) {\n",
              "        const element = document.querySelector('#df-ea2c0668-092d-4e05-95fe-9356be2df99b');\n",
              "        const dataTable =\n",
              "          await google.colab.kernel.invokeFunction('convertToInteractive',\n",
              "                                                    [key], {});\n",
              "        if (!dataTable) return;\n",
              "\n",
              "        const docLinkHtml = 'Like what you see? Visit the ' +\n",
              "          '<a target=\"_blank\" href=https://colab.research.google.com/notebooks/data_table.ipynb>data table notebook</a>'\n",
              "          + ' to learn more about interactive tables.';\n",
              "        element.innerHTML = '';\n",
              "        dataTable['output_type'] = 'display_data';\n",
              "        await google.colab.output.renderOutput(dataTable, element);\n",
              "        const docLink = document.createElement('div');\n",
              "        docLink.innerHTML = docLinkHtml;\n",
              "        element.appendChild(docLink);\n",
              "      }\n",
              "    </script>\n",
              "  </div>\n",
              "\n",
              "\n",
              "<div id=\"df-fe80009e-0d65-4700-aa77-50cbbbde1a1a\">\n",
              "  <button class=\"colab-df-quickchart\" onclick=\"quickchart('df-fe80009e-0d65-4700-aa77-50cbbbde1a1a')\"\n",
              "            title=\"Suggest charts\"\n",
              "            style=\"display:none;\">\n",
              "\n",
              "<svg xmlns=\"http://www.w3.org/2000/svg\" height=\"24px\"viewBox=\"0 0 24 24\"\n",
              "     width=\"24px\">\n",
              "    <g>\n",
              "        <path d=\"M19 3H5c-1.1 0-2 .9-2 2v14c0 1.1.9 2 2 2h14c1.1 0 2-.9 2-2V5c0-1.1-.9-2-2-2zM9 17H7v-7h2v7zm4 0h-2V7h2v10zm4 0h-2v-4h2v4z\"/>\n",
              "    </g>\n",
              "</svg>\n",
              "  </button>\n",
              "\n",
              "<style>\n",
              "  .colab-df-quickchart {\n",
              "      --bg-color: #E8F0FE;\n",
              "      --fill-color: #1967D2;\n",
              "      --hover-bg-color: #E2EBFA;\n",
              "      --hover-fill-color: #174EA6;\n",
              "      --disabled-fill-color: #AAA;\n",
              "      --disabled-bg-color: #DDD;\n",
              "  }\n",
              "\n",
              "  [theme=dark] .colab-df-quickchart {\n",
              "      --bg-color: #3B4455;\n",
              "      --fill-color: #D2E3FC;\n",
              "      --hover-bg-color: #434B5C;\n",
              "      --hover-fill-color: #FFFFFF;\n",
              "      --disabled-bg-color: #3B4455;\n",
              "      --disabled-fill-color: #666;\n",
              "  }\n",
              "\n",
              "  .colab-df-quickchart {\n",
              "    background-color: var(--bg-color);\n",
              "    border: none;\n",
              "    border-radius: 50%;\n",
              "    cursor: pointer;\n",
              "    display: none;\n",
              "    fill: var(--fill-color);\n",
              "    height: 32px;\n",
              "    padding: 0;\n",
              "    width: 32px;\n",
              "  }\n",
              "\n",
              "  .colab-df-quickchart:hover {\n",
              "    background-color: var(--hover-bg-color);\n",
              "    box-shadow: 0 1px 2px rgba(60, 64, 67, 0.3), 0 1px 3px 1px rgba(60, 64, 67, 0.15);\n",
              "    fill: var(--button-hover-fill-color);\n",
              "  }\n",
              "\n",
              "  .colab-df-quickchart-complete:disabled,\n",
              "  .colab-df-quickchart-complete:disabled:hover {\n",
              "    background-color: var(--disabled-bg-color);\n",
              "    fill: var(--disabled-fill-color);\n",
              "    box-shadow: none;\n",
              "  }\n",
              "\n",
              "  .colab-df-spinner {\n",
              "    border: 2px solid var(--fill-color);\n",
              "    border-color: transparent;\n",
              "    border-bottom-color: var(--fill-color);\n",
              "    animation:\n",
              "      spin 1s steps(1) infinite;\n",
              "  }\n",
              "\n",
              "  @keyframes spin {\n",
              "    0% {\n",
              "      border-color: transparent;\n",
              "      border-bottom-color: var(--fill-color);\n",
              "      border-left-color: var(--fill-color);\n",
              "    }\n",
              "    20% {\n",
              "      border-color: transparent;\n",
              "      border-left-color: var(--fill-color);\n",
              "      border-top-color: var(--fill-color);\n",
              "    }\n",
              "    30% {\n",
              "      border-color: transparent;\n",
              "      border-left-color: var(--fill-color);\n",
              "      border-top-color: var(--fill-color);\n",
              "      border-right-color: var(--fill-color);\n",
              "    }\n",
              "    40% {\n",
              "      border-color: transparent;\n",
              "      border-right-color: var(--fill-color);\n",
              "      border-top-color: var(--fill-color);\n",
              "    }\n",
              "    60% {\n",
              "      border-color: transparent;\n",
              "      border-right-color: var(--fill-color);\n",
              "    }\n",
              "    80% {\n",
              "      border-color: transparent;\n",
              "      border-right-color: var(--fill-color);\n",
              "      border-bottom-color: var(--fill-color);\n",
              "    }\n",
              "    90% {\n",
              "      border-color: transparent;\n",
              "      border-bottom-color: var(--fill-color);\n",
              "    }\n",
              "  }\n",
              "</style>\n",
              "\n",
              "  <script>\n",
              "    async function quickchart(key) {\n",
              "      const quickchartButtonEl =\n",
              "        document.querySelector('#' + key + ' button');\n",
              "      quickchartButtonEl.disabled = true;  // To prevent multiple clicks.\n",
              "      quickchartButtonEl.classList.add('colab-df-spinner');\n",
              "      try {\n",
              "        const charts = await google.colab.kernel.invokeFunction(\n",
              "            'suggestCharts', [key], {});\n",
              "      } catch (error) {\n",
              "        console.error('Error during call to suggestCharts:', error);\n",
              "      }\n",
              "      quickchartButtonEl.classList.remove('colab-df-spinner');\n",
              "      quickchartButtonEl.classList.add('colab-df-quickchart-complete');\n",
              "    }\n",
              "    (() => {\n",
              "      let quickchartButtonEl =\n",
              "        document.querySelector('#df-fe80009e-0d65-4700-aa77-50cbbbde1a1a button');\n",
              "      quickchartButtonEl.style.display =\n",
              "        google.colab.kernel.accessAllowed ? 'block' : 'none';\n",
              "    })();\n",
              "  </script>\n",
              "</div>\n",
              "    </div>\n",
              "  </div>\n"
            ],
            "application/vnd.google.colaboratory.intrinsic+json": {
              "type": "dataframe",
              "summary": "{\n  \"name\": \"dic_dataframes['CR_SO\",\n  \"rows\": 121,\n  \"fields\": [\n    {\n      \"column\": \"Id socio\",\n      \"properties\": {\n        \"dtype\": \"string\",\n        \"num_unique_values\": 93,\n        \"samples\": [\n          41,\n          23,\n          56\n        ],\n        \"semantic_type\": \"\",\n        \"description\": \"\"\n      }\n    },\n    {\n      \"column\": \"Nombre y Apellidos\",\n      \"properties\": {\n        \"dtype\": \"string\",\n        \"num_unique_values\": 121,\n        \"samples\": [\n          \"ASUNCI\\u00d3N MARCH\\u00c1N\",\n          \"ALICIA RIPOLL CURIEL\",\n          \"ANGEL GASC\\u00d3N GARC\\u00cdA\"\n        ],\n        \"semantic_type\": \"\",\n        \"description\": \"\"\n      }\n    },\n    {\n      \"column\": \"GENERO\",\n      \"properties\": {\n        \"dtype\": \"category\",\n        \"num_unique_values\": 3,\n        \"samples\": [\n          \"MASCULINO\",\n          \"FEMENINO\",\n          \"GENERO\"\n        ],\n        \"semantic_type\": \"\",\n        \"description\": \"\"\n      }\n    },\n    {\n      \"column\": \"LOCALIDAD\",\n      \"properties\": {\n        \"dtype\": \"category\",\n        \"num_unique_values\": 49,\n        \"samples\": [\n          \"VALDEPE\\u00d1AS (CIUDAD REAL)\",\n          \"LOJA (GRANADA)\",\n          \"MALAGON (CIUDAD REAL)\"\n        ],\n        \"semantic_type\": \"\",\n        \"description\": \"\"\n      }\n    },\n    {\n      \"column\": \"C\\u00f3digo postal\",\n      \"properties\": {\n        \"dtype\": \"category\",\n        \"num_unique_values\": 41,\n        \"samples\": [\n          \"13230\",\n          \"13600\",\n          \"13500\"\n        ],\n        \"semantic_type\": \"\",\n        \"description\": \"\"\n      }\n    }\n  ]\n}"
            }
          },
          "metadata": {},
          "execution_count": 28
        }
      ]
    },
    {
      "cell_type": "code",
      "source": [
        "# Definir la función que realiza las transformaciones\n",
        "def transform_df(df):\n",
        "    col_excluded = ['Fecha nac', 'F NAC','FECHA INSCRIPCION', 'FECHA DE SOCIO/A', 'BAJA']\n",
        "\n",
        "    # Convertir todas las columnas de tipo object a mayúsculas, excepto las especificadas\n",
        "    for column in df.columns:\n",
        "        if df[column].dtype == 'object' and column not in col_excluded:\n",
        "            df[column] = df[column].apply(lambda x: unidecode(x.upper()) if isinstance(x, str) else x)\n",
        "\n",
        "    # Ahora, aplicamos unidecode a los nombres de las columnas\n",
        "    df.columns = [unidecode(col.upper()) for col in df.columns]\n",
        "\n",
        "    return df\n",
        "\n",
        "def mapping_names(df):\n",
        "    # Diccionario con los mapeos deseados\n",
        "    columns_map = {\n",
        "        'CODIGO POSTAL': 'CP',\n",
        "        'MUNICIPIO': 'LOCALIDAD',\n",
        "        'FECHA DE SOCIO/A': 'FECHA ALTA SOCIO',\n",
        "        'FECHA INSCRIPCION': 'FECHA ALTA SOCIO',\n",
        "        'ANO SOCIO': 'YEAR FECHA ALTA SOCIO',\n",
        "        'FECHA NAC': 'FECHA NACIMIENTO',\n",
        "        'F NAC': 'FECHA NACIMIENTO',\n",
        "        'PROT AUD': 'PROTESIS',\n",
        "        'SEXO': 'GENERO'\n",
        "    }\n",
        "\n",
        "    # Crear un nuevo diccionario para los nombres de columnas\n",
        "    rename_columns = {}\n",
        "\n",
        "    # Iterar sobre las columnas y aplicar el mapeo\n",
        "    for col in df.columns:\n",
        "        norm_col = columns_map.get(col, col)\n",
        "        rename_columns[col] = norm_col\n",
        "\n",
        "    # Renombrar las columnas del DataFrame\n",
        "    df.rename(columns=rename_columns, inplace=True)\n",
        "    return df\n",
        "\n",
        "def AB_localidad_CP(df):\n",
        "  # Extraer el código postal (CP)\n",
        "  df['CP'] = df['LOCALIDAD'].str.extract(r'(\\d+)', expand=False)\n",
        "\n",
        "  # Extraer el nombre de la localidad (LOCALIDAD)\n",
        "  df['LOCALIDAD'] = df['LOCALIDAD'].str.extract(r'(\\D+)', expand=False).str.strip()\n",
        "\n",
        "  if 'FECHA ALTA SOCIO' in df.columns:\n",
        "    print('ENTRA')\n",
        "    df['YEAR FECHA ALTA SOCIO'] = df['FECHA ALTA SOCIO'].dt.year\n",
        "  return df\n",
        "\n",
        "def CP_year(df):\n",
        "    if 'FECHA NACIMIENTO' in df.columns:\n",
        "        if not pd.api.types.is_datetime64_any_dtype(df['FECHA NACIMIENTO']):\n",
        "            df['FECHA NACIMIENTO'] = pd.to_datetime(df['FECHA NACIMIENTO'], errors='coerce')\n",
        "\n",
        "        df['FECHA NACIMIENTO'] = df['FECHA NACIMIENTO'].apply(lambda x: np.nan if str(x).isdigit() or x == '(ADULTO)' else x)\n",
        "        df['YEAR NACIMIENTO'] = df['FECHA NACIMIENTO'].dt.year\n",
        "\n",
        "    if 'CP' in df.columns:\n",
        "        # Convertir a numérico, dejando como NaN los valores que no sean convertibles\n",
        "        df['CP'] = pd.to_numeric(df['CP'], errors='coerce').astype('Int64')\n",
        "\n",
        "        df = df.dropna(subset=['CP', 'LOCALIDAD'], how='all')\n",
        "        CP_loc_filter = df['CP'].isnull() & df['LOCALIDAD'].isnull()\n",
        "        df = df[~CP_loc_filter]\n",
        "\n",
        "    elif 'LOCALIDAD' in df.columns:\n",
        "        df = df.dropna(subset=['LOCALIDAD'], how='all')\n",
        "        loc_filter = df['LOCALIDAD'].isnull()\n",
        "        df = df[~loc_filter]\n",
        "\n",
        "    # Limpiar los datos eliminando contenido entre paréntesis\n",
        "    df['LOCALIDAD'] = df['LOCALIDAD'].str.replace(r'\\s*\\([^)]*\\)', '', regex=True)\n",
        "\n",
        "    if 'FECHA ALTA SOCIO' in df.columns:\n",
        "      # Ensure 'FECHA ALTA SOCIO' is in datetime format\n",
        "      df['FECHA ALTA SOCIO'] = pd.to_datetime(df['FECHA ALTA SOCIO'], errors='coerce')\n",
        "      # Create 'YEAR ALTA SOCIO' column\n",
        "      df['YEAR ALTA SOCIO'] = df['FECHA ALTA SOCIO'].dt.year\n",
        "    return df\n",
        "\n",
        "def keep_columns(df):\n",
        "    desired_columns = ['FECHA NACIMIENTO', 'GENERO', 'LOCALIDAD', 'CP', 'PROVINCIA', 'YEAR NACIMIENTO', 'FECHA ALTA SOCIO', 'YEAR ALTA SOCIO']\n",
        "    # Filtrar el DataFrame para incluir solo las columnas que existen en el DataFrame\n",
        "    filtered_df = df[df.columns.intersection(desired_columns)]\n",
        "\n",
        "\n",
        "    if 'GENERO' in df.columns:\n",
        "      # Normalize the 'GENERO' column\n",
        "      mujer = ['MUJER', 'HEMBRA', 'FEMENINO', 'FEM', 'F', 'M']\n",
        "      hombre = ['HOMBRE', 'MACHO', 'MASCULINO', 'MASC', 'MAS', 'H']\n",
        "\n",
        "      filtered_df['GENERO'] = filtered_df['GENERO'].replace(mujer, 'MUJER')\n",
        "      filtered_df['GENERO'] = filtered_df['GENERO'].replace(hombre, 'HOMBRE')\n",
        "\n",
        "    return filtered_df\n",
        "\n",
        "def delete_rows(df):\n",
        "  if 'CP' in df.columns:\n",
        "    df = df.dropna(subset=['CP', 'LOCALIDAD'], how='all')\n",
        "  else:\n",
        "    df = df.dropna(subset=['LOCALIDAD'], how='all')\n",
        "  return df"
      ],
      "metadata": {
        "id": "ray--8plSmVq"
      },
      "execution_count": 29,
      "outputs": []
    },
    {
      "cell_type": "code",
      "source": [
        "for df_key, df in dic_dataframes.items():\n",
        "    # Apply transformations for DataFrames with keys containing 'AB'\n",
        "    if 'AB' in df_key:\n",
        "        dic_dataframes[df_key] = transform_df(df)\n",
        "        dic_dataframes[df_key] = mapping_names(df)\n",
        "        dic_dataframes[df_key] = AB_localidad_CP(df)\n",
        "        dic_dataframes[df_key] = keep_columns(df)\n",
        "        dic_dataframes[df_key] = delete_rows(df)\n",
        "    else:\n",
        "        # Apply different transformations for other DataFrames\n",
        "        dic_dataframes[df_key] = transform_df(df)\n",
        "        dic_dataframes[df_key] = mapping_names(df)\n",
        "        dic_dataframes[df_key] = CP_year(df)\n",
        "        dic_dataframes[df_key] = keep_columns(df)\n",
        "        dic_dataframes[df_key] = delete_rows(df)"
      ],
      "metadata": {
        "id": "UmZHS_IVhyQK",
        "outputId": "27cc1dc1-cdbe-44c6-d8cf-8214fac02750",
        "colab": {
          "base_uri": "https://localhost:8080/"
        }
      },
      "execution_count": 30,
      "outputs": [
        {
          "output_type": "stream",
          "name": "stderr",
          "text": [
            "<ipython-input-29-ab52a64a4d00>:95: SettingWithCopyWarning: \n",
            "A value is trying to be set on a copy of a slice from a DataFrame.\n",
            "Try using .loc[row_indexer,col_indexer] = value instead\n",
            "\n",
            "See the caveats in the documentation: https://pandas.pydata.org/pandas-docs/stable/user_guide/indexing.html#returning-a-view-versus-a-copy\n",
            "  filtered_df['GENERO'] = filtered_df['GENERO'].replace(mujer, 'MUJER')\n",
            "<ipython-input-29-ab52a64a4d00>:96: SettingWithCopyWarning: \n",
            "A value is trying to be set on a copy of a slice from a DataFrame.\n",
            "Try using .loc[row_indexer,col_indexer] = value instead\n",
            "\n",
            "See the caveats in the documentation: https://pandas.pydata.org/pandas-docs/stable/user_guide/indexing.html#returning-a-view-versus-a-copy\n",
            "  filtered_df['GENERO'] = filtered_df['GENERO'].replace(hombre, 'HOMBRE')\n",
            "<ipython-input-29-ab52a64a4d00>:95: SettingWithCopyWarning: \n",
            "A value is trying to be set on a copy of a slice from a DataFrame.\n",
            "Try using .loc[row_indexer,col_indexer] = value instead\n",
            "\n",
            "See the caveats in the documentation: https://pandas.pydata.org/pandas-docs/stable/user_guide/indexing.html#returning-a-view-versus-a-copy\n",
            "  filtered_df['GENERO'] = filtered_df['GENERO'].replace(mujer, 'MUJER')\n",
            "<ipython-input-29-ab52a64a4d00>:96: SettingWithCopyWarning: \n",
            "A value is trying to be set on a copy of a slice from a DataFrame.\n",
            "Try using .loc[row_indexer,col_indexer] = value instead\n",
            "\n",
            "See the caveats in the documentation: https://pandas.pydata.org/pandas-docs/stable/user_guide/indexing.html#returning-a-view-versus-a-copy\n",
            "  filtered_df['GENERO'] = filtered_df['GENERO'].replace(hombre, 'HOMBRE')\n",
            "<ipython-input-29-ab52a64a4d00>:95: SettingWithCopyWarning: \n",
            "A value is trying to be set on a copy of a slice from a DataFrame.\n",
            "Try using .loc[row_indexer,col_indexer] = value instead\n",
            "\n",
            "See the caveats in the documentation: https://pandas.pydata.org/pandas-docs/stable/user_guide/indexing.html#returning-a-view-versus-a-copy\n",
            "  filtered_df['GENERO'] = filtered_df['GENERO'].replace(mujer, 'MUJER')\n",
            "<ipython-input-29-ab52a64a4d00>:96: SettingWithCopyWarning: \n",
            "A value is trying to be set on a copy of a slice from a DataFrame.\n",
            "Try using .loc[row_indexer,col_indexer] = value instead\n",
            "\n",
            "See the caveats in the documentation: https://pandas.pydata.org/pandas-docs/stable/user_guide/indexing.html#returning-a-view-versus-a-copy\n",
            "  filtered_df['GENERO'] = filtered_df['GENERO'].replace(hombre, 'HOMBRE')\n"
          ]
        },
        {
          "output_type": "stream",
          "name": "stdout",
          "text": [
            "ENTRA\n"
          ]
        },
        {
          "output_type": "stream",
          "name": "stderr",
          "text": [
            "<ipython-input-29-ab52a64a4d00>:95: SettingWithCopyWarning: \n",
            "A value is trying to be set on a copy of a slice from a DataFrame.\n",
            "Try using .loc[row_indexer,col_indexer] = value instead\n",
            "\n",
            "See the caveats in the documentation: https://pandas.pydata.org/pandas-docs/stable/user_guide/indexing.html#returning-a-view-versus-a-copy\n",
            "  filtered_df['GENERO'] = filtered_df['GENERO'].replace(mujer, 'MUJER')\n",
            "<ipython-input-29-ab52a64a4d00>:96: SettingWithCopyWarning: \n",
            "A value is trying to be set on a copy of a slice from a DataFrame.\n",
            "Try using .loc[row_indexer,col_indexer] = value instead\n",
            "\n",
            "See the caveats in the documentation: https://pandas.pydata.org/pandas-docs/stable/user_guide/indexing.html#returning-a-view-versus-a-copy\n",
            "  filtered_df['GENERO'] = filtered_df['GENERO'].replace(hombre, 'HOMBRE')\n"
          ]
        }
      ]
    },
    {
      "cell_type": "code",
      "source": [
        "# # CÓDIGO PARA EL CURRO PQ NO PUEDO USAR EL DRIVE\n",
        "# AB_SO = transform_df(AB_SO)\n",
        "# AB_SO = mapping_names(AB_SO)\n",
        "# AB_SO = AB_localidad_CP(AB_SO)\n",
        "# AB_SO = CP_year(AB_SO)\n",
        "# AB_SO = keep_columns(AB_SO)\n",
        "# AB_SO = delete_rows(AB_SO)\n",
        "\n",
        "# CU_SO = transform_df(CU_SO)\n",
        "# CU_SO = mapping_names(CU_SO)\n",
        "# CU_SO = CP_year(CU_SO)\n",
        "# CU_SO = keep_columns(CU_SO)\n",
        "# CU_SO = delete_rows(CU_SO)\n",
        "\n",
        "# CR_SO = transform_df(CR_SO)\n",
        "# CR_SO = mapping_names(CR_SO)\n",
        "# CR_SO = CP_year(CR_SO)\n",
        "# CR_SO = keep_columns(CR_SO)\n",
        "# CR_SO = delete_rows(CR_SO)\n",
        "\n",
        "# GU_SO = transform_df(GU_SO)\n",
        "# GU_SO = mapping_names(GU_SO)\n",
        "# GU_SO = CP_year(GU_SO)\n",
        "# GU_SO = keep_columns(GU_SO)\n",
        "# GU_SO = delete_rows(GU_SO)\n",
        "\n",
        "# TO_SO = transform_df(TO_SO)\n",
        "# TO_SO = mapping_names(TO_SO)\n",
        "# TO_SO = CP_year(TO_SO)\n",
        "# TO_SO = keep_columns(TO_SO)\n",
        "# TO_SO = delete_rows(TO_SO)"
      ],
      "metadata": {
        "id": "zGLJUIE9Ubdm"
      },
      "execution_count": 31,
      "outputs": []
    },
    {
      "cell_type": "code",
      "source": [
        "AB_SO = dic_dataframes.get(\"AB_SO.xlsx\")\n",
        "CR_SO = dic_dataframes.get(\"CR_SO.xlsx\")\n",
        "GU_SO = dic_dataframes.get(\"GU_SO.xlsx\")\n",
        "CU_SO = dic_dataframes.get(\"CU_SO.xlsx\")\n",
        "TO_SO = dic_dataframes.get(\"TO_SO.xlsx\")"
      ],
      "metadata": {
        "id": "q5Y53IMLA7ZL"
      },
      "execution_count": 33,
      "outputs": []
    },
    {
      "cell_type": "code",
      "source": [
        "CLM_SO = pd.concat([AB_SO, CR_SO, CU_SO, GU_SO, TO_SO])"
      ],
      "metadata": {
        "id": "sD0rWvLCUzqK"
      },
      "execution_count": 34,
      "outputs": []
    },
    {
      "cell_type": "code",
      "source": [
        "# List of DataFrames\n",
        "dfs = [AB_SO, CR_SO, CU_SO, GU_SO, TO_SO, CLM_SO]\n",
        "\n",
        "# Corresponding folder paths on Google Drive\n",
        "folder_paths = [\n",
        "    '/content/drive/My Drive/PFG_FASPAS/AB',\n",
        "    '/content/drive/My Drive/PFG_FASPAS/CR',\n",
        "    '/content/drive/My Drive/PFG_FASPAS/CU',\n",
        "    '/content/drive/My Drive/PFG_FASPAS/GU',\n",
        "    '/content/drive/My Drive/PFG_FASPAS/TO',\n",
        "    '/content/drive/My Drive/PFG_FASPAS/CLM'\n",
        "]\n",
        "\n",
        "# Corresponding file names\n",
        "file_names = ['AB_SO_limpio.xlsx', 'CR_SO_limpio.xlsx', 'CU_SO_limpio.xlsx', 'GU_SO_limpio.xlsx', 'TO_SO_limpio.xlsx', 'CLM_SO_limpio.xlsx']"
      ],
      "metadata": {
        "id": "n69zzOEU6f5Z"
      },
      "execution_count": 35,
      "outputs": []
    },
    {
      "cell_type": "code",
      "source": [
        "# Iterate over the DataFrames, folder paths, and file names\n",
        "for df, folder_path, file_name in zip(dfs, folder_paths, file_names):\n",
        "    # Define the complete file path\n",
        "    file_path = f\"{folder_path}/{file_name}\"\n",
        "\n",
        "    # Save the DataFrame as an Excel file\n",
        "    df.to_excel(file_path, index=False)\n",
        "\n",
        "print(\"All DataFrames have been exported successfully.\")"
      ],
      "metadata": {
        "id": "L9PLwcES0E-m",
        "outputId": "52c8ae49-abee-45ec-bf7f-d6fae9c2318c",
        "colab": {
          "base_uri": "https://localhost:8080/"
        }
      },
      "execution_count": 36,
      "outputs": [
        {
          "output_type": "stream",
          "name": "stdout",
          "text": [
            "All DataFrames have been exported successfully.\n"
          ]
        }
      ]
    }
  ],
  "metadata": {
    "colab": {
      "name": "Welcome To Colab",
      "provenance": [],
      "include_colab_link": true
    },
    "kernelspec": {
      "display_name": "Python 3",
      "name": "python3"
    }
  },
  "nbformat": 4,
  "nbformat_minor": 0
}