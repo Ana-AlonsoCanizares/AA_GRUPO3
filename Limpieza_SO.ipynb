{
  "cells": [
    {
      "cell_type": "markdown",
      "metadata": {
        "id": "view-in-github",
        "colab_type": "text"
      },
      "source": [
        "<a href=\"https://colab.research.google.com/github/Ana-AlonsoCanizares/AA_GRUPO3/blob/main/Limpieza_SO.ipynb\" target=\"_parent\"><img src=\"https://colab.research.google.com/assets/colab-badge.svg\" alt=\"Open In Colab\"/></a>"
      ]
    },
    {
      "cell_type": "markdown",
      "source": [
        "#Limipieza SOCIOS"
      ],
      "metadata": {
        "id": "1EjsqsX9M9_Z"
      }
    },
    {
      "cell_type": "markdown",
      "source": [
        "### Carga de archivos\n",
        "Se sacan los archivos de Google Drive de la carpeta donde se encuentran contenidos los datos de los Socios."
      ],
      "metadata": {
        "id": "jHL9tdIh1Uj6"
      }
    },
    {
      "cell_type": "code",
      "source": [
        "from google.colab import drive\n",
        "drive.mount('/content/drive')"
      ],
      "metadata": {
        "id": "eOEO0b1Y7bTP",
        "outputId": "246f5ab3-a828-408a-96e2-02dd3c3ec96f",
        "colab": {
          "base_uri": "https://localhost:8080/"
        }
      },
      "execution_count": null,
      "outputs": [
        {
          "output_type": "stream",
          "name": "stdout",
          "text": [
            "Mounted at /content/drive\n"
          ]
        }
      ]
    },
    {
      "cell_type": "code",
      "source": [
        "pip install unidecode"
      ],
      "metadata": {
        "id": "w4k-HIpkNCOX",
        "outputId": "fbff9fc5-f126-4d55-ca26-fff95411efcc",
        "colab": {
          "base_uri": "https://localhost:8080/"
        }
      },
      "execution_count": null,
      "outputs": [
        {
          "output_type": "stream",
          "name": "stdout",
          "text": [
            "Collecting unidecode\n",
            "  Downloading Unidecode-1.3.8-py3-none-any.whl (235 kB)\n",
            "\u001b[2K     \u001b[90m━━━━━━━━━━━━━━━━━━━━━━━━━━━━━━━━━━━━━━━━\u001b[0m \u001b[32m235.5/235.5 kB\u001b[0m \u001b[31m2.0 MB/s\u001b[0m eta \u001b[36m0:00:00\u001b[0m\n",
            "\u001b[?25hInstalling collected packages: unidecode\n",
            "Successfully installed unidecode-1.3.8\n"
          ]
        }
      ]
    },
    {
      "cell_type": "code",
      "source": [
        "import os\n",
        "import pandas as pd\n",
        "import numpy as np\n",
        "from unidecode import unidecode\n",
        "import matplotlib.pyplot as plt"
      ],
      "metadata": {
        "id": "jrAwAX8tNG48"
      },
      "execution_count": null,
      "outputs": []
    },
    {
      "cell_type": "code",
      "source": [
        "# # CÓDIGO SOLO PARA EL CURRO (PQ NO PUEDO ACCEDER AL DRIVE)\n",
        "# CU_SO = pd.read_excel('/content/CU_SO.xlsx')\n",
        "# TO_SO = pd.read_excel('/content/TO_SO.xlsx')\n",
        "# AB_SO = pd.read_excel('/content/AB_SO.xlsx')\n",
        "# GU_SO = pd.read_excel('/content/GU_SO.xlsx')\n",
        "# CR_SO = pd.read_excel('/content/CR_SO.xlsx')"
      ],
      "metadata": {
        "id": "xDphnlmGP3bK"
      },
      "execution_count": null,
      "outputs": []
    },
    {
      "cell_type": "code",
      "source": [
        "# Asegúrarse de cambiar la ruta por el nombre real de la carpeta en Google Drive\n",
        "folder_path = '/content/drive/My Drive/PFG_FASPAS/SO'\n",
        "docs_xlsx = [f for f in os.listdir(folder_path) if f.endswith('.xlsx')]\n",
        "print(docs_xlsx)"
      ],
      "metadata": {
        "id": "yfs7777l7iWK",
        "outputId": "0b5e2ef5-3991-4bd8-ec7f-520e4dd6e332",
        "colab": {
          "base_uri": "https://localhost:8080/"
        }
      },
      "execution_count": null,
      "outputs": [
        {
          "output_type": "stream",
          "name": "stdout",
          "text": [
            "['CR_SO.xlsx', 'TO_SO.xlsx', 'GU_SO.xlsx', 'AB_SO.xlsx', 'CU_SO.xlsx']\n"
          ]
        }
      ]
    },
    {
      "cell_type": "code",
      "source": [
        "dic_dataframes = {}\n",
        "\n",
        "for doc in docs_xlsx:\n",
        "    entire_path = os.path.join(folder_path, doc)\n",
        "    df = pd.read_excel(entire_path)\n",
        "    # Uso el nombre del archivo como clave\n",
        "    dic_dataframes[doc] = df"
      ],
      "metadata": {
        "id": "rcUHjX5yi5xv"
      },
      "execution_count": null,
      "outputs": []
    },
    {
      "cell_type": "code",
      "source": [
        "# Imprimir todas las claves\n",
        "for clave in dic_dataframes.keys():\n",
        "    print(clave)"
      ],
      "metadata": {
        "id": "0HU4TYrtjCP5",
        "outputId": "0f0ea30b-692e-4703-a829-bdba08ddf032",
        "colab": {
          "base_uri": "https://localhost:8080/"
        }
      },
      "execution_count": null,
      "outputs": [
        {
          "output_type": "stream",
          "name": "stdout",
          "text": [
            "CR_SO.xlsx\n",
            "TO_SO.xlsx\n",
            "GU_SO.xlsx\n",
            "AB_SO.xlsx\n",
            "CU_SO.xlsx\n"
          ]
        }
      ]
    },
    {
      "cell_type": "markdown",
      "source": [
        "###Transformaciones en los dfs\n",
        "1. transform_df(df). Convierte todas las columnas de tipo object a mayúsculas y les aplica unidecode, excluyendo ciertas columnas de fecha. También convierte los nombres de las columnas a mayúsculas y les aplica unidecode.\n",
        "\n",
        "2. mapping_names(df). Renombra ciertas columnas del DataFrame utilizando un diccionario de mapeo para estandarizar los nombres, facilitando la consistencia en el manejo de datos.\n",
        "\n",
        "3. AB_localidad_CP(df). Extrae el código postal y el nombre de la localidad desde una columna combinada 'LOCALIDAD'. Si está presente, también extrae el año de la columna 'FECHA ALTA SOCIO'.\n",
        "\n",
        "4. CP_year(df). Realiza varias transformaciones:\n",
        "\n",
        "*   Convierte 'FECHA NACIMIENTO' a formato datetime y elimina datos inválidos.\n",
        "*   Extrae el año de 'FECHA NACIMIENTO'.\n",
        "*   Convierte la columna 'CP' a valores numéricos y filtra filas donde tanto 'CP' como 'LOCALIDAD' son nulos.\n",
        "*   Limpia los datos de 'LOCALIDAD' eliminando contenido entre paréntesis.\n",
        "*   Si está presente, convierte 'FECHA ALTA SOCIO' a formato datetime y extrae el año.\n",
        "\n",
        "5. keep_columns(df). Filtra el DataFrame para conservar solo un conjunto específico de columnas necesarias. Además, normaliza los valores de la columna 'GENERO' a 'MUJER' o 'HOMBRE'.\n",
        "\n",
        "6. delete_rows(df). Elimina filas donde tanto 'CP' como 'LOCALIDAD' son nulos, o si 'CP' no está presente, elimina filas donde 'LOCALIDAD' es nulo.\n",
        "\n",
        "Estas funciones están diseñadas para limpiar, transformar y estandarizar los datos de un DataFrame, facilitando su análisis y manipulación posterior."
      ],
      "metadata": {
        "id": "mJWUwrtB1YMT"
      }
    },
    {
      "cell_type": "code",
      "source": [
        "# Definir la función que realiza las transformaciones\n",
        "def transform_df(df):\n",
        "    col_excluded = ['Fecha nac', 'F NAC','FECHA INSCRIPCION', 'FECHA DE SOCIO/A', 'BAJA']\n",
        "\n",
        "    # Convertir todas las columnas de tipo object a mayúsculas, excepto las especificadas\n",
        "    for column in df.columns:\n",
        "        if df[column].dtype == 'object' and column not in col_excluded:\n",
        "            df[column] = df[column].apply(lambda x: unidecode(x.upper()) if isinstance(x, str) else x)\n",
        "\n",
        "    # Ahora, aplicamos unidecode a los nombres de las columnas\n",
        "    df.columns = [unidecode(col.upper()) for col in df.columns]\n",
        "\n",
        "    return df\n",
        "\n",
        "def mapping_names(df):\n",
        "    # Diccionario con los mapeos deseados\n",
        "    columns_map = {\n",
        "        'CODIGO POSTAL': 'CP',\n",
        "        'MUNICIPIO': 'LOCALIDAD',\n",
        "        'FECHA DE SOCIO/A': 'FECHA ALTA SOCIO',\n",
        "        'FECHA INSCRIPCION': 'FECHA ALTA SOCIO',\n",
        "        'ANO SOCIO': 'YEAR FECHA ALTA SOCIO',\n",
        "        'FECHA NAC': 'FECHA NACIMIENTO',\n",
        "        'F NAC': 'FECHA NACIMIENTO',\n",
        "        'PROT AUD': 'PROTESIS',\n",
        "        'SEXO': 'GENERO'\n",
        "    }\n",
        "\n",
        "    # Crear un nuevo diccionario para los nombres de columnas\n",
        "    rename_columns = {}\n",
        "\n",
        "    # Iterar sobre las columnas y aplicar el mapeo\n",
        "    for col in df.columns:\n",
        "        norm_col = columns_map.get(col, col)\n",
        "        rename_columns[col] = norm_col\n",
        "\n",
        "    # Renombrar las columnas del DataFrame\n",
        "    df.rename(columns=rename_columns, inplace=True)\n",
        "    return df\n",
        "\n",
        "def AB_localidad_CP(df):\n",
        "  # Extraer el código postal (CP)\n",
        "  df['CP'] = df['LOCALIDAD'].str.extract(r'(\\d+)', expand=False)\n",
        "\n",
        "  # Extraer el nombre de la localidad (LOCALIDAD)\n",
        "  df['LOCALIDAD'] = df['LOCALIDAD'].str.extract(r'(\\D+)', expand=False).str.strip()\n",
        "\n",
        "  if 'FECHA ALTA SOCIO' in df.columns:\n",
        "    print('ENTRA')\n",
        "    df['YEAR FECHA ALTA SOCIO'] = df['FECHA ALTA SOCIO'].dt.year\n",
        "  return df\n",
        "\n",
        "def CP_year(df):\n",
        "    if 'FECHA NACIMIENTO' in df.columns:\n",
        "        if not pd.api.types.is_datetime64_any_dtype(df['FECHA NACIMIENTO']):\n",
        "            df['FECHA NACIMIENTO'] = pd.to_datetime(df['FECHA NACIMIENTO'], errors='coerce')\n",
        "\n",
        "        df['FECHA NACIMIENTO'] = df['FECHA NACIMIENTO'].apply(lambda x: np.nan if str(x).isdigit() or x == '(ADULTO)' else x)\n",
        "        df['YEAR NACIMIENTO'] = df['FECHA NACIMIENTO'].dt.year\n",
        "\n",
        "    if 'CP' in df.columns:\n",
        "        # Convertir a numérico, dejando como NaN los valores que no sean convertibles\n",
        "        df['CP'] = pd.to_numeric(df['CP'], errors='coerce').astype('Int64')\n",
        "\n",
        "        df = df.dropna(subset=['CP', 'LOCALIDAD'], how='all')\n",
        "        CP_loc_filter = df['CP'].isnull() & df['LOCALIDAD'].isnull()\n",
        "        df = df[~CP_loc_filter]\n",
        "\n",
        "    elif 'LOCALIDAD' in df.columns:\n",
        "        df = df.dropna(subset=['LOCALIDAD'], how='all')\n",
        "        loc_filter = df['LOCALIDAD'].isnull()\n",
        "        df = df[~loc_filter]\n",
        "\n",
        "    # Limpiar los datos eliminando contenido entre paréntesis\n",
        "    df['LOCALIDAD'] = df['LOCALIDAD'].str.replace(r'\\s*\\([^)]*\\)', '', regex=True)\n",
        "\n",
        "    if 'FECHA ALTA SOCIO' in df.columns:\n",
        "      # Ensure 'FECHA ALTA SOCIO' is in datetime format\n",
        "      df['FECHA ALTA SOCIO'] = pd.to_datetime(df['FECHA ALTA SOCIO'], errors='coerce')\n",
        "      # Create 'YEAR ALTA SOCIO' column\n",
        "      df['YEAR ALTA SOCIO'] = df['FECHA ALTA SOCIO'].dt.year\n",
        "    return df\n",
        "\n",
        "def keep_columns(df):\n",
        "    desired_columns = ['FECHA NACIMIENTO', 'GENERO', 'LOCALIDAD', 'CP', 'PROVINCIA', 'YEAR NACIMIENTO', 'FECHA ALTA SOCIO', 'YEAR ALTA SOCIO']\n",
        "    # Filtrar el DataFrame para incluir solo las columnas que existen en el DataFrame\n",
        "    filtered_df = df[df.columns.intersection(desired_columns)]\n",
        "\n",
        "\n",
        "    if 'GENERO' in df.columns:\n",
        "      # Normalize the 'GENERO' column\n",
        "      mujer = ['MUJER', 'HEMBRA', 'FEMENINO', 'FEM', 'F', 'M']\n",
        "      hombre = ['HOMBRE', 'MACHO', 'MASCULINO', 'MASC', 'MAS', 'H']\n",
        "\n",
        "      filtered_df['GENERO'] = filtered_df['GENERO'].replace(mujer, 'MUJER')\n",
        "      filtered_df['GENERO'] = filtered_df['GENERO'].replace(hombre, 'HOMBRE')\n",
        "\n",
        "    return filtered_df\n",
        "\n",
        "def delete_rows(df):\n",
        "  if 'CP' in df.columns:\n",
        "    df = df.dropna(subset=['CP', 'LOCALIDAD'], how='all')\n",
        "  else:\n",
        "    df = df.dropna(subset=['LOCALIDAD'], how='all')\n",
        "  return df"
      ],
      "metadata": {
        "id": "ray--8plSmVq"
      },
      "execution_count": null,
      "outputs": []
    },
    {
      "cell_type": "code",
      "source": [
        "for df_key, df in dic_dataframes.items():\n",
        "    # Apply transformations for DataFrames with keys containing 'AB'\n",
        "    if 'AB' in df_key:\n",
        "        dic_dataframes[df_key] = transform_df(df)\n",
        "        dic_dataframes[df_key] = mapping_names(df)\n",
        "        dic_dataframes[df_key] = AB_localidad_CP(df)\n",
        "        dic_dataframes[df_key] = keep_columns(df)\n",
        "        dic_dataframes[df_key] = delete_rows(df)\n",
        "    else:\n",
        "        # Apply different transformations for other DataFrames\n",
        "        dic_dataframes[df_key] = transform_df(df)\n",
        "        dic_dataframes[df_key] = mapping_names(df)\n",
        "        dic_dataframes[df_key] = CP_year(df)\n",
        "        dic_dataframes[df_key] = keep_columns(df)\n",
        "        dic_dataframes[df_key] = delete_rows(df)"
      ],
      "metadata": {
        "id": "UmZHS_IVhyQK",
        "outputId": "27cc1dc1-cdbe-44c6-d8cf-8214fac02750",
        "colab": {
          "base_uri": "https://localhost:8080/"
        }
      },
      "execution_count": null,
      "outputs": [
        {
          "output_type": "stream",
          "name": "stderr",
          "text": [
            "<ipython-input-29-ab52a64a4d00>:95: SettingWithCopyWarning: \n",
            "A value is trying to be set on a copy of a slice from a DataFrame.\n",
            "Try using .loc[row_indexer,col_indexer] = value instead\n",
            "\n",
            "See the caveats in the documentation: https://pandas.pydata.org/pandas-docs/stable/user_guide/indexing.html#returning-a-view-versus-a-copy\n",
            "  filtered_df['GENERO'] = filtered_df['GENERO'].replace(mujer, 'MUJER')\n",
            "<ipython-input-29-ab52a64a4d00>:96: SettingWithCopyWarning: \n",
            "A value is trying to be set on a copy of a slice from a DataFrame.\n",
            "Try using .loc[row_indexer,col_indexer] = value instead\n",
            "\n",
            "See the caveats in the documentation: https://pandas.pydata.org/pandas-docs/stable/user_guide/indexing.html#returning-a-view-versus-a-copy\n",
            "  filtered_df['GENERO'] = filtered_df['GENERO'].replace(hombre, 'HOMBRE')\n",
            "<ipython-input-29-ab52a64a4d00>:95: SettingWithCopyWarning: \n",
            "A value is trying to be set on a copy of a slice from a DataFrame.\n",
            "Try using .loc[row_indexer,col_indexer] = value instead\n",
            "\n",
            "See the caveats in the documentation: https://pandas.pydata.org/pandas-docs/stable/user_guide/indexing.html#returning-a-view-versus-a-copy\n",
            "  filtered_df['GENERO'] = filtered_df['GENERO'].replace(mujer, 'MUJER')\n",
            "<ipython-input-29-ab52a64a4d00>:96: SettingWithCopyWarning: \n",
            "A value is trying to be set on a copy of a slice from a DataFrame.\n",
            "Try using .loc[row_indexer,col_indexer] = value instead\n",
            "\n",
            "See the caveats in the documentation: https://pandas.pydata.org/pandas-docs/stable/user_guide/indexing.html#returning-a-view-versus-a-copy\n",
            "  filtered_df['GENERO'] = filtered_df['GENERO'].replace(hombre, 'HOMBRE')\n",
            "<ipython-input-29-ab52a64a4d00>:95: SettingWithCopyWarning: \n",
            "A value is trying to be set on a copy of a slice from a DataFrame.\n",
            "Try using .loc[row_indexer,col_indexer] = value instead\n",
            "\n",
            "See the caveats in the documentation: https://pandas.pydata.org/pandas-docs/stable/user_guide/indexing.html#returning-a-view-versus-a-copy\n",
            "  filtered_df['GENERO'] = filtered_df['GENERO'].replace(mujer, 'MUJER')\n",
            "<ipython-input-29-ab52a64a4d00>:96: SettingWithCopyWarning: \n",
            "A value is trying to be set on a copy of a slice from a DataFrame.\n",
            "Try using .loc[row_indexer,col_indexer] = value instead\n",
            "\n",
            "See the caveats in the documentation: https://pandas.pydata.org/pandas-docs/stable/user_guide/indexing.html#returning-a-view-versus-a-copy\n",
            "  filtered_df['GENERO'] = filtered_df['GENERO'].replace(hombre, 'HOMBRE')\n"
          ]
        },
        {
          "output_type": "stream",
          "name": "stdout",
          "text": [
            "ENTRA\n"
          ]
        },
        {
          "output_type": "stream",
          "name": "stderr",
          "text": [
            "<ipython-input-29-ab52a64a4d00>:95: SettingWithCopyWarning: \n",
            "A value is trying to be set on a copy of a slice from a DataFrame.\n",
            "Try using .loc[row_indexer,col_indexer] = value instead\n",
            "\n",
            "See the caveats in the documentation: https://pandas.pydata.org/pandas-docs/stable/user_guide/indexing.html#returning-a-view-versus-a-copy\n",
            "  filtered_df['GENERO'] = filtered_df['GENERO'].replace(mujer, 'MUJER')\n",
            "<ipython-input-29-ab52a64a4d00>:96: SettingWithCopyWarning: \n",
            "A value is trying to be set on a copy of a slice from a DataFrame.\n",
            "Try using .loc[row_indexer,col_indexer] = value instead\n",
            "\n",
            "See the caveats in the documentation: https://pandas.pydata.org/pandas-docs/stable/user_guide/indexing.html#returning-a-view-versus-a-copy\n",
            "  filtered_df['GENERO'] = filtered_df['GENERO'].replace(hombre, 'HOMBRE')\n"
          ]
        }
      ]
    },
    {
      "cell_type": "code",
      "source": [
        "# CÓDIGO PARA EL CURRO PQ NO PUEDO USAR EL DRIVE\n",
        "AB_SO = transform_df(AB_SO)\n",
        "AB_SO = mapping_names(AB_SO)\n",
        "AB_SO = AB_localidad_CP(AB_SO)\n",
        "AB_SO = CP_year(AB_SO)\n",
        "AB_SO = keep_columns(AB_SO)\n",
        "AB_SO = delete_rows(AB_SO)\n",
        "\n",
        "CU_SO = transform_df(CU_SO)\n",
        "CU_SO = mapping_names(CU_SO)\n",
        "CU_SO = CP_year(CU_SO)\n",
        "CU_SO = keep_columns(CU_SO)\n",
        "CU_SO = delete_rows(CU_SO)\n",
        "\n",
        "CR_SO = transform_df(CR_SO)\n",
        "CR_SO = mapping_names(CR_SO)\n",
        "CR_SO = CP_year(CR_SO)\n",
        "CR_SO = keep_columns(CR_SO)\n",
        "CR_SO = delete_rows(CR_SO)\n",
        "\n",
        "GU_SO = transform_df(GU_SO)\n",
        "GU_SO = mapping_names(GU_SO)\n",
        "GU_SO = CP_year(GU_SO)\n",
        "GU_SO = keep_columns(GU_SO)\n",
        "GU_SO = delete_rows(GU_SO)\n",
        "\n",
        "TO_SO = transform_df(TO_SO)\n",
        "TO_SO = mapping_names(TO_SO)\n",
        "TO_SO = CP_year(TO_SO)\n",
        "TO_SO = keep_columns(TO_SO)\n",
        "TO_SO = delete_rows(TO_SO)"
      ],
      "metadata": {
        "id": "zGLJUIE9Ubdm",
        "outputId": "4201a620-f2b4-4e7b-c4ed-832b82899058",
        "colab": {
          "base_uri": "https://localhost:8080/"
        }
      },
      "execution_count": null,
      "outputs": [
        {
          "output_type": "stream",
          "name": "stdout",
          "text": [
            "ENTRA\n"
          ]
        },
        {
          "output_type": "stream",
          "name": "stderr",
          "text": [
            "<ipython-input-4-ab52a64a4d00>:95: SettingWithCopyWarning: \n",
            "A value is trying to be set on a copy of a slice from a DataFrame.\n",
            "Try using .loc[row_indexer,col_indexer] = value instead\n",
            "\n",
            "See the caveats in the documentation: https://pandas.pydata.org/pandas-docs/stable/user_guide/indexing.html#returning-a-view-versus-a-copy\n",
            "  filtered_df['GENERO'] = filtered_df['GENERO'].replace(mujer, 'MUJER')\n",
            "<ipython-input-4-ab52a64a4d00>:96: SettingWithCopyWarning: \n",
            "A value is trying to be set on a copy of a slice from a DataFrame.\n",
            "Try using .loc[row_indexer,col_indexer] = value instead\n",
            "\n",
            "See the caveats in the documentation: https://pandas.pydata.org/pandas-docs/stable/user_guide/indexing.html#returning-a-view-versus-a-copy\n",
            "  filtered_df['GENERO'] = filtered_df['GENERO'].replace(hombre, 'HOMBRE')\n",
            "<ipython-input-4-ab52a64a4d00>:95: SettingWithCopyWarning: \n",
            "A value is trying to be set on a copy of a slice from a DataFrame.\n",
            "Try using .loc[row_indexer,col_indexer] = value instead\n",
            "\n",
            "See the caveats in the documentation: https://pandas.pydata.org/pandas-docs/stable/user_guide/indexing.html#returning-a-view-versus-a-copy\n",
            "  filtered_df['GENERO'] = filtered_df['GENERO'].replace(mujer, 'MUJER')\n",
            "<ipython-input-4-ab52a64a4d00>:96: SettingWithCopyWarning: \n",
            "A value is trying to be set on a copy of a slice from a DataFrame.\n",
            "Try using .loc[row_indexer,col_indexer] = value instead\n",
            "\n",
            "See the caveats in the documentation: https://pandas.pydata.org/pandas-docs/stable/user_guide/indexing.html#returning-a-view-versus-a-copy\n",
            "  filtered_df['GENERO'] = filtered_df['GENERO'].replace(hombre, 'HOMBRE')\n",
            "<ipython-input-4-ab52a64a4d00>:95: SettingWithCopyWarning: \n",
            "A value is trying to be set on a copy of a slice from a DataFrame.\n",
            "Try using .loc[row_indexer,col_indexer] = value instead\n",
            "\n",
            "See the caveats in the documentation: https://pandas.pydata.org/pandas-docs/stable/user_guide/indexing.html#returning-a-view-versus-a-copy\n",
            "  filtered_df['GENERO'] = filtered_df['GENERO'].replace(mujer, 'MUJER')\n",
            "<ipython-input-4-ab52a64a4d00>:96: SettingWithCopyWarning: \n",
            "A value is trying to be set on a copy of a slice from a DataFrame.\n",
            "Try using .loc[row_indexer,col_indexer] = value instead\n",
            "\n",
            "See the caveats in the documentation: https://pandas.pydata.org/pandas-docs/stable/user_guide/indexing.html#returning-a-view-versus-a-copy\n",
            "  filtered_df['GENERO'] = filtered_df['GENERO'].replace(hombre, 'HOMBRE')\n",
            "<ipython-input-4-ab52a64a4d00>:95: SettingWithCopyWarning: \n",
            "A value is trying to be set on a copy of a slice from a DataFrame.\n",
            "Try using .loc[row_indexer,col_indexer] = value instead\n",
            "\n",
            "See the caveats in the documentation: https://pandas.pydata.org/pandas-docs/stable/user_guide/indexing.html#returning-a-view-versus-a-copy\n",
            "  filtered_df['GENERO'] = filtered_df['GENERO'].replace(mujer, 'MUJER')\n",
            "<ipython-input-4-ab52a64a4d00>:96: SettingWithCopyWarning: \n",
            "A value is trying to be set on a copy of a slice from a DataFrame.\n",
            "Try using .loc[row_indexer,col_indexer] = value instead\n",
            "\n",
            "See the caveats in the documentation: https://pandas.pydata.org/pandas-docs/stable/user_guide/indexing.html#returning-a-view-versus-a-copy\n",
            "  filtered_df['GENERO'] = filtered_df['GENERO'].replace(hombre, 'HOMBRE')\n"
          ]
        }
      ]
    },
    {
      "cell_type": "code",
      "source": [
        "AB_SO = dic_dataframes.get(\"AB_SO.xlsx\")\n",
        "CR_SO = dic_dataframes.get(\"CR_SO.xlsx\")\n",
        "GU_SO = dic_dataframes.get(\"GU_SO.xlsx\")\n",
        "CU_SO = dic_dataframes.get(\"CU_SO.xlsx\")\n",
        "TO_SO = dic_dataframes.get(\"TO_SO.xlsx\")"
      ],
      "metadata": {
        "id": "q5Y53IMLA7ZL"
      },
      "execution_count": null,
      "outputs": []
    },
    {
      "cell_type": "markdown",
      "source": [
        "###Salvaguardar los archivos\n",
        "Se guardan los archivos en la carpeta de las provincias correspondientes y en la de CLM."
      ],
      "metadata": {
        "id": "xUp_VUN91AO3"
      }
    },
    {
      "cell_type": "code",
      "source": [
        "CLM_SO = pd.concat([AB_SO, CR_SO, CU_SO, GU_SO, TO_SO])"
      ],
      "metadata": {
        "id": "sD0rWvLCUzqK"
      },
      "execution_count": null,
      "outputs": []
    },
    {
      "cell_type": "code",
      "source": [
        "# List of DataFrames\n",
        "dfs = [AB_SO, CR_SO, CU_SO, GU_SO, TO_SO, CLM_SO]\n",
        "\n",
        "# Corresponding folder paths on Google Drive\n",
        "folder_paths = [\n",
        "    '/content/drive/My Drive/PFG_FASPAS/AB',\n",
        "    '/content/drive/My Drive/PFG_FASPAS/CR',\n",
        "    '/content/drive/My Drive/PFG_FASPAS/CU',\n",
        "    '/content/drive/My Drive/PFG_FASPAS/GU',\n",
        "    '/content/drive/My Drive/PFG_FASPAS/TO',\n",
        "    '/content/drive/My Drive/PFG_FASPAS/CLM'\n",
        "]\n",
        "\n",
        "# Corresponding file names\n",
        "file_names = ['AB_SO_limpio.xlsx', 'CR_SO_limpio.xlsx', 'CU_SO_limpio.xlsx', 'GU_SO_limpio.xlsx', 'TO_SO_limpio.xlsx', 'CLM_SO_limpio.xlsx']"
      ],
      "metadata": {
        "id": "n69zzOEU6f5Z"
      },
      "execution_count": null,
      "outputs": []
    },
    {
      "cell_type": "code",
      "source": [
        "# Iterate over the DataFrames, folder paths, and file names\n",
        "for df, folder_path, file_name in zip(dfs, folder_paths, file_names):\n",
        "    # Define the complete file path\n",
        "    file_path = f\"{folder_path}/{file_name}\"\n",
        "\n",
        "    # Save the DataFrame as an Excel file\n",
        "    df.to_excel(file_path, index=False)\n",
        "\n",
        "print(\"All DataFrames have been exported successfully.\")"
      ],
      "metadata": {
        "id": "L9PLwcES0E-m",
        "outputId": "52c8ae49-abee-45ec-bf7f-d6fae9c2318c",
        "colab": {
          "base_uri": "https://localhost:8080/"
        }
      },
      "execution_count": null,
      "outputs": [
        {
          "output_type": "stream",
          "name": "stdout",
          "text": [
            "All DataFrames have been exported successfully.\n"
          ]
        }
      ]
    },
    {
      "cell_type": "code",
      "source": [
        "# # Para el curro\n",
        "# # Step 1: Install Required Libraries\n",
        "# !pip install pandas openpyxl\n",
        "# # Step 4: Provide Download Link\n",
        "# from google.colab import files\n",
        "\n",
        "# # Step 3: Save DataFrame to Excel File\n",
        "# file_path = '/content/AB_SO_limpio.xlsx'\n",
        "# AB_SO.to_excel(file_path, index=False)\n",
        "# files.download(file_path)\n",
        "\n",
        "# file_path = '/content/CR_SO_limpio.xlsx'\n",
        "# CR_SO.to_excel(file_path, index=False)\n",
        "# files.download(file_path)\n",
        "\n",
        "# file_path = '/content/CU_SO_limpio.xlsx'\n",
        "# CU_SO.to_excel(file_path, index=False)\n",
        "# files.download(file_path)\n",
        "\n",
        "# file_path = '/content/GU_SO_limpio.xlsx'\n",
        "# GU_SO.to_excel(file_path, index=False)\n",
        "# files.download(file_path)\n",
        "\n",
        "# file_path = '/contentTO_SO_limpio.xlsx'\n",
        "# TO_SO.to_excel(file_path, index=False)\n",
        "# files.download(file_path)"
      ],
      "metadata": {
        "id": "sWIs2Eu2knoY",
        "outputId": "5e7d4785-0610-43ad-ab0b-10bc3b492c88",
        "colab": {
          "base_uri": "https://localhost:8080/",
          "height": 156
        }
      },
      "execution_count": null,
      "outputs": [
        {
          "output_type": "stream",
          "name": "stdout",
          "text": [
            "Requirement already satisfied: pandas in /usr/local/lib/python3.10/dist-packages (2.0.3)\n",
            "Requirement already satisfied: openpyxl in /usr/local/lib/python3.10/dist-packages (3.1.3)\n",
            "Requirement already satisfied: python-dateutil>=2.8.2 in /usr/local/lib/python3.10/dist-packages (from pandas) (2.8.2)\n",
            "Requirement already satisfied: pytz>=2020.1 in /usr/local/lib/python3.10/dist-packages (from pandas) (2023.4)\n",
            "Requirement already satisfied: tzdata>=2022.1 in /usr/local/lib/python3.10/dist-packages (from pandas) (2024.1)\n",
            "Requirement already satisfied: numpy>=1.21.0 in /usr/local/lib/python3.10/dist-packages (from pandas) (1.25.2)\n",
            "Requirement already satisfied: et-xmlfile in /usr/local/lib/python3.10/dist-packages (from openpyxl) (1.1.0)\n",
            "Requirement already satisfied: six>=1.5 in /usr/local/lib/python3.10/dist-packages (from python-dateutil>=2.8.2->pandas) (1.16.0)\n"
          ]
        },
        {
          "output_type": "display_data",
          "data": {
            "text/plain": [
              "<IPython.core.display.Javascript object>"
            ],
            "application/javascript": [
              "\n",
              "    async function download(id, filename, size) {\n",
              "      if (!google.colab.kernel.accessAllowed) {\n",
              "        return;\n",
              "      }\n",
              "      const div = document.createElement('div');\n",
              "      const label = document.createElement('label');\n",
              "      label.textContent = `Downloading \"${filename}\": `;\n",
              "      div.appendChild(label);\n",
              "      const progress = document.createElement('progress');\n",
              "      progress.max = size;\n",
              "      div.appendChild(progress);\n",
              "      document.body.appendChild(div);\n",
              "\n",
              "      const buffers = [];\n",
              "      let downloaded = 0;\n",
              "\n",
              "      const channel = await google.colab.kernel.comms.open(id);\n",
              "      // Send a message to notify the kernel that we're ready.\n",
              "      channel.send({})\n",
              "\n",
              "      for await (const message of channel.messages) {\n",
              "        // Send a message to notify the kernel that we're ready.\n",
              "        channel.send({})\n",
              "        if (message.buffers) {\n",
              "          for (const buffer of message.buffers) {\n",
              "            buffers.push(buffer);\n",
              "            downloaded += buffer.byteLength;\n",
              "            progress.value = downloaded;\n",
              "          }\n",
              "        }\n",
              "      }\n",
              "      const blob = new Blob(buffers, {type: 'application/binary'});\n",
              "      const a = document.createElement('a');\n",
              "      a.href = window.URL.createObjectURL(blob);\n",
              "      a.download = filename;\n",
              "      div.appendChild(a);\n",
              "      a.click();\n",
              "      div.remove();\n",
              "    }\n",
              "  "
            ]
          },
          "metadata": {}
        },
        {
          "output_type": "display_data",
          "data": {
            "text/plain": [
              "<IPython.core.display.Javascript object>"
            ],
            "application/javascript": [
              "download(\"download_1ed5398e-ca49-4613-bf48-eb72e0e486ee\", \"AB_SO_limpio.xlsx\", 13726)"
            ]
          },
          "metadata": {}
        },
        {
          "output_type": "display_data",
          "data": {
            "text/plain": [
              "<IPython.core.display.Javascript object>"
            ],
            "application/javascript": [
              "\n",
              "    async function download(id, filename, size) {\n",
              "      if (!google.colab.kernel.accessAllowed) {\n",
              "        return;\n",
              "      }\n",
              "      const div = document.createElement('div');\n",
              "      const label = document.createElement('label');\n",
              "      label.textContent = `Downloading \"${filename}\": `;\n",
              "      div.appendChild(label);\n",
              "      const progress = document.createElement('progress');\n",
              "      progress.max = size;\n",
              "      div.appendChild(progress);\n",
              "      document.body.appendChild(div);\n",
              "\n",
              "      const buffers = [];\n",
              "      let downloaded = 0;\n",
              "\n",
              "      const channel = await google.colab.kernel.comms.open(id);\n",
              "      // Send a message to notify the kernel that we're ready.\n",
              "      channel.send({})\n",
              "\n",
              "      for await (const message of channel.messages) {\n",
              "        // Send a message to notify the kernel that we're ready.\n",
              "        channel.send({})\n",
              "        if (message.buffers) {\n",
              "          for (const buffer of message.buffers) {\n",
              "            buffers.push(buffer);\n",
              "            downloaded += buffer.byteLength;\n",
              "            progress.value = downloaded;\n",
              "          }\n",
              "        }\n",
              "      }\n",
              "      const blob = new Blob(buffers, {type: 'application/binary'});\n",
              "      const a = document.createElement('a');\n",
              "      a.href = window.URL.createObjectURL(blob);\n",
              "      a.download = filename;\n",
              "      div.appendChild(a);\n",
              "      a.click();\n",
              "      div.remove();\n",
              "    }\n",
              "  "
            ]
          },
          "metadata": {}
        },
        {
          "output_type": "display_data",
          "data": {
            "text/plain": [
              "<IPython.core.display.Javascript object>"
            ],
            "application/javascript": [
              "download(\"download_bb10267c-41d8-4531-88e7-83251ad27e8b\", \"CR_SO_limpio.xlsx\", 7077)"
            ]
          },
          "metadata": {}
        },
        {
          "output_type": "display_data",
          "data": {
            "text/plain": [
              "<IPython.core.display.Javascript object>"
            ],
            "application/javascript": [
              "\n",
              "    async function download(id, filename, size) {\n",
              "      if (!google.colab.kernel.accessAllowed) {\n",
              "        return;\n",
              "      }\n",
              "      const div = document.createElement('div');\n",
              "      const label = document.createElement('label');\n",
              "      label.textContent = `Downloading \"${filename}\": `;\n",
              "      div.appendChild(label);\n",
              "      const progress = document.createElement('progress');\n",
              "      progress.max = size;\n",
              "      div.appendChild(progress);\n",
              "      document.body.appendChild(div);\n",
              "\n",
              "      const buffers = [];\n",
              "      let downloaded = 0;\n",
              "\n",
              "      const channel = await google.colab.kernel.comms.open(id);\n",
              "      // Send a message to notify the kernel that we're ready.\n",
              "      channel.send({})\n",
              "\n",
              "      for await (const message of channel.messages) {\n",
              "        // Send a message to notify the kernel that we're ready.\n",
              "        channel.send({})\n",
              "        if (message.buffers) {\n",
              "          for (const buffer of message.buffers) {\n",
              "            buffers.push(buffer);\n",
              "            downloaded += buffer.byteLength;\n",
              "            progress.value = downloaded;\n",
              "          }\n",
              "        }\n",
              "      }\n",
              "      const blob = new Blob(buffers, {type: 'application/binary'});\n",
              "      const a = document.createElement('a');\n",
              "      a.href = window.URL.createObjectURL(blob);\n",
              "      a.download = filename;\n",
              "      div.appendChild(a);\n",
              "      a.click();\n",
              "      div.remove();\n",
              "    }\n",
              "  "
            ]
          },
          "metadata": {}
        },
        {
          "output_type": "display_data",
          "data": {
            "text/plain": [
              "<IPython.core.display.Javascript object>"
            ],
            "application/javascript": [
              "download(\"download_b7eda236-7720-47d1-b5d0-2daed80b245b\", \"CU_SO_limpio.xlsx\", 7068)"
            ]
          },
          "metadata": {}
        },
        {
          "output_type": "display_data",
          "data": {
            "text/plain": [
              "<IPython.core.display.Javascript object>"
            ],
            "application/javascript": [
              "\n",
              "    async function download(id, filename, size) {\n",
              "      if (!google.colab.kernel.accessAllowed) {\n",
              "        return;\n",
              "      }\n",
              "      const div = document.createElement('div');\n",
              "      const label = document.createElement('label');\n",
              "      label.textContent = `Downloading \"${filename}\": `;\n",
              "      div.appendChild(label);\n",
              "      const progress = document.createElement('progress');\n",
              "      progress.max = size;\n",
              "      div.appendChild(progress);\n",
              "      document.body.appendChild(div);\n",
              "\n",
              "      const buffers = [];\n",
              "      let downloaded = 0;\n",
              "\n",
              "      const channel = await google.colab.kernel.comms.open(id);\n",
              "      // Send a message to notify the kernel that we're ready.\n",
              "      channel.send({})\n",
              "\n",
              "      for await (const message of channel.messages) {\n",
              "        // Send a message to notify the kernel that we're ready.\n",
              "        channel.send({})\n",
              "        if (message.buffers) {\n",
              "          for (const buffer of message.buffers) {\n",
              "            buffers.push(buffer);\n",
              "            downloaded += buffer.byteLength;\n",
              "            progress.value = downloaded;\n",
              "          }\n",
              "        }\n",
              "      }\n",
              "      const blob = new Blob(buffers, {type: 'application/binary'});\n",
              "      const a = document.createElement('a');\n",
              "      a.href = window.URL.createObjectURL(blob);\n",
              "      a.download = filename;\n",
              "      div.appendChild(a);\n",
              "      a.click();\n",
              "      div.remove();\n",
              "    }\n",
              "  "
            ]
          },
          "metadata": {}
        },
        {
          "output_type": "display_data",
          "data": {
            "text/plain": [
              "<IPython.core.display.Javascript object>"
            ],
            "application/javascript": [
              "download(\"download_b43746ec-3456-4139-bdca-766067d970c0\", \"GU_SO_limpio.xlsx\", 22176)"
            ]
          },
          "metadata": {}
        },
        {
          "output_type": "display_data",
          "data": {
            "text/plain": [
              "<IPython.core.display.Javascript object>"
            ],
            "application/javascript": [
              "\n",
              "    async function download(id, filename, size) {\n",
              "      if (!google.colab.kernel.accessAllowed) {\n",
              "        return;\n",
              "      }\n",
              "      const div = document.createElement('div');\n",
              "      const label = document.createElement('label');\n",
              "      label.textContent = `Downloading \"${filename}\": `;\n",
              "      div.appendChild(label);\n",
              "      const progress = document.createElement('progress');\n",
              "      progress.max = size;\n",
              "      div.appendChild(progress);\n",
              "      document.body.appendChild(div);\n",
              "\n",
              "      const buffers = [];\n",
              "      let downloaded = 0;\n",
              "\n",
              "      const channel = await google.colab.kernel.comms.open(id);\n",
              "      // Send a message to notify the kernel that we're ready.\n",
              "      channel.send({})\n",
              "\n",
              "      for await (const message of channel.messages) {\n",
              "        // Send a message to notify the kernel that we're ready.\n",
              "        channel.send({})\n",
              "        if (message.buffers) {\n",
              "          for (const buffer of message.buffers) {\n",
              "            buffers.push(buffer);\n",
              "            downloaded += buffer.byteLength;\n",
              "            progress.value = downloaded;\n",
              "          }\n",
              "        }\n",
              "      }\n",
              "      const blob = new Blob(buffers, {type: 'application/binary'});\n",
              "      const a = document.createElement('a');\n",
              "      a.href = window.URL.createObjectURL(blob);\n",
              "      a.download = filename;\n",
              "      div.appendChild(a);\n",
              "      a.click();\n",
              "      div.remove();\n",
              "    }\n",
              "  "
            ]
          },
          "metadata": {}
        },
        {
          "output_type": "display_data",
          "data": {
            "text/plain": [
              "<IPython.core.display.Javascript object>"
            ],
            "application/javascript": [
              "download(\"download_a5fcb0c2-dbe4-48e0-b2ea-00cd71afc415\", \"contentTO_SO_limpio.xlsx\", 15091)"
            ]
          },
          "metadata": {}
        }
      ]
    }
  ],
  "metadata": {
    "colab": {
      "name": "Welcome To Colab",
      "provenance": [],
      "include_colab_link": true
    },
    "kernelspec": {
      "display_name": "Python 3",
      "name": "python3"
    }
  },
  "nbformat": 4,
  "nbformat_minor": 0
}