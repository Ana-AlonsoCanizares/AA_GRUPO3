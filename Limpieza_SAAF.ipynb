{
  "nbformat": 4,
  "nbformat_minor": 0,
  "metadata": {
    "colab": {
      "provenance": [],
      "include_colab_link": true
    },
    "kernelspec": {
      "name": "python3",
      "display_name": "Python 3"
    },
    "language_info": {
      "name": "python"
    }
  },
  "cells": [
    {
      "cell_type": "markdown",
      "metadata": {
        "id": "view-in-github",
        "colab_type": "text"
      },
      "source": [
        "<a href=\"https://colab.research.google.com/github/Ana-AlonsoCanizares/AA_GRUPO3/blob/main/Limpieza_SAAF.ipynb\" target=\"_parent\"><img src=\"https://colab.research.google.com/assets/colab-badge.svg\" alt=\"Open In Colab\"/></a>"
      ]
    },
    {
      "cell_type": "markdown",
      "source": [
        "#Informe Provincial Cuenca\n",
        "##Descarga y limpeza de datos"
      ],
      "metadata": {
        "id": "cncOKnCG9KT2"
      }
    },
    {
      "cell_type": "markdown",
      "source": [
        "Comenzamos cargando los datos de la carpeta de Google Drive en la que estén guardados (será necesario cambiar esta ruta en función de la ruta del ordenador).\n",
        "\n",
        "Es necesario aceptar la conexión con la cuenta de Google Drive.\n",
        "\n",
        "Importante y esencial, antes de tirar el código es necesario que la carpeta de Drive a la que se va a llamar tenga los archivos en formato xlsx así nombrados: 'CU_SAAF.xlsx', 'CU_AT.xlsx', 'CU_EMPLEO.xlsx', 'CU_LOG.xlsx' para que no haya errores a la hora de ejecutar este código.\n",
        "\n",
        "**¡OJO! Primeros archivo con extensión xlsx y los de las zonas a clasificar, con extensión csv, en teoría, los csv no deberían modificarse (a menos que las normativas cambien y con ello las zonas de impacto se modifiquen).**\n",
        "\n",
        "**Y todos las columnas deben tener los nombres definidos en el documento \"Resumen de datos por servicio FASPAS\" y en mayúsculas antes de ser subidos al programa.**"
      ],
      "metadata": {
        "id": "SHATfRyI9VF6"
      }
    },
    {
      "cell_type": "code",
      "execution_count": 29,
      "metadata": {
        "id": "mhwbvGlQ9JVW"
      },
      "outputs": [],
      "source": [
        "# from google.colab import drive\n",
        "# drive.mount('/content/drive')"
      ]
    },
    {
      "cell_type": "markdown",
      "source": [
        "Se importan las librerías necesarias para la parte de carga de datos y su limpieza."
      ],
      "metadata": {
        "id": "T6gtnbKM-e5p"
      }
    },
    {
      "cell_type": "code",
      "source": [
        "pip install unidecode"
      ],
      "metadata": {
        "colab": {
          "base_uri": "https://localhost:8080/"
        },
        "id": "4Cdv4QrHLrle",
        "outputId": "0b545e9e-a49b-4681-ebd8-0b8959bc39b8"
      },
      "execution_count": 30,
      "outputs": [
        {
          "output_type": "stream",
          "name": "stdout",
          "text": [
            "Requirement already satisfied: unidecode in /usr/local/lib/python3.10/dist-packages (1.3.8)\n"
          ]
        }
      ]
    },
    {
      "cell_type": "code",
      "source": [
        "import os\n",
        "import pandas as pd\n",
        "import numpy as np\n",
        "from unidecode import unidecode\n",
        "import matplotlib.pyplot as plt"
      ],
      "metadata": {
        "id": "e4n3PNFZ-oIq"
      },
      "execution_count": 31,
      "outputs": []
    },
    {
      "cell_type": "code",
      "source": [
        "# # Asegúrarse de cambiar la ruta por el nombre real de la carpeta en Google Drive\n",
        "# folder_path = '/content/drive/My Drive/PFG_FASPAS/SAAF'\n",
        "# docs_xlsx = [f for f in os.listdir(folder_path) if f.endswith('.xlsx')]\n",
        "# print(docs_xlsx)\n",
        "\n",
        "# # Asegúrarse de cambiar la ruta por el nombre real de la carpeta en Google Drive\n",
        "# folder_path_csv = '/content/drive/My Drive/PFG_FASPAS/Zonas_Prioritarias'\n",
        "# docs_csv = [f for f in os.listdir(folder_path_csv) if f.endswith('.csv')]\n",
        "# print(docs_csv)"
      ],
      "metadata": {
        "id": "yMug4vBB9ozZ"
      },
      "execution_count": 32,
      "outputs": []
    },
    {
      "cell_type": "markdown",
      "source": [
        "Creación de un diccionario que almacene los dataframes (.xlsx) contenidos en la carpeta de Cuenca.\n",
        "\n",
        "Se irán cargando todos los archivos en un dataframe que se añade al diccionario con el nombre de dicho archivo como clave."
      ],
      "metadata": {
        "id": "hxl_Z9P1-wXB"
      }
    },
    {
      "cell_type": "code",
      "source": [
        "# dic_dataframes = {}\n",
        "# dic_zonas = {}\n",
        "\n",
        "# for doc in docs_xlsx:\n",
        "#     entire_path = os.path.join(folder_path, doc)\n",
        "#     df = pd.read_excel(entire_path)\n",
        "#     # Uso el nombre del archivo como clave\n",
        "#     dic_dataframes[doc] = df\n",
        "\n",
        "# for doc in docs_csv:\n",
        "#   entire_path = os.path.join(folder_path_csv, doc)\n",
        "#   df = pd.read_csv(entire_path)\n",
        "#   # Uso el nombre del archivo como clave\n",
        "#   dic_zonas[doc] = df"
      ],
      "metadata": {
        "id": "wpsYAD2X-c4D"
      },
      "execution_count": 33,
      "outputs": []
    },
    {
      "cell_type": "markdown",
      "source": [
        "A continuación se debe observar que el dataframe cuente con al menos las columnas: 'AÑOS ATENCIÓN', 'FECHA NACIMIENTO' **en formato fecha**, 'LOCALIDAD', 'GÉNERO' y 'CP'"
      ],
      "metadata": {
        "id": "swAIR8SeSRpf"
      }
    },
    {
      "cell_type": "markdown",
      "source": [
        "Ahora que sabemos cuáles son las claves, guardamos cada dataframe por separado para trabajar con todos ellos de manera individual, por el momento."
      ],
      "metadata": {
        "id": "j7NG1ZuiB2pr"
      }
    },
    {
      "cell_type": "code",
      "source": [
        "# # Imprimir todas las claves\n",
        "# for clave in dic_dataframes.keys():\n",
        "#     print(clave)"
      ],
      "metadata": {
        "id": "-bSrp6NdAwQZ"
      },
      "execution_count": 34,
      "outputs": []
    },
    {
      "cell_type": "code",
      "source": [
        "# CU_SAAF = dic_dataframes.get(\"CU_SAAF.xlsx\")\n",
        "# CU_AT = dic_dataframes.get(\"CU_AT.xlsx\")\n",
        "# CU_EMPLEO = dic_dataframes.get(\"CU_EMPLEO.xlsx\")\n",
        "# CU_LOG = dic_dataframes.get(\"CU_LOG.xlsx\")\n",
        "# # CU_SOCIOS = dic_dataframes.get(\"CU_SOCIOS.xlsx\")"
      ],
      "metadata": {
        "id": "tgagsBVtCDkc"
      },
      "execution_count": 35,
      "outputs": []
    },
    {
      "cell_type": "markdown",
      "source": [
        "Vamos a limpiar cada uno de los dataframes en función de los datos que tenemos y vamos a normalizarlos para cuando los crucemos entre ellos.\n",
        "\n",
        "Comenzamos con los datos de Servicio de Atención y Apoyo a Familias (SAAF)."
      ],
      "metadata": {
        "id": "51k6fU9qClCD"
      }
    },
    {
      "cell_type": "markdown",
      "source": [
        "Sacamos la información del dataset y observamos que de 77 entradas, el campo de 'GRADO DEPENDENCIA' tan solo tiene 1 registro, por lo que se procede a eliminarla. El 'GRADO DISCAPACIDAD' de momento lo dejamos ya que para el impacto territorial no lo vamos a usar."
      ],
      "metadata": {
        "id": "TmNPUhvqDIUk"
      }
    },
    {
      "cell_type": "code",
      "source": [
        "# CÓDIGO SOLO PARA EL CURRO (PQ NO PUEDO ACCEDER AL DRIVE)\n",
        "CU_SAAF = pd.read_excel('/content/CU_SAAF.xlsx')\n",
        "TO_SAAF = pd.read_excel('/content/TO_SAAF.xlsx')\n",
        "AB_SAAF = pd.read_excel('/content/AB_SAAF.xlsx')\n",
        "GU_SAAF = pd.read_excel('/content/GU_SAAF.xlsx')\n",
        "CR_SAAF = pd.read_excel('/content/CR_SAAF.xlsx')"
      ],
      "metadata": {
        "id": "FzS8Balj4ozG"
      },
      "execution_count": 96,
      "outputs": []
    },
    {
      "cell_type": "markdown",
      "source": [
        "Primero se ponen todos los nombres de las columnas y todos los valores de los registros en mayúsculas y se eliminan todas las tildes contenidas (tanto en los registros de tipo texto como en las columnas), para uniformar el dataset."
      ],
      "metadata": {
        "id": "V0sIxMvj5RAH"
      }
    },
    {
      "cell_type": "code",
      "source": [
        "# Definir la función que realiza las transformaciones\n",
        "def transform_df(df):\n",
        "    col_excluded = ['FECHA NACIMIENTO', 'FECHA DE NACIMIENTO', 'FECHA NAC']\n",
        "\n",
        "    # Convertir todas las columnas de tipo object a mayúsculas, excepto las especificadas\n",
        "    for column in df.columns:\n",
        "        if df[column].dtype == 'object' and column not in col_excluded:\n",
        "            df[column] = df[column].apply(lambda x: unidecode(x.upper()) if isinstance(x, str) else x)\n",
        "\n",
        "    # Ahora, aplicamos unidecode a los nombres de las columnas\n",
        "    df.columns = [unidecode(col.upper()) for col in df.columns]\n",
        "\n",
        "    return df\n",
        "\n",
        "# Asegurarse de que todas las columnas necesarias existan en todos los dataframes, creándolas si es necesario (OJO: COLUMNAS NECESARIAS PARA TODOS LOS SERVICIOS)\n",
        "# Limpieza de todas aquellas columnas no pedidas\n",
        "def kept_columns(df):\n",
        "  # Lista de columnas necesarias para hacer el impacto territorial en todos los dataframes\n",
        "  all_needed_columns = ['FECHA NACIMIENTO', 'LOCALIDAD', 'GENERO', 'CP']\n",
        "  for col in all_needed_columns:\n",
        "    if col not in df.columns:\n",
        "      df[col] = np.nan\n",
        "\n",
        "  columns_to_keep = ['FECHA ALTA','FECHA DE ALTA', 'FECHA NACIMIENTO','FECHA DE NACIMIENTO','FECHA NAC' ,'LOCALIDAD', 'GENERO', 'CP', 'TIPO SORDERA', 'MOMENTO APARICION', 'MOMENTO DE APARICION DE LA SORDERA', '?LLEVA AUDIFONO?', '?LLEVA I.C.?', '?LLEVA IMPLANTE DE TRONCO CEREBRAL?', '?LLEVA IMPLANTE OSTEOINTEGRADO?', '?LLEVA IMPLANTE DE OIDO MEDIO?', 'MODALIDAD COMUNICATIVA', 'MODALIDAD COMUNICATIVA EN CASA','MOD COM','GRADO DISCAPACIDAD', 'TIPO PROTESIS', 'TIPO DE PROTESIS','TIPO DE PROTESIS AUDITIVA', 'GRADO PERDIDA', 'GRADO DE PERDIDA']\n",
        "  df = df[df.columns.intersection(columns_to_keep)]\n",
        "  return df\n",
        "\n",
        "def mapping_names(df):\n",
        "    # Diccionario con los mapeos deseados\n",
        "    columns_map = {\n",
        "        'FECHA DE ALTA': 'FECHA ALTA',\n",
        "        'FECHA NAC': 'FECHA NACIMIENTO',\n",
        "        'FECHA DE NACIMIENTO': 'FECHA NACIMIENTO',\n",
        "        'MOMENTO DE APARICION DE LA SORDERA': 'MOMENTO APARICION',\n",
        "        'TIPO DE PROTESIS AUDITIVA': 'TIPO PROTESIS',\n",
        "        'TIPO DE PROTESIS': 'TIPO PROTESIS',\n",
        "        'MOD COM': 'MODALIDAD COMUNICATIVA',\n",
        "        'MODALIDAD COMUNICATIVA EN CASA': 'MODALIDAD COMUNICATIVA',\n",
        "        'GRADO DE PERDIDA': 'GRADO PERDIDA'\n",
        "    }\n",
        "\n",
        "    # Crear un nuevo diccionario para los nombres de columnas\n",
        "    rename_columns = {}\n",
        "\n",
        "    # Iterar sobre las columnas y aplicar el mapeo\n",
        "    for col in df.columns:\n",
        "        norm_col = columns_map.get(col, col)\n",
        "        rename_columns[col] = norm_col\n",
        "\n",
        "    # Renombrar las columnas del DataFrame\n",
        "    df.rename(columns=rename_columns, inplace=True)\n",
        "    return df\n",
        "\n",
        "def CP_year(df):\n",
        "\n",
        "  df['FECHA NACIMIENTO'] = df['FECHA NACIMIENTO'].apply(lambda x: np.nan if str(x).isdigit() or x == '(ADULTO)' else x)\n",
        "  # df['FECHA NACIMIENTO'] = pd.to_datetime(df['FECHA NACIMIENTO'], errors='coerce')\n",
        "\n",
        "  df['CP'] =df['CP'].astype('Int64')\n",
        "\n",
        "  df['YEAR NACIMIENTO'] = df['FECHA NACIMIENTO'].dt.year\n",
        "\n",
        "  df = df.dropna(subset=['CP', 'LOCALIDAD'], how='all')\n",
        "\n",
        "  CP_loc_filter = df['CP'].isnull() & df['LOCALIDAD'].isnull()\n",
        "\n",
        "  df = df[~CP_loc_filter]\n",
        "  return df"
      ],
      "metadata": {
        "id": "1IJU09ZlVrml"
      },
      "execution_count": 98,
      "outputs": []
    },
    {
      "cell_type": "markdown",
      "source": [
        "**OJOOOOOOOO HAY QUE VER CÓMO PROCEDER PARA AQUELLOS REGISTROS CON DATOS NULOS EN LOS CAMPOS DE CP Y LOCALIDAD**\n",
        "\n",
        "¿¿SI HAY UNO DE LOS DOS DEJAMOS EL REGISTRO, PERO SI NO HAY NADA EN AMBOS CAMPOS LOS ELIMINAMOS?? está justo arriba"
      ],
      "metadata": {
        "id": "rIr8fpZ38qbH"
      }
    },
    {
      "cell_type": "markdown",
      "source": [
        "Vamos a comenzar a limpiar los datos del Servicio de Asistencia y Apoyo a Familias (sAAF)."
      ],
      "metadata": {
        "id": "p64AZybRx3kt"
      }
    },
    {
      "cell_type": "markdown",
      "source": [
        "Lo primero que hacemos es eliminar aquellas columnas cuyos datos NO se hayan pedido, ya que aunque no se hayan podido recopilar todos los datos pedidos de todas las provincias, queremos que los datasets sean lo más homogéneos posibles."
      ],
      "metadata": {
        "id": "0Ly23V5wG1nt"
      }
    },
    {
      "cell_type": "markdown",
      "source": [
        "Por otra parte, la columna 'FECHA NACIMIENTO' nos quedamos solo con la fecha (OJOOOO ¿O SOLO EL AÑO???? O AMBAS OPCIONES), eliminando la hora. Por defecto, Excel pone el CP como float, asi que lo pasamos a entero.\n",
        "\n",
        "**YO NO QUITARÍA LA FECHA DE NACIMIENTO CONCRETA POR SI HAY QUE CONTEMPLAR QUE LOS DATOS DE ENTRADA TENGAN USUARIOS REPETIDOS, PERO PARA HACER ESTUDIO DE EDAD, USARÍA LA COLUMNA DE 'AÑO NACIMIENTO'. CONSULTAAAAAAAAAAAAAAAR.**"
      ],
      "metadata": {
        "id": "1mM-6P2bFsHg"
      }
    },
    {
      "cell_type": "markdown",
      "source": [
        "Si existe en el dataframe, como en este caso, aquellos que no tienen registro de 'TIPO PRÓTESIS' hay que examinar el motivo. Vamos a ver aquellos registros distintos que tienen todas las columnas. Vemos que en la columna 'TIPO PRÓTESIS' no hay ninguna salida que sea \"NO TIENE\" y preguntamos a FASPAS, tras su aprobación, procedemos a sustituir los valores nulos por 'NO TIENE'."
      ],
      "metadata": {
        "id": "Qo75GIDwHlyQ"
      }
    },
    {
      "cell_type": "markdown",
      "source": [
        "Se observa que la 'MODALIDAD COMUNICATIVA' no da ninguna información, pues todos los registros son \"ORAL\", sim embargo, la dejamos por si acaso en un futuro los registros cambiaran."
      ],
      "metadata": {
        "id": "4-jR--TTKzM_"
      }
    },
    {
      "cell_type": "markdown",
      "source": [
        "Se disminuye la complejidad de los datos de manera que solo nos quedamos con la categoría de 'AUD O PRÓTESIS' que indica si lleva o no alguno de los dispotivos posibles (¿Lleva implante de tronco cerebral/osteointegrado/de oído medio?) con independencia de cuál de estos sea."
      ],
      "metadata": {
        "id": "f0bDOcSLVe57"
      }
    },
    {
      "cell_type": "code",
      "source": [
        "TO_SAAF.info()"
      ],
      "metadata": {
        "id": "u2BicwXlbCTD",
        "outputId": "bd8a0172-950a-421b-a397-a61e4c3bcef3",
        "colab": {
          "base_uri": "https://localhost:8080/"
        }
      },
      "execution_count": 99,
      "outputs": [
        {
          "output_type": "stream",
          "name": "stdout",
          "text": [
            "<class 'pandas.core.frame.DataFrame'>\n",
            "RangeIndex: 112 entries, 0 to 111\n",
            "Data columns (total 20 columns):\n",
            " #   Column                               Non-Null Count  Dtype         \n",
            "---  ------                               --------------  -----         \n",
            " 0   FECHA ALTA                           112 non-null    datetime64[ns]\n",
            " 1   EDAD ALTA                            112 non-null    object        \n",
            " 2   TIPO USUARIO                         56 non-null     object        \n",
            " 3   DIAGNÓSTICO RECIENTE                 112 non-null    object        \n",
            " 4   GÉNEO                                112 non-null    object        \n",
            " 5   FECHA NACIMIENTO                     112 non-null    datetime64[ns]\n",
            " 6   TIPO SORDERA                         112 non-null    object        \n",
            " 7   TIPO SORDERA AMPLIACIÓN              13 non-null     object        \n",
            " 8   EDAD DIAGNÓSTICO                     112 non-null    int64         \n",
            " 9   AUD O PRÓTESIS                       112 non-null    object        \n",
            " 10  ¿Lleva I.C.?                         112 non-null    object        \n",
            " 11  ¿Lleva implante de tronco cerebral?  112 non-null    object        \n",
            " 12  ¿Lleva implante osteointegrado?      112 non-null    object        \n",
            " 13  ¿Lleva implante de oído medio?       112 non-null    object        \n",
            " 14  Localidad                            95 non-null     object        \n",
            " 15  CP                                   94 non-null     float64       \n",
            " 16  Provincia                            100 non-null    object        \n",
            " 17  Modalidad comunicativa en casa       49 non-null     object        \n",
            " 18  Grado de discapacidad                9 non-null      float64       \n",
            " 19  Ámbito                               56 non-null     object        \n",
            "dtypes: datetime64[ns](2), float64(2), int64(1), object(15)\n",
            "memory usage: 17.6+ KB\n"
          ]
        }
      ]
    },
    {
      "cell_type": "code",
      "source": [
        "# Creación de columna 'AUD O PRÓTESIS' en función del dataset de entrada\n",
        "def determinar_si_o_no(row):\n",
        "    # Lista de las columnas a verificar\n",
        "    columns_to_meet = ['?LLEVA I.C.?', '?LLEVA IMPLANTE DE TRONCO CEREBRAL?', '?LLEVA IMPLANTE OSTEOINTEGRADO?', '?LLEVA IMPLANTE DE OIDO MEDIO?']\n",
        "    # Itera sobre cada columna especificada\n",
        "    for col in columns_to_meet:\n",
        "        # Verifica si el valor es NaN, \"No\" o \"no tiene\"\n",
        "        if pd.isna(row[col]) or row[col] == 'NO' or row[col] == 'NO TIENE':\n",
        "            return 'NO'\n",
        "    # Si ninguna columna cumple la condición anterior, devuelve 'Sí'\n",
        "    return 'SI'\n",
        "\n",
        "def other_columns(df):\n",
        "  if 'TIPO PROTESIS' in df.columns:\n",
        "    df['TIPO PROTESIS'] = df['TIPO PROTESIS'].fillna('NO TIENE')\n",
        "    df['AUD O PROTESIS'] = np.where(df['TIPO PROTESIS'] == 'NO TIENE', 'NO', 'SI')\n",
        "    df.drop('TIPO PROTESIS', axis=1, inplace=True)\n",
        "\n",
        "  # elif ('¿LLEVA AUDIFONO?' and '¿LLEVA I.C.?' and '¿LLEVA IMPLANTE DE TRONCO CEREBRAL?' and '¿LLEVA IMPLANTE OSTEOINTEGRADO?' and '¿LLEVA IMPLANTE DE OIDO MEDIO?') in df.columns:\n",
        "  elif '?LLEVA I.C.?' in df.columns:\n",
        "    for row in df:\n",
        "      df['AUD O PROTESIS'] = df.apply(determinar_si_o_no, axis=1)\n",
        "\n",
        "  # if '¿LLEVA AUDIFONO?' in df.columns:\n",
        "  #   si = ['SI', 'YES', 'S']\n",
        "  #   for s in si:\n",
        "  #     df['¿LLEVA AUDIFONO?'] = np.where(df['¿LLEVA AUDIFONO?'] == s, 'SI', 'NO')\n",
        "  #     df['¿LLEVA I.C.?'] = np.where(df['¿LLEVA I.C.?'] == s, 'SI', 'NO')\n",
        "  #     df['¿LLEVA IMPLANTE DE TRONCO CEREBRAL?'] = np.where(df['¿LLEVA IMPLANTE DE TRONCO CEREBRAL?'] == s, 'SI', 'NO')\n",
        "  #     df['¿LLEVA IMPLANTE OSTEOINTEGRADO?'] = np.where(df['¿LLEVA IMPLANTE OSTEOINTEGRADO?'] == s, 'SI', 'NO')\n",
        "  #     df['¿LLEVA IMPLANTE DE OIDO MEDIO?'] = np.where(df['¿LLEVA IMPLANTE DE OIDO?'] == s, 'SI', 'NO')\n",
        "\n",
        "  #   # Creación de columna 'AUD O PRÓTESIS' y elimino las demás\n",
        "  #   df['AUD O PROTESIS'] = df[['¿LLEVA AUDIFONO?' ,'¿LLEVA I.C.?', '¿LLEVA IMPLANTE DE TRONCO CEREBRAL?', '¿LLEVA IMPLANTE OSTEOINTEGRADO?', '¿LLEVA IMPLANTE DE OIDO MEDIO?']].apply(lambda x: x == 'SI').any(axis=1)\n",
        "  columns_to_drop =['?LLEVA AUDIFONO?' ,'?LLEVA I.C.?', '?LLEVA IMPLANTE DE TRONCO CEREBRAL?', '?LLEVA IMPLANTE OSTEOINTEGRADO?', '?LLEVA IMPLANTE DE OIDO MEDIO?']\n",
        "  df.drop(columns=[col for col in columns_to_drop if col in df.columns], inplace=True)\n",
        "\n",
        "  if 'GENERO' in df.columns:\n",
        "    # OJO: contemplar tb las diferentes formas de escribir TODAS LAS COLUMNAS 'MOMENTO APARICIÓN', HAY QUE NORMALIZAR TODO\n",
        "    mujer = ['MUJER', 'HEMBRA', 'FEMENINO', 'FEM', 'F']\n",
        "    hombre = ['HOMBRE', 'MACHO', 'MASCULINO', 'MASC', 'MAS']\n",
        "\n",
        "    for m in mujer:\n",
        "      df['GENERO'] = df['GENERO'].replace(m, 'M')\n",
        "\n",
        "    for h in hombre:\n",
        "      df['GENERO'] = df['GENERO'].replace(h, 'H')\n",
        "  return df"
      ],
      "metadata": {
        "id": "iFVuG1LXH-Fp"
      },
      "execution_count": 100,
      "outputs": []
    },
    {
      "cell_type": "markdown",
      "source": [
        "Para contemplar que otros datos que se ingresen sean distintos, vamos a jugar con eliminar aquellas columnas que no sean esenciales para el estudio territorial, sino que nos den información más sociológica y sirvan para un estudio social; siempre y cuando el porcentaje de valores nulos sea mayor o igual que 1/3 del total de registros."
      ],
      "metadata": {
        "id": "oiLN3k37MBz3"
      }
    },
    {
      "cell_type": "code",
      "source": [
        "def delete_not_important_columns(df):\n",
        "  # Añado 'AÑO ATENCIÓN' para SAAF\n",
        "  needed_columns = ['AÑO ATENCION', 'FECHA NACIMIENTO', 'LOCALIDAD', 'CP', 'YEAR NACIMIENTO']\n",
        "\n",
        "  # Creación de la lista de columnas consideradas para posible eliminación\n",
        "  social_columns = [col for col in df.columns if col not in needed_columns]\n",
        "\n",
        "  # Porcentaje máximo de valores nulos permitido\n",
        "  max_percentage = 1/3\n",
        "\n",
        "  # Identifico columnas para eliminar\n",
        "  del_columns = []\n",
        "  for col in social_columns:\n",
        "      if df[col].isnull().sum() / len(df) >= max_percentage:\n",
        "          del_columns.append(col)\n",
        "\n",
        "  # Eliminar las columnas identificadas\n",
        "  df.drop(columns=del_columns, inplace=True)\n",
        "  return df"
      ],
      "metadata": {
        "id": "eGbzUeKaMtVx"
      },
      "execution_count": 101,
      "outputs": []
    },
    {
      "cell_type": "markdown",
      "source": [
        "Además, pondremos todos los registros de MUJER como M y HOMBRE como H. Esto lo realizaremos con todos los dataframes. Contemplamos que los registros que llegan pueden tener otros nombres en este campo."
      ],
      "metadata": {
        "id": "acwjNFXXIUOD"
      }
    },
    {
      "cell_type": "code",
      "source": [
        "def left_columns_norm(df):\n",
        "  if 'TIPO SORDERA' in df.columns:\n",
        "    # Lista con las posibles salidas permitidas\n",
        "    strings_to_keep = ['NEUROSENSORIAL', 'CONDUCTIVA', 'MIXTA', 'TEL']\n",
        "\n",
        "    # Sustituyo los registros distintos por la palabra 'NO REGISTRADO' (VER SI SE CAMBIA ESTO)\n",
        "    df.loc[~df['TIPO SORDERA'].isin(strings_to_keep), 'TIPO SORDERA'] = 'NO REGISTRADO'\n",
        "\n",
        "  if 'MOMENTO APARICION' in df.columns:\n",
        "    strings_to_keep = ['PERILOCUTIVA', 'POSTLOCUTIVA', 'PRELOCUTIVA']\n",
        "\n",
        "    # Sustituyo los registros distintos por la palabra 'NO REGISTRADO' (VER SI SE CAMBIA ESTO)\n",
        "    df.loc[~df['MOMENTO APARICION'].isin(strings_to_keep), 'MOMENTO APARICION'] = 'NO REGISTRADO'\n",
        "\n",
        "  if 'MODALIDAD COMUNICATIVA' in df.columns:\n",
        "    strings_to_keep = ['SIGNO', 'LSE','SIGNOS', 'ORAL', 'BIMODAL', 'L.S.E.', 'L.S.E', 'SIGNOS NATURALES', 'ORAL,SIGNOS NATURALES', 'ORAL, SIGNOS NATURALES']\n",
        "\n",
        "    # Sustituyo los registros distintos por la palabra 'NO REGISTRADO' (VER SI SE CAMBIA ESTO)\n",
        "    df.loc[~df['MODALIDAD COMUNICATIVA'].isin(strings_to_keep), 'MODALIDAD COMUNICATIVA'] = 'NO REGISTRADO'\n",
        "\n",
        "    # Normalizo todas las formas de llamar a las distintas modalidades comunicativas\n",
        "    ORAL = ['ORAL', 'ORAL,SIGNOS NATURALES', 'ORAL, SIGNOS NATURALES']\n",
        "    LSE = ['LSE', 'L.S.E.','L.S.E']\n",
        "    SIGNOS = ['SIGNO', 'SIGNOS', 'SIGNOS NATURALES']\n",
        "\n",
        "    for o in ORAL:\n",
        "      df['MODALIDAD COMUNICATIVA'] = df['MODALIDAD COMUNICATIVA'].replace(o, 'ORAL')\n",
        "\n",
        "    for l in LSE:\n",
        "      df['MODALIDAD COMUNICATIVA'] = df['MODALIDAD COMUNICATIVA'].replace(l, 'LSE')\n",
        "\n",
        "    for s in SIGNOS:\n",
        "      df['MODALIDAD COMUNICATIVA'] = df['MODALIDAD COMUNICATIVA'].replace(s, 'SIGNOS')\n",
        "\n",
        "  if 'GRADO PERDIDA' in df.columns:\n",
        "    df['GRADO PERDIDA'] = df['GRADO PERDIDA'].astype(str)\n",
        "\n",
        "    # Selecciono solo las 3 primeras letras (quitando la parte de DB si la tuviera)\n",
        "    df['GRADO PERDIDA'] = df['GRADO PERDIDA'].str.slice(0, 3)\n",
        "\n",
        "    strings_to_keep = ['DAP', 'DAM', 'DAS', 'DAL']\n",
        "\n",
        "    df.loc[~df['GRADO PERDIDA'].isin(strings_to_keep), 'GRADO PERDIDA'] = np.nan\n",
        "\n",
        "  if 'GRADO DISCAPACIDAD' in df.columns:\n",
        "    df['GRADO DISCAPACIDAD'] = df['GRADO DISCAPACIDAD'].apply(lambda x: x / 100 if x > 1 else x)\n",
        "    # OJOOOOOOOOOOOOOOO PREGUNTAR A OLGA SI LE PARECE BIEN O MEJOR PONERLO A CERO LAS QUE NO TENGAN REGISTRO!?!?\n",
        "    df['GRADO DISCAPACIDAD'] = df['GRADO DISCAPACIDAD'].fillna(0)\n",
        "    # df['GRADO DISCAPACIDAD'] = df['GRADO DISCAPACIDAD'].fillna(df['GRADO DISCAPACIDAD'].mean())\n",
        "  return df"
      ],
      "metadata": {
        "id": "5F-V0DwZaopA"
      },
      "execution_count": 102,
      "outputs": []
    },
    {
      "cell_type": "markdown",
      "source": [
        "Aquí podemos ver la información del df, cuáles son las columnas que se tendrán en cuenta para este caso concreto y los diferentes datos que pueden tomar. Observamos que los únicos datos que pueden tener valores nulos son CP y LOCALIDAD, pero serán en registros distintos."
      ],
      "metadata": {
        "id": "BoAn1uH0T7Hx"
      }
    },
    {
      "cell_type": "markdown",
      "source": [
        "Se crea un filtro booleano que coge aquellos registros con ambos campos nulos y se lo aplicamos al dataframe. Ya que aquellos registros sin geolocalización no nos sirven para el objetivo principal que es saber el impacto que se tiene en las diferentes zonas para desarrollar un plan de ampliación territorial estratégico basado en el estudio estadístico."
      ],
      "metadata": {
        "id": "I52DZXN9QMN7"
      }
    },
    {
      "cell_type": "code",
      "source": [
        "# Suponiendo que 'dict_of_dfs' es tu diccionario de DataFrames\n",
        "for df_key, df in dic_dataframes.items():\n",
        "    dic_dataframes[df_key] = transform_df(df)\n",
        "    dic_dataframes[df_key] = mapping_names(df)\n",
        "    dic_dataframes[df_key] = kept_columns(df)\n",
        "    dic_dataframes[df_key] = CP_year(df)\n",
        "    dic_dataframes[df_key] = other_columns(df)\n",
        "    # dic_dataframes[df_key] = delete_not_important_columns(df)\n",
        "    # dic_dataframes[df_key] = left_columns_norm(df)"
      ],
      "metadata": {
        "id": "zPGQTBgp9hiF",
        "outputId": "0a1ba3dd-e0e4-4f2d-e683-67a0c9099215",
        "colab": {
          "base_uri": "https://localhost:8080/",
          "height": 211
        }
      },
      "execution_count": 103,
      "outputs": [
        {
          "output_type": "error",
          "ename": "NameError",
          "evalue": "name 'dic_dataframes' is not defined",
          "traceback": [
            "\u001b[0;31m---------------------------------------------------------------------------\u001b[0m",
            "\u001b[0;31mNameError\u001b[0m                                 Traceback (most recent call last)",
            "\u001b[0;32m<ipython-input-103-e677b0721b5a>\u001b[0m in \u001b[0;36m<cell line: 2>\u001b[0;34m()\u001b[0m\n\u001b[1;32m      1\u001b[0m \u001b[0;31m# Suponiendo que 'dict_of_dfs' es tu diccionario de DataFrames\u001b[0m\u001b[0;34m\u001b[0m\u001b[0;34m\u001b[0m\u001b[0m\n\u001b[0;32m----> 2\u001b[0;31m \u001b[0;32mfor\u001b[0m \u001b[0mdf_key\u001b[0m\u001b[0;34m,\u001b[0m \u001b[0mdf\u001b[0m \u001b[0;32min\u001b[0m \u001b[0mdic_dataframes\u001b[0m\u001b[0;34m.\u001b[0m\u001b[0mitems\u001b[0m\u001b[0;34m(\u001b[0m\u001b[0;34m)\u001b[0m\u001b[0;34m:\u001b[0m\u001b[0;34m\u001b[0m\u001b[0;34m\u001b[0m\u001b[0m\n\u001b[0m\u001b[1;32m      3\u001b[0m     \u001b[0mdic_dataframes\u001b[0m\u001b[0;34m[\u001b[0m\u001b[0mdf_key\u001b[0m\u001b[0;34m]\u001b[0m \u001b[0;34m=\u001b[0m \u001b[0mtransform_df\u001b[0m\u001b[0;34m(\u001b[0m\u001b[0mdf\u001b[0m\u001b[0;34m)\u001b[0m\u001b[0;34m\u001b[0m\u001b[0;34m\u001b[0m\u001b[0m\n\u001b[1;32m      4\u001b[0m     \u001b[0mdic_dataframes\u001b[0m\u001b[0;34m[\u001b[0m\u001b[0mdf_key\u001b[0m\u001b[0;34m]\u001b[0m \u001b[0;34m=\u001b[0m \u001b[0mmapping_names\u001b[0m\u001b[0;34m(\u001b[0m\u001b[0mdf\u001b[0m\u001b[0;34m)\u001b[0m\u001b[0;34m\u001b[0m\u001b[0;34m\u001b[0m\u001b[0m\n\u001b[1;32m      5\u001b[0m     \u001b[0mdic_dataframes\u001b[0m\u001b[0;34m[\u001b[0m\u001b[0mdf_key\u001b[0m\u001b[0;34m]\u001b[0m \u001b[0;34m=\u001b[0m \u001b[0mkept_columns\u001b[0m\u001b[0;34m(\u001b[0m\u001b[0mdf\u001b[0m\u001b[0;34m)\u001b[0m\u001b[0;34m\u001b[0m\u001b[0;34m\u001b[0m\u001b[0m\n",
            "\u001b[0;31mNameError\u001b[0m: name 'dic_dataframes' is not defined"
          ]
        }
      ]
    },
    {
      "cell_type": "code",
      "source": [
        "# CÓDIGO DE USO PARA EL CURRO\n",
        "CU_SAAF = transform_df(CU_SAAF)\n",
        "CU_SAAF = mapping_names(CU_SAAF)\n",
        "CU_SAAF = kept_columns(CU_SAAF)\n",
        "CU_SAAF = CP_year(CU_SAAF)\n",
        "CU_SAAF = other_columns(CU_SAAF)"
      ],
      "metadata": {
        "id": "d_ZQ7fPK-AL2",
        "outputId": "c9d3e87c-8e27-4ed3-ed89-4b0f2f793681",
        "colab": {
          "base_uri": "https://localhost:8080/"
        }
      },
      "execution_count": 104,
      "outputs": [
        {
          "output_type": "stream",
          "name": "stderr",
          "text": [
            "<ipython-input-98-1db86cc03e61>:56: SettingWithCopyWarning: \n",
            "A value is trying to be set on a copy of a slice from a DataFrame.\n",
            "Try using .loc[row_indexer,col_indexer] = value instead\n",
            "\n",
            "See the caveats in the documentation: https://pandas.pydata.org/pandas-docs/stable/user_guide/indexing.html#returning-a-view-versus-a-copy\n",
            "  df['FECHA NACIMIENTO'] = df['FECHA NACIMIENTO'].apply(lambda x: np.nan if str(x).isdigit() or x == '(ADULTO)' else x)\n",
            "<ipython-input-98-1db86cc03e61>:59: SettingWithCopyWarning: \n",
            "A value is trying to be set on a copy of a slice from a DataFrame.\n",
            "Try using .loc[row_indexer,col_indexer] = value instead\n",
            "\n",
            "See the caveats in the documentation: https://pandas.pydata.org/pandas-docs/stable/user_guide/indexing.html#returning-a-view-versus-a-copy\n",
            "  df['CP'] =df['CP'].astype('Int64')\n",
            "<ipython-input-98-1db86cc03e61>:61: SettingWithCopyWarning: \n",
            "A value is trying to be set on a copy of a slice from a DataFrame.\n",
            "Try using .loc[row_indexer,col_indexer] = value instead\n",
            "\n",
            "See the caveats in the documentation: https://pandas.pydata.org/pandas-docs/stable/user_guide/indexing.html#returning-a-view-versus-a-copy\n",
            "  df['YEAR NACIMIENTO'] = df['FECHA NACIMIENTO'].dt.year\n"
          ]
        }
      ]
    },
    {
      "cell_type": "code",
      "source": [
        "# CÓDIGO DE USO PARA EL CURRO\n",
        "GU_SAAF = transform_df(GU_SAAF)\n",
        "GU_SAAF = mapping_names(GU_SAAF)\n",
        "GU_SAAF = kept_columns(GU_SAAF)\n",
        "GU_SAAF = CP_year(GU_SAAF)\n",
        "GU_SAAF = other_columns(GU_SAAF)"
      ],
      "metadata": {
        "id": "KpcNdfft05D-",
        "outputId": "712ff693-1bcf-4fd3-c8be-15752f64e8a6",
        "colab": {
          "base_uri": "https://localhost:8080/"
        }
      },
      "execution_count": 105,
      "outputs": [
        {
          "output_type": "stream",
          "name": "stderr",
          "text": [
            "<ipython-input-98-1db86cc03e61>:56: SettingWithCopyWarning: \n",
            "A value is trying to be set on a copy of a slice from a DataFrame.\n",
            "Try using .loc[row_indexer,col_indexer] = value instead\n",
            "\n",
            "See the caveats in the documentation: https://pandas.pydata.org/pandas-docs/stable/user_guide/indexing.html#returning-a-view-versus-a-copy\n",
            "  df['FECHA NACIMIENTO'] = df['FECHA NACIMIENTO'].apply(lambda x: np.nan if str(x).isdigit() or x == '(ADULTO)' else x)\n",
            "<ipython-input-98-1db86cc03e61>:59: SettingWithCopyWarning: \n",
            "A value is trying to be set on a copy of a slice from a DataFrame.\n",
            "Try using .loc[row_indexer,col_indexer] = value instead\n",
            "\n",
            "See the caveats in the documentation: https://pandas.pydata.org/pandas-docs/stable/user_guide/indexing.html#returning-a-view-versus-a-copy\n",
            "  df['CP'] =df['CP'].astype('Int64')\n",
            "<ipython-input-98-1db86cc03e61>:61: SettingWithCopyWarning: \n",
            "A value is trying to be set on a copy of a slice from a DataFrame.\n",
            "Try using .loc[row_indexer,col_indexer] = value instead\n",
            "\n",
            "See the caveats in the documentation: https://pandas.pydata.org/pandas-docs/stable/user_guide/indexing.html#returning-a-view-versus-a-copy\n",
            "  df['YEAR NACIMIENTO'] = df['FECHA NACIMIENTO'].dt.year\n"
          ]
        }
      ]
    },
    {
      "cell_type": "code",
      "source": [
        "# CÓDIGO DE USO PARA EL CURRO\n",
        "TO_SAAF = transform_df(TO_SAAF)\n",
        "TO_SAAF = mapping_names(TO_SAAF)\n",
        "TO_SAAF = kept_columns(TO_SAAF)\n",
        "TO_SAAF = CP_year(TO_SAAF)\n",
        "TO_SAAF = other_columns(TO_SAAF)"
      ],
      "metadata": {
        "id": "I0XNnELq1Cos",
        "outputId": "3af9cbb5-43ce-4570-e6d2-468a0835e287",
        "colab": {
          "base_uri": "https://localhost:8080/"
        }
      },
      "execution_count": 106,
      "outputs": [
        {
          "output_type": "stream",
          "name": "stderr",
          "text": [
            "<ipython-input-98-1db86cc03e61>:56: SettingWithCopyWarning: \n",
            "A value is trying to be set on a copy of a slice from a DataFrame.\n",
            "Try using .loc[row_indexer,col_indexer] = value instead\n",
            "\n",
            "See the caveats in the documentation: https://pandas.pydata.org/pandas-docs/stable/user_guide/indexing.html#returning-a-view-versus-a-copy\n",
            "  df['FECHA NACIMIENTO'] = df['FECHA NACIMIENTO'].apply(lambda x: np.nan if str(x).isdigit() or x == '(ADULTO)' else x)\n",
            "<ipython-input-98-1db86cc03e61>:59: SettingWithCopyWarning: \n",
            "A value is trying to be set on a copy of a slice from a DataFrame.\n",
            "Try using .loc[row_indexer,col_indexer] = value instead\n",
            "\n",
            "See the caveats in the documentation: https://pandas.pydata.org/pandas-docs/stable/user_guide/indexing.html#returning-a-view-versus-a-copy\n",
            "  df['CP'] =df['CP'].astype('Int64')\n",
            "<ipython-input-98-1db86cc03e61>:61: SettingWithCopyWarning: \n",
            "A value is trying to be set on a copy of a slice from a DataFrame.\n",
            "Try using .loc[row_indexer,col_indexer] = value instead\n",
            "\n",
            "See the caveats in the documentation: https://pandas.pydata.org/pandas-docs/stable/user_guide/indexing.html#returning-a-view-versus-a-copy\n",
            "  df['YEAR NACIMIENTO'] = df['FECHA NACIMIENTO'].dt.year\n"
          ]
        }
      ]
    },
    {
      "cell_type": "code",
      "source": [
        "# CÓDIGO DE USO PARA EL CURRO\n",
        "AB_SAAF = transform_df(AB_SAAF)\n",
        "AB_SAAF = mapping_names(AB_SAAF)\n",
        "AB_SAAF = kept_columns(AB_SAAF)\n",
        "AB_SAAF = CP_year(AB_SAAF)\n",
        "AB_SAAF = other_columns(AB_SAAF)\n",
        "AB_SAAF = left_columns_norm(AB_SAAF)"
      ],
      "metadata": {
        "id": "YsLvgEbK1KYm",
        "outputId": "f0e18e56-ac84-4ce1-a1af-7b93c54d602d",
        "colab": {
          "base_uri": "https://localhost:8080/"
        }
      },
      "execution_count": 107,
      "outputs": [
        {
          "output_type": "stream",
          "name": "stderr",
          "text": [
            "<ipython-input-98-1db86cc03e61>:56: SettingWithCopyWarning: \n",
            "A value is trying to be set on a copy of a slice from a DataFrame.\n",
            "Try using .loc[row_indexer,col_indexer] = value instead\n",
            "\n",
            "See the caveats in the documentation: https://pandas.pydata.org/pandas-docs/stable/user_guide/indexing.html#returning-a-view-versus-a-copy\n",
            "  df['FECHA NACIMIENTO'] = df['FECHA NACIMIENTO'].apply(lambda x: np.nan if str(x).isdigit() or x == '(ADULTO)' else x)\n",
            "<ipython-input-98-1db86cc03e61>:59: SettingWithCopyWarning: \n",
            "A value is trying to be set on a copy of a slice from a DataFrame.\n",
            "Try using .loc[row_indexer,col_indexer] = value instead\n",
            "\n",
            "See the caveats in the documentation: https://pandas.pydata.org/pandas-docs/stable/user_guide/indexing.html#returning-a-view-versus-a-copy\n",
            "  df['CP'] =df['CP'].astype('Int64')\n",
            "<ipython-input-98-1db86cc03e61>:61: SettingWithCopyWarning: \n",
            "A value is trying to be set on a copy of a slice from a DataFrame.\n",
            "Try using .loc[row_indexer,col_indexer] = value instead\n",
            "\n",
            "See the caveats in the documentation: https://pandas.pydata.org/pandas-docs/stable/user_guide/indexing.html#returning-a-view-versus-a-copy\n",
            "  df['YEAR NACIMIENTO'] = df['FECHA NACIMIENTO'].dt.year\n"
          ]
        }
      ]
    },
    {
      "cell_type": "markdown",
      "source": [
        "#OJO EN CR NO HAY NI CP NI LOCALIDAD, NO PUEDO CRUZAR LOS DATOS CON NADA."
      ],
      "metadata": {
        "id": "N6OIYgaF2OLN"
      }
    },
    {
      "cell_type": "code",
      "source": [
        "# CÓDIGO DE USO PARA EL CURRO\n",
        "CR_SAAF = transform_df(CR_SAAF)\n",
        "CR_SAAF = mapping_names(CR_SAAF)\n",
        "CR_SAAF = kept_columns(CR_SAAF)\n",
        "CR_SAAF = CP_year(CR_SAAF)\n",
        "CR_SAAF = other_columns(CR_SAAF)"
      ],
      "metadata": {
        "id": "OSMAV73e1NBN",
        "outputId": "9a5b1558-c8ed-47b0-d076-064008dbf0c5",
        "colab": {
          "base_uri": "https://localhost:8080/"
        }
      },
      "execution_count": 108,
      "outputs": [
        {
          "output_type": "stream",
          "name": "stderr",
          "text": [
            "<ipython-input-98-1db86cc03e61>:56: SettingWithCopyWarning: \n",
            "A value is trying to be set on a copy of a slice from a DataFrame.\n",
            "Try using .loc[row_indexer,col_indexer] = value instead\n",
            "\n",
            "See the caveats in the documentation: https://pandas.pydata.org/pandas-docs/stable/user_guide/indexing.html#returning-a-view-versus-a-copy\n",
            "  df['FECHA NACIMIENTO'] = df['FECHA NACIMIENTO'].apply(lambda x: np.nan if str(x).isdigit() or x == '(ADULTO)' else x)\n",
            "<ipython-input-98-1db86cc03e61>:59: SettingWithCopyWarning: \n",
            "A value is trying to be set on a copy of a slice from a DataFrame.\n",
            "Try using .loc[row_indexer,col_indexer] = value instead\n",
            "\n",
            "See the caveats in the documentation: https://pandas.pydata.org/pandas-docs/stable/user_guide/indexing.html#returning-a-view-versus-a-copy\n",
            "  df['CP'] =df['CP'].astype('Int64')\n",
            "<ipython-input-98-1db86cc03e61>:61: SettingWithCopyWarning: \n",
            "A value is trying to be set on a copy of a slice from a DataFrame.\n",
            "Try using .loc[row_indexer,col_indexer] = value instead\n",
            "\n",
            "See the caveats in the documentation: https://pandas.pydata.org/pandas-docs/stable/user_guide/indexing.html#returning-a-view-versus-a-copy\n",
            "  df['YEAR NACIMIENTO'] = df['FECHA NACIMIENTO'].dt.year\n"
          ]
        }
      ]
    },
    {
      "cell_type": "code",
      "source": [
        "CLM_SAAF = pd.concat([CU_SAAF, CR_SAAF, GU_SAAF, TO_SAAF])\n",
        "CLM_SAAF.info()"
      ],
      "metadata": {
        "id": "AUuiz7aeZJJq",
        "outputId": "aa58ceb6-f5d9-4e8e-eff0-689ba7b74709",
        "colab": {
          "base_uri": "https://localhost:8080/"
        }
      },
      "execution_count": 109,
      "outputs": [
        {
          "output_type": "stream",
          "name": "stdout",
          "text": [
            "<class 'pandas.core.frame.DataFrame'>\n",
            "Index: 311 entries, 0 to 111\n",
            "Data columns (total 12 columns):\n",
            " #   Column                  Non-Null Count  Dtype         \n",
            "---  ------                  --------------  -----         \n",
            " 0   FECHA NACIMIENTO        311 non-null    datetime64[ns]\n",
            " 1   GENERO                  216 non-null    object        \n",
            " 2   LOCALIDAD               311 non-null    object        \n",
            " 3   CP                      306 non-null    Int64         \n",
            " 4   TIPO SORDERA            171 non-null    object        \n",
            " 5   GRADO PERDIDA           59 non-null     object        \n",
            " 6   MOMENTO APARICION       61 non-null     object        \n",
            " 7   MODALIDAD COMUNICATIVA  159 non-null    object        \n",
            " 8   GRADO DISCAPACIDAD      56 non-null     float64       \n",
            " 9   YEAR NACIMIENTO         311 non-null    int32         \n",
            " 10  AUD O PROTESIS          311 non-null    object        \n",
            " 11  FECHA ALTA              95 non-null     datetime64[ns]\n",
            "dtypes: Int64(1), datetime64[ns](2), float64(1), int32(1), object(7)\n",
            "memory usage: 30.7+ KB\n"
          ]
        }
      ]
    },
    {
      "cell_type": "code",
      "source": [
        "CLM_SAAF = left_columns_norm(CLM_SAAF)\n",
        "CLM_SAAF.info()"
      ],
      "metadata": {
        "id": "X2X0HUmtdkHv",
        "outputId": "6c92a71b-0017-432b-c2ed-bf0b41d15f22",
        "colab": {
          "base_uri": "https://localhost:8080/"
        }
      },
      "execution_count": 118,
      "outputs": [
        {
          "output_type": "stream",
          "name": "stdout",
          "text": [
            "<class 'pandas.core.frame.DataFrame'>\n",
            "Index: 311 entries, 0 to 111\n",
            "Data columns (total 12 columns):\n",
            " #   Column                  Non-Null Count  Dtype         \n",
            "---  ------                  --------------  -----         \n",
            " 0   FECHA NACIMIENTO        311 non-null    datetime64[ns]\n",
            " 1   GENERO                  216 non-null    object        \n",
            " 2   LOCALIDAD               311 non-null    object        \n",
            " 3   CP                      306 non-null    Int64         \n",
            " 4   TIPO SORDERA            311 non-null    object        \n",
            " 5   GRADO PERDIDA           59 non-null     object        \n",
            " 6   MOMENTO APARICION       311 non-null    object        \n",
            " 7   MODALIDAD COMUNICATIVA  311 non-null    object        \n",
            " 8   GRADO DISCAPACIDAD      311 non-null    float64       \n",
            " 9   YEAR NACIMIENTO         311 non-null    int32         \n",
            " 10  AUD O PROTESIS          311 non-null    object        \n",
            " 11  FECHA ALTA              95 non-null     datetime64[ns]\n",
            "dtypes: Int64(1), datetime64[ns](2), float64(1), int32(1), object(7)\n",
            "memory usage: 30.7+ KB\n"
          ]
        }
      ]
    },
    {
      "cell_type": "code",
      "source": [
        "# ESTO LO HAGO DESPUÉS DE SACAR EL DOC PARA CLM ENTERO, ASÍ NO QUITO NINGÚN DATO PARA EL INFORME DE COMUNIDAD\n",
        "AB_SAAF = delete_not_important_columns(AB_SAAF)\n",
        "AB_SAAF = left_columns_norm(AB_SAAF)\n",
        "\n",
        "CU_SAAF = delete_not_important_columns(CU_SAAF)\n",
        "CU_SAAF = left_columns_norm(CU_SAAF)\n",
        "\n",
        "CR_SAAF = delete_not_important_columns(CR_SAAF)\n",
        "CR_SAAF = left_columns_norm(CR_SAAF)\n",
        "\n",
        "GU_SAAF = delete_not_important_columns(GU_SAAF)\n",
        "GU_SAAF = left_columns_norm(GU_SAAF)\n",
        "\n",
        "TO_SAAF = delete_not_important_columns(TO_SAAF)\n",
        "TO_SAAF = left_columns_norm(TO_SAAF)"
      ],
      "metadata": {
        "id": "M46HKGt7ZLDI",
        "outputId": "c9d8b2c4-03df-4bbb-ba59-2de601b79828",
        "colab": {
          "base_uri": "https://localhost:8080/"
        }
      },
      "execution_count": 111,
      "outputs": [
        {
          "output_type": "stream",
          "name": "stderr",
          "text": [
            "<ipython-input-101-33e17827c768>:14: RuntimeWarning: invalid value encountered in scalar divide\n",
            "  if df[col].isnull().sum() / len(df) >= max_percentage:\n"
          ]
        }
      ]
    },
    {
      "cell_type": "code",
      "source": [
        "# CÓDIGO DE USO PARA EL CURRO\n",
        "# CU_SAAF.info()\n",
        "# column_names = CU_SAAF.columns.tolist()\n",
        "\n",
        "# for column in column_names:\n",
        "#   unique_val = CU_SAAF[column].unique()\n",
        "#   print(unique_val)"
      ],
      "metadata": {
        "id": "1QItI6b9_phA"
      },
      "execution_count": 115,
      "outputs": []
    },
    {
      "cell_type": "code",
      "source": [
        "# column_names = dic_dataframes['CU_SAAF.xlsx'].columns.tolist()\n",
        "\n",
        "# for column in column_names:\n",
        "#   unique_val = dic_dataframes['CU_SAAF.xlsx'][column].unique()\n",
        "#   print(unique_val)"
      ],
      "metadata": {
        "id": "1doWoxX2Jltq"
      },
      "execution_count": 113,
      "outputs": []
    },
    {
      "cell_type": "code",
      "source": [
        "df_comun = pd.merge(dic_dataframes['CU_SAAF.xlsx'], mun_pri_clm, left_on='LOCALIDAD', right_on='ZONA PRIORITARIA')\n",
        "df_comun"
      ],
      "metadata": {
        "id": "i4n9cHTXcCqI",
        "outputId": "bc4ee2e7-c4d8-4db9-e35b-f81c61822d0e",
        "colab": {
          "base_uri": "https://localhost:8080/",
          "height": 176
        }
      },
      "execution_count": 114,
      "outputs": [
        {
          "output_type": "error",
          "ename": "NameError",
          "evalue": "name 'dic_dataframes' is not defined",
          "traceback": [
            "\u001b[0;31m---------------------------------------------------------------------------\u001b[0m",
            "\u001b[0;31mNameError\u001b[0m                                 Traceback (most recent call last)",
            "\u001b[0;32m<ipython-input-114-c5722ee76658>\u001b[0m in \u001b[0;36m<cell line: 1>\u001b[0;34m()\u001b[0m\n\u001b[0;32m----> 1\u001b[0;31m \u001b[0mdf_comun\u001b[0m \u001b[0;34m=\u001b[0m \u001b[0mpd\u001b[0m\u001b[0;34m.\u001b[0m\u001b[0mmerge\u001b[0m\u001b[0;34m(\u001b[0m\u001b[0mdic_dataframes\u001b[0m\u001b[0;34m[\u001b[0m\u001b[0;34m'CU_SAAF.xlsx'\u001b[0m\u001b[0;34m]\u001b[0m\u001b[0;34m,\u001b[0m \u001b[0mmun_pri_clm\u001b[0m\u001b[0;34m,\u001b[0m \u001b[0mleft_on\u001b[0m\u001b[0;34m=\u001b[0m\u001b[0;34m'LOCALIDAD'\u001b[0m\u001b[0;34m,\u001b[0m \u001b[0mright_on\u001b[0m\u001b[0;34m=\u001b[0m\u001b[0;34m'ZONA PRIORITARIA'\u001b[0m\u001b[0;34m)\u001b[0m\u001b[0;34m\u001b[0m\u001b[0;34m\u001b[0m\u001b[0m\n\u001b[0m\u001b[1;32m      2\u001b[0m \u001b[0mdf_comun\u001b[0m\u001b[0;34m\u001b[0m\u001b[0;34m\u001b[0m\u001b[0m\n",
            "\u001b[0;31mNameError\u001b[0m: name 'dic_dataframes' is not defined"
          ]
        }
      ]
    },
    {
      "cell_type": "markdown",
      "source": [
        "Vemos el impacto que tiene en las zonas prioritarias."
      ],
      "metadata": {
        "id": "41R1ETSNgyxX"
      }
    },
    {
      "cell_type": "code",
      "source": [
        "# Calcular el conteo de registros para cada categoría\n",
        "cat_count = df_comun['LOCALIDAD'].value_counts()\n",
        "\n",
        "# Crear un gráfico de barras\n",
        "cat_count.sort_index().plot(kind='bar')\n",
        "\n",
        "# Personalización adicional\n",
        "plt.title('SAAF: Impacto en Zonas por Zonas Prioritarias')\n",
        "plt.xlabel('ZONA PRIORITARIA')\n",
        "plt.ylabel('Número de Registros')\n",
        "plt.xticks(rotation=45)  # Rota las etiquetas del eje X para mejor lectura\n",
        "plt.show()"
      ],
      "metadata": {
        "id": "yA6sWBBaeR-c"
      },
      "execution_count": null,
      "outputs": []
    },
    {
      "cell_type": "code",
      "source": [
        "print(\"En este caso concreto las localidades con impacto dentro de las que se incluyen en las zonas prioritarias son: \\n\\nLocalidad Nº Registros\")\n",
        "print(cat_count)\n",
        "# DEFINIR QUÉ SE CONSIDERA IMPACTO FUERTE/IMPACTO NORMAL/IMPACTO LEVE\n",
        "# Iterar sobre la serie y mostrar solo las localidades con un valor mayor que 10\n",
        "for localidad, valor in cat_count.items():\n",
        "    if valor > 10:\n",
        "      print(f\"La Localidad de {localidad} tiene un impacto fuerte, ya que cuenta con {valor} registros.\")\n",
        "    elif valor > 5:\n",
        "      print(f\"La Localidad de {localidad} tiene un impacto medio, ya que cuenta con {valor} registros.\")\n",
        "    else:\n",
        "      if valor > 1:\n",
        "        print(f\"La Localidad de {localidad} tiene un impacto leve, ya que cuenta con {valor} registros.\")\n",
        "      else:\n",
        "        print(f\"La Localidad de {localidad} tiene un impacto leve, ya que cuenta con {valor} registro.\")"
      ],
      "metadata": {
        "id": "_jZTIFrahZzL"
      },
      "execution_count": null,
      "outputs": []
    }
  ]
}