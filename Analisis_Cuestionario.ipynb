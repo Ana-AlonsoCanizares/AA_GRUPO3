{
  "cells": [
    {
      "cell_type": "markdown",
      "metadata": {
        "id": "view-in-github",
        "colab_type": "text"
      },
      "source": [
        "<a href=\"https://colab.research.google.com/github/Ana-AlonsoCanizares/AA_GRUPO3/blob/main/Analisis_Cuestionario.ipynb\" target=\"_parent\"><img src=\"https://colab.research.google.com/assets/colab-badge.svg\" alt=\"Open In Colab\"/></a>"
      ]
    },
    {
      "cell_type": "code",
      "source": [
        "pip install unidecode"
      ],
      "metadata": {
        "id": "FlfAqn7hc_yo"
      },
      "execution_count": null,
      "outputs": []
    },
    {
      "cell_type": "code",
      "source": [
        "import os\n",
        "import pandas as pd\n",
        "import numpy as np\n",
        "from unidecode import unidecode\n",
        "import matplotlib.pyplot as plt"
      ],
      "metadata": {
        "id": "AHlORdgldBfT"
      },
      "execution_count": null,
      "outputs": []
    },
    {
      "cell_type": "code",
      "source": [
        "df_respuestas = pd.read_excel('/content/Cuestionario_Mayo.xlsx')"
      ],
      "metadata": {
        "id": "kTADXejKcfJj"
      },
      "execution_count": null,
      "outputs": []
    },
    {
      "cell_type": "code",
      "source": [
        "def cols_to_keep(df):\n",
        "  cols = ['¿Qué tipología de agente eres?', '¿Has usado el nuevo informe?', '¿Cuánto lo has usado? Marca un número del 0 al 5 (siendo 0 nada y 5 mucho)', '¿Sabes interpretarlo con facilidad?', '¿Cuáles son los motivos por los que te cuesta interpretar el informe?', '¿Cómo de útil te ha sido el informe? Marca un número del 0 al 5 (siendo 0 nada y 5 mucho)', '¿Modificarías algo del informe?', '¿Qué cambiarías, eliminarías o añadirías en el informe?', '¿Qué aspectos positivos destacas del informe?']\n",
        "  df = df[cols]\n",
        "  return df\n",
        "\n",
        "def clean_df(df):\n",
        "    # Convertir todas las columnas de tipo object a mayúsculas, excepto las especificadas\n",
        "    for column in df.columns:\n",
        "        if df[column].dtype == 'object':\n",
        "            df[column] = df[column].apply(lambda x: unidecode(x.upper()) if isinstance(x, str) else x)\n",
        "\n",
        "    # Ahora, aplicamos unidecode a los nombres de las columnas\n",
        "    df.columns = [unidecode(col.upper()) for col in df.columns]\n",
        "    return df"
      ],
      "metadata": {
        "id": "r7MbgpTtdQwj"
      },
      "execution_count": null,
      "outputs": []
    }
  ],
  "metadata": {
    "colab": {
      "name": "Welcome To Colab",
      "provenance": [],
      "include_colab_link": true
    },
    "kernelspec": {
      "display_name": "Python 3",
      "name": "python3"
    }
  },
  "nbformat": 4,
  "nbformat_minor": 0
}