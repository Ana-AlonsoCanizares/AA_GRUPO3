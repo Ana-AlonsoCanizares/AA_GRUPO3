{
  "nbformat": 4,
  "nbformat_minor": 0,
  "metadata": {
    "colab": {
      "provenance": [],
      "collapsed_sections": [
        "Q2YMAqaisLQL",
        "2sKUM1-cH4K0",
        "u7LGeN_YH8cM",
        "gmUoqfgutGGU",
        "hc7YuQqyuh5w",
        "r0x_48NGXU33"
      ],
      "toc_visible": true,
      "include_colab_link": true
    },
    "kernelspec": {
      "name": "python3",
      "display_name": "Python 3"
    },
    "language_info": {
      "name": "python"
    }
  },
  "cells": [
    {
      "cell_type": "markdown",
      "metadata": {
        "id": "view-in-github",
        "colab_type": "text"
      },
      "source": [
        "<a href=\"https://colab.research.google.com/github/Ana-AlonsoCanizares/AA_GRUPO3/blob/main/AA_PRACTICA1_GRUPO3.ipynb\" target=\"_parent\"><img src=\"https://colab.research.google.com/assets/colab-badge.svg\" alt=\"Open In Colab\"/></a>"
      ]
    },
    {
      "cell_type": "code",
      "source": [
        "# IMPORTAMOS KERAS\n",
        "%tensorflow_version 2.x\n",
        "import tensorflow as tf\n",
        "from tensorflow import keras\n",
        "print(tf.keras.__version__)\n",
        "print(\"GPU Available:\", tf.config.list_physical_devices('GPU'))\n",
        "print(tf.__version__)"
      ],
      "metadata": {
        "colab": {
          "base_uri": "https://localhost:8080/"
        },
        "id": "zRPTsTvDHt49",
        "outputId": "6e9053bc-49c5-467e-b98c-b75709cb2407"
      },
      "execution_count": null,
      "outputs": [
        {
          "output_type": "stream",
          "name": "stdout",
          "text": [
            "Colab only includes TensorFlow 2.x; %tensorflow_version has no effect.\n",
            "2.9.0\n",
            "GPU Available: []\n",
            "2.9.2\n"
          ]
        }
      ]
    },
    {
      "cell_type": "markdown",
      "source": [
        "## DATOS"
      ],
      "metadata": {
        "id": "Q2YMAqaisLQL"
      }
    },
    {
      "cell_type": "markdown",
      "source": [
        "### Cargamos el dataset"
      ],
      "metadata": {
        "id": "2sKUM1-cH4K0"
      }
    },
    {
      "cell_type": "code",
      "source": [
        "# CARGAMOS EL CONJUNTO DE DATOS MINIST EN KERAS\n",
        "from keras.datasets import fashion_mnist\n",
        "\n",
        "(train_images, train_labels), (test_images, test_labels) = fashion_mnist.load_data()"
      ],
      "metadata": {
        "id": "csfyDV8jU9nA"
      },
      "execution_count": null,
      "outputs": []
    },
    {
      "cell_type": "code",
      "source": [
        "print(train_images.shape)"
      ],
      "metadata": {
        "colab": {
          "base_uri": "https://localhost:8080/"
        },
        "id": "9XfS0eSyVUH5",
        "outputId": "59187509-c97b-4ed1-8208-5b5613d4de50"
      },
      "execution_count": null,
      "outputs": [
        {
          "output_type": "stream",
          "name": "stdout",
          "text": [
            "(60000, 28, 28)\n"
          ]
        }
      ]
    },
    {
      "cell_type": "code",
      "source": [
        "# Vemos la matriz de la imagen número 0 (28x28)\n",
        "import numpy as np\n",
        "np.set_printoptions(precision=2, suppress=True, linewidth=145)\n",
        "print(np.matrix(train_images[0]))"
      ],
      "metadata": {
        "colab": {
          "base_uri": "https://localhost:8080/"
        },
        "id": "fp_zULtUVn-x",
        "outputId": "615045a1-64a5-4a80-9c3d-eb47757739a3"
      },
      "execution_count": null,
      "outputs": [
        {
          "output_type": "stream",
          "name": "stdout",
          "text": [
            "[[  0   0   0   0   0   0   0   0   0   0   0   0   0   0   0   0   0   0   0   0   0   0   0   0   0   0   0   0]\n",
            " [  0   0   0   0   0   0   0   0   0   0   0   0   0   0   0   0   0   0   0   0   0   0   0   0   0   0   0   0]\n",
            " [  0   0   0   0   0   0   0   0   0   0   0   0   0   0   0   0   0   0   0   0   0   0   0   0   0   0   0   0]\n",
            " [  0   0   0   0   0   0   0   0   0   0   0   0   1   0   0  13  73   0   0   1   4   0   0   0   0   1   1   0]\n",
            " [  0   0   0   0   0   0   0   0   0   0   0   0   3   0  36 136 127  62  54   0   0   0   1   3   4   0   0   3]\n",
            " [  0   0   0   0   0   0   0   0   0   0   0   0   6   0 102 204 176 134 144 123  23   0   0   0   0  12  10   0]\n",
            " [  0   0   0   0   0   0   0   0   0   0   0   0   0   0 155 236 207 178 107 156 161 109  64  23  77 130  72  15]\n",
            " [  0   0   0   0   0   0   0   0   0   0   0   1   0  69 207 223 218 216 216 163 127 121 122 146 141  88 172  66]\n",
            " [  0   0   0   0   0   0   0   0   0   1   1   1   0 200 232 232 233 229 223 223 215 213 164 127 123 196 229   0]\n",
            " [  0   0   0   0   0   0   0   0   0   0   0   0   0 183 225 216 223 228 235 227 224 222 224 221 223 245 173   0]\n",
            " [  0   0   0   0   0   0   0   0   0   0   0   0   0 193 228 218 213 198 180 212 210 211 213 223 220 243 202   0]\n",
            " [  0   0   0   0   0   0   0   0   0   1   3   0  12 219 220 212 218 192 169 227 208 218 224 212 226 197 209  52]\n",
            " [  0   0   0   0   0   0   0   0   0   0   6   0  99 244 222 220 218 203 198 221 215 213 222 220 245 119 167  56]\n",
            " [  0   0   0   0   0   0   0   0   0   4   0   0  55 236 228 230 228 240 232 213 218 223 234 217 217 209  92   0]\n",
            " [  0   0   1   4   6   7   2   0   0   0   0   0 237 226 217 223 222 219 222 221 216 223 229 215 218 255  77   0]\n",
            " [  0   3   0   0   0   0   0   0   0  62 145 204 228 207 213 221 218 208 211 218 224 223 219 215 224 244 159   0]\n",
            " [  0   0   0   0  18  44  82 107 189 228 220 222 217 226 200 205 211 230 224 234 176 188 250 248 233 238 215   0]\n",
            " [  0  57 187 208 224 221 224 208 204 214 208 209 200 159 245 193 206 223 255 255 221 234 221 211 220 232 246   0]\n",
            " [  3 202 228 224 221 211 211 214 205 205 205 220 240  80 150 255 229 221 188 154 191 210 204 209 222 228 225   0]\n",
            " [ 98 233 198 210 222 229 229 234 249 220 194 215 217 241  65  73 106 117 168 219 221 215 217 223 223 224 229  29]\n",
            " [ 75 204 212 204 193 205 211 225 216 185 197 206 198 213 240 195 227 245 239 223 218 212 209 222 220 221 230  67]\n",
            " [ 48 203 183 194 213 197 185 190 194 192 202 214 219 221 220 236 225 216 199 206 186 181 177 172 181 205 206 115]\n",
            " [  0 122 219 193 179 171 183 196 204 210 213 207 211 210 200 196 194 191 195 191 198 192 176 156 167 177 210  92]\n",
            " [  0   0  74 189 212 191 175 172 175 181 185 188 189 188 193 198 204 209 210 210 211 188 188 194 192 216 170   0]\n",
            " [  2   0   0   0  66 200 222 237 239 242 246 243 244 221 220 193 191 179 182 182 181 176 166 168  99  58   0   0]\n",
            " [  0   0   0   0   0   0   0  40  61  44  72  41  35   0   0   0   0   0   0   0   0   0   0   0   0   0   0   0]\n",
            " [  0   0   0   0   0   0   0   0   0   0   0   0   0   0   0   0   0   0   0   0   0   0   0   0   0   0   0   0]\n",
            " [  0   0   0   0   0   0   0   0   0   0   0   0   0   0   0   0   0   0   0   0   0   0   0   0   0   0   0   0]]\n"
          ]
        }
      ]
    },
    {
      "cell_type": "code",
      "source": [
        "# La imagen anterior corresponde con la bota asociada al número 9. Hasta se puede intuir.... \n",
        "train_labels[0]"
      ],
      "metadata": {
        "colab": {
          "base_uri": "https://localhost:8080/"
        },
        "id": "o1YpxSDGV3mL",
        "outputId": "0ec0dfd1-0217-4579-843e-193d9284badc"
      },
      "execution_count": null,
      "outputs": [
        {
          "output_type": "execute_result",
          "data": {
            "text/plain": [
              "9"
            ]
          },
          "metadata": {},
          "execution_count": 110
        }
      ]
    },
    {
      "cell_type": "code",
      "source": [
        "# Veamos el elemento 0 y pintémoslo con matplotlib\n",
        "import matplotlib.pyplot as plt\n",
        "digit = train_images[0]\n",
        "plt.imshow(digit, cmap=plt.cm.binary)\n",
        "plt.show()"
      ],
      "metadata": {
        "colab": {
          "base_uri": "https://localhost:8080/",
          "height": 265
        },
        "id": "qan4tupXWgk0",
        "outputId": "770bcda2-b446-4e1c-aaae-88fa45570269"
      },
      "execution_count": null,
      "outputs": [
        {
          "output_type": "display_data",
          "data": {
            "text/plain": [
              "<Figure size 432x288 with 1 Axes>"
            ],
            "image/png": "[encoded data removed]"
          },
          "metadata": {
            "needs_background": "light"
          }
        }
      ]
    },
    {
      "cell_type": "markdown",
      "source": [
        "### Preprocesamiento"
      ],
      "metadata": {
        "id": "u7LGeN_YH8cM"
      }
    },
    {
      "cell_type": "code",
      "source": [
        "# PREPARAMOS LOS DATOS DE IMAGEN CON ALGUNA TRANSFORMACIÓN. NORMALIZACION\n",
        "# Los tensores transformados tienen la misma cantidad de datos total que el \n",
        "# tensor inicial\n",
        "\n",
        "# Imagenes y etiquetas de entrenamiento.\n",
        "train_images = train_images.reshape((60000, 28 * 28))\n",
        "train_images = train_images.astype('float32') / 255\n",
        "# Imagenes y etiquetas de test.\n",
        "test_images = test_images.reshape((10000, 28 * 28))\n",
        "test_images = test_images.astype('float32') / 255"
      ],
      "metadata": {
        "id": "QxzCYPBzH_Ti"
      },
      "execution_count": null,
      "outputs": []
    },
    {
      "cell_type": "code",
      "source": [
        "# PREPARACIÓN LAS ETIQUETAS\n",
        "from keras.utils.np_utils import to_categorical\n",
        "\n",
        "train_labels = to_categorical(train_labels)\n",
        "test_labels = to_categorical(test_labels)"
      ],
      "metadata": {
        "id": "Foma7i5fIFj5"
      },
      "execution_count": null,
      "outputs": []
    },
    {
      "cell_type": "markdown",
      "source": [
        "##MODELOS"
      ],
      "metadata": {
        "id": "i_JRQCknyULT"
      }
    },
    {
      "cell_type": "markdown",
      "source": [
        "En esta sección se definen y entrenan cada uno de los 8 modelos que se estudian en esta práctica.\n",
        "\n",
        "Para simplificar el archivo, se emparejan 2 a 2 los modelos que solo se diferencian en el paso de compilación"
      ],
      "metadata": {
        "id": "7nq6qIlRiyHI"
      }
    },
    {
      "cell_type": "code",
      "source": [
        "# Librerías a utilizar para construir los modelos\n",
        "from keras import models\n",
        "from keras import layers"
      ],
      "metadata": {
        "id": "1ThMYzdlWkNs"
      },
      "execution_count": null,
      "outputs": []
    },
    {
      "cell_type": "code",
      "source": [
        "# Definimos variables que van a contener los resultados de los entrenamientos\n",
        "HISTORY = []\n",
        "TEST_LOSS = []\n",
        "TEST_ACC = []"
      ],
      "metadata": {
        "id": "Wi6cjmiIf7-U"
      },
      "execution_count": null,
      "outputs": []
    },
    {
      "cell_type": "markdown",
      "source": [
        "### Modelo 1 y 2"
      ],
      "metadata": {
        "id": "gmUoqfgutGGU"
      }
    },
    {
      "cell_type": "code",
      "source": [
        "# ARQUITECTURA DE LA RED\n",
        "Modelo1 = models.Sequential()\n",
        "Modelo1.add(layers.Dense(10, activation='relu', input_shape=(28*28,)))\n",
        "Modelo1.add(layers.Dense(10, activation='softmax'))\n",
        "\n",
        "Modelo2 = models.Sequential()\n",
        "Modelo2.add(layers.Dense(10, activation='relu', input_shape=(28*28,)))\n",
        "Modelo2.add(layers.Dense(10, activation='softmax'))\n",
        "\n",
        "Modelo1.summary() # Summary de Modelo1 es igual que el de Modelo2\n",
        "# Nombre de las capas automáticos a no ser que lo definamos\n",
        "# 7.850 = 784 x 10 + 10 Sesgo\n",
        "# 110 = 10x10 + 10 Sesgo\n",
        "# 7.960 = 7.850 + 110"
      ],
      "metadata": {
        "colab": {
          "base_uri": "https://localhost:8080/"
        },
        "id": "sUAENtHIWs5H",
        "outputId": "74728644-daf0-4749-fb7c-547403dabff8"
      },
      "execution_count": null,
      "outputs": [
        {
          "output_type": "stream",
          "name": "stdout",
          "text": [
            "Model: \"sequential_18\"\n",
            "_________________________________________________________________\n",
            " Layer (type)                Output Shape              Param #   \n",
            "=================================================================\n",
            " dense_36 (Dense)            (None, 10)                7850      \n",
            "                                                                 \n",
            " dense_37 (Dense)            (None, 10)                110       \n",
            "                                                                 \n",
            "=================================================================\n",
            "Total params: 7,960\n",
            "Trainable params: 7,960\n",
            "Non-trainable params: 0\n",
            "_________________________________________________________________\n"
          ]
        }
      ]
    },
    {
      "cell_type": "code",
      "source": [
        "# COMPILACIÓN DE LOS MODELOS\n",
        "Modelo1.compile(optimizer='sgd', # Optimizador 'sgd' (Stocastic Gradient Descendent)\n",
        "                loss='categorical_crossentropy',\n",
        "                metrics=['accuracy'])\n",
        "\n",
        "Modelo2.compile(optimizer='rmsprop', # Optimizador 'rmsprop' (Stocastic Gradient Descendent)\n",
        "                loss='categorical_crossentropy', # Función de pérdida\n",
        "                metrics=['accuracy']) # Mética de Precisión"
      ],
      "metadata": {
        "id": "KKIBRp2JY9tH"
      },
      "execution_count": null,
      "outputs": []
    },
    {
      "cell_type": "code",
      "source": [
        "# ENTRENAMOS EL MODELO 1 CON EL JUEGO DE DATOS DE ENTRENAMIENTO\n",
        "history_M1 = Modelo1.fit(train_images, train_labels, epochs=5, batch_size=128)\n",
        "HISTORY.append(history_M1)"
      ],
      "metadata": {
        "colab": {
          "base_uri": "https://localhost:8080/"
        },
        "id": "U2-aKeGUadRP",
        "outputId": "f5b75991-bb57-42e8-cd1a-281e280c3ab8"
      },
      "execution_count": null,
      "outputs": [
        {
          "output_type": "stream",
          "name": "stdout",
          "text": [
            "Epoch 1/5\n",
            "469/469 [==============================] - 2s 3ms/step - loss: 1.3861 - accuracy: 0.5605\n",
            "Epoch 2/5\n",
            "469/469 [==============================] - 2s 3ms/step - loss: 0.8108 - accuracy: 0.7401\n",
            "Epoch 3/5\n",
            "469/469 [==============================] - 2s 5ms/step - loss: 0.6949 - accuracy: 0.7692\n",
            "Epoch 4/5\n",
            "469/469 [==============================] - 1s 3ms/step - loss: 0.6350 - accuracy: 0.7867\n",
            "Epoch 5/5\n",
            "469/469 [==============================] - 2s 4ms/step - loss: 0.5952 - accuracy: 0.7998\n"
          ]
        }
      ]
    },
    {
      "cell_type": "code",
      "source": [
        "# ENTRENAMOS EL MODELO 2 CON EL JUEGO DE DATOS DE ENTRENAMIENTO\n",
        "history_M2 = Modelo2.fit(train_images, train_labels, epochs=5, batch_size=128)\n",
        "HISTORY.append(history_M2)"
      ],
      "metadata": {
        "colab": {
          "base_uri": "https://localhost:8080/"
        },
        "id": "o_zGXjvRfpt4",
        "outputId": "75a2be84-0ec9-46d5-b2cf-98b16f127ec3"
      },
      "execution_count": null,
      "outputs": [
        {
          "output_type": "stream",
          "name": "stdout",
          "text": [
            "Epoch 1/5\n",
            "469/469 [==============================] - 3s 5ms/step - loss: 0.9124 - accuracy: 0.7040\n",
            "Epoch 2/5\n",
            "469/469 [==============================] - 3s 5ms/step - loss: 0.5222 - accuracy: 0.8232\n",
            "Epoch 3/5\n",
            "469/469 [==============================] - 3s 7ms/step - loss: 0.4746 - accuracy: 0.8387\n",
            "Epoch 4/5\n",
            "469/469 [==============================] - 4s 8ms/step - loss: 0.4517 - accuracy: 0.8471\n",
            "Epoch 5/5\n",
            "469/469 [==============================] - 2s 4ms/step - loss: 0.4375 - accuracy: 0.8516\n"
          ]
        }
      ]
    },
    {
      "cell_type": "code",
      "source": [
        "# VERIFICAMOS NUESTRO MODELO YA ENTRENADO, CONTRA EL CONJUNTO DE PRUEBAS\n",
        "M1_test_loss, M1_test_acc = Modelo1.evaluate(test_images, test_labels)\n",
        "TEST_LOSS.append(M1_test_loss)\n",
        "TEST_ACC.append(M1_test_acc)\n",
        "print(\"\\nModelo 1:\")\n",
        "print('test_loss:', M1_test_loss)\n",
        "print('test_acc:', M1_test_acc)\n",
        "\n",
        "M2_test_loss, M2_test_acc = Modelo2.evaluate(test_images, test_labels)\n",
        "TEST_LOSS.append(M2_test_loss)\n",
        "TEST_ACC.append(M2_test_acc)\n",
        "print(\"\\nModelo 2:\")\n",
        "print('test_loss:', M2_test_loss)\n",
        "print('test_acc:', M2_test_acc)"
      ],
      "metadata": {
        "colab": {
          "base_uri": "https://localhost:8080/"
        },
        "id": "VOKl1rtMcUHm",
        "outputId": "67ff72de-3a47-4c29-d3e1-ccae3719f008"
      },
      "execution_count": null,
      "outputs": [
        {
          "output_type": "stream",
          "name": "stdout",
          "text": [
            "313/313 [==============================] - 1s 2ms/step - loss: 0.5982 - accuracy: 0.7924\n",
            "Modelo 1:\n",
            "\n",
            "test_loss: 0.5982087850570679\n",
            "test_acc: 0.7924000024795532\n",
            "313/313 [==============================] - 1s 2ms/step - loss: 0.4755 - accuracy: 0.8344\n",
            "Modelo 2:\n",
            "\n",
            "test_loss: 0.47553551197052\n",
            "test_acc: 0.8343999981880188\n"
          ]
        }
      ]
    },
    {
      "cell_type": "markdown",
      "source": [
        "### Modelo 3 y 4"
      ],
      "metadata": {
        "id": "hc7YuQqyuh5w"
      }
    },
    {
      "cell_type": "code",
      "source": [
        "# CONSTRUIMOS LA SEGUNDA ARQUITECTURA DE LA RED\n",
        "# El tipo de red será secuencial. Desde la entrada hasta la salida sin ciclos\n",
        "Modelo3 = models.Sequential()\n",
        "Modelo3.add(layers.Dense(10, activation='sigmoid', input_shape=(28*28,)))\n",
        "Modelo3.add(layers.Dense(10, activation='softmax'))\n",
        "\n",
        "Modelo4 = models.Sequential()\n",
        "Modelo4.add(layers.Dense(10, activation='sigmoid', input_shape=(28*28,)))\n",
        "Modelo4.add(layers.Dense(10, activation='softmax'))\n",
        "\n",
        "Modelo3.summary()\n",
        "# 7.850 = 784 x 10 + 10 Sesgo\n",
        "# 110 = 10x10 + 10 Sesgo\n",
        "# 7.960 = 7.850 + 110"
      ],
      "metadata": {
        "colab": {
          "base_uri": "https://localhost:8080/"
        },
        "id": "cv6jCeaKz3Nh",
        "outputId": "118843ce-f872-4ccf-c9b4-8b2945bb2232"
      },
      "execution_count": null,
      "outputs": [
        {
          "output_type": "stream",
          "name": "stdout",
          "text": [
            "Model: \"sequential_20\"\n",
            "_________________________________________________________________\n",
            " Layer (type)                Output Shape              Param #   \n",
            "=================================================================\n",
            " dense_40 (Dense)            (None, 10)                7850      \n",
            "                                                                 \n",
            " dense_41 (Dense)            (None, 10)                110       \n",
            "                                                                 \n",
            "=================================================================\n",
            "Total params: 7,960\n",
            "Trainable params: 7,960\n",
            "Non-trainable params: 0\n",
            "_________________________________________________________________\n"
          ]
        }
      ]
    },
    {
      "cell_type": "code",
      "source": [
        "# COMPILACIÓN DEL MODELO  \n",
        "Modelo3.compile(optimizer='sgd', # Optimizador 'rmsprop' (Stocastic Gradient Descendent)\n",
        "                loss='categorical_crossentropy', # Función de pérdida\n",
        "                metrics=['accuracy']) # Mética de Precisión\n",
        "\n",
        "Modelo4.compile(optimizer='rmsprop', # Optimizador 'rmsprop' (Stocastic Gradient Descendent)\n",
        "                loss='categorical_crossentropy', # Función de pérdida\n",
        "                metrics=['accuracy']) # Mética de Precisión"
      ],
      "metadata": {
        "id": "huokIVOK0BNt"
      },
      "execution_count": null,
      "outputs": []
    },
    {
      "cell_type": "code",
      "source": [
        "# ENTRENAMOS EL MODELO 3 CON EL JUEGO DE DATOS DE ENTRENAMIENTO\n",
        "history_M3 = Modelo3.fit(train_images, train_labels, epochs=5, batch_size=128)\n",
        "HISTORY.append(history_M3)"
      ],
      "metadata": {
        "colab": {
          "base_uri": "https://localhost:8080/"
        },
        "id": "sOWbDbT50ZfE",
        "outputId": "45ee4f80-e888-4cb4-df56-c4feda897c16"
      },
      "execution_count": null,
      "outputs": [
        {
          "output_type": "stream",
          "name": "stdout",
          "text": [
            "Epoch 1/5\n",
            "469/469 [==============================] - 2s 3ms/step - loss: 2.1183 - accuracy: 0.2830\n",
            "Epoch 2/5\n",
            "469/469 [==============================] - 1s 3ms/step - loss: 1.7962 - accuracy: 0.4539\n",
            "Epoch 3/5\n",
            "469/469 [==============================] - 1s 3ms/step - loss: 1.5903 - accuracy: 0.5484\n",
            "Epoch 4/5\n",
            "469/469 [==============================] - 1s 3ms/step - loss: 1.4373 - accuracy: 0.5997\n",
            "Epoch 5/5\n",
            "469/469 [==============================] - 1s 3ms/step - loss: 1.3181 - accuracy: 0.6246\n"
          ]
        }
      ]
    },
    {
      "cell_type": "code",
      "source": [
        "# ENTRENAMOS EL MODELO 4 CON EL JUEGO DE DATOS DE ENTRENAMIENTO\n",
        "history_M4 = Modelo4.fit(train_images, train_labels, epochs=5, batch_size=128)\n",
        "HISTORY.append(history_M4)"
      ],
      "metadata": {
        "colab": {
          "base_uri": "https://localhost:8080/"
        },
        "id": "UEGUaEh0iGyb",
        "outputId": "50a3df38-a8ae-4547-ec7b-74c3c661527b"
      },
      "execution_count": null,
      "outputs": [
        {
          "output_type": "stream",
          "name": "stdout",
          "text": [
            "Epoch 1/5\n",
            "469/469 [==============================] - 2s 4ms/step - loss: 1.3692 - accuracy: 0.6563\n",
            "Epoch 2/5\n",
            "469/469 [==============================] - 2s 4ms/step - loss: 0.8077 - accuracy: 0.7723\n",
            "Epoch 3/5\n",
            "469/469 [==============================] - 2s 4ms/step - loss: 0.6181 - accuracy: 0.8064\n",
            "Epoch 4/5\n",
            "469/469 [==============================] - 2s 5ms/step - loss: 0.5353 - accuracy: 0.8270\n",
            "Epoch 5/5\n",
            "469/469 [==============================] - 3s 6ms/step - loss: 0.4923 - accuracy: 0.8356\n"
          ]
        }
      ]
    },
    {
      "cell_type": "code",
      "source": [
        "# VERIFICAMOS NUESTRO MODELO YA ENTRENADO, CONTRA EL CONJUNTO DE PRUEBAS\n",
        "M3_test_loss, M3_test_acc = Modelo3.evaluate(test_images, test_labels)\n",
        "TEST_LOSS.append(M3_test_loss)\n",
        "TEST_ACC.append(M3_test_acc)\n",
        "print('\\nModelo 3')\n",
        "print('test_loss:', M3_test_loss)\n",
        "print('test_acc:', M3_test_acc)\n",
        "\n",
        "M4_test_loss, M4_test_acc = Modelo4.evaluate(test_images, test_labels)\n",
        "TEST_LOSS.append(M4_test_loss)\n",
        "TEST_ACC.append(M4_test_acc)\n",
        "print('\\nModelo 4')\n",
        "print('test_loss:', M4_test_loss)\n",
        "print('test_acc:', M4_test_acc)"
      ],
      "metadata": {
        "colab": {
          "base_uri": "https://localhost:8080/"
        },
        "id": "HeiuUeqactvQ",
        "outputId": "0b7764ae-cc7b-4c0c-e21a-7311fe9b6eaa"
      },
      "execution_count": null,
      "outputs": [
        {
          "output_type": "stream",
          "name": "stdout",
          "text": [
            "313/313 [==============================] - 1s 2ms/step - loss: 1.2714 - accuracy: 0.6274\n",
            "\n",
            "Modelo 3\n",
            "test_loss: 1.2713757753372192\n",
            "test_acc: 0.6273999810218811\n",
            "313/313 [==============================] - 1s 2ms/step - loss: 0.5055 - accuracy: 0.8283\n",
            "\n",
            "Modelo 4\n",
            "test_loss: 0.5054709911346436\n",
            "test_acc: 0.8282999992370605\n"
          ]
        }
      ]
    },
    {
      "cell_type": "markdown",
      "source": [
        "### Modelo 5 y 6"
      ],
      "metadata": {
        "id": "2XvLBEqmutmT"
      }
    },
    {
      "cell_type": "code",
      "source": [
        "# CONSTRUIMOS LA SEGUNDA ARQUITECTURA DE LA RED\n",
        "# El tipo de red será secuencial. Desde la entrada hasta la salida sin ciclos\n",
        "Modelo5 = models.Sequential()\n",
        "Modelo3.add(layers.Dense(10, activation='sigmoid', input_shape=(28*28,)))\n",
        "Modelo3.add(layers.Dense(10, activation='softmax'))\n",
        "\n",
        "Modelo3.summary()"
      ],
      "metadata": {
        "colab": {
          "base_uri": "https://localhost:8080/"
        },
        "id": "vrOQfD7xusQf",
        "outputId": "f31f688d-c344-4faf-815d-1edb6abdc427"
      },
      "execution_count": null,
      "outputs": [
        {
          "output_type": "stream",
          "name": "stdout",
          "text": [
            "Model: \"sequential_12\"\n",
            "_________________________________________________________________\n",
            " Layer (type)                Output Shape              Param #   \n",
            "=================================================================\n",
            " dense_24 (Dense)            (None, 10)                7850      \n",
            "                                                                 \n",
            " dense_25 (Dense)            (None, 10)                110       \n",
            "                                                                 \n",
            "=================================================================\n",
            "Total params: 7,960\n",
            "Trainable params: 7,960\n",
            "Non-trainable params: 0\n",
            "_________________________________________________________________\n"
          ]
        }
      ]
    },
    {
      "cell_type": "code",
      "source": [
        "# COMPILACIÓN DEL MODELO\n",
        "Modelo3.compile(optimizer='sgd',                 # Optimizador 'sgd' (Stocastic Gradient Descendent)\n",
        "                loss='categorical_crossentropy', # Función de pérdida\n",
        "                metrics=['accuracy'])            # Mética de Precisión"
      ],
      "metadata": {
        "id": "pcfwERYtva79"
      },
      "execution_count": null,
      "outputs": []
    },
    {
      "cell_type": "code",
      "source": [
        "# ENTRENAMOS LOS DATOS DE ENTRENAMIENTO\n",
        "# Ahora ponemos un total de 5 épocas (batch_size=128)\n",
        "history_M3 = Modelo3.fit(train_images, train_labels, epochs=5, batch_size=128)"
      ],
      "metadata": {
        "colab": {
          "base_uri": "https://localhost:8080/"
        },
        "id": "SQV79k7UwdrT",
        "outputId": "30c76271-7567-4b1f-f69b-c298b35e70a2"
      },
      "execution_count": null,
      "outputs": [
        {
          "output_type": "stream",
          "name": "stdout",
          "text": [
            "Epoch 1/5\n",
            "469/469 [==============================] - 2s 3ms/step - loss: 2.0725 - accuracy: 0.3400\n",
            "Epoch 2/5\n",
            "469/469 [==============================] - 1s 3ms/step - loss: 1.7613 - accuracy: 0.5942\n",
            "Epoch 3/5\n",
            "469/469 [==============================] - 2s 4ms/step - loss: 1.5630 - accuracy: 0.6415\n",
            "Epoch 4/5\n",
            "469/469 [==============================] - 3s 6ms/step - loss: 1.4174 - accuracy: 0.6612\n",
            "Epoch 5/5\n",
            "469/469 [==============================] - 2s 5ms/step - loss: 1.3056 - accuracy: 0.6727\n"
          ]
        },
        {
          "output_type": "execute_result",
          "data": {
            "text/plain": [
              "<keras.callbacks.History at 0x7fd6463bba50>"
            ]
          },
          "metadata": {},
          "execution_count": 154
        }
      ]
    },
    {
      "cell_type": "code",
      "source": [
        "# VERIFICAMOS NUESTRO MODELO YA ENTRENADO, CONTRA EL CONJUNTO DE PRUEBAS\n",
        "M3_test_loss, M3_test_acc = Modelo3.evaluate(test_images, test_labels)\n",
        "print('\\ntest_loss:', M3_test_loss)\n",
        "print('test_acc:', M3_test_acc)"
      ],
      "metadata": {
        "colab": {
          "base_uri": "https://localhost:8080/"
        },
        "id": "FNMkUBxcyLzI",
        "outputId": "4b401370-8b91-439b-d056-1a424d0bc263"
      },
      "execution_count": null,
      "outputs": [
        {
          "output_type": "stream",
          "name": "stdout",
          "text": [
            "313/313 [==============================] - 1s 3ms/step - loss: 1.2652 - accuracy: 0.6739\n",
            "\n",
            "test_loss: 1.2652149200439453\n",
            "test_acc: 0.6739000082015991\n"
          ]
        }
      ]
    },
    {
      "cell_type": "markdown",
      "source": [
        "El optimizador Adam (Adaptive moment estimation) es el método de optimización más utilizado en la actualidad ya que combina RMSProp, utilizado en otros modelos en esta práctica y AdaGrad (Adaptive Gradient Algorithm).\n",
        "\n",
        "\n",
        "Es el algoritmo de optimizacion que converge más rapido\n",
        "\n",
        "---\n",
        "\n"
      ],
      "metadata": {
        "id": "Y73vLk-4ZtyL"
      }
    },
    {
      "cell_type": "code",
      "source": [
        "# HACEMOS EL PASO DE COMPILACIÓN CARGANDO EL  OPTIMIZADOR, LA FUNCIÓN DE PÉRDIDA Y LAS MÉTRICAS\n",
        "network.compile(optimizer='adam',                       # Optimizador 'adam' (Adaptive moment estimation)\n",
        "                loss='sparse_categorical_crossentropy', # Función de pérdida\n",
        "                metrics=['accuracy'])                   # Mética de Precisión"
      ],
      "metadata": {
        "id": "b5n5lTr5V7gm"
      },
      "execution_count": null,
      "outputs": []
    },
    {
      "cell_type": "markdown",
      "source": [
        "### Modelo 7 y 8"
      ],
      "metadata": {
        "id": "iM0EvnoCegTB"
      }
    },
    {
      "cell_type": "code",
      "source": [],
      "metadata": {
        "id": "_7viikVOem57"
      },
      "execution_count": null,
      "outputs": []
    },
    {
      "cell_type": "markdown",
      "source": [
        "### Variantes"
      ],
      "metadata": {
        "id": "g_Is8fNykmi6"
      }
    },
    {
      "cell_type": "code",
      "source": [],
      "metadata": {
        "id": "loFrVlyCko4F"
      },
      "execution_count": null,
      "outputs": []
    },
    {
      "cell_type": "markdown",
      "source": [
        "## RESULTADOS"
      ],
      "metadata": {
        "id": "P1auZowoXJre"
      }
    },
    {
      "cell_type": "code",
      "source": [
        "from collections import Counter\n",
        "from sklearn.metrics import confusion_matrix\n",
        "import itertools"
      ],
      "metadata": {
        "id": "o9edFHDNYF2f"
      },
      "execution_count": null,
      "outputs": []
    },
    {
      "cell_type": "markdown",
      "source": [
        "### Funciones para graficar"
      ],
      "metadata": {
        "id": "r0x_48NGXU33"
      }
    },
    {
      "cell_type": "code",
      "source": [
        "# Confusion Matrix\n",
        "def plot_confusion_matrix(cm, classes,\n",
        "                          normalize=False,\n",
        "                          title='Confusion matrix',\n",
        "                          cmap=plt.cm.Blues):\n",
        "    \"\"\"\n",
        "    This function prints and plots the confusion matrix.\n",
        "    Normalization can be applied by setting `normalize=True`.\n",
        "    \"\"\"\n",
        "    plt.imshow(cm, interpolation='nearest', cmap=cmap)\n",
        "    plt.title(title)\n",
        "    plt.colorbar()\n",
        "    tick_marks = np.arange(len(classes))\n",
        "    plt.xticks(tick_marks, classes, rotation=45)\n",
        "    plt.yticks(tick_marks, classes)\n",
        "\n",
        "    if normalize:\n",
        "        cm = cm.astype('float') / cm.sum(axis=1)[:, np.newaxis]\n",
        "\n",
        "    thresh = cm.max() / 2.\n",
        "    for i, j in itertools.product(range(cm.shape[0]), range(cm.shape[1])):\n",
        "        plt.text(j, i, cm[i, j],\n",
        "                 horizontalalignment=\"center\",\n",
        "                 color=\"white\" if cm[i, j] > thresh else \"black\")\n",
        "\n",
        "    plt.tight_layout()\n",
        "    plt.ylabel('Observación')\n",
        "    plt.xlabel('Predicción')\n",
        "\n",
        "def show_confusion_matrix(predictions):\n",
        "    # Predicción de valores desde el dataset de validación\n",
        "    Y_pred = predictions\n",
        "    # Convertir en predicciones de clases desde los vectores one-hot encoding \n",
        "    Y_pred_classes = np.argmax(Y_pred, axis = 1) \n",
        "    # Convertir en clases de observación desde los vectores one-hot encoding\n",
        "    Y_true = np.argmax(test_labels, axis = 1) \n",
        "    # Computar la matriz de confusión\n",
        "    confusion_mtx = confusion_matrix(Y_true, Y_pred_classes) \n",
        "    # Dibujar la matriz de confusión\n",
        "    plot_confusion_matrix(confusion_mtx, classes = range(10))\n",
        "\n",
        "# Prediction distributions\n",
        "def plot_image(i, predictions_array, true_label, img):\n",
        "    predictions_array, true_label, img = predictions_array, true_label[i], img[i]\n",
        "    plt.grid(False)\n",
        "    plt.xticks([])\n",
        "    plt.yticks([])\n",
        "\n",
        "    plt.imshow(img, cmap=plt.cm.binary)    \n",
        "\n",
        "    predicted_label = np.argmax(predictions_array)\n",
        "    if predicted_label.all() == true_label.all():\n",
        "      color = 'blue'\n",
        "    else:\n",
        "      color = 'red'\n",
        "\n",
        "    plt.xlabel(\"{} {:2.0f}% ({})\".format(predicted_label,\n",
        "                                  100*np.max(predictions_array),\n",
        "                                  true_label),\n",
        "                                  color=color)\n",
        "\n",
        "\n",
        "def plot_value_array(i, predictions_array, true_label):\n",
        "    predictions_array, true_label = predictions_array, true_label[i]\n",
        "    plt.grid(False)\n",
        "    plt.xticks(range(10))\n",
        "    plt.yticks([])\n",
        "    thisplot = plt.bar(range(10), predictions_array, color=\"#777777\")\n",
        "    plt.ylim([0, 1])\n",
        "    predicted_label = np.argmax(predictions_array)\n",
        "\n",
        "    thisplot[predicted_label].set_color('red')\n",
        "    thisplot[true_label].set_color('black')\n",
        "\n",
        "def show_predicted_distributions(predictions, n):\n",
        "    Y_true = np.argmax(test_labels, axis = 1)\n",
        "    for i in range(n):\n",
        "      plt.figure(figsize=(6,3))\n",
        "      plt.subplot(1,2,1)\n",
        "      plot_image(i, predictions[i], Y_true, test_images.reshape(10000,28,28))\n",
        "      plt.subplot(1,2,2)\n",
        "      plot_value_array(i, predictions[i],  Y_true)\n",
        "      plt.show()\n",
        "      plt.clf()"
      ],
      "metadata": {
        "id": "8JmJ_FEmX7XW"
      },
      "execution_count": null,
      "outputs": []
    },
    {
      "cell_type": "markdown",
      "source": [
        "## Curvas de aprendizaje"
      ],
      "metadata": {
        "id": "DyFWOSxIY7T9"
      }
    },
    {
      "cell_type": "code",
      "source": [
        "# Plot con las curvas de aprednizaje obtenidas a partir de la lista HISTORY (crear función en apartado Funciones para graficar)"
      ],
      "metadata": {
        "id": "MCzZ6O7eZJSX"
      },
      "execution_count": null,
      "outputs": []
    },
    {
      "cell_type": "markdown",
      "source": [
        "## Matrices de confusión"
      ],
      "metadata": {
        "id": "L-Tcc_YEZLsS"
      }
    },
    {
      "cell_type": "code",
      "source": [
        "predictions1 = Modelo1.predict(test_images)\n",
        "predictions2 = Modelo2.predict(test_images) "
      ],
      "metadata": {
        "colab": {
          "base_uri": "https://localhost:8080/"
        },
        "id": "6QzlK758bHk3",
        "outputId": "4cb719f8-38b7-45b1-b463-d88b0f51b6fd"
      },
      "execution_count": null,
      "outputs": [
        {
          "output_type": "stream",
          "name": "stdout",
          "text": [
            "313/313 [==============================] - 2s 7ms/step\n"
          ]
        }
      ]
    },
    {
      "cell_type": "code",
      "source": [
        "# Modelo 1\n",
        "show_confusion_matrix(predictions1)"
      ],
      "metadata": {
        "colab": {
          "base_uri": "https://localhost:8080/",
          "height": 311
        },
        "id": "7yxH4ZNzZPgx",
        "outputId": "a99347f3-1870-4f2a-9db2-2707b309ce99"
      },
      "execution_count": null,
      "outputs": [
        {
          "output_type": "display_data",
          "data": {
            "text/plain": [
              "<Figure size 432x288 with 2 Axes>"
            ],
            "image/png": "[encoded data removed]"
          },
          "metadata": {
            "needs_background": "light"
          }
        }
      ]
    },
    {
      "cell_type": "code",
      "source": [
        "# Modelo 2\n",
        "show_confusion_matrix(Modelo2, test_labels)"
      ],
      "metadata": {
        "id": "Yvilbc81aSpa"
      },
      "execution_count": null,
      "outputs": []
    },
    {
      "cell_type": "code",
      "source": [
        "# Modelo 3\n",
        "show_confusion_matrix(Modelo3, test_labels)"
      ],
      "metadata": {
        "id": "4Duu3L__aUS0"
      },
      "execution_count": null,
      "outputs": []
    },
    {
      "cell_type": "markdown",
      "source": [
        "## Distribución de predicciones"
      ],
      "metadata": {
        "id": "q2L_ncixZPyP"
      }
    },
    {
      "cell_type": "code",
      "source": [
        "show_predicted_distributions(predictions1, 10)"
      ],
      "metadata": {
        "colab": {
          "base_uri": "https://localhost:8080/",
          "height": 1000
        },
        "id": "POgTLLEVZUpf",
        "outputId": "30e62d6d-e0e1-4351-9ab0-21fe87ba1f02"
      },
      "execution_count": null,
      "outputs": [
        {
          "output_type": "display_data",
          "data": {
            "text/plain": [
              "<Figure size 432x216 with 2 Axes>"
            ],
            "image/png": "[encoded data removed]"
          },
          "metadata": {
            "needs_background": "light"
          }
        },
        {
          "output_type": "display_data",
          "data": {
            "text/plain": [
              "<Figure size 432x288 with 0 Axes>"
            ]
          },
          "metadata": {}
        },
        {
          "output_type": "display_data",
          "data": {
            "text/plain": [
              "<Figure size 432x216 with 2 Axes>"
            ],
            "image/png": "[encoded data removed]"
          },
          "metadata": {
            "needs_background": "light"
          }
        },
        {
          "output_type": "display_data",
          "data": {
            "text/plain": [
              "<Figure size 432x288 with 0 Axes>"
            ]
          },
          "metadata": {}
        },
        {
          "output_type": "display_data",
          "data": {
            "text/plain": [
              "<Figure size 432x216 with 2 Axes>"
            ],
            "image/png": "[encoded data removed]"
          },
          "metadata": {
            "needs_background": "light"
          }
        },
        {
          "output_type": "display_data",
          "data": {
            "text/plain": [
              "<Figure size 432x288 with 0 Axes>"
            ]
          },
          "metadata": {}
        },
        {
          "output_type": "display_data",
          "data": {
            "text/plain": [
              "<Figure size 432x216 with 2 Axes>"
            ],
            "image/png": "[encoded data removed]"
          },
          "metadata": {
            "needs_background": "light"
          }
        },
        {
          "output_type": "display_data",
          "data": {
            "text/plain": [
              "<Figure size 432x288 with 0 Axes>"
            ]
          },
          "metadata": {}
        },
        {
          "output_type": "display_data",
          "data": {
            "text/plain": [
              "<Figure size 432x216 with 2 Axes>"
            ],
            "image/png": "[encoded data removed]"
          },
          "metadata": {
            "needs_background": "light"
          }
        },
        {
          "output_type": "display_data",
          "data": {
            "text/plain": [
              "<Figure size 432x288 with 0 Axes>"
            ]
          },
          "metadata": {}
        },
        {
          "output_type": "display_data",
          "data": {
            "text/plain": [
              "<Figure size 432x216 with 2 Axes>"
            ],
            "image/png": "[encoded data removed]"
          },
          "metadata": {
            "needs_background": "light"
          }
        },
        {
          "output_type": "display_data",
          "data": {
            "text/plain": [
              "<Figure size 432x288 with 0 Axes>"
            ]
          },
          "metadata": {}
        },
        {
          "output_type": "display_data",
          "data": {
            "text/plain": [
              "<Figure size 432x216 with 2 Axes>"
            ],
            "image/png": "[encoded data removed]"
          },
          "metadata": {
            "needs_background": "light"
          }
        },
        {
          "output_type": "display_data",
          "data": {
            "text/plain": [
              "<Figure size 432x288 with 0 Axes>"
            ]
          },
          "metadata": {}
        },
        {
          "output_type": "display_data",
          "data": {
            "text/plain": [
              "<Figure size 432x216 with 2 Axes>"
            ],
            "image/png": "[encoded data removed]"
          },
          "metadata": {
            "needs_background": "light"
          }
        },
        {
          "output_type": "display_data",
          "data": {
            "text/plain": [
              "<Figure size 432x288 with 0 Axes>"
            ]
          },
          "metadata": {}
        },
        {
          "output_type": "display_data",
          "data": {
            "text/plain": [
              "<Figure size 432x216 with 2 Axes>"
            ],
            "image/png": "[encoded data removed]"
          },
          "metadata": {
            "needs_background": "light"
          }
        },
        {
          "output_type": "display_data",
          "data": {
            "text/plain": [
              "<Figure size 432x288 with 0 Axes>"
            ]
          },
          "metadata": {}
        },
        {
          "output_type": "display_data",
          "data": {
            "text/plain": [
              "<Figure size 432x216 with 2 Axes>"
            ],
            "image/png": "[encoded data removed]"
          },
          "metadata": {
            "needs_background": "light"
          }
        },
        {
          "output_type": "display_data",
          "data": {
            "text/plain": [
              "<Figure size 432x288 with 0 Axes>"
            ]
          },
          "metadata": {}
        }
      ]
    },
    {
      "cell_type": "markdown",
      "source": [
        "## Test error y Test accuracy"
      ],
      "metadata": {
        "id": "ZYuHx5IRZU6G"
      }
    },
    {
      "cell_type": "code",
      "source": [
        "# Gráfica de barras horizontales con los errores y accuracy de cada modelo (TEST_LOSS, TEST_ACC) \n",
        "# Crear función en apartado Funciones para graficar"
      ],
      "metadata": {
        "id": "471BTkCSZYWp"
      },
      "execution_count": null,
      "outputs": []
    }
  ]
}