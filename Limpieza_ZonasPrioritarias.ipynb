{
  "nbformat": 4,
  "nbformat_minor": 0,
  "metadata": {
    "colab": {
      "provenance": [],
      "authorship_tag": "ABX9TyODpy+DpDcOhZuxeQ9QJCQ+",
      "include_colab_link": true
    },
    "kernelspec": {
      "name": "python3",
      "display_name": "Python 3"
    },
    "language_info": {
      "name": "python"
    }
  },
  "cells": [
    {
      "cell_type": "markdown",
      "metadata": {
        "id": "view-in-github",
        "colab_type": "text"
      },
      "source": [
        "<a href=\"https://colab.research.google.com/github/Ana-AlonsoCanizares/AA_GRUPO3/blob/main/Limpieza_ZonasPrioritarias.ipynb\" target=\"_parent\"><img src=\"https://colab.research.google.com/assets/colab-badge.svg\" alt=\"Open In Colab\"/></a>"
      ]
    },
    {
      "cell_type": "code",
      "execution_count": 1,
      "metadata": {
        "colab": {
          "base_uri": "https://localhost:8080/"
        },
        "id": "gnf_fXJxXLDQ",
        "outputId": "fc9c0cfe-8d14-4611-c336-b6df7ee6a84c"
      },
      "outputs": [
        {
          "output_type": "stream",
          "name": "stdout",
          "text": [
            "Mounted at /content/drive\n"
          ]
        }
      ],
      "source": [
        "from google.colab import drive\n",
        "drive.mount('/content/drive')"
      ]
    },
    {
      "cell_type": "code",
      "source": [
        "pip install unidecode"
      ],
      "metadata": {
        "colab": {
          "base_uri": "https://localhost:8080/"
        },
        "id": "jeHwC3kHXRId",
        "outputId": "3c26c402-3272-45de-84f7-fed518b9f969"
      },
      "execution_count": 2,
      "outputs": [
        {
          "output_type": "stream",
          "name": "stdout",
          "text": [
            "Collecting unidecode\n",
            "  Downloading Unidecode-1.3.8-py3-none-any.whl (235 kB)\n",
            "\u001b[2K     \u001b[90m━━━━━━━━━━━━━━━━━━━━━━━━━━━━━━━━━━━━━━━━\u001b[0m \u001b[32m235.5/235.5 kB\u001b[0m \u001b[31m1.7 MB/s\u001b[0m eta \u001b[36m0:00:00\u001b[0m\n",
            "\u001b[?25hInstalling collected packages: unidecode\n",
            "Successfully installed unidecode-1.3.8\n"
          ]
        }
      ]
    },
    {
      "cell_type": "code",
      "source": [
        "import os\n",
        "import pandas as pd\n",
        "import numpy as np\n",
        "from unidecode import unidecode\n",
        "import matplotlib.pyplot as plt"
      ],
      "metadata": {
        "id": "YwhUJ2xdXVws"
      },
      "execution_count": 3,
      "outputs": []
    },
    {
      "cell_type": "code",
      "source": [
        "# Asegúrarse de cambiar la ruta por el nombre real de la carpeta en Google Drive\n",
        "folder_path_csv = '/content/drive/My Drive/PFG_FASPAS/Zonas_Prioritarias'\n",
        "docs_csv = [f for f in os.listdir(folder_path_csv) if f.endswith('.csv')]\n",
        "print(docs_csv)\n",
        "\n",
        "# Asegúrarse de cambiar la ruta por el nombre real de la carpeta en Google Drive\n",
        "folder_path_mun = '/content/drive/My Drive/PFG_FASPAS/Municipios_Despoblacion'\n",
        "doc_mun = [f for f in os.listdir(folder_path_mun) if f.endswith('.xlsx')]\n",
        "print(doc_mun)\n",
        "\n",
        "# Asegúrarse de cambiar la ruta por el nombre real de la carpeta en Google Drive\n",
        "folder_path_areas = '/content/drive/My Drive/PFG_FASPAS/Areas_Salud'\n",
        "doc_areas = [f for f in os.listdir(folder_path_areas) if f.endswith('.xlsx')]\n",
        "print(doc_areas)"
      ],
      "metadata": {
        "colab": {
          "base_uri": "https://localhost:8080/"
        },
        "id": "FXcyw0zSXYsg",
        "outputId": "a4a915af-f815-4414-edf0-cbbdc7304336"
      },
      "execution_count": 9,
      "outputs": [
        {
          "output_type": "stream",
          "name": "stdout",
          "text": [
            "['municipios_prioritarios_clm.csv']\n",
            "['Municipios_Despoblacion_CLM.xlsx', 'Municipios_Despoblacion_CLM_limpio.xlsx']\n",
            "['Areas_Salud.xlsx']\n"
          ]
        }
      ]
    },
    {
      "cell_type": "code",
      "source": [
        "dic_zonas = {}\n",
        "dic_mun = {}\n",
        "dic_areas = {}\n",
        "for doc in docs_csv:\n",
        "  entire_path = os.path.join(folder_path_csv, doc)\n",
        "  df = pd.read_csv(entire_path)\n",
        "  # Uso el nombre del archivo como clave\n",
        "  dic_zonas[doc] = df\n",
        "\n",
        "for doc in doc_mun:\n",
        "  entire_path = os.path.join(folder_path_mun, doc)\n",
        "  df = pd.read_excel(entire_path)\n",
        "  # Uso el nombre del archivo como clave\n",
        "  dic_mun[doc] = df\n",
        "\n",
        "for doc in doc_areas:\n",
        "  entire_path = os.path.join(folder_path_areas, doc)\n",
        "  df = pd.read_excel(entire_path)\n",
        "  # Uso el nombre del archivo como clave\n",
        "  dic_areas[doc] = df"
      ],
      "metadata": {
        "id": "Iusmetd_XhDT"
      },
      "execution_count": 10,
      "outputs": []
    },
    {
      "cell_type": "code",
      "source": [
        "mun_pri_clm = dic_zonas.get(\"municipios_prioritarios_clm.csv\")\n",
        "mun_desp_clm = dic_mun.get(\"Municipios_Despoblacion_CLM.xlsx\")\n",
        "areas_clm = dic_areas.get(\"Areas_Salud.xlsx\")"
      ],
      "metadata": {
        "id": "34lUkHdcXxhS"
      },
      "execution_count": 11,
      "outputs": []
    },
    {
      "cell_type": "code",
      "source": [
        "# Definir la función que realiza las transformaciones\n",
        "def transform_df(df):\n",
        "    col_excluded = ['ninguna']\n",
        "\n",
        "    # Convertir todas las columnas de tipo object a mayúsculas, excepto las especificadas\n",
        "    for column in df.columns:\n",
        "        if df[column].dtype == 'object' and column not in col_excluded:\n",
        "            df[column] = df[column].apply(lambda x: unidecode(x.upper()) if isinstance(x, str) else x)\n",
        "\n",
        "    # Ahora, aplicamos unidecode a los nombres de las columnas\n",
        "    df.columns = [unidecode(col.upper()) if isinstance(col, str) else col for col in df.columns]\n",
        "\n",
        "    # Si 'ZONA PRIORITARIA' en df.columns():\n",
        "    if 'ZONA PRIORITARIA' in df.columns:\n",
        "        # Eliminar las partes entre corchetes\n",
        "        df['ZONA PRIORITARIA'] = df['ZONA PRIORITARIA'].str.replace(r'\\(.*?\\)', '', regex=True)\n",
        "\n",
        "    # Eliminar las partes entre corchetes\n",
        "    if 'MUNICIPIO' in df.columns:\n",
        "        df['MUNICIPIO'] = df['MUNICIPIO'].str.replace(r'\\(.*?\\)', '', regex=True)\n",
        "\n",
        "    return df\n",
        "\n",
        "def remove_leading_space(x):\n",
        "    if isinstance(x, str) and x.startswith(' '):\n",
        "        return x[1:]\n",
        "    return x"
      ],
      "metadata": {
        "id": "5zyowqO3Xc3h"
      },
      "execution_count": 16,
      "outputs": []
    },
    {
      "cell_type": "code",
      "source": [
        "mun_pri_clm = transform_df(mun_pri_clm)\n",
        "mun_desp_clm = transform_df(mun_desp_clm)\n",
        "areas_clm = transform_df(areas_clm)\n",
        "\n",
        "# Apply this function to each column that needs cleaning\n",
        "df['AREA DE SALUD'] = df['AREA DE SALUD'].apply(remove_leading_space)\n",
        "df['ZONA BASICA DE SALUD'] = df['ZONA BASICA DE SALUD'].apply(remove_leading_space)\n",
        "df['LOCALIDAD'] = df['LOCALIDAD'].apply(remove_leading_space)\n",
        "df['ENTIDAD SINGULAR'] = df['ENTIDAD SINGULAR'].apply(remove_leading_space)"
      ],
      "metadata": {
        "id": "t8zIBrBUYmgN"
      },
      "execution_count": 17,
      "outputs": []
    },
    {
      "cell_type": "code",
      "source": [
        "# List of DataFrames\n",
        "dfs = [mun_pri_clm, mun_desp_clm, areas_clm]\n",
        "\n",
        "# Corresponding folder paths on Google Drive\n",
        "folder_paths = [\n",
        "    '/content/drive/My Drive/PFG_FASPAS/Zonas_Prioritarias',\n",
        "    '/content/drive/My Drive/PFG_FASPAS/Municipios_Despoblacion',\n",
        "    '/content/drive/My Drive/PFG_FASPAS/Areas_Salud'\n",
        "]\n",
        "\n",
        "# Corresponding file names\n",
        "file_names = ['mun_pri_clm_limpio.xlsx', 'Municipios_Despoblacion_CLM_limpio.xlsx', 'areas_salud_clm_limpio.xlsx']"
      ],
      "metadata": {
        "id": "UADAXSIGYscW"
      },
      "execution_count": 20,
      "outputs": []
    },
    {
      "cell_type": "code",
      "source": [
        "# Iterate over the DataFrames, folder paths, and file names\n",
        "for df, folder_path, file_name in zip(dfs, folder_paths, file_names):\n",
        "    # Define the complete file path\n",
        "    file_path = f\"{folder_path}/{file_name}\"\n",
        "\n",
        "    # Save the DataFrame as an Excel file\n",
        "    df.to_excel(file_path, index=False)\n",
        "\n",
        "print(\"All DataFrames have been exported successfully.\")"
      ],
      "metadata": {
        "colab": {
          "base_uri": "https://localhost:8080/"
        },
        "id": "Yhp04U5HZkOy",
        "outputId": "f14b70bc-975a-4b9d-8e5c-6870c628f488"
      },
      "execution_count": 21,
      "outputs": [
        {
          "output_type": "stream",
          "name": "stdout",
          "text": [
            "All DataFrames have been exported successfully.\n"
          ]
        }
      ]
    }
  ]
}