{
  "cells": [
    {
      "cell_type": "markdown",
      "metadata": {
        "id": "view-in-github",
        "colab_type": "text"
      },
      "source": [
        "<a href=\"https://colab.research.google.com/github/Ana-AlonsoCanizares/AA_GRUPO3/blob/main/PFG_RNN_Predictiva.ipynb\" target=\"_parent\"><img src=\"https://colab.research.google.com/assets/colab-badge.svg\" alt=\"Open In Colab\"/></a>"
      ]
    },
    {
      "cell_type": "code",
      "source": [
        "from google.colab import drive\n",
        "drive.mount('/content/drive')"
      ],
      "metadata": {
        "id": "CouywWAlovYw",
        "colab": {
          "base_uri": "https://localhost:8080/"
        },
        "outputId": "017747c3-38ba-428a-be86-6fa7befcfde6"
      },
      "execution_count": null,
      "outputs": [
        {
          "output_type": "stream",
          "name": "stdout",
          "text": [
            "Mounted at /content/drive\n"
          ]
        }
      ]
    },
    {
      "cell_type": "code",
      "source": [
        "pip install unidecode"
      ],
      "metadata": {
        "colab": {
          "base_uri": "https://localhost:8080/"
        },
        "id": "xf__oEyxOkZI",
        "outputId": "af42c328-833c-421b-abbb-10a3c44e3881"
      },
      "execution_count": 1,
      "outputs": [
        {
          "output_type": "stream",
          "name": "stdout",
          "text": [
            "Collecting unidecode\n",
            "  Downloading Unidecode-1.3.8-py3-none-any.whl (235 kB)\n",
            "\u001b[2K     \u001b[90m━━━━━━━━━━━━━━━━━━━━━━━━━━━━━━━━━━━━━━━━\u001b[0m \u001b[32m235.5/235.5 kB\u001b[0m \u001b[31m1.7 MB/s\u001b[0m eta \u001b[36m0:00:00\u001b[0m\n",
            "\u001b[?25hInstalling collected packages: unidecode\n",
            "Successfully installed unidecode-1.3.8\n"
          ]
        }
      ]
    },
    {
      "cell_type": "code",
      "source": [
        "import os\n",
        "import pandas as pd\n",
        "import numpy as np\n",
        "from unidecode import unidecode\n",
        "import matplotlib.pyplot as plt\n",
        "import unicodedata"
      ],
      "metadata": {
        "id": "0InrTb-CGMCI"
      },
      "execution_count": 2,
      "outputs": []
    },
    {
      "cell_type": "code",
      "source": [
        "# Asegúrarse de cambiar la ruta por el nombre real de la carpeta en Google Drive\n",
        "folder_path = '/content/drive/My Drive/PFG_FASPAS/RNN'\n",
        "docs_xlsx = [f for f in os.listdir(folder_path) if f.endswith('.xlsx')]\n",
        "print(docs_xlsx)"
      ],
      "metadata": {
        "id": "zj2viAzoGOoP",
        "outputId": "2775e845-f676-45e5-cc81-27ada4971897",
        "colab": {
          "base_uri": "https://localhost:8080/"
        }
      },
      "execution_count": null,
      "outputs": [
        {
          "output_type": "stream",
          "name": "stdout",
          "text": [
            "['RN_LOG.xlsx', 'RN_ACT.xlsx', 'RN_EM.xlsx', 'RN_SO.xlsx', 'RN_AT.xlsx', 'RN_SAAF.xlsx', 'df_8000_rows.xlsx']\n"
          ]
        }
      ]
    },
    {
      "cell_type": "code",
      "source": [
        "dic_dataframes = {}\n",
        "\n",
        "for doc in docs_xlsx:\n",
        "    entire_path = os.path.join(folder_path, doc)\n",
        "    df = pd.read_excel(entire_path)\n",
        "    # Uso el nombre del archivo como clave\n",
        "    dic_dataframes[doc] = df\n",
        "\n",
        "# Imprimir todas las claves\n",
        "for clave in dic_dataframes.keys():\n",
        "    print(clave)"
      ],
      "metadata": {
        "id": "C7_AhL9OGamp",
        "outputId": "04829501-dbac-4fd8-cfaa-ad27e6dffdc7",
        "colab": {
          "base_uri": "https://localhost:8080/"
        }
      },
      "execution_count": null,
      "outputs": [
        {
          "output_type": "stream",
          "name": "stdout",
          "text": [
            "RN_LOG.xlsx\n",
            "RN_ACT.xlsx\n",
            "RN_EM.xlsx\n",
            "RN_SO.xlsx\n",
            "RN_AT.xlsx\n",
            "RN_SAAF.xlsx\n"
          ]
        }
      ]
    },
    {
      "cell_type": "code",
      "source": [
        "RN_SAAF = dic_dataframes.get(\"RN_SAAF.xlsx\")\n",
        "RN_AT = dic_dataframes.get(\"RN_AT.xlsx\")\n",
        "# RN_ACT = dic_dataframes.get(\"RN_ACT.xlsx\")\n",
        "RN_EM = dic_dataframes.get(\"RN_EM.xlsx\")\n",
        "RN_SO = dic_dataframes.get(\"RN_SO.xlsx\")\n",
        "RN_LOG = dic_dataframes.get(\"RN_LOG.xlsx\")\n",
        "df_8000rows = dic_dataframes.get(\"df_8000_rows.xlsx\")"
      ],
      "metadata": {
        "id": "jI7CuaujGm5D"
      },
      "execution_count": 46,
      "outputs": []
    },
    {
      "cell_type": "code",
      "source": [
        "# CÓDIGO SOLO PARA EL CURRO (PQ NO PUEDO ACCEDER AL DRIVE)\n",
        "RN_SAAF = pd.read_excel('/content/RN_SAAF.xlsx')\n",
        "RN_AT = pd.read_excel('/content/RN_AT.xlsx')\n",
        "# RN_ACT = pd.read_excel('/content/RN_ACT.xlsx')\n",
        "RN_EM = pd.read_excel('/content/RN_EM.xlsx')\n",
        "RN_LOG = pd.read_excel('/content/RN_LOG.xlsx')\n",
        "RN_SO = pd.read_excel('/content/RN_SO.xlsx')\n",
        "df_8000rows = pd.read_excel('/content/df_8000_rows.xlsx')\n",
        "provincia_municipio = pd.read_excel('/content/PROVINCIA_MUNICIPIO.xlsx')"
      ],
      "metadata": {
        "id": "MYSRNK9UHEcT"
      },
      "execution_count": 101,
      "outputs": []
    },
    {
      "cell_type": "code",
      "source": [
        "# Convert all string columns to uppercase and remove accents/diacritics in combined_df\n",
        "df_8000rows = df_8000rows.applymap(lambda x: unidecode(x.upper()) if isinstance(x, str) else x)\n",
        "provincia_municipio = provincia_municipio.applymap(lambda x: unidecode(x.upper()) if isinstance(x, str) else x)"
      ],
      "metadata": {
        "id": "5vJYmkkQMvzh"
      },
      "execution_count": 102,
      "outputs": []
    },
    {
      "cell_type": "code",
      "source": [
        "# Function to add PROVINCIA column based on LOCALIDAD\n",
        "def add_provincia_column(df, provincia_mapping):\n",
        "    df['PROVINCIA'] = df['LOCALIDAD'].map(provincia_mapping)\n",
        "    return df\n",
        "\n",
        "# Create a dictionary mapping from LOCALIDAD to PROVINCIA\n",
        "localidad_to_provincia = provincia_municipio.set_index('MUNICIPIO')['PROVINCIA'].to_dict()\n",
        "\n",
        "# List of RN dataframes to process\n",
        "rn_dataframes = {'AT': RN_AT, 'EM': RN_EM, 'LOG': RN_LOG, 'SAAF': RN_SAAF, 'SO': RN_SO}\n",
        "\n",
        "# Add the PROVINCIA column to each RN dataframe\n",
        "rn_dfs_with_provincia = {name: add_provincia_column(df, localidad_to_provincia) for name, df in rn_dataframes.items()}\n",
        "\n",
        "# Drop rows with null values in the 'PROVINCIA' column in each RN dataframe\n",
        "rn_dfs_cleaned = {name: df.dropna(subset=['PROVINCIA']) for name, df in rn_dfs_with_provincia.items()}"
      ],
      "metadata": {
        "id": "njHewFYSS2NB"
      },
      "execution_count": 103,
      "outputs": []
    },
    {
      "cell_type": "code",
      "source": [
        "# List of columns to keep\n",
        "required_columns = ['LOCALIDAD', 'GENERO', 'YEAR NACIMIENTO', 'PROVINCIA']\n",
        "\n",
        "# Function to ensure the dataframe has all required columns\n",
        "def ensure_columns(df, columns):\n",
        "    for column in columns:\n",
        "        if column not in df.columns:\n",
        "            df[column] = np.nan  # Create column with NaN values if it does not exist\n",
        "    return df[columns]  # Return dataframe with only the required columns\n",
        "\n",
        "# Ensure all dataframes have the required columns\n",
        "rn_dfs_final = {name: ensure_columns(df, required_columns) for name, df in rn_dfs_cleaned.items()}"
      ],
      "metadata": {
        "colab": {
          "base_uri": "https://localhost:8080/"
        },
        "id": "4-mAp8jrXUk6",
        "outputId": "dbe28007-78b0-4b42-e8d9-12b2d28bc61f"
      },
      "execution_count": 104,
      "outputs": [
        {
          "output_type": "stream",
          "name": "stderr",
          "text": [
            "<ipython-input-104-605fc2068a84>:8: SettingWithCopyWarning: \n",
            "A value is trying to be set on a copy of a slice from a DataFrame.\n",
            "Try using .loc[row_indexer,col_indexer] = value instead\n",
            "\n",
            "See the caveats in the documentation: https://pandas.pydata.org/pandas-docs/stable/user_guide/indexing.html#returning-a-view-versus-a-copy\n",
            "  df[column] = np.nan  # Create column with NaN values if it does not exist\n"
          ]
        }
      ]
    },
    {
      "cell_type": "code",
      "source": [
        "# Mapping dictionary for normalizing gender values\n",
        "gender_mapping = {\n",
        "    'FEMENINO': 'MUJER',\n",
        "    'M': 'MUJER',\n",
        "    'MASCULINO': 'HOMBRE',\n",
        "    'H': 'HOMBRE'\n",
        "}\n",
        "\n",
        "# Function to normalize the 'GENERO' column in a dataframe\n",
        "def normalize_gender_column(df):\n",
        "    df['GENERO'] = df['GENERO'].map(lambda x: gender_mapping.get(x, x))\n",
        "    return df\n",
        "\n",
        "# Apply the normalization to the 'SO' dataframe\n",
        "rn_dfs_final['SO'] = normalize_gender_column(rn_dfs_final['SO'])"
      ],
      "metadata": {
        "colab": {
          "base_uri": "https://localhost:8080/"
        },
        "id": "k-1iPbJ5ZTPg",
        "outputId": "8379ee56-cd7d-4c65-d4ca-a9ee4e89e5bf"
      },
      "execution_count": 105,
      "outputs": [
        {
          "output_type": "stream",
          "name": "stderr",
          "text": [
            "<ipython-input-105-333b05a14062>:11: SettingWithCopyWarning: \n",
            "A value is trying to be set on a copy of a slice from a DataFrame.\n",
            "Try using .loc[row_indexer,col_indexer] = value instead\n",
            "\n",
            "See the caveats in the documentation: https://pandas.pydata.org/pandas-docs/stable/user_guide/indexing.html#returning-a-view-versus-a-copy\n",
            "  df['GENERO'] = df['GENERO'].map(lambda x: gender_mapping.get(x, x))\n"
          ]
        }
      ]
    },
    {
      "cell_type": "code",
      "source": [
        "# Function to insert random registers into a dataframe where the 'GENERO' column is empty\n",
        "def insert_random_registers(df, gender_distribution):\n",
        "    # Find the indices where 'GENERO' is empty\n",
        "    empty_indices = df[df['GENERO'].isna()].index\n",
        "\n",
        "    # Generate random genders based on the given distribution for the empty indices\n",
        "    genders = np.random.choice(\n",
        "        ['MUJER', 'HOMBRE'],\n",
        "        size=len(empty_indices),\n",
        "        p=[gender_distribution['MUJER'], gender_distribution['HOMBRE']]\n",
        "    )\n",
        "\n",
        "    # Assign these random genders to the empty 'GENERO' rows\n",
        "    df.loc[empty_indices, 'GENERO'] = genders\n",
        "    return df\n",
        "\n",
        "# Example of usage\n",
        "gender_distribution = {'MUJER': 0.44, 'HOMBRE': 0.56}\n",
        "\n",
        "# Insert random registers into a specific dataframe, e.g., 'ACT', where 'GENERO' is empty\n",
        "rn_dfs_final['SAAF'] = insert_random_registers(rn_dfs_final['SAAF'], gender_distribution)\n",
        "rn_dfs_final['SO'] = insert_random_registers(rn_dfs_final['SO'], gender_distribution)"
      ],
      "metadata": {
        "id": "QJBfgKPgbVCd"
      },
      "execution_count": 106,
      "outputs": []
    },
    {
      "cell_type": "code",
      "source": [
        "# Get the min and max year in the 'YEAR NACIMIENTO' column\n",
        "min_year = int(rn_dfs_final['SO']['YEAR NACIMIENTO'].min())\n",
        "max_year = int(rn_dfs_final['SO']['YEAR NACIMIENTO'].max())\n",
        "\n",
        "# Function to generate random years with the specified distribution\n",
        "def generate_random_years(size):\n",
        "    # 75% of the years under 2004\n",
        "    under_2004 = np.random.randint(min_year, 2004, size=int(size * 0.75))\n",
        "    # 25% of the years between 2004 and max_year\n",
        "    over_2004 = np.random.randint(2004, max_year + 1, size=size - int(size * 0.75))\n",
        "    return np.concatenate([under_2004, over_2004])\n",
        "\n",
        "# Function to insert random years into the 'YEAR NACIMIENTO' column where it is empty\n",
        "def insert_random_years(df):\n",
        "    # Find the indices where 'YEAR NACIMIENTO' is empty\n",
        "    empty_indices = df[df['YEAR NACIMIENTO'].isna()].index\n",
        "\n",
        "    # Generate random years based on the specified distribution\n",
        "    random_years = generate_random_years(len(empty_indices))\n",
        "    np.random.shuffle(random_years)  # Shuffle to mix the values\n",
        "\n",
        "    # Assign these random years to the empty 'YEAR NACIMIENTO' rows\n",
        "    df.loc[empty_indices, 'YEAR NACIMIENTO'] = random_years\n",
        "    return df\n",
        "\n",
        "# Apply the function to the 'SO' dataframe\n",
        "rn_dfs_final['SO'] = insert_random_years(rn_dfs_final['SO'])"
      ],
      "metadata": {
        "id": "qm7bSdbPbuo3"
      },
      "execution_count": 107,
      "outputs": []
    },
    {
      "cell_type": "code",
      "source": [
        "# Add a column named 'SERVICIO' with the name of the dataframe to each dataframe in rn_dfs_final\n",
        "def add_servicio_column(dfs):\n",
        "    for name, df in dfs.items():\n",
        "        df['SERVICIO'] = name\n",
        "    return dfs\n",
        "\n",
        "# Apply the function to rn_dfs_final\n",
        "rn_dfs_final = add_servicio_column(rn_dfs_final)"
      ],
      "metadata": {
        "colab": {
          "base_uri": "https://localhost:8080/"
        },
        "id": "PybnAC9reCDb",
        "outputId": "84c489c8-f2f5-4286-a81e-d67df6db3ed2"
      },
      "execution_count": 108,
      "outputs": [
        {
          "output_type": "stream",
          "name": "stderr",
          "text": [
            "<ipython-input-108-c5260d67a514>:4: SettingWithCopyWarning: \n",
            "A value is trying to be set on a copy of a slice from a DataFrame.\n",
            "Try using .loc[row_indexer,col_indexer] = value instead\n",
            "\n",
            "See the caveats in the documentation: https://pandas.pydata.org/pandas-docs/stable/user_guide/indexing.html#returning-a-view-versus-a-copy\n",
            "  df['SERVICIO'] = name\n",
            "<ipython-input-108-c5260d67a514>:4: SettingWithCopyWarning: \n",
            "A value is trying to be set on a copy of a slice from a DataFrame.\n",
            "Try using .loc[row_indexer,col_indexer] = value instead\n",
            "\n",
            "See the caveats in the documentation: https://pandas.pydata.org/pandas-docs/stable/user_guide/indexing.html#returning-a-view-versus-a-copy\n",
            "  df['SERVICIO'] = name\n",
            "<ipython-input-108-c5260d67a514>:4: SettingWithCopyWarning: \n",
            "A value is trying to be set on a copy of a slice from a DataFrame.\n",
            "Try using .loc[row_indexer,col_indexer] = value instead\n",
            "\n",
            "See the caveats in the documentation: https://pandas.pydata.org/pandas-docs/stable/user_guide/indexing.html#returning-a-view-versus-a-copy\n",
            "  df['SERVICIO'] = name\n",
            "<ipython-input-108-c5260d67a514>:4: SettingWithCopyWarning: \n",
            "A value is trying to be set on a copy of a slice from a DataFrame.\n",
            "Try using .loc[row_indexer,col_indexer] = value instead\n",
            "\n",
            "See the caveats in the documentation: https://pandas.pydata.org/pandas-docs/stable/user_guide/indexing.html#returning-a-view-versus-a-copy\n",
            "  df['SERVICIO'] = name\n",
            "<ipython-input-108-c5260d67a514>:4: SettingWithCopyWarning: \n",
            "A value is trying to be set on a copy of a slice from a DataFrame.\n",
            "Try using .loc[row_indexer,col_indexer] = value instead\n",
            "\n",
            "See the caveats in the documentation: https://pandas.pydata.org/pandas-docs/stable/user_guide/indexing.html#returning-a-view-versus-a-copy\n",
            "  df['SERVICIO'] = name\n"
          ]
        }
      ]
    },
    {
      "cell_type": "code",
      "source": [
        "# Combine all dataframes into a single dataframe\n",
        "combined_df = pd.concat(rn_dfs_final.values(), ignore_index=True)\n",
        "\n",
        "# Shuffle the rows of the combined dataframe\n",
        "shuffled_combined_df = combined_df.sample(frac=1).reset_index(drop=True)\n",
        "\n",
        "shuffled_combined_df['SERVICIO'].value_counts()"
      ],
      "metadata": {
        "colab": {
          "base_uri": "https://localhost:8080/"
        },
        "id": "o_JtWWq1j-Fp",
        "outputId": "3c71a073-1c0f-49f2-8a40-5d6c7b317a48"
      },
      "execution_count": 109,
      "outputs": [
        {
          "output_type": "execute_result",
          "data": {
            "text/plain": [
              "SERVICIO\n",
              "SO      1457\n",
              "SAAF     567\n",
              "EM       203\n",
              "LOG      182\n",
              "AT       143\n",
              "Name: count, dtype: int64"
            ]
          },
          "metadata": {},
          "execution_count": 109
        }
      ]
    },
    {
      "cell_type": "code",
      "source": [
        "# Crear una función para categorizar por grupos de edad\n",
        "def categorize_age(year):\n",
        "    if year < 1940:\n",
        "        return 'ANTES DE 1940'\n",
        "    elif year < 1960:\n",
        "        return '1940-1959'\n",
        "    elif year < 1980:\n",
        "        return '1960-1979'\n",
        "    elif year < 2000:\n",
        "        return '1980-1999'\n",
        "    elif year < 2020:\n",
        "        return '2000-2020'\n",
        "    else:\n",
        "        return '2020 EN ADELANTE'\n",
        "\n",
        "rna1 = shuffled_combined_df.copy()\n",
        "# Aplicar la función a la columna 'YEAR NACIMIENTO'\n",
        "rna1['YEAR NACIMIENTO'] = rna1['YEAR NACIMIENTO'].apply(categorize_age)\n",
        "\n",
        "# Ver el resultado\n",
        "print(rna1)"
      ],
      "metadata": {
        "id": "HpkB79Ibf3o5",
        "outputId": "c63e4954-c8ef-401b-b563-a2e9cb641653",
        "colab": {
          "base_uri": "https://localhost:8080/"
        }
      },
      "execution_count": 110,
      "outputs": [
        {
          "output_type": "stream",
          "name": "stdout",
          "text": [
            "                 LOCALIDAD  GENERO YEAR NACIMIENTO    PROVINCIA SERVICIO\n",
            "0              GUADALAJARA  HOMBRE       1960-1979  GUADALAJARA     SAAF\n",
            "1     CABANILLAS DEL CAMPO   MUJER       2000-2020  GUADALAJARA      LOG\n",
            "2                 ALBACETE  HOMBRE       2000-2020     ALBACETE       AT\n",
            "3            VILLARROBLEDO  HOMBRE       1980-1999     ALBACETE     SAAF\n",
            "4              GUADALAJARA  HOMBRE       2000-2020  GUADALAJARA       SO\n",
            "...                    ...     ...             ...          ...      ...\n",
            "2547                TOLEDO  HOMBRE       1980-1999       TOLEDO       EM\n",
            "2548              FONTANAR  HOMBRE       1980-1999  GUADALAJARA       SO\n",
            "2549            CHILOECHES  HOMBRE       2000-2020  GUADALAJARA       SO\n",
            "2550   AZUQUECA DE HENARES  HOMBRE       1960-1979  GUADALAJARA       SO\n",
            "2551           GUADALAJARA  HOMBRE       1980-1999  GUADALAJARA       SO\n",
            "\n",
            "[2552 rows x 5 columns]\n"
          ]
        }
      ]
    },
    {
      "cell_type": "markdown",
      "source": [
        "##RNA predictiva con los datos reales\n",
        "Vamos a realizar una primera red neuronal con los registros reales."
      ],
      "metadata": {
        "id": "B-k7H7ejhjBe"
      }
    },
    {
      "cell_type": "markdown",
      "source": [
        "####Preparación de los datos\n",
        "\n",
        "Convertimos las variables categóricas en variables dummy usando pd.get_dummies.\n",
        "\n",
        "Separamos las características (x) de la etiqueta (y).\n",
        "Convertimos la etiqueta en variables dummy para la clasificación multiclase."
      ],
      "metadata": {
        "id": "iCsB5tg8kIFW"
      }
    },
    {
      "cell_type": "code",
      "source": [
        "# Convertir las variables categóricas en variables dummy\n",
        "df = pd.get_dummies(rna1, columns=['LOCALIDAD', 'GENERO', 'PROVINCIA', 'YEAR NACIMIENTO'])\n",
        "\n",
        "# Separar las características (X) y la etiqueta (y)\n",
        "X = df.drop('SERVICIO', axis=1)\n",
        "y = df['SERVICIO']\n",
        "\n",
        "# Convertir la etiqueta en variables dummy\n",
        "y = pd.get_dummies(y)"
      ],
      "metadata": {
        "id": "BLS2lcb_hiKc"
      },
      "execution_count": 111,
      "outputs": []
    },
    {
      "cell_type": "markdown",
      "source": [
        "####División de los datos\n",
        "Usaremos un 70% de los datos para entrenar y del 30% restante, un 70% para validar (21% del total) e ir ajustandio los hiperparámetros (evitando el sobreentrenamiento) y un 30% para el conjunto de test (9% del total), para evaluar el modelo y su precisión al final."
      ],
      "metadata": {
        "id": "wVrutIpJkdSd"
      }
    },
    {
      "cell_type": "code",
      "source": [
        "from sklearn.model_selection import train_test_split\n",
        "\n",
        "# Dividir los datos en conjuntos de entrenamiento, validación y prueba\n",
        "X_train, X_temp, y_train, y_temp = train_test_split(X, y, test_size=0.3, random_state=42)\n",
        "X_val, X_test, y_val, y_test = train_test_split(X_temp, y_temp, test_size=0.3, random_state=42)\n",
        "\n",
        "# Verificar las formas de los conjuntos de datos\n",
        "print(\"Tamaño del conjunto de entrenamiento:\", X_train.shape)\n",
        "print(\"Tamaño del conjunto de validación:\", X_val.shape)\n",
        "print(\"Tamaño del conjunto de prueba:\", X_test.shape)"
      ],
      "metadata": {
        "id": "iqQj73uDkdn0",
        "outputId": "33e6bbca-7bf6-46e7-ea27-ac080167aa94",
        "colab": {
          "base_uri": "https://localhost:8080/"
        }
      },
      "execution_count": 112,
      "outputs": [
        {
          "output_type": "stream",
          "name": "stdout",
          "text": [
            "Tamaño del conjunto de entrenamiento: (1786, 228)\n",
            "Tamaño del conjunto de validación: (536, 228)\n",
            "Tamaño del conjunto de prueba: (230, 228)\n"
          ]
        }
      ]
    },
    {
      "cell_type": "markdown",
      "source": [],
      "metadata": {
        "id": "VrZHc07-mVIf"
      }
    },
    {
      "cell_type": "code",
      "source": [
        "from tensorflow.keras.models import Sequential\n",
        "from tensorflow.keras.layers import Dense, Dropout\n",
        "\n",
        "# Definir el modelo\n",
        "model = Sequential()\n",
        "model.add(Dense(128, input_dim=X_train.shape[1], activation='relu'))\n",
        "model.add(Dropout(0.5))\n",
        "model.add(Dense(64, activation='relu'))\n",
        "model.add(Dropout(0.5))\n",
        "model.add(Dense(32, activation='relu'))\n",
        "model.add(Dense(y_train.shape[1], activation='softmax'))\n",
        "\n",
        "# Compilar el modelo\n",
        "model.compile(loss='categorical_crossentropy', optimizer='adam', metrics=['accuracy'])\n",
        "\n",
        "# Entrenar el modelo\n",
        "history = model.fit(X_train, y_train, epochs=50, batch_size=32, validation_data=(X_val, y_val))\n",
        "\n",
        "# Evaluar el modelo en el conjunto de prueba\n",
        "loss, accuracy = model.evaluate(X_test, y_test)\n",
        "print(f'Loss: {loss}, Accuracy: {accuracy}')"
      ],
      "metadata": {
        "id": "dgOtWJpPmUpA",
        "outputId": "9f8fadda-0f45-4a74-9759-1b466af963e1",
        "colab": {
          "base_uri": "https://localhost:8080/"
        }
      },
      "execution_count": 113,
      "outputs": [
        {
          "output_type": "stream",
          "name": "stdout",
          "text": [
            "Epoch 1/50\n",
            "56/56 [==============================] - 2s 13ms/step - loss: 1.3502 - accuracy: 0.5302 - val_loss: 1.1546 - val_accuracy: 0.5466\n",
            "Epoch 2/50\n",
            "56/56 [==============================] - 0s 6ms/step - loss: 1.1302 - accuracy: 0.5817 - val_loss: 1.0817 - val_accuracy: 0.5466\n",
            "Epoch 3/50\n",
            "56/56 [==============================] - 0s 7ms/step - loss: 1.0765 - accuracy: 0.5845 - val_loss: 1.0385 - val_accuracy: 0.5634\n",
            "Epoch 4/50\n",
            "56/56 [==============================] - 0s 5ms/step - loss: 1.0341 - accuracy: 0.6030 - val_loss: 0.9953 - val_accuracy: 0.6101\n",
            "Epoch 5/50\n",
            "56/56 [==============================] - 0s 4ms/step - loss: 1.0024 - accuracy: 0.6271 - val_loss: 0.9602 - val_accuracy: 0.6306\n",
            "Epoch 6/50\n",
            "56/56 [==============================] - 0s 5ms/step - loss: 0.9636 - accuracy: 0.6249 - val_loss: 0.9117 - val_accuracy: 0.6381\n",
            "Epoch 7/50\n",
            "56/56 [==============================] - 0s 5ms/step - loss: 0.9366 - accuracy: 0.6361 - val_loss: 0.8885 - val_accuracy: 0.6474\n",
            "Epoch 8/50\n",
            "56/56 [==============================] - 0s 4ms/step - loss: 0.9158 - accuracy: 0.6445 - val_loss: 0.8731 - val_accuracy: 0.6586\n",
            "Epoch 9/50\n",
            "56/56 [==============================] - 0s 4ms/step - loss: 0.8998 - accuracy: 0.6596 - val_loss: 0.8599 - val_accuracy: 0.6586\n",
            "Epoch 10/50\n",
            "56/56 [==============================] - 0s 4ms/step - loss: 0.8736 - accuracy: 0.6596 - val_loss: 0.8433 - val_accuracy: 0.6586\n",
            "Epoch 11/50\n",
            "56/56 [==============================] - 0s 4ms/step - loss: 0.8645 - accuracy: 0.6702 - val_loss: 0.8383 - val_accuracy: 0.6623\n",
            "Epoch 12/50\n",
            "56/56 [==============================] - 0s 4ms/step - loss: 0.8507 - accuracy: 0.6708 - val_loss: 0.8336 - val_accuracy: 0.6642\n",
            "Epoch 13/50\n",
            "56/56 [==============================] - 0s 4ms/step - loss: 0.8567 - accuracy: 0.6573 - val_loss: 0.8280 - val_accuracy: 0.6642\n",
            "Epoch 14/50\n",
            "56/56 [==============================] - 0s 4ms/step - loss: 0.8397 - accuracy: 0.6859 - val_loss: 0.8268 - val_accuracy: 0.6698\n",
            "Epoch 15/50\n",
            "56/56 [==============================] - 0s 5ms/step - loss: 0.8055 - accuracy: 0.6741 - val_loss: 0.8222 - val_accuracy: 0.6642\n",
            "Epoch 16/50\n",
            "56/56 [==============================] - 0s 4ms/step - loss: 0.8047 - accuracy: 0.6892 - val_loss: 0.8214 - val_accuracy: 0.6604\n",
            "Epoch 17/50\n",
            "56/56 [==============================] - 0s 4ms/step - loss: 0.8161 - accuracy: 0.6781 - val_loss: 0.8290 - val_accuracy: 0.6604\n",
            "Epoch 18/50\n",
            "56/56 [==============================] - 0s 4ms/step - loss: 0.8028 - accuracy: 0.6741 - val_loss: 0.8275 - val_accuracy: 0.6660\n",
            "Epoch 19/50\n",
            "56/56 [==============================] - 0s 5ms/step - loss: 0.7898 - accuracy: 0.6943 - val_loss: 0.8252 - val_accuracy: 0.6567\n",
            "Epoch 20/50\n",
            "56/56 [==============================] - 0s 4ms/step - loss: 0.7855 - accuracy: 0.6960 - val_loss: 0.8257 - val_accuracy: 0.6604\n",
            "Epoch 21/50\n",
            "56/56 [==============================] - 0s 4ms/step - loss: 0.7825 - accuracy: 0.6943 - val_loss: 0.8295 - val_accuracy: 0.6549\n",
            "Epoch 22/50\n",
            "56/56 [==============================] - 0s 5ms/step - loss: 0.7680 - accuracy: 0.7055 - val_loss: 0.8298 - val_accuracy: 0.6567\n",
            "Epoch 23/50\n",
            "56/56 [==============================] - 0s 5ms/step - loss: 0.7632 - accuracy: 0.7021 - val_loss: 0.8321 - val_accuracy: 0.6642\n",
            "Epoch 24/50\n",
            "56/56 [==============================] - 0s 4ms/step - loss: 0.7610 - accuracy: 0.7100 - val_loss: 0.8389 - val_accuracy: 0.6549\n",
            "Epoch 25/50\n",
            "56/56 [==============================] - 0s 4ms/step - loss: 0.7584 - accuracy: 0.7066 - val_loss: 0.8484 - val_accuracy: 0.6549\n",
            "Epoch 26/50\n",
            "56/56 [==============================] - 0s 4ms/step - loss: 0.7462 - accuracy: 0.7083 - val_loss: 0.8401 - val_accuracy: 0.6567\n",
            "Epoch 27/50\n",
            "56/56 [==============================] - 0s 5ms/step - loss: 0.7515 - accuracy: 0.6976 - val_loss: 0.8448 - val_accuracy: 0.6530\n",
            "Epoch 28/50\n",
            "56/56 [==============================] - 0s 4ms/step - loss: 0.7467 - accuracy: 0.7094 - val_loss: 0.8548 - val_accuracy: 0.6586\n",
            "Epoch 29/50\n",
            "56/56 [==============================] - 0s 4ms/step - loss: 0.7332 - accuracy: 0.7060 - val_loss: 0.8609 - val_accuracy: 0.6586\n",
            "Epoch 30/50\n",
            "56/56 [==============================] - 0s 4ms/step - loss: 0.7140 - accuracy: 0.7122 - val_loss: 0.8599 - val_accuracy: 0.6586\n",
            "Epoch 31/50\n",
            "56/56 [==============================] - 0s 4ms/step - loss: 0.7318 - accuracy: 0.7122 - val_loss: 0.8684 - val_accuracy: 0.6549\n",
            "Epoch 32/50\n",
            "56/56 [==============================] - 0s 4ms/step - loss: 0.7261 - accuracy: 0.7066 - val_loss: 0.8716 - val_accuracy: 0.6642\n",
            "Epoch 33/50\n",
            "56/56 [==============================] - 0s 5ms/step - loss: 0.7297 - accuracy: 0.7083 - val_loss: 0.8695 - val_accuracy: 0.6549\n",
            "Epoch 34/50\n",
            "56/56 [==============================] - 0s 5ms/step - loss: 0.7133 - accuracy: 0.7161 - val_loss: 0.8779 - val_accuracy: 0.6549\n",
            "Epoch 35/50\n",
            "56/56 [==============================] - 0s 5ms/step - loss: 0.7098 - accuracy: 0.7189 - val_loss: 0.8881 - val_accuracy: 0.6455\n",
            "Epoch 36/50\n",
            "56/56 [==============================] - 0s 5ms/step - loss: 0.7053 - accuracy: 0.7200 - val_loss: 0.8862 - val_accuracy: 0.6418\n",
            "Epoch 37/50\n",
            "56/56 [==============================] - 0s 6ms/step - loss: 0.7034 - accuracy: 0.7144 - val_loss: 0.8836 - val_accuracy: 0.6455\n",
            "Epoch 38/50\n",
            "56/56 [==============================] - 0s 5ms/step - loss: 0.6988 - accuracy: 0.7178 - val_loss: 0.8903 - val_accuracy: 0.6437\n",
            "Epoch 39/50\n",
            "56/56 [==============================] - 0s 5ms/step - loss: 0.7030 - accuracy: 0.7184 - val_loss: 0.8918 - val_accuracy: 0.6437\n",
            "Epoch 40/50\n",
            "56/56 [==============================] - 0s 4ms/step - loss: 0.7107 - accuracy: 0.7016 - val_loss: 0.8989 - val_accuracy: 0.6455\n",
            "Epoch 41/50\n",
            "56/56 [==============================] - 0s 4ms/step - loss: 0.6909 - accuracy: 0.7234 - val_loss: 0.9008 - val_accuracy: 0.6493\n",
            "Epoch 42/50\n",
            "56/56 [==============================] - 0s 5ms/step - loss: 0.6840 - accuracy: 0.7178 - val_loss: 0.9084 - val_accuracy: 0.6530\n",
            "Epoch 43/50\n",
            "56/56 [==============================] - 0s 6ms/step - loss: 0.6783 - accuracy: 0.7391 - val_loss: 0.9120 - val_accuracy: 0.6418\n",
            "Epoch 44/50\n",
            "56/56 [==============================] - 1s 10ms/step - loss: 0.6947 - accuracy: 0.7206 - val_loss: 0.9220 - val_accuracy: 0.6511\n",
            "Epoch 45/50\n",
            "56/56 [==============================] - 0s 7ms/step - loss: 0.6973 - accuracy: 0.7172 - val_loss: 0.9234 - val_accuracy: 0.6511\n",
            "Epoch 46/50\n",
            "56/56 [==============================] - 0s 8ms/step - loss: 0.6742 - accuracy: 0.7396 - val_loss: 0.9192 - val_accuracy: 0.6530\n",
            "Epoch 47/50\n",
            "56/56 [==============================] - 1s 9ms/step - loss: 0.6651 - accuracy: 0.7279 - val_loss: 0.9298 - val_accuracy: 0.6399\n",
            "Epoch 48/50\n",
            "56/56 [==============================] - 1s 10ms/step - loss: 0.6852 - accuracy: 0.7245 - val_loss: 0.9253 - val_accuracy: 0.6437\n",
            "Epoch 49/50\n",
            "56/56 [==============================] - 1s 10ms/step - loss: 0.6746 - accuracy: 0.7245 - val_loss: 0.9314 - val_accuracy: 0.6474\n",
            "Epoch 50/50\n",
            "56/56 [==============================] - 0s 7ms/step - loss: 0.6675 - accuracy: 0.7357 - val_loss: 0.9345 - val_accuracy: 0.6493\n",
            "8/8 [==============================] - 0s 3ms/step - loss: 0.9680 - accuracy: 0.6043\n",
            "Loss: 0.9679737091064453, Accuracy: 0.604347825050354\n"
          ]
        }
      ]
    },
    {
      "cell_type": "code",
      "source": [
        "from tensorflow.keras.models import Sequential\n",
        "from tensorflow.keras.layers import Dense, Dropout\n",
        "from tensorflow.keras.optimizers import Adam\n",
        "from tensorflow.keras.activations import relu, tanh\n",
        "\n",
        "# Definir el modelo con hiperparámetros ajustables\n",
        "def create_model(learning_rate=0.001, activation='relu', dropout_rate=0.5):\n",
        "    model = Sequential()\n",
        "    model.add(Dense(128, input_dim=X_train.shape[1], activation=activation))\n",
        "    model.add(Dropout(dropout_rate))\n",
        "    model.add(Dense(64, activation=activation))\n",
        "    model.add(Dropout(dropout_rate))\n",
        "    model.add(Dense(32, activation=activation))\n",
        "    model.add(Dense(y_train.shape[1], activation='softmax'))\n",
        "\n",
        "    optimizer = Adam(learning_rate=learning_rate)\n",
        "    model.compile(loss='categorical_crossentropy', optimizer=optimizer, metrics=['accuracy'])\n",
        "\n",
        "    return model\n",
        "\n",
        "# Crear el modelo con hiperparámetros ajustados\n",
        "model = create_model(learning_rate=0.0005, activation='tanh', dropout_rate=0.3)\n",
        "\n",
        "# Entrenar el modelo\n",
        "history = model.fit(X_train, y_train, epochs=100, batch_size=64, validation_data=(X_val, y_val))\n",
        "\n",
        "# Evaluar el modelo en el conjunto de prueba\n",
        "loss, accuracy = model.evaluate(X_test, y_test)\n",
        "print(f'Loss: {loss}, Accuracy: {accuracy}')"
      ],
      "metadata": {
        "id": "IkHsUUqkm-b6",
        "outputId": "7f56f185-b04f-42f3-a206-6d274ce42a9d",
        "colab": {
          "base_uri": "https://localhost:8080/"
        }
      },
      "execution_count": 114,
      "outputs": [
        {
          "output_type": "stream",
          "name": "stdout",
          "text": [
            "Epoch 1/100\n",
            "28/28 [==============================] - 2s 13ms/step - loss: 1.3716 - accuracy: 0.4905 - val_loss: 1.1661 - val_accuracy: 0.5466\n",
            "Epoch 2/100\n",
            "28/28 [==============================] - 0s 6ms/step - loss: 1.0999 - accuracy: 0.5997 - val_loss: 1.0381 - val_accuracy: 0.5989\n",
            "Epoch 3/100\n",
            "28/28 [==============================] - 0s 5ms/step - loss: 1.0213 - accuracy: 0.6333 - val_loss: 0.9892 - val_accuracy: 0.6175\n",
            "Epoch 4/100\n",
            "28/28 [==============================] - 0s 5ms/step - loss: 0.9744 - accuracy: 0.6461 - val_loss: 0.9482 - val_accuracy: 0.6343\n",
            "Epoch 5/100\n",
            "28/28 [==============================] - 0s 5ms/step - loss: 0.9534 - accuracy: 0.6484 - val_loss: 0.9280 - val_accuracy: 0.6269\n",
            "Epoch 6/100\n",
            "28/28 [==============================] - 0s 5ms/step - loss: 0.9337 - accuracy: 0.6579 - val_loss: 0.9088 - val_accuracy: 0.6437\n",
            "Epoch 7/100\n",
            "28/28 [==============================] - 0s 7ms/step - loss: 0.9249 - accuracy: 0.6557 - val_loss: 0.8948 - val_accuracy: 0.6549\n",
            "Epoch 8/100\n",
            "28/28 [==============================] - 0s 6ms/step - loss: 0.8981 - accuracy: 0.6652 - val_loss: 0.8872 - val_accuracy: 0.6530\n",
            "Epoch 9/100\n",
            "28/28 [==============================] - 0s 5ms/step - loss: 0.8968 - accuracy: 0.6624 - val_loss: 0.8789 - val_accuracy: 0.6549\n",
            "Epoch 10/100\n",
            "28/28 [==============================] - 0s 5ms/step - loss: 0.8926 - accuracy: 0.6713 - val_loss: 0.8736 - val_accuracy: 0.6455\n",
            "Epoch 11/100\n",
            "28/28 [==============================] - 0s 5ms/step - loss: 0.8684 - accuracy: 0.6736 - val_loss: 0.8696 - val_accuracy: 0.6493\n",
            "Epoch 12/100\n",
            "28/28 [==============================] - 0s 6ms/step - loss: 0.8752 - accuracy: 0.6685 - val_loss: 0.8625 - val_accuracy: 0.6493\n",
            "Epoch 13/100\n",
            "28/28 [==============================] - 0s 10ms/step - loss: 0.8600 - accuracy: 0.6702 - val_loss: 0.8676 - val_accuracy: 0.6493\n",
            "Epoch 14/100\n",
            "28/28 [==============================] - 0s 7ms/step - loss: 0.8494 - accuracy: 0.6747 - val_loss: 0.8597 - val_accuracy: 0.6474\n",
            "Epoch 15/100\n",
            "28/28 [==============================] - 0s 6ms/step - loss: 0.8453 - accuracy: 0.6764 - val_loss: 0.8611 - val_accuracy: 0.6455\n",
            "Epoch 16/100\n",
            "28/28 [==============================] - 0s 7ms/step - loss: 0.8363 - accuracy: 0.6781 - val_loss: 0.8590 - val_accuracy: 0.6474\n",
            "Epoch 17/100\n",
            "28/28 [==============================] - 0s 7ms/step - loss: 0.8375 - accuracy: 0.6786 - val_loss: 0.8537 - val_accuracy: 0.6455\n",
            "Epoch 18/100\n",
            "28/28 [==============================] - 0s 9ms/step - loss: 0.8433 - accuracy: 0.6859 - val_loss: 0.8604 - val_accuracy: 0.6399\n",
            "Epoch 19/100\n",
            "28/28 [==============================] - 0s 7ms/step - loss: 0.8243 - accuracy: 0.6932 - val_loss: 0.8547 - val_accuracy: 0.6437\n",
            "Epoch 20/100\n",
            "28/28 [==============================] - 0s 6ms/step - loss: 0.8311 - accuracy: 0.6865 - val_loss: 0.8581 - val_accuracy: 0.6399\n",
            "Epoch 21/100\n",
            "28/28 [==============================] - 0s 6ms/step - loss: 0.8230 - accuracy: 0.6831 - val_loss: 0.8635 - val_accuracy: 0.6399\n",
            "Epoch 22/100\n",
            "28/28 [==============================] - 0s 7ms/step - loss: 0.8108 - accuracy: 0.6904 - val_loss: 0.8575 - val_accuracy: 0.6437\n",
            "Epoch 23/100\n",
            "28/28 [==============================] - 0s 5ms/step - loss: 0.8004 - accuracy: 0.6870 - val_loss: 0.8555 - val_accuracy: 0.6455\n",
            "Epoch 24/100\n",
            "28/28 [==============================] - 0s 7ms/step - loss: 0.8189 - accuracy: 0.6887 - val_loss: 0.8545 - val_accuracy: 0.6437\n",
            "Epoch 25/100\n",
            "28/28 [==============================] - 0s 5ms/step - loss: 0.8025 - accuracy: 0.6965 - val_loss: 0.8604 - val_accuracy: 0.6455\n",
            "Epoch 26/100\n",
            "28/28 [==============================] - 0s 5ms/step - loss: 0.8042 - accuracy: 0.6976 - val_loss: 0.8608 - val_accuracy: 0.6437\n",
            "Epoch 27/100\n",
            "28/28 [==============================] - 0s 5ms/step - loss: 0.7966 - accuracy: 0.6859 - val_loss: 0.8622 - val_accuracy: 0.6399\n",
            "Epoch 28/100\n",
            "28/28 [==============================] - 0s 7ms/step - loss: 0.8025 - accuracy: 0.6892 - val_loss: 0.8601 - val_accuracy: 0.6474\n",
            "Epoch 29/100\n",
            "28/28 [==============================] - 0s 7ms/step - loss: 0.7853 - accuracy: 0.6943 - val_loss: 0.8680 - val_accuracy: 0.6437\n",
            "Epoch 30/100\n",
            "28/28 [==============================] - 0s 6ms/step - loss: 0.7998 - accuracy: 0.6948 - val_loss: 0.8647 - val_accuracy: 0.6474\n",
            "Epoch 31/100\n",
            "28/28 [==============================] - 0s 5ms/step - loss: 0.7897 - accuracy: 0.6915 - val_loss: 0.8667 - val_accuracy: 0.6455\n",
            "Epoch 32/100\n",
            "28/28 [==============================] - 0s 5ms/step - loss: 0.7841 - accuracy: 0.6988 - val_loss: 0.8697 - val_accuracy: 0.6399\n",
            "Epoch 33/100\n",
            "28/28 [==============================] - 0s 5ms/step - loss: 0.7889 - accuracy: 0.6898 - val_loss: 0.8686 - val_accuracy: 0.6362\n",
            "Epoch 34/100\n",
            "28/28 [==============================] - 0s 7ms/step - loss: 0.7928 - accuracy: 0.6892 - val_loss: 0.8689 - val_accuracy: 0.6362\n",
            "Epoch 35/100\n",
            "28/28 [==============================] - 0s 7ms/step - loss: 0.7886 - accuracy: 0.6887 - val_loss: 0.8736 - val_accuracy: 0.6362\n",
            "Epoch 36/100\n",
            "28/28 [==============================] - 0s 6ms/step - loss: 0.7931 - accuracy: 0.6848 - val_loss: 0.8734 - val_accuracy: 0.6399\n",
            "Epoch 37/100\n",
            "28/28 [==============================] - 0s 6ms/step - loss: 0.7833 - accuracy: 0.6937 - val_loss: 0.8702 - val_accuracy: 0.6399\n",
            "Epoch 38/100\n",
            "28/28 [==============================] - 0s 5ms/step - loss: 0.7851 - accuracy: 0.6948 - val_loss: 0.8721 - val_accuracy: 0.6418\n",
            "Epoch 39/100\n",
            "28/28 [==============================] - 0s 6ms/step - loss: 0.7783 - accuracy: 0.6937 - val_loss: 0.8778 - val_accuracy: 0.6418\n",
            "Epoch 40/100\n",
            "28/28 [==============================] - 0s 6ms/step - loss: 0.7756 - accuracy: 0.6948 - val_loss: 0.8743 - val_accuracy: 0.6399\n",
            "Epoch 41/100\n",
            "28/28 [==============================] - 0s 6ms/step - loss: 0.7797 - accuracy: 0.6853 - val_loss: 0.8781 - val_accuracy: 0.6474\n",
            "Epoch 42/100\n",
            "28/28 [==============================] - 0s 5ms/step - loss: 0.7801 - accuracy: 0.6993 - val_loss: 0.8784 - val_accuracy: 0.6325\n",
            "Epoch 43/100\n",
            "28/28 [==============================] - 0s 5ms/step - loss: 0.7792 - accuracy: 0.6965 - val_loss: 0.8794 - val_accuracy: 0.6362\n",
            "Epoch 44/100\n",
            "28/28 [==============================] - 0s 5ms/step - loss: 0.7757 - accuracy: 0.6954 - val_loss: 0.8810 - val_accuracy: 0.6306\n",
            "Epoch 45/100\n",
            "28/28 [==============================] - 0s 5ms/step - loss: 0.7700 - accuracy: 0.6937 - val_loss: 0.8808 - val_accuracy: 0.6381\n",
            "Epoch 46/100\n",
            "28/28 [==============================] - 0s 6ms/step - loss: 0.7606 - accuracy: 0.6982 - val_loss: 0.8810 - val_accuracy: 0.6381\n",
            "Epoch 47/100\n",
            "28/28 [==============================] - 0s 8ms/step - loss: 0.7642 - accuracy: 0.6892 - val_loss: 0.8789 - val_accuracy: 0.6362\n",
            "Epoch 48/100\n",
            "28/28 [==============================] - 0s 9ms/step - loss: 0.7664 - accuracy: 0.7016 - val_loss: 0.8842 - val_accuracy: 0.6343\n",
            "Epoch 49/100\n",
            "28/28 [==============================] - 0s 8ms/step - loss: 0.7508 - accuracy: 0.6937 - val_loss: 0.8809 - val_accuracy: 0.6362\n",
            "Epoch 50/100\n",
            "28/28 [==============================] - 0s 11ms/step - loss: 0.7558 - accuracy: 0.7016 - val_loss: 0.8850 - val_accuracy: 0.6325\n",
            "Epoch 51/100\n",
            "28/28 [==============================] - 0s 9ms/step - loss: 0.7605 - accuracy: 0.7016 - val_loss: 0.8893 - val_accuracy: 0.6287\n",
            "Epoch 52/100\n",
            "28/28 [==============================] - 0s 11ms/step - loss: 0.7574 - accuracy: 0.6988 - val_loss: 0.8840 - val_accuracy: 0.6381\n",
            "Epoch 53/100\n",
            "28/28 [==============================] - 0s 11ms/step - loss: 0.7585 - accuracy: 0.6937 - val_loss: 0.8885 - val_accuracy: 0.6381\n",
            "Epoch 54/100\n",
            "28/28 [==============================] - 0s 10ms/step - loss: 0.7540 - accuracy: 0.7016 - val_loss: 0.8841 - val_accuracy: 0.6474\n",
            "Epoch 55/100\n",
            "28/28 [==============================] - 0s 10ms/step - loss: 0.7621 - accuracy: 0.6999 - val_loss: 0.8873 - val_accuracy: 0.6362\n",
            "Epoch 56/100\n",
            "28/28 [==============================] - 0s 9ms/step - loss: 0.7603 - accuracy: 0.7016 - val_loss: 0.8862 - val_accuracy: 0.6399\n",
            "Epoch 57/100\n",
            "28/28 [==============================] - 0s 12ms/step - loss: 0.7475 - accuracy: 0.7144 - val_loss: 0.8878 - val_accuracy: 0.6399\n",
            "Epoch 58/100\n",
            "28/28 [==============================] - 0s 12ms/step - loss: 0.7541 - accuracy: 0.6870 - val_loss: 0.8894 - val_accuracy: 0.6418\n",
            "Epoch 59/100\n",
            "28/28 [==============================] - 0s 7ms/step - loss: 0.7472 - accuracy: 0.6999 - val_loss: 0.8885 - val_accuracy: 0.6437\n",
            "Epoch 60/100\n",
            "28/28 [==============================] - 0s 8ms/step - loss: 0.7486 - accuracy: 0.6999 - val_loss: 0.8921 - val_accuracy: 0.6381\n",
            "Epoch 61/100\n",
            "28/28 [==============================] - 0s 5ms/step - loss: 0.7388 - accuracy: 0.7044 - val_loss: 0.8915 - val_accuracy: 0.6381\n",
            "Epoch 62/100\n",
            "28/28 [==============================] - 0s 5ms/step - loss: 0.7492 - accuracy: 0.6982 - val_loss: 0.8898 - val_accuracy: 0.6437\n",
            "Epoch 63/100\n",
            "28/28 [==============================] - 0s 5ms/step - loss: 0.7420 - accuracy: 0.7004 - val_loss: 0.8885 - val_accuracy: 0.6418\n",
            "Epoch 64/100\n",
            "28/28 [==============================] - 0s 5ms/step - loss: 0.7408 - accuracy: 0.7032 - val_loss: 0.8914 - val_accuracy: 0.6437\n",
            "Epoch 65/100\n",
            "28/28 [==============================] - 0s 5ms/step - loss: 0.7412 - accuracy: 0.6988 - val_loss: 0.8912 - val_accuracy: 0.6381\n",
            "Epoch 66/100\n",
            "28/28 [==============================] - 0s 5ms/step - loss: 0.7497 - accuracy: 0.7016 - val_loss: 0.8916 - val_accuracy: 0.6399\n",
            "Epoch 67/100\n",
            "28/28 [==============================] - 0s 8ms/step - loss: 0.7465 - accuracy: 0.7010 - val_loss: 0.8934 - val_accuracy: 0.6418\n",
            "Epoch 68/100\n",
            "28/28 [==============================] - 0s 5ms/step - loss: 0.7468 - accuracy: 0.7027 - val_loss: 0.8932 - val_accuracy: 0.6381\n",
            "Epoch 69/100\n",
            "28/28 [==============================] - 0s 5ms/step - loss: 0.7302 - accuracy: 0.7139 - val_loss: 0.8942 - val_accuracy: 0.6399\n",
            "Epoch 70/100\n",
            "28/28 [==============================] - 0s 5ms/step - loss: 0.7405 - accuracy: 0.6999 - val_loss: 0.8926 - val_accuracy: 0.6399\n",
            "Epoch 71/100\n",
            "28/28 [==============================] - 0s 6ms/step - loss: 0.7437 - accuracy: 0.6965 - val_loss: 0.8960 - val_accuracy: 0.6381\n",
            "Epoch 72/100\n",
            "28/28 [==============================] - 0s 6ms/step - loss: 0.7356 - accuracy: 0.7049 - val_loss: 0.8948 - val_accuracy: 0.6399\n",
            "Epoch 73/100\n",
            "28/28 [==============================] - 0s 6ms/step - loss: 0.7474 - accuracy: 0.6932 - val_loss: 0.8951 - val_accuracy: 0.6418\n",
            "Epoch 74/100\n",
            "28/28 [==============================] - 0s 5ms/step - loss: 0.7399 - accuracy: 0.7032 - val_loss: 0.8939 - val_accuracy: 0.6399\n",
            "Epoch 75/100\n",
            "28/28 [==============================] - 0s 5ms/step - loss: 0.7332 - accuracy: 0.7072 - val_loss: 0.8974 - val_accuracy: 0.6399\n",
            "Epoch 76/100\n",
            "28/28 [==============================] - 0s 5ms/step - loss: 0.7385 - accuracy: 0.7055 - val_loss: 0.8994 - val_accuracy: 0.6437\n",
            "Epoch 77/100\n",
            "28/28 [==============================] - 0s 5ms/step - loss: 0.7371 - accuracy: 0.7038 - val_loss: 0.8956 - val_accuracy: 0.6474\n",
            "Epoch 78/100\n",
            "28/28 [==============================] - 0s 5ms/step - loss: 0.7319 - accuracy: 0.7116 - val_loss: 0.8967 - val_accuracy: 0.6455\n",
            "Epoch 79/100\n",
            "28/28 [==============================] - 0s 6ms/step - loss: 0.7305 - accuracy: 0.7032 - val_loss: 0.8955 - val_accuracy: 0.6474\n",
            "Epoch 80/100\n",
            "28/28 [==============================] - 0s 6ms/step - loss: 0.7349 - accuracy: 0.7094 - val_loss: 0.8979 - val_accuracy: 0.6437\n",
            "Epoch 81/100\n",
            "28/28 [==============================] - 0s 6ms/step - loss: 0.7296 - accuracy: 0.7088 - val_loss: 0.8948 - val_accuracy: 0.6455\n",
            "Epoch 82/100\n",
            "28/28 [==============================] - 0s 6ms/step - loss: 0.7424 - accuracy: 0.7032 - val_loss: 0.8973 - val_accuracy: 0.6418\n",
            "Epoch 83/100\n",
            "28/28 [==============================] - 0s 8ms/step - loss: 0.7225 - accuracy: 0.7111 - val_loss: 0.8992 - val_accuracy: 0.6455\n",
            "Epoch 84/100\n",
            "28/28 [==============================] - 0s 7ms/step - loss: 0.7221 - accuracy: 0.7088 - val_loss: 0.8987 - val_accuracy: 0.6437\n",
            "Epoch 85/100\n",
            "28/28 [==============================] - 0s 6ms/step - loss: 0.7193 - accuracy: 0.7105 - val_loss: 0.9000 - val_accuracy: 0.6455\n",
            "Epoch 86/100\n",
            "28/28 [==============================] - 0s 5ms/step - loss: 0.7302 - accuracy: 0.7044 - val_loss: 0.9000 - val_accuracy: 0.6474\n",
            "Epoch 87/100\n",
            "28/28 [==============================] - 0s 5ms/step - loss: 0.7339 - accuracy: 0.7027 - val_loss: 0.8985 - val_accuracy: 0.6493\n",
            "Epoch 88/100\n",
            "28/28 [==============================] - 0s 5ms/step - loss: 0.7339 - accuracy: 0.7077 - val_loss: 0.9003 - val_accuracy: 0.6530\n",
            "Epoch 89/100\n",
            "28/28 [==============================] - 0s 5ms/step - loss: 0.7223 - accuracy: 0.6999 - val_loss: 0.8959 - val_accuracy: 0.6530\n",
            "Epoch 90/100\n",
            "28/28 [==============================] - 0s 7ms/step - loss: 0.7260 - accuracy: 0.7027 - val_loss: 0.8978 - val_accuracy: 0.6511\n",
            "Epoch 91/100\n",
            "28/28 [==============================] - 0s 6ms/step - loss: 0.7370 - accuracy: 0.7100 - val_loss: 0.9027 - val_accuracy: 0.6381\n",
            "Epoch 92/100\n",
            "28/28 [==============================] - 0s 6ms/step - loss: 0.7152 - accuracy: 0.7072 - val_loss: 0.9016 - val_accuracy: 0.6399\n",
            "Epoch 93/100\n",
            "28/28 [==============================] - 0s 6ms/step - loss: 0.7217 - accuracy: 0.7010 - val_loss: 0.9014 - val_accuracy: 0.6455\n",
            "Epoch 94/100\n",
            "28/28 [==============================] - 0s 6ms/step - loss: 0.7246 - accuracy: 0.7100 - val_loss: 0.9025 - val_accuracy: 0.6399\n",
            "Epoch 95/100\n",
            "28/28 [==============================] - 0s 7ms/step - loss: 0.7281 - accuracy: 0.7083 - val_loss: 0.9013 - val_accuracy: 0.6418\n",
            "Epoch 96/100\n",
            "28/28 [==============================] - 0s 6ms/step - loss: 0.7283 - accuracy: 0.7066 - val_loss: 0.9031 - val_accuracy: 0.6437\n",
            "Epoch 97/100\n",
            "28/28 [==============================] - 0s 5ms/step - loss: 0.7140 - accuracy: 0.7044 - val_loss: 0.8999 - val_accuracy: 0.6530\n",
            "Epoch 98/100\n",
            "28/28 [==============================] - 0s 6ms/step - loss: 0.7230 - accuracy: 0.7088 - val_loss: 0.9040 - val_accuracy: 0.6493\n",
            "Epoch 99/100\n",
            "28/28 [==============================] - 0s 5ms/step - loss: 0.7217 - accuracy: 0.7072 - val_loss: 0.9043 - val_accuracy: 0.6474\n",
            "Epoch 100/100\n",
            "28/28 [==============================] - 0s 5ms/step - loss: 0.7109 - accuracy: 0.7156 - val_loss: 0.9057 - val_accuracy: 0.6437\n",
            "8/8 [==============================] - 0s 3ms/step - loss: 0.9943 - accuracy: 0.6087\n",
            "Loss: 0.9943409562110901, Accuracy: 0.6086956262588501\n"
          ]
        }
      ]
    },
    {
      "cell_type": "code",
      "source": [
        "from tensorflow.keras.models import Sequential\n",
        "from tensorflow.keras.layers import Dense, Dropout\n",
        "from tensorflow.keras.optimizers import Adam\n",
        "from tensorflow.keras.callbacks import EarlyStopping\n",
        "\n",
        "# Definir el modelo con hiperparámetros ajustables\n",
        "def create_simple_model(learning_rate=0.001, dropout_rate=0.3):\n",
        "    model = Sequential()\n",
        "    model.add(Dense(64, input_dim=X_train.shape[1], activation='relu'))\n",
        "    model.add(Dropout(dropout_rate))\n",
        "    model.add(Dense(32, activation='relu'))\n",
        "    model.add(Dropout(dropout_rate))\n",
        "    model.add(Dense(16, activation='relu'))\n",
        "    model.add(Dense(y_train.shape[1], activation='softmax'))\n",
        "\n",
        "    optimizer = Adam(learning_rate=learning_rate)\n",
        "    model.compile(loss='categorical_crossentropy', optimizer=optimizer, metrics=['accuracy'])\n",
        "\n",
        "    return model\n",
        "\n",
        "# Crear el modelo con hiperparámetros ajustados\n",
        "model = create_simple_model(learning_rate=0.001, dropout_rate=0.3)\n",
        "\n",
        "# Añadir EarlyStopping\n",
        "early_stopping = EarlyStopping(monitor='val_loss', patience=5, restore_best_weights=True)\n",
        "\n",
        "# Entrenar el modelo\n",
        "history = model.fit(X_train, y_train, epochs=50, batch_size=32, validation_data=(X_val, y_val), callbacks=[early_stopping])\n",
        "\n",
        "# Evaluar el modelo en el conjunto de prueba\n",
        "loss, accuracy = model.evaluate(X_test, y_test)\n",
        "print(f'Loss: {loss}, Accuracy: {accuracy}')"
      ],
      "metadata": {
        "id": "ZiP0_eMYnx0v",
        "outputId": "a70aded8-32cd-4679-e226-cef2b37d587d",
        "colab": {
          "base_uri": "https://localhost:8080/"
        }
      },
      "execution_count": 115,
      "outputs": [
        {
          "output_type": "stream",
          "name": "stdout",
          "text": [
            "Epoch 1/50\n",
            "56/56 [==============================] - 3s 16ms/step - loss: 1.4739 - accuracy: 0.3936 - val_loss: 1.2517 - val_accuracy: 0.5466\n",
            "Epoch 2/50\n",
            "56/56 [==============================] - 1s 10ms/step - loss: 1.1601 - accuracy: 0.5801 - val_loss: 1.0745 - val_accuracy: 0.5466\n",
            "Epoch 3/50\n",
            "56/56 [==============================] - 1s 9ms/step - loss: 1.0672 - accuracy: 0.5857 - val_loss: 1.0208 - val_accuracy: 0.5560\n",
            "Epoch 4/50\n",
            "56/56 [==============================] - 1s 9ms/step - loss: 1.0213 - accuracy: 0.6075 - val_loss: 0.9851 - val_accuracy: 0.6138\n",
            "Epoch 5/50\n",
            "56/56 [==============================] - 1s 9ms/step - loss: 0.9836 - accuracy: 0.6305 - val_loss: 0.9465 - val_accuracy: 0.6213\n",
            "Epoch 6/50\n",
            "56/56 [==============================] - 0s 5ms/step - loss: 0.9752 - accuracy: 0.6321 - val_loss: 0.9194 - val_accuracy: 0.6250\n",
            "Epoch 7/50\n",
            "56/56 [==============================] - 0s 5ms/step - loss: 0.9427 - accuracy: 0.6377 - val_loss: 0.8926 - val_accuracy: 0.6474\n",
            "Epoch 8/50\n",
            "56/56 [==============================] - 0s 5ms/step - loss: 0.9233 - accuracy: 0.6349 - val_loss: 0.8810 - val_accuracy: 0.6381\n",
            "Epoch 9/50\n",
            "56/56 [==============================] - 0s 4ms/step - loss: 0.8963 - accuracy: 0.6573 - val_loss: 0.8676 - val_accuracy: 0.6399\n",
            "Epoch 10/50\n",
            "56/56 [==============================] - 0s 4ms/step - loss: 0.8886 - accuracy: 0.6495 - val_loss: 0.8569 - val_accuracy: 0.6437\n",
            "Epoch 11/50\n",
            "56/56 [==============================] - 0s 4ms/step - loss: 0.8672 - accuracy: 0.6613 - val_loss: 0.8388 - val_accuracy: 0.6567\n",
            "Epoch 12/50\n",
            "56/56 [==============================] - 0s 4ms/step - loss: 0.8682 - accuracy: 0.6652 - val_loss: 0.8355 - val_accuracy: 0.6586\n",
            "Epoch 13/50\n",
            "56/56 [==============================] - 0s 4ms/step - loss: 0.8453 - accuracy: 0.6725 - val_loss: 0.8346 - val_accuracy: 0.6586\n",
            "Epoch 14/50\n",
            "56/56 [==============================] - 0s 4ms/step - loss: 0.8419 - accuracy: 0.6641 - val_loss: 0.8239 - val_accuracy: 0.6642\n",
            "Epoch 15/50\n",
            "56/56 [==============================] - 0s 4ms/step - loss: 0.8140 - accuracy: 0.6797 - val_loss: 0.8177 - val_accuracy: 0.6586\n",
            "Epoch 16/50\n",
            "56/56 [==============================] - 0s 4ms/step - loss: 0.8186 - accuracy: 0.6691 - val_loss: 0.8155 - val_accuracy: 0.6642\n",
            "Epoch 17/50\n",
            "56/56 [==============================] - 0s 4ms/step - loss: 0.8199 - accuracy: 0.6920 - val_loss: 0.8166 - val_accuracy: 0.6735\n",
            "Epoch 18/50\n",
            "56/56 [==============================] - 0s 4ms/step - loss: 0.8088 - accuracy: 0.6814 - val_loss: 0.8194 - val_accuracy: 0.6660\n",
            "Epoch 19/50\n",
            "56/56 [==============================] - 0s 4ms/step - loss: 0.7959 - accuracy: 0.6797 - val_loss: 0.8136 - val_accuracy: 0.6623\n",
            "Epoch 20/50\n",
            "56/56 [==============================] - 0s 5ms/step - loss: 0.7805 - accuracy: 0.6937 - val_loss: 0.8247 - val_accuracy: 0.6567\n",
            "Epoch 21/50\n",
            "56/56 [==============================] - 0s 4ms/step - loss: 0.7887 - accuracy: 0.6898 - val_loss: 0.8223 - val_accuracy: 0.6549\n",
            "Epoch 22/50\n",
            "56/56 [==============================] - 0s 3ms/step - loss: 0.7805 - accuracy: 0.6960 - val_loss: 0.8222 - val_accuracy: 0.6530\n",
            "Epoch 23/50\n",
            "56/56 [==============================] - 0s 3ms/step - loss: 0.7832 - accuracy: 0.6892 - val_loss: 0.8244 - val_accuracy: 0.6642\n",
            "Epoch 24/50\n",
            "56/56 [==============================] - 0s 4ms/step - loss: 0.7708 - accuracy: 0.6999 - val_loss: 0.8317 - val_accuracy: 0.6623\n",
            "8/8 [==============================] - 0s 3ms/step - loss: 0.8641 - accuracy: 0.6174\n",
            "Loss: 0.864143967628479, Accuracy: 0.6173912882804871\n"
          ]
        }
      ]
    },
    {
      "cell_type": "markdown",
      "source": [
        "##RNA predictiva con datos generados\n",
        "Red Neuronal con 8000 registros más que han sido creados teniendo en cuenta las estadísticas reales de los datos, es decir, contemplando cómo se distribuyen por edad, género y localidad y, obviamente, el municipio y la provincia correctamente computados.\n",
        "\n",
        "Esto se hace para intentar aumentar el porcentaje de precisión obtenido."
      ],
      "metadata": {
        "id": "eomz_QLmjN6_"
      }
    },
    {
      "cell_type": "code",
      "source": [
        "# Calculate the frequency of each element in the 'SERVICIO' column\n",
        "service_frequency = df['SERVICIO'].value_counts()\n",
        "\n",
        "# Group by 'PROVINCIA' and 'SERVICIO' and count the occurrences\n",
        "service_province_freq = shuffled_combined_df.groupby(['PROVINCIA', 'SERVICIO']).size().reset_index(name='COUNT')\n",
        "\n",
        "# Function to assign services based on frequency\n",
        "def assign_service(row, freq_df):\n",
        "    province = row['PROVINCIA']\n",
        "    possible_services = freq_df[freq_df['PROVINCIA'] == province]\n",
        "    if possible_services.empty:\n",
        "        return np.nan\n",
        "    else:\n",
        "        return np.random.choice(possible_services['SERVICIO'].values, p=possible_services['COUNT'].values / possible_services['COUNT'].sum())\n",
        "\n",
        "# Apply the function to assign services\n",
        "df_8000rows['SERVICIO'] = df_8000rows.apply(assign_service, axis=1, args=(service_province_freq,))\n",
        "\n",
        "# Ensure balanced classes by sampling\n",
        "min_class_size = service_frequency.min()\n",
        "balanced_df = df_8000rows.groupby('SERVICIO').apply(lambda x: x.sample(n=min_class_size, replace=True)).reset_index(drop=True)"
      ],
      "metadata": {
        "id": "1uB0r6aSmkZd"
      },
      "execution_count": 116,
      "outputs": []
    },
    {
      "cell_type": "code",
      "source": [
        "# Calculate the frequency of each service\n",
        "service_frequency = shuffled_combined_df['SERVICIO'].value_counts()\n",
        "\n",
        "# Set the target number of records per service\n",
        "target_size = 1457\n",
        "\n",
        "# Create a balanced dataframe starting with the initial shuffled data\n",
        "to_use_df = shuffled_combined_df.copy()\n",
        "\n",
        "# Loop through each service to balance the dataframe\n",
        "for service, count in service_frequency.items():\n",
        "    if count < target_size:\n",
        "        # Get the rows for the current service\n",
        "        service_df = balanced_df[balanced_df['SERVICIO'] == service]\n",
        "        # Sample additional rows with replacement to reach the target size\n",
        "        additional_samples = service_df.sample(n=target_size - count, replace=True)\n",
        "        to_use_df = pd.concat([to_use_df, additional_samples])\n",
        "\n",
        "# Shuffle the final balanced dataframe\n",
        "to_use_df = to_use_df.sample(frac=1).reset_index(drop=True)"
      ],
      "metadata": {
        "id": "NriTgA3RnJXD"
      },
      "execution_count": 117,
      "outputs": []
    },
    {
      "cell_type": "code",
      "source": [
        "# Shuffle the rows of the dataframe ready to use\n",
        "to_use_df = to_use_df.sample(frac=1).reset_index(drop=True)"
      ],
      "metadata": {
        "id": "pTr3ars6w5BF"
      },
      "execution_count": 118,
      "outputs": []
    },
    {
      "cell_type": "code",
      "source": [
        "# Get the min and max year in the 'YEAR NACIMIENTO' column\n",
        "min_year = int(to_use_df['YEAR NACIMIENTO'].min())\n",
        "max_year = int(to_use_df['YEAR NACIMIENTO'].max())\n",
        "\n",
        "# Function to generate random years with the specified distribution\n",
        "def generate_random_years(size):\n",
        "    return np.random.randint(min_year, max_year + 1, size=int(size))\n",
        "\n",
        "# Function to insert random years into the 'YEAR NACIMIENTO' column where it is empty\n",
        "def insert_random_years(df):\n",
        "    # Find the indices where 'YEAR NACIMIENTO' is empty\n",
        "    empty_indices = df[df['YEAR NACIMIENTO'].isna()].index\n",
        "\n",
        "    # Generate random years based on the specified distribution\n",
        "    random_years = generate_random_years(len(empty_indices))\n",
        "\n",
        "    # Assign these random years to the empty 'YEAR NACIMIENTO' rows\n",
        "    df.loc[empty_indices, 'YEAR NACIMIENTO'] = random_years\n",
        "    return df\n",
        "\n",
        "# Apply the function to the dataframe\n",
        "to_use_df = insert_random_years(to_use_df)"
      ],
      "metadata": {
        "id": "syZ8IdqFxPc5"
      },
      "execution_count": 119,
      "outputs": []
    },
    {
      "cell_type": "code",
      "source": [
        "# Crear una función para categorizar por grupos de edad\n",
        "def categorize_age(year):\n",
        "    if year < 1940:\n",
        "        return 'Antes de 1940'\n",
        "    elif year < 1960:\n",
        "        return '1940-1959'\n",
        "    elif year < 1980:\n",
        "        return '1960-1979'\n",
        "    elif year < 2000:\n",
        "        return '1980-1999'\n",
        "    else:\n",
        "        return '2000 en adelante'\n",
        "\n",
        "# Aplicar la función a la columna 'YEAR NACIMIENTO'\n",
        "to_use_df['YEAR NACIMIENTO'] = to_use_df['YEAR NACIMIENTO'].apply(categorize_age)\n",
        "\n",
        "# Ver el resultado\n",
        "print(to_use_df.head())"
      ],
      "metadata": {
        "id": "XU2JPoSa4vau",
        "outputId": "f91cf2eb-e321-48ff-fc29-218dec94378d",
        "colab": {
          "base_uri": "https://localhost:8080/"
        }
      },
      "execution_count": 120,
      "outputs": [
        {
          "output_type": "stream",
          "name": "stdout",
          "text": [
            "   LOCALIDAD  GENERO   YEAR NACIMIENTO PROVINCIA SERVICIO\n",
            "0  MOTILLEJA  HOMBRE         1980-1999  ALBACETE       EM\n",
            "1     YUNCOS   MUJER  2000 en adelante    TOLEDO       SO\n",
            "2   ALBACETE  HOMBRE  2000 en adelante  ALBACETE       SO\n",
            "3    ALCARAZ   MUJER  2000 en adelante  ALBACETE       SO\n",
            "4  CANAVERAS   MUJER         1940-1959    CUENCA       EM\n"
          ]
        }
      ]
    },
    {
      "cell_type": "code",
      "source": [
        "# Determina la cantidad de servicios únicos\n",
        "unique_services = to_use_df['SERVICIO'].unique()\n",
        "num_services = len(unique_services)\n",
        "\n",
        "# Determina cuántos registros por servicio necesitas para el conjunto de prueba\n",
        "test_size_per_service = 85 // num_services\n",
        "\n",
        "# Si hay más de 85 registros, ajusta la muestra para que esté balanceada\n",
        "if test_size_per_service * num_services < 85:\n",
        "    additional_samples = 85 - (test_size_per_service * num_services)\n",
        "else:\n",
        "    additional_samples = 0\n",
        "\n",
        "# Crear el conjunto de prueba balanceado\n",
        "test_df = pd.DataFrame()\n",
        "\n",
        "for service in unique_services:\n",
        "    service_df = to_use_df[to_use_df['SERVICIO'] == service]\n",
        "    test_samples = service_df.sample(n=test_size_per_service, replace=False)\n",
        "    test_df = pd.concat([test_df, test_samples])\n",
        "\n",
        "# Añadir muestras adicionales si es necesario\n",
        "if additional_samples > 0:\n",
        "    additional_df = to_use_df[~to_use_df.index.isin(test_df.index)]\n",
        "    additional_samples_df = additional_df.sample(n=additional_samples, replace=False)\n",
        "    test_df = pd.concat([test_df, additional_samples_df])\n",
        "\n",
        "# Eliminar las filas seleccionadas del dataframe original para crear el conjunto de entrenamiento/validación\n",
        "to_use_df = to_use_df.drop(test_df.index)\n",
        "\n",
        "# Verifica el conjunto de prueba\n",
        "print(test_df['SERVICIO'].value_counts())\n",
        "print(test_df.shape)\n",
        "\n",
        "# Verifica el conjunto de entrenamiento/validación\n",
        "print(to_use_df.shape)"
      ],
      "metadata": {
        "id": "3QdShOyt2c_6",
        "outputId": "b3ddcf07-fd07-4930-b562-dedb24fff4d2",
        "colab": {
          "base_uri": "https://localhost:8080/"
        }
      },
      "execution_count": 121,
      "outputs": [
        {
          "output_type": "stream",
          "name": "stdout",
          "text": [
            "SERVICIO\n",
            "EM      17\n",
            "SO      17\n",
            "AT      17\n",
            "LOG     17\n",
            "SAAF    17\n",
            "Name: count, dtype: int64\n",
            "(85, 5)\n",
            "(7200, 5)\n"
          ]
        }
      ]
    },
    {
      "cell_type": "markdown",
      "source": [
        "#Red Neuronal Predictiva\n",
        "\n",
        "Creación de una red neuronal predictiva que sea capaz de clasificar nuevos usuarios con buena precisión en servicio y provincia."
      ],
      "metadata": {
        "id": "2dYYkD8OoRlJ"
      }
    },
    {
      "cell_type": "code",
      "source": [
        "# Convertir las variables categóricas en variables dummy\n",
        "df = pd.get_dummies(to_use_df, columns=['LOCALIDAD', 'GENERO', 'PROVINCIA', 'YEAR NACIMIENTO'])\n",
        "\n",
        "# Separar las características (X) y la etiqueta (y)\n",
        "X = df.drop('SERVICIO', axis=1)\n",
        "y = df['SERVICIO']\n",
        "\n",
        "# Convertir la etiqueta en variables dummy\n",
        "y = pd.get_dummies(y)"
      ],
      "metadata": {
        "id": "HdSgywBv2mHU"
      },
      "execution_count": 126,
      "outputs": []
    },
    {
      "cell_type": "code",
      "source": [
        "# Dividir los datos en conjuntos de entrenamiento, validación y prueba\n",
        "X_train, X_temp, y_train, y_temp = train_test_split(X, y, test_size=0.3, random_state=42)\n",
        "X_val, X_test, y_val, y_test = train_test_split(X_temp, y_temp, test_size=0.3, random_state=42)\n",
        "\n",
        "# Verificar las formas de los conjuntos de datos\n",
        "print(\"Tamaño del conjunto de entrenamiento:\", X_train.shape)\n",
        "print(\"Tamaño del conjunto de validación:\", X_val.shape)\n",
        "print(\"Tamaño del conjunto de prueba:\", X_test.shape)"
      ],
      "metadata": {
        "id": "4M9z1jBprDBF",
        "outputId": "7ce4f9c3-c5e8-48af-b013-5364616de3fa",
        "colab": {
          "base_uri": "https://localhost:8080/"
        }
      },
      "execution_count": 127,
      "outputs": [
        {
          "output_type": "stream",
          "name": "stdout",
          "text": [
            "Tamaño del conjunto de entrenamiento: (5040, 502)\n",
            "Tamaño del conjunto de validación: (1512, 502)\n",
            "Tamaño del conjunto de prueba: (648, 502)\n"
          ]
        }
      ]
    },
    {
      "cell_type": "code",
      "source": [],
      "metadata": {
        "id": "verRgrpbrRJD"
      },
      "execution_count": null,
      "outputs": []
    },
    {
      "cell_type": "code",
      "source": [
        "# Definir el modelo\n",
        "model = Sequential()\n",
        "model.add(Dense(128, input_dim=X_train.shape[1], activation='relu'))\n",
        "model.add(Dropout(0.5))\n",
        "model.add(Dense(64, activation='relu'))\n",
        "model.add(Dropout(0.5))\n",
        "model.add(Dense(32, activation='relu'))\n",
        "model.add(Dense(y_train.shape[1], activation='softmax'))\n",
        "\n",
        "# Compilar el modelo\n",
        "model.compile(loss='categorical_crossentropy', optimizer='adam', metrics=['accuracy'])\n",
        "\n",
        "# Entrenar el modelo\n",
        "history = model.fit(X_train, y_train, epochs=50, batch_size=32, validation_data=(X_val, y_val))\n",
        "\n",
        "# Evaluar el modelo en el conjunto de prueba\n",
        "loss, accuracy = model.evaluate(X_test, y_test)\n",
        "print(f'Loss: {loss}, Accuracy: {accuracy}')"
      ],
      "metadata": {
        "id": "KAF_-B59qr0_",
        "outputId": "018cd9fe-1c77-491c-e995-b29556c13822",
        "colab": {
          "base_uri": "https://localhost:8080/"
        }
      },
      "execution_count": 128,
      "outputs": [
        {
          "output_type": "stream",
          "name": "stdout",
          "text": [
            "Epoch 1/50\n",
            "158/158 [==============================] - 2s 7ms/step - loss: 1.5579 - accuracy: 0.2909 - val_loss: 1.4021 - val_accuracy: 0.4266\n",
            "Epoch 2/50\n",
            "158/158 [==============================] - 1s 6ms/step - loss: 1.2929 - accuracy: 0.4744 - val_loss: 1.0287 - val_accuracy: 0.6124\n",
            "Epoch 3/50\n",
            "158/158 [==============================] - 1s 5ms/step - loss: 0.9969 - accuracy: 0.6274 - val_loss: 0.7503 - val_accuracy: 0.7176\n",
            "Epoch 4/50\n",
            "158/158 [==============================] - 1s 5ms/step - loss: 0.7776 - accuracy: 0.7234 - val_loss: 0.6244 - val_accuracy: 0.7738\n",
            "Epoch 5/50\n",
            "158/158 [==============================] - 1s 5ms/step - loss: 0.6543 - accuracy: 0.7653 - val_loss: 0.5607 - val_accuracy: 0.7996\n",
            "Epoch 6/50\n",
            "158/158 [==============================] - 1s 4ms/step - loss: 0.5861 - accuracy: 0.7897 - val_loss: 0.5194 - val_accuracy: 0.8148\n",
            "Epoch 7/50\n",
            "158/158 [==============================] - 1s 5ms/step - loss: 0.5455 - accuracy: 0.8085 - val_loss: 0.4906 - val_accuracy: 0.8241\n",
            "Epoch 8/50\n",
            "158/158 [==============================] - 1s 5ms/step - loss: 0.5124 - accuracy: 0.8181 - val_loss: 0.4898 - val_accuracy: 0.8228\n",
            "Epoch 9/50\n",
            "158/158 [==============================] - 1s 6ms/step - loss: 0.4778 - accuracy: 0.8246 - val_loss: 0.4752 - val_accuracy: 0.8307\n",
            "Epoch 10/50\n",
            "158/158 [==============================] - 1s 5ms/step - loss: 0.4615 - accuracy: 0.8298 - val_loss: 0.4712 - val_accuracy: 0.8287\n",
            "Epoch 11/50\n",
            "158/158 [==============================] - 1s 8ms/step - loss: 0.4394 - accuracy: 0.8383 - val_loss: 0.4743 - val_accuracy: 0.8327\n",
            "Epoch 12/50\n",
            "158/158 [==============================] - 1s 7ms/step - loss: 0.4250 - accuracy: 0.8429 - val_loss: 0.4725 - val_accuracy: 0.8300\n",
            "Epoch 13/50\n",
            "158/158 [==============================] - 1s 8ms/step - loss: 0.4113 - accuracy: 0.8437 - val_loss: 0.4622 - val_accuracy: 0.8280\n",
            "Epoch 14/50\n",
            "158/158 [==============================] - 1s 7ms/step - loss: 0.4051 - accuracy: 0.8504 - val_loss: 0.4679 - val_accuracy: 0.8300\n",
            "Epoch 15/50\n",
            "158/158 [==============================] - 1s 4ms/step - loss: 0.4004 - accuracy: 0.8466 - val_loss: 0.4603 - val_accuracy: 0.8287\n",
            "Epoch 16/50\n",
            "158/158 [==============================] - 1s 5ms/step - loss: 0.3805 - accuracy: 0.8550 - val_loss: 0.4607 - val_accuracy: 0.8333\n",
            "Epoch 17/50\n",
            "158/158 [==============================] - 1s 6ms/step - loss: 0.3772 - accuracy: 0.8565 - val_loss: 0.4773 - val_accuracy: 0.8333\n",
            "Epoch 18/50\n",
            "158/158 [==============================] - 1s 6ms/step - loss: 0.3768 - accuracy: 0.8585 - val_loss: 0.4676 - val_accuracy: 0.8300\n",
            "Epoch 19/50\n",
            "158/158 [==============================] - 1s 5ms/step - loss: 0.3583 - accuracy: 0.8647 - val_loss: 0.4758 - val_accuracy: 0.8307\n",
            "Epoch 20/50\n",
            "158/158 [==============================] - 1s 4ms/step - loss: 0.3634 - accuracy: 0.8641 - val_loss: 0.4637 - val_accuracy: 0.8340\n",
            "Epoch 21/50\n",
            "158/158 [==============================] - 1s 4ms/step - loss: 0.3591 - accuracy: 0.8609 - val_loss: 0.4856 - val_accuracy: 0.8320\n",
            "Epoch 22/50\n",
            "158/158 [==============================] - 1s 5ms/step - loss: 0.3599 - accuracy: 0.8625 - val_loss: 0.4843 - val_accuracy: 0.8294\n",
            "Epoch 23/50\n",
            "158/158 [==============================] - 1s 4ms/step - loss: 0.3471 - accuracy: 0.8665 - val_loss: 0.4782 - val_accuracy: 0.8294\n",
            "Epoch 24/50\n",
            "158/158 [==============================] - 1s 5ms/step - loss: 0.3389 - accuracy: 0.8688 - val_loss: 0.4965 - val_accuracy: 0.8287\n",
            "Epoch 25/50\n",
            "158/158 [==============================] - 1s 6ms/step - loss: 0.3371 - accuracy: 0.8645 - val_loss: 0.4853 - val_accuracy: 0.8267\n",
            "Epoch 26/50\n",
            "158/158 [==============================] - 1s 6ms/step - loss: 0.3321 - accuracy: 0.8694 - val_loss: 0.4858 - val_accuracy: 0.8294\n",
            "Epoch 27/50\n",
            "158/158 [==============================] - 1s 7ms/step - loss: 0.3378 - accuracy: 0.8683 - val_loss: 0.4861 - val_accuracy: 0.8340\n",
            "Epoch 28/50\n",
            "158/158 [==============================] - 2s 13ms/step - loss: 0.3340 - accuracy: 0.8706 - val_loss: 0.4866 - val_accuracy: 0.8347\n",
            "Epoch 29/50\n",
            "158/158 [==============================] - 3s 16ms/step - loss: 0.3293 - accuracy: 0.8736 - val_loss: 0.5003 - val_accuracy: 0.8333\n",
            "Epoch 30/50\n",
            "158/158 [==============================] - 1s 4ms/step - loss: 0.3237 - accuracy: 0.8746 - val_loss: 0.5045 - val_accuracy: 0.8327\n",
            "Epoch 31/50\n",
            "158/158 [==============================] - 1s 4ms/step - loss: 0.3277 - accuracy: 0.8704 - val_loss: 0.5005 - val_accuracy: 0.8300\n",
            "Epoch 32/50\n",
            "158/158 [==============================] - 1s 5ms/step - loss: 0.3158 - accuracy: 0.8736 - val_loss: 0.5079 - val_accuracy: 0.8333\n",
            "Epoch 33/50\n",
            "158/158 [==============================] - 1s 4ms/step - loss: 0.3179 - accuracy: 0.8692 - val_loss: 0.4873 - val_accuracy: 0.8313\n",
            "Epoch 34/50\n",
            "158/158 [==============================] - 1s 5ms/step - loss: 0.3245 - accuracy: 0.8708 - val_loss: 0.5026 - val_accuracy: 0.8241\n",
            "Epoch 35/50\n",
            "158/158 [==============================] - 1s 6ms/step - loss: 0.3292 - accuracy: 0.8681 - val_loss: 0.4965 - val_accuracy: 0.8280\n",
            "Epoch 36/50\n",
            "158/158 [==============================] - 1s 5ms/step - loss: 0.3097 - accuracy: 0.8788 - val_loss: 0.5069 - val_accuracy: 0.8300\n",
            "Epoch 37/50\n",
            "158/158 [==============================] - 1s 4ms/step - loss: 0.3210 - accuracy: 0.8700 - val_loss: 0.5024 - val_accuracy: 0.8300\n",
            "Epoch 38/50\n",
            "158/158 [==============================] - 1s 5ms/step - loss: 0.3081 - accuracy: 0.8802 - val_loss: 0.5148 - val_accuracy: 0.8274\n",
            "Epoch 39/50\n",
            "158/158 [==============================] - 1s 5ms/step - loss: 0.3115 - accuracy: 0.8722 - val_loss: 0.5266 - val_accuracy: 0.8294\n",
            "Epoch 40/50\n",
            "158/158 [==============================] - 1s 4ms/step - loss: 0.3048 - accuracy: 0.8784 - val_loss: 0.5236 - val_accuracy: 0.8280\n",
            "Epoch 41/50\n",
            "158/158 [==============================] - 1s 4ms/step - loss: 0.3093 - accuracy: 0.8766 - val_loss: 0.5178 - val_accuracy: 0.8280\n",
            "Epoch 42/50\n",
            "158/158 [==============================] - 1s 6ms/step - loss: 0.3009 - accuracy: 0.8736 - val_loss: 0.5226 - val_accuracy: 0.8287\n",
            "Epoch 43/50\n",
            "158/158 [==============================] - 1s 8ms/step - loss: 0.3071 - accuracy: 0.8754 - val_loss: 0.5252 - val_accuracy: 0.8267\n",
            "Epoch 44/50\n",
            "158/158 [==============================] - 1s 7ms/step - loss: 0.3021 - accuracy: 0.8806 - val_loss: 0.5279 - val_accuracy: 0.8307\n",
            "Epoch 45/50\n",
            "158/158 [==============================] - 1s 7ms/step - loss: 0.3056 - accuracy: 0.8750 - val_loss: 0.5226 - val_accuracy: 0.8307\n",
            "Epoch 46/50\n",
            "158/158 [==============================] - 1s 5ms/step - loss: 0.3040 - accuracy: 0.8778 - val_loss: 0.5426 - val_accuracy: 0.8274\n",
            "Epoch 47/50\n",
            "158/158 [==============================] - 1s 5ms/step - loss: 0.3036 - accuracy: 0.8692 - val_loss: 0.5560 - val_accuracy: 0.8267\n",
            "Epoch 48/50\n",
            "158/158 [==============================] - 1s 6ms/step - loss: 0.3025 - accuracy: 0.8778 - val_loss: 0.5567 - val_accuracy: 0.8247\n",
            "Epoch 49/50\n",
            "158/158 [==============================] - 1s 6ms/step - loss: 0.2981 - accuracy: 0.8802 - val_loss: 0.5707 - val_accuracy: 0.8280\n",
            "Epoch 50/50\n",
            "158/158 [==============================] - 1s 6ms/step - loss: 0.2969 - accuracy: 0.8794 - val_loss: 0.5792 - val_accuracy: 0.8267\n",
            "21/21 [==============================] - 0s 2ms/step - loss: 0.6090 - accuracy: 0.8410\n",
            "Loss: 0.6090337634086609, Accuracy: 0.8410493731498718\n"
          ]
        }
      ]
    },
    {
      "cell_type": "code",
      "source": [
        "# Definir el modelo con hiperparámetros ajustables\n",
        "def create_model(learning_rate=0.001, activation='relu', dropout_rate=0.5):\n",
        "    model = Sequential()\n",
        "    model.add(Dense(128, input_dim=X_train.shape[1], activation=activation))\n",
        "    model.add(Dropout(dropout_rate))\n",
        "    model.add(Dense(64, activation=activation))\n",
        "    model.add(Dropout(dropout_rate))\n",
        "    model.add(Dense(32, activation=activation))\n",
        "    model.add(Dense(y_train.shape[1], activation='softmax'))\n",
        "\n",
        "    optimizer = Adam(learning_rate=learning_rate)\n",
        "    model.compile(loss='categorical_crossentropy', optimizer=optimizer, metrics=['accuracy'])\n",
        "\n",
        "    return model\n",
        "\n",
        "# Crear el modelo con hiperparámetros ajustados\n",
        "model = create_model(learning_rate=0.0005, activation='tanh', dropout_rate=0.3)\n",
        "\n",
        "# Entrenar el modelo\n",
        "history = model.fit(X_train, y_train, epochs=100, batch_size=64, validation_data=(X_val, y_val))\n",
        "\n",
        "# Evaluar el modelo en el conjunto de prueba\n",
        "loss, accuracy = model.evaluate(X_test, y_test)\n",
        "print(f'Loss: {loss}, Accuracy: {accuracy}')"
      ],
      "metadata": {
        "id": "LIzu839YqxHC",
        "outputId": "c14a1007-6ed8-4db4-8773-bfb223f34193",
        "colab": {
          "base_uri": "https://localhost:8080/"
        }
      },
      "execution_count": 129,
      "outputs": [
        {
          "output_type": "stream",
          "name": "stdout",
          "text": [
            "Epoch 1/100\n",
            "79/79 [==============================] - 2s 10ms/step - loss: 1.4717 - accuracy: 0.3734 - val_loss: 1.3186 - val_accuracy: 0.4716\n",
            "Epoch 2/100\n",
            "79/79 [==============================] - 0s 6ms/step - loss: 1.2121 - accuracy: 0.5238 - val_loss: 1.0779 - val_accuracy: 0.6091\n",
            "Epoch 3/100\n",
            "79/79 [==============================] - 0s 5ms/step - loss: 0.9690 - accuracy: 0.6581 - val_loss: 0.8472 - val_accuracy: 0.7262\n",
            "Epoch 4/100\n",
            "79/79 [==============================] - 0s 6ms/step - loss: 0.7760 - accuracy: 0.7272 - val_loss: 0.7273 - val_accuracy: 0.7315\n",
            "Epoch 5/100\n",
            "79/79 [==============================] - 0s 5ms/step - loss: 0.6831 - accuracy: 0.7516 - val_loss: 0.6816 - val_accuracy: 0.7401\n",
            "Epoch 6/100\n",
            "79/79 [==============================] - 0s 6ms/step - loss: 0.6406 - accuracy: 0.7554 - val_loss: 0.6641 - val_accuracy: 0.7460\n",
            "Epoch 7/100\n",
            "79/79 [==============================] - 0s 6ms/step - loss: 0.6142 - accuracy: 0.7536 - val_loss: 0.6424 - val_accuracy: 0.7526\n",
            "Epoch 8/100\n",
            "79/79 [==============================] - 1s 9ms/step - loss: 0.5911 - accuracy: 0.7611 - val_loss: 0.6374 - val_accuracy: 0.7533\n",
            "Epoch 9/100\n",
            "79/79 [==============================] - 1s 10ms/step - loss: 0.5764 - accuracy: 0.7704 - val_loss: 0.6355 - val_accuracy: 0.7626\n",
            "Epoch 10/100\n",
            "79/79 [==============================] - 1s 10ms/step - loss: 0.5747 - accuracy: 0.7647 - val_loss: 0.6320 - val_accuracy: 0.7599\n",
            "Epoch 11/100\n",
            "79/79 [==============================] - 1s 9ms/step - loss: 0.5648 - accuracy: 0.7702 - val_loss: 0.6278 - val_accuracy: 0.7573\n",
            "Epoch 12/100\n",
            "79/79 [==============================] - 1s 9ms/step - loss: 0.5623 - accuracy: 0.7619 - val_loss: 0.6271 - val_accuracy: 0.7573\n",
            "Epoch 13/100\n",
            "79/79 [==============================] - 1s 6ms/step - loss: 0.5564 - accuracy: 0.7724 - val_loss: 0.6241 - val_accuracy: 0.7573\n",
            "Epoch 14/100\n",
            "79/79 [==============================] - 0s 6ms/step - loss: 0.5427 - accuracy: 0.7722 - val_loss: 0.6247 - val_accuracy: 0.7593\n",
            "Epoch 15/100\n",
            "79/79 [==============================] - 0s 5ms/step - loss: 0.5526 - accuracy: 0.7673 - val_loss: 0.6267 - val_accuracy: 0.7619\n",
            "Epoch 16/100\n",
            "79/79 [==============================] - 0s 6ms/step - loss: 0.5379 - accuracy: 0.7798 - val_loss: 0.6239 - val_accuracy: 0.7652\n",
            "Epoch 17/100\n",
            "79/79 [==============================] - 0s 5ms/step - loss: 0.5414 - accuracy: 0.7714 - val_loss: 0.6274 - val_accuracy: 0.7659\n",
            "Epoch 18/100\n",
            "79/79 [==============================] - 0s 6ms/step - loss: 0.5334 - accuracy: 0.7724 - val_loss: 0.6211 - val_accuracy: 0.7553\n",
            "Epoch 19/100\n",
            "79/79 [==============================] - 0s 5ms/step - loss: 0.5260 - accuracy: 0.7806 - val_loss: 0.6242 - val_accuracy: 0.7579\n",
            "Epoch 20/100\n",
            "79/79 [==============================] - 0s 5ms/step - loss: 0.5323 - accuracy: 0.7764 - val_loss: 0.6206 - val_accuracy: 0.7646\n",
            "Epoch 21/100\n",
            "79/79 [==============================] - 0s 5ms/step - loss: 0.5232 - accuracy: 0.7780 - val_loss: 0.6232 - val_accuracy: 0.7632\n",
            "Epoch 22/100\n",
            "79/79 [==============================] - 0s 5ms/step - loss: 0.5204 - accuracy: 0.7813 - val_loss: 0.6212 - val_accuracy: 0.7646\n",
            "Epoch 23/100\n",
            "79/79 [==============================] - 0s 5ms/step - loss: 0.5283 - accuracy: 0.7748 - val_loss: 0.6203 - val_accuracy: 0.7566\n",
            "Epoch 24/100\n",
            "79/79 [==============================] - 0s 6ms/step - loss: 0.5223 - accuracy: 0.7774 - val_loss: 0.6251 - val_accuracy: 0.7546\n",
            "Epoch 25/100\n",
            "79/79 [==============================] - 1s 7ms/step - loss: 0.5100 - accuracy: 0.7847 - val_loss: 0.6191 - val_accuracy: 0.7685\n",
            "Epoch 26/100\n",
            "79/79 [==============================] - 0s 5ms/step - loss: 0.5155 - accuracy: 0.7782 - val_loss: 0.6206 - val_accuracy: 0.7725\n",
            "Epoch 27/100\n",
            "79/79 [==============================] - 0s 6ms/step - loss: 0.5112 - accuracy: 0.7849 - val_loss: 0.6193 - val_accuracy: 0.7652\n",
            "Epoch 28/100\n",
            "79/79 [==============================] - 0s 6ms/step - loss: 0.5095 - accuracy: 0.7792 - val_loss: 0.6195 - val_accuracy: 0.7698\n",
            "Epoch 29/100\n",
            "79/79 [==============================] - 1s 7ms/step - loss: 0.5014 - accuracy: 0.7917 - val_loss: 0.6149 - val_accuracy: 0.7698\n",
            "Epoch 30/100\n",
            "79/79 [==============================] - 0s 5ms/step - loss: 0.5032 - accuracy: 0.7788 - val_loss: 0.6161 - val_accuracy: 0.7679\n",
            "Epoch 31/100\n",
            "79/79 [==============================] - 0s 5ms/step - loss: 0.4952 - accuracy: 0.7905 - val_loss: 0.6152 - val_accuracy: 0.7725\n",
            "Epoch 32/100\n",
            "79/79 [==============================] - 0s 5ms/step - loss: 0.4974 - accuracy: 0.7889 - val_loss: 0.6113 - val_accuracy: 0.7705\n",
            "Epoch 33/100\n",
            "79/79 [==============================] - 0s 6ms/step - loss: 0.4989 - accuracy: 0.7921 - val_loss: 0.6169 - val_accuracy: 0.7685\n",
            "Epoch 34/100\n",
            "79/79 [==============================] - 1s 7ms/step - loss: 0.4890 - accuracy: 0.7954 - val_loss: 0.6115 - val_accuracy: 0.7731\n",
            "Epoch 35/100\n",
            "79/79 [==============================] - 1s 9ms/step - loss: 0.4926 - accuracy: 0.7923 - val_loss: 0.6085 - val_accuracy: 0.7698\n",
            "Epoch 36/100\n",
            "79/79 [==============================] - 1s 7ms/step - loss: 0.4879 - accuracy: 0.7976 - val_loss: 0.6062 - val_accuracy: 0.7725\n",
            "Epoch 37/100\n",
            "79/79 [==============================] - 1s 9ms/step - loss: 0.4841 - accuracy: 0.7960 - val_loss: 0.6136 - val_accuracy: 0.7857\n",
            "Epoch 38/100\n",
            "79/79 [==============================] - 1s 9ms/step - loss: 0.4797 - accuracy: 0.8000 - val_loss: 0.6078 - val_accuracy: 0.7857\n",
            "Epoch 39/100\n",
            "79/79 [==============================] - 1s 8ms/step - loss: 0.4707 - accuracy: 0.8058 - val_loss: 0.6087 - val_accuracy: 0.7798\n",
            "Epoch 40/100\n",
            "79/79 [==============================] - 0s 6ms/step - loss: 0.4756 - accuracy: 0.8002 - val_loss: 0.6024 - val_accuracy: 0.7844\n",
            "Epoch 41/100\n",
            "79/79 [==============================] - 0s 5ms/step - loss: 0.4806 - accuracy: 0.8022 - val_loss: 0.6019 - val_accuracy: 0.7864\n",
            "Epoch 42/100\n",
            "79/79 [==============================] - 0s 6ms/step - loss: 0.4735 - accuracy: 0.8036 - val_loss: 0.6004 - val_accuracy: 0.7903\n",
            "Epoch 43/100\n",
            "79/79 [==============================] - 0s 5ms/step - loss: 0.4730 - accuracy: 0.8095 - val_loss: 0.6050 - val_accuracy: 0.7771\n",
            "Epoch 44/100\n",
            "79/79 [==============================] - 0s 5ms/step - loss: 0.4653 - accuracy: 0.8054 - val_loss: 0.5977 - val_accuracy: 0.7870\n",
            "Epoch 45/100\n",
            "79/79 [==============================] - 0s 5ms/step - loss: 0.4641 - accuracy: 0.8101 - val_loss: 0.6007 - val_accuracy: 0.7804\n",
            "Epoch 46/100\n",
            "79/79 [==============================] - 1s 7ms/step - loss: 0.4625 - accuracy: 0.8161 - val_loss: 0.5947 - val_accuracy: 0.7890\n",
            "Epoch 47/100\n",
            "79/79 [==============================] - 0s 6ms/step - loss: 0.4564 - accuracy: 0.8117 - val_loss: 0.5921 - val_accuracy: 0.7923\n",
            "Epoch 48/100\n",
            "79/79 [==============================] - 0s 6ms/step - loss: 0.4599 - accuracy: 0.8083 - val_loss: 0.5876 - val_accuracy: 0.7930\n",
            "Epoch 49/100\n",
            "79/79 [==============================] - 0s 5ms/step - loss: 0.4557 - accuracy: 0.8093 - val_loss: 0.5871 - val_accuracy: 0.7930\n",
            "Epoch 50/100\n",
            "79/79 [==============================] - 0s 6ms/step - loss: 0.4480 - accuracy: 0.8216 - val_loss: 0.5873 - val_accuracy: 0.7890\n",
            "Epoch 51/100\n",
            "79/79 [==============================] - 1s 7ms/step - loss: 0.4450 - accuracy: 0.8218 - val_loss: 0.5850 - val_accuracy: 0.7963\n",
            "Epoch 52/100\n",
            "79/79 [==============================] - 0s 6ms/step - loss: 0.4431 - accuracy: 0.8198 - val_loss: 0.5845 - val_accuracy: 0.8003\n",
            "Epoch 53/100\n",
            "79/79 [==============================] - 0s 6ms/step - loss: 0.4403 - accuracy: 0.8274 - val_loss: 0.5871 - val_accuracy: 0.7996\n",
            "Epoch 54/100\n",
            "79/79 [==============================] - 0s 5ms/step - loss: 0.4392 - accuracy: 0.8232 - val_loss: 0.5839 - val_accuracy: 0.8003\n",
            "Epoch 55/100\n",
            "79/79 [==============================] - 1s 6ms/step - loss: 0.4435 - accuracy: 0.8236 - val_loss: 0.5812 - val_accuracy: 0.8049\n",
            "Epoch 56/100\n",
            "79/79 [==============================] - 0s 6ms/step - loss: 0.4350 - accuracy: 0.8238 - val_loss: 0.5779 - val_accuracy: 0.8075\n",
            "Epoch 57/100\n",
            "79/79 [==============================] - 0s 5ms/step - loss: 0.4312 - accuracy: 0.8302 - val_loss: 0.5748 - val_accuracy: 0.8102\n",
            "Epoch 58/100\n",
            "79/79 [==============================] - 0s 5ms/step - loss: 0.4269 - accuracy: 0.8339 - val_loss: 0.5739 - val_accuracy: 0.8016\n",
            "Epoch 59/100\n",
            "79/79 [==============================] - 0s 6ms/step - loss: 0.4315 - accuracy: 0.8266 - val_loss: 0.5749 - val_accuracy: 0.7983\n",
            "Epoch 60/100\n",
            "79/79 [==============================] - 0s 5ms/step - loss: 0.4248 - accuracy: 0.8317 - val_loss: 0.5727 - val_accuracy: 0.8062\n",
            "Epoch 61/100\n",
            "79/79 [==============================] - 0s 5ms/step - loss: 0.4221 - accuracy: 0.8331 - val_loss: 0.5734 - val_accuracy: 0.7963\n",
            "Epoch 62/100\n",
            "79/79 [==============================] - 1s 8ms/step - loss: 0.4206 - accuracy: 0.8313 - val_loss: 0.5682 - val_accuracy: 0.8095\n",
            "Epoch 63/100\n",
            "79/79 [==============================] - 1s 9ms/step - loss: 0.4189 - accuracy: 0.8313 - val_loss: 0.5692 - val_accuracy: 0.8095\n",
            "Epoch 64/100\n",
            "79/79 [==============================] - 1s 7ms/step - loss: 0.4174 - accuracy: 0.8347 - val_loss: 0.5675 - val_accuracy: 0.8142\n",
            "Epoch 65/100\n",
            "79/79 [==============================] - 1s 8ms/step - loss: 0.4061 - accuracy: 0.8383 - val_loss: 0.5662 - val_accuracy: 0.8122\n",
            "Epoch 66/100\n",
            "79/79 [==============================] - 1s 8ms/step - loss: 0.4095 - accuracy: 0.8375 - val_loss: 0.5684 - val_accuracy: 0.8108\n",
            "Epoch 67/100\n",
            "79/79 [==============================] - 1s 7ms/step - loss: 0.4051 - accuracy: 0.8403 - val_loss: 0.5639 - val_accuracy: 0.8181\n",
            "Epoch 68/100\n",
            "79/79 [==============================] - 0s 5ms/step - loss: 0.4074 - accuracy: 0.8387 - val_loss: 0.5641 - val_accuracy: 0.8108\n",
            "Epoch 69/100\n",
            "79/79 [==============================] - 0s 6ms/step - loss: 0.4015 - accuracy: 0.8417 - val_loss: 0.5618 - val_accuracy: 0.8062\n",
            "Epoch 70/100\n",
            "79/79 [==============================] - 1s 6ms/step - loss: 0.3960 - accuracy: 0.8470 - val_loss: 0.5617 - val_accuracy: 0.8102\n",
            "Epoch 71/100\n",
            "79/79 [==============================] - 0s 6ms/step - loss: 0.4023 - accuracy: 0.8411 - val_loss: 0.5593 - val_accuracy: 0.8102\n",
            "Epoch 72/100\n",
            "79/79 [==============================] - 0s 6ms/step - loss: 0.3975 - accuracy: 0.8415 - val_loss: 0.5622 - val_accuracy: 0.8095\n",
            "Epoch 73/100\n",
            "79/79 [==============================] - 0s 6ms/step - loss: 0.3896 - accuracy: 0.8450 - val_loss: 0.5518 - val_accuracy: 0.8142\n",
            "Epoch 74/100\n",
            "79/79 [==============================] - 0s 5ms/step - loss: 0.3887 - accuracy: 0.8444 - val_loss: 0.5553 - val_accuracy: 0.8115\n",
            "Epoch 75/100\n",
            "79/79 [==============================] - 1s 7ms/step - loss: 0.3894 - accuracy: 0.8468 - val_loss: 0.5527 - val_accuracy: 0.8148\n",
            "Epoch 76/100\n",
            "79/79 [==============================] - 1s 7ms/step - loss: 0.3854 - accuracy: 0.8468 - val_loss: 0.5534 - val_accuracy: 0.8082\n",
            "Epoch 77/100\n",
            "79/79 [==============================] - 1s 6ms/step - loss: 0.3875 - accuracy: 0.8474 - val_loss: 0.5545 - val_accuracy: 0.8102\n",
            "Epoch 78/100\n",
            "79/79 [==============================] - 0s 6ms/step - loss: 0.3855 - accuracy: 0.8490 - val_loss: 0.5519 - val_accuracy: 0.8089\n",
            "Epoch 79/100\n",
            "79/79 [==============================] - 0s 5ms/step - loss: 0.3868 - accuracy: 0.8466 - val_loss: 0.5557 - val_accuracy: 0.8056\n",
            "Epoch 80/100\n",
            "79/79 [==============================] - 0s 5ms/step - loss: 0.3863 - accuracy: 0.8460 - val_loss: 0.5464 - val_accuracy: 0.8122\n",
            "Epoch 81/100\n",
            "79/79 [==============================] - 0s 5ms/step - loss: 0.3833 - accuracy: 0.8474 - val_loss: 0.5526 - val_accuracy: 0.8115\n",
            "Epoch 82/100\n",
            "79/79 [==============================] - 0s 6ms/step - loss: 0.3765 - accuracy: 0.8482 - val_loss: 0.5475 - val_accuracy: 0.8142\n",
            "Epoch 83/100\n",
            "79/79 [==============================] - 0s 5ms/step - loss: 0.3700 - accuracy: 0.8508 - val_loss: 0.5443 - val_accuracy: 0.8161\n",
            "Epoch 84/100\n",
            "79/79 [==============================] - 0s 6ms/step - loss: 0.3763 - accuracy: 0.8486 - val_loss: 0.5466 - val_accuracy: 0.8142\n",
            "Epoch 85/100\n",
            "79/79 [==============================] - 1s 7ms/step - loss: 0.3708 - accuracy: 0.8536 - val_loss: 0.5441 - val_accuracy: 0.8168\n",
            "Epoch 86/100\n",
            "79/79 [==============================] - 1s 7ms/step - loss: 0.3697 - accuracy: 0.8518 - val_loss: 0.5457 - val_accuracy: 0.8155\n",
            "Epoch 87/100\n",
            "79/79 [==============================] - 1s 7ms/step - loss: 0.3666 - accuracy: 0.8518 - val_loss: 0.5394 - val_accuracy: 0.8161\n",
            "Epoch 88/100\n",
            "79/79 [==============================] - 1s 8ms/step - loss: 0.3678 - accuracy: 0.8585 - val_loss: 0.5396 - val_accuracy: 0.8175\n",
            "Epoch 89/100\n",
            "79/79 [==============================] - 1s 9ms/step - loss: 0.3700 - accuracy: 0.8562 - val_loss: 0.5395 - val_accuracy: 0.8148\n",
            "Epoch 90/100\n",
            "79/79 [==============================] - 1s 9ms/step - loss: 0.3711 - accuracy: 0.8506 - val_loss: 0.5434 - val_accuracy: 0.8181\n",
            "Epoch 91/100\n",
            "79/79 [==============================] - 1s 8ms/step - loss: 0.3619 - accuracy: 0.8536 - val_loss: 0.5405 - val_accuracy: 0.8161\n",
            "Epoch 92/100\n",
            "79/79 [==============================] - 1s 9ms/step - loss: 0.3670 - accuracy: 0.8540 - val_loss: 0.5407 - val_accuracy: 0.8155\n",
            "Epoch 93/100\n",
            "79/79 [==============================] - 1s 9ms/step - loss: 0.3636 - accuracy: 0.8558 - val_loss: 0.5364 - val_accuracy: 0.8201\n",
            "Epoch 94/100\n",
            "79/79 [==============================] - 1s 7ms/step - loss: 0.3578 - accuracy: 0.8573 - val_loss: 0.5380 - val_accuracy: 0.8194\n",
            "Epoch 95/100\n",
            "79/79 [==============================] - 0s 5ms/step - loss: 0.3575 - accuracy: 0.8560 - val_loss: 0.5373 - val_accuracy: 0.8194\n",
            "Epoch 96/100\n",
            "79/79 [==============================] - 0s 6ms/step - loss: 0.3601 - accuracy: 0.8552 - val_loss: 0.5343 - val_accuracy: 0.8188\n",
            "Epoch 97/100\n",
            "79/79 [==============================] - 0s 5ms/step - loss: 0.3592 - accuracy: 0.8546 - val_loss: 0.5388 - val_accuracy: 0.8201\n",
            "Epoch 98/100\n",
            "79/79 [==============================] - 0s 5ms/step - loss: 0.3517 - accuracy: 0.8631 - val_loss: 0.5390 - val_accuracy: 0.8188\n",
            "Epoch 99/100\n",
            "79/79 [==============================] - 0s 6ms/step - loss: 0.3516 - accuracy: 0.8583 - val_loss: 0.5321 - val_accuracy: 0.8188\n",
            "Epoch 100/100\n",
            "79/79 [==============================] - 0s 5ms/step - loss: 0.3507 - accuracy: 0.8585 - val_loss: 0.5346 - val_accuracy: 0.8201\n",
            "21/21 [==============================] - 0s 5ms/step - loss: 0.4950 - accuracy: 0.8302\n",
            "Loss: 0.4950442314147949, Accuracy: 0.8302469253540039\n"
          ]
        }
      ]
    },
    {
      "cell_type": "code",
      "source": [
        "# Definir el modelo con hiperparámetros ajustables\n",
        "def create_simple_model(learning_rate=0.001, dropout_rate=0.3):\n",
        "    model = Sequential()\n",
        "    model.add(Dense(64, input_dim=X_train.shape[1], activation='relu'))\n",
        "    model.add(Dropout(dropout_rate))\n",
        "    model.add(Dense(32, activation='relu'))\n",
        "    model.add(Dropout(dropout_rate))\n",
        "    model.add(Dense(16, activation='relu'))\n",
        "    model.add(Dense(y_train.shape[1], activation='softmax'))\n",
        "\n",
        "    optimizer = Adam(learning_rate=learning_rate)\n",
        "    model.compile(loss='categorical_crossentropy', optimizer=optimizer, metrics=['accuracy'])\n",
        "\n",
        "    return model\n",
        "\n",
        "# Crear el modelo con hiperparámetros ajustados\n",
        "model = create_simple_model(learning_rate=0.001, dropout_rate=0.3)\n",
        "\n",
        "# Añadir EarlyStopping\n",
        "early_stopping = EarlyStopping(monitor='val_loss', patience=5, restore_best_weights=True)\n",
        "\n",
        "# Entrenar el modelo\n",
        "history = model.fit(X_train, y_train, epochs=50, batch_size=32, validation_data=(X_val, y_val), callbacks=[early_stopping])\n",
        "\n",
        "# Evaluar el modelo en el conjunto de prueba\n",
        "loss, accuracy = model.evaluate(X_test, y_test)\n",
        "print(f'Loss: {loss}, Accuracy: {accuracy}')"
      ],
      "metadata": {
        "id": "WltsCZRMq1OI",
        "outputId": "ab576be0-a5f0-4867-b33f-18b3846c179f",
        "colab": {
          "base_uri": "https://localhost:8080/"
        }
      },
      "execution_count": 130,
      "outputs": [
        {
          "output_type": "stream",
          "name": "stdout",
          "text": [
            "Epoch 1/50\n",
            "158/158 [==============================] - 3s 7ms/step - loss: 1.5477 - accuracy: 0.2792 - val_loss: 1.3960 - val_accuracy: 0.4888\n",
            "Epoch 2/50\n",
            "158/158 [==============================] - 1s 5ms/step - loss: 1.2572 - accuracy: 0.4974 - val_loss: 1.0011 - val_accuracy: 0.6667\n",
            "Epoch 3/50\n",
            "158/158 [==============================] - 1s 3ms/step - loss: 0.9356 - accuracy: 0.6641 - val_loss: 0.7482 - val_accuracy: 0.7586\n",
            "Epoch 4/50\n",
            "158/158 [==============================] - 1s 3ms/step - loss: 0.7423 - accuracy: 0.7458 - val_loss: 0.6248 - val_accuracy: 0.7765\n",
            "Epoch 5/50\n",
            "158/158 [==============================] - 0s 3ms/step - loss: 0.6274 - accuracy: 0.7843 - val_loss: 0.5618 - val_accuracy: 0.8036\n",
            "Epoch 6/50\n",
            "158/158 [==============================] - 1s 4ms/step - loss: 0.5721 - accuracy: 0.7974 - val_loss: 0.5464 - val_accuracy: 0.8089\n",
            "Epoch 7/50\n",
            "158/158 [==============================] - 1s 4ms/step - loss: 0.5323 - accuracy: 0.8054 - val_loss: 0.5121 - val_accuracy: 0.8228\n",
            "Epoch 8/50\n",
            "158/158 [==============================] - 1s 3ms/step - loss: 0.4787 - accuracy: 0.8292 - val_loss: 0.5066 - val_accuracy: 0.8234\n",
            "Epoch 9/50\n",
            "158/158 [==============================] - 1s 7ms/step - loss: 0.4716 - accuracy: 0.8276 - val_loss: 0.4904 - val_accuracy: 0.8287\n",
            "Epoch 10/50\n",
            "158/158 [==============================] - 1s 4ms/step - loss: 0.4453 - accuracy: 0.8413 - val_loss: 0.4833 - val_accuracy: 0.8313\n",
            "Epoch 11/50\n",
            "158/158 [==============================] - 0s 3ms/step - loss: 0.4282 - accuracy: 0.8470 - val_loss: 0.4846 - val_accuracy: 0.8313\n",
            "Epoch 12/50\n",
            "158/158 [==============================] - 1s 4ms/step - loss: 0.4178 - accuracy: 0.8456 - val_loss: 0.4824 - val_accuracy: 0.8287\n",
            "Epoch 13/50\n",
            "158/158 [==============================] - 0s 3ms/step - loss: 0.4072 - accuracy: 0.8464 - val_loss: 0.4885 - val_accuracy: 0.8327\n",
            "Epoch 14/50\n",
            "158/158 [==============================] - 1s 3ms/step - loss: 0.3890 - accuracy: 0.8544 - val_loss: 0.4865 - val_accuracy: 0.8340\n",
            "Epoch 15/50\n",
            "158/158 [==============================] - 1s 3ms/step - loss: 0.3851 - accuracy: 0.8575 - val_loss: 0.4783 - val_accuracy: 0.8386\n",
            "Epoch 16/50\n",
            "158/158 [==============================] - 1s 4ms/step - loss: 0.3779 - accuracy: 0.8571 - val_loss: 0.4867 - val_accuracy: 0.8320\n",
            "Epoch 17/50\n",
            "158/158 [==============================] - 1s 4ms/step - loss: 0.3663 - accuracy: 0.8611 - val_loss: 0.4824 - val_accuracy: 0.8320\n",
            "Epoch 18/50\n",
            "158/158 [==============================] - 1s 4ms/step - loss: 0.3580 - accuracy: 0.8663 - val_loss: 0.4864 - val_accuracy: 0.8347\n",
            "Epoch 19/50\n",
            "158/158 [==============================] - 1s 5ms/step - loss: 0.3672 - accuracy: 0.8563 - val_loss: 0.4842 - val_accuracy: 0.8307\n",
            "Epoch 20/50\n",
            "158/158 [==============================] - 1s 6ms/step - loss: 0.3560 - accuracy: 0.8659 - val_loss: 0.4766 - val_accuracy: 0.8360\n",
            "Epoch 21/50\n",
            "158/158 [==============================] - 1s 6ms/step - loss: 0.3482 - accuracy: 0.8649 - val_loss: 0.4868 - val_accuracy: 0.8327\n",
            "Epoch 22/50\n",
            "158/158 [==============================] - 1s 6ms/step - loss: 0.3454 - accuracy: 0.8679 - val_loss: 0.4851 - val_accuracy: 0.8380\n",
            "Epoch 23/50\n",
            "158/158 [==============================] - 1s 4ms/step - loss: 0.3516 - accuracy: 0.8671 - val_loss: 0.4966 - val_accuracy: 0.8386\n",
            "Epoch 24/50\n",
            "158/158 [==============================] - 1s 3ms/step - loss: 0.3430 - accuracy: 0.8667 - val_loss: 0.4983 - val_accuracy: 0.8347\n",
            "Epoch 25/50\n",
            "158/158 [==============================] - 1s 4ms/step - loss: 0.3390 - accuracy: 0.8671 - val_loss: 0.4849 - val_accuracy: 0.8393\n",
            "21/21 [==============================] - 0s 2ms/step - loss: 0.4794 - accuracy: 0.8426\n",
            "Loss: 0.47943031787872314, Accuracy: 0.8425925970077515\n"
          ]
        }
      ]
    }
  ],
  "metadata": {
    "colab": {
      "name": "Welcome To Colab",
      "provenance": [],
      "include_colab_link": true
    },
    "kernelspec": {
      "display_name": "Python 3",
      "name": "python3"
    }
  },
  "nbformat": 4,
  "nbformat_minor": 0
}