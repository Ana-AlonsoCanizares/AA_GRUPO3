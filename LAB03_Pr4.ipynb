{
  "nbformat": 4,
  "nbformat_minor": 0,
  "metadata": {
    "colab": {
      "provenance": [],
      "toc_visible": true,
      "authorship_tag": "ABX9TyPnzUF+bzZ508dgGR30QFVA",
      "include_colab_link": true
    },
    "kernelspec": {
      "name": "python3",
      "display_name": "Python 3"
    },
    "language_info": {
      "name": "python"
    }
  },
  "cells": [
    {
      "cell_type": "markdown",
      "metadata": {
        "id": "view-in-github",
        "colab_type": "text"
      },
      "source": [
        "<a href=\"https://colab.research.google.com/github/Ana-AlonsoCanizares/AA_GRUPO3/blob/main/LAB03_Pr4.ipynb\" target=\"_parent\"><img src=\"https://colab.research.google.com/assets/colab-badge.svg\" alt=\"Open In Colab\"/></a>"
      ]
    },
    {
      "cell_type": "code",
      "execution_count": 1,
      "metadata": {
        "id": "sU8Gwbvzslyh"
      },
      "outputs": [],
      "source": [
        "# Importación de librerías a utilizar\n",
        "import pandas as pd\n",
        "import numpy as np\n",
        "import matplotlib.pyplot as plt\n",
        "import numpy as np\n",
        "from numpy.core.function_base import linspace\n",
        "from math import floor\n",
        "from math import ceil\n",
        "from numpy.ma.core import size\n",
        "\n",
        "from sklearn import tree\n",
        "from sklearn.datasets import load_iris\n",
        "import graphviz\n",
        "from sklearn.tree import DecisionTreeClassifier\n",
        "from sklearn.tree import export_text\n",
        "from sklearn.model_selection import train_test_split # Import train_test_split function\n",
        "from sklearn import metrics #Import scikit-learn metrics module for accuracy calculation"
      ]
    },
    {
      "cell_type": "markdown",
      "source": [
        "#Descarga y lectura de datos"
      ],
      "metadata": {
        "id": "CXE0fJy61wyG"
      }
    },
    {
      "cell_type": "code",
      "source": [
        "# Lectura de la base de datos\n",
        "filename = 'lluvias.csv'\n",
        "data = pd.read_csv(filename, sep = ',')"
      ],
      "metadata": {
        "id": "dDRksdlatTI8"
      },
      "execution_count": 2,
      "outputs": []
    },
    {
      "cell_type": "markdown",
      "source": [
        "###Revisión y limpieza de datos\n",
        "Observamos que tenemos un dataset con un total de 25551 registros y solo existen datos NaN en 3 de ellos, es decir, está bastante completo."
      ],
      "metadata": {
        "id": "cdoeEykg2FNG"
      }
    },
    {
      "cell_type": "code",
      "source": [
        "# Revisión de los datos\n",
        "print(data.shape)\n",
        "\n",
        "data.info()\n",
        "data.head(10)"
      ],
      "metadata": {
        "id": "UPpMtl0r15ZD",
        "outputId": "171234a9-82c4-4295-e44d-0aa060c6dc00",
        "colab": {
          "base_uri": "https://localhost:8080/",
          "height": 603
        }
      },
      "execution_count": 3,
      "outputs": [
        {
          "output_type": "stream",
          "name": "stdout",
          "text": [
            "(25551, 5)\n",
            "<class 'pandas.core.frame.DataFrame'>\n",
            "RangeIndex: 25551 entries, 0 to 25550\n",
            "Data columns (total 5 columns):\n",
            " #   Column  Non-Null Count  Dtype  \n",
            "---  ------  --------------  -----  \n",
            " 0   DATE    25551 non-null  object \n",
            " 1   PRCP    25548 non-null  float64\n",
            " 2   TMAX    25551 non-null  int64  \n",
            " 3   TMIN    25551 non-null  int64  \n",
            " 4   RAIN    25548 non-null  object \n",
            "dtypes: float64(1), int64(2), object(2)\n",
            "memory usage: 998.2+ KB\n"
          ]
        },
        {
          "output_type": "execute_result",
          "data": {
            "text/plain": [
              "         DATE  PRCP  TMAX  TMIN  RAIN\n",
              "0  1948-01-01  0.47    51    42  True\n",
              "1  1948-01-02  0.59    45    36  True\n",
              "2  1948-01-03  0.42    45    35  True\n",
              "3  1948-01-04  0.31    45    34  True\n",
              "4  1948-01-05  0.17    45    32  True\n",
              "5  1948-01-06  0.44    48    39  True\n",
              "6  1948-01-07  0.41    50    40  True\n",
              "7  1948-01-08  0.04    48    35  True\n",
              "8  1948-01-09  0.12    50    31  True\n",
              "9  1948-01-10  0.74    43    34  True"
            ],
            "text/html": [
              "\n",
              "  <div id=\"df-639bb75e-d304-4ca2-9b10-e5aa988f5ea5\">\n",
              "    <div class=\"colab-df-container\">\n",
              "      <div>\n",
              "<style scoped>\n",
              "    .dataframe tbody tr th:only-of-type {\n",
              "        vertical-align: middle;\n",
              "    }\n",
              "\n",
              "    .dataframe tbody tr th {\n",
              "        vertical-align: top;\n",
              "    }\n",
              "\n",
              "    .dataframe thead th {\n",
              "        text-align: right;\n",
              "    }\n",
              "</style>\n",
              "<table border=\"1\" class=\"dataframe\">\n",
              "  <thead>\n",
              "    <tr style=\"text-align: right;\">\n",
              "      <th></th>\n",
              "      <th>DATE</th>\n",
              "      <th>PRCP</th>\n",
              "      <th>TMAX</th>\n",
              "      <th>TMIN</th>\n",
              "      <th>RAIN</th>\n",
              "    </tr>\n",
              "  </thead>\n",
              "  <tbody>\n",
              "    <tr>\n",
              "      <th>0</th>\n",
              "      <td>1948-01-01</td>\n",
              "      <td>0.47</td>\n",
              "      <td>51</td>\n",
              "      <td>42</td>\n",
              "      <td>True</td>\n",
              "    </tr>\n",
              "    <tr>\n",
              "      <th>1</th>\n",
              "      <td>1948-01-02</td>\n",
              "      <td>0.59</td>\n",
              "      <td>45</td>\n",
              "      <td>36</td>\n",
              "      <td>True</td>\n",
              "    </tr>\n",
              "    <tr>\n",
              "      <th>2</th>\n",
              "      <td>1948-01-03</td>\n",
              "      <td>0.42</td>\n",
              "      <td>45</td>\n",
              "      <td>35</td>\n",
              "      <td>True</td>\n",
              "    </tr>\n",
              "    <tr>\n",
              "      <th>3</th>\n",
              "      <td>1948-01-04</td>\n",
              "      <td>0.31</td>\n",
              "      <td>45</td>\n",
              "      <td>34</td>\n",
              "      <td>True</td>\n",
              "    </tr>\n",
              "    <tr>\n",
              "      <th>4</th>\n",
              "      <td>1948-01-05</td>\n",
              "      <td>0.17</td>\n",
              "      <td>45</td>\n",
              "      <td>32</td>\n",
              "      <td>True</td>\n",
              "    </tr>\n",
              "    <tr>\n",
              "      <th>5</th>\n",
              "      <td>1948-01-06</td>\n",
              "      <td>0.44</td>\n",
              "      <td>48</td>\n",
              "      <td>39</td>\n",
              "      <td>True</td>\n",
              "    </tr>\n",
              "    <tr>\n",
              "      <th>6</th>\n",
              "      <td>1948-01-07</td>\n",
              "      <td>0.41</td>\n",
              "      <td>50</td>\n",
              "      <td>40</td>\n",
              "      <td>True</td>\n",
              "    </tr>\n",
              "    <tr>\n",
              "      <th>7</th>\n",
              "      <td>1948-01-08</td>\n",
              "      <td>0.04</td>\n",
              "      <td>48</td>\n",
              "      <td>35</td>\n",
              "      <td>True</td>\n",
              "    </tr>\n",
              "    <tr>\n",
              "      <th>8</th>\n",
              "      <td>1948-01-09</td>\n",
              "      <td>0.12</td>\n",
              "      <td>50</td>\n",
              "      <td>31</td>\n",
              "      <td>True</td>\n",
              "    </tr>\n",
              "    <tr>\n",
              "      <th>9</th>\n",
              "      <td>1948-01-10</td>\n",
              "      <td>0.74</td>\n",
              "      <td>43</td>\n",
              "      <td>34</td>\n",
              "      <td>True</td>\n",
              "    </tr>\n",
              "  </tbody>\n",
              "</table>\n",
              "</div>\n",
              "      <button class=\"colab-df-convert\" onclick=\"convertToInteractive('df-639bb75e-d304-4ca2-9b10-e5aa988f5ea5')\"\n",
              "              title=\"Convert this dataframe to an interactive table.\"\n",
              "              style=\"display:none;\">\n",
              "        \n",
              "  <svg xmlns=\"http://www.w3.org/2000/svg\" height=\"24px\"viewBox=\"0 0 24 24\"\n",
              "       width=\"24px\">\n",
              "    <path d=\"M0 0h24v24H0V0z\" fill=\"none\"/>\n",
              "    <path d=\"M18.56 5.44l.94 2.06.94-2.06 2.06-.94-2.06-.94-.94-2.06-.94 2.06-2.06.94zm-11 1L8.5 8.5l.94-2.06 2.06-.94-2.06-.94L8.5 2.5l-.94 2.06-2.06.94zm10 10l.94 2.06.94-2.06 2.06-.94-2.06-.94-.94-2.06-.94 2.06-2.06.94z\"/><path d=\"M17.41 7.96l-1.37-1.37c-.4-.4-.92-.59-1.43-.59-.52 0-1.04.2-1.43.59L10.3 9.45l-7.72 7.72c-.78.78-.78 2.05 0 2.83L4 21.41c.39.39.9.59 1.41.59.51 0 1.02-.2 1.41-.59l7.78-7.78 2.81-2.81c.8-.78.8-2.07 0-2.86zM5.41 20L4 18.59l7.72-7.72 1.47 1.35L5.41 20z\"/>\n",
              "  </svg>\n",
              "      </button>\n",
              "      \n",
              "  <style>\n",
              "    .colab-df-container {\n",
              "      display:flex;\n",
              "      flex-wrap:wrap;\n",
              "      gap: 12px;\n",
              "    }\n",
              "\n",
              "    .colab-df-convert {\n",
              "      background-color: #E8F0FE;\n",
              "      border: none;\n",
              "      border-radius: 50%;\n",
              "      cursor: pointer;\n",
              "      display: none;\n",
              "      fill: #1967D2;\n",
              "      height: 32px;\n",
              "      padding: 0 0 0 0;\n",
              "      width: 32px;\n",
              "    }\n",
              "\n",
              "    .colab-df-convert:hover {\n",
              "      background-color: #E2EBFA;\n",
              "      box-shadow: 0px 1px 2px rgba(60, 64, 67, 0.3), 0px 1px 3px 1px rgba(60, 64, 67, 0.15);\n",
              "      fill: #174EA6;\n",
              "    }\n",
              "\n",
              "    [theme=dark] .colab-df-convert {\n",
              "      background-color: #3B4455;\n",
              "      fill: #D2E3FC;\n",
              "    }\n",
              "\n",
              "    [theme=dark] .colab-df-convert:hover {\n",
              "      background-color: #434B5C;\n",
              "      box-shadow: 0px 1px 3px 1px rgba(0, 0, 0, 0.15);\n",
              "      filter: drop-shadow(0px 1px 2px rgba(0, 0, 0, 0.3));\n",
              "      fill: #FFFFFF;\n",
              "    }\n",
              "  </style>\n",
              "\n",
              "      <script>\n",
              "        const buttonEl =\n",
              "          document.querySelector('#df-639bb75e-d304-4ca2-9b10-e5aa988f5ea5 button.colab-df-convert');\n",
              "        buttonEl.style.display =\n",
              "          google.colab.kernel.accessAllowed ? 'block' : 'none';\n",
              "\n",
              "        async function convertToInteractive(key) {\n",
              "          const element = document.querySelector('#df-639bb75e-d304-4ca2-9b10-e5aa988f5ea5');\n",
              "          const dataTable =\n",
              "            await google.colab.kernel.invokeFunction('convertToInteractive',\n",
              "                                                     [key], {});\n",
              "          if (!dataTable) return;\n",
              "\n",
              "          const docLinkHtml = 'Like what you see? Visit the ' +\n",
              "            '<a target=\"_blank\" href=https://colab.research.google.com/notebooks/data_table.ipynb>data table notebook</a>'\n",
              "            + ' to learn more about interactive tables.';\n",
              "          element.innerHTML = '';\n",
              "          dataTable['output_type'] = 'display_data';\n",
              "          await google.colab.output.renderOutput(dataTable, element);\n",
              "          const docLink = document.createElement('div');\n",
              "          docLink.innerHTML = docLinkHtml;\n",
              "          element.appendChild(docLink);\n",
              "        }\n",
              "      </script>\n",
              "    </div>\n",
              "  </div>\n",
              "  "
            ]
          },
          "metadata": {},
          "execution_count": 3
        }
      ]
    },
    {
      "cell_type": "markdown",
      "source": [
        "Decidimos eliminar los Nan ya que son solo 3 y no será significativo para el estudio que vamos a realizar. Y quitamos los duplicados, que como podemos observar, en este caso no los hay."
      ],
      "metadata": {
        "id": "Mf-1609f2cGx"
      }
    },
    {
      "cell_type": "code",
      "source": [
        "# Elimino los Nan.\n",
        "data = data.dropna()\n",
        "\n",
        "# Quitamos los duplicados\n",
        "data = data.drop_duplicates()\n",
        "\n",
        "data.info()"
      ],
      "metadata": {
        "id": "Vl6_bW0kudFB",
        "outputId": "713df85c-bc49-4f4f-ff92-c320c529cffd",
        "colab": {
          "base_uri": "https://localhost:8080/"
        }
      },
      "execution_count": 4,
      "outputs": [
        {
          "output_type": "stream",
          "name": "stdout",
          "text": [
            "<class 'pandas.core.frame.DataFrame'>\n",
            "Int64Index: 25548 entries, 0 to 25550\n",
            "Data columns (total 5 columns):\n",
            " #   Column  Non-Null Count  Dtype  \n",
            "---  ------  --------------  -----  \n",
            " 0   DATE    25548 non-null  object \n",
            " 1   PRCP    25548 non-null  float64\n",
            " 2   TMAX    25548 non-null  int64  \n",
            " 3   TMIN    25548 non-null  int64  \n",
            " 4   RAIN    25548 non-null  object \n",
            "dtypes: float64(1), int64(2), object(2)\n",
            "memory usage: 1.2+ MB\n"
          ]
        }
      ]
    },
    {
      "cell_type": "markdown",
      "source": [
        "Nos damos cuenta de que el valor máximo de la temperatura es muy alto, por lo que entendemos que los registros están en grados Fahrenheit. \n",
        "\n",
        "Realizamos la conversión de todas las temperaturas a grados Celsius, con la fórmula de conversión."
      ],
      "metadata": {
        "id": "p9kcaIGv2z5f"
      }
    },
    {
      "cell_type": "code",
      "source": [
        "temp_max = data[\"TMAX\"].max()\n",
        "\n",
        "print('La temperatura máxima encontrada es', temp_max,'entendemos que estamos en Fº y queremos trabajar en Cº.')"
      ],
      "metadata": {
        "colab": {
          "base_uri": "https://localhost:8080/"
        },
        "id": "ThkKprt42yxt",
        "outputId": "b7b92be4-0009-447e-fbbb-4ad129cd03cc"
      },
      "execution_count": 5,
      "outputs": [
        {
          "output_type": "stream",
          "name": "stdout",
          "text": [
            "La temperatura máxima encontrada es 103 entendemos que estamos en Fº y queremos trabajar en Cº.\n"
          ]
        }
      ]
    },
    {
      "cell_type": "code",
      "source": [
        "data[\"TMIN\"] = (data.TMIN - 32)*(5/9)\n",
        "\n",
        "data[\"TMAX\"] = (data.TMAX - 32)*(5/9)\n",
        "\n",
        "temp_max = data[\"TMAX\"].max().round(2)\n",
        "\n",
        "temp_min = data[\"TMIN\"].min().round(2)\n",
        "\n",
        "print('La temperatura máxima en grados Celsius es', temp_max,'Cº.')"
      ],
      "metadata": {
        "colab": {
          "base_uri": "https://localhost:8080/"
        },
        "id": "oRdK9-tMzpuI",
        "outputId": "5b8d1b82-a1c3-443d-ba79-7c85a8e7e36d"
      },
      "execution_count": 6,
      "outputs": [
        {
          "output_type": "stream",
          "name": "stdout",
          "text": [
            "La temperatura máxima en grados Celsius es 39.44 Cº.\n"
          ]
        }
      ]
    },
    {
      "cell_type": "markdown",
      "source": [
        "Imprimimos los primeros 40 registros para comprobar que se hayan modificado correctamente."
      ],
      "metadata": {
        "id": "o-jOzuh93TlY"
      }
    },
    {
      "cell_type": "code",
      "source": [
        "data.head(40)"
      ],
      "metadata": {
        "colab": {
          "base_uri": "https://localhost:8080/",
          "height": 1000
        },
        "id": "0akcI_5Q6ZiL",
        "outputId": "43f3bb5b-3f65-4db2-988e-666f465bba80"
      },
      "execution_count": 7,
      "outputs": [
        {
          "output_type": "execute_result",
          "data": {
            "text/plain": [
              "          DATE  PRCP       TMAX      TMIN   RAIN\n",
              "0   1948-01-01  0.47  10.555556  5.555556   True\n",
              "1   1948-01-02  0.59   7.222222  2.222222   True\n",
              "2   1948-01-03  0.42   7.222222  1.666667   True\n",
              "3   1948-01-04  0.31   7.222222  1.111111   True\n",
              "4   1948-01-05  0.17   7.222222  0.000000   True\n",
              "5   1948-01-06  0.44   8.888889  3.888889   True\n",
              "6   1948-01-07  0.41  10.000000  4.444444   True\n",
              "7   1948-01-08  0.04   8.888889  1.666667   True\n",
              "8   1948-01-09  0.12  10.000000 -0.555556   True\n",
              "9   1948-01-10  0.74   6.111111  1.111111   True\n",
              "10  1948-01-11  0.01   5.555556  0.000000   True\n",
              "11  1948-01-12  0.00   5.000000 -3.333333  False\n",
              "12  1948-01-13  0.00   7.222222 -1.666667  False\n",
              "13  1948-01-14  0.00   3.333333 -3.333333  False\n",
              "14  1948-01-15  0.00   1.111111 -0.555556  False\n",
              "15  1948-01-16  0.00   1.111111 -2.222222  False\n",
              "16  1948-01-17  0.00   1.666667 -1.666667  False\n",
              "17  1948-01-18  0.00   0.555556 -2.222222  False\n",
              "18  1948-01-19  0.00   1.111111 -2.777778  False\n",
              "19  1948-01-20  0.00   2.222222 -1.666667  False\n",
              "20  1948-01-21  0.00   8.888889  0.000000  False\n",
              "21  1948-01-22  0.21   8.333333  6.666667   True\n",
              "22  1948-01-23  0.00   8.333333  6.111111  False\n",
              "23  1948-01-24  0.10   7.222222  1.111111   True\n",
              "24  1948-01-25  0.00   7.777778 -1.111111  False\n",
              "25  1948-01-26  0.00   7.222222  0.000000  False\n",
              "26  1948-01-27  0.00  11.666667  0.555556  False\n",
              "27  1948-01-28  0.00  11.666667 -3.888889  False\n",
              "28  1948-01-29  0.22   5.555556  1.111111   True\n",
              "29  1948-01-30  0.03   8.333333 -1.111111   True\n",
              "30  1948-01-31  0.21   1.666667 -2.777778   True\n",
              "31  1948-02-01  0.03   3.888889 -1.111111   True\n",
              "32  1948-02-02  0.00   6.111111 -3.333333  False\n",
              "33  1948-02-03  0.20   3.333333 -3.333333   True\n",
              "34  1948-02-04  0.14   3.888889 -0.555556   True\n",
              "35  1948-02-05  0.00   2.222222 -3.333333  False\n",
              "36  1948-02-06  0.00   6.111111 -6.666667  False\n",
              "37  1948-02-07  0.06   6.111111 -2.777778   True\n",
              "38  1948-02-08  0.56   6.666667  1.666667   True\n",
              "39  1948-02-09  0.00   7.222222  0.000000  False"
            ],
            "text/html": [
              "\n",
              "  <div id=\"df-8a4f73c5-5541-4ec5-82e7-7bf50e2a2244\">\n",
              "    <div class=\"colab-df-container\">\n",
              "      <div>\n",
              "<style scoped>\n",
              "    .dataframe tbody tr th:only-of-type {\n",
              "        vertical-align: middle;\n",
              "    }\n",
              "\n",
              "    .dataframe tbody tr th {\n",
              "        vertical-align: top;\n",
              "    }\n",
              "\n",
              "    .dataframe thead th {\n",
              "        text-align: right;\n",
              "    }\n",
              "</style>\n",
              "<table border=\"1\" class=\"dataframe\">\n",
              "  <thead>\n",
              "    <tr style=\"text-align: right;\">\n",
              "      <th></th>\n",
              "      <th>DATE</th>\n",
              "      <th>PRCP</th>\n",
              "      <th>TMAX</th>\n",
              "      <th>TMIN</th>\n",
              "      <th>RAIN</th>\n",
              "    </tr>\n",
              "  </thead>\n",
              "  <tbody>\n",
              "    <tr>\n",
              "      <th>0</th>\n",
              "      <td>1948-01-01</td>\n",
              "      <td>0.47</td>\n",
              "      <td>10.555556</td>\n",
              "      <td>5.555556</td>\n",
              "      <td>True</td>\n",
              "    </tr>\n",
              "    <tr>\n",
              "      <th>1</th>\n",
              "      <td>1948-01-02</td>\n",
              "      <td>0.59</td>\n",
              "      <td>7.222222</td>\n",
              "      <td>2.222222</td>\n",
              "      <td>True</td>\n",
              "    </tr>\n",
              "    <tr>\n",
              "      <th>2</th>\n",
              "      <td>1948-01-03</td>\n",
              "      <td>0.42</td>\n",
              "      <td>7.222222</td>\n",
              "      <td>1.666667</td>\n",
              "      <td>True</td>\n",
              "    </tr>\n",
              "    <tr>\n",
              "      <th>3</th>\n",
              "      <td>1948-01-04</td>\n",
              "      <td>0.31</td>\n",
              "      <td>7.222222</td>\n",
              "      <td>1.111111</td>\n",
              "      <td>True</td>\n",
              "    </tr>\n",
              "    <tr>\n",
              "      <th>4</th>\n",
              "      <td>1948-01-05</td>\n",
              "      <td>0.17</td>\n",
              "      <td>7.222222</td>\n",
              "      <td>0.000000</td>\n",
              "      <td>True</td>\n",
              "    </tr>\n",
              "    <tr>\n",
              "      <th>5</th>\n",
              "      <td>1948-01-06</td>\n",
              "      <td>0.44</td>\n",
              "      <td>8.888889</td>\n",
              "      <td>3.888889</td>\n",
              "      <td>True</td>\n",
              "    </tr>\n",
              "    <tr>\n",
              "      <th>6</th>\n",
              "      <td>1948-01-07</td>\n",
              "      <td>0.41</td>\n",
              "      <td>10.000000</td>\n",
              "      <td>4.444444</td>\n",
              "      <td>True</td>\n",
              "    </tr>\n",
              "    <tr>\n",
              "      <th>7</th>\n",
              "      <td>1948-01-08</td>\n",
              "      <td>0.04</td>\n",
              "      <td>8.888889</td>\n",
              "      <td>1.666667</td>\n",
              "      <td>True</td>\n",
              "    </tr>\n",
              "    <tr>\n",
              "      <th>8</th>\n",
              "      <td>1948-01-09</td>\n",
              "      <td>0.12</td>\n",
              "      <td>10.000000</td>\n",
              "      <td>-0.555556</td>\n",
              "      <td>True</td>\n",
              "    </tr>\n",
              "    <tr>\n",
              "      <th>9</th>\n",
              "      <td>1948-01-10</td>\n",
              "      <td>0.74</td>\n",
              "      <td>6.111111</td>\n",
              "      <td>1.111111</td>\n",
              "      <td>True</td>\n",
              "    </tr>\n",
              "    <tr>\n",
              "      <th>10</th>\n",
              "      <td>1948-01-11</td>\n",
              "      <td>0.01</td>\n",
              "      <td>5.555556</td>\n",
              "      <td>0.000000</td>\n",
              "      <td>True</td>\n",
              "    </tr>\n",
              "    <tr>\n",
              "      <th>11</th>\n",
              "      <td>1948-01-12</td>\n",
              "      <td>0.00</td>\n",
              "      <td>5.000000</td>\n",
              "      <td>-3.333333</td>\n",
              "      <td>False</td>\n",
              "    </tr>\n",
              "    <tr>\n",
              "      <th>12</th>\n",
              "      <td>1948-01-13</td>\n",
              "      <td>0.00</td>\n",
              "      <td>7.222222</td>\n",
              "      <td>-1.666667</td>\n",
              "      <td>False</td>\n",
              "    </tr>\n",
              "    <tr>\n",
              "      <th>13</th>\n",
              "      <td>1948-01-14</td>\n",
              "      <td>0.00</td>\n",
              "      <td>3.333333</td>\n",
              "      <td>-3.333333</td>\n",
              "      <td>False</td>\n",
              "    </tr>\n",
              "    <tr>\n",
              "      <th>14</th>\n",
              "      <td>1948-01-15</td>\n",
              "      <td>0.00</td>\n",
              "      <td>1.111111</td>\n",
              "      <td>-0.555556</td>\n",
              "      <td>False</td>\n",
              "    </tr>\n",
              "    <tr>\n",
              "      <th>15</th>\n",
              "      <td>1948-01-16</td>\n",
              "      <td>0.00</td>\n",
              "      <td>1.111111</td>\n",
              "      <td>-2.222222</td>\n",
              "      <td>False</td>\n",
              "    </tr>\n",
              "    <tr>\n",
              "      <th>16</th>\n",
              "      <td>1948-01-17</td>\n",
              "      <td>0.00</td>\n",
              "      <td>1.666667</td>\n",
              "      <td>-1.666667</td>\n",
              "      <td>False</td>\n",
              "    </tr>\n",
              "    <tr>\n",
              "      <th>17</th>\n",
              "      <td>1948-01-18</td>\n",
              "      <td>0.00</td>\n",
              "      <td>0.555556</td>\n",
              "      <td>-2.222222</td>\n",
              "      <td>False</td>\n",
              "    </tr>\n",
              "    <tr>\n",
              "      <th>18</th>\n",
              "      <td>1948-01-19</td>\n",
              "      <td>0.00</td>\n",
              "      <td>1.111111</td>\n",
              "      <td>-2.777778</td>\n",
              "      <td>False</td>\n",
              "    </tr>\n",
              "    <tr>\n",
              "      <th>19</th>\n",
              "      <td>1948-01-20</td>\n",
              "      <td>0.00</td>\n",
              "      <td>2.222222</td>\n",
              "      <td>-1.666667</td>\n",
              "      <td>False</td>\n",
              "    </tr>\n",
              "    <tr>\n",
              "      <th>20</th>\n",
              "      <td>1948-01-21</td>\n",
              "      <td>0.00</td>\n",
              "      <td>8.888889</td>\n",
              "      <td>0.000000</td>\n",
              "      <td>False</td>\n",
              "    </tr>\n",
              "    <tr>\n",
              "      <th>21</th>\n",
              "      <td>1948-01-22</td>\n",
              "      <td>0.21</td>\n",
              "      <td>8.333333</td>\n",
              "      <td>6.666667</td>\n",
              "      <td>True</td>\n",
              "    </tr>\n",
              "    <tr>\n",
              "      <th>22</th>\n",
              "      <td>1948-01-23</td>\n",
              "      <td>0.00</td>\n",
              "      <td>8.333333</td>\n",
              "      <td>6.111111</td>\n",
              "      <td>False</td>\n",
              "    </tr>\n",
              "    <tr>\n",
              "      <th>23</th>\n",
              "      <td>1948-01-24</td>\n",
              "      <td>0.10</td>\n",
              "      <td>7.222222</td>\n",
              "      <td>1.111111</td>\n",
              "      <td>True</td>\n",
              "    </tr>\n",
              "    <tr>\n",
              "      <th>24</th>\n",
              "      <td>1948-01-25</td>\n",
              "      <td>0.00</td>\n",
              "      <td>7.777778</td>\n",
              "      <td>-1.111111</td>\n",
              "      <td>False</td>\n",
              "    </tr>\n",
              "    <tr>\n",
              "      <th>25</th>\n",
              "      <td>1948-01-26</td>\n",
              "      <td>0.00</td>\n",
              "      <td>7.222222</td>\n",
              "      <td>0.000000</td>\n",
              "      <td>False</td>\n",
              "    </tr>\n",
              "    <tr>\n",
              "      <th>26</th>\n",
              "      <td>1948-01-27</td>\n",
              "      <td>0.00</td>\n",
              "      <td>11.666667</td>\n",
              "      <td>0.555556</td>\n",
              "      <td>False</td>\n",
              "    </tr>\n",
              "    <tr>\n",
              "      <th>27</th>\n",
              "      <td>1948-01-28</td>\n",
              "      <td>0.00</td>\n",
              "      <td>11.666667</td>\n",
              "      <td>-3.888889</td>\n",
              "      <td>False</td>\n",
              "    </tr>\n",
              "    <tr>\n",
              "      <th>28</th>\n",
              "      <td>1948-01-29</td>\n",
              "      <td>0.22</td>\n",
              "      <td>5.555556</td>\n",
              "      <td>1.111111</td>\n",
              "      <td>True</td>\n",
              "    </tr>\n",
              "    <tr>\n",
              "      <th>29</th>\n",
              "      <td>1948-01-30</td>\n",
              "      <td>0.03</td>\n",
              "      <td>8.333333</td>\n",
              "      <td>-1.111111</td>\n",
              "      <td>True</td>\n",
              "    </tr>\n",
              "    <tr>\n",
              "      <th>30</th>\n",
              "      <td>1948-01-31</td>\n",
              "      <td>0.21</td>\n",
              "      <td>1.666667</td>\n",
              "      <td>-2.777778</td>\n",
              "      <td>True</td>\n",
              "    </tr>\n",
              "    <tr>\n",
              "      <th>31</th>\n",
              "      <td>1948-02-01</td>\n",
              "      <td>0.03</td>\n",
              "      <td>3.888889</td>\n",
              "      <td>-1.111111</td>\n",
              "      <td>True</td>\n",
              "    </tr>\n",
              "    <tr>\n",
              "      <th>32</th>\n",
              "      <td>1948-02-02</td>\n",
              "      <td>0.00</td>\n",
              "      <td>6.111111</td>\n",
              "      <td>-3.333333</td>\n",
              "      <td>False</td>\n",
              "    </tr>\n",
              "    <tr>\n",
              "      <th>33</th>\n",
              "      <td>1948-02-03</td>\n",
              "      <td>0.20</td>\n",
              "      <td>3.333333</td>\n",
              "      <td>-3.333333</td>\n",
              "      <td>True</td>\n",
              "    </tr>\n",
              "    <tr>\n",
              "      <th>34</th>\n",
              "      <td>1948-02-04</td>\n",
              "      <td>0.14</td>\n",
              "      <td>3.888889</td>\n",
              "      <td>-0.555556</td>\n",
              "      <td>True</td>\n",
              "    </tr>\n",
              "    <tr>\n",
              "      <th>35</th>\n",
              "      <td>1948-02-05</td>\n",
              "      <td>0.00</td>\n",
              "      <td>2.222222</td>\n",
              "      <td>-3.333333</td>\n",
              "      <td>False</td>\n",
              "    </tr>\n",
              "    <tr>\n",
              "      <th>36</th>\n",
              "      <td>1948-02-06</td>\n",
              "      <td>0.00</td>\n",
              "      <td>6.111111</td>\n",
              "      <td>-6.666667</td>\n",
              "      <td>False</td>\n",
              "    </tr>\n",
              "    <tr>\n",
              "      <th>37</th>\n",
              "      <td>1948-02-07</td>\n",
              "      <td>0.06</td>\n",
              "      <td>6.111111</td>\n",
              "      <td>-2.777778</td>\n",
              "      <td>True</td>\n",
              "    </tr>\n",
              "    <tr>\n",
              "      <th>38</th>\n",
              "      <td>1948-02-08</td>\n",
              "      <td>0.56</td>\n",
              "      <td>6.666667</td>\n",
              "      <td>1.666667</td>\n",
              "      <td>True</td>\n",
              "    </tr>\n",
              "    <tr>\n",
              "      <th>39</th>\n",
              "      <td>1948-02-09</td>\n",
              "      <td>0.00</td>\n",
              "      <td>7.222222</td>\n",
              "      <td>0.000000</td>\n",
              "      <td>False</td>\n",
              "    </tr>\n",
              "  </tbody>\n",
              "</table>\n",
              "</div>\n",
              "      <button class=\"colab-df-convert\" onclick=\"convertToInteractive('df-8a4f73c5-5541-4ec5-82e7-7bf50e2a2244')\"\n",
              "              title=\"Convert this dataframe to an interactive table.\"\n",
              "              style=\"display:none;\">\n",
              "        \n",
              "  <svg xmlns=\"http://www.w3.org/2000/svg\" height=\"24px\"viewBox=\"0 0 24 24\"\n",
              "       width=\"24px\">\n",
              "    <path d=\"M0 0h24v24H0V0z\" fill=\"none\"/>\n",
              "    <path d=\"M18.56 5.44l.94 2.06.94-2.06 2.06-.94-2.06-.94-.94-2.06-.94 2.06-2.06.94zm-11 1L8.5 8.5l.94-2.06 2.06-.94-2.06-.94L8.5 2.5l-.94 2.06-2.06.94zm10 10l.94 2.06.94-2.06 2.06-.94-2.06-.94-.94-2.06-.94 2.06-2.06.94z\"/><path d=\"M17.41 7.96l-1.37-1.37c-.4-.4-.92-.59-1.43-.59-.52 0-1.04.2-1.43.59L10.3 9.45l-7.72 7.72c-.78.78-.78 2.05 0 2.83L4 21.41c.39.39.9.59 1.41.59.51 0 1.02-.2 1.41-.59l7.78-7.78 2.81-2.81c.8-.78.8-2.07 0-2.86zM5.41 20L4 18.59l7.72-7.72 1.47 1.35L5.41 20z\"/>\n",
              "  </svg>\n",
              "      </button>\n",
              "      \n",
              "  <style>\n",
              "    .colab-df-container {\n",
              "      display:flex;\n",
              "      flex-wrap:wrap;\n",
              "      gap: 12px;\n",
              "    }\n",
              "\n",
              "    .colab-df-convert {\n",
              "      background-color: #E8F0FE;\n",
              "      border: none;\n",
              "      border-radius: 50%;\n",
              "      cursor: pointer;\n",
              "      display: none;\n",
              "      fill: #1967D2;\n",
              "      height: 32px;\n",
              "      padding: 0 0 0 0;\n",
              "      width: 32px;\n",
              "    }\n",
              "\n",
              "    .colab-df-convert:hover {\n",
              "      background-color: #E2EBFA;\n",
              "      box-shadow: 0px 1px 2px rgba(60, 64, 67, 0.3), 0px 1px 3px 1px rgba(60, 64, 67, 0.15);\n",
              "      fill: #174EA6;\n",
              "    }\n",
              "\n",
              "    [theme=dark] .colab-df-convert {\n",
              "      background-color: #3B4455;\n",
              "      fill: #D2E3FC;\n",
              "    }\n",
              "\n",
              "    [theme=dark] .colab-df-convert:hover {\n",
              "      background-color: #434B5C;\n",
              "      box-shadow: 0px 1px 3px 1px rgba(0, 0, 0, 0.15);\n",
              "      filter: drop-shadow(0px 1px 2px rgba(0, 0, 0, 0.3));\n",
              "      fill: #FFFFFF;\n",
              "    }\n",
              "  </style>\n",
              "\n",
              "      <script>\n",
              "        const buttonEl =\n",
              "          document.querySelector('#df-8a4f73c5-5541-4ec5-82e7-7bf50e2a2244 button.colab-df-convert');\n",
              "        buttonEl.style.display =\n",
              "          google.colab.kernel.accessAllowed ? 'block' : 'none';\n",
              "\n",
              "        async function convertToInteractive(key) {\n",
              "          const element = document.querySelector('#df-8a4f73c5-5541-4ec5-82e7-7bf50e2a2244');\n",
              "          const dataTable =\n",
              "            await google.colab.kernel.invokeFunction('convertToInteractive',\n",
              "                                                     [key], {});\n",
              "          if (!dataTable) return;\n",
              "\n",
              "          const docLinkHtml = 'Like what you see? Visit the ' +\n",
              "            '<a target=\"_blank\" href=https://colab.research.google.com/notebooks/data_table.ipynb>data table notebook</a>'\n",
              "            + ' to learn more about interactive tables.';\n",
              "          element.innerHTML = '';\n",
              "          dataTable['output_type'] = 'display_data';\n",
              "          await google.colab.output.renderOutput(dataTable, element);\n",
              "          const docLink = document.createElement('div');\n",
              "          docLink.innerHTML = docLinkHtml;\n",
              "          element.appendChild(docLink);\n",
              "        }\n",
              "      </script>\n",
              "    </div>\n",
              "  </div>\n",
              "  "
            ]
          },
          "metadata": {},
          "execution_count": 7
        }
      ]
    },
    {
      "cell_type": "markdown",
      "source": [
        "Categorizamos las columnas 'TMIN', 'TMAX' y 'PRCP' tal y como se pide en el enunciado del ejercicio.\n",
        "\n",
        "'TMIN' tomará las etiquetas 'Baja', 'Media' y 'Alta', en función de los rangos de temperatura < 10, 10 >= temeperatura <= 20 y temperatura > 20."
      ],
      "metadata": {
        "id": "9w0GOvy93dZC"
      }
    },
    {
      "cell_type": "code",
      "source": [
        "conditions = [\n",
        "          (data['TMIN'] < 10),\n",
        "          ((data['TMIN'] >= 10) & (data['TMIN'] <= 20)),\n",
        "          (data['TMIN'] > 20)\n",
        "             ]\n",
        "\n",
        "#define results\n",
        "results = ['Baja', 'Media', 'Alta']\n",
        "\n",
        "#create new column based on conditions in column1 and column2\n",
        "data['TMIN'] = np.select(conditions, results)"
      ],
      "metadata": {
        "id": "WI66E7MevC0P"
      },
      "execution_count": 8,
      "outputs": []
    },
    {
      "cell_type": "markdown",
      "source": [
        "'TMAX' se categoriza igual que 'TMIN'."
      ],
      "metadata": {
        "id": "5VGf331r4H3K"
      }
    },
    {
      "cell_type": "code",
      "source": [
        "conditions = [\n",
        "          (data['TMAX'] < 10),\n",
        "          ((data['TMAX'] >= 10) & (data['TMAX'] <= 20)),\n",
        "          (data['TMAX'] > 20)\n",
        "             ]\n",
        "\n",
        "#define results\n",
        "results = ['Baja', 'Media', 'Alta']\n",
        "\n",
        "#create new column based on conditions in column1 and column2\n",
        "data['TMAX'] = np.select(conditions, results)"
      ],
      "metadata": {
        "id": "SeIvld3aPahG"
      },
      "execution_count": 9,
      "outputs": []
    },
    {
      "cell_type": "code",
      "source": [
        "# Vemos cuantos registros de cada etiqueta tiene TMIN\n",
        "\n",
        "data.value_counts(data['TMIN'])"
      ],
      "metadata": {
        "colab": {
          "base_uri": "https://localhost:8080/"
        },
        "id": "NVxvlXpl8EHS",
        "outputId": "5dc10e16-e846-458e-b6b6-d460f3a9be31"
      },
      "execution_count": 19,
      "outputs": [
        {
          "output_type": "execute_result",
          "data": {
            "text/plain": [
              "TMIN\n",
              "Baja     17000\n",
              "Media     8543\n",
              "Alta         5\n",
              "dtype: int64"
            ]
          },
          "metadata": {},
          "execution_count": 19
        }
      ]
    },
    {
      "cell_type": "code",
      "source": [
        "conditions = [\n",
        "          (data['PRCP'] < 1),\n",
        "          ((data['PRCP'] >= 1) & (data['PRCP'] <= 2)),\n",
        "          (data['PRCP'] > 2)\n",
        "             ]\n",
        "\n",
        "#define results\n",
        "results = ['Poco', 'Normal', 'Mucho']\n",
        "\n",
        "#create new column based on conditions in column1 and column2\n",
        "data['PRCP'] = np.select(conditions, results)"
      ],
      "metadata": {
        "colab": {
          "base_uri": "https://localhost:8080/",
          "height": 676
        },
        "id": "kNitv1fB8znt",
        "outputId": "55006657-fbe1-4fab-f40f-1d6cf953afef"
      },
      "execution_count": 11,
      "outputs": [
        {
          "output_type": "execute_result",
          "data": {
            "text/plain": [
              "          DATE  PRCP   TMAX  TMIN   RAIN\n",
              "0   1948-01-01  Poco  Media  Baja   True\n",
              "1   1948-01-02  Poco   Baja  Baja   True\n",
              "2   1948-01-03  Poco   Baja  Baja   True\n",
              "3   1948-01-04  Poco   Baja  Baja   True\n",
              "4   1948-01-05  Poco   Baja  Baja   True\n",
              "5   1948-01-06  Poco   Baja  Baja   True\n",
              "6   1948-01-07  Poco  Media  Baja   True\n",
              "7   1948-01-08  Poco   Baja  Baja   True\n",
              "8   1948-01-09  Poco  Media  Baja   True\n",
              "9   1948-01-10  Poco   Baja  Baja   True\n",
              "10  1948-01-11  Poco   Baja  Baja   True\n",
              "11  1948-01-12  Poco   Baja  Baja  False\n",
              "12  1948-01-13  Poco   Baja  Baja  False\n",
              "13  1948-01-14  Poco   Baja  Baja  False\n",
              "14  1948-01-15  Poco   Baja  Baja  False\n",
              "15  1948-01-16  Poco   Baja  Baja  False\n",
              "16  1948-01-17  Poco   Baja  Baja  False\n",
              "17  1948-01-18  Poco   Baja  Baja  False\n",
              "18  1948-01-19  Poco   Baja  Baja  False\n",
              "19  1948-01-20  Poco   Baja  Baja  False"
            ],
            "text/html": [
              "\n",
              "  <div id=\"df-0e66aef9-5073-402e-8ea0-c039f22cab37\">\n",
              "    <div class=\"colab-df-container\">\n",
              "      <div>\n",
              "<style scoped>\n",
              "    .dataframe tbody tr th:only-of-type {\n",
              "        vertical-align: middle;\n",
              "    }\n",
              "\n",
              "    .dataframe tbody tr th {\n",
              "        vertical-align: top;\n",
              "    }\n",
              "\n",
              "    .dataframe thead th {\n",
              "        text-align: right;\n",
              "    }\n",
              "</style>\n",
              "<table border=\"1\" class=\"dataframe\">\n",
              "  <thead>\n",
              "    <tr style=\"text-align: right;\">\n",
              "      <th></th>\n",
              "      <th>DATE</th>\n",
              "      <th>PRCP</th>\n",
              "      <th>TMAX</th>\n",
              "      <th>TMIN</th>\n",
              "      <th>RAIN</th>\n",
              "    </tr>\n",
              "  </thead>\n",
              "  <tbody>\n",
              "    <tr>\n",
              "      <th>0</th>\n",
              "      <td>1948-01-01</td>\n",
              "      <td>Poco</td>\n",
              "      <td>Media</td>\n",
              "      <td>Baja</td>\n",
              "      <td>True</td>\n",
              "    </tr>\n",
              "    <tr>\n",
              "      <th>1</th>\n",
              "      <td>1948-01-02</td>\n",
              "      <td>Poco</td>\n",
              "      <td>Baja</td>\n",
              "      <td>Baja</td>\n",
              "      <td>True</td>\n",
              "    </tr>\n",
              "    <tr>\n",
              "      <th>2</th>\n",
              "      <td>1948-01-03</td>\n",
              "      <td>Poco</td>\n",
              "      <td>Baja</td>\n",
              "      <td>Baja</td>\n",
              "      <td>True</td>\n",
              "    </tr>\n",
              "    <tr>\n",
              "      <th>3</th>\n",
              "      <td>1948-01-04</td>\n",
              "      <td>Poco</td>\n",
              "      <td>Baja</td>\n",
              "      <td>Baja</td>\n",
              "      <td>True</td>\n",
              "    </tr>\n",
              "    <tr>\n",
              "      <th>4</th>\n",
              "      <td>1948-01-05</td>\n",
              "      <td>Poco</td>\n",
              "      <td>Baja</td>\n",
              "      <td>Baja</td>\n",
              "      <td>True</td>\n",
              "    </tr>\n",
              "    <tr>\n",
              "      <th>5</th>\n",
              "      <td>1948-01-06</td>\n",
              "      <td>Poco</td>\n",
              "      <td>Baja</td>\n",
              "      <td>Baja</td>\n",
              "      <td>True</td>\n",
              "    </tr>\n",
              "    <tr>\n",
              "      <th>6</th>\n",
              "      <td>1948-01-07</td>\n",
              "      <td>Poco</td>\n",
              "      <td>Media</td>\n",
              "      <td>Baja</td>\n",
              "      <td>True</td>\n",
              "    </tr>\n",
              "    <tr>\n",
              "      <th>7</th>\n",
              "      <td>1948-01-08</td>\n",
              "      <td>Poco</td>\n",
              "      <td>Baja</td>\n",
              "      <td>Baja</td>\n",
              "      <td>True</td>\n",
              "    </tr>\n",
              "    <tr>\n",
              "      <th>8</th>\n",
              "      <td>1948-01-09</td>\n",
              "      <td>Poco</td>\n",
              "      <td>Media</td>\n",
              "      <td>Baja</td>\n",
              "      <td>True</td>\n",
              "    </tr>\n",
              "    <tr>\n",
              "      <th>9</th>\n",
              "      <td>1948-01-10</td>\n",
              "      <td>Poco</td>\n",
              "      <td>Baja</td>\n",
              "      <td>Baja</td>\n",
              "      <td>True</td>\n",
              "    </tr>\n",
              "    <tr>\n",
              "      <th>10</th>\n",
              "      <td>1948-01-11</td>\n",
              "      <td>Poco</td>\n",
              "      <td>Baja</td>\n",
              "      <td>Baja</td>\n",
              "      <td>True</td>\n",
              "    </tr>\n",
              "    <tr>\n",
              "      <th>11</th>\n",
              "      <td>1948-01-12</td>\n",
              "      <td>Poco</td>\n",
              "      <td>Baja</td>\n",
              "      <td>Baja</td>\n",
              "      <td>False</td>\n",
              "    </tr>\n",
              "    <tr>\n",
              "      <th>12</th>\n",
              "      <td>1948-01-13</td>\n",
              "      <td>Poco</td>\n",
              "      <td>Baja</td>\n",
              "      <td>Baja</td>\n",
              "      <td>False</td>\n",
              "    </tr>\n",
              "    <tr>\n",
              "      <th>13</th>\n",
              "      <td>1948-01-14</td>\n",
              "      <td>Poco</td>\n",
              "      <td>Baja</td>\n",
              "      <td>Baja</td>\n",
              "      <td>False</td>\n",
              "    </tr>\n",
              "    <tr>\n",
              "      <th>14</th>\n",
              "      <td>1948-01-15</td>\n",
              "      <td>Poco</td>\n",
              "      <td>Baja</td>\n",
              "      <td>Baja</td>\n",
              "      <td>False</td>\n",
              "    </tr>\n",
              "    <tr>\n",
              "      <th>15</th>\n",
              "      <td>1948-01-16</td>\n",
              "      <td>Poco</td>\n",
              "      <td>Baja</td>\n",
              "      <td>Baja</td>\n",
              "      <td>False</td>\n",
              "    </tr>\n",
              "    <tr>\n",
              "      <th>16</th>\n",
              "      <td>1948-01-17</td>\n",
              "      <td>Poco</td>\n",
              "      <td>Baja</td>\n",
              "      <td>Baja</td>\n",
              "      <td>False</td>\n",
              "    </tr>\n",
              "    <tr>\n",
              "      <th>17</th>\n",
              "      <td>1948-01-18</td>\n",
              "      <td>Poco</td>\n",
              "      <td>Baja</td>\n",
              "      <td>Baja</td>\n",
              "      <td>False</td>\n",
              "    </tr>\n",
              "    <tr>\n",
              "      <th>18</th>\n",
              "      <td>1948-01-19</td>\n",
              "      <td>Poco</td>\n",
              "      <td>Baja</td>\n",
              "      <td>Baja</td>\n",
              "      <td>False</td>\n",
              "    </tr>\n",
              "    <tr>\n",
              "      <th>19</th>\n",
              "      <td>1948-01-20</td>\n",
              "      <td>Poco</td>\n",
              "      <td>Baja</td>\n",
              "      <td>Baja</td>\n",
              "      <td>False</td>\n",
              "    </tr>\n",
              "  </tbody>\n",
              "</table>\n",
              "</div>\n",
              "      <button class=\"colab-df-convert\" onclick=\"convertToInteractive('df-0e66aef9-5073-402e-8ea0-c039f22cab37')\"\n",
              "              title=\"Convert this dataframe to an interactive table.\"\n",
              "              style=\"display:none;\">\n",
              "        \n",
              "  <svg xmlns=\"http://www.w3.org/2000/svg\" height=\"24px\"viewBox=\"0 0 24 24\"\n",
              "       width=\"24px\">\n",
              "    <path d=\"M0 0h24v24H0V0z\" fill=\"none\"/>\n",
              "    <path d=\"M18.56 5.44l.94 2.06.94-2.06 2.06-.94-2.06-.94-.94-2.06-.94 2.06-2.06.94zm-11 1L8.5 8.5l.94-2.06 2.06-.94-2.06-.94L8.5 2.5l-.94 2.06-2.06.94zm10 10l.94 2.06.94-2.06 2.06-.94-2.06-.94-.94-2.06-.94 2.06-2.06.94z\"/><path d=\"M17.41 7.96l-1.37-1.37c-.4-.4-.92-.59-1.43-.59-.52 0-1.04.2-1.43.59L10.3 9.45l-7.72 7.72c-.78.78-.78 2.05 0 2.83L4 21.41c.39.39.9.59 1.41.59.51 0 1.02-.2 1.41-.59l7.78-7.78 2.81-2.81c.8-.78.8-2.07 0-2.86zM5.41 20L4 18.59l7.72-7.72 1.47 1.35L5.41 20z\"/>\n",
              "  </svg>\n",
              "      </button>\n",
              "      \n",
              "  <style>\n",
              "    .colab-df-container {\n",
              "      display:flex;\n",
              "      flex-wrap:wrap;\n",
              "      gap: 12px;\n",
              "    }\n",
              "\n",
              "    .colab-df-convert {\n",
              "      background-color: #E8F0FE;\n",
              "      border: none;\n",
              "      border-radius: 50%;\n",
              "      cursor: pointer;\n",
              "      display: none;\n",
              "      fill: #1967D2;\n",
              "      height: 32px;\n",
              "      padding: 0 0 0 0;\n",
              "      width: 32px;\n",
              "    }\n",
              "\n",
              "    .colab-df-convert:hover {\n",
              "      background-color: #E2EBFA;\n",
              "      box-shadow: 0px 1px 2px rgba(60, 64, 67, 0.3), 0px 1px 3px 1px rgba(60, 64, 67, 0.15);\n",
              "      fill: #174EA6;\n",
              "    }\n",
              "\n",
              "    [theme=dark] .colab-df-convert {\n",
              "      background-color: #3B4455;\n",
              "      fill: #D2E3FC;\n",
              "    }\n",
              "\n",
              "    [theme=dark] .colab-df-convert:hover {\n",
              "      background-color: #434B5C;\n",
              "      box-shadow: 0px 1px 3px 1px rgba(0, 0, 0, 0.15);\n",
              "      filter: drop-shadow(0px 1px 2px rgba(0, 0, 0, 0.3));\n",
              "      fill: #FFFFFF;\n",
              "    }\n",
              "  </style>\n",
              "\n",
              "      <script>\n",
              "        const buttonEl =\n",
              "          document.querySelector('#df-0e66aef9-5073-402e-8ea0-c039f22cab37 button.colab-df-convert');\n",
              "        buttonEl.style.display =\n",
              "          google.colab.kernel.accessAllowed ? 'block' : 'none';\n",
              "\n",
              "        async function convertToInteractive(key) {\n",
              "          const element = document.querySelector('#df-0e66aef9-5073-402e-8ea0-c039f22cab37');\n",
              "          const dataTable =\n",
              "            await google.colab.kernel.invokeFunction('convertToInteractive',\n",
              "                                                     [key], {});\n",
              "          if (!dataTable) return;\n",
              "\n",
              "          const docLinkHtml = 'Like what you see? Visit the ' +\n",
              "            '<a target=\"_blank\" href=https://colab.research.google.com/notebooks/data_table.ipynb>data table notebook</a>'\n",
              "            + ' to learn more about interactive tables.';\n",
              "          element.innerHTML = '';\n",
              "          dataTable['output_type'] = 'display_data';\n",
              "          await google.colab.output.renderOutput(dataTable, element);\n",
              "          const docLink = document.createElement('div');\n",
              "          docLink.innerHTML = docLinkHtml;\n",
              "          element.appendChild(docLink);\n",
              "        }\n",
              "      </script>\n",
              "    </div>\n",
              "  </div>\n",
              "  "
            ]
          },
          "metadata": {},
          "execution_count": 11
        }
      ]
    },
    {
      "cell_type": "markdown",
      "source": [
        "Vemos los primeros 20 registros para comprobar que las tres columnas han sido correctamente parametrizadas."
      ],
      "metadata": {
        "id": "Krf_nRkN5GEV"
      }
    },
    {
      "cell_type": "code",
      "source": [
        "data.head(20)"
      ],
      "metadata": {
        "id": "qwiOlcor5GbE",
        "outputId": "b6b3588b-dbdd-40d2-836e-b1df0d2848cc",
        "colab": {
          "base_uri": "https://localhost:8080/",
          "height": 676
        }
      },
      "execution_count": 13,
      "outputs": [
        {
          "output_type": "execute_result",
          "data": {
            "text/plain": [
              "          DATE  PRCP   TMAX  TMIN   RAIN\n",
              "0   1948-01-01  Poco  Media  Baja   True\n",
              "1   1948-01-02  Poco   Baja  Baja   True\n",
              "2   1948-01-03  Poco   Baja  Baja   True\n",
              "3   1948-01-04  Poco   Baja  Baja   True\n",
              "4   1948-01-05  Poco   Baja  Baja   True\n",
              "5   1948-01-06  Poco   Baja  Baja   True\n",
              "6   1948-01-07  Poco  Media  Baja   True\n",
              "7   1948-01-08  Poco   Baja  Baja   True\n",
              "8   1948-01-09  Poco  Media  Baja   True\n",
              "9   1948-01-10  Poco   Baja  Baja   True\n",
              "10  1948-01-11  Poco   Baja  Baja   True\n",
              "11  1948-01-12  Poco   Baja  Baja  False\n",
              "12  1948-01-13  Poco   Baja  Baja  False\n",
              "13  1948-01-14  Poco   Baja  Baja  False\n",
              "14  1948-01-15  Poco   Baja  Baja  False\n",
              "15  1948-01-16  Poco   Baja  Baja  False\n",
              "16  1948-01-17  Poco   Baja  Baja  False\n",
              "17  1948-01-18  Poco   Baja  Baja  False\n",
              "18  1948-01-19  Poco   Baja  Baja  False\n",
              "19  1948-01-20  Poco   Baja  Baja  False"
            ],
            "text/html": [
              "\n",
              "  <div id=\"df-19030fa8-e3f4-4102-a325-409904851a69\">\n",
              "    <div class=\"colab-df-container\">\n",
              "      <div>\n",
              "<style scoped>\n",
              "    .dataframe tbody tr th:only-of-type {\n",
              "        vertical-align: middle;\n",
              "    }\n",
              "\n",
              "    .dataframe tbody tr th {\n",
              "        vertical-align: top;\n",
              "    }\n",
              "\n",
              "    .dataframe thead th {\n",
              "        text-align: right;\n",
              "    }\n",
              "</style>\n",
              "<table border=\"1\" class=\"dataframe\">\n",
              "  <thead>\n",
              "    <tr style=\"text-align: right;\">\n",
              "      <th></th>\n",
              "      <th>DATE</th>\n",
              "      <th>PRCP</th>\n",
              "      <th>TMAX</th>\n",
              "      <th>TMIN</th>\n",
              "      <th>RAIN</th>\n",
              "    </tr>\n",
              "  </thead>\n",
              "  <tbody>\n",
              "    <tr>\n",
              "      <th>0</th>\n",
              "      <td>1948-01-01</td>\n",
              "      <td>Poco</td>\n",
              "      <td>Media</td>\n",
              "      <td>Baja</td>\n",
              "      <td>True</td>\n",
              "    </tr>\n",
              "    <tr>\n",
              "      <th>1</th>\n",
              "      <td>1948-01-02</td>\n",
              "      <td>Poco</td>\n",
              "      <td>Baja</td>\n",
              "      <td>Baja</td>\n",
              "      <td>True</td>\n",
              "    </tr>\n",
              "    <tr>\n",
              "      <th>2</th>\n",
              "      <td>1948-01-03</td>\n",
              "      <td>Poco</td>\n",
              "      <td>Baja</td>\n",
              "      <td>Baja</td>\n",
              "      <td>True</td>\n",
              "    </tr>\n",
              "    <tr>\n",
              "      <th>3</th>\n",
              "      <td>1948-01-04</td>\n",
              "      <td>Poco</td>\n",
              "      <td>Baja</td>\n",
              "      <td>Baja</td>\n",
              "      <td>True</td>\n",
              "    </tr>\n",
              "    <tr>\n",
              "      <th>4</th>\n",
              "      <td>1948-01-05</td>\n",
              "      <td>Poco</td>\n",
              "      <td>Baja</td>\n",
              "      <td>Baja</td>\n",
              "      <td>True</td>\n",
              "    </tr>\n",
              "    <tr>\n",
              "      <th>5</th>\n",
              "      <td>1948-01-06</td>\n",
              "      <td>Poco</td>\n",
              "      <td>Baja</td>\n",
              "      <td>Baja</td>\n",
              "      <td>True</td>\n",
              "    </tr>\n",
              "    <tr>\n",
              "      <th>6</th>\n",
              "      <td>1948-01-07</td>\n",
              "      <td>Poco</td>\n",
              "      <td>Media</td>\n",
              "      <td>Baja</td>\n",
              "      <td>True</td>\n",
              "    </tr>\n",
              "    <tr>\n",
              "      <th>7</th>\n",
              "      <td>1948-01-08</td>\n",
              "      <td>Poco</td>\n",
              "      <td>Baja</td>\n",
              "      <td>Baja</td>\n",
              "      <td>True</td>\n",
              "    </tr>\n",
              "    <tr>\n",
              "      <th>8</th>\n",
              "      <td>1948-01-09</td>\n",
              "      <td>Poco</td>\n",
              "      <td>Media</td>\n",
              "      <td>Baja</td>\n",
              "      <td>True</td>\n",
              "    </tr>\n",
              "    <tr>\n",
              "      <th>9</th>\n",
              "      <td>1948-01-10</td>\n",
              "      <td>Poco</td>\n",
              "      <td>Baja</td>\n",
              "      <td>Baja</td>\n",
              "      <td>True</td>\n",
              "    </tr>\n",
              "    <tr>\n",
              "      <th>10</th>\n",
              "      <td>1948-01-11</td>\n",
              "      <td>Poco</td>\n",
              "      <td>Baja</td>\n",
              "      <td>Baja</td>\n",
              "      <td>True</td>\n",
              "    </tr>\n",
              "    <tr>\n",
              "      <th>11</th>\n",
              "      <td>1948-01-12</td>\n",
              "      <td>Poco</td>\n",
              "      <td>Baja</td>\n",
              "      <td>Baja</td>\n",
              "      <td>False</td>\n",
              "    </tr>\n",
              "    <tr>\n",
              "      <th>12</th>\n",
              "      <td>1948-01-13</td>\n",
              "      <td>Poco</td>\n",
              "      <td>Baja</td>\n",
              "      <td>Baja</td>\n",
              "      <td>False</td>\n",
              "    </tr>\n",
              "    <tr>\n",
              "      <th>13</th>\n",
              "      <td>1948-01-14</td>\n",
              "      <td>Poco</td>\n",
              "      <td>Baja</td>\n",
              "      <td>Baja</td>\n",
              "      <td>False</td>\n",
              "    </tr>\n",
              "    <tr>\n",
              "      <th>14</th>\n",
              "      <td>1948-01-15</td>\n",
              "      <td>Poco</td>\n",
              "      <td>Baja</td>\n",
              "      <td>Baja</td>\n",
              "      <td>False</td>\n",
              "    </tr>\n",
              "    <tr>\n",
              "      <th>15</th>\n",
              "      <td>1948-01-16</td>\n",
              "      <td>Poco</td>\n",
              "      <td>Baja</td>\n",
              "      <td>Baja</td>\n",
              "      <td>False</td>\n",
              "    </tr>\n",
              "    <tr>\n",
              "      <th>16</th>\n",
              "      <td>1948-01-17</td>\n",
              "      <td>Poco</td>\n",
              "      <td>Baja</td>\n",
              "      <td>Baja</td>\n",
              "      <td>False</td>\n",
              "    </tr>\n",
              "    <tr>\n",
              "      <th>17</th>\n",
              "      <td>1948-01-18</td>\n",
              "      <td>Poco</td>\n",
              "      <td>Baja</td>\n",
              "      <td>Baja</td>\n",
              "      <td>False</td>\n",
              "    </tr>\n",
              "    <tr>\n",
              "      <th>18</th>\n",
              "      <td>1948-01-19</td>\n",
              "      <td>Poco</td>\n",
              "      <td>Baja</td>\n",
              "      <td>Baja</td>\n",
              "      <td>False</td>\n",
              "    </tr>\n",
              "    <tr>\n",
              "      <th>19</th>\n",
              "      <td>1948-01-20</td>\n",
              "      <td>Poco</td>\n",
              "      <td>Baja</td>\n",
              "      <td>Baja</td>\n",
              "      <td>False</td>\n",
              "    </tr>\n",
              "  </tbody>\n",
              "</table>\n",
              "</div>\n",
              "      <button class=\"colab-df-convert\" onclick=\"convertToInteractive('df-19030fa8-e3f4-4102-a325-409904851a69')\"\n",
              "              title=\"Convert this dataframe to an interactive table.\"\n",
              "              style=\"display:none;\">\n",
              "        \n",
              "  <svg xmlns=\"http://www.w3.org/2000/svg\" height=\"24px\"viewBox=\"0 0 24 24\"\n",
              "       width=\"24px\">\n",
              "    <path d=\"M0 0h24v24H0V0z\" fill=\"none\"/>\n",
              "    <path d=\"M18.56 5.44l.94 2.06.94-2.06 2.06-.94-2.06-.94-.94-2.06-.94 2.06-2.06.94zm-11 1L8.5 8.5l.94-2.06 2.06-.94-2.06-.94L8.5 2.5l-.94 2.06-2.06.94zm10 10l.94 2.06.94-2.06 2.06-.94-2.06-.94-.94-2.06-.94 2.06-2.06.94z\"/><path d=\"M17.41 7.96l-1.37-1.37c-.4-.4-.92-.59-1.43-.59-.52 0-1.04.2-1.43.59L10.3 9.45l-7.72 7.72c-.78.78-.78 2.05 0 2.83L4 21.41c.39.39.9.59 1.41.59.51 0 1.02-.2 1.41-.59l7.78-7.78 2.81-2.81c.8-.78.8-2.07 0-2.86zM5.41 20L4 18.59l7.72-7.72 1.47 1.35L5.41 20z\"/>\n",
              "  </svg>\n",
              "      </button>\n",
              "      \n",
              "  <style>\n",
              "    .colab-df-container {\n",
              "      display:flex;\n",
              "      flex-wrap:wrap;\n",
              "      gap: 12px;\n",
              "    }\n",
              "\n",
              "    .colab-df-convert {\n",
              "      background-color: #E8F0FE;\n",
              "      border: none;\n",
              "      border-radius: 50%;\n",
              "      cursor: pointer;\n",
              "      display: none;\n",
              "      fill: #1967D2;\n",
              "      height: 32px;\n",
              "      padding: 0 0 0 0;\n",
              "      width: 32px;\n",
              "    }\n",
              "\n",
              "    .colab-df-convert:hover {\n",
              "      background-color: #E2EBFA;\n",
              "      box-shadow: 0px 1px 2px rgba(60, 64, 67, 0.3), 0px 1px 3px 1px rgba(60, 64, 67, 0.15);\n",
              "      fill: #174EA6;\n",
              "    }\n",
              "\n",
              "    [theme=dark] .colab-df-convert {\n",
              "      background-color: #3B4455;\n",
              "      fill: #D2E3FC;\n",
              "    }\n",
              "\n",
              "    [theme=dark] .colab-df-convert:hover {\n",
              "      background-color: #434B5C;\n",
              "      box-shadow: 0px 1px 3px 1px rgba(0, 0, 0, 0.15);\n",
              "      filter: drop-shadow(0px 1px 2px rgba(0, 0, 0, 0.3));\n",
              "      fill: #FFFFFF;\n",
              "    }\n",
              "  </style>\n",
              "\n",
              "      <script>\n",
              "        const buttonEl =\n",
              "          document.querySelector('#df-19030fa8-e3f4-4102-a325-409904851a69 button.colab-df-convert');\n",
              "        buttonEl.style.display =\n",
              "          google.colab.kernel.accessAllowed ? 'block' : 'none';\n",
              "\n",
              "        async function convertToInteractive(key) {\n",
              "          const element = document.querySelector('#df-19030fa8-e3f4-4102-a325-409904851a69');\n",
              "          const dataTable =\n",
              "            await google.colab.kernel.invokeFunction('convertToInteractive',\n",
              "                                                     [key], {});\n",
              "          if (!dataTable) return;\n",
              "\n",
              "          const docLinkHtml = 'Like what you see? Visit the ' +\n",
              "            '<a target=\"_blank\" href=https://colab.research.google.com/notebooks/data_table.ipynb>data table notebook</a>'\n",
              "            + ' to learn more about interactive tables.';\n",
              "          element.innerHTML = '';\n",
              "          dataTable['output_type'] = 'display_data';\n",
              "          await google.colab.output.renderOutput(dataTable, element);\n",
              "          const docLink = document.createElement('div');\n",
              "          docLink.innerHTML = docLinkHtml;\n",
              "          element.appendChild(docLink);\n",
              "        }\n",
              "      </script>\n",
              "    </div>\n",
              "  </div>\n",
              "  "
            ]
          },
          "metadata": {},
          "execution_count": 13
        }
      ]
    },
    {
      "cell_type": "code",
      "source": [
        "data.value_counts(data['PRCP'])"
      ],
      "metadata": {
        "colab": {
          "base_uri": "https://localhost:8080/"
        },
        "id": "V0vsbFaq-Fqy",
        "outputId": "eb8158d6-7e86-491d-f49e-5f31aa629fb5"
      },
      "execution_count": 12,
      "outputs": [
        {
          "output_type": "execute_result",
          "data": {
            "text/plain": [
              "PRCP\n",
              "Poco      25189\n",
              "Normal      327\n",
              "Mucho        32\n",
              "dtype: int64"
            ]
          },
          "metadata": {},
          "execution_count": 12
        }
      ]
    },
    {
      "cell_type": "markdown",
      "source": [
        "#Clasificación basada en redes Bayesianas"
      ],
      "metadata": {
        "id": "r374xMja5WO6"
      }
    },
    {
      "cell_type": "markdown",
      "source": [
        "Contamos cuantos registros tienen como clasificación True y cuantos False y lo guardamos en variables, aunque luego solo utilizaremos las de True."
      ],
      "metadata": {
        "id": "iMiPZcAxl1dQ"
      }
    },
    {
      "cell_type": "code",
      "source": [
        "# Guardamos la frecuencia del valor 'True' y 'False' en variables\n",
        "total_rain_true  = data['RAIN'].value_counts()[True]\n",
        "total_rain_false = data['RAIN'].value_counts()[False]\n",
        "\n",
        "# Total de registros\n",
        "total_registros = total_rain_true + total_rain_false\n",
        "\n",
        "# P(True)\n",
        "prob_true = total_rain_true/total_registros\n",
        "total_rain_true"
      ],
      "metadata": {
        "colab": {
          "base_uri": "https://localhost:8080/"
        },
        "id": "0kOY1d3Dl0pZ",
        "outputId": "440ae4e0-a844-4b65-9e02-8b617922b8ac"
      },
      "execution_count": 30,
      "outputs": [
        {
          "output_type": "execute_result",
          "data": {
            "text/plain": [
              "10900"
            ]
          },
          "metadata": {},
          "execution_count": 30
        }
      ]
    },
    {
      "cell_type": "markdown",
      "source": [
        "Creamos un nuevo dataset que contiene solo los registros clasificados como 'True', para poder sacar el resto de frecuencias. "
      ],
      "metadata": {
        "id": "IH9NetVR5-vC"
      }
    },
    {
      "cell_type": "code",
      "source": [
        "data_rain_true = data.query('RAIN != @False')"
      ],
      "metadata": {
        "id": "84TkbGZS53WL"
      },
      "execution_count": 15,
      "outputs": []
    },
    {
      "cell_type": "markdown",
      "source": [
        "Frecuencias de la columna de precipitaciones de los registros clasificados como 'True' en el dataset.\n",
        "\n",
        "Son clasificados según las diferentes categorías que puede tomar, es decir, 'Poco', 'Normal' y 'Mucho'. "
      ],
      "metadata": {
        "id": "9sPoG8Ci6JWm"
      }
    },
    {
      "cell_type": "code",
      "source": [
        "# Contamos la frecuencia de los valores en la columna de clase 'PRCP' con 'RAIN' == 'True'\n",
        "\n",
        "total_p_PRCP = data_rain_true['PRCP'].value_counts()['Poco']\n",
        "total_n_PRCP = data_rain_true['PRCP'].value_counts()['Normal']\n",
        "total_m_PRCP = data_rain_true['PRCP'].value_counts()['Mucho']\n",
        "\n",
        "print(total_m_PRCP)"
      ],
      "metadata": {
        "colab": {
          "base_uri": "https://localhost:8080/"
        },
        "id": "mz3VwahkrSpq",
        "outputId": "a7771c2f-c7ab-4d13-b19e-367d19776428"
      },
      "execution_count": 16,
      "outputs": [
        {
          "output_type": "stream",
          "name": "stdout",
          "text": [
            "32\n"
          ]
        }
      ]
    },
    {
      "cell_type": "markdown",
      "source": [
        "Frecuencias de la columna de temperatura máxima de los registros clasificados como 'True' en el dataset.\n",
        "\n",
        "Son clasificados según las diferentes categorías que puede tomar, es decir, 'Baja', 'Media' y 'Alta'.\n"
      ],
      "metadata": {
        "id": "zPyEwqnb6hCZ"
      }
    },
    {
      "cell_type": "code",
      "source": [
        "# Guardamos la frecuencia de los valores 'Baja', 'Media' y 'Alta' en variables con 'RAIN' == 'True'\n",
        "total_b_TMAX = data_rain_true['TMAX'].value_counts()['Baja']\n",
        "total_m_TMAX = data_rain_true['TMAX'].value_counts()['Media']\n",
        "total_a_TMAX = data_rain_true['TMAX'].value_counts()['Alta']\n",
        "\n",
        "print(total_a_TMAX)"
      ],
      "metadata": {
        "colab": {
          "base_uri": "https://localhost:8080/"
        },
        "id": "S-TG2tkbshmt",
        "outputId": "753f3c5a-9051-495f-b343-c05b3a4af0f3"
      },
      "execution_count": 17,
      "outputs": [
        {
          "output_type": "stream",
          "name": "stdout",
          "text": [
            "621\n"
          ]
        }
      ]
    },
    {
      "cell_type": "markdown",
      "source": [
        "Vemos que no hay ningún registro de 'TMIN' alta en el dataset que contiene los registros clasificados como 'True', por lo que lo pondremos directamente como 0."
      ],
      "metadata": {
        "id": "gMWrupo364jr"
      }
    },
    {
      "cell_type": "code",
      "source": [
        "data_rain_true.value_counts(data_rain_true['TMIN'])"
      ],
      "metadata": {
        "id": "UFb5g4t1678n",
        "outputId": "31a2d262-1c0d-484f-e4e1-16b487186f11",
        "colab": {
          "base_uri": "https://localhost:8080/"
        }
      },
      "execution_count": 21,
      "outputs": [
        {
          "output_type": "execute_result",
          "data": {
            "text/plain": [
              "TMIN\n",
              "Baja     8617\n",
              "Media    2283\n",
              "dtype: int64"
            ]
          },
          "metadata": {},
          "execution_count": 21
        }
      ]
    },
    {
      "cell_type": "markdown",
      "source": [
        "Frecuencias de la columna de temperatura mínima de los registros clasificados como 'True' en el dataset.\n",
        "\n",
        "Son clasificados según las diferentes categorías que puede tomar, es decir, 'Baja', 'Media' y 'Alta'."
      ],
      "metadata": {
        "id": "eK0c1FXS7ZY7"
      }
    },
    {
      "cell_type": "code",
      "source": [
        "# Contamos la frecuencia de los valores en la columna de clase 'TMAX' con 'RAIN' == 'True'\n",
        "total_b_TMIN = data_rain_true['TMIN'].value_counts()['Baja']\n",
        "total_m_TMIN = data_rain_true['TMIN'].value_counts()['Media']\n",
        "# No hay ninguna 'Alta'\n",
        "total_a_TMIN = 0\n",
        "\n",
        "print(total_b_TMIN)"
      ],
      "metadata": {
        "colab": {
          "base_uri": "https://localhost:8080/"
        },
        "id": "hrdwuuG4shBb",
        "outputId": "b55506ed-b9c0-46a5-a665-01ab587ed559"
      },
      "execution_count": 23,
      "outputs": [
        {
          "output_type": "stream",
          "name": "stdout",
          "text": [
            "8617\n"
          ]
        }
      ]
    },
    {
      "cell_type": "markdown",
      "source": [
        "###Probamos como clasifica según las probabilidades generadas\n",
        "\n",
        "Creamos un dataset nuevo con los registros de los 3 días posteriores a los que ya tenemos en el dataset inicial, con sus correspondientes datos de Precipitaciones, Temperatura máxima y Temperatura mínima.\n",
        "\n",
        "Se corresponden con los días '15-12-2017', '16-12-2017' y '17-12-2017'."
      ],
      "metadata": {
        "id": "bDss8NFR7i-k"
      }
    },
    {
      "cell_type": "code",
      "source": [
        "# Creamos un dataframe con los nuevos registros\n",
        "data_test = pd.DataFrame({'Date': ['15-12-2017', '16-12-2017', '17-12-2017'], 'PRCP': ['Poco', 'Mucho', 'Normal'], 'TMAX': ['Media', 'Baja', 'Alta'], 'TMIN': ['Baja', 'Media', 'Baja']})"
      ],
      "metadata": {
        "id": "m-W0UuJ2tCBE"
      },
      "execution_count": 31,
      "outputs": []
    },
    {
      "cell_type": "markdown",
      "source": [
        "Utilizamos un bucle for que recorra el dataset nuevo. Se devuelve por cada registro, la probabilidad de que 'RAIN' == 'True', es decir, la probabilidad de que llueva."
      ],
      "metadata": {
        "id": "hoOvmsTE8KEp"
      }
    },
    {
      "cell_type": "code",
      "source": [
        "# Buscamos los valores de los atributos para poder realizar la clasificación basada en redes bayesianas\n",
        "\n",
        "# Iteramos sobre las filas del dataframe nuevo con un bucle for\n",
        "for indice, fila in data_test.iterrows():\n",
        "    print('\\nProbabilidades del día', fila['Date'],'\\n')\n",
        "    \n",
        "    # Probabilidades de 'RAIN == True' en función de las PRCP.\n",
        "    if data_test.loc[data_test.index == indice, 'PRCP'].apply(lambda x: 'Poco' in x).item():\n",
        "      probabilidad_PRCP = total_p_PRCP/total_rain_true\n",
        "    elif data_test.loc[data_test.index == indice, 'PRCP'].apply(lambda x: 'Normal' in x).item():\n",
        "      probabilidad_PRCP = total_n_PRCP/total_rain_true\n",
        "    else:\n",
        "      probabilidad_PRCP = total_m_PRCP/total_rain_true\n",
        "    print(probabilidad_PRCP)\n",
        "\n",
        "    # Probabilidades de 'RAIN == True' en función de la TMAX.\n",
        "    if data_test.loc[data_test.index == indice, 'TMAX'].apply(lambda x: 'Baja' in x).item():\n",
        "      probabilidad_TMAX = total_b_TMAX/total_rain_true\n",
        "    elif data_test.loc[data_test.index == indice, 'TMAX'].apply(lambda x: 'Media' in x).item():\n",
        "      probabilidad_TMAX = total_m_TMAX/total_rain_true\n",
        "    else:\n",
        "      probabilidad_TMAX = total_a_TMAX/total_rain_true\n",
        "    print(probabilidad_TMAX)\n",
        "\n",
        "    # Probabilidades de 'RAIN == True' en función de la TMIN.\n",
        "    if data_test.loc[data_test.index == indice, 'TMIN'].apply(lambda x: 'Baja' in x).item():\n",
        "      probabilidad_TMIN = total_b_TMIN/total_rain_true\n",
        "    elif data_test.loc[data_test.index == indice, 'TMIN'].apply(lambda x: 'Media' in x).item():\n",
        "      probabilidad_TMIN = total_m_TMIN/total_rain_true\n",
        "    else:\n",
        "      probabilidad_TMIN = total_a_TMIN/total_rain_true\n",
        "    print(probabilidad_TMIN)\n",
        "    print('\\nLa probabilidad de lluvia del día', fila['Date'],' es de', probabilidad_PRCP*probabilidad_TMAX*probabilidad_TMIN*prob_true,'\\n')"
      ],
      "metadata": {
        "colab": {
          "base_uri": "https://localhost:8080/"
        },
        "id": "sN6Jzu7x1eUq",
        "outputId": "25407684-f3fe-4ebd-adeb-9ee29f14b1dd"
      },
      "execution_count": 32,
      "outputs": [
        {
          "output_type": "stream",
          "name": "stdout",
          "text": [
            "\n",
            "Probabilidades del día 15-12-2017 \n",
            "\n",
            "0.9670642201834863\n",
            "0.6200917431192661\n",
            "0.7905504587155964\n",
            "\n",
            "La probabilidad de lluvia del día 15-12-2017  es de 0.20226020792085314 \n",
            "\n",
            "\n",
            "Probabilidades del día 16-12-2017 \n",
            "\n",
            "0.0029357798165137615\n",
            "0.3229357798165138\n",
            "0.20944954128440366\n",
            "\n",
            "La probabilidad de lluvia del día 16-12-2017  es de 8.47205272545984e-05 \n",
            "\n",
            "\n",
            "Probabilidades del día 17-12-2017 \n",
            "\n",
            "0.03\n",
            "0.056972477064220185\n",
            "0.7905504587155964\n",
            "\n",
            "La probabilidad de lluvia del día 17-12-2017  es de 0.0005764817224781415 \n",
            "\n"
          ]
        }
      ]
    },
    {
      "cell_type": "markdown",
      "source": [
        "###Conclusiones\n",
        "\n",
        "Lo comparamos con las etiquetas verdaderas para sacar conclusiones y el error de nuestro modelo.\n",
        "\n",
        "El error con aquellos registros que tienen como Precipitaciones la etiqueta 'Mucho', es muy grande. Esto es debido a que solo hay 32 registros con dicha etiqueta. Aunque como vemos a continuación en el conteo, todos pertenecen a registros donde SÍ ha llovido, la probabilidad de dicha precipitación es de 0.002936 (32/10900), es decir, un número muy pequeño, por lo que la probabilidad de que llueva que devuelve el modelo será también muy pequeña."
      ],
      "metadata": {
        "id": "vSRDTBjc8jB3"
      }
    },
    {
      "cell_type": "code",
      "source": [
        "data_rain_true.value_counts(data_rain_true['PRCP'])"
      ],
      "metadata": {
        "id": "PcDJe-gp9jkn",
        "outputId": "b4853568-38f7-46c8-bf14-c3c54a73deab",
        "colab": {
          "base_uri": "https://localhost:8080/"
        }
      },
      "execution_count": 27,
      "outputs": [
        {
          "output_type": "execute_result",
          "data": {
            "text/plain": [
              "PRCP\n",
              "Poco      10541\n",
              "Normal      327\n",
              "Mucho        32\n",
              "dtype: int64"
            ]
          },
          "metadata": {},
          "execution_count": 27
        }
      ]
    },
    {
      "cell_type": "code",
      "source": [
        "data.value_counts(data['PRCP'])"
      ],
      "metadata": {
        "id": "jJrkSJs-9B87",
        "outputId": "c32f5b6b-cd0e-4eb2-b581-ec86e9b09dac",
        "colab": {
          "base_uri": "https://localhost:8080/"
        }
      },
      "execution_count": 26,
      "outputs": [
        {
          "output_type": "execute_result",
          "data": {
            "text/plain": [
              "PRCP\n",
              "Poco      25189\n",
              "Normal      327\n",
              "Mucho        32\n",
              "dtype: int64"
            ]
          },
          "metadata": {},
          "execution_count": 26
        }
      ]
    }
  ]
}