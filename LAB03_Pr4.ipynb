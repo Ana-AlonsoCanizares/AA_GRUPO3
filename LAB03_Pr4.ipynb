{
  "nbformat": 4,
  "nbformat_minor": 0,
  "metadata": {
    "colab": {
      "provenance": [],
      "toc_visible": true,
      "authorship_tag": "ABX9TyN4rzx58m+URTYOXn5H5Ofc",
      "include_colab_link": true
    },
    "kernelspec": {
      "name": "python3",
      "display_name": "Python 3"
    },
    "language_info": {
      "name": "python"
    }
  },
  "cells": [
    {
      "cell_type": "markdown",
      "metadata": {
        "id": "view-in-github",
        "colab_type": "text"
      },
      "source": [
        "<a href=\"https://colab.research.google.com/github/Ana-AlonsoCanizares/AA_GRUPO3/blob/main/LAB03_Pr4.ipynb\" target=\"_parent\"><img src=\"https://colab.research.google.com/assets/colab-badge.svg\" alt=\"Open In Colab\"/></a>"
      ]
    },
    {
      "cell_type": "code",
      "execution_count": 87,
      "metadata": {
        "id": "sU8Gwbvzslyh"
      },
      "outputs": [],
      "source": [
        "# Importación de librerías a utilizar\n",
        "import pandas as pd\n",
        "import numpy as np\n",
        "import matplotlib.pyplot as plt\n",
        "import numpy as np\n",
        "from numpy.core.function_base import linspace\n",
        "from math import floor\n",
        "from math import ceil\n",
        "from numpy.ma.core import size\n",
        "\n",
        "from sklearn import tree\n",
        "from sklearn.datasets import load_iris\n",
        "import graphviz\n",
        "from sklearn.tree import DecisionTreeClassifier\n",
        "from sklearn.tree import export_text\n",
        "from sklearn.model_selection import train_test_split # Import train_test_split function\n",
        "from sklearn import metrics #Import scikit-learn metrics module for accuracy calculation"
      ]
    },
    {
      "cell_type": "markdown",
      "source": [
        "#Descarga y lectura de datos"
      ],
      "metadata": {
        "id": "CXE0fJy61wyG"
      }
    },
    {
      "cell_type": "code",
      "source": [
        "# Lectura de la base de datos\n",
        "filename = 'lluvias.csv'\n",
        "data = pd.read_csv(filename, sep = ',')"
      ],
      "metadata": {
        "id": "dDRksdlatTI8"
      },
      "execution_count": 88,
      "outputs": []
    },
    {
      "cell_type": "markdown",
      "source": [
        "###Revisión y limpieza de datos\n",
        "Observamos que tenemos un dataset con un total de 25551 registros y solo existen datos NaN en 3 de ellos, es decir, está bastante completo."
      ],
      "metadata": {
        "id": "cdoeEykg2FNG"
      }
    },
    {
      "cell_type": "code",
      "source": [
        "# Revisión de los datos\n",
        "print(data.shape)\n",
        "\n",
        "data.info()\n",
        "data.head(10)"
      ],
      "metadata": {
        "id": "UPpMtl0r15ZD",
        "outputId": "cca87b85-c59c-497d-ad6a-7bac281d33a5",
        "colab": {
          "base_uri": "https://localhost:8080/",
          "height": 603
        }
      },
      "execution_count": 89,
      "outputs": [
        {
          "output_type": "stream",
          "name": "stdout",
          "text": [
            "(25551, 5)\n",
            "<class 'pandas.core.frame.DataFrame'>\n",
            "RangeIndex: 25551 entries, 0 to 25550\n",
            "Data columns (total 5 columns):\n",
            " #   Column  Non-Null Count  Dtype  \n",
            "---  ------  --------------  -----  \n",
            " 0   DATE    25551 non-null  object \n",
            " 1   PRCP    25548 non-null  float64\n",
            " 2   TMAX    25551 non-null  int64  \n",
            " 3   TMIN    25551 non-null  int64  \n",
            " 4   RAIN    25548 non-null  object \n",
            "dtypes: float64(1), int64(2), object(2)\n",
            "memory usage: 998.2+ KB\n"
          ]
        },
        {
          "output_type": "execute_result",
          "data": {
            "text/plain": [
              "         DATE  PRCP  TMAX  TMIN  RAIN\n",
              "0  1948-01-01  0.47    51    42  True\n",
              "1  1948-01-02  0.59    45    36  True\n",
              "2  1948-01-03  0.42    45    35  True\n",
              "3  1948-01-04  0.31    45    34  True\n",
              "4  1948-01-05  0.17    45    32  True\n",
              "5  1948-01-06  0.44    48    39  True\n",
              "6  1948-01-07  0.41    50    40  True\n",
              "7  1948-01-08  0.04    48    35  True\n",
              "8  1948-01-09  0.12    50    31  True\n",
              "9  1948-01-10  0.74    43    34  True"
            ],
            "text/html": [
              "\n",
              "  <div id=\"df-a694288b-a7d5-488b-bf56-56ffcc01e2b2\">\n",
              "    <div class=\"colab-df-container\">\n",
              "      <div>\n",
              "<style scoped>\n",
              "    .dataframe tbody tr th:only-of-type {\n",
              "        vertical-align: middle;\n",
              "    }\n",
              "\n",
              "    .dataframe tbody tr th {\n",
              "        vertical-align: top;\n",
              "    }\n",
              "\n",
              "    .dataframe thead th {\n",
              "        text-align: right;\n",
              "    }\n",
              "</style>\n",
              "<table border=\"1\" class=\"dataframe\">\n",
              "  <thead>\n",
              "    <tr style=\"text-align: right;\">\n",
              "      <th></th>\n",
              "      <th>DATE</th>\n",
              "      <th>PRCP</th>\n",
              "      <th>TMAX</th>\n",
              "      <th>TMIN</th>\n",
              "      <th>RAIN</th>\n",
              "    </tr>\n",
              "  </thead>\n",
              "  <tbody>\n",
              "    <tr>\n",
              "      <th>0</th>\n",
              "      <td>1948-01-01</td>\n",
              "      <td>0.47</td>\n",
              "      <td>51</td>\n",
              "      <td>42</td>\n",
              "      <td>True</td>\n",
              "    </tr>\n",
              "    <tr>\n",
              "      <th>1</th>\n",
              "      <td>1948-01-02</td>\n",
              "      <td>0.59</td>\n",
              "      <td>45</td>\n",
              "      <td>36</td>\n",
              "      <td>True</td>\n",
              "    </tr>\n",
              "    <tr>\n",
              "      <th>2</th>\n",
              "      <td>1948-01-03</td>\n",
              "      <td>0.42</td>\n",
              "      <td>45</td>\n",
              "      <td>35</td>\n",
              "      <td>True</td>\n",
              "    </tr>\n",
              "    <tr>\n",
              "      <th>3</th>\n",
              "      <td>1948-01-04</td>\n",
              "      <td>0.31</td>\n",
              "      <td>45</td>\n",
              "      <td>34</td>\n",
              "      <td>True</td>\n",
              "    </tr>\n",
              "    <tr>\n",
              "      <th>4</th>\n",
              "      <td>1948-01-05</td>\n",
              "      <td>0.17</td>\n",
              "      <td>45</td>\n",
              "      <td>32</td>\n",
              "      <td>True</td>\n",
              "    </tr>\n",
              "    <tr>\n",
              "      <th>5</th>\n",
              "      <td>1948-01-06</td>\n",
              "      <td>0.44</td>\n",
              "      <td>48</td>\n",
              "      <td>39</td>\n",
              "      <td>True</td>\n",
              "    </tr>\n",
              "    <tr>\n",
              "      <th>6</th>\n",
              "      <td>1948-01-07</td>\n",
              "      <td>0.41</td>\n",
              "      <td>50</td>\n",
              "      <td>40</td>\n",
              "      <td>True</td>\n",
              "    </tr>\n",
              "    <tr>\n",
              "      <th>7</th>\n",
              "      <td>1948-01-08</td>\n",
              "      <td>0.04</td>\n",
              "      <td>48</td>\n",
              "      <td>35</td>\n",
              "      <td>True</td>\n",
              "    </tr>\n",
              "    <tr>\n",
              "      <th>8</th>\n",
              "      <td>1948-01-09</td>\n",
              "      <td>0.12</td>\n",
              "      <td>50</td>\n",
              "      <td>31</td>\n",
              "      <td>True</td>\n",
              "    </tr>\n",
              "    <tr>\n",
              "      <th>9</th>\n",
              "      <td>1948-01-10</td>\n",
              "      <td>0.74</td>\n",
              "      <td>43</td>\n",
              "      <td>34</td>\n",
              "      <td>True</td>\n",
              "    </tr>\n",
              "  </tbody>\n",
              "</table>\n",
              "</div>\n",
              "      <button class=\"colab-df-convert\" onclick=\"convertToInteractive('df-a694288b-a7d5-488b-bf56-56ffcc01e2b2')\"\n",
              "              title=\"Convert this dataframe to an interactive table.\"\n",
              "              style=\"display:none;\">\n",
              "        \n",
              "  <svg xmlns=\"http://www.w3.org/2000/svg\" height=\"24px\"viewBox=\"0 0 24 24\"\n",
              "       width=\"24px\">\n",
              "    <path d=\"M0 0h24v24H0V0z\" fill=\"none\"/>\n",
              "    <path d=\"M18.56 5.44l.94 2.06.94-2.06 2.06-.94-2.06-.94-.94-2.06-.94 2.06-2.06.94zm-11 1L8.5 8.5l.94-2.06 2.06-.94-2.06-.94L8.5 2.5l-.94 2.06-2.06.94zm10 10l.94 2.06.94-2.06 2.06-.94-2.06-.94-.94-2.06-.94 2.06-2.06.94z\"/><path d=\"M17.41 7.96l-1.37-1.37c-.4-.4-.92-.59-1.43-.59-.52 0-1.04.2-1.43.59L10.3 9.45l-7.72 7.72c-.78.78-.78 2.05 0 2.83L4 21.41c.39.39.9.59 1.41.59.51 0 1.02-.2 1.41-.59l7.78-7.78 2.81-2.81c.8-.78.8-2.07 0-2.86zM5.41 20L4 18.59l7.72-7.72 1.47 1.35L5.41 20z\"/>\n",
              "  </svg>\n",
              "      </button>\n",
              "      \n",
              "  <style>\n",
              "    .colab-df-container {\n",
              "      display:flex;\n",
              "      flex-wrap:wrap;\n",
              "      gap: 12px;\n",
              "    }\n",
              "\n",
              "    .colab-df-convert {\n",
              "      background-color: #E8F0FE;\n",
              "      border: none;\n",
              "      border-radius: 50%;\n",
              "      cursor: pointer;\n",
              "      display: none;\n",
              "      fill: #1967D2;\n",
              "      height: 32px;\n",
              "      padding: 0 0 0 0;\n",
              "      width: 32px;\n",
              "    }\n",
              "\n",
              "    .colab-df-convert:hover {\n",
              "      background-color: #E2EBFA;\n",
              "      box-shadow: 0px 1px 2px rgba(60, 64, 67, 0.3), 0px 1px 3px 1px rgba(60, 64, 67, 0.15);\n",
              "      fill: #174EA6;\n",
              "    }\n",
              "\n",
              "    [theme=dark] .colab-df-convert {\n",
              "      background-color: #3B4455;\n",
              "      fill: #D2E3FC;\n",
              "    }\n",
              "\n",
              "    [theme=dark] .colab-df-convert:hover {\n",
              "      background-color: #434B5C;\n",
              "      box-shadow: 0px 1px 3px 1px rgba(0, 0, 0, 0.15);\n",
              "      filter: drop-shadow(0px 1px 2px rgba(0, 0, 0, 0.3));\n",
              "      fill: #FFFFFF;\n",
              "    }\n",
              "  </style>\n",
              "\n",
              "      <script>\n",
              "        const buttonEl =\n",
              "          document.querySelector('#df-a694288b-a7d5-488b-bf56-56ffcc01e2b2 button.colab-df-convert');\n",
              "        buttonEl.style.display =\n",
              "          google.colab.kernel.accessAllowed ? 'block' : 'none';\n",
              "\n",
              "        async function convertToInteractive(key) {\n",
              "          const element = document.querySelector('#df-a694288b-a7d5-488b-bf56-56ffcc01e2b2');\n",
              "          const dataTable =\n",
              "            await google.colab.kernel.invokeFunction('convertToInteractive',\n",
              "                                                     [key], {});\n",
              "          if (!dataTable) return;\n",
              "\n",
              "          const docLinkHtml = 'Like what you see? Visit the ' +\n",
              "            '<a target=\"_blank\" href=https://colab.research.google.com/notebooks/data_table.ipynb>data table notebook</a>'\n",
              "            + ' to learn more about interactive tables.';\n",
              "          element.innerHTML = '';\n",
              "          dataTable['output_type'] = 'display_data';\n",
              "          await google.colab.output.renderOutput(dataTable, element);\n",
              "          const docLink = document.createElement('div');\n",
              "          docLink.innerHTML = docLinkHtml;\n",
              "          element.appendChild(docLink);\n",
              "        }\n",
              "      </script>\n",
              "    </div>\n",
              "  </div>\n",
              "  "
            ]
          },
          "metadata": {},
          "execution_count": 89
        }
      ]
    },
    {
      "cell_type": "markdown",
      "source": [
        "Decidimos eliminar los Nan ya que son solo 3 y no será significativo para el estudio que vamos a realizar. Y quitamos los duplicados, que como podemos observar, en este caso no los hay."
      ],
      "metadata": {
        "id": "Mf-1609f2cGx"
      }
    },
    {
      "cell_type": "code",
      "source": [
        "# Elimino los Nan.\n",
        "data = data.dropna()\n",
        "\n",
        "# Quitamos los duplicados\n",
        "data = data.drop_duplicates()\n",
        "\n",
        "data.info()"
      ],
      "metadata": {
        "id": "Vl6_bW0kudFB",
        "outputId": "9d4d6255-89ec-4857-b0d1-1677fd5aecd0",
        "colab": {
          "base_uri": "https://localhost:8080/"
        }
      },
      "execution_count": 90,
      "outputs": [
        {
          "output_type": "stream",
          "name": "stdout",
          "text": [
            "<class 'pandas.core.frame.DataFrame'>\n",
            "Int64Index: 25548 entries, 0 to 25550\n",
            "Data columns (total 5 columns):\n",
            " #   Column  Non-Null Count  Dtype  \n",
            "---  ------  --------------  -----  \n",
            " 0   DATE    25548 non-null  object \n",
            " 1   PRCP    25548 non-null  float64\n",
            " 2   TMAX    25548 non-null  int64  \n",
            " 3   TMIN    25548 non-null  int64  \n",
            " 4   RAIN    25548 non-null  object \n",
            "dtypes: float64(1), int64(2), object(2)\n",
            "memory usage: 1.2+ MB\n"
          ]
        }
      ]
    },
    {
      "cell_type": "markdown",
      "source": [
        "Procedemos a crear los diagramas de caja de los 3 datos que tenemos para interpretar si los datos están tomados de manera correcta.\n",
        "\n",
        "Comenzamos con el de las precipitaciones para ver los Outliers."
      ],
      "metadata": {
        "id": "7Q0osYCDCGkD"
      }
    },
    {
      "cell_type": "code",
      "source": [
        "# Vemos los outliers\n",
        "\n",
        "fig = plt.figure(figsize =(10, 7))\n",
        "\n",
        "# Crear gráfico\n",
        "ax = fig.add_subplot(111)\n",
        "ax.boxplot(data['PRCP'])\n",
        "ax.set_title('Precipitaciones')\n",
        "\n",
        "# Dibujar gráfico\n",
        "plt.show()"
      ],
      "metadata": {
        "id": "hK6MTL_KAGwC",
        "outputId": "0e5c951a-f3a4-418f-acd1-0af49ce7c780",
        "colab": {
          "base_uri": "https://localhost:8080/",
          "height": 622
        }
      },
      "execution_count": 91,
      "outputs": [
        {
          "output_type": "display_data",
          "data": {
            "text/plain": [
              "<Figure size 1000x700 with 1 Axes>"
            ],
            "image/png": "[encoded data removed]"
          },
          "metadata": {}
        }
      ]
    },
    {
      "cell_type": "markdown",
      "source": [
        "Tras buscar información de los datos de precipitaciones en Madrid en los últimos años, encontramos la siguiente gráfica.\n",
        "\n",
        "![image.png](data:image/png;base64,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)\n",
        "\n",
        "Donde un milímetro de agua equivale a vaciar un litro de líquido en un espacio de un metro cuadrado. Esta unidad que suena a medida de longitud, es la utilizada para medir la precipitación.\n",
        "\n",
        "Por lo que eliminaremos todos los registros cuyo valor de precipitación sea mayor que 2.25."
      ],
      "metadata": {
        "id": "Bxym5oSECRKO"
      }
    },
    {
      "cell_type": "code",
      "source": [
        "data.drop(data[(data['PRCP'] > 2.25)].index, inplace=True)"
      ],
      "metadata": {
        "id": "R29kRefIBrAt"
      },
      "execution_count": 92,
      "outputs": []
    },
    {
      "cell_type": "markdown",
      "source": [
        "Al observar el rango de los datos de la columna de las temperaturas, nos damos cuenta de que el valor máximo de la temperatura es muy alto, entendiendo que los registros están en grados Fahrenheit. \n",
        "\n",
        "Realizamos la conversión de todas las temperaturas a grados Celsius, con la fórmula de conversión."
      ],
      "metadata": {
        "id": "VSI1u2isCEcQ"
      }
    },
    {
      "cell_type": "code",
      "source": [
        "temp_max = data[\"TMAX\"].max()\n",
        "\n",
        "print('La temperatura máxima encontrada es', temp_max,'entendemos que estamos en Fº y queremos trabajar en Cº.')"
      ],
      "metadata": {
        "colab": {
          "base_uri": "https://localhost:8080/"
        },
        "id": "ThkKprt42yxt",
        "outputId": "2e80462f-425f-4528-8ec5-d97050179b00"
      },
      "execution_count": 93,
      "outputs": [
        {
          "output_type": "stream",
          "name": "stdout",
          "text": [
            "La temperatura máxima encontrada es 103 entendemos que estamos en Fº y queremos trabajar en Cº.\n"
          ]
        }
      ]
    },
    {
      "cell_type": "code",
      "source": [
        "data[\"TMIN\"] = (data.TMIN - 32)*(5/9)\n",
        "\n",
        "data[\"TMAX\"] = (data.TMAX - 32)*(5/9)\n",
        "\n",
        "temp_max = data[\"TMAX\"].max().round(2)\n",
        "\n",
        "temp_min = data[\"TMIN\"].min().round(2)\n",
        "\n",
        "print('La temperatura máxima en grados Celsius es', temp_max,'Cº.')"
      ],
      "metadata": {
        "colab": {
          "base_uri": "https://localhost:8080/"
        },
        "id": "oRdK9-tMzpuI",
        "outputId": "9be821ce-aa9a-4cb5-fa44-0f1fcfef5b60"
      },
      "execution_count": 94,
      "outputs": [
        {
          "output_type": "stream",
          "name": "stdout",
          "text": [
            "La temperatura máxima en grados Celsius es 39.44 Cº.\n"
          ]
        }
      ]
    },
    {
      "cell_type": "markdown",
      "source": [
        "Imprimimos los primeros 40 registros para comprobar que se hayan modificado correctamente."
      ],
      "metadata": {
        "id": "o-jOzuh93TlY"
      }
    },
    {
      "cell_type": "code",
      "source": [
        "data.head(40)"
      ],
      "metadata": {
        "colab": {
          "base_uri": "https://localhost:8080/",
          "height": 1000
        },
        "id": "0akcI_5Q6ZiL",
        "outputId": "56589afd-6101-46d5-cdb9-130c2fc5a0e0"
      },
      "execution_count": 95,
      "outputs": [
        {
          "output_type": "execute_result",
          "data": {
            "text/plain": [
              "          DATE  PRCP       TMAX      TMIN   RAIN\n",
              "0   1948-01-01  0.47  10.555556  5.555556   True\n",
              "1   1948-01-02  0.59   7.222222  2.222222   True\n",
              "2   1948-01-03  0.42   7.222222  1.666667   True\n",
              "3   1948-01-04  0.31   7.222222  1.111111   True\n",
              "4   1948-01-05  0.17   7.222222  0.000000   True\n",
              "5   1948-01-06  0.44   8.888889  3.888889   True\n",
              "6   1948-01-07  0.41  10.000000  4.444444   True\n",
              "7   1948-01-08  0.04   8.888889  1.666667   True\n",
              "8   1948-01-09  0.12  10.000000 -0.555556   True\n",
              "9   1948-01-10  0.74   6.111111  1.111111   True\n",
              "10  1948-01-11  0.01   5.555556  0.000000   True\n",
              "11  1948-01-12  0.00   5.000000 -3.333333  False\n",
              "12  1948-01-13  0.00   7.222222 -1.666667  False\n",
              "13  1948-01-14  0.00   3.333333 -3.333333  False\n",
              "14  1948-01-15  0.00   1.111111 -0.555556  False\n",
              "15  1948-01-16  0.00   1.111111 -2.222222  False\n",
              "16  1948-01-17  0.00   1.666667 -1.666667  False\n",
              "17  1948-01-18  0.00   0.555556 -2.222222  False\n",
              "18  1948-01-19  0.00   1.111111 -2.777778  False\n",
              "19  1948-01-20  0.00   2.222222 -1.666667  False\n",
              "20  1948-01-21  0.00   8.888889  0.000000  False\n",
              "21  1948-01-22  0.21   8.333333  6.666667   True\n",
              "22  1948-01-23  0.00   8.333333  6.111111  False\n",
              "23  1948-01-24  0.10   7.222222  1.111111   True\n",
              "24  1948-01-25  0.00   7.777778 -1.111111  False\n",
              "25  1948-01-26  0.00   7.222222  0.000000  False\n",
              "26  1948-01-27  0.00  11.666667  0.555556  False\n",
              "27  1948-01-28  0.00  11.666667 -3.888889  False\n",
              "28  1948-01-29  0.22   5.555556  1.111111   True\n",
              "29  1948-01-30  0.03   8.333333 -1.111111   True\n",
              "30  1948-01-31  0.21   1.666667 -2.777778   True\n",
              "31  1948-02-01  0.03   3.888889 -1.111111   True\n",
              "32  1948-02-02  0.00   6.111111 -3.333333  False\n",
              "33  1948-02-03  0.20   3.333333 -3.333333   True\n",
              "34  1948-02-04  0.14   3.888889 -0.555556   True\n",
              "35  1948-02-05  0.00   2.222222 -3.333333  False\n",
              "36  1948-02-06  0.00   6.111111 -6.666667  False\n",
              "37  1948-02-07  0.06   6.111111 -2.777778   True\n",
              "38  1948-02-08  0.56   6.666667  1.666667   True\n",
              "39  1948-02-09  0.00   7.222222  0.000000  False"
            ],
            "text/html": [
              "\n",
              "  <div id=\"df-5bc6f7f4-2ee2-479a-a543-6daa3429c535\">\n",
              "    <div class=\"colab-df-container\">\n",
              "      <div>\n",
              "<style scoped>\n",
              "    .dataframe tbody tr th:only-of-type {\n",
              "        vertical-align: middle;\n",
              "    }\n",
              "\n",
              "    .dataframe tbody tr th {\n",
              "        vertical-align: top;\n",
              "    }\n",
              "\n",
              "    .dataframe thead th {\n",
              "        text-align: right;\n",
              "    }\n",
              "</style>\n",
              "<table border=\"1\" class=\"dataframe\">\n",
              "  <thead>\n",
              "    <tr style=\"text-align: right;\">\n",
              "      <th></th>\n",
              "      <th>DATE</th>\n",
              "      <th>PRCP</th>\n",
              "      <th>TMAX</th>\n",
              "      <th>TMIN</th>\n",
              "      <th>RAIN</th>\n",
              "    </tr>\n",
              "  </thead>\n",
              "  <tbody>\n",
              "    <tr>\n",
              "      <th>0</th>\n",
              "      <td>1948-01-01</td>\n",
              "      <td>0.47</td>\n",
              "      <td>10.555556</td>\n",
              "      <td>5.555556</td>\n",
              "      <td>True</td>\n",
              "    </tr>\n",
              "    <tr>\n",
              "      <th>1</th>\n",
              "      <td>1948-01-02</td>\n",
              "      <td>0.59</td>\n",
              "      <td>7.222222</td>\n",
              "      <td>2.222222</td>\n",
              "      <td>True</td>\n",
              "    </tr>\n",
              "    <tr>\n",
              "      <th>2</th>\n",
              "      <td>1948-01-03</td>\n",
              "      <td>0.42</td>\n",
              "      <td>7.222222</td>\n",
              "      <td>1.666667</td>\n",
              "      <td>True</td>\n",
              "    </tr>\n",
              "    <tr>\n",
              "      <th>3</th>\n",
              "      <td>1948-01-04</td>\n",
              "      <td>0.31</td>\n",
              "      <td>7.222222</td>\n",
              "      <td>1.111111</td>\n",
              "      <td>True</td>\n",
              "    </tr>\n",
              "    <tr>\n",
              "      <th>4</th>\n",
              "      <td>1948-01-05</td>\n",
              "      <td>0.17</td>\n",
              "      <td>7.222222</td>\n",
              "      <td>0.000000</td>\n",
              "      <td>True</td>\n",
              "    </tr>\n",
              "    <tr>\n",
              "      <th>5</th>\n",
              "      <td>1948-01-06</td>\n",
              "      <td>0.44</td>\n",
              "      <td>8.888889</td>\n",
              "      <td>3.888889</td>\n",
              "      <td>True</td>\n",
              "    </tr>\n",
              "    <tr>\n",
              "      <th>6</th>\n",
              "      <td>1948-01-07</td>\n",
              "      <td>0.41</td>\n",
              "      <td>10.000000</td>\n",
              "      <td>4.444444</td>\n",
              "      <td>True</td>\n",
              "    </tr>\n",
              "    <tr>\n",
              "      <th>7</th>\n",
              "      <td>1948-01-08</td>\n",
              "      <td>0.04</td>\n",
              "      <td>8.888889</td>\n",
              "      <td>1.666667</td>\n",
              "      <td>True</td>\n",
              "    </tr>\n",
              "    <tr>\n",
              "      <th>8</th>\n",
              "      <td>1948-01-09</td>\n",
              "      <td>0.12</td>\n",
              "      <td>10.000000</td>\n",
              "      <td>-0.555556</td>\n",
              "      <td>True</td>\n",
              "    </tr>\n",
              "    <tr>\n",
              "      <th>9</th>\n",
              "      <td>1948-01-10</td>\n",
              "      <td>0.74</td>\n",
              "      <td>6.111111</td>\n",
              "      <td>1.111111</td>\n",
              "      <td>True</td>\n",
              "    </tr>\n",
              "    <tr>\n",
              "      <th>10</th>\n",
              "      <td>1948-01-11</td>\n",
              "      <td>0.01</td>\n",
              "      <td>5.555556</td>\n",
              "      <td>0.000000</td>\n",
              "      <td>True</td>\n",
              "    </tr>\n",
              "    <tr>\n",
              "      <th>11</th>\n",
              "      <td>1948-01-12</td>\n",
              "      <td>0.00</td>\n",
              "      <td>5.000000</td>\n",
              "      <td>-3.333333</td>\n",
              "      <td>False</td>\n",
              "    </tr>\n",
              "    <tr>\n",
              "      <th>12</th>\n",
              "      <td>1948-01-13</td>\n",
              "      <td>0.00</td>\n",
              "      <td>7.222222</td>\n",
              "      <td>-1.666667</td>\n",
              "      <td>False</td>\n",
              "    </tr>\n",
              "    <tr>\n",
              "      <th>13</th>\n",
              "      <td>1948-01-14</td>\n",
              "      <td>0.00</td>\n",
              "      <td>3.333333</td>\n",
              "      <td>-3.333333</td>\n",
              "      <td>False</td>\n",
              "    </tr>\n",
              "    <tr>\n",
              "      <th>14</th>\n",
              "      <td>1948-01-15</td>\n",
              "      <td>0.00</td>\n",
              "      <td>1.111111</td>\n",
              "      <td>-0.555556</td>\n",
              "      <td>False</td>\n",
              "    </tr>\n",
              "    <tr>\n",
              "      <th>15</th>\n",
              "      <td>1948-01-16</td>\n",
              "      <td>0.00</td>\n",
              "      <td>1.111111</td>\n",
              "      <td>-2.222222</td>\n",
              "      <td>False</td>\n",
              "    </tr>\n",
              "    <tr>\n",
              "      <th>16</th>\n",
              "      <td>1948-01-17</td>\n",
              "      <td>0.00</td>\n",
              "      <td>1.666667</td>\n",
              "      <td>-1.666667</td>\n",
              "      <td>False</td>\n",
              "    </tr>\n",
              "    <tr>\n",
              "      <th>17</th>\n",
              "      <td>1948-01-18</td>\n",
              "      <td>0.00</td>\n",
              "      <td>0.555556</td>\n",
              "      <td>-2.222222</td>\n",
              "      <td>False</td>\n",
              "    </tr>\n",
              "    <tr>\n",
              "      <th>18</th>\n",
              "      <td>1948-01-19</td>\n",
              "      <td>0.00</td>\n",
              "      <td>1.111111</td>\n",
              "      <td>-2.777778</td>\n",
              "      <td>False</td>\n",
              "    </tr>\n",
              "    <tr>\n",
              "      <th>19</th>\n",
              "      <td>1948-01-20</td>\n",
              "      <td>0.00</td>\n",
              "      <td>2.222222</td>\n",
              "      <td>-1.666667</td>\n",
              "      <td>False</td>\n",
              "    </tr>\n",
              "    <tr>\n",
              "      <th>20</th>\n",
              "      <td>1948-01-21</td>\n",
              "      <td>0.00</td>\n",
              "      <td>8.888889</td>\n",
              "      <td>0.000000</td>\n",
              "      <td>False</td>\n",
              "    </tr>\n",
              "    <tr>\n",
              "      <th>21</th>\n",
              "      <td>1948-01-22</td>\n",
              "      <td>0.21</td>\n",
              "      <td>8.333333</td>\n",
              "      <td>6.666667</td>\n",
              "      <td>True</td>\n",
              "    </tr>\n",
              "    <tr>\n",
              "      <th>22</th>\n",
              "      <td>1948-01-23</td>\n",
              "      <td>0.00</td>\n",
              "      <td>8.333333</td>\n",
              "      <td>6.111111</td>\n",
              "      <td>False</td>\n",
              "    </tr>\n",
              "    <tr>\n",
              "      <th>23</th>\n",
              "      <td>1948-01-24</td>\n",
              "      <td>0.10</td>\n",
              "      <td>7.222222</td>\n",
              "      <td>1.111111</td>\n",
              "      <td>True</td>\n",
              "    </tr>\n",
              "    <tr>\n",
              "      <th>24</th>\n",
              "      <td>1948-01-25</td>\n",
              "      <td>0.00</td>\n",
              "      <td>7.777778</td>\n",
              "      <td>-1.111111</td>\n",
              "      <td>False</td>\n",
              "    </tr>\n",
              "    <tr>\n",
              "      <th>25</th>\n",
              "      <td>1948-01-26</td>\n",
              "      <td>0.00</td>\n",
              "      <td>7.222222</td>\n",
              "      <td>0.000000</td>\n",
              "      <td>False</td>\n",
              "    </tr>\n",
              "    <tr>\n",
              "      <th>26</th>\n",
              "      <td>1948-01-27</td>\n",
              "      <td>0.00</td>\n",
              "      <td>11.666667</td>\n",
              "      <td>0.555556</td>\n",
              "      <td>False</td>\n",
              "    </tr>\n",
              "    <tr>\n",
              "      <th>27</th>\n",
              "      <td>1948-01-28</td>\n",
              "      <td>0.00</td>\n",
              "      <td>11.666667</td>\n",
              "      <td>-3.888889</td>\n",
              "      <td>False</td>\n",
              "    </tr>\n",
              "    <tr>\n",
              "      <th>28</th>\n",
              "      <td>1948-01-29</td>\n",
              "      <td>0.22</td>\n",
              "      <td>5.555556</td>\n",
              "      <td>1.111111</td>\n",
              "      <td>True</td>\n",
              "    </tr>\n",
              "    <tr>\n",
              "      <th>29</th>\n",
              "      <td>1948-01-30</td>\n",
              "      <td>0.03</td>\n",
              "      <td>8.333333</td>\n",
              "      <td>-1.111111</td>\n",
              "      <td>True</td>\n",
              "    </tr>\n",
              "    <tr>\n",
              "      <th>30</th>\n",
              "      <td>1948-01-31</td>\n",
              "      <td>0.21</td>\n",
              "      <td>1.666667</td>\n",
              "      <td>-2.777778</td>\n",
              "      <td>True</td>\n",
              "    </tr>\n",
              "    <tr>\n",
              "      <th>31</th>\n",
              "      <td>1948-02-01</td>\n",
              "      <td>0.03</td>\n",
              "      <td>3.888889</td>\n",
              "      <td>-1.111111</td>\n",
              "      <td>True</td>\n",
              "    </tr>\n",
              "    <tr>\n",
              "      <th>32</th>\n",
              "      <td>1948-02-02</td>\n",
              "      <td>0.00</td>\n",
              "      <td>6.111111</td>\n",
              "      <td>-3.333333</td>\n",
              "      <td>False</td>\n",
              "    </tr>\n",
              "    <tr>\n",
              "      <th>33</th>\n",
              "      <td>1948-02-03</td>\n",
              "      <td>0.20</td>\n",
              "      <td>3.333333</td>\n",
              "      <td>-3.333333</td>\n",
              "      <td>True</td>\n",
              "    </tr>\n",
              "    <tr>\n",
              "      <th>34</th>\n",
              "      <td>1948-02-04</td>\n",
              "      <td>0.14</td>\n",
              "      <td>3.888889</td>\n",
              "      <td>-0.555556</td>\n",
              "      <td>True</td>\n",
              "    </tr>\n",
              "    <tr>\n",
              "      <th>35</th>\n",
              "      <td>1948-02-05</td>\n",
              "      <td>0.00</td>\n",
              "      <td>2.222222</td>\n",
              "      <td>-3.333333</td>\n",
              "      <td>False</td>\n",
              "    </tr>\n",
              "    <tr>\n",
              "      <th>36</th>\n",
              "      <td>1948-02-06</td>\n",
              "      <td>0.00</td>\n",
              "      <td>6.111111</td>\n",
              "      <td>-6.666667</td>\n",
              "      <td>False</td>\n",
              "    </tr>\n",
              "    <tr>\n",
              "      <th>37</th>\n",
              "      <td>1948-02-07</td>\n",
              "      <td>0.06</td>\n",
              "      <td>6.111111</td>\n",
              "      <td>-2.777778</td>\n",
              "      <td>True</td>\n",
              "    </tr>\n",
              "    <tr>\n",
              "      <th>38</th>\n",
              "      <td>1948-02-08</td>\n",
              "      <td>0.56</td>\n",
              "      <td>6.666667</td>\n",
              "      <td>1.666667</td>\n",
              "      <td>True</td>\n",
              "    </tr>\n",
              "    <tr>\n",
              "      <th>39</th>\n",
              "      <td>1948-02-09</td>\n",
              "      <td>0.00</td>\n",
              "      <td>7.222222</td>\n",
              "      <td>0.000000</td>\n",
              "      <td>False</td>\n",
              "    </tr>\n",
              "  </tbody>\n",
              "</table>\n",
              "</div>\n",
              "      <button class=\"colab-df-convert\" onclick=\"convertToInteractive('df-5bc6f7f4-2ee2-479a-a543-6daa3429c535')\"\n",
              "              title=\"Convert this dataframe to an interactive table.\"\n",
              "              style=\"display:none;\">\n",
              "        \n",
              "  <svg xmlns=\"http://www.w3.org/2000/svg\" height=\"24px\"viewBox=\"0 0 24 24\"\n",
              "       width=\"24px\">\n",
              "    <path d=\"M0 0h24v24H0V0z\" fill=\"none\"/>\n",
              "    <path d=\"M18.56 5.44l.94 2.06.94-2.06 2.06-.94-2.06-.94-.94-2.06-.94 2.06-2.06.94zm-11 1L8.5 8.5l.94-2.06 2.06-.94-2.06-.94L8.5 2.5l-.94 2.06-2.06.94zm10 10l.94 2.06.94-2.06 2.06-.94-2.06-.94-.94-2.06-.94 2.06-2.06.94z\"/><path d=\"M17.41 7.96l-1.37-1.37c-.4-.4-.92-.59-1.43-.59-.52 0-1.04.2-1.43.59L10.3 9.45l-7.72 7.72c-.78.78-.78 2.05 0 2.83L4 21.41c.39.39.9.59 1.41.59.51 0 1.02-.2 1.41-.59l7.78-7.78 2.81-2.81c.8-.78.8-2.07 0-2.86zM5.41 20L4 18.59l7.72-7.72 1.47 1.35L5.41 20z\"/>\n",
              "  </svg>\n",
              "      </button>\n",
              "      \n",
              "  <style>\n",
              "    .colab-df-container {\n",
              "      display:flex;\n",
              "      flex-wrap:wrap;\n",
              "      gap: 12px;\n",
              "    }\n",
              "\n",
              "    .colab-df-convert {\n",
              "      background-color: #E8F0FE;\n",
              "      border: none;\n",
              "      border-radius: 50%;\n",
              "      cursor: pointer;\n",
              "      display: none;\n",
              "      fill: #1967D2;\n",
              "      height: 32px;\n",
              "      padding: 0 0 0 0;\n",
              "      width: 32px;\n",
              "    }\n",
              "\n",
              "    .colab-df-convert:hover {\n",
              "      background-color: #E2EBFA;\n",
              "      box-shadow: 0px 1px 2px rgba(60, 64, 67, 0.3), 0px 1px 3px 1px rgba(60, 64, 67, 0.15);\n",
              "      fill: #174EA6;\n",
              "    }\n",
              "\n",
              "    [theme=dark] .colab-df-convert {\n",
              "      background-color: #3B4455;\n",
              "      fill: #D2E3FC;\n",
              "    }\n",
              "\n",
              "    [theme=dark] .colab-df-convert:hover {\n",
              "      background-color: #434B5C;\n",
              "      box-shadow: 0px 1px 3px 1px rgba(0, 0, 0, 0.15);\n",
              "      filter: drop-shadow(0px 1px 2px rgba(0, 0, 0, 0.3));\n",
              "      fill: #FFFFFF;\n",
              "    }\n",
              "  </style>\n",
              "\n",
              "      <script>\n",
              "        const buttonEl =\n",
              "          document.querySelector('#df-5bc6f7f4-2ee2-479a-a543-6daa3429c535 button.colab-df-convert');\n",
              "        buttonEl.style.display =\n",
              "          google.colab.kernel.accessAllowed ? 'block' : 'none';\n",
              "\n",
              "        async function convertToInteractive(key) {\n",
              "          const element = document.querySelector('#df-5bc6f7f4-2ee2-479a-a543-6daa3429c535');\n",
              "          const dataTable =\n",
              "            await google.colab.kernel.invokeFunction('convertToInteractive',\n",
              "                                                     [key], {});\n",
              "          if (!dataTable) return;\n",
              "\n",
              "          const docLinkHtml = 'Like what you see? Visit the ' +\n",
              "            '<a target=\"_blank\" href=https://colab.research.google.com/notebooks/data_table.ipynb>data table notebook</a>'\n",
              "            + ' to learn more about interactive tables.';\n",
              "          element.innerHTML = '';\n",
              "          dataTable['output_type'] = 'display_data';\n",
              "          await google.colab.output.renderOutput(dataTable, element);\n",
              "          const docLink = document.createElement('div');\n",
              "          docLink.innerHTML = docLinkHtml;\n",
              "          element.appendChild(docLink);\n",
              "        }\n",
              "      </script>\n",
              "    </div>\n",
              "  </div>\n",
              "  "
            ]
          },
          "metadata": {},
          "execution_count": 95
        }
      ]
    },
    {
      "cell_type": "markdown",
      "source": [
        "Consideramos al observar el diagrama de caja de las temperaturas máximas, que los Outliers no se deben eliminar, pues son datos que pueden ser perfectamente correctos."
      ],
      "metadata": {
        "id": "9w0GOvy93dZC"
      }
    },
    {
      "cell_type": "code",
      "source": [
        "# Vemos los outliers\n",
        "\n",
        "fig = plt.figure(figsize =(10, 7))\n",
        "\n",
        "# Crear gráfico\n",
        "ax = fig.add_subplot(111)\n",
        "ax.boxplot(data['TMAX'])\n",
        "ax.set_title('Temperatura máxima')\n",
        "\n",
        "# Dibujar gráfico\n",
        "plt.show()"
      ],
      "metadata": {
        "id": "5nGwtyNnDF7-",
        "outputId": "07cb440f-2d9f-4dd0-a3c0-796247e8659b",
        "colab": {
          "base_uri": "https://localhost:8080/",
          "height": 622
        }
      },
      "execution_count": 96,
      "outputs": [
        {
          "output_type": "display_data",
          "data": {
            "text/plain": [
              "<Figure size 1000x700 with 1 Axes>"
            ],
            "image/png": "[encoded data removed]"
          },
          "metadata": {}
        }
      ]
    },
    {
      "cell_type": "markdown",
      "source": [
        "Al igual que en el diagrama anterior, nos quedaremos con todos los registros, pues los Outliers pueden considerarse datos correctos."
      ],
      "metadata": {
        "id": "E18fjdlgDqsD"
      }
    },
    {
      "cell_type": "code",
      "source": [
        "# Vemos los outliers\n",
        "\n",
        "fig = plt.figure(figsize =(10, 7))\n",
        "\n",
        "# Crear gráfico\n",
        "ax = fig.add_subplot(111)\n",
        "ax.boxplot(data['TMIN'])\n",
        "ax.set_title('Temperatura mínima')\n",
        "\n",
        "# Dibujar gráfico\n",
        "plt.show()"
      ],
      "metadata": {
        "id": "levE33GRDj9s",
        "outputId": "fcf6f47d-3e65-45e9-d695-34a8a1aaf034",
        "colab": {
          "base_uri": "https://localhost:8080/",
          "height": 622
        }
      },
      "execution_count": 97,
      "outputs": [
        {
          "output_type": "display_data",
          "data": {
            "text/plain": [
              "<Figure size 1000x700 with 1 Axes>"
            ],
            "image/png": "[encoded data removed]"
          },
          "metadata": {}
        }
      ]
    },
    {
      "cell_type": "markdown",
      "source": [
        "Categorizamos las columnas 'TMIN', 'TMAX' y 'PRCP' tal y como se pide en el enunciado del ejercicio.\n",
        "\n",
        "'TMIN' tomará las etiquetas 'Baja', 'Media' y 'Alta', en función de los rangos de temperatura < 10, 10 >= temeperatura <= 20 y temperatura > 20."
      ],
      "metadata": {
        "id": "80OsCtCgDfSz"
      }
    },
    {
      "cell_type": "code",
      "source": [
        "conditions = [\n",
        "          (data['TMIN'] < 10),\n",
        "          ((data['TMIN'] >= 10) & (data['TMIN'] <= 20)),\n",
        "          (data['TMIN'] > 20)\n",
        "             ]\n",
        "\n",
        "#define results\n",
        "results = ['Baja', 'Media', 'Alta']\n",
        "\n",
        "#create new column based on conditions in column1 and column2\n",
        "data['TMIN'] = np.select(conditions, results)"
      ],
      "metadata": {
        "id": "WI66E7MevC0P"
      },
      "execution_count": 98,
      "outputs": []
    },
    {
      "cell_type": "markdown",
      "source": [
        "'TMAX' se categoriza igual que 'TMIN'."
      ],
      "metadata": {
        "id": "5VGf331r4H3K"
      }
    },
    {
      "cell_type": "code",
      "source": [
        "conditions = [\n",
        "          (data['TMAX'] < 10),\n",
        "          ((data['TMAX'] >= 10) & (data['TMAX'] <= 20)),\n",
        "          (data['TMAX'] > 20)\n",
        "             ]\n",
        "\n",
        "#define results\n",
        "results = ['Baja', 'Media', 'Alta']\n",
        "\n",
        "#create new column based on conditions in column1 and column2\n",
        "data['TMAX'] = np.select(conditions, results)"
      ],
      "metadata": {
        "id": "SeIvld3aPahG"
      },
      "execution_count": 99,
      "outputs": []
    },
    {
      "cell_type": "code",
      "source": [
        "# Vemos cuantos registros de cada etiqueta tiene TMIN\n",
        "\n",
        "data.value_counts(data['TMIN'])"
      ],
      "metadata": {
        "colab": {
          "base_uri": "https://localhost:8080/"
        },
        "id": "NVxvlXpl8EHS",
        "outputId": "c2fd7c83-5a75-4066-b776-bb61c5f92ca6"
      },
      "execution_count": 100,
      "outputs": [
        {
          "output_type": "execute_result",
          "data": {
            "text/plain": [
              "TMIN\n",
              "Baja     16986\n",
              "Media     8537\n",
              "Alta         5\n",
              "dtype: int64"
            ]
          },
          "metadata": {},
          "execution_count": 100
        }
      ]
    },
    {
      "cell_type": "code",
      "source": [
        "conditions = [\n",
        "          (data['PRCP'] < 1),\n",
        "          ((data['PRCP'] >= 1) & (data['PRCP'] <= 2)),\n",
        "          (data['PRCP'] > 2)\n",
        "             ]\n",
        "\n",
        "#define results\n",
        "results = ['Poco', 'Normal', 'Mucho']\n",
        "\n",
        "#create new column based on conditions in column1 and column2\n",
        "data['PRCP'] = np.select(conditions, results)"
      ],
      "metadata": {
        "id": "kNitv1fB8znt"
      },
      "execution_count": 101,
      "outputs": []
    },
    {
      "cell_type": "markdown",
      "source": [
        "Vemos los primeros 20 registros para comprobar que las tres columnas han sido correctamente parametrizadas."
      ],
      "metadata": {
        "id": "Krf_nRkN5GEV"
      }
    },
    {
      "cell_type": "code",
      "source": [
        "data.head(20)"
      ],
      "metadata": {
        "id": "qwiOlcor5GbE",
        "outputId": "504f977c-8944-426f-c092-4b531431f581",
        "colab": {
          "base_uri": "https://localhost:8080/",
          "height": 676
        }
      },
      "execution_count": 102,
      "outputs": [
        {
          "output_type": "execute_result",
          "data": {
            "text/plain": [
              "          DATE  PRCP   TMAX  TMIN   RAIN\n",
              "0   1948-01-01  Poco  Media  Baja   True\n",
              "1   1948-01-02  Poco   Baja  Baja   True\n",
              "2   1948-01-03  Poco   Baja  Baja   True\n",
              "3   1948-01-04  Poco   Baja  Baja   True\n",
              "4   1948-01-05  Poco   Baja  Baja   True\n",
              "5   1948-01-06  Poco   Baja  Baja   True\n",
              "6   1948-01-07  Poco  Media  Baja   True\n",
              "7   1948-01-08  Poco   Baja  Baja   True\n",
              "8   1948-01-09  Poco  Media  Baja   True\n",
              "9   1948-01-10  Poco   Baja  Baja   True\n",
              "10  1948-01-11  Poco   Baja  Baja   True\n",
              "11  1948-01-12  Poco   Baja  Baja  False\n",
              "12  1948-01-13  Poco   Baja  Baja  False\n",
              "13  1948-01-14  Poco   Baja  Baja  False\n",
              "14  1948-01-15  Poco   Baja  Baja  False\n",
              "15  1948-01-16  Poco   Baja  Baja  False\n",
              "16  1948-01-17  Poco   Baja  Baja  False\n",
              "17  1948-01-18  Poco   Baja  Baja  False\n",
              "18  1948-01-19  Poco   Baja  Baja  False\n",
              "19  1948-01-20  Poco   Baja  Baja  False"
            ],
            "text/html": [
              "\n",
              "  <div id=\"df-50b2df5d-0e08-4a13-9c8c-c35f89660766\">\n",
              "    <div class=\"colab-df-container\">\n",
              "      <div>\n",
              "<style scoped>\n",
              "    .dataframe tbody tr th:only-of-type {\n",
              "        vertical-align: middle;\n",
              "    }\n",
              "\n",
              "    .dataframe tbody tr th {\n",
              "        vertical-align: top;\n",
              "    }\n",
              "\n",
              "    .dataframe thead th {\n",
              "        text-align: right;\n",
              "    }\n",
              "</style>\n",
              "<table border=\"1\" class=\"dataframe\">\n",
              "  <thead>\n",
              "    <tr style=\"text-align: right;\">\n",
              "      <th></th>\n",
              "      <th>DATE</th>\n",
              "      <th>PRCP</th>\n",
              "      <th>TMAX</th>\n",
              "      <th>TMIN</th>\n",
              "      <th>RAIN</th>\n",
              "    </tr>\n",
              "  </thead>\n",
              "  <tbody>\n",
              "    <tr>\n",
              "      <th>0</th>\n",
              "      <td>1948-01-01</td>\n",
              "      <td>Poco</td>\n",
              "      <td>Media</td>\n",
              "      <td>Baja</td>\n",
              "      <td>True</td>\n",
              "    </tr>\n",
              "    <tr>\n",
              "      <th>1</th>\n",
              "      <td>1948-01-02</td>\n",
              "      <td>Poco</td>\n",
              "      <td>Baja</td>\n",
              "      <td>Baja</td>\n",
              "      <td>True</td>\n",
              "    </tr>\n",
              "    <tr>\n",
              "      <th>2</th>\n",
              "      <td>1948-01-03</td>\n",
              "      <td>Poco</td>\n",
              "      <td>Baja</td>\n",
              "      <td>Baja</td>\n",
              "      <td>True</td>\n",
              "    </tr>\n",
              "    <tr>\n",
              "      <th>3</th>\n",
              "      <td>1948-01-04</td>\n",
              "      <td>Poco</td>\n",
              "      <td>Baja</td>\n",
              "      <td>Baja</td>\n",
              "      <td>True</td>\n",
              "    </tr>\n",
              "    <tr>\n",
              "      <th>4</th>\n",
              "      <td>1948-01-05</td>\n",
              "      <td>Poco</td>\n",
              "      <td>Baja</td>\n",
              "      <td>Baja</td>\n",
              "      <td>True</td>\n",
              "    </tr>\n",
              "    <tr>\n",
              "      <th>5</th>\n",
              "      <td>1948-01-06</td>\n",
              "      <td>Poco</td>\n",
              "      <td>Baja</td>\n",
              "      <td>Baja</td>\n",
              "      <td>True</td>\n",
              "    </tr>\n",
              "    <tr>\n",
              "      <th>6</th>\n",
              "      <td>1948-01-07</td>\n",
              "      <td>Poco</td>\n",
              "      <td>Media</td>\n",
              "      <td>Baja</td>\n",
              "      <td>True</td>\n",
              "    </tr>\n",
              "    <tr>\n",
              "      <th>7</th>\n",
              "      <td>1948-01-08</td>\n",
              "      <td>Poco</td>\n",
              "      <td>Baja</td>\n",
              "      <td>Baja</td>\n",
              "      <td>True</td>\n",
              "    </tr>\n",
              "    <tr>\n",
              "      <th>8</th>\n",
              "      <td>1948-01-09</td>\n",
              "      <td>Poco</td>\n",
              "      <td>Media</td>\n",
              "      <td>Baja</td>\n",
              "      <td>True</td>\n",
              "    </tr>\n",
              "    <tr>\n",
              "      <th>9</th>\n",
              "      <td>1948-01-10</td>\n",
              "      <td>Poco</td>\n",
              "      <td>Baja</td>\n",
              "      <td>Baja</td>\n",
              "      <td>True</td>\n",
              "    </tr>\n",
              "    <tr>\n",
              "      <th>10</th>\n",
              "      <td>1948-01-11</td>\n",
              "      <td>Poco</td>\n",
              "      <td>Baja</td>\n",
              "      <td>Baja</td>\n",
              "      <td>True</td>\n",
              "    </tr>\n",
              "    <tr>\n",
              "      <th>11</th>\n",
              "      <td>1948-01-12</td>\n",
              "      <td>Poco</td>\n",
              "      <td>Baja</td>\n",
              "      <td>Baja</td>\n",
              "      <td>False</td>\n",
              "    </tr>\n",
              "    <tr>\n",
              "      <th>12</th>\n",
              "      <td>1948-01-13</td>\n",
              "      <td>Poco</td>\n",
              "      <td>Baja</td>\n",
              "      <td>Baja</td>\n",
              "      <td>False</td>\n",
              "    </tr>\n",
              "    <tr>\n",
              "      <th>13</th>\n",
              "      <td>1948-01-14</td>\n",
              "      <td>Poco</td>\n",
              "      <td>Baja</td>\n",
              "      <td>Baja</td>\n",
              "      <td>False</td>\n",
              "    </tr>\n",
              "    <tr>\n",
              "      <th>14</th>\n",
              "      <td>1948-01-15</td>\n",
              "      <td>Poco</td>\n",
              "      <td>Baja</td>\n",
              "      <td>Baja</td>\n",
              "      <td>False</td>\n",
              "    </tr>\n",
              "    <tr>\n",
              "      <th>15</th>\n",
              "      <td>1948-01-16</td>\n",
              "      <td>Poco</td>\n",
              "      <td>Baja</td>\n",
              "      <td>Baja</td>\n",
              "      <td>False</td>\n",
              "    </tr>\n",
              "    <tr>\n",
              "      <th>16</th>\n",
              "      <td>1948-01-17</td>\n",
              "      <td>Poco</td>\n",
              "      <td>Baja</td>\n",
              "      <td>Baja</td>\n",
              "      <td>False</td>\n",
              "    </tr>\n",
              "    <tr>\n",
              "      <th>17</th>\n",
              "      <td>1948-01-18</td>\n",
              "      <td>Poco</td>\n",
              "      <td>Baja</td>\n",
              "      <td>Baja</td>\n",
              "      <td>False</td>\n",
              "    </tr>\n",
              "    <tr>\n",
              "      <th>18</th>\n",
              "      <td>1948-01-19</td>\n",
              "      <td>Poco</td>\n",
              "      <td>Baja</td>\n",
              "      <td>Baja</td>\n",
              "      <td>False</td>\n",
              "    </tr>\n",
              "    <tr>\n",
              "      <th>19</th>\n",
              "      <td>1948-01-20</td>\n",
              "      <td>Poco</td>\n",
              "      <td>Baja</td>\n",
              "      <td>Baja</td>\n",
              "      <td>False</td>\n",
              "    </tr>\n",
              "  </tbody>\n",
              "</table>\n",
              "</div>\n",
              "      <button class=\"colab-df-convert\" onclick=\"convertToInteractive('df-50b2df5d-0e08-4a13-9c8c-c35f89660766')\"\n",
              "              title=\"Convert this dataframe to an interactive table.\"\n",
              "              style=\"display:none;\">\n",
              "        \n",
              "  <svg xmlns=\"http://www.w3.org/2000/svg\" height=\"24px\"viewBox=\"0 0 24 24\"\n",
              "       width=\"24px\">\n",
              "    <path d=\"M0 0h24v24H0V0z\" fill=\"none\"/>\n",
              "    <path d=\"M18.56 5.44l.94 2.06.94-2.06 2.06-.94-2.06-.94-.94-2.06-.94 2.06-2.06.94zm-11 1L8.5 8.5l.94-2.06 2.06-.94-2.06-.94L8.5 2.5l-.94 2.06-2.06.94zm10 10l.94 2.06.94-2.06 2.06-.94-2.06-.94-.94-2.06-.94 2.06-2.06.94z\"/><path d=\"M17.41 7.96l-1.37-1.37c-.4-.4-.92-.59-1.43-.59-.52 0-1.04.2-1.43.59L10.3 9.45l-7.72 7.72c-.78.78-.78 2.05 0 2.83L4 21.41c.39.39.9.59 1.41.59.51 0 1.02-.2 1.41-.59l7.78-7.78 2.81-2.81c.8-.78.8-2.07 0-2.86zM5.41 20L4 18.59l7.72-7.72 1.47 1.35L5.41 20z\"/>\n",
              "  </svg>\n",
              "      </button>\n",
              "      \n",
              "  <style>\n",
              "    .colab-df-container {\n",
              "      display:flex;\n",
              "      flex-wrap:wrap;\n",
              "      gap: 12px;\n",
              "    }\n",
              "\n",
              "    .colab-df-convert {\n",
              "      background-color: #E8F0FE;\n",
              "      border: none;\n",
              "      border-radius: 50%;\n",
              "      cursor: pointer;\n",
              "      display: none;\n",
              "      fill: #1967D2;\n",
              "      height: 32px;\n",
              "      padding: 0 0 0 0;\n",
              "      width: 32px;\n",
              "    }\n",
              "\n",
              "    .colab-df-convert:hover {\n",
              "      background-color: #E2EBFA;\n",
              "      box-shadow: 0px 1px 2px rgba(60, 64, 67, 0.3), 0px 1px 3px 1px rgba(60, 64, 67, 0.15);\n",
              "      fill: #174EA6;\n",
              "    }\n",
              "\n",
              "    [theme=dark] .colab-df-convert {\n",
              "      background-color: #3B4455;\n",
              "      fill: #D2E3FC;\n",
              "    }\n",
              "\n",
              "    [theme=dark] .colab-df-convert:hover {\n",
              "      background-color: #434B5C;\n",
              "      box-shadow: 0px 1px 3px 1px rgba(0, 0, 0, 0.15);\n",
              "      filter: drop-shadow(0px 1px 2px rgba(0, 0, 0, 0.3));\n",
              "      fill: #FFFFFF;\n",
              "    }\n",
              "  </style>\n",
              "\n",
              "      <script>\n",
              "        const buttonEl =\n",
              "          document.querySelector('#df-50b2df5d-0e08-4a13-9c8c-c35f89660766 button.colab-df-convert');\n",
              "        buttonEl.style.display =\n",
              "          google.colab.kernel.accessAllowed ? 'block' : 'none';\n",
              "\n",
              "        async function convertToInteractive(key) {\n",
              "          const element = document.querySelector('#df-50b2df5d-0e08-4a13-9c8c-c35f89660766');\n",
              "          const dataTable =\n",
              "            await google.colab.kernel.invokeFunction('convertToInteractive',\n",
              "                                                     [key], {});\n",
              "          if (!dataTable) return;\n",
              "\n",
              "          const docLinkHtml = 'Like what you see? Visit the ' +\n",
              "            '<a target=\"_blank\" href=https://colab.research.google.com/notebooks/data_table.ipynb>data table notebook</a>'\n",
              "            + ' to learn more about interactive tables.';\n",
              "          element.innerHTML = '';\n",
              "          dataTable['output_type'] = 'display_data';\n",
              "          await google.colab.output.renderOutput(dataTable, element);\n",
              "          const docLink = document.createElement('div');\n",
              "          docLink.innerHTML = docLinkHtml;\n",
              "          element.appendChild(docLink);\n",
              "        }\n",
              "      </script>\n",
              "    </div>\n",
              "  </div>\n",
              "  "
            ]
          },
          "metadata": {},
          "execution_count": 102
        }
      ]
    },
    {
      "cell_type": "markdown",
      "source": [
        "#Clasificación basada en redes Bayesianas"
      ],
      "metadata": {
        "id": "r374xMja5WO6"
      }
    },
    {
      "cell_type": "markdown",
      "source": [
        "Contamos cuantos registros tienen como clasificación True y cuantos False y lo guardamos en variables, aunque luego solo utilizaremos las de True.\n",
        "\n",
        "Creamos un dataset de entrenamiento que contiene el 98% de los registros del dataset original y otro de test que contiene el 2% restante para poder calcular el error y la precisión al final.\n",
        "\n",
        "Hemos decidido coger estos porcentajes para que la compilación de la función no tarde mucho tiempo."
      ],
      "metadata": {
        "id": "iMiPZcAxl1dQ"
      }
    },
    {
      "cell_type": "code",
      "source": [
        "data_train, data_test = train_test_split(data, random_state=104, test_size=0.02, shuffle=True)\n",
        "\n",
        "# Guardamos la frecuencia del valor 'True' y 'False' en variables\n",
        "total_rain_true  = data_train['RAIN'].value_counts()[True]\n",
        "total_rain_false = data_train['RAIN'].value_counts()[False]\n",
        "\n",
        "# Total de registros\n",
        "total_registros = total_rain_true + total_rain_false\n",
        "\n",
        "# P(True)\n",
        "prob_true = total_rain_true/total_registros"
      ],
      "metadata": {
        "id": "0kOY1d3Dl0pZ"
      },
      "execution_count": 103,
      "outputs": []
    },
    {
      "cell_type": "markdown",
      "source": [
        "Creamos un nuevo dataset que contiene solo los registros clasificados como 'True', para poder sacar el resto de frecuencias."
      ],
      "metadata": {
        "id": "IH9NetVR5-vC"
      }
    },
    {
      "cell_type": "code",
      "source": [
        "data_rain_true = data_train.query('RAIN != @False')\n",
        "data_rain_true"
      ],
      "metadata": {
        "id": "84TkbGZS53WL",
        "colab": {
          "base_uri": "https://localhost:8080/",
          "height": 423
        },
        "outputId": "7725017b-9c5e-405e-d98c-8d6bf191bded"
      },
      "execution_count": 104,
      "outputs": [
        {
          "output_type": "execute_result",
          "data": {
            "text/plain": [
              "             DATE  PRCP   TMAX   TMIN  RAIN\n",
              "2186   1953-12-26  Poco   Baja   Baja  True\n",
              "16822  1994-01-21  Poco  Media   Baja  True\n",
              "10237  1976-01-11  Poco   Baja   Baja  True\n",
              "8941   1972-06-24  Poco  Media  Media  True\n",
              "9428   1973-10-24  Poco  Media   Baja  True\n",
              "...           ...   ...    ...    ...   ...\n",
              "16933  1994-05-12  Poco  Media   Baja  True\n",
              "7900   1969-08-18  Poco   Alta  Media  True\n",
              "21652  2007-04-13  Poco  Media   Baja  True\n",
              "25253  2017-02-20  Poco   Baja   Baja  True\n",
              "22231  2008-11-12  Poco  Media  Media  True\n",
              "\n",
              "[10680 rows x 5 columns]"
            ],
            "text/html": [
              "\n",
              "  <div id=\"df-ad49245b-fa3e-4083-9405-18cd13f7d60e\">\n",
              "    <div class=\"colab-df-container\">\n",
              "      <div>\n",
              "<style scoped>\n",
              "    .dataframe tbody tr th:only-of-type {\n",
              "        vertical-align: middle;\n",
              "    }\n",
              "\n",
              "    .dataframe tbody tr th {\n",
              "        vertical-align: top;\n",
              "    }\n",
              "\n",
              "    .dataframe thead th {\n",
              "        text-align: right;\n",
              "    }\n",
              "</style>\n",
              "<table border=\"1\" class=\"dataframe\">\n",
              "  <thead>\n",
              "    <tr style=\"text-align: right;\">\n",
              "      <th></th>\n",
              "      <th>DATE</th>\n",
              "      <th>PRCP</th>\n",
              "      <th>TMAX</th>\n",
              "      <th>TMIN</th>\n",
              "      <th>RAIN</th>\n",
              "    </tr>\n",
              "  </thead>\n",
              "  <tbody>\n",
              "    <tr>\n",
              "      <th>2186</th>\n",
              "      <td>1953-12-26</td>\n",
              "      <td>Poco</td>\n",
              "      <td>Baja</td>\n",
              "      <td>Baja</td>\n",
              "      <td>True</td>\n",
              "    </tr>\n",
              "    <tr>\n",
              "      <th>16822</th>\n",
              "      <td>1994-01-21</td>\n",
              "      <td>Poco</td>\n",
              "      <td>Media</td>\n",
              "      <td>Baja</td>\n",
              "      <td>True</td>\n",
              "    </tr>\n",
              "    <tr>\n",
              "      <th>10237</th>\n",
              "      <td>1976-01-11</td>\n",
              "      <td>Poco</td>\n",
              "      <td>Baja</td>\n",
              "      <td>Baja</td>\n",
              "      <td>True</td>\n",
              "    </tr>\n",
              "    <tr>\n",
              "      <th>8941</th>\n",
              "      <td>1972-06-24</td>\n",
              "      <td>Poco</td>\n",
              "      <td>Media</td>\n",
              "      <td>Media</td>\n",
              "      <td>True</td>\n",
              "    </tr>\n",
              "    <tr>\n",
              "      <th>9428</th>\n",
              "      <td>1973-10-24</td>\n",
              "      <td>Poco</td>\n",
              "      <td>Media</td>\n",
              "      <td>Baja</td>\n",
              "      <td>True</td>\n",
              "    </tr>\n",
              "    <tr>\n",
              "      <th>...</th>\n",
              "      <td>...</td>\n",
              "      <td>...</td>\n",
              "      <td>...</td>\n",
              "      <td>...</td>\n",
              "      <td>...</td>\n",
              "    </tr>\n",
              "    <tr>\n",
              "      <th>16933</th>\n",
              "      <td>1994-05-12</td>\n",
              "      <td>Poco</td>\n",
              "      <td>Media</td>\n",
              "      <td>Baja</td>\n",
              "      <td>True</td>\n",
              "    </tr>\n",
              "    <tr>\n",
              "      <th>7900</th>\n",
              "      <td>1969-08-18</td>\n",
              "      <td>Poco</td>\n",
              "      <td>Alta</td>\n",
              "      <td>Media</td>\n",
              "      <td>True</td>\n",
              "    </tr>\n",
              "    <tr>\n",
              "      <th>21652</th>\n",
              "      <td>2007-04-13</td>\n",
              "      <td>Poco</td>\n",
              "      <td>Media</td>\n",
              "      <td>Baja</td>\n",
              "      <td>True</td>\n",
              "    </tr>\n",
              "    <tr>\n",
              "      <th>25253</th>\n",
              "      <td>2017-02-20</td>\n",
              "      <td>Poco</td>\n",
              "      <td>Baja</td>\n",
              "      <td>Baja</td>\n",
              "      <td>True</td>\n",
              "    </tr>\n",
              "    <tr>\n",
              "      <th>22231</th>\n",
              "      <td>2008-11-12</td>\n",
              "      <td>Poco</td>\n",
              "      <td>Media</td>\n",
              "      <td>Media</td>\n",
              "      <td>True</td>\n",
              "    </tr>\n",
              "  </tbody>\n",
              "</table>\n",
              "<p>10680 rows × 5 columns</p>\n",
              "</div>\n",
              "      <button class=\"colab-df-convert\" onclick=\"convertToInteractive('df-ad49245b-fa3e-4083-9405-18cd13f7d60e')\"\n",
              "              title=\"Convert this dataframe to an interactive table.\"\n",
              "              style=\"display:none;\">\n",
              "        \n",
              "  <svg xmlns=\"http://www.w3.org/2000/svg\" height=\"24px\"viewBox=\"0 0 24 24\"\n",
              "       width=\"24px\">\n",
              "    <path d=\"M0 0h24v24H0V0z\" fill=\"none\"/>\n",
              "    <path d=\"M18.56 5.44l.94 2.06.94-2.06 2.06-.94-2.06-.94-.94-2.06-.94 2.06-2.06.94zm-11 1L8.5 8.5l.94-2.06 2.06-.94-2.06-.94L8.5 2.5l-.94 2.06-2.06.94zm10 10l.94 2.06.94-2.06 2.06-.94-2.06-.94-.94-2.06-.94 2.06-2.06.94z\"/><path d=\"M17.41 7.96l-1.37-1.37c-.4-.4-.92-.59-1.43-.59-.52 0-1.04.2-1.43.59L10.3 9.45l-7.72 7.72c-.78.78-.78 2.05 0 2.83L4 21.41c.39.39.9.59 1.41.59.51 0 1.02-.2 1.41-.59l7.78-7.78 2.81-2.81c.8-.78.8-2.07 0-2.86zM5.41 20L4 18.59l7.72-7.72 1.47 1.35L5.41 20z\"/>\n",
              "  </svg>\n",
              "      </button>\n",
              "      \n",
              "  <style>\n",
              "    .colab-df-container {\n",
              "      display:flex;\n",
              "      flex-wrap:wrap;\n",
              "      gap: 12px;\n",
              "    }\n",
              "\n",
              "    .colab-df-convert {\n",
              "      background-color: #E8F0FE;\n",
              "      border: none;\n",
              "      border-radius: 50%;\n",
              "      cursor: pointer;\n",
              "      display: none;\n",
              "      fill: #1967D2;\n",
              "      height: 32px;\n",
              "      padding: 0 0 0 0;\n",
              "      width: 32px;\n",
              "    }\n",
              "\n",
              "    .colab-df-convert:hover {\n",
              "      background-color: #E2EBFA;\n",
              "      box-shadow: 0px 1px 2px rgba(60, 64, 67, 0.3), 0px 1px 3px 1px rgba(60, 64, 67, 0.15);\n",
              "      fill: #174EA6;\n",
              "    }\n",
              "\n",
              "    [theme=dark] .colab-df-convert {\n",
              "      background-color: #3B4455;\n",
              "      fill: #D2E3FC;\n",
              "    }\n",
              "\n",
              "    [theme=dark] .colab-df-convert:hover {\n",
              "      background-color: #434B5C;\n",
              "      box-shadow: 0px 1px 3px 1px rgba(0, 0, 0, 0.15);\n",
              "      filter: drop-shadow(0px 1px 2px rgba(0, 0, 0, 0.3));\n",
              "      fill: #FFFFFF;\n",
              "    }\n",
              "  </style>\n",
              "\n",
              "      <script>\n",
              "        const buttonEl =\n",
              "          document.querySelector('#df-ad49245b-fa3e-4083-9405-18cd13f7d60e button.colab-df-convert');\n",
              "        buttonEl.style.display =\n",
              "          google.colab.kernel.accessAllowed ? 'block' : 'none';\n",
              "\n",
              "        async function convertToInteractive(key) {\n",
              "          const element = document.querySelector('#df-ad49245b-fa3e-4083-9405-18cd13f7d60e');\n",
              "          const dataTable =\n",
              "            await google.colab.kernel.invokeFunction('convertToInteractive',\n",
              "                                                     [key], {});\n",
              "          if (!dataTable) return;\n",
              "\n",
              "          const docLinkHtml = 'Like what you see? Visit the ' +\n",
              "            '<a target=\"_blank\" href=https://colab.research.google.com/notebooks/data_table.ipynb>data table notebook</a>'\n",
              "            + ' to learn more about interactive tables.';\n",
              "          element.innerHTML = '';\n",
              "          dataTable['output_type'] = 'display_data';\n",
              "          await google.colab.output.renderOutput(dataTable, element);\n",
              "          const docLink = document.createElement('div');\n",
              "          docLink.innerHTML = docLinkHtml;\n",
              "          element.appendChild(docLink);\n",
              "        }\n",
              "      </script>\n",
              "    </div>\n",
              "  </div>\n",
              "  "
            ]
          },
          "metadata": {},
          "execution_count": 104
        }
      ]
    },
    {
      "cell_type": "markdown",
      "source": [
        "### Creación de las funciones\n"
      ],
      "metadata": {
        "id": "hoOvmsTE8KEp"
      }
    },
    {
      "cell_type": "markdown",
      "source": [
        "#### Función Clasificación Bayesiana\n",
        "Creamos una función llamada clasificacion_bayesiana, que recopilará cada una de las probabilidades necesarias para poder finalmente calcular la probabilidad de que llueva, es decir, 'RAIN' == True del registro dado.\n",
        "\n",
        "La función, devuelve dicha probabilidad.\n",
        "\n",
        "En caso de que el registro no se encuentre en la base de datos de entrenamiento, decidimos que la probabilidad de lluvia sea cero, pues no podemos predecirla, pues devolvería infinito."
      ],
      "metadata": {
        "id": "rB1VRQv6PxjN"
      }
    },
    {
      "cell_type": "code",
      "source": [
        "# Iteramos sobre las filas del dataframe nuevo con un bucle for\n",
        "def clasificacion_bayesiana(registro, data_set, probabilidad_lluvia):\n",
        "\n",
        "  probabilidad_PRCP = data_set['PRCP'].value_counts()[registro['PRCP']]/total_rain_true\n",
        "\n",
        " # Probabilidades de 'RAIN == True' en función de la TMAX.\n",
        "  probabilidad_TMAX = data_set['TMAX'].value_counts()[registro['TMAX']]/total_rain_true\n",
        "\n",
        "  # Probabilidades de 'RAIN == True' en función de la TMIN.\n",
        "  if registro['TMIN'] == 'Alta':\n",
        "    probabilidad_TMIN = 0\n",
        "  else:\n",
        "    probabilidad_TMIN = data_set['TMIN'].value_counts()[registro['TMIN']]/total_rain_true\n",
        "\n",
        "  # Definimos la probabilidad del registro\n",
        "  probabilidad_registro = 0\n",
        "\n",
        "  registro = registro.to_frame().T.reset_index()\n",
        "  columnas_comparar = ['PRCP', 'TMAX','TMIN']\n",
        "\n",
        "  # Seleccionamos solo las columnas de interés del DataFrame original\n",
        "  seleccion = data_train.loc[:, columnas_comparar]\n",
        "  sel2 = registro.loc[:,columnas_comparar]\n",
        "\n",
        "  # Crea el nuevo DataFrame y registro con solo las columnas seleccionadas\n",
        "  nuevo_df = pd.DataFrame(seleccion)\n",
        "  nuevo_registro = pd.DataFrame(sel2)\n",
        "  \n",
        "  # Frecuencia del registro en el dataframe de entrenamiento\n",
        "  prob = len(nuevo_df[nuevo_df['PRCP'].apply(lambda x: x in nuevo_registro['PRCP'][0]) \n",
        "           & nuevo_df['TMAX'].apply(lambda x: x in nuevo_registro['TMAX'][0])\n",
        "           & nuevo_df['TMIN'].apply(lambda x: x in nuevo_registro['TMIN'][0])])\n",
        "\n",
        "  # Probabilidad del registro\n",
        "  probabilidad_registro = prob/len(data_train)\n",
        "\n",
        "  # Contemplamos que el registro no se haya dado NUNCA\n",
        "  if probabilidad_registro == 0:\n",
        "    print('\\nNo hay registros con esta configuración en el dataframe de entrenamiento.')\n",
        "    probabilidad_lluvia.append(0)\n",
        "  else:\n",
        "    probabilidad_lluvia.append((probabilidad_PRCP*probabilidad_TMAX*probabilidad_TMIN*prob_true)/probabilidad_registro)\n",
        "  \n",
        "\n",
        "  return probabilidad_lluvia"
      ],
      "metadata": {
        "id": "ZjrD9WHrS4bb"
      },
      "execution_count": 105,
      "outputs": []
    },
    {
      "cell_type": "markdown",
      "source": [
        "####Función de error\n",
        "Devuelve el error del dataset completo pasado, tomando True como 1 y False como 0.\n",
        "El error viene dado por la suma de los valores absoluto de la resta del valor real (0 ó 1) y el valor predicho (la probabilidad devuelta), entre el número de registros que contiene dicho data set."
      ],
      "metadata": {
        "id": "tTzCP5HJPiSw"
      }
    },
    {
      "cell_type": "code",
      "source": [
        "def f_errores(errores, registro, probabilidad_lluvia):\n",
        "\n",
        "  if registro['RAIN'] == True:\n",
        "    errores.append(abs(1-probabilidad_lluvia))\n",
        "  else:\n",
        "    errores.append(abs(0-probabilidad_lluvia))\n",
        "\n",
        "  suma = 0\n",
        "  for valor in errores:\n",
        "    suma += valor\n",
        "  \n",
        "  error = suma/len(errores)\n",
        "  return error"
      ],
      "metadata": {
        "id": "cFbiR1-Bjp02"
      },
      "execution_count": 106,
      "outputs": []
    },
    {
      "cell_type": "markdown",
      "source": [
        "#### Función Tasa de Acierto\n",
        "Esta función nos devuelve la precisión del modelo, a partir de la tasa de acierto del mismo.\n",
        "\n",
        "Se saca dividiendo los aciertos entre el total de registros predichos."
      ],
      "metadata": {
        "id": "6PYLhUTZQXEg"
      }
    },
    {
      "cell_type": "code",
      "source": [
        "def t_aciertos(aciertos, registro, punto_corte,probabilidad_lluvia):\n",
        "\n",
        "  if registro['RAIN'] == True:\n",
        "    if probabilidad_lluvia > punto_corte:\n",
        "      aciertos.append(1)\n",
        "    else:\n",
        "      aciertos.append(0)\n",
        "  else:\n",
        "    if probabilidad_lluvia <= punto_corte:\n",
        "      aciertos.append(1)\n",
        "    else:\n",
        "      aciertos.append(0)\n",
        "  suma = 0\n",
        "  for valor in aciertos:\n",
        "    suma += valor\n",
        "  \n",
        "  tasa_aciertos = suma/len(aciertos)\n",
        "  return tasa_aciertos"
      ],
      "metadata": {
        "id": "bxZzbYH958_c"
      },
      "execution_count": 107,
      "outputs": []
    },
    {
      "cell_type": "markdown",
      "source": [
        "###Probamos como clasifica según las probabilidades generadas\n",
        "\n",
        "Creamos un dataset nuevo con los registros de los 3 días posteriores a los que ya tenemos en el dataset inicial, con sus correspondientes datos de Precipitaciones, Temperatura máxima y Temperatura mínima. Que crearemos manualmente.\n",
        "\n",
        "Se corresponden con los días '15-12-2017', '16-12-2017' y '17-12-2017'."
      ],
      "metadata": {
        "id": "CLKsanlKPMm-"
      }
    },
    {
      "cell_type": "code",
      "source": [
        "# Creamos un dataframe con los nuevos registros\n",
        "registros_nuevos = pd.DataFrame({'DATE': ['15-12-2017', '16-12-2017', '17-12-2017'], 'PRCP': ['Poco', 'Mucho', 'Normal'], 'TMAX': ['Media', 'Baja', 'Media'], 'TMIN': ['Baja', 'Media', 'Baja'], 'RAIN': [False, True, True]})\n",
        "\n",
        "registros_nuevos.dtypes"
      ],
      "metadata": {
        "colab": {
          "base_uri": "https://localhost:8080/"
        },
        "id": "o581sSFkPQtr",
        "outputId": "b642b3fd-6d2c-415c-e397-3685dfdb916e"
      },
      "execution_count": 108,
      "outputs": [
        {
          "output_type": "execute_result",
          "data": {
            "text/plain": [
              "DATE    object\n",
              "PRCP    object\n",
              "TMAX    object\n",
              "TMIN    object\n",
              "RAIN      bool\n",
              "dtype: object"
            ]
          },
          "metadata": {},
          "execution_count": 108
        }
      ]
    },
    {
      "cell_type": "markdown",
      "source": [
        "Llamamos a la función de Clasificación Bayesiana para que nos devuelva las 3 probabilidades de los nuevos registros."
      ],
      "metadata": {
        "id": "GbeAJvlyRD3f"
      }
    },
    {
      "cell_type": "code",
      "source": [
        "probabilidad = []\n",
        "for i in range(len(registros_nuevos)):\n",
        "  probabilidad = clasificacion_bayesiana(registros_nuevos.iloc[i], data_rain_true,probabilidad)\n",
        "  print('\\nLa probabilidad de lluvia del día', registros_nuevos.iloc[i]['DATE'],' es de', probabilidad[i],'\\n')\n",
        "\n",
        "print(probabilidad)"
      ],
      "metadata": {
        "colab": {
          "base_uri": "https://localhost:8080/"
        },
        "id": "1TLWt5vpwd1K",
        "outputId": "2130e321-3b21-40f6-fc62-60a59154ae07"
      },
      "execution_count": 109,
      "outputs": [
        {
          "output_type": "stream",
          "name": "stdout",
          "text": [
            "\n",
            "La probabilidad de lluvia del día 15-12-2017  es de 0.5348709866397553 \n",
            "\n",
            "\n",
            "No hay registros con esta configuración en el dataframe de entrenamiento.\n",
            "\n",
            "La probabilidad de lluvia del día 16-12-2017  es de 0 \n",
            "\n",
            "\n",
            "La probabilidad de lluvia del día 17-12-2017  es de 0.8693846112382244 \n",
            "\n",
            "[0.5348709866397553, 0, 0.8693846112382244]\n"
          ]
        }
      ]
    },
    {
      "cell_type": "markdown",
      "source": [
        "Llamamos a la función de tasa de acierto para obtener cuanto de preciso es nuestro modelo."
      ],
      "metadata": {
        "id": "_6HbqePCSfgy"
      }
    },
    {
      "cell_type": "code",
      "source": [
        "aciertos = []\n",
        "\n",
        "for i in range(len(registros_nuevos)):\n",
        "  tasa_acierto = t_aciertos(aciertos,registros_nuevos.iloc[i],0.5, probabilidad[i])\n",
        "print('\\nLa tasa de acierto al calcular la probabilidad de lluvia de los registros nuevos es de', tasa_acierto,'.\\n')"
      ],
      "metadata": {
        "id": "QhEwn2pJ6c83",
        "outputId": "8dd75bf6-b392-46e1-afdb-846bab1bd5f8",
        "colab": {
          "base_uri": "https://localhost:8080/"
        }
      },
      "execution_count": 110,
      "outputs": [
        {
          "output_type": "stream",
          "name": "stdout",
          "text": [
            "\n",
            "La tasa de acierto al calcular la probabilidad de lluvia de los registros nuevos es de 0.3333333333333333 .\n",
            "\n"
          ]
        }
      ]
    },
    {
      "cell_type": "markdown",
      "source": [
        "Llamamos a la función Errores para obtener el función de los registros nuevos."
      ],
      "metadata": {
        "id": "QDmTQtFUSmrd"
      }
    },
    {
      "cell_type": "code",
      "source": [
        "errores = []\n",
        "\n",
        "for i in range(len(registros_nuevos)):\n",
        "  error = f_errores(errores,registros_nuevos.iloc[i], probabilidad[i])\n",
        "print('\\nEl error al calcular la probabilidad de lluvia de los registros nuevos es de', error,'.\\n')"
      ],
      "metadata": {
        "colab": {
          "base_uri": "https://localhost:8080/"
        },
        "id": "sIPB_1XO2iiI",
        "outputId": "d32ba7ad-1b90-418b-b87f-dd5077ba4920"
      },
      "execution_count": 111,
      "outputs": [
        {
          "output_type": "stream",
          "name": "stdout",
          "text": [
            "\n",
            "El error al calcular la probabilidad de lluvia de los registros nuevos es de 0.5551621251338437 .\n",
            "\n"
          ]
        }
      ]
    },
    {
      "cell_type": "markdown",
      "source": [
        "### Cálculo del error\n",
        "\n",
        "Tomando el dataframe de validación podremos sacar cuál es la precisión y el error del modelo dado un número mayor de registros."
      ],
      "metadata": {
        "id": "IthWahuoETaN"
      }
    },
    {
      "cell_type": "code",
      "source": [
        "len(data_test)"
      ],
      "metadata": {
        "colab": {
          "base_uri": "https://localhost:8080/"
        },
        "id": "81COIdBVTH_x",
        "outputId": "8bc5318e-8091-4812-8472-193aca80dd51"
      },
      "execution_count": 112,
      "outputs": [
        {
          "output_type": "execute_result",
          "data": {
            "text/plain": [
              "511"
            ]
          },
          "metadata": {},
          "execution_count": 112
        }
      ]
    },
    {
      "cell_type": "markdown",
      "source": [
        "En concreto 511 registros."
      ],
      "metadata": {
        "id": "naWPNUpzTQ4z"
      }
    },
    {
      "cell_type": "code",
      "source": [
        "prob_test = []\n",
        "for i in range(len(data_test)):\n",
        "  probabilidad_test = clasificacion_bayesiana(data_test.iloc[i], data_rain_true, prob_test)\n",
        "print(probabilidad_test)"
      ],
      "metadata": {
        "colab": {
          "base_uri": "https://localhost:8080/"
        },
        "id": "B7flbABjEgAw",
        "outputId": "abad09b9-a552-441a-ce17-0de7650c1bb5"
      },
      "execution_count": 114,
      "outputs": [
        {
          "output_type": "stream",
          "name": "stdout",
          "text": [
            "[0.5348709866397553, 0.02249151541194062, 0.44943865853806825, 0.44943865853806825, 0.4570975493009893, 0.02249151541194062, 0.4733740540781393, 0.5348709866397553, 0.5348709866397553, 0.5348709866397553, 0.5348709866397553, 0.4570975493009893, 0.5348709866397553, 0.5348709866397553, 0.02249151541194062, 0.4733740540781393, 0.5348709866397553, 0.02249151541194062, 0.5348709866397553, 0.4733740540781393, 0.02249151541194062, 0.02249151541194062, 0.5348709866397553, 0.44943865853806825, 0.44943865853806825, 0.4733740540781393, 0.02249151541194062, 0.5348709866397553, 0.4733740540781393, 0.5348709866397553, 0.5348709866397553, 0.4733740540781393, 0.5348709866397553, 0.5348709866397553, 0.02249151541194062, 0.4733740540781393, 0.44943865853806825, 0.5348709866397553, 0.02249151541194062, 0.5348709866397553, 0.4570975493009893, 0.02249151541194062, 0.5348709866397553, 0.5348709866397553, 0.02249151541194062, 0.5348709866397553, 0.44943865853806825, 0.5348709866397553, 0.4733740540781393, 0.4733740540781393, 0.02249151541194062, 0.5348709866397553, 0.5348709866397553, 0.4733740540781393, 0.44943865853806825, 0.44943865853806825, 0.02249151541194062, 0.5348709866397553, 0.5348709866397553, 0.44943865853806825, 0.5348709866397553, 0.4570975493009893, 0.4733740540781393, 0.5348709866397553, 0.5348709866397553, 0.5348709866397553, 0.02249151541194062, 0.4570975493009893, 0.5348709866397553, 0.44943865853806825, 0.5348709866397553, 0.5348709866397553, 0.02249151541194062, 0.44943865853806825, 0.02249151541194062, 0.02249151541194062, 0.4733740540781393, 0.02249151541194062, 0.8693846112382244, 0.44943865853806825, 0.5348709866397553, 0.44943865853806825, 0.8693846112382244, 0.5348709866397553, 0.44943865853806825, 0.4570975493009893, 0.5348709866397553, 0.5348709866397553, 0.5348709866397553, 0.02249151541194062, 0.02249151541194062, 0.02249151541194062, 0.02249151541194062, 0.4733740540781393, 0.44943865853806825, 0.44943865853806825, 0.02249151541194062, 0.4733740540781393, 0.5348709866397553, 0.5348709866397553, 0.4570975493009893, 0.5348709866397553, 0.4733740540781393, 0.5348709866397553, 0.44943865853806825, 0.5348709866397553, 0.5348709866397553, 0.5348709866397553, 0.5348709866397553, 0.4733740540781393, 0.5348709866397553, 0.02249151541194062, 0.44943865853806825, 0.5348709866397553, 0.44943865853806825, 0.5348709866397553, 0.5348709866397553, 0.5348709866397553, 0.4733740540781393, 0.44943865853806825, 0.8693846112382244, 0.02249151541194062, 0.4733740540781393, 0.5348709866397553, 0.4733740540781393, 0.02249151541194062, 0.44943865853806825, 0.4733740540781393, 0.5348709866397553, 0.44943865853806825, 0.5348709866397553, 0.44943865853806825, 0.02249151541194062, 0.02249151541194062, 0.02249151541194062, 0.02249151541194062, 0.4570975493009893, 0.5348709866397553, 0.44943865853806825, 0.5348709866397553, 0.02249151541194062, 0.4733740540781393, 0.4733740540781393, 0.5348709866397553, 0.44943865853806825, 0.4733740540781393, 0.44943865853806825, 0.5348709866397553, 0.02249151541194062, 0.5348709866397553, 0.02249151541194062, 0.44943865853806825, 0.02249151541194062, 0.02249151541194062, 0.02249151541194062, 0.44943865853806825, 0.44943865853806825, 0.44943865853806825, 0.02249151541194062, 0.02249151541194062, 0.4733740540781393, 0.5348709866397553, 0.5348709866397553, 0.44943865853806825, 0.5348709866397553, 0.5348709866397553, 0.44943865853806825, 0.4733740540781393, 0.4733740540781393, 0.44943865853806825, 0.5348709866397553, 0.5348709866397553, 0.0, 0.02249151541194062, 0.44943865853806825, 0.5348709866397553, 0.02249151541194062, 0.8693846112382244, 0.4570975493009893, 0.02249151541194062, 0.02249151541194062, 0.02249151541194062, 0.5348709866397553, 0.5348709866397553, 0.02249151541194062, 0.02249151541194062, 0.44943865853806825, 0.02249151541194062, 0.5348709866397553, 0.44943865853806825, 0.44943865853806825, 0.44943865853806825, 0.4733740540781393, 0.5348709866397553, 0.5348709866397553, 0.02249151541194062, 0.5348709866397553, 0.44943865853806825, 0.5348709866397553, 0.02249151541194062, 0.5348709866397553, 0.44943865853806825, 0.4733740540781393, 0.02249151541194062, 0.5348709866397553, 0.5348709866397553, 0.44943865853806825, 0.44943865853806825, 0.02249151541194062, 0.5348709866397553, 0.5348709866397553, 0.5348709866397553, 0.44943865853806825, 0.5348709866397553, 0.44943865853806825, 0.02249151541194062, 0.44943865853806825, 0.5348709866397553, 0.5348709866397553, 0.5348709866397553, 0.44943865853806825, 0.5348709866397553, 0.4733740540781393, 0.02249151541194062, 0.02249151541194062, 0.44943865853806825, 0.02249151541194062, 0.4570975493009893, 0.02249151541194062, 0.44943865853806825, 0.4733740540781393, 0.44943865853806825, 0.02249151541194062, 0.4733740540781393, 0.5348709866397553, 0.02249151541194062, 0.5348709866397553, 0.5348709866397553, 0.44943865853806825, 0.44943865853806825, 0.44943865853806825, 0.02249151541194062, 0.02249151541194062, 0.44943865853806825, 0.02249151541194062, 0.02249151541194062, 0.5348709866397553, 0.02249151541194062, 0.02249151541194062, 0.5348709866397553, 0.44943865853806825, 0.5348709866397553, 0.5348709866397553, 0.44943865853806825, 0.5348709866397553, 0.02249151541194062, 0.02249151541194062, 0.7172943009588103, 0.02249151541194062, 0.5348709866397553, 0.02249151541194062, 0.5348709866397553, 0.5348709866397553, 0.02249151541194062, 0.02249151541194062, 0.02249151541194062, 0.44943865853806825, 0.5348709866397553, 0.4570975493009893, 0.5348709866397553, 0.44943865853806825, 0.02249151541194062, 0.4733740540781393, 0.5348709866397553, 0.44943865853806825, 0.44943865853806825, 0.4570975493009893, 0.5348709866397553, 0.44943865853806825, 0.5348709866397553, 0.5348709866397553, 0.02249151541194062, 0.5348709866397553, 0.44943865853806825, 0.44943865853806825, 0.44943865853806825, 0.5348709866397553, 0.02249151541194062, 0.7172943009588103, 0.5348709866397553, 0.44943865853806825, 0.4733740540781393, 0.02249151541194062, 0.02249151541194062, 0.5348709866397553, 0.02249151541194062, 0.5348709866397553, 0.02249151541194062, 0.5348709866397553, 0.44943865853806825, 0.02249151541194062, 0.5348709866397553, 0.5348709866397553, 0.44943865853806825, 0.5348709866397553, 0.44943865853806825, 0.5348709866397553, 0.5348709866397553, 0.5348709866397553, 0.02249151541194062, 0.4733740540781393, 0.44943865853806825, 0.44943865853806825, 0.5348709866397553, 0.44943865853806825, 0.02249151541194062, 0.5348709866397553, 0.02249151541194062, 0.44943865853806825, 0.5348709866397553, 0.02249151541194062, 0.44943865853806825, 0.5348709866397553, 0.44943865853806825, 0.44943865853806825, 0.02249151541194062, 0.5348709866397553, 0.44943865853806825, 0.44943865853806825, 0.02249151541194062, 0.5348709866397553, 0.44943865853806825, 0.5348709866397553, 0.02249151541194062, 0.5348709866397553, 0.02249151541194062, 0.02249151541194062, 0.44943865853806825, 0.4570975493009893, 0.5348709866397553, 0.02249151541194062, 0.5348709866397553, 0.02249151541194062, 0.02249151541194062, 0.4733740540781393, 0.5348709866397553, 0.02249151541194062, 0.5348709866397553, 0.4733740540781393, 0.44943865853806825, 0.4733740540781393, 0.5348709866397553, 1.0295281287327744, 0.5348709866397553, 0.44943865853806825, 0.4733740540781393, 0.5348709866397553, 0.5348709866397553, 0.4733740540781393, 0.02249151541194062, 0.02249151541194062, 0.02249151541194062, 0.4733740540781393, 0.4733740540781393, 0.5348709866397553, 0.44943865853806825, 0.5348709866397553, 0.02249151541194062, 0.02249151541194062, 0.02249151541194062, 0.7172943009588103, 0.8693846112382244, 0.44943865853806825, 0.5348709866397553, 0.4570975493009893, 0.4733740540781393, 0.02249151541194062, 0.5348709866397553, 0.02249151541194062, 0.5348709866397553, 0.02249151541194062, 0.5348709866397553, 0.5348709866397553, 0.44943865853806825, 0.5348709866397553, 0.4733740540781393, 0.5348709866397553, 0.44943865853806825, 0.4733740540781393, 0.5348709866397553, 0.5348709866397553, 0.02249151541194062, 0.44943865853806825, 0.44943865853806825, 0.5348709866397553, 0.02249151541194062, 0.02249151541194062, 0.02249151541194062, 0.5348709866397553, 0.44943865853806825, 0.02249151541194062, 0.5348709866397553, 0.02249151541194062, 0.5348709866397553, 0.4570975493009893, 0.5348709866397553, 0.02249151541194062, 0.02249151541194062, 0.4733740540781393, 0.4570975493009893, 0.4733740540781393, 0.44943865853806825, 0.4570975493009893, 0.5348709866397553, 0.5348709866397553, 0.4733740540781393, 0.4733740540781393, 0.5348709866397553, 0.02249151541194062, 0.44943865853806825, 0.5348709866397553, 0.44943865853806825, 0.02249151541194062, 0.8693846112382244, 0.44943865853806825, 0.44943865853806825, 0.5348709866397553, 0.44943865853806825, 0.02249151541194062, 0.5348709866397553, 0.44943865853806825, 0.02249151541194062, 0.44943865853806825, 0.5348709866397553, 0.44943865853806825, 0.44943865853806825, 0.44943865853806825, 0.02249151541194062, 0.4733740540781393, 0.44943865853806825, 0.4733740540781393, 0.4733740540781393, 0.9006640575684889, 0.44943865853806825, 0.02249151541194062, 0.5348709866397553, 0.44943865853806825, 0.5348709866397553, 0.02249151541194062, 0.44943865853806825, 0.5348709866397553, 0.02249151541194062, 0.5348709866397553, 0.44943865853806825, 0.02249151541194062, 0.8693846112382244, 0.5348709866397553, 0.5348709866397553, 0.5348709866397553, 0.02249151541194062, 0.5348709866397553, 0.44943865853806825, 1.0295281287327744, 0.4733740540781393, 0.5348709866397553, 0.5348709866397553, 0.44943865853806825, 0.5348709866397553, 0.02249151541194062, 0.02249151541194062, 0.44943865853806825, 0.02249151541194062, 0.44943865853806825, 0.5348709866397553, 0.02249151541194062, 0.5348709866397553, 0.44943865853806825, 0.5348709866397553, 0.02249151541194062, 0.5348709866397553, 0.44943865853806825, 0.5348709866397553, 0.44943865853806825, 0.5348709866397553, 0.5348709866397553, 0.5348709866397553, 0.44943865853806825, 0.02249151541194062, 0.44943865853806825, 0.5348709866397553, 0.5348709866397553, 0.4570975493009893, 0.02249151541194062, 0.02249151541194062, 0.44943865853806825, 0.4733740540781393, 0.5348709866397553, 0.5348709866397553, 0.44943865853806825, 0.5348709866397553, 0.44943865853806825, 0.5348709866397553, 0.5348709866397553, 0.5348709866397553, 0.4733740540781393, 0.4733740540781393, 0.44943865853806825, 0.5348709866397553, 0.4733740540781393, 0.4570975493009893, 0.02249151541194062]\n"
          ]
        }
      ]
    },
    {
      "cell_type": "markdown",
      "source": [
        "Aumenta la precisión y disminuye el error al ejecutarlo con los datos de test."
      ],
      "metadata": {
        "id": "YPasFxRiJDUG"
      }
    },
    {
      "cell_type": "code",
      "source": [
        "aciertos_test = []\n",
        "\n",
        "for i in range(len(data_test)):\n",
        "  tasa_acierto_test = t_aciertos(aciertos_test,data_test.iloc[i],0.5, probabilidad_test[i])\n",
        "print('\\nLa tasa de acierto al calcular la probabilidad de lluvia del data set de validación es de', tasa_acierto_test,'.\\n')"
      ],
      "metadata": {
        "colab": {
          "base_uri": "https://localhost:8080/"
        },
        "id": "vNQXQDxbEsz3",
        "outputId": "edb31b9c-39f6-4de3-e34f-9c797aa9c959"
      },
      "execution_count": 117,
      "outputs": [
        {
          "output_type": "stream",
          "name": "stdout",
          "text": [
            "\n",
            "La tasa de acierto al calcular la probabilidad de lluvia del data set de validación es de 0.5616438356164384 .\n",
            "\n"
          ]
        }
      ]
    },
    {
      "cell_type": "code",
      "source": [
        "errores_test = []\n",
        "\n",
        "for i in range(len(data_test)):\n",
        "  error_test = f_errores(errores_test,data_test.iloc[i], probabilidad_test[i])\n",
        "print('\\nEl error al calcular la probabilidad de lluvia del data set de validación es de', error_test,'.\\n')"
      ],
      "metadata": {
        "colab": {
          "base_uri": "https://localhost:8080/"
        },
        "id": "Y3x7YEeJEtL7",
        "outputId": "f22846d4-ffc2-467e-8ccb-0b8facaa7ddf"
      },
      "execution_count": 120,
      "outputs": [
        {
          "output_type": "stream",
          "name": "stdout",
          "text": [
            "\n",
            "El error al calcular la probabilidad de lluvia del data set de validación es de 0.40337958357947723 .\n",
            "\n"
          ]
        }
      ]
    },
    {
      "cell_type": "markdown",
      "source": [
        "#### Variaciones para mejorar el modelo\n",
        "Procedemos a disminuir el punto de corte un 0.1, es decir,a 0.4, buscando una mejor de precisión.\n",
        "\n",
        "Conseguimos un 0.02 más de precisión, aunque el error absoluto es el mismo."
      ],
      "metadata": {
        "id": "j40PZFz2FLQE"
      }
    },
    {
      "cell_type": "code",
      "source": [
        "prob_test_v = []\n",
        "tasa_aciertos_v = []\n",
        "for i in range(len(data_test)):\n",
        "  probabilidad_test_v = clasificacion_bayesiana(data_test.iloc[i], data_rain_true, prob_test_v)\n",
        "print(probabilidad_test_v)"
      ],
      "metadata": {
        "colab": {
          "base_uri": "https://localhost:8080/"
        },
        "id": "ggvNugVvFKex",
        "outputId": "24c74432-387d-4b7d-947d-6083c8b53c73"
      },
      "execution_count": 128,
      "outputs": [
        {
          "output_type": "stream",
          "name": "stdout",
          "text": [
            "[0.5348709866397553, 0.02249151541194062, 0.44943865853806825, 0.44943865853806825, 0.4570975493009893, 0.02249151541194062, 0.4733740540781393, 0.5348709866397553, 0.5348709866397553, 0.5348709866397553, 0.5348709866397553, 0.4570975493009893, 0.5348709866397553, 0.5348709866397553, 0.02249151541194062, 0.4733740540781393, 0.5348709866397553, 0.02249151541194062, 0.5348709866397553, 0.4733740540781393, 0.02249151541194062, 0.02249151541194062, 0.5348709866397553, 0.44943865853806825, 0.44943865853806825, 0.4733740540781393, 0.02249151541194062, 0.5348709866397553, 0.4733740540781393, 0.5348709866397553, 0.5348709866397553, 0.4733740540781393, 0.5348709866397553, 0.5348709866397553, 0.02249151541194062, 0.4733740540781393, 0.44943865853806825, 0.5348709866397553, 0.02249151541194062, 0.5348709866397553, 0.4570975493009893, 0.02249151541194062, 0.5348709866397553, 0.5348709866397553, 0.02249151541194062, 0.5348709866397553, 0.44943865853806825, 0.5348709866397553, 0.4733740540781393, 0.4733740540781393, 0.02249151541194062, 0.5348709866397553, 0.5348709866397553, 0.4733740540781393, 0.44943865853806825, 0.44943865853806825, 0.02249151541194062, 0.5348709866397553, 0.5348709866397553, 0.44943865853806825, 0.5348709866397553, 0.4570975493009893, 0.4733740540781393, 0.5348709866397553, 0.5348709866397553, 0.5348709866397553, 0.02249151541194062, 0.4570975493009893, 0.5348709866397553, 0.44943865853806825, 0.5348709866397553, 0.5348709866397553, 0.02249151541194062, 0.44943865853806825, 0.02249151541194062, 0.02249151541194062, 0.4733740540781393, 0.02249151541194062, 0.8693846112382244, 0.44943865853806825, 0.5348709866397553, 0.44943865853806825, 0.8693846112382244, 0.5348709866397553, 0.44943865853806825, 0.4570975493009893, 0.5348709866397553, 0.5348709866397553, 0.5348709866397553, 0.02249151541194062, 0.02249151541194062, 0.02249151541194062, 0.02249151541194062, 0.4733740540781393, 0.44943865853806825, 0.44943865853806825, 0.02249151541194062, 0.4733740540781393, 0.5348709866397553, 0.5348709866397553, 0.4570975493009893, 0.5348709866397553, 0.4733740540781393, 0.5348709866397553, 0.44943865853806825, 0.5348709866397553, 0.5348709866397553, 0.5348709866397553, 0.5348709866397553, 0.4733740540781393, 0.5348709866397553, 0.02249151541194062, 0.44943865853806825, 0.5348709866397553, 0.44943865853806825, 0.5348709866397553, 0.5348709866397553, 0.5348709866397553, 0.4733740540781393, 0.44943865853806825, 0.8693846112382244, 0.02249151541194062, 0.4733740540781393, 0.5348709866397553, 0.4733740540781393, 0.02249151541194062, 0.44943865853806825, 0.4733740540781393, 0.5348709866397553, 0.44943865853806825, 0.5348709866397553, 0.44943865853806825, 0.02249151541194062, 0.02249151541194062, 0.02249151541194062, 0.02249151541194062, 0.4570975493009893, 0.5348709866397553, 0.44943865853806825, 0.5348709866397553, 0.02249151541194062, 0.4733740540781393, 0.4733740540781393, 0.5348709866397553, 0.44943865853806825, 0.4733740540781393, 0.44943865853806825, 0.5348709866397553, 0.02249151541194062, 0.5348709866397553, 0.02249151541194062, 0.44943865853806825, 0.02249151541194062, 0.02249151541194062, 0.02249151541194062, 0.44943865853806825, 0.44943865853806825, 0.44943865853806825, 0.02249151541194062, 0.02249151541194062, 0.4733740540781393, 0.5348709866397553, 0.5348709866397553, 0.44943865853806825, 0.5348709866397553, 0.5348709866397553, 0.44943865853806825, 0.4733740540781393, 0.4733740540781393, 0.44943865853806825, 0.5348709866397553, 0.5348709866397553, 0.0, 0.02249151541194062, 0.44943865853806825, 0.5348709866397553, 0.02249151541194062, 0.8693846112382244, 0.4570975493009893, 0.02249151541194062, 0.02249151541194062, 0.02249151541194062, 0.5348709866397553, 0.5348709866397553, 0.02249151541194062, 0.02249151541194062, 0.44943865853806825, 0.02249151541194062, 0.5348709866397553, 0.44943865853806825, 0.44943865853806825, 0.44943865853806825, 0.4733740540781393, 0.5348709866397553, 0.5348709866397553, 0.02249151541194062, 0.5348709866397553, 0.44943865853806825, 0.5348709866397553, 0.02249151541194062, 0.5348709866397553, 0.44943865853806825, 0.4733740540781393, 0.02249151541194062, 0.5348709866397553, 0.5348709866397553, 0.44943865853806825, 0.44943865853806825, 0.02249151541194062, 0.5348709866397553, 0.5348709866397553, 0.5348709866397553, 0.44943865853806825, 0.5348709866397553, 0.44943865853806825, 0.02249151541194062, 0.44943865853806825, 0.5348709866397553, 0.5348709866397553, 0.5348709866397553, 0.44943865853806825, 0.5348709866397553, 0.4733740540781393, 0.02249151541194062, 0.02249151541194062, 0.44943865853806825, 0.02249151541194062, 0.4570975493009893, 0.02249151541194062, 0.44943865853806825, 0.4733740540781393, 0.44943865853806825, 0.02249151541194062, 0.4733740540781393, 0.5348709866397553, 0.02249151541194062, 0.5348709866397553, 0.5348709866397553, 0.44943865853806825, 0.44943865853806825, 0.44943865853806825, 0.02249151541194062, 0.02249151541194062, 0.44943865853806825, 0.02249151541194062, 0.02249151541194062, 0.5348709866397553, 0.02249151541194062, 0.02249151541194062, 0.5348709866397553, 0.44943865853806825, 0.5348709866397553, 0.5348709866397553, 0.44943865853806825, 0.5348709866397553, 0.02249151541194062, 0.02249151541194062, 0.7172943009588103, 0.02249151541194062, 0.5348709866397553, 0.02249151541194062, 0.5348709866397553, 0.5348709866397553, 0.02249151541194062, 0.02249151541194062, 0.02249151541194062, 0.44943865853806825, 0.5348709866397553, 0.4570975493009893, 0.5348709866397553, 0.44943865853806825, 0.02249151541194062, 0.4733740540781393, 0.5348709866397553, 0.44943865853806825, 0.44943865853806825, 0.4570975493009893, 0.5348709866397553, 0.44943865853806825, 0.5348709866397553, 0.5348709866397553, 0.02249151541194062, 0.5348709866397553, 0.44943865853806825, 0.44943865853806825, 0.44943865853806825, 0.5348709866397553, 0.02249151541194062, 0.7172943009588103, 0.5348709866397553, 0.44943865853806825, 0.4733740540781393, 0.02249151541194062, 0.02249151541194062, 0.5348709866397553, 0.02249151541194062, 0.5348709866397553, 0.02249151541194062, 0.5348709866397553, 0.44943865853806825, 0.02249151541194062, 0.5348709866397553, 0.5348709866397553, 0.44943865853806825, 0.5348709866397553, 0.44943865853806825, 0.5348709866397553, 0.5348709866397553, 0.5348709866397553, 0.02249151541194062, 0.4733740540781393, 0.44943865853806825, 0.44943865853806825, 0.5348709866397553, 0.44943865853806825, 0.02249151541194062, 0.5348709866397553, 0.02249151541194062, 0.44943865853806825, 0.5348709866397553, 0.02249151541194062, 0.44943865853806825, 0.5348709866397553, 0.44943865853806825, 0.44943865853806825, 0.02249151541194062, 0.5348709866397553, 0.44943865853806825, 0.44943865853806825, 0.02249151541194062, 0.5348709866397553, 0.44943865853806825, 0.5348709866397553, 0.02249151541194062, 0.5348709866397553, 0.02249151541194062, 0.02249151541194062, 0.44943865853806825, 0.4570975493009893, 0.5348709866397553, 0.02249151541194062, 0.5348709866397553, 0.02249151541194062, 0.02249151541194062, 0.4733740540781393, 0.5348709866397553, 0.02249151541194062, 0.5348709866397553, 0.4733740540781393, 0.44943865853806825, 0.4733740540781393, 0.5348709866397553, 1.0295281287327744, 0.5348709866397553, 0.44943865853806825, 0.4733740540781393, 0.5348709866397553, 0.5348709866397553, 0.4733740540781393, 0.02249151541194062, 0.02249151541194062, 0.02249151541194062, 0.4733740540781393, 0.4733740540781393, 0.5348709866397553, 0.44943865853806825, 0.5348709866397553, 0.02249151541194062, 0.02249151541194062, 0.02249151541194062, 0.7172943009588103, 0.8693846112382244, 0.44943865853806825, 0.5348709866397553, 0.4570975493009893, 0.4733740540781393, 0.02249151541194062, 0.5348709866397553, 0.02249151541194062, 0.5348709866397553, 0.02249151541194062, 0.5348709866397553, 0.5348709866397553, 0.44943865853806825, 0.5348709866397553, 0.4733740540781393, 0.5348709866397553, 0.44943865853806825, 0.4733740540781393, 0.5348709866397553, 0.5348709866397553, 0.02249151541194062, 0.44943865853806825, 0.44943865853806825, 0.5348709866397553, 0.02249151541194062, 0.02249151541194062, 0.02249151541194062, 0.5348709866397553, 0.44943865853806825, 0.02249151541194062, 0.5348709866397553, 0.02249151541194062, 0.5348709866397553, 0.4570975493009893, 0.5348709866397553, 0.02249151541194062, 0.02249151541194062, 0.4733740540781393, 0.4570975493009893, 0.4733740540781393, 0.44943865853806825, 0.4570975493009893, 0.5348709866397553, 0.5348709866397553, 0.4733740540781393, 0.4733740540781393, 0.5348709866397553, 0.02249151541194062, 0.44943865853806825, 0.5348709866397553, 0.44943865853806825, 0.02249151541194062, 0.8693846112382244, 0.44943865853806825, 0.44943865853806825, 0.5348709866397553, 0.44943865853806825, 0.02249151541194062, 0.5348709866397553, 0.44943865853806825, 0.02249151541194062, 0.44943865853806825, 0.5348709866397553, 0.44943865853806825, 0.44943865853806825, 0.44943865853806825, 0.02249151541194062, 0.4733740540781393, 0.44943865853806825, 0.4733740540781393, 0.4733740540781393, 0.9006640575684889, 0.44943865853806825, 0.02249151541194062, 0.5348709866397553, 0.44943865853806825, 0.5348709866397553, 0.02249151541194062, 0.44943865853806825, 0.5348709866397553, 0.02249151541194062, 0.5348709866397553, 0.44943865853806825, 0.02249151541194062, 0.8693846112382244, 0.5348709866397553, 0.5348709866397553, 0.5348709866397553, 0.02249151541194062, 0.5348709866397553, 0.44943865853806825, 1.0295281287327744, 0.4733740540781393, 0.5348709866397553, 0.5348709866397553, 0.44943865853806825, 0.5348709866397553, 0.02249151541194062, 0.02249151541194062, 0.44943865853806825, 0.02249151541194062, 0.44943865853806825, 0.5348709866397553, 0.02249151541194062, 0.5348709866397553, 0.44943865853806825, 0.5348709866397553, 0.02249151541194062, 0.5348709866397553, 0.44943865853806825, 0.5348709866397553, 0.44943865853806825, 0.5348709866397553, 0.5348709866397553, 0.5348709866397553, 0.44943865853806825, 0.02249151541194062, 0.44943865853806825, 0.5348709866397553, 0.5348709866397553, 0.4570975493009893, 0.02249151541194062, 0.02249151541194062, 0.44943865853806825, 0.4733740540781393, 0.5348709866397553, 0.5348709866397553, 0.44943865853806825, 0.5348709866397553, 0.44943865853806825, 0.5348709866397553, 0.5348709866397553, 0.5348709866397553, 0.4733740540781393, 0.4733740540781393, 0.44943865853806825, 0.5348709866397553, 0.4733740540781393, 0.4570975493009893, 0.02249151541194062]\n"
          ]
        }
      ]
    },
    {
      "cell_type": "code",
      "source": [
        "aciertos_test_v = []\n",
        "\n",
        "for i in range(len(data_test)):\n",
        "  tasa_acierto_test_v = t_aciertos(aciertos_test_v,data_test.iloc[i],0.4, probabilidad_test_v[i])\n",
        "print(tasa_acierto_test_v)"
      ],
      "metadata": {
        "colab": {
          "base_uri": "https://localhost:8080/"
        },
        "id": "tLjNV66oFW3x",
        "outputId": "5fd67b99-bb50-4947-ab56-f6ead571d7b4"
      },
      "execution_count": 132,
      "outputs": [
        {
          "output_type": "stream",
          "name": "stdout",
          "text": [
            "0.5831702544031311\n"
          ]
        }
      ]
    },
    {
      "cell_type": "code",
      "source": [
        "errores_test_v = []\n",
        "\n",
        "for i in range(len(data_test)):\n",
        "  error_test_v = f_errores(errores_test_v,data_test.iloc[i], probabilidad_test_v[i])\n",
        "print(error_test_v)"
      ],
      "metadata": {
        "colab": {
          "base_uri": "https://localhost:8080/"
        },
        "id": "lKo1HgXKFWoN",
        "outputId": "f0e95326-78a9-4f06-8d7a-b85e19064f55"
      },
      "execution_count": 134,
      "outputs": [
        {
          "output_type": "stream",
          "name": "stdout",
          "text": [
            "0.40337958357947723\n"
          ]
        }
      ]
    },
    {
      "cell_type": "markdown",
      "source": [
        "###Conclusiones\n",
        "\n",
        "Todos los registros cuya precipitación tenga el valor 'Mucho' seclasificarán de manera errónea siempre, pues hay solo 32 registros en total. Y en el dataset de entrenamiento tan solo 11, por lo que la probabilidad de que haya cero registros idénticos al dado es muy baja y, sin embargo, todos los registros con este valor son días que sí llovieron."
      ],
      "metadata": {
        "id": "vSRDTBjc8jB3"
      }
    },
    {
      "cell_type": "code",
      "source": [
        "data_rain_true.value_counts(data_rain_true['PRCP'])"
      ],
      "metadata": {
        "id": "PcDJe-gp9jkn",
        "outputId": "fd22bbc2-a914-4ff5-89e6-54be06e143f9",
        "colab": {
          "base_uri": "https://localhost:8080/"
        }
      },
      "execution_count": 129,
      "outputs": [
        {
          "output_type": "execute_result",
          "data": {
            "text/plain": [
              "PRCP\n",
              "Poco      10354\n",
              "Normal      315\n",
              "Mucho        11\n",
              "dtype: int64"
            ]
          },
          "metadata": {},
          "execution_count": 129
        }
      ]
    },
    {
      "cell_type": "markdown",
      "source": [
        "La clasificación Bayesiana es completamente dependiente del dataset que se coja de 'entrenamiento', es decir, del que se cuentan las frecuencias para sacar las probabilidades.\n",
        "\n",
        "No es muy fiable, aunque hemos conseguido una precisión de casi el 60%.\n",
        "\n",
        "Creemos que a la hora de predecir si va a llover un día, es necesario tener otro tipo de datos o al menos un dataset que contenga registros más variados, para evitar algunos errores como el descrito previamente "
      ],
      "metadata": {
        "id": "m2AO091wLf8l"
      }
    }
  ]
}