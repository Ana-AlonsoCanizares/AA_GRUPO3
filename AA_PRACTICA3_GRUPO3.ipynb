{
  "nbformat": 4,
  "nbformat_minor": 0,
  "metadata": {
    "colab": {
      "provenance": [],
      "include_colab_link": true
    },
    "kernelspec": {
      "name": "python3",
      "display_name": "Python 3"
    },
    "language_info": {
      "name": "python"
    }
  },
  "cells": [
    {
      "cell_type": "markdown",
      "metadata": {
        "id": "view-in-github",
        "colab_type": "text"
      },
      "source": [
        "<a href=\"https://colab.research.google.com/github/Ana-AlonsoCanizares/AA_GRUPO3/blob/main/AA_PRACTICA3_GRUPO3.ipynb\" target=\"_parent\"><img src=\"https://colab.research.google.com/assets/colab-badge.svg\" alt=\"Open In Colab\"/></a>"
      ]
    },
    {
      "cell_type": "markdown",
      "source": [
        "#Práctica 3. Algoritmo genético"
      ],
      "metadata": {
        "id": "N5wX7xUkCJ84"
      }
    },
    {
      "cell_type": "markdown",
      "source": [
        "## Instalación de paquetes"
      ],
      "metadata": {
        "id": "zVoz1mGq6bF4"
      }
    },
    {
      "cell_type": "code",
      "source": [
        "!pip install deap\n",
        "!pip install matplotlib\n",
        "!pip install scoop\n",
        "!pip install numpy\n",
        "!pip install scipy"
      ],
      "metadata": {
        "colab": {
          "base_uri": "https://localhost:8080/"
        },
        "id": "otteFWdtRKNF",
        "outputId": "28e36756-d6a6-471e-d5f0-c80ca7a38e68"
      },
      "execution_count": 1,
      "outputs": [
        {
          "output_type": "stream",
          "name": "stdout",
          "text": [
            "Looking in indexes: https://pypi.org/simple, https://us-python.pkg.dev/colab-wheels/public/simple/\n",
            "Requirement already satisfied: deap in /usr/local/lib/python3.8/dist-packages (1.3.3)\n",
            "Requirement already satisfied: numpy in /usr/local/lib/python3.8/dist-packages (from deap) (1.21.6)\n",
            "Looking in indexes: https://pypi.org/simple, https://us-python.pkg.dev/colab-wheels/public/simple/\n",
            "Requirement already satisfied: matplotlib in /usr/local/lib/python3.8/dist-packages (3.2.2)\n",
            "Requirement already satisfied: cycler>=0.10 in /usr/local/lib/python3.8/dist-packages (from matplotlib) (0.11.0)\n",
            "Requirement already satisfied: kiwisolver>=1.0.1 in /usr/local/lib/python3.8/dist-packages (from matplotlib) (1.4.4)\n",
            "Requirement already satisfied: python-dateutil>=2.1 in /usr/local/lib/python3.8/dist-packages (from matplotlib) (2.8.2)\n",
            "Requirement already satisfied: numpy>=1.11 in /usr/local/lib/python3.8/dist-packages (from matplotlib) (1.21.6)\n",
            "Requirement already satisfied: pyparsing!=2.0.4,!=2.1.2,!=2.1.6,>=2.0.1 in /usr/local/lib/python3.8/dist-packages (from matplotlib) (3.0.9)\n",
            "Requirement already satisfied: six>=1.5 in /usr/local/lib/python3.8/dist-packages (from python-dateutil>=2.1->matplotlib) (1.15.0)\n",
            "Looking in indexes: https://pypi.org/simple, https://us-python.pkg.dev/colab-wheels/public/simple/\n",
            "Requirement already satisfied: scoop in /usr/local/lib/python3.8/dist-packages (0.7.2.0)\n",
            "Requirement already satisfied: greenlet>=0.3.4 in /usr/local/lib/python3.8/dist-packages (from scoop) (2.0.1)\n",
            "Requirement already satisfied: pyzmq>=13.1.0 in /usr/local/lib/python3.8/dist-packages (from scoop) (23.2.1)\n",
            "Looking in indexes: https://pypi.org/simple, https://us-python.pkg.dev/colab-wheels/public/simple/\n",
            "Requirement already satisfied: numpy in /usr/local/lib/python3.8/dist-packages (1.21.6)\n",
            "Looking in indexes: https://pypi.org/simple, https://us-python.pkg.dev/colab-wheels/public/simple/\n",
            "Requirement already satisfied: scipy in /usr/local/lib/python3.8/dist-packages (1.7.3)\n",
            "Requirement already satisfied: numpy<1.23.0,>=1.16.5 in /usr/local/lib/python3.8/dist-packages (from scipy) (1.21.6)\n"
          ]
        }
      ]
    },
    {
      "cell_type": "markdown",
      "source": [
        "## Importación de librerías"
      ],
      "metadata": {
        "id": "Dbt-xHsK6id6"
      }
    },
    {
      "cell_type": "code",
      "source": [
        "import random\n",
        "import math\n",
        "import numpy as np\n",
        "from deap import base\n",
        "from deap import creator\n",
        "from deap import tools\n",
        "from deap import algorithms\n",
        "import matplotlib.pyplot as plt\n",
        "from mpl_toolkits.mplot3d import Axes3D\n",
        "from matplotlib import cm"
      ],
      "metadata": {
        "id": "-uRUbILexTAY"
      },
      "execution_count": 2,
      "outputs": []
    },
    {
      "cell_type": "markdown",
      "source": [
        "##Resolución del problema"
      ],
      "metadata": {
        "id": "chhSit4L6uLs"
      }
    },
    {
      "cell_type": "markdown",
      "source": [
        "**Enunciado**\n",
        "\n",
        "Encontrar los máximos de la función \"picos\":\n",
        "\n",
        "$$z = f(x,y) = 3(1-x)^2e^{-(x^2)-(y+1)^2}-10(x/5-x^3-y^5)e^{-x^2-y^2}-1/3e^{-(x+1)^2-y^2}$$\n",
        "\n",
        "En el dominio $$\\{x,y\\} \\in [-100,100]$$"
      ],
      "metadata": {
        "id": "UrYjmjNO63SF"
      }
    },
    {
      "cell_type": "markdown",
      "source": [
        "####Espacio de búsqueda o domino de la solución. Gráfica de la función objetivo "
      ],
      "metadata": {
        "id": "1gZR1u9Q7Tf-"
      }
    },
    {
      "cell_type": "code",
      "source": [
        "# Definimos la función objetivo\n",
        "def funcion_prueba(x):\n",
        "    # x es x[0] e y es x[1]\n",
        "    res = 3*(1-x[0])**2 * np.exp(-(x[0]**2)-(x[1]+1)**2) - 10*(x[0]/5 - x[0]**3 - x[1]**5) * np.exp(-x[0]**2-x[1]**2) - 1/3*np.exp(-(x[0]+1)**2-x[1]**2)\n",
        "    return res\n",
        "\n",
        "# Generamos vectores que barran todo el dominio\n",
        "x = np.linspace(-4, 4, 1000)\n",
        "y = np.linspace(-4, 4, 1000)\n",
        "\n",
        "# Evaluamos todos los valores de las variables\n",
        "x_ax, y_ax = np.meshgrid(x, y)\n",
        "vals = np.c_[x_ax.ravel(), y_ax.ravel()]\n",
        "fx = np.reshape([funcion_prueba(val) for val in vals],(1000, 1000))\n",
        "\n",
        "# Representamos los resultados obtenidos\n",
        "figure_3d = plt.figure(figsize=(8,6))\n",
        "ax = figure_3d.gca(projection=\"3d\")\n",
        "ax.plot_surface(x_ax, y_ax, fx, cmap=cm.coolwarm)\n",
        "ax.set_xlabel(\"x\")\n",
        "ax.set_ylabel(\"y\")\n",
        "ax.set_zlabel(\"f(x,y)\")"
      ],
      "metadata": {
        "id": "vasf7TvVxdVF",
        "colab": {
          "base_uri": "https://localhost:8080/",
          "height": 374
        },
        "outputId": "1e271006-ef37-40ee-92cd-a3768593cc7a"
      },
      "execution_count": 3,
      "outputs": [
        {
          "output_type": "execute_result",
          "data": {
            "text/plain": [
              "Text(0.5, 0, 'f(x,y)')"
            ]
          },
          "metadata": {},
          "execution_count": 3
        },
        {
          "output_type": "display_data",
          "data": {
            "text/plain": [
              "<Figure size 576x432 with 1 Axes>"
            ],
            "image/png": "[encoded data removed]"
          },
          "metadata": {
            "needs_background": "light"
          }
        }
      ]
    },
    {
      "cell_type": "markdown",
      "source": [
        "Tras buscar el par \"x, y\" (x[0] y x[1]) de la función, encontramos que el máximo está entre 8.0926 y 8.0980, donde x e y se encuentran alrededor de x = -0.0303 e y = 1.6061.\n",
        "\n",
        "Esto lo hacemos para poder observar como de cerca se quedan cada uno de los \"Experimentos\" al máximo real de la función picos y poder así compararlos."
      ],
      "metadata": {
        "id": "YV6Qbu-3yJgl"
      }
    },
    {
      "cell_type": "markdown",
      "source": [
        "#### 0. Hiperparámetros"
      ],
      "metadata": {
        "id": "icIGnEKM8XHx"
      }
    },
    {
      "cell_type": "markdown",
      "source": [
        "En esta sección se definen los hiperparámetros del modelo que se modificarán en busca de la mejor solución"
      ],
      "metadata": {
        "id": "oGPLdr6m8eOH"
      }
    },
    {
      "cell_type": "code",
      "source": [
        "N_POBLACION = 32 # Tamaño población\n",
        "CXPB = 0.5 # Probabilidad de Cruce\n",
        "MUTPB = 0.2 # Probabilidad de Mutación\n",
        "NGEN = 20 # Número de Generaciones\n",
        "UNIFORM_INDPB = 0.5 # Probabilidad de cruce Uniforme"
      ],
      "metadata": {
        "id": "lpPiSWZE8dCv"
      },
      "execution_count": 4,
      "outputs": []
    },
    {
      "cell_type": "markdown",
      "source": [
        "#### 1. Definición de los objetos de la librería Deap"
      ],
      "metadata": {
        "id": "O1GkGPWE3Pv7"
      }
    },
    {
      "cell_type": "code",
      "source": [
        "import random\n",
        "from deap import base\n",
        "from deap import creator\n",
        "from deap import tools"
      ],
      "metadata": {
        "id": "yLFBvxHZ3X0-"
      },
      "execution_count": 5,
      "outputs": []
    },
    {
      "cell_type": "markdown",
      "source": [
        "Definimos las clases `FitnessMax` e `Individual`"
      ],
      "metadata": {
        "id": "LN1XoPmirbQA"
      }
    },
    {
      "cell_type": "code",
      "source": [
        "creator.create(\"FitnessMax\", base.Fitness, weights=(1.0,))"
      ],
      "metadata": {
        "id": "r1hePd7c3cwF"
      },
      "execution_count": 6,
      "outputs": []
    },
    {
      "cell_type": "code",
      "source": [
        "creator.create(\"Individual\", list, fitness=creator.FitnessMax)"
      ],
      "metadata": {
        "id": "xlLbnkN83lON"
      },
      "execution_count": 7,
      "outputs": []
    },
    {
      "cell_type": "markdown",
      "source": [
        "Creamos los 3 experimentos:\n",
        " - Cruce en un punto\n",
        " - Cruce en dos puntos\n",
        " - Cruce uniforme"
      ],
      "metadata": {
        "id": "74ynHCJuvTDG"
      }
    },
    {
      "cell_type": "code",
      "source": [
        "toolbox1 = base.Toolbox()\n",
        "toolbox2 = base.Toolbox()\n",
        "toolbox3 = base.Toolbox()\n",
        "\n",
        "EXPERIMENTOS = [toolbox1, toolbox2, toolbox3]"
      ],
      "metadata": {
        "id": "7LN3Y-QG3llX"
      },
      "execution_count": 8,
      "outputs": []
    },
    {
      "cell_type": "code",
      "source": [
        "for toolbox in EXPERIMENTOS:\n",
        "  # Generación de genes\n",
        "  toolbox.register(\"attr_uniform\", random.uniform, -100, 100)\n",
        "  # Generación de inviduos\n",
        "  toolbox.register(\"individual\", tools.initRepeat, creator.Individual,\n",
        "                   toolbox.attr_uniform, 2)\n",
        "  # Generación de población\n",
        "  toolbox.register(\"population\", tools.initRepeat, list,\n",
        "                   toolbox.individual, N_POBLACION)"
      ],
      "metadata": {
        "id": "EBtpnmMK32TP"
      },
      "execution_count": 9,
      "outputs": []
    },
    {
      "cell_type": "markdown",
      "source": [
        "Comenzamos añadiendo a la toolbox los genes de manera aleatoria; a continuación, los individuos juntando pares de genes y por último, la población, tomando 32 individuos."
      ],
      "metadata": {
        "id": "_8jiPSOozU0-"
      }
    },
    {
      "cell_type": "markdown",
      "source": [
        "Comprobamos que las funciones funcionan correctamente"
      ],
      "metadata": {
        "id": "GG4h0FmV7Djc"
      }
    },
    {
      "cell_type": "code",
      "source": [
        "# Ejemplo de la generación de un individuo aleatorio\n",
        "individuo = toolbox1.individual()\n",
        "print(individuo)\n",
        "\n",
        "# Ejemplo de creación de una población. Se ve que es una lista de 32 listas (una por cada individuo)\n",
        "poblacion = toolbox1.population()\n",
        "print(poblacion)\n",
        "print(len(poblacion))\n",
        "\n",
        "# Vacío, porque aun no ha sido evaluado\n",
        "individuo.fitness.values"
      ],
      "metadata": {
        "id": "Y3DHvp4i3-di",
        "colab": {
          "base_uri": "https://localhost:8080/"
        },
        "outputId": "f67fe7ba-6218-49e7-ca9f-ef30763fe38b"
      },
      "execution_count": 10,
      "outputs": [
        {
          "output_type": "stream",
          "name": "stdout",
          "text": [
            "[22.049923437862873, 54.01154303528412]\n",
            "[[-10.516671986165946, -12.328804852797887], [-1.437428200477882, -39.85989947049555], [-81.94032672614941, -74.77060390425004], [-50.64397108012344, 45.11146439810608], [38.91113712171685, -88.27604817976055], [18.223781264000394, -46.7087409251663], [6.084336491272737, -84.4443862166363], [-55.030920316822396, 8.365304029411021], [69.29750062919842, 44.61016227728308], [75.45664531956473, -35.43758724674623], [-46.10167364860131, -25.90279608935009], [6.676449436385923, 75.75824645281295], [-0.6939082604845481, -90.07592696137516], [-87.6060751376349, 31.55557486078277], [-18.87566966791232, -8.195292986600606], [-67.12026246768642, 64.7193419222125], [-84.79901011440776, -40.081812715061126], [66.88587357770444, -49.798578421778906], [39.68034239011223, -21.052860262935624], [6.268715910957383, -54.01032507322383], [-47.62446936795899, -93.82674453365199], [4.320463328120994, 81.0907206000609], [39.38025798676847, -74.80557489519907], [-69.24911433062091, -22.28706064588914], [48.0605629426596, -13.64611195683618], [65.2500501776147, -20.479794354132494], [-30.909664141460368, 16.890462778499284], [-98.39268032311617, 51.98369254151655], [6.197787544300098, 41.5353819812089], [-75.45503411082052, 53.548786153345674], [35.468551431903336, 49.883261039175096], [82.71165401103565, 22.006863807656458]]\n",
            "32\n"
          ]
        },
        {
          "output_type": "execute_result",
          "data": {
            "text/plain": [
              "()"
            ]
          },
          "metadata": {},
          "execution_count": 10
        }
      ]
    },
    {
      "cell_type": "markdown",
      "source": [
        "#### 2. Función objetivo y operadores genéticos"
      ],
      "metadata": {
        "id": "283lA2c-4Yvs"
      }
    },
    {
      "cell_type": "code",
      "source": [
        "def funcion_objetivo(x):\n",
        "    \"\"\"\n",
        "    Función objetivo de nuestro problema\n",
        "    \"\"\"\n",
        "    for i in range(len(x)):\n",
        "        if x[i] > 100 or x[i] < -100:\n",
        "            return -1,\n",
        "    res = 3*(1-x[0])**2 * np.exp(-(x[0]**2)-(x[1]+1)**2) - 10*(x[0]/5 - x[0]**3 - x[1]**5) * np.exp(-x[0]**2-x[1]**2) - 1/3*np.exp(-(x[0]+1)**2-x[1]**2)\n",
        "    return res,"
      ],
      "metadata": {
        "id": "Iw7mB-_W4bBg"
      },
      "execution_count": 11,
      "outputs": []
    },
    {
      "cell_type": "code",
      "source": [
        "for toolbox in EXPERIMENTOS:\n",
        "  toolbox.register(\"evaluate\", funcion_objetivo)"
      ],
      "metadata": {
        "id": "RGTEtiGg4iwb"
      },
      "execution_count": 12,
      "outputs": []
    },
    {
      "cell_type": "markdown",
      "source": [
        "#### 3. Incorporar los operadores genéticos"
      ],
      "metadata": {
        "id": "Qrt_4PIn4tXL"
      }
    },
    {
      "cell_type": "markdown",
      "source": [
        "CRUCE"
      ],
      "metadata": {
        "id": "bbV_10364_nU"
      }
    },
    {
      "cell_type": "code",
      "source": [
        "# Registro de operacion genética de cruce\n",
        "toolbox1.register(\"mate\", tools.cxOnePoint)\n",
        "toolbox2.register(\"mate\", tools.cxTwoPoint)\n",
        "toolbox3.register(\"mate\", tools.cxUniform, indpb = UNIFORM_INDPB)"
      ],
      "metadata": {
        "id": "tMUvW2eF4ubD"
      },
      "execution_count": 13,
      "outputs": []
    },
    {
      "cell_type": "markdown",
      "source": [
        "MUTACIÓN"
      ],
      "metadata": {
        "id": "_gSyeAgV44sZ"
      }
    },
    {
      "cell_type": "code",
      "source": [
        "for toolbox in EXPERIMENTOS:\n",
        "  toolbox.register(\"mutate\", tools.mutGaussian, mu=0,\n",
        "                   sigma= 5, indpb=0.1)"
      ],
      "metadata": {
        "id": "3UtjMBLm4358"
      },
      "execution_count": 14,
      "outputs": []
    },
    {
      "cell_type": "markdown",
      "source": [
        "SELECCIÓN"
      ],
      "metadata": {
        "id": "xASOLw6D5HYk"
      }
    },
    {
      "cell_type": "code",
      "source": [
        "for toolbox in EXPERIMENTOS:\n",
        "  toolbox.register(\"select\", tools.selTournament, tournsize=3)"
      ],
      "metadata": {
        "id": "j-9VE8bz5B1X"
      },
      "execution_count": 15,
      "outputs": []
    },
    {
      "cell_type": "markdown",
      "source": [
        "#### 4. Últimos pasos: Algoritmo genético como una caja negra"
      ],
      "metadata": {
        "id": "XvD3eQWS5R5v"
      }
    },
    {
      "cell_type": "markdown",
      "source": [
        "Es necesario definir una semilla a la hora de generar los números aleatorios, de esta forma, se toman números aleatorios pero que si volvemos a ejecutar el código, serán los mismos (parcialmente aleatorio)."
      ],
      "metadata": {
        "id": "i0nUUnz52-oA"
      }
    },
    {
      "cell_type": "code",
      "source": [
        "random.seed(42)"
      ],
      "metadata": {
        "id": "evy_RNRr5JkF"
      },
      "execution_count": 16,
      "outputs": []
    },
    {
      "cell_type": "code",
      "source": [
        "#Generamos la Población Inicial\n",
        "pop1 = toolbox1.population()\n",
        "pop2 = toolbox2.population()\n",
        "pop3 = toolbox3.population()\n",
        "INITIAL_POP = [pop1, pop2, pop3]"
      ],
      "metadata": {
        "id": "HdUa7GlN0Ahu"
      },
      "execution_count": 17,
      "outputs": []
    },
    {
      "cell_type": "code",
      "source": [
        "# Definimos el objeto hof que almacenará el mejor individuo de cada experimento\n",
        "# encontrado a lo largo de las generaciones.\n",
        "hof1 = tools.HallOfFame(1)\n",
        "hof2 = tools.HallOfFame(1)\n",
        "hof3 = tools.HallOfFame(1)\n",
        "HOF = [hof1, hof2, hof3]"
      ],
      "metadata": {
        "id": "Gsn0T_2J0FcV"
      },
      "execution_count": 18,
      "outputs": []
    },
    {
      "cell_type": "code",
      "source": [
        "# Definimos un objeto para guardar las estadísticas de la \n",
        "# población a lo largo de las generaciones.\n",
        "stats1 = tools.Statistics(lambda ind: ind.fitness.values)\n",
        "stats2 = tools.Statistics(lambda ind: ind.fitness.values)\n",
        "stats3 = tools.Statistics(lambda ind: ind.fitness.values)\n",
        "STATS = [stats1, stats2, stats3]"
      ],
      "metadata": {
        "id": "0uEuKQc80OaF"
      },
      "execution_count": 19,
      "outputs": []
    },
    {
      "cell_type": "code",
      "source": [
        "# En dicho objeto, guardaremos: la media, la desviación típica, el mínimo \n",
        "# y el máximo por genereación.\n",
        "for stats in STATS:\n",
        "  stats.register(\"avg\", np.mean)\n",
        "  stats.register(\"std\", np.std)\n",
        "  stats.register(\"min\", np.min)\n",
        "  stats.register(\"max\", np.max)"
      ],
      "metadata": {
        "id": "dvAJeTQ50RoC"
      },
      "execution_count": 20,
      "outputs": []
    },
    {
      "cell_type": "code",
      "source": [
        "# loogbook contendrá todo el registro de evolución\n",
        "logbook1 = tools.Logbook()\n",
        "logbook2 = tools.Logbook()\n",
        "logbook3 = tools.Logbook()\n",
        "LOGBOOKS = [logbook1, logbook2, logbook3]"
      ],
      "metadata": {
        "id": "3RilOviU0WMw"
      },
      "execution_count": 21,
      "outputs": []
    },
    {
      "cell_type": "markdown",
      "source": [
        "#### 5. Lanzamos los experimentos"
      ],
      "metadata": {
        "id": "FCFyDlyL1w84"
      }
    },
    {
      "cell_type": "code",
      "source": [
        "# Empaquetamos los experimentos en una lista para lanzarlos cómodamente a través de un bucle for\n",
        "E = list(zip(EXPERIMENTOS, INITIAL_POP, HOF, STATS, LOGBOOKS))"
      ],
      "metadata": {
        "id": "78wzMgND1_qb"
      },
      "execution_count": 22,
      "outputs": []
    },
    {
      "cell_type": "code",
      "source": [
        "i = 0\n",
        "for exp, pop, hof, stats, logbook in E:\n",
        "  i += 1\n",
        "  print(f'\\nEXPERIMENTO {i}:\\n')\n",
        "  pop, logbook = algorithms.eaSimple(pop, toolbox, cxpb=CXPB,\n",
        "                                       mutpb=MUTPB, ngen=NGEN, stats=stats,\n",
        "                                       halloffame=hof, verbose=True)"
      ],
      "metadata": {
        "colab": {
          "base_uri": "https://localhost:8080/"
        },
        "id": "ZA0M35x50YkN",
        "outputId": "c294d6d7-59c8-4b4c-bbb4-c20546ee6a38"
      },
      "execution_count": 23,
      "outputs": [
        {
          "output_type": "stream",
          "name": "stdout",
          "text": [
            "\n",
            "EXPERIMENTO 1:\n",
            "\n",
            "gen\tnevals\tavg          \tstd\tmin          \tmax\n",
            "0  \t32    \t-2.16768e-285\t0  \t-6.93659e-284\t0  \n",
            "1  \t19    \t0            \t0  \t0            \t0  \n",
            "2  \t17    \t0            \t0  \t0            \t0  \n",
            "3  \t21    \t5.02362e-122 \t2.79703e-121\t0            \t1.60756e-120\n",
            "4  \t18    \t1.00472e-121 \t3.89128e-121\t0            \t1.60756e-120\n",
            "5  \t18    \t2.39659e-54  \t1.33437e-53 \t-2.11661e-232\t7.66909e-53 \n",
            "6  \t26    \t5.98937e-22  \t3.33474e-21 \t0            \t1.9166e-20  \n",
            "7  \t24    \t1.19787e-21  \t4.63935e-21 \t0            \t1.9166e-20  \n",
            "8  \t15    \t2.99469e-21  \t6.95902e-21 \t0            \t1.9166e-20  \n",
            "9  \t17    \t8.38512e-21  \t9.50784e-21 \t3.29447e-153 \t1.9166e-20  \n",
            "10 \t22    \t1.6752e-20   \t1.13476e-20 \t0            \t5.52394e-20 \n",
            "11 \t19    \t2.6984e-20   \t1.3945e-20  \t1.07487e-25  \t5.52394e-20 \n",
            "12 \t17    \t3.27612e-20  \t1.4561e-20  \t8.51459e-21  \t5.52394e-20 \n",
            "13 \t16    \t4.51936e-20  \t1.10717e-20 \t1.9166e-20   \t5.52394e-20 \n",
            "14 \t21    \t4.94157e-20  \t1.38597e-20 \t2.81985e-25  \t5.52394e-20 \n",
            "15 \t21    \t5.30372e-20  \t9.88719e-21 \t3.37812e-96  \t5.52394e-20 \n",
            "16 \t21    \t5.37394e-20  \t8.35207e-21 \t7.23699e-21  \t5.52394e-20 \n",
            "17 \t20    \t5.52394e-20  \t0           \t5.52394e-20  \t5.52394e-20 \n",
            "18 \t15    \t5.35132e-20  \t9.61126e-21 \t4.29139e-35  \t5.52394e-20 \n",
            "19 \t26    \t5.35132e-20  \t9.61126e-21 \t1.00536e-27  \t5.52394e-20 \n",
            "20 \t12    \t0.00295621   \t0.0164595   \t1.21865e-24  \t0.0945988   \n",
            "\n",
            "EXPERIMENTO 2:\n",
            "\n",
            "gen\tnevals\tavg\tstd\tmin\tmax\n",
            "0  \t32    \t0  \t0  \t0  \t0  \n",
            "1  \t23    \t0  \t0  \t0  \t0  \n",
            "2  \t18    \t0  \t0  \t0  \t0  \n",
            "3  \t13    \t3.4692e-136\t1.93157e-135\t0  \t1.11014e-134\n",
            "4  \t17    \t4.77667e-122\t2.65954e-121\t0  \t1.52853e-120\n",
            "5  \t20    \t1.433e-121  \t4.45538e-121\t0  \t1.52853e-120\n",
            "6  \t23    \t7.51294e-117\t4.18219e-116\t0  \t2.40367e-115\n",
            "7  \t20    \t2.254e-116  \t7.00607e-116\t0  \t2.40367e-115\n",
            "8  \t21    \t7.57168e-91 \t2.9325e-90  \t2.06929e-146\t1.21147e-89 \n",
            "9  \t16    \t3.40726e-90 \t5.44688e-90 \t2.06929e-146\t1.21147e-89 \n",
            "10 \t15    \t8.70743e-90 \t5.44688e-90 \t2.40367e-115\t1.21147e-89 \n",
            "11 \t20    \t1.21906e-89 \t4.22597e-91 \t1.21147e-89 \t1.45435e-89 \n",
            "12 \t17    \t1.20397e-89 \t2.30612e-90 \t1.90725e-123\t1.45435e-89 \n",
            "13 \t21    \t5.03276e-46 \t2.80212e-45 \t1.21147e-89 \t1.61048e-44 \n",
            "14 \t15    \t1.90288e-19 \t1.05948e-18 \t5.03597e-103\t6.08921e-18 \n",
            "15 \t22    \t7.45988e-05 \t0.000415348 \t1.21147e-89 \t0.00238716  \n",
            "16 \t16    \t0.000372994 \t0.000866759 \t1.45435e-89 \t0.00238716  \n",
            "17 \t14    \t0.00117979  \t0.00118221  \t1.23937e-83 \t0.00238716  \n",
            "18 \t18    \t0.00358391  \t0.0081376   \t6.08921e-18 \t0.0487272   \n",
            "19 \t24    \t0.00803047  \t0.0153927   \t6.29909e-12 \t0.0487272   \n",
            "20 \t15    \t0.012226    \t0.0193301   \t1.90161e-26 \t0.0487272   \n",
            "\n",
            "EXPERIMENTO 3:\n",
            "\n",
            "gen\tnevals\tavg        \tstd        \tmin         \tmax        \n",
            "0  \t32    \t6.05758e-50\t3.37272e-49\t-8.19747e-63\t1.93843e-48\n",
            "1  \t20    \t6.05758e-50\t3.37272e-49\t0           \t1.93843e-48\n",
            "2  \t21    \t3.02879e-49\t7.03827e-49\t0           \t1.93843e-48\n",
            "3  \t18    \t6.66334e-49\t9.20672e-49\t0           \t1.93843e-48\n",
            "4  \t19    \t1.45408e-48\t8.38909e-49\t0           \t1.93843e-48\n",
            "5  \t19    \t-5.46695e-10\t3.04387e-09\t-1.74942e-08\t1.93843e-48\n",
            "6  \t18    \t1.82666e-39 \t9.9261e-39 \t1.93843e-48 \t5.70768e-38\n",
            "7  \t17    \t5.95748e-39 \t1.66946e-38\t1.93843e-48 \t5.70768e-38\n",
            "8  \t13    \t0.000723232 \t0.00402678 \t5.71395e-130\t0.0231434  \n",
            "9  \t22    \t0.000723232 \t0.00402678 \t1.93843e-48 \t0.0231434  \n",
            "10 \t23    \t0.00289293  \t0.00765396 \t4.94066e-47 \t0.0231434  \n",
            "11 \t20    \t0.0115717   \t0.0115717  \t5.70768e-38 \t0.0231434  \n",
            "12 \t22    \t0.0939363   \t0.40251    \t5.70768e-38 \t2.3348     \n",
            "13 \t21    \t0.277898    \t0.695823   \t3.56339e-06 \t2.3348     \n",
            "14 \t18    \t0.572136    \t0.919133   \t1.31402e-11 \t2.3348     \n",
            "15 \t15    \t0.972816    \t1.06176    \t0.0231434   \t2.3348     \n",
            "16 \t13    \t1.78771     \t0.92929    \t1.06981e-27 \t3.00644    \n",
            "17 \t20    \t2.48172     \t0.277655   \t2.3348      \t3.00644    \n",
            "18 \t21    \t2.74895     \t0.978186   \t3.59083e-28 \t7.17617    \n",
            "19 \t20    \t3.01779     \t1.57786    \t-3.62661    \t7.17617    \n",
            "20 \t25    \t4.15202     \t2.1276     \t0.108086    \t7.17617    \n"
          ]
        }
      ]
    },
    {
      "cell_type": "markdown",
      "source": [
        "##Conclusiones\n",
        "Tras lanzar los experimentos, vemos que en solo 20 generaciones y con una población de 32 individuos, los resultados son poco favorables.\n",
        "\n",
        "El Experimento 3, haciendo uso de un cruce \"Uniforme\" devuelve un máximo lógico en comparación con los dos primeros desde la generación 18. Sin embargo, los experimientos 1 y 2 que hacen uso del cruce \"punto de cruce\" (de uno y dos puntos respectivamente) finalizan la veinteaba generación sin aproximarse al máximo real.\n",
        "\n",
        "¿Quiere decir esto que el cruce uniforme es el mejor?\n",
        "\n",
        "Probemos modificando los hiperparámetros y veamos qué sucede."
      ],
      "metadata": {
        "id": "KPkaxaqs4H42"
      }
    },
    {
      "cell_type": "markdown",
      "source": [
        "###Variaciones\n",
        "Cambiamos los valores de los hiperparámetros. En concreto el tamaño de la población y el número de generaciones."
      ],
      "metadata": {
        "id": "VyL12t_85RV6"
      }
    },
    {
      "cell_type": "code",
      "source": [
        "N_POBLACION = 150 # Tamaño población\n",
        "NGEN = 55 # Número de Generaciones"
      ],
      "metadata": {
        "id": "w_DNFmdZ5fVN"
      },
      "execution_count": 55,
      "outputs": []
    },
    {
      "cell_type": "code",
      "source": [
        "p_toolbox1 = base.Toolbox()\n",
        "p_toolbox2 = base.Toolbox()\n",
        "p_toolbox3 = base.Toolbox()\n",
        "\n",
        "PRUEBA = [p_toolbox1, p_toolbox2, p_toolbox3]"
      ],
      "metadata": {
        "id": "fjgi-jNl54E2"
      },
      "execution_count": 54,
      "outputs": []
    },
    {
      "cell_type": "code",
      "source": [
        "for toolbox in PRUEBA:\n",
        "  # Generación de genes\n",
        "  toolbox.register(\"attr_uniform\", random.uniform, -100, 100)\n",
        "  # Generación de inviduos\n",
        "  toolbox.register(\"individual\", tools.initRepeat, creator.Individual,\n",
        "                   toolbox.attr_uniform, 2)\n",
        "  # Generación de población\n",
        "  toolbox.register(\"population\", tools.initRepeat, list,\n",
        "                   toolbox.individual, N_POBLACION)"
      ],
      "metadata": {
        "id": "2H3vk8JK6Dk-"
      },
      "execution_count": 56,
      "outputs": []
    },
    {
      "cell_type": "code",
      "source": [
        "for toolbox in PRUEBA:\n",
        "  toolbox.register(\"evaluate\", funcion_objetivo)"
      ],
      "metadata": {
        "id": "ForG57RD6OLJ"
      },
      "execution_count": 57,
      "outputs": []
    },
    {
      "cell_type": "code",
      "source": [
        "# CRUCE\n",
        "p_toolbox1.register(\"mate\", tools.cxOnePoint)\n",
        "p_toolbox2.register(\"mate\", tools.cxTwoPoint)\n",
        "p_toolbox3.register(\"mate\", tools.cxUniform, indpb = UNIFORM_INDPB)"
      ],
      "metadata": {
        "id": "dpRAlfrD6S8y"
      },
      "execution_count": 58,
      "outputs": []
    },
    {
      "cell_type": "code",
      "source": [
        "for toolbox in PRUEBA:\n",
        "  # MUTACIÓN\n",
        "  toolbox.register(\"mutate\", tools.mutGaussian, mu=0,\n",
        "                   sigma= 5, indpb=0.1)\n",
        "  # SELECCIÓN\n",
        "  toolbox.register(\"select\", tools.selTournament, tournsize=3)"
      ],
      "metadata": {
        "id": "YqiCOeG96aw8"
      },
      "execution_count": 59,
      "outputs": []
    },
    {
      "cell_type": "code",
      "source": [
        "random.seed(42)\n",
        "\n",
        "# Generamos la Población Inicial\n",
        "p_pop1 = p_toolbox1.population()\n",
        "p_pop2 = p_toolbox2.population()\n",
        "p_pop3 = p_toolbox3.population()\n",
        "INITIAL_POP = [p_pop1, p_pop2, p_pop3]\n",
        "\n",
        "# Hof\n",
        "p_hof1 = tools.HallOfFame(1)\n",
        "p_hof2 = tools.HallOfFame(1)\n",
        "p_hof3 = tools.HallOfFame(1)\n",
        "HOF = [p_hof1, p_hof2, p_hof3]\n",
        "\n",
        "# Stats\n",
        "p_stats1 = tools.Statistics(lambda ind: ind.fitness.values)\n",
        "p_stats2 = tools.Statistics(lambda ind: ind.fitness.values)\n",
        "p_stats3 = tools.Statistics(lambda ind: ind.fitness.values)\n",
        "STATS = [p_stats1, p_stats2, p_stats3]"
      ],
      "metadata": {
        "id": "HdB-LX6s62NX"
      },
      "execution_count": 60,
      "outputs": []
    },
    {
      "cell_type": "code",
      "source": [
        "for stats in STATS:\n",
        "  stats.register(\"avg\", np.mean)\n",
        "  stats.register(\"std\", np.std)\n",
        "  stats.register(\"min\", np.min)\n",
        "  stats.register(\"max\", np.max)\n",
        "\n",
        "p_logbook1 = tools.Logbook()\n",
        "p_logbook2 = tools.Logbook()\n",
        "p_logbook3 = tools.Logbook()\n",
        "LOGBOOKS = [p_logbook1, p_logbook2, p_logbook3]"
      ],
      "metadata": {
        "id": "diJlcv_Y7XXL"
      },
      "execution_count": 61,
      "outputs": []
    },
    {
      "cell_type": "code",
      "source": [
        "E = list(zip(EXPERIMENTOS, INITIAL_POP, HOF, STATS, LOGBOOKS))"
      ],
      "metadata": {
        "id": "yM3ZT18i7pZQ"
      },
      "execution_count": 62,
      "outputs": []
    },
    {
      "cell_type": "code",
      "source": [
        "i = 0\n",
        "for exp, pop, hof, stats, logbook in E:\n",
        "  i += 1\n",
        "  print(f'\\n PRUEBA EXPERIMENTO {i}:\\n')\n",
        "  pop, logbook = algorithms.eaSimple(pop, toolbox, cxpb=CXPB,\n",
        "                                       mutpb=MUTPB, ngen=NGEN, stats=stats,\n",
        "                                       halloffame=hof, verbose=True)"
      ],
      "metadata": {
        "colab": {
          "base_uri": "https://localhost:8080/"
        },
        "id": "CG4BInuq7szG",
        "outputId": "05d679ac-03c8-415c-e43a-d4ba0083fad8"
      },
      "execution_count": 63,
      "outputs": [
        {
          "output_type": "stream",
          "name": "stdout",
          "text": [
            "\n",
            " PRUEBA EXPERIMENTO 1:\n",
            "\n",
            "gen\tnevals\tavg        \tstd        \tmin         \tmax        \n",
            "0  \t150   \t1.29228e-50\t1.57743e-49\t-8.19747e-63\t1.93843e-48\n",
            "1  \t83    \t3.87685e-50\t2.7138e-49 \t0           \t1.93843e-48\n",
            "2  \t84    \t2.76485e-42\t3.37493e-41\t0           \t4.14727e-40\n",
            "3  \t94    \t1.10594e-41\t6.68156e-41\t-3.93173e-72\t4.14727e-40\n",
            "4  \t94    \t4.01444e-40\t4.6971e-39 \t-3.93173e-72\t5.77282e-38\n",
            "5  \t96    \t1.58684e-39\t9.29351e-39\t-3.93173e-72\t5.77282e-38\n",
            "6  \t81    \t4.99154e-39\t1.58707e-38\t-3.93173e-72\t5.77282e-38\n",
            "7  \t105   \t3.73742e-05\t0.000467971\t-0.000141737\t0.00574795 \n",
            "8  \t91    \t2.5623e-18 \t3.12769e-17\t1.78798e-66 \t3.84345e-16\n",
            "9  \t89    \t7.70529e-18\t5.38061e-17\t-9.19233e-73\t3.84345e-16\n",
            "10 \t89    \t1.79361e-17\t8.10675e-17\t-5.85636e-68\t3.84345e-16\n",
            "11 \t94    \t0.0063887  \t0.077984   \t2.01964e-87 \t0.958305   \n",
            "12 \t89    \t0.0127774  \t0.109915   \t2.43387e-52 \t0.958305   \n",
            "13 \t89    \t0.0447209  \t0.202129   \t5.77282e-38 \t0.958305   \n",
            "14 \t96    \t0.122449   \t0.334224   \t-0.798724   \t0.958305   \n",
            "15 \t81    \t0.351378   \t0.461802   \t5.30063e-46 \t0.958305   \n",
            "16 \t95    \t0.717147   \t0.469069   \t-0.0665995  \t3.16927    \n",
            "17 \t93    \t0.924106   \t0.371386   \t-1.03224    \t3.16927    \n",
            "18 \t94    \t0.929774   \t0.638431   \t-4.96928    \t3.16927    \n",
            "19 \t90    \t1.15356    \t0.775791   \t-6.40894e-16\t5.87887    \n",
            "20 \t82    \t1.5447     \t1.19172    \t-0.821515   \t5.87887    \n",
            "21 \t98    \t2.1354     \t1.23215    \t-2.65582e-06\t5.87887    \n",
            "22 \t95    \t3.05956    \t0.729051   \t1.52503e-22 \t5.87887    \n",
            "23 \t84    \t3.38582    \t1.04733    \t-0.925313   \t5.87887    \n",
            "24 \t97    \t3.79739    \t1.2884     \t-5.08912e-09\t5.87887    \n",
            "25 \t105   \t4.61446    \t1.77729    \t-2.88062    \t5.89246    \n",
            "26 \t107   \t5.4867     \t1.2821     \t-0.0250152  \t5.89246    \n",
            "27 \t94    \t5.72114    \t0.902256   \t-2.28494e-08\t5.89246    \n",
            "28 \t89    \t5.79003    \t0.770032   \t-0.996233   \t5.89246    \n",
            "29 \t91    \t5.6643     \t1.07247    \t-0.00427448 \t5.89246    \n",
            "30 \t85    \t5.62664    \t1.21377    \t-2.57115    \t5.89246    \n",
            "31 \t74    \t5.69191    \t1.04714    \t2.59328e-29 \t5.89246    \n",
            "32 \t90    \t5.7702     \t0.826074   \t-0.000101986\t5.89246    \n",
            "33 \t77    \t5.80359    \t0.686282   \t-1.72087e-05\t5.89246    \n",
            "34 \t82    \t5.65774    \t1.14996    \t-0.00960465 \t5.89246    \n",
            "35 \t96    \t5.56699    \t1.41626    \t-1.39765    \t7.93589    \n",
            "36 \t85    \t5.85585    \t0.914409   \t-4.5471e-05 \t7.93589    \n",
            "37 \t80    \t6.00751    \t1.04548    \t1.27122e-30 \t7.93589    \n",
            "38 \t97    \t6.43187    \t1.32554    \t-1.51859    \t7.93589    \n",
            "39 \t77    \t7.14156    \t1.30753    \t2.43983e-29 \t7.93589    \n",
            "40 \t82    \t7.55637    \t1.4215     \t-8.02994e-06\t7.93589    \n",
            "41 \t93    \t7.73138    \t1.47582    \t-6.44624    \t7.93589    \n",
            "42 \t95    \t7.72425    \t1.27865    \t-0.0028526  \t7.93589    \n",
            "43 \t84    \t7.67563    \t1.40218    \t-1.14873e-16\t7.93589    \n",
            "44 \t105   \t7.45262    \t1.84555    \t-0.0359672  \t8.01931    \n",
            "45 \t97    \t7.83255    \t0.893997   \t1.87325e-07 \t8.01931    \n",
            "46 \t80    \t7.55818    \t1.8172     \t-5.98243    \t8.01931    \n",
            "47 \t89    \t7.88687    \t0.647134   \t0.00129303  \t8.01931    \n",
            "48 \t99    \t7.7595     \t1.20449    \t-0.672756   \t8.05987    \n",
            "49 \t89    \t7.80298    \t1.10046    \t-4.12198e-13\t8.05987    \n",
            "50 \t95    \t7.71731    \t1.47086    \t-0.563339   \t8.05987    \n",
            "51 \t92    \t7.95815    \t0.671973   \t-1.05847e-31\t8.09443    \n",
            "52 \t83    \t7.78183    \t1.39426    \t-1.01415e-09\t8.09443    \n",
            "53 \t72    \t7.45965    \t2.13431    \t-1.92995    \t8.09443    \n",
            "54 \t81    \t7.94634    \t0.898453   \t5.50126e-12 \t8.09443    \n",
            "55 \t81    \t7.84575    \t1.30394    \t-1.82253    \t8.09443    \n",
            "\n",
            " PRUEBA EXPERIMENTO 2:\n",
            "\n",
            "gen\tnevals\tavg        \tstd       \tmin          \tmax        \n",
            "0  \t150   \t2.18194e-28\t2.6634e-27\t-1.90551e-165\t3.27291e-26\n",
            "1  \t109   \t8.72776e-28\t5.2729e-27\t0            \t3.27291e-26\n",
            "2  \t86    \t1.52736e-27\t6.90335e-27\t-9.66348e-32 \t3.27291e-26\n",
            "3  \t93    \t-3.44076e-24\t4.20534e-23\t-5.16768e-22 \t3.27291e-26\n",
            "4  \t106   \t-2.53163e-19\t3.0899e-18 \t-3.79703e-17 \t8.37996e-25\n",
            "5  \t94    \t-1.03558e-09\t1.26408e-08\t-1.55336e-07 \t1.69272e-23\n",
            "6  \t76    \t-0.00934747 \t0.114101   \t-1.40213     \t6.36704e-06\n",
            "7  \t96    \t-0.000327711\t0.00398396 \t-0.0489577   \t6.36704e-06\n",
            "8  \t89    \t2.15666e-07 \t1.14263e-06\t2.42439e-38  \t6.36704e-06\n",
            "9  \t83    \t-0.00649122 \t0.0793797  \t-0.975444    \t0.000573491\n",
            "10 \t87    \t0.0274261   \t0.413439   \t-0.838057    \t5.00482    \n",
            "11 \t105   \t0.137467    \t0.80753    \t-0.0432614   \t5.00482    \n",
            "12 \t90    \t0.3806      \t1.30426    \t-0.0162056   \t5.00482    \n",
            "13 \t88    \t0.963223    \t1.9467     \t-0.975444    \t5.00482    \n",
            "14 \t92    \t1.87404     \t2.48343    \t-2.12411     \t7.7598     \n",
            "15 \t94    \t3.71185     \t2.24741    \t-2.12411     \t7.7598     \n",
            "16 \t76    \t4.79902     \t1.08129    \t0.000573491  \t7.7598     \n",
            "17 \t86    \t5.00261     \t0.997884   \t4.67885e-23  \t7.7598     \n",
            "18 \t83    \t5.15017     \t1.18637    \t-8.31193e-19 \t7.7598     \n",
            "19 \t85    \t5.95665     \t1.40083    \t-4.12528e-47 \t7.92038    \n",
            "20 \t93    \t6.94039     \t1.7417     \t-2.52152     \t7.92038    \n",
            "21 \t76    \t7.45824     \t1.58978    \t-5.97469     \t7.92038    \n",
            "22 \t85    \t7.36514     \t1.73981    \t-2.94237e-06 \t7.92038    \n",
            "23 \t78    \t7.56357     \t1.33583    \t-0.00950405  \t7.92038    \n",
            "24 \t80    \t7.82583     \t0.644965   \t2.23426e-09  \t7.92038    \n",
            "25 \t92    \t7.34076     \t2.04901    \t-1.29473     \t7.92038    \n",
            "26 \t94    \t7.38999     \t1.98683    \t-1.06577     \t7.92038    \n",
            "27 \t82    \t7.78697     \t0.964597   \t3.41036e-06  \t7.92038    \n",
            "28 \t95    \t7.7091      \t1.27646    \t-0.00687652  \t7.92038    \n",
            "29 \t92    \t7.57233     \t1.57915    \t-6.63634e-16 \t7.92038    \n",
            "30 \t99    \t7.74062     \t1.27419    \t-3.07153     \t7.92038    \n",
            "31 \t93    \t7.71141     \t1.22229    \t-9.64083e-07 \t7.92038    \n",
            "32 \t91    \t7.6613      \t1.39588    \t-0.00809294  \t7.92038    \n",
            "33 \t88    \t7.62555     \t1.65186    \t-5.7202      \t8.0286     \n",
            "34 \t79    \t7.35673     \t2.01189    \t5.53126e-35  \t8.0286     \n",
            "35 \t88    \t7.15986     \t2.54505    \t-6.24587     \t8.0286     \n",
            "36 \t98    \t7.51629     \t1.83499    \t-5.35575     \t8.0286     \n",
            "37 \t92    \t7.77113     \t1.12791    \t-0.358022    \t8.0286     \n",
            "38 \t94    \t7.52898     \t1.78771    \t-0.000102535 \t8.0286     \n",
            "39 \t72    \t7.74649     \t1.28033    \t-0.000490066 \t8.0286     \n",
            "40 \t92    \t7.82774     \t1.13184    \t5.4893e-38   \t8.0286     \n",
            "41 \t79    \t7.55622     \t1.96242    \t-5.4573      \t8.0286     \n",
            "42 \t98    \t7.58182     \t1.78125    \t-9.79948e-15 \t8.0286     \n",
            "43 \t83    \t7.86595     \t1.01614    \t5.42613e-42  \t8.0286     \n",
            "44 \t86    \t7.71808     \t1.44332    \t-2.72913e-05 \t8.0286     \n",
            "45 \t98    \t7.5869      \t1.81655    \t-2.73402     \t8.0286     \n",
            "46 \t89    \t7.85247     \t1.10836    \t-0.0297593   \t8.0286     \n",
            "47 \t95    \t7.70278     \t1.59704    \t-0.702846    \t8.0286     \n",
            "48 \t79    \t7.76971     \t1.39741    \t-0.000648862 \t8.0286     \n",
            "49 \t71    \t7.93035     \t0.84842    \t0.017066     \t8.0286     \n",
            "50 \t99    \t7.75575     \t1.41863    \t-4.90426e-26 \t8.0286     \n",
            "51 \t83    \t7.75297     \t1.38285    \t-1.35723e-44 \t8.0286     \n",
            "52 \t74    \t7.8168      \t1.27976    \t-0.00853306  \t8.0286     \n",
            "53 \t76    \t7.80649     \t1.29583    \t-4.7978e-09  \t8.0286     \n",
            "54 \t76    \t7.8145      \t1.29347    \t-0.000119648 \t8.0286     \n",
            "55 \t78    \t7.83494     \t1.18055    \t-5.86835e-13 \t8.0286     \n",
            "\n",
            " PRUEBA EXPERIMENTO 3:\n",
            "\n",
            "gen\tnevals\tavg        \tstd        \tmin         \tmax        \n",
            "0  \t150   \t4.63527e-38\t5.65807e-37\t-1.7451e-120\t6.95291e-36\n",
            "1  \t97    \t-0.00666667\t0.081377   \t-1          \t2.18479e-42\n",
            "2  \t101   \t8.03342e-18\t9.80604e-17\t0           \t1.20501e-15\n",
            "3  \t93    \t-6.71134e-12\t8.19227e-11\t-1.00671e-09\t1.20501e-15\n",
            "4  \t92    \t4.82057e-17 \t2.22295e-16\t0           \t1.20501e-15\n",
            "5  \t81    \t1.68308e-09 \t1.56843e-08\t-1.00671e-09\t1.77731e-07\n",
            "6  \t91    \t0.000118492 \t0.00144623 \t-8.71424e-40\t0.017772   \n",
            "7  \t93    \t0.000473957 \t0.00286319 \t2.18479e-42 \t0.017772   \n",
            "8  \t95    \t6.83417e-05 \t0.0385149  \t-0.443195   \t0.123701   \n",
            "9  \t103   \t0.017548    \t0.105377   \t2.04272e-20 \t1.27622    \n",
            "10 \t98    \t0.0545516   \t0.185577   \t2.14498e-41 \t1.27622    \n",
            "11 \t99    \t0.117316    \t0.273837   \t-2.36793e-16\t1.27622    \n",
            "12 \t92    \t0.249706    \t0.630357   \t-5.37353    \t1.27622    \n",
            "13 \t81    \t0.586512    \t0.514351   \t3.16222e-10 \t1.27622    \n",
            "14 \t93    \t0.995378    \t0.622793   \t-4.78388    \t1.27622    \n",
            "15 \t93    \t1.19485     \t0.283931   \t-5.4987e-10 \t1.27622    \n",
            "16 \t81    \t1.21916     \t0.265238   \t-0.170757   \t1.43472    \n",
            "17 \t87    \t1.23257     \t0.250069   \t-0.486136   \t1.43472    \n",
            "18 \t102   \t1.20302     \t0.545518   \t-4.8661     \t1.43472    \n",
            "19 \t84    \t1.24595     \t0.274549   \t-0.018075   \t2.17339    \n",
            "20 \t95    \t1.30627     \t0.246728   \t6.71863e-32 \t2.17339    \n",
            "21 \t74    \t1.39345     \t0.305706   \t-8.27061e-30\t2.51844    \n",
            "22 \t97    \t1.51119     \t0.410214   \t2.96108e-53 \t2.51844    \n",
            "23 \t90    \t1.71745     \t0.855479   \t-6.22686    \t2.51844    \n",
            "24 \t96    \t2.14662     \t0.596663   \t-1.385      \t2.51844    \n",
            "25 \t77    \t2.44708     \t0.571044   \t-0.709833   \t7.18076    \n",
            "26 \t80    \t2.56979     \t0.997121   \t-0.528114   \t7.18076    \n",
            "27 \t99    \t2.97994     \t1.86462    \t-6.43945    \t7.18076    \n",
            "28 \t99    \t4.0081      \t2.38939    \t-5.03467    \t7.64396    \n",
            "29 \t92    \t5.72595     \t2.40573    \t-6.02324    \t7.64396    \n",
            "30 \t98    \t6.90465     \t1.30122    \t-0.0191136  \t7.64396    \n",
            "31 \t107   \t7.08541     \t1.33877    \t-3.18111    \t7.64396    \n",
            "32 \t102   \t7.37659     \t1.12334    \t-6.05928    \t7.64396    \n",
            "33 \t83    \t7.56522     \t0.630761   \t1.22556e-14 \t7.64396    \n",
            "34 \t91    \t7.44124     \t1.22474    \t1.76783e-20 \t7.64396    \n",
            "35 \t103   \t7.54211     \t0.87737    \t-0.00942624 \t7.66516    \n",
            "36 \t88    \t7.34143     \t1.48295    \t4.8999e-38  \t7.66516    \n",
            "37 \t78    \t7.48781     \t1.00578    \t9.25068e-44 \t7.66516    \n",
            "38 \t98    \t7.18644     \t1.81626    \t-0.0227206  \t7.66516    \n",
            "39 \t95    \t7.44726     \t1.21175    \t-0.000289705\t7.66516    \n",
            "40 \t75    \t7.29515     \t1.61408    \t-8.20381e-06\t7.66516    \n",
            "41 \t91    \t7.31277     \t1.57135    \t-1.0973e-08 \t7.66516    \n",
            "42 \t88    \t7.56689     \t0.867861   \t1.38404e-13 \t8.08107    \n",
            "43 \t74    \t7.54926     \t1.088      \t-3.30321    \t8.08107    \n",
            "44 \t86    \t7.49247     \t1.22056    \t3.38026e-27 \t8.08107    \n",
            "45 \t95    \t7.42156     \t1.4748     \t-0.653606   \t8.08107    \n",
            "46 \t99    \t7.58993     \t1.22867    \t-3.38532e-12\t8.08107    \n",
            "47 \t83    \t7.70842     \t1.42557    \t-5.4073     \t8.08107    \n",
            "48 \t88    \t7.59538     \t1.92067    \t-3.96685    \t8.08107    \n",
            "49 \t89    \t7.97332     \t0.926882   \t-4.79422e-05\t8.08107    \n",
            "50 \t85    \t7.70583     \t1.73963    \t-3.63827    \t8.08107    \n",
            "51 \t76    \t7.88649     \t1.18994    \t0.000768801 \t8.08107    \n",
            "52 \t83    \t7.75757     \t1.58481    \t-0.0382846  \t8.08107    \n",
            "53 \t88    \t7.75812     \t1.58212    \t7.34847e-20 \t8.08107    \n",
            "54 \t87    \t7.81544     \t1.36538    \t-0.00237377 \t8.08107    \n",
            "55 \t96    \t7.85228     \t1.30981    \t-6.54872e-05\t8.08107    \n"
          ]
        }
      ]
    },
    {
      "cell_type": "markdown",
      "source": [
        "Observamos ahora, que el mejor Experimento (con 55 generaciones y una población bastante mayor de 150 individuos) sería el primero, con un punto de cruce.\n",
        "\n",
        "El segundo sigue sin alcanzar el máximo pero ya devuelve una cifra superior al 8. Y el tercero, sigue siendo notablemente bueno.\n",
        "\n",
        "También, entendemos que convergería de otra manera si la semilla elegida fuese otra distinta, ya que los números aleatorios serían otros. Entendemos que dos puntos de cruce debería dar un resultado más favorable que uno solo, ya que implementa una mayor diversidad y es más probable converger al máximo antes; pero como hemos dicho, esto tiene que ver con la aleatoriedad.\n",
        "\n",
        "Otra de las pruebas que realizamos fue cambiar la semilla de 42 a 100 y los resultados fueron como esperábamos:\n",
        "\n",
        "\n",
        "1.   Experimento 1 alcanzó el 3.54118 como máximo\n",
        "2.   Experimento 2 alcanzó el 7.97463 como máximo\n",
        "3.   Experimento 3 alcanzó el 8.09737 como máximo\n",
        "\n",
        "Como se puede ver, el segundo es mucho mejor que el primero si cambiamos la semilla.\n"
      ],
      "metadata": {
        "id": "_R3zxYXe-V5S"
      }
    },
    {
      "cell_type": "markdown",
      "source": [
        "###Otras conclusiones\n",
        "Finalmente, podemos concluir que no hay gran diferencia entre un cruce u otro, el mayor peso lo tiene la aleatoriedad, pues depende de los números random que se generen los resultados van a ser increiblemente dispares.\n",
        "\n",
        "Si bien, seguimos apoyando que dos cruces devuelven mejores resultados que uno solo en la mayoría de los casos, debido a lo que citamos previamente, que habrá mayor diversidad de individuos.\n",
        "\n",
        "Tras realizar este ejercicio entendemos claramente el nombre que se le ha dado a este algoritmo, pues al fin y al cabo, la genética depende con un porcentaje muy alto de la aleatoriedad."
      ],
      "metadata": {
        "id": "YugDKMliCCf-"
      }
    }
  ]
}