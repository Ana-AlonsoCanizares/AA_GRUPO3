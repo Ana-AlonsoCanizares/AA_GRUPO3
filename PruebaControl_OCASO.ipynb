{
  "cells": [
    {
      "cell_type": "markdown",
      "source": [
        "#Medición Prueba de Control\n",
        "Archivo para medir las diferencias de accesos y lecturas en el grupo experimental frente al de control **(OJO, hay que añadir tb la parte de producción y tendencia).**\n",
        "\n",
        "Diariamente se descargan los datos de la auditoria de los usuarios desde el lunes sábado 13 de Abril de 2024 a las 00:00 horas hasta el momento actual."
      ],
      "metadata": {
        "id": "J_7Geb6Tw0h5"
      }
    },
    {
      "cell_type": "code",
      "source": [
        "pip install unidecode"
      ],
      "metadata": {
        "colab": {
          "base_uri": "https://localhost:8080/"
        },
        "id": "Z4n14WnR0WYq",
        "outputId": "609fb8ca-46b2-4848-e42d-c21b69faaf1d"
      },
      "execution_count": 1,
      "outputs": [
        {
          "output_type": "stream",
          "name": "stdout",
          "text": [
            "Collecting unidecode\n",
            "  Downloading Unidecode-1.3.8-py3-none-any.whl (235 kB)\n",
            "\u001b[?25l     \u001b[90m━━━━━━━━━━━━━━━━━━━━━━━━━━━━━━━━━━━━━━━━\u001b[0m \u001b[32m0.0/235.5 kB\u001b[0m \u001b[31m?\u001b[0m eta \u001b[36m-:--:--\u001b[0m\r\u001b[2K     \u001b[91m━━━━━━━━━━━━━━━━━\u001b[0m\u001b[90m╺\u001b[0m\u001b[90m━━━━━━━━━━━━━━━━━━━━━━\u001b[0m \u001b[32m102.4/235.5 kB\u001b[0m \u001b[31m2.8 MB/s\u001b[0m eta \u001b[36m0:00:01\u001b[0m\r\u001b[2K     \u001b[90m━━━━━━━━━━━━━━━━━━━━━━━━━━━━━━━━━━━━━━━━\u001b[0m \u001b[32m235.5/235.5 kB\u001b[0m \u001b[31m4.2 MB/s\u001b[0m eta \u001b[36m0:00:00\u001b[0m\n",
            "\u001b[?25hInstalling collected packages: unidecode\n",
            "Successfully installed unidecode-1.3.8\n"
          ]
        }
      ]
    },
    {
      "cell_type": "code",
      "source": [
        "import os\n",
        "import pandas as pd\n",
        "import numpy as np\n",
        "from unidecode import unidecode\n",
        "import matplotlib.pyplot as plt"
      ],
      "metadata": {
        "id": "rIQdcLOMzBMk"
      },
      "execution_count": 2,
      "outputs": []
    },
    {
      "cell_type": "markdown",
      "source": [
        "Defino el grupo experimental como Gr1 y el de control como Gr2.\n",
        "\n",
        "Hay que tener en cuenta que agentes_inicio son todos los agentes que había el viernes 12 de Abril, se hará un cruce con los agentes del grupo experimental para crear el Gr1."
      ],
      "metadata": {
        "id": "2q_OpRRO3L5B"
      }
    },
    {
      "cell_type": "markdown",
      "source": [
        "##Archivos necesarios\n",
        "Auditoria (descargar todos los días), 1.18 para ver las bajas (descargar todos los días), estructura comercial, grupo control, estandar grupo experimental, formacion grupo experimental, exp_ctrl que es auditoria meses previos grupo experimental (descargar todos los días para meses (o semanas) previos), el 1.12.1 producción por meses (descargar de vez en cuando) y el 1.26 mensual para ver el tipo de producción que se ha realizado (descargar diariamente el mes actual).\n",
        "\n",
        "Subir todos al colab para ser ejecutados."
      ],
      "metadata": {
        "id": "U2ktAJLhE-hL"
      }
    },
    {
      "cell_type": "code",
      "source": [
        "accesos_usuarios_df = pd.read_excel('/content/2.13_Auditoria_usuarios.xlsx')\n",
        "agentes_inicio = pd.read_excel('/content/1.18_Estructura_Comercial.xlsx')\n",
        "Gr2 = pd.read_excel('/content/1.18_Grupo_de_control.xlsx')\n",
        "est_gr_exp = pd.read_excel('/content/estandar_gr_exp.xlsx')\n",
        "for_gr_exp = pd.read_excel('/content/formacion_gr_exp.xlsx')\n",
        "bajas = pd.read_excel('/content/1.18_Bajas.xlsx')\n",
        "prod_fis_corr = pd.read_excel('/content/1.12.1_Produccion_Meses.xlsx')\n",
        "prod_enero = pd.read_excel('/content/1.26_Rappel_Produccion_Agentes_Enero.xlsx')\n",
        "prod_febrero = pd.read_excel('/content/1.26_Rappel_Produccion_Agentes_Febrero.xlsx')\n",
        "prod_marzo = pd.read_excel('/content/1.26_Rappel_Produccion_Agentes_Marzo.xlsx')\n",
        "prod_abril = pd.read_excel('/content/1.26_Rappel_Produccion_Agentes_Abril.xlsx')\n",
        "prod_mayo = pd.read_excel('/content/1.26_Rappel_Produccion_Agentes_Mayo.xlsx')\n",
        "# prod_junio = pd.read_excel('/content/1.26_Rappel_Produccion_Agentes_Junio.xlsx')\n",
        "\n",
        "# Prueba grupo experimental como grupo de control_2\n",
        "aud_gr1_2 = pd.read_excel('/content/Exp_Ctrl.xlsx')"
      ],
      "metadata": {
        "id": "VlcBLzraxbIm",
        "colab": {
          "base_uri": "https://localhost:8080/",
          "height": 391
        },
        "outputId": "f59ec79d-0ded-420e-ae77-6557ac57b40f"
      },
      "execution_count": 76,
      "outputs": [
        {
          "output_type": "error",
          "ename": "KeyboardInterrupt",
          "evalue": "",
          "traceback": [
            "\u001b[0;31m---------------------------------------------------------------------------\u001b[0m",
            "\u001b[0;31mKeyboardInterrupt\u001b[0m                         Traceback (most recent call last)",
            "\u001b[0;32m<ipython-input-76-9c7885be29a9>\u001b[0m in \u001b[0;36m<cell line: 1>\u001b[0;34m()\u001b[0m\n\u001b[0;32m----> 1\u001b[0;31m \u001b[0maccesos_usuarios_df\u001b[0m \u001b[0;34m=\u001b[0m \u001b[0mpd\u001b[0m\u001b[0;34m.\u001b[0m\u001b[0mread_excel\u001b[0m\u001b[0;34m(\u001b[0m\u001b[0;34m'/content/2.13_Auditoria_usuarios.xlsx'\u001b[0m\u001b[0;34m)\u001b[0m\u001b[0;34m\u001b[0m\u001b[0;34m\u001b[0m\u001b[0m\n\u001b[0m\u001b[1;32m      2\u001b[0m \u001b[0magentes_inicio\u001b[0m \u001b[0;34m=\u001b[0m \u001b[0mpd\u001b[0m\u001b[0;34m.\u001b[0m\u001b[0mread_excel\u001b[0m\u001b[0;34m(\u001b[0m\u001b[0;34m'/content/1.18_Estructura_Comercial.xlsx'\u001b[0m\u001b[0;34m)\u001b[0m\u001b[0;34m\u001b[0m\u001b[0;34m\u001b[0m\u001b[0m\n\u001b[1;32m      3\u001b[0m \u001b[0mGr2\u001b[0m \u001b[0;34m=\u001b[0m \u001b[0mpd\u001b[0m\u001b[0;34m.\u001b[0m\u001b[0mread_excel\u001b[0m\u001b[0;34m(\u001b[0m\u001b[0;34m'/content/1.18_Grupo_de_control.xlsx'\u001b[0m\u001b[0;34m)\u001b[0m\u001b[0;34m\u001b[0m\u001b[0;34m\u001b[0m\u001b[0m\n\u001b[1;32m      4\u001b[0m \u001b[0mest_gr_exp\u001b[0m \u001b[0;34m=\u001b[0m \u001b[0mpd\u001b[0m\u001b[0;34m.\u001b[0m\u001b[0mread_excel\u001b[0m\u001b[0;34m(\u001b[0m\u001b[0;34m'/content/estandar_gr_exp.xlsx'\u001b[0m\u001b[0;34m)\u001b[0m\u001b[0;34m\u001b[0m\u001b[0;34m\u001b[0m\u001b[0m\n\u001b[1;32m      5\u001b[0m \u001b[0mfor_gr_exp\u001b[0m \u001b[0;34m=\u001b[0m \u001b[0mpd\u001b[0m\u001b[0;34m.\u001b[0m\u001b[0mread_excel\u001b[0m\u001b[0;34m(\u001b[0m\u001b[0;34m'/content/formacion_gr_exp.xlsx'\u001b[0m\u001b[0;34m)\u001b[0m\u001b[0;34m\u001b[0m\u001b[0;34m\u001b[0m\u001b[0m\n",
            "\u001b[0;32m/usr/local/lib/python3.10/dist-packages/pandas/io/excel/_base.py\u001b[0m in \u001b[0;36mread_excel\u001b[0;34m(io, sheet_name, header, names, index_col, usecols, dtype, engine, converters, true_values, false_values, skiprows, nrows, na_values, keep_default_na, na_filter, verbose, parse_dates, date_parser, date_format, thousands, decimal, comment, skipfooter, storage_options, dtype_backend)\u001b[0m\n\u001b[1;32m    484\u001b[0m \u001b[0;34m\u001b[0m\u001b[0m\n\u001b[1;32m    485\u001b[0m     \u001b[0;32mtry\u001b[0m\u001b[0;34m:\u001b[0m\u001b[0;34m\u001b[0m\u001b[0;34m\u001b[0m\u001b[0m\n\u001b[0;32m--> 486\u001b[0;31m         data = io.parse(\n\u001b[0m\u001b[1;32m    487\u001b[0m             \u001b[0msheet_name\u001b[0m\u001b[0;34m=\u001b[0m\u001b[0msheet_name\u001b[0m\u001b[0;34m,\u001b[0m\u001b[0;34m\u001b[0m\u001b[0;34m\u001b[0m\u001b[0m\n\u001b[1;32m    488\u001b[0m             \u001b[0mheader\u001b[0m\u001b[0;34m=\u001b[0m\u001b[0mheader\u001b[0m\u001b[0;34m,\u001b[0m\u001b[0;34m\u001b[0m\u001b[0;34m\u001b[0m\u001b[0m\n",
            "\u001b[0;32m/usr/local/lib/python3.10/dist-packages/pandas/io/excel/_base.py\u001b[0m in \u001b[0;36mparse\u001b[0;34m(self, sheet_name, header, names, index_col, usecols, converters, true_values, false_values, skiprows, nrows, na_values, parse_dates, date_parser, date_format, thousands, comment, skipfooter, dtype_backend, **kwds)\u001b[0m\n\u001b[1;32m   1549\u001b[0m             \u001b[0mDataFrame\u001b[0m \u001b[0;32mfrom\u001b[0m \u001b[0mthe\u001b[0m \u001b[0mpassed\u001b[0m \u001b[0;32min\u001b[0m \u001b[0mExcel\u001b[0m \u001b[0mfile\u001b[0m\u001b[0;34m.\u001b[0m\u001b[0;34m\u001b[0m\u001b[0;34m\u001b[0m\u001b[0m\n\u001b[1;32m   1550\u001b[0m         \"\"\"\n\u001b[0;32m-> 1551\u001b[0;31m         return self._reader.parse(\n\u001b[0m\u001b[1;32m   1552\u001b[0m             \u001b[0msheet_name\u001b[0m\u001b[0;34m=\u001b[0m\u001b[0msheet_name\u001b[0m\u001b[0;34m,\u001b[0m\u001b[0;34m\u001b[0m\u001b[0;34m\u001b[0m\u001b[0m\n\u001b[1;32m   1553\u001b[0m             \u001b[0mheader\u001b[0m\u001b[0;34m=\u001b[0m\u001b[0mheader\u001b[0m\u001b[0;34m,\u001b[0m\u001b[0;34m\u001b[0m\u001b[0;34m\u001b[0m\u001b[0m\n",
            "\u001b[0;32m/usr/local/lib/python3.10/dist-packages/pandas/io/excel/_base.py\u001b[0m in \u001b[0;36mparse\u001b[0;34m(self, sheet_name, header, names, index_col, usecols, dtype, true_values, false_values, skiprows, nrows, na_values, verbose, parse_dates, date_parser, date_format, thousands, decimal, comment, skipfooter, dtype_backend, **kwds)\u001b[0m\n\u001b[1;32m    749\u001b[0m \u001b[0;34m\u001b[0m\u001b[0m\n\u001b[1;32m    750\u001b[0m             \u001b[0mfile_rows_needed\u001b[0m \u001b[0;34m=\u001b[0m \u001b[0mself\u001b[0m\u001b[0;34m.\u001b[0m\u001b[0m_calc_rows\u001b[0m\u001b[0;34m(\u001b[0m\u001b[0mheader\u001b[0m\u001b[0;34m,\u001b[0m \u001b[0mindex_col\u001b[0m\u001b[0;34m,\u001b[0m \u001b[0mskiprows\u001b[0m\u001b[0;34m,\u001b[0m \u001b[0mnrows\u001b[0m\u001b[0;34m)\u001b[0m\u001b[0;34m\u001b[0m\u001b[0;34m\u001b[0m\u001b[0m\n\u001b[0;32m--> 751\u001b[0;31m             \u001b[0mdata\u001b[0m \u001b[0;34m=\u001b[0m \u001b[0mself\u001b[0m\u001b[0;34m.\u001b[0m\u001b[0mget_sheet_data\u001b[0m\u001b[0;34m(\u001b[0m\u001b[0msheet\u001b[0m\u001b[0;34m,\u001b[0m \u001b[0mfile_rows_needed\u001b[0m\u001b[0;34m)\u001b[0m\u001b[0;34m\u001b[0m\u001b[0;34m\u001b[0m\u001b[0m\n\u001b[0m\u001b[1;32m    752\u001b[0m             \u001b[0;32mif\u001b[0m \u001b[0mhasattr\u001b[0m\u001b[0;34m(\u001b[0m\u001b[0msheet\u001b[0m\u001b[0;34m,\u001b[0m \u001b[0;34m\"close\"\u001b[0m\u001b[0;34m)\u001b[0m\u001b[0;34m:\u001b[0m\u001b[0;34m\u001b[0m\u001b[0;34m\u001b[0m\u001b[0m\n\u001b[1;32m    753\u001b[0m                 \u001b[0;31m# pyxlsb opens two TemporaryFiles\u001b[0m\u001b[0;34m\u001b[0m\u001b[0;34m\u001b[0m\u001b[0m\n",
            "\u001b[0;32m/usr/local/lib/python3.10/dist-packages/pandas/io/excel/_openpyxl.py\u001b[0m in \u001b[0;36mget_sheet_data\u001b[0;34m(self, sheet, file_rows_needed)\u001b[0m\n\u001b[1;32m    600\u001b[0m         \u001b[0mdata\u001b[0m\u001b[0;34m:\u001b[0m \u001b[0mlist\u001b[0m\u001b[0;34m[\u001b[0m\u001b[0mlist\u001b[0m\u001b[0;34m[\u001b[0m\u001b[0mScalar\u001b[0m\u001b[0;34m]\u001b[0m\u001b[0;34m]\u001b[0m \u001b[0;34m=\u001b[0m \u001b[0;34m[\u001b[0m\u001b[0;34m]\u001b[0m\u001b[0;34m\u001b[0m\u001b[0;34m\u001b[0m\u001b[0m\n\u001b[1;32m    601\u001b[0m         \u001b[0mlast_row_with_data\u001b[0m \u001b[0;34m=\u001b[0m \u001b[0;34m-\u001b[0m\u001b[0;36m1\u001b[0m\u001b[0;34m\u001b[0m\u001b[0;34m\u001b[0m\u001b[0m\n\u001b[0;32m--> 602\u001b[0;31m         \u001b[0;32mfor\u001b[0m \u001b[0mrow_number\u001b[0m\u001b[0;34m,\u001b[0m \u001b[0mrow\u001b[0m \u001b[0;32min\u001b[0m \u001b[0menumerate\u001b[0m\u001b[0;34m(\u001b[0m\u001b[0msheet\u001b[0m\u001b[0;34m.\u001b[0m\u001b[0mrows\u001b[0m\u001b[0;34m)\u001b[0m\u001b[0;34m:\u001b[0m\u001b[0;34m\u001b[0m\u001b[0;34m\u001b[0m\u001b[0m\n\u001b[0m\u001b[1;32m    603\u001b[0m             \u001b[0mconverted_row\u001b[0m \u001b[0;34m=\u001b[0m \u001b[0;34m[\u001b[0m\u001b[0mself\u001b[0m\u001b[0;34m.\u001b[0m\u001b[0m_convert_cell\u001b[0m\u001b[0;34m(\u001b[0m\u001b[0mcell\u001b[0m\u001b[0;34m)\u001b[0m \u001b[0;32mfor\u001b[0m \u001b[0mcell\u001b[0m \u001b[0;32min\u001b[0m \u001b[0mrow\u001b[0m\u001b[0;34m]\u001b[0m\u001b[0;34m\u001b[0m\u001b[0;34m\u001b[0m\u001b[0m\n\u001b[1;32m    604\u001b[0m             \u001b[0;32mwhile\u001b[0m \u001b[0mconverted_row\u001b[0m \u001b[0;32mand\u001b[0m \u001b[0mconverted_row\u001b[0m\u001b[0;34m[\u001b[0m\u001b[0;34m-\u001b[0m\u001b[0;36m1\u001b[0m\u001b[0;34m]\u001b[0m \u001b[0;34m==\u001b[0m \u001b[0;34m\"\"\u001b[0m\u001b[0;34m:\u001b[0m\u001b[0;34m\u001b[0m\u001b[0;34m\u001b[0m\u001b[0m\n",
            "\u001b[0;32m/usr/local/lib/python3.10/dist-packages/openpyxl/worksheet/_read_only.py\u001b[0m in \u001b[0;36m_cells_by_row\u001b[0;34m(self, min_col, min_row, max_col, max_row, values_only)\u001b[0m\n\u001b[1;32m     79\u001b[0m                                  \u001b[0mdata_only\u001b[0m\u001b[0;34m=\u001b[0m\u001b[0mself\u001b[0m\u001b[0;34m.\u001b[0m\u001b[0mparent\u001b[0m\u001b[0;34m.\u001b[0m\u001b[0mdata_only\u001b[0m\u001b[0;34m,\u001b[0m \u001b[0mepoch\u001b[0m\u001b[0;34m=\u001b[0m\u001b[0mself\u001b[0m\u001b[0;34m.\u001b[0m\u001b[0mparent\u001b[0m\u001b[0;34m.\u001b[0m\u001b[0mepoch\u001b[0m\u001b[0;34m,\u001b[0m\u001b[0;34m\u001b[0m\u001b[0;34m\u001b[0m\u001b[0m\n\u001b[1;32m     80\u001b[0m                                  date_formats=self.parent._date_formats)\n\u001b[0;32m---> 81\u001b[0;31m         \u001b[0;32mfor\u001b[0m \u001b[0midx\u001b[0m\u001b[0;34m,\u001b[0m \u001b[0mrow\u001b[0m \u001b[0;32min\u001b[0m \u001b[0mparser\u001b[0m\u001b[0;34m.\u001b[0m\u001b[0mparse\u001b[0m\u001b[0;34m(\u001b[0m\u001b[0;34m)\u001b[0m\u001b[0;34m:\u001b[0m\u001b[0;34m\u001b[0m\u001b[0;34m\u001b[0m\u001b[0m\n\u001b[0m\u001b[1;32m     82\u001b[0m             \u001b[0;32mif\u001b[0m \u001b[0mmax_row\u001b[0m \u001b[0;32mis\u001b[0m \u001b[0;32mnot\u001b[0m \u001b[0;32mNone\u001b[0m \u001b[0;32mand\u001b[0m \u001b[0midx\u001b[0m \u001b[0;34m>\u001b[0m \u001b[0mmax_row\u001b[0m\u001b[0;34m:\u001b[0m\u001b[0;34m\u001b[0m\u001b[0;34m\u001b[0m\u001b[0m\n\u001b[1;32m     83\u001b[0m                 \u001b[0;32mbreak\u001b[0m\u001b[0;34m\u001b[0m\u001b[0;34m\u001b[0m\u001b[0m\n",
            "\u001b[0;32m/usr/local/lib/python3.10/dist-packages/openpyxl/worksheet/_reader.py\u001b[0m in \u001b[0;36mparse\u001b[0;34m(self)\u001b[0m\n\u001b[1;32m    154\u001b[0m         \u001b[0mit\u001b[0m \u001b[0;34m=\u001b[0m \u001b[0miterparse\u001b[0m\u001b[0;34m(\u001b[0m\u001b[0mself\u001b[0m\u001b[0;34m.\u001b[0m\u001b[0msource\u001b[0m\u001b[0;34m)\u001b[0m \u001b[0;31m# add a finaliser to close the source when this becomes possible\u001b[0m\u001b[0;34m\u001b[0m\u001b[0;34m\u001b[0m\u001b[0m\n\u001b[1;32m    155\u001b[0m \u001b[0;34m\u001b[0m\u001b[0m\n\u001b[0;32m--> 156\u001b[0;31m         \u001b[0;32mfor\u001b[0m \u001b[0m_\u001b[0m\u001b[0;34m,\u001b[0m \u001b[0melement\u001b[0m \u001b[0;32min\u001b[0m \u001b[0mit\u001b[0m\u001b[0;34m:\u001b[0m\u001b[0;34m\u001b[0m\u001b[0;34m\u001b[0m\u001b[0m\n\u001b[0m\u001b[1;32m    157\u001b[0m             \u001b[0mtag_name\u001b[0m \u001b[0;34m=\u001b[0m \u001b[0melement\u001b[0m\u001b[0;34m.\u001b[0m\u001b[0mtag\u001b[0m\u001b[0;34m\u001b[0m\u001b[0;34m\u001b[0m\u001b[0m\n\u001b[1;32m    158\u001b[0m             \u001b[0;32mif\u001b[0m \u001b[0mtag_name\u001b[0m \u001b[0;32min\u001b[0m \u001b[0mdispatcher\u001b[0m\u001b[0;34m:\u001b[0m\u001b[0;34m\u001b[0m\u001b[0;34m\u001b[0m\u001b[0m\n",
            "\u001b[0;32m/usr/lib/python3.10/xml/etree/ElementTree.py\u001b[0m in \u001b[0;36miterator\u001b[0;34m(source)\u001b[0m\n\u001b[1;32m   1256\u001b[0m                 \u001b[0;32mif\u001b[0m \u001b[0;32mnot\u001b[0m \u001b[0mdata\u001b[0m\u001b[0;34m:\u001b[0m\u001b[0;34m\u001b[0m\u001b[0;34m\u001b[0m\u001b[0m\n\u001b[1;32m   1257\u001b[0m                     \u001b[0;32mbreak\u001b[0m\u001b[0;34m\u001b[0m\u001b[0;34m\u001b[0m\u001b[0m\n\u001b[0;32m-> 1258\u001b[0;31m                 \u001b[0mpullparser\u001b[0m\u001b[0;34m.\u001b[0m\u001b[0mfeed\u001b[0m\u001b[0;34m(\u001b[0m\u001b[0mdata\u001b[0m\u001b[0;34m)\u001b[0m\u001b[0;34m\u001b[0m\u001b[0;34m\u001b[0m\u001b[0m\n\u001b[0m\u001b[1;32m   1259\u001b[0m             \u001b[0mroot\u001b[0m \u001b[0;34m=\u001b[0m \u001b[0mpullparser\u001b[0m\u001b[0;34m.\u001b[0m\u001b[0m_close_and_return_root\u001b[0m\u001b[0;34m(\u001b[0m\u001b[0;34m)\u001b[0m\u001b[0;34m\u001b[0m\u001b[0;34m\u001b[0m\u001b[0m\n\u001b[1;32m   1260\u001b[0m             \u001b[0;32myield\u001b[0m \u001b[0;32mfrom\u001b[0m \u001b[0mpullparser\u001b[0m\u001b[0;34m.\u001b[0m\u001b[0mread_events\u001b[0m\u001b[0;34m(\u001b[0m\u001b[0;34m)\u001b[0m\u001b[0;34m\u001b[0m\u001b[0;34m\u001b[0m\u001b[0m\n",
            "\u001b[0;32m/usr/lib/python3.10/xml/etree/ElementTree.py\u001b[0m in \u001b[0;36mfeed\u001b[0;34m(self, data)\u001b[0m\n\u001b[1;32m   1294\u001b[0m         \u001b[0;32mif\u001b[0m \u001b[0mdata\u001b[0m\u001b[0;34m:\u001b[0m\u001b[0;34m\u001b[0m\u001b[0;34m\u001b[0m\u001b[0m\n\u001b[1;32m   1295\u001b[0m             \u001b[0;32mtry\u001b[0m\u001b[0;34m:\u001b[0m\u001b[0;34m\u001b[0m\u001b[0;34m\u001b[0m\u001b[0m\n\u001b[0;32m-> 1296\u001b[0;31m                 \u001b[0mself\u001b[0m\u001b[0;34m.\u001b[0m\u001b[0m_parser\u001b[0m\u001b[0;34m.\u001b[0m\u001b[0mfeed\u001b[0m\u001b[0;34m(\u001b[0m\u001b[0mdata\u001b[0m\u001b[0;34m)\u001b[0m\u001b[0;34m\u001b[0m\u001b[0;34m\u001b[0m\u001b[0m\n\u001b[0m\u001b[1;32m   1297\u001b[0m             \u001b[0;32mexcept\u001b[0m \u001b[0mSyntaxError\u001b[0m \u001b[0;32mas\u001b[0m \u001b[0mexc\u001b[0m\u001b[0;34m:\u001b[0m\u001b[0;34m\u001b[0m\u001b[0;34m\u001b[0m\u001b[0m\n\u001b[1;32m   1298\u001b[0m                 \u001b[0mself\u001b[0m\u001b[0;34m.\u001b[0m\u001b[0m_events_queue\u001b[0m\u001b[0;34m.\u001b[0m\u001b[0mappend\u001b[0m\u001b[0;34m(\u001b[0m\u001b[0mexc\u001b[0m\u001b[0;34m)\u001b[0m\u001b[0;34m\u001b[0m\u001b[0;34m\u001b[0m\u001b[0m\n",
            "\u001b[0;32m/usr/lib/python3.10/xml/etree/ElementTree.py\u001b[0m in \u001b[0;36mfeed\u001b[0;34m(self, data)\u001b[0m\n\u001b[1;32m   1711\u001b[0m         \u001b[0;34m\"\"\"Feed encoded data to parser.\"\"\"\u001b[0m\u001b[0;34m\u001b[0m\u001b[0;34m\u001b[0m\u001b[0m\n\u001b[1;32m   1712\u001b[0m         \u001b[0;32mtry\u001b[0m\u001b[0;34m:\u001b[0m\u001b[0;34m\u001b[0m\u001b[0;34m\u001b[0m\u001b[0m\n\u001b[0;32m-> 1713\u001b[0;31m             \u001b[0mself\u001b[0m\u001b[0;34m.\u001b[0m\u001b[0mparser\u001b[0m\u001b[0;34m.\u001b[0m\u001b[0mParse\u001b[0m\u001b[0;34m(\u001b[0m\u001b[0mdata\u001b[0m\u001b[0;34m,\u001b[0m \u001b[0;32mFalse\u001b[0m\u001b[0;34m)\u001b[0m\u001b[0;34m\u001b[0m\u001b[0;34m\u001b[0m\u001b[0m\n\u001b[0m\u001b[1;32m   1714\u001b[0m         \u001b[0;32mexcept\u001b[0m \u001b[0mself\u001b[0m\u001b[0;34m.\u001b[0m\u001b[0m_error\u001b[0m \u001b[0;32mas\u001b[0m \u001b[0mv\u001b[0m\u001b[0;34m:\u001b[0m\u001b[0;34m\u001b[0m\u001b[0;34m\u001b[0m\u001b[0m\n\u001b[1;32m   1715\u001b[0m             \u001b[0mself\u001b[0m\u001b[0;34m.\u001b[0m\u001b[0m_raiseerror\u001b[0m\u001b[0;34m(\u001b[0m\u001b[0mv\u001b[0m\u001b[0;34m)\u001b[0m\u001b[0;34m\u001b[0m\u001b[0;34m\u001b[0m\u001b[0m\n",
            "\u001b[0;32m../Modules/pyexpat.c\u001b[0m in \u001b[0;36mStartElement\u001b[0;34m()\u001b[0m\n",
            "\u001b[0;32m/usr/lib/python3.10/xml/etree/ElementTree.py\u001b[0m in \u001b[0;36m_start\u001b[0;34m(self, tag, attr_list)\u001b[0m\n\u001b[1;32m   1644\u001b[0m         \u001b[0;31m# attribute name,value.\u001b[0m\u001b[0;34m\u001b[0m\u001b[0;34m\u001b[0m\u001b[0m\n\u001b[1;32m   1645\u001b[0m         \u001b[0mfixname\u001b[0m \u001b[0;34m=\u001b[0m \u001b[0mself\u001b[0m\u001b[0;34m.\u001b[0m\u001b[0m_fixname\u001b[0m\u001b[0;34m\u001b[0m\u001b[0;34m\u001b[0m\u001b[0m\n\u001b[0;32m-> 1646\u001b[0;31m         \u001b[0mtag\u001b[0m \u001b[0;34m=\u001b[0m \u001b[0mfixname\u001b[0m\u001b[0;34m(\u001b[0m\u001b[0mtag\u001b[0m\u001b[0;34m)\u001b[0m\u001b[0;34m\u001b[0m\u001b[0;34m\u001b[0m\u001b[0m\n\u001b[0m\u001b[1;32m   1647\u001b[0m         \u001b[0mattrib\u001b[0m \u001b[0;34m=\u001b[0m \u001b[0;34m{\u001b[0m\u001b[0;34m}\u001b[0m\u001b[0;34m\u001b[0m\u001b[0;34m\u001b[0m\u001b[0m\n\u001b[1;32m   1648\u001b[0m         \u001b[0;32mif\u001b[0m \u001b[0mattr_list\u001b[0m\u001b[0;34m:\u001b[0m\u001b[0;34m\u001b[0m\u001b[0;34m\u001b[0m\u001b[0m\n",
            "\u001b[0;31mKeyboardInterrupt\u001b[0m: "
          ]
        }
      ]
    },
    {
      "cell_type": "markdown",
      "source": [
        "Definición de funciones de limpieza y normalización de los dataframes."
      ],
      "metadata": {
        "id": "zx3Tk6dizOPI"
      }
    },
    {
      "cell_type": "code",
      "source": [
        "def cols_to_keep(df):\n",
        "  cols = ['SUCURSAL', 'OFICINA', 'PV', 'CODIGO', 'COD. CALLIDUS/SOLNET', 'LDAP', 'NIF', 'NOMBRE', 'TIPOLOGIA', 'F.ALTA']\n",
        "  df = df[cols]\n",
        "  return df\n",
        "\n",
        "def clean_df(df):\n",
        "    # Convertir todas las columnas de tipo object a mayúsculas, excepto las especificadas\n",
        "    for column in df.columns:\n",
        "        if df[column].dtype == 'object':\n",
        "            df[column] = df[column].apply(lambda x: unidecode(x.upper()) if isinstance(x, str) else x)\n",
        "\n",
        "    # Ahora, aplicamos unidecode a los nombres de las columnas\n",
        "    df.columns = [unidecode(col.upper()) for col in df.columns]\n",
        "    return df\n",
        "\n",
        "def date_delete(df):\n",
        "    df['DIA'] = df['FECHA ESPANOLA'].dt.day\n",
        "    df['MES'] = df['FECHA ESPANOLA'].dt.month\n",
        "\n",
        "    # Elimino la columna fecha del servidor, ya que nos vamos a quedar solo con la fecha española\n",
        "    del_columns = ['FECHA SERVIDOR']\n",
        "    df.drop(columns=del_columns, inplace=True)\n",
        "    # Elimino la columna unnamed si la hay\n",
        "    if 'UNNAMED: 0' in df.columns:\n",
        "      df.drop(columns='UNNAMED: 0', inplace=True)\n",
        "    return df\n",
        "\n",
        "def clean_production(df):\n",
        "    columns = ['POSITIONNAME', 'FEC. ALTA', 'POL. FIS. 2024-01', 'POL. FIS. 2024-02', 'POL. FIS. 2024-03', 'POL. FIS. 2024-04', 'POL. FIS. 2024-05', 'POL. CORR. 2024-01', 'POL. CORR. 2024-02', 'POL. CORR. 2024-03', 'POL. CORR. 2024-04', 'POL. CORR. 2024-05']\n",
        "    df = df[columns]\n",
        "    df['PRIMER TRIM POL FIS'] = df['POL. FIS. 2024-01'] + df['POL. FIS. 2024-02'] + df['POL. FIS. 2024-03']\n",
        "    df['SEGUNDO TRIM POL FIS'] = df['POL. FIS. 2024-04'] + df['POL. FIS. 2024-05']\n",
        "    # SUMAR EL RESTO DE MESES CUANDO ESTÉN + df['POL. FIS. 2024-06']\n",
        "\n",
        "    df['POL. CORR. 2024-01'] = pd.to_numeric(df['POL. CORR. 2024-01'].astype(str).str.replace(',', '.'), errors='coerce')\n",
        "    df['POL. CORR. 2024-02'] = pd.to_numeric(df['POL. CORR. 2024-02'].astype(str).str.replace(',', '.'), errors='coerce')\n",
        "    df['POL. CORR. 2024-03'] = pd.to_numeric(df['POL. CORR. 2024-03'].astype(str).str.replace(',', '.'), errors='coerce')\n",
        "    df['POL. CORR. 2024-04'] = pd.to_numeric(df['POL. CORR. 2024-04'].astype(str).str.replace(',', '.'), errors='coerce')\n",
        "    df['POL. CORR. 2024-05'] = pd.to_numeric(df['POL. CORR. 2024-05'].astype(str).str.replace(',', '.'), errors='coerce')\n",
        "    # df['POL. CORR. 2024-06'] = pd.to_numeric(df['POL. CORR. 2024-06'].astype(str).str.replace(',', '.'), errors='coerce')\n",
        "\n",
        "    df['PRIMER TRIM POL CORR'] = df['POL. CORR. 2024-01'] + df['POL. CORR. 2024-02'] + df['POL. CORR. 2024-03']\n",
        "    df['SEGUNDO TRIM POL CORR'] = df['POL. CORR. 2024-04'] + df['POL. CORR. 2024-05']\n",
        "    # SUMAR EL RESTO DE MESES CUANDO ESTÉN + df['POL. CORR. 2024-06']\n",
        "    return df\n",
        "\n",
        "def cols_prod_month(df):\n",
        "  cols = ['SUCURSAL', 'OFICINA', 'COD. AGENTE', 'NIF', 'POL. FIS. HOGAR', 'POL. FIS. RRTT', 'POL. FIS. RRPP', 'ASEG.', 'POL. CORREG.', 'POL. FISIC.', 'RAPPEL', 'IMP. MENSUAL XL', 'IMP. MENSUAL XXL', 'RAPPEL_TOTAL', 'COBRA_RAPPEL', 'COBRA_RAPPELXXL']\n",
        "  # Sumar todos los rappeles en uno para poder visualizarlo luego\n",
        "  df['RAPPEL_TOTAL'] = df['RAPPEL'] + df['IMP. MENSUAL XL'] + df['IMP. MENSUAL XXL']\n",
        "  # Crear la columna 'COBRA_ALGO' en función de si 'RAPPEL' es distinto de 0\n",
        "  df['COBRA_RAPPEL'] = np.where(df['RAPPEL'] != 0, 1, 0)\n",
        "  df['COBRA_RAPPELXXL'] = np.where(df['IMP. MENSUAL XXL'] != 0, 1, 0)\n",
        "\n",
        "  df = df[cols]\n",
        "  return df"
      ],
      "metadata": {
        "id": "JRQl13_XzHR4"
      },
      "execution_count": null,
      "outputs": []
    },
    {
      "cell_type": "code",
      "source": [
        "# Limpieza y normalización de los dataframes\n",
        "accesos_usuarios_df = clean_df(accesos_usuarios_df)\n",
        "accesos_usuarios_df = date_delete(accesos_usuarios_df)\n",
        "\n",
        "aud_gr1_2 = clean_df(aud_gr1_2)\n",
        "aud_gr1_2 = date_delete(aud_gr1_2)\n",
        "\n",
        "agentes_inicio = cols_to_keep(agentes_inicio)\n",
        "agentes_inicio = clean_df(agentes_inicio)\n",
        "\n",
        "Gr2 = cols_to_keep(Gr2)\n",
        "Gr2 = clean_df(Gr2)\n",
        "\n",
        "for_gr_exp = clean_df(for_gr_exp)\n",
        "est_gr_exp = clean_df(est_gr_exp)\n",
        "\n",
        "bajas = clean_df(bajas)\n",
        "\n",
        "prod_fis_corr = clean_df(prod_fis_corr)\n",
        "prod_fis_corr = clean_production(prod_fis_corr)\n",
        "\n",
        "prod_enero = clean_df(prod_enero)\n",
        "prod_enero = cols_prod_month(prod_enero)\n",
        "prod_febrero = clean_df(prod_febrero)\n",
        "prod_febrero = cols_prod_month(prod_febrero)\n",
        "prod_marzo = clean_df(prod_marzo)\n",
        "prod_marzo = cols_prod_month(prod_marzo)\n",
        "prod_abril = clean_df(prod_abril)\n",
        "prod_abril = cols_prod_month(prod_abril)\n",
        "prod_mayo = clean_df(prod_mayo)\n",
        "prod_mayo = cols_prod_month(prod_mayo)\n",
        "# prod_junio = clean_df(prod_junio)\n",
        "# prod_junio = cols_prod_month(prod_junio)"
      ],
      "metadata": {
        "id": "TBdqk6030jSr"
      },
      "execution_count": null,
      "outputs": []
    },
    {
      "cell_type": "code",
      "source": [
        "# Elimino a IRENE DELGADO JIMENEZ el outlier del Grupo de ctrl\n",
        "Gr2 = Gr2[Gr2['NOMBRE'] != 'IRENE DELGADO JIMENEZ']\n",
        "Gr2 = Gr2[Gr2['NOMBRE'] != 'ALICIA GOBIERNO ALONSO']"
      ],
      "metadata": {
        "id": "kaAohUTlOrla"
      },
      "execution_count": null,
      "outputs": []
    },
    {
      "cell_type": "code",
      "source": [
        "gr_exp = pd.concat([for_gr_exp, est_gr_exp], ignore_index=True)"
      ],
      "metadata": {
        "id": "qTsDdEp0BMH8"
      },
      "execution_count": null,
      "outputs": []
    },
    {
      "cell_type": "code",
      "source": [
        "Gr1_2 = agentes_inicio[agentes_inicio['COD. CALLIDUS/SOLNET'].isin(gr_exp['NAME'])]"
      ],
      "metadata": {
        "id": "wI3BaqnfIcT_"
      },
      "execution_count": null,
      "outputs": []
    },
    {
      "cell_type": "code",
      "source": [
        "Gr1 = agentes_inicio[agentes_inicio['COD. CALLIDUS/SOLNET'].isin(gr_exp['NAME'])]"
      ],
      "metadata": {
        "id": "las6ksbR-D4B"
      },
      "execution_count": null,
      "outputs": []
    },
    {
      "cell_type": "markdown",
      "source": [
        "La columna 'LDAP' es el código que identifica al agente en los archivos Gr1 y Gr2, y 'USERID' en accesos_usuarios_df, los que hay que tener en cuenta al cruzar los dataframes.\n",
        "\n",
        "Los mezclo para quedarme con todas las columnas y poder hablar de sucursales y otros conceptos."
      ],
      "metadata": {
        "id": "jVm5GYhr4q-_"
      }
    },
    {
      "cell_type": "code",
      "source": [
        "accesos_gr_exp = pd.merge(accesos_usuarios_df, Gr1, how = 'inner', left_on = 'USERID', right_on = 'LDAP')\n",
        "accesos_gr_ctrl = pd.merge(accesos_usuarios_df, Gr2, how = 'inner', left_on = 'USERID', right_on = 'LDAP')\n",
        "\n",
        "accesos_gr_ctrl1_2 = pd.merge(aud_gr1_2, Gr1_2, how = 'inner', left_on = 'USERID', right_on = 'LDAP')\n",
        "\n",
        "prueba = pd.merge(aud_gr1_2, Gr2, how = 'inner', left_on = 'USERID', right_on = 'LDAP')"
      ],
      "metadata": {
        "id": "Lzs8QF9r27Im"
      },
      "execution_count": null,
      "outputs": []
    },
    {
      "cell_type": "markdown",
      "source": [
        "##Distintas formas de medición\n"
      ],
      "metadata": {
        "id": "IoAbjRIq3832"
      }
    },
    {
      "cell_type": "markdown",
      "source": [
        "###Diferencia por Tipos de evento\n",
        "\n",
        "Vemas cuáles son las diferencias entre los diferentes tipos de evento (LOGIN, LOGOUT, VIEW y READ) entre el grupo de control y el experimental."
      ],
      "metadata": {
        "id": "cyBX0g6k1ga-"
      }
    },
    {
      "cell_type": "markdown",
      "source": [
        "#####Experimental VS Control"
      ],
      "metadata": {
        "id": "3pSQmGGI2Dkc"
      }
    },
    {
      "cell_type": "code",
      "source": [
        "dif_eventos_exp = accesos_gr_exp.groupby(by=['TIPO EVENTO'], as_index=False).count()\n",
        "dif_eventos_ctrl = accesos_gr_ctrl.groupby(by=['TIPO EVENTO'], as_index=False).count()\n",
        "\n",
        "dif_eventos_ctrl1_2 = accesos_gr_ctrl1_2.groupby(by=['TIPO EVENTO'], as_index=False).count()"
      ],
      "metadata": {
        "id": "JJZ9ZJ6aN6JU"
      },
      "execution_count": null,
      "outputs": []
    },
    {
      "cell_type": "markdown",
      "source": [
        "**OJO: ¿cómo puedo cambiar la leyenda?**"
      ],
      "metadata": {
        "id": "ip5fGT-JVfWG"
      }
    },
    {
      "cell_type": "code",
      "source": [
        "plt.style.use('seaborn')\n",
        "ax = dif_eventos_exp['USERID'].plot(kind=\"bar\", width=-0.4, rot=0, stacked=True, align='edge', color=\"red\")\n",
        "dif_eventos_ctrl['USERID'].plot(ax=ax, width=0.4, kind=\"bar\",align='edge', color=\"blue\")\n",
        "ax.set_xticklabels(dif_eventos_exp['TIPO EVENTO'])\n",
        "ax.set_ylabel('Conteo', fontsize = 14)\n",
        "ax.set_xlabel('Tipo de Evento', fontsize = 14)\n",
        "# ax.legend(title='DataFrame')\n",
        "ax.set_title('Conteo de Tipos de Eventos por Grupo.')\n",
        "ax.text(3, 2150, \"Grupo de Control\",\n",
        "       fontsize = 11,          # Tamaño\n",
        "       fontstyle = \"oblique\",  # Estilo\n",
        "       color = \"blue\",          # Color\n",
        "       ha = \"center\", # Alineación horizontal\n",
        "       va = \"center\") # Alineación vertical\n",
        "ax.text(3, 2240, \"Grupo Experimental\",\n",
        "       fontsize = 11,          # Tamaño\n",
        "       fontstyle = \"oblique\",  # Estilo\n",
        "       color = \"red\",          # Color\n",
        "       ha = \"center\", # Alineación horizontal\n",
        "       va = \"center\") # Alineación vertical\n",
        "plt.autoscale(enable=True, axis='x')\n",
        "plt.show()"
      ],
      "metadata": {
        "id": "US5_ZgmzT9pA"
      },
      "execution_count": null,
      "outputs": []
    },
    {
      "cell_type": "code",
      "source": [
        "for i in range(len(dif_eventos_exp)):\n",
        "  porcentaje = round((dif_eventos_ctrl['USERID'].iloc[i-1]*100)/dif_eventos_exp['USERID'].iloc[i-1],2)\n",
        "  print('El evento', dif_eventos_exp['TIPO EVENTO'].iloc[i-1], 'del grupo de control supone un ', porcentaje, '% siendo el 100 % lo recogido en el grupo experimental.')\n",
        "  print('Que se corresponde con', dif_eventos_ctrl['USERID'].iloc[i-1],'registros obtenidos del grupo de control y', dif_eventos_exp['USERID'].iloc[i-1], 'del grupo experimental.\\n')"
      ],
      "metadata": {
        "id": "B5tus30qVpSX"
      },
      "execution_count": null,
      "outputs": []
    },
    {
      "cell_type": "markdown",
      "source": [
        "#####Grupo Experimental (1º Trim VS 2º Trim)"
      ],
      "metadata": {
        "id": "Y51dlB_71jjd"
      }
    },
    {
      "cell_type": "code",
      "source": [
        "plt.style.use('seaborn')\n",
        "ax = dif_eventos_exp['USERID'].plot(kind=\"bar\", width=-0.4, rot=0, stacked=True, align='edge', color=\"green\")\n",
        "dif_eventos_ctrl1_2['USERID'].plot(ax=ax, width=0.4, kind=\"bar\",align='edge', color=\"orange\")\n",
        "ax.set_xticklabels(dif_eventos_exp['TIPO EVENTO'])\n",
        "ax.set_ylabel('Conteo', fontsize = 14)\n",
        "ax.set_xlabel('Tipo de Evento', fontsize = 14)\n",
        "# ax.legend(title='DataFrame')\n",
        "ax.set_title('Conteo de Tipos de Eventos por Grupo.')\n",
        "ax.text(3, 2150, \"1º Trimestre\",\n",
        "       fontsize = 10,          # Tamaño\n",
        "       fontstyle = \"oblique\",  # Estilo\n",
        "       color = \"orange\",          # Color\n",
        "       ha = \"center\", # Alineación horizontal\n",
        "       va = \"center\") # Alineación vertical\n",
        "ax.text(3, 2250, \"2º Trimestre\",\n",
        "       fontsize = 10,          # Tamaño\n",
        "       fontstyle = \"oblique\",  # Estilo\n",
        "       color = \"green\",          # Color\n",
        "       ha = \"center\", # Alineación horizontal\n",
        "       va = \"center\") # Alineación vertical\n",
        "plt.autoscale(enable=True, axis='x')\n",
        "plt.show()"
      ],
      "metadata": {
        "id": "qZeadAYKJPGd"
      },
      "execution_count": null,
      "outputs": []
    },
    {
      "cell_type": "markdown",
      "source": [
        "Vamos a contemplar que el grupo experimental es el 100% (la totalidad) para ver las diferencias porcentuales con el grupo de control.\n",
        "\n",
        "Y sacamos en otra frase a qué número exacto corresponden estos porcentajes."
      ],
      "metadata": {
        "id": "fiTCxArzXCyr"
      }
    },
    {
      "cell_type": "code",
      "source": [
        "# Grupo exp como ctrl_2\n",
        "for i in range(len(dif_eventos_exp)):\n",
        "  porcentaje = round((dif_eventos_ctrl1_2['USERID'].iloc[i-1]*100)/dif_eventos_exp['USERID'].iloc[i-1],2)\n",
        "  print('El evento', dif_eventos_exp['TIPO EVENTO'].iloc[i-1], 'del grupo experimental como grupo de control supone un ', porcentaje, '% siendo el 100 % lo recogido en el grupo experimental.')\n",
        "  print('Que se corresponde con', dif_eventos_ctrl1_2['USERID'].iloc[i-1],'registros obtenidos del grupo como control y', dif_eventos_exp['USERID'].iloc[i-1], 'del grupo como experimental.\\n')"
      ],
      "metadata": {
        "id": "-QTfeyzZJvUM"
      },
      "execution_count": null,
      "outputs": []
    },
    {
      "cell_type": "markdown",
      "source": [
        "###Diferencias Tipo Evento - Sucursal\n",
        "Medimos cuál es el impacto, número de veces que se producen, de cada tipo de evento en cada sucursal (por un lado del grupo experimental y por otro del grupo de control)."
      ],
      "metadata": {
        "id": "DPZFwbIj4nJJ"
      }
    },
    {
      "cell_type": "code",
      "source": [
        "import plotly.express as px\n",
        "\n",
        "dif_sucursales_exp = accesos_gr_exp.groupby(by=['TIPO EVENTO', 'SUCURSAL'], as_index=False).count()\n",
        "\n",
        "fig = px.scatter(dif_sucursales_exp, y=\"TIPO EVENTO\", x=\"SUCURSAL\", color=\"USERID\")\n",
        "fig.update_traces(marker_size=8)\n",
        "fig.show()"
      ],
      "metadata": {
        "id": "JycUBT7ieq53"
      },
      "execution_count": null,
      "outputs": []
    },
    {
      "cell_type": "markdown",
      "source": [
        "OJOOOOO, CAMBIAR LO DE VIEW, HAY QUE SACAR BIEN EL TIPO DE EVENTO Y LA SUCURSAL, EN FUNCIÓN DEL MÁXIMO CONSEGUIDO."
      ],
      "metadata": {
        "id": "QkteezyThTXq"
      }
    },
    {
      "cell_type": "code",
      "source": [
        "print('El evento con más registros es', max(dif_sucursales_exp['TIPO EVENTO']),'en la sucursal', max(dif_sucursales_exp['SUCURSAL']), 'con un total de', max(dif_sucursales_exp['USERID']))"
      ],
      "metadata": {
        "id": "Q0IKh3SJfsIi"
      },
      "execution_count": null,
      "outputs": []
    },
    {
      "cell_type": "code",
      "source": [
        "dif_suc_prueba = prueba.groupby(by=['TIPO EVENTO', 'SUCURSAL'], as_index=False).count()\n",
        "\n",
        "fig = px.scatter(dif_suc_prueba, y=\"TIPO EVENTO\", x=\"SUCURSAL\", color=\"USERID\")\n",
        "fig.update_traces(marker_size=8)\n",
        "fig.show()"
      ],
      "metadata": {
        "id": "1uXqj_8uGlPN"
      },
      "execution_count": null,
      "outputs": []
    },
    {
      "cell_type": "code",
      "source": [
        "dif_sucursales_ctrl = accesos_gr_ctrl.groupby(by=['TIPO EVENTO', 'SUCURSAL'], as_index=False).count()\n",
        "\n",
        "fig = px.scatter(dif_sucursales_ctrl, y=\"TIPO EVENTO\", x=\"SUCURSAL\", color=\"USERID\")\n",
        "fig.update_traces(marker_size=8)\n",
        "fig.show()"
      ],
      "metadata": {
        "id": "bV91GCBkiTmr"
      },
      "execution_count": null,
      "outputs": []
    },
    {
      "cell_type": "markdown",
      "source": [
        "IGUAL QUE ARRIBA, ESTÁ MAAAAAAAAAAAL"
      ],
      "metadata": {
        "id": "QfvnmJkg5f43"
      }
    },
    {
      "cell_type": "code",
      "source": [
        "print('El evento con más registros es', max(dif_sucursales_ctrl['TIPO EVENTO']),'en la sucursal', max(dif_sucursales_ctrl['SUCURSAL']), 'con un total de', max(dif_sucursales_ctrl['USERID']))"
      ],
      "metadata": {
        "id": "tg3xDobWiknz"
      },
      "execution_count": null,
      "outputs": []
    },
    {
      "cell_type": "code",
      "source": [
        "# Grupo exp como ctrl\n",
        "dif_sucursales_ctrl1_2 = accesos_gr_ctrl1_2.groupby(by=['TIPO EVENTO', 'SUCURSAL'], as_index=False).count()\n",
        "\n",
        "fig = px.scatter(dif_sucursales_ctrl1_2, y=\"TIPO EVENTO\", x=\"SUCURSAL\", color=\"USERID\")\n",
        "fig.update_traces(marker_size=8)\n",
        "fig.show()"
      ],
      "metadata": {
        "id": "R73LqJeHJ6xz"
      },
      "execution_count": null,
      "outputs": []
    },
    {
      "cell_type": "markdown",
      "source": [
        "####Cambio sucursales por puntos de venta\n",
        "Sacamos el mismo estudio para los puntos de venta (PV) en vez de las sucursales."
      ],
      "metadata": {
        "id": "wVFuimkY3cjG"
      }
    },
    {
      "cell_type": "code",
      "source": [
        "dif_PV_exp = accesos_gr_exp.groupby(by=['TIPO EVENTO', 'PV'], as_index=False).count()\n",
        "\n",
        "fig = px.scatter(dif_PV_exp, y=\"TIPO EVENTO\", x=\"PV\", color=\"USERID\")\n",
        "fig.update_traces(marker_size=8)\n",
        "fig.show()"
      ],
      "metadata": {
        "id": "fpp5A3-N3cJH"
      },
      "execution_count": null,
      "outputs": []
    },
    {
      "cell_type": "markdown",
      "source": [
        "###Diferencia de accesos por tipología de agente\n",
        "Medimos cuál es el impacto que tiene cada tipo de agente en los eventos, ¿están accediendo más los agentes en formación (16) o los estándar (37)?"
      ],
      "metadata": {
        "id": "veuhyQ9j5jOO"
      }
    },
    {
      "cell_type": "code",
      "source": [
        "dif_tipologia_prueba = prueba.groupby(by=['TIPO EVENTO', 'TIPOLOGIA'], as_index=False).count()\n",
        "\n",
        "fig = px.scatter(dif_tipologia_prueba, y=\"TIPO EVENTO\", x=\"TIPOLOGIA\", color=\"USERID\")\n",
        "fig.update_traces(marker_size=8)\n",
        "fig.show()"
      ],
      "metadata": {
        "id": "34HxKnypG407"
      },
      "execution_count": null,
      "outputs": []
    },
    {
      "cell_type": "code",
      "source": [
        "dif_tipologia_exp = accesos_gr_exp.groupby(by=['TIPO EVENTO', 'TIPOLOGIA'], as_index=False).count()\n",
        "\n",
        "fig = px.scatter(dif_tipologia_exp, y=\"TIPO EVENTO\", x=\"TIPOLOGIA\", color=\"USERID\")\n",
        "fig.update_traces(marker_size=8)\n",
        "fig.show()"
      ],
      "metadata": {
        "id": "DUVYHEXcjSqS"
      },
      "execution_count": null,
      "outputs": []
    },
    {
      "cell_type": "code",
      "source": [
        "dif_tipologia_ctrl = accesos_gr_ctrl.groupby(by=['TIPO EVENTO', 'TIPOLOGIA'], as_index=False).count()\n",
        "fig = px.scatter(dif_tipologia_ctrl, y=\"TIPO EVENTO\", x=\"TIPOLOGIA\", color=\"USERID\")\n",
        "fig.update_traces(marker_size=8)\n",
        "fig.show()"
      ],
      "metadata": {
        "id": "fVNkuhX00cWc"
      },
      "execution_count": null,
      "outputs": []
    },
    {
      "cell_type": "code",
      "source": [
        "# Grupo exp como ctrl\n",
        "dif_tipologia_ctrl1_2 = accesos_gr_ctrl1_2.groupby(by=['TIPO EVENTO', 'TIPOLOGIA'], as_index=False).count()\n",
        "fig = px.scatter(dif_tipologia_ctrl1_2, y=\"TIPO EVENTO\", x=\"TIPOLOGIA\", color=\"USERID\")\n",
        "fig.update_traces(marker_size=8)\n",
        "fig.show()"
      ],
      "metadata": {
        "id": "t1nYnirqKKfT"
      },
      "execution_count": null,
      "outputs": []
    },
    {
      "cell_type": "markdown",
      "source": [
        "###Agentes en Formación usando los informes\n",
        "En esta parte del código, vemos qué agentes (del grupo experimental) en formación están usando los informes por sucursal. Código para estar al tanto de cómo ha sido la formación en cascada."
      ],
      "metadata": {
        "id": "_JLDGJj-nfUn"
      }
    },
    {
      "cell_type": "code",
      "source": [
        "df_for = Gr1[Gr1[\"TIPOLOGIA\"].str.contains(\"FORMACION\")]\n",
        "\n",
        "accesos_for_exp = pd.merge(accesos_usuarios_df, df_for, how = 'inner', left_on = 'USERID', right_on = 'LDAP')\n",
        "\n",
        "df_for_exp = accesos_for_exp.groupby(by=['TIPO EVENTO', 'SUCURSAL'], as_index=False).count()\n",
        "\n",
        "fig = px.scatter(df_for_exp, y=\"TIPO EVENTO\", x=\"SUCURSAL\", color=\"USERID\")\n",
        "fig.update_traces(marker_size=8)\n",
        "fig.show()"
      ],
      "metadata": {
        "id": "d1v1BE8bmas8"
      },
      "execution_count": null,
      "outputs": []
    },
    {
      "cell_type": "markdown",
      "source": [
        "Vemos en cuántas (y cuáles son) sucursales hay agentes en formación dentro del grupo experimental para saber si están entrando agentes de todas ellas. Observamos que hay 11, luego ya han accedido desde todas."
      ],
      "metadata": {
        "id": "98rr-4_TFufF"
      }
    },
    {
      "cell_type": "code",
      "source": [
        "df_for['SUCURSAL'].unique()"
      ],
      "metadata": {
        "id": "oHMptg0fFsny"
      },
      "execution_count": null,
      "outputs": []
    },
    {
      "cell_type": "markdown",
      "source": [
        "####Para el grupo de control\n",
        "Uso de informes para los agentes en formación del grupo de control. ¿Cuánto usan Callidus los agentes en formación sin informes nuevos relevantes?"
      ],
      "metadata": {
        "id": "CLEbg8rF2Jb4"
      }
    },
    {
      "cell_type": "code",
      "source": [
        "df2_for = Gr2[Gr2[\"TIPOLOGIA\"].str.contains(\"FORMACION\")]\n",
        "\n",
        "accesos_for_ctrl = pd.merge(accesos_usuarios_df, df2_for, how = 'inner', left_on = 'USERID', right_on = 'LDAP')\n",
        "\n",
        "df_for_ctrl = accesos_for_ctrl.groupby(by=['TIPO EVENTO', 'SUCURSAL'], as_index=False).count()\n",
        "\n",
        "fig = px.scatter(df_for_ctrl, y=\"TIPO EVENTO\", x=\"SUCURSAL\", color=\"USERID\")\n",
        "fig.update_traces(marker_size=8)\n",
        "fig.show()"
      ],
      "metadata": {
        "id": "MIjZ04Sg0vQt"
      },
      "execution_count": null,
      "outputs": []
    },
    {
      "cell_type": "markdown",
      "source": [
        "Vemos en cuántas (y cuáles son) sucursales hay agentes en formación dentro del grupo de control para saber si están entrando agentes de todas ellas. Observamos que hay 12 y solo se ha accedido desde 9 **(cambiar diariamente si esto cambia)**."
      ],
      "metadata": {
        "id": "WZMY8xXOGGHS"
      }
    },
    {
      "cell_type": "code",
      "source": [
        "df2_for['SUCURSAL'].unique()"
      ],
      "metadata": {
        "id": "gsrGEHz7GCwk"
      },
      "execution_count": null,
      "outputs": []
    },
    {
      "cell_type": "code",
      "source": [
        "# Grupo exp como ctrl\n",
        "df1_2_for = Gr1_2[Gr1_2[\"TIPOLOGIA\"].str.contains(\"FORMACION\")]\n",
        "\n",
        "accesos_for_ctrl1_2 = pd.merge(aud_gr1_2, df1_2_for, how = 'inner', left_on = 'USERID', right_on = 'LDAP')\n",
        "\n",
        "df_for_ctrl1_2 = accesos_for_ctrl1_2.groupby(by=['TIPO EVENTO', 'SUCURSAL'], as_index=False).count()\n",
        "\n",
        "fig = px.scatter(df_for_ctrl1_2, y=\"TIPO EVENTO\", x=\"SUCURSAL\", color=\"USERID\")\n",
        "fig.update_traces(marker_size=8)\n",
        "fig.show()"
      ],
      "metadata": {
        "id": "kdLPuiByKS4t"
      },
      "execution_count": null,
      "outputs": []
    },
    {
      "cell_type": "markdown",
      "source": [
        "6 sucursales de 11 **(CAMBIAR SI SE COGEN MÁS MESE ATRÁS Y VARÍA)**."
      ],
      "metadata": {
        "id": "ewn0weYsOXyl"
      }
    },
    {
      "cell_type": "code",
      "source": [
        "df1_2_for['SUCURSAL'].unique()"
      ],
      "metadata": {
        "id": "Gu0uUrQ5KmyN"
      },
      "execution_count": null,
      "outputs": []
    },
    {
      "cell_type": "markdown",
      "source": [
        "###Agentes Estándar usando los informes\n",
        "En esta parte del código, vemos qué agentes (del grupo experimental) de tipo estándar, están usando los informes por sucursal. Código para comparar con los de formación y ver si es mejor contar de primera mano la información o la formación en cascada y, medir qué tipología de agente encuentra más relevante los informes."
      ],
      "metadata": {
        "id": "UrvBIsU060Ih"
      }
    },
    {
      "cell_type": "code",
      "source": [
        "df_est_prueba = Gr2[Gr2[\"TIPOLOGIA\"].str.contains(\"ESTANDAR\")]\n",
        "\n",
        "accesos_est_prueba = pd.merge(aud_gr1_2, df_est_prueba, how = 'inner', left_on = 'USERID', right_on = 'LDAP')\n",
        "\n",
        "df_est_prueba = accesos_est_prueba.groupby(by=['TIPO EVENTO', 'SUCURSAL'], as_index=False).count()\n",
        "\n",
        "fig = px.scatter(df_est_prueba, y=\"TIPO EVENTO\", x=\"SUCURSAL\", color=\"USERID\")\n",
        "fig.update_traces(marker_size=8)\n",
        "fig.show()"
      ],
      "metadata": {
        "id": "ba892BALHD9F"
      },
      "execution_count": null,
      "outputs": []
    },
    {
      "cell_type": "code",
      "source": [
        "df_est = Gr1[Gr1[\"TIPOLOGIA\"].str.contains(\"ESTANDAR\")]\n",
        "\n",
        "accesos_est_exp = pd.merge(accesos_usuarios_df, df_est, how = 'inner', left_on = 'USERID', right_on = 'LDAP')\n",
        "\n",
        "df_est_exp = accesos_est_exp.groupby(by=['TIPO EVENTO', 'SUCURSAL'], as_index=False).count()\n",
        "\n",
        "fig = px.scatter(df_est_exp, y=\"TIPO EVENTO\", x=\"SUCURSAL\", color=\"USERID\")\n",
        "fig.update_traces(marker_size=8)\n",
        "fig.show()"
      ],
      "metadata": {
        "id": "VjBrHeqO3Kmv"
      },
      "execution_count": null,
      "outputs": []
    },
    {
      "cell_type": "markdown",
      "source": [
        "Vemos en cuántas (y cuáles son) sucursales hay agentes estándar dentro del grupo experimental para saber si están entrando agentes de todas ellas. Observamos que hay 10, ya han entrado todos."
      ],
      "metadata": {
        "id": "IDqwLIpuGYHx"
      }
    },
    {
      "cell_type": "code",
      "source": [
        "df_est['SUCURSAL'].unique()"
      ],
      "metadata": {
        "id": "fpKWHnjSGXuJ"
      },
      "execution_count": null,
      "outputs": []
    },
    {
      "cell_type": "markdown",
      "source": [
        "Voy a sacar el número de agentes que hay en esta sucursal, para saber si es importante esta falta de accesos o no. Hay dos agentes en esta sucursal, no supone mucho impacto."
      ],
      "metadata": {
        "id": "SR5KFVSHHJAh"
      }
    },
    {
      "cell_type": "code",
      "source": [
        "# vaguada_est = df_est[df_est['SUCURSAL'].str.contains('VAGUADA')]\n",
        "\n",
        "# vaguada_est"
      ],
      "metadata": {
        "id": "L3T3NPinHIvx"
      },
      "execution_count": null,
      "outputs": []
    },
    {
      "cell_type": "markdown",
      "source": [
        "####Para el grupo de control\n",
        "Uso de informes para los agentes estándar del grupo de control. ¿Cuánto usan Callidus estos agentes sin informes nuevos relevantes? ¿Usan Callidus como herramienta de ayuda?"
      ],
      "metadata": {
        "id": "a5fW-Ax87lDQ"
      }
    },
    {
      "cell_type": "code",
      "source": [
        "df2_est = Gr2[Gr2[\"TIPOLOGIA\"].str.contains(\"ESTANDAR\")]\n",
        "\n",
        "accesos_est_ctrl = pd.merge(accesos_usuarios_df, df2_est, how = 'inner', left_on = 'USERID', right_on = 'LDAP')\n",
        "\n",
        "df_est_ctrl = accesos_est_ctrl.groupby(by=['TIPO EVENTO', 'SUCURSAL'], as_index=False).count()\n",
        "\n",
        "fig = px.scatter(df_est_ctrl, y=\"TIPO EVENTO\", x=\"SUCURSAL\", color=\"USERID\")\n",
        "fig.update_traces(marker_size=8)\n",
        "fig.show()"
      ],
      "metadata": {
        "id": "3ICbH_l070hX"
      },
      "execution_count": null,
      "outputs": []
    },
    {
      "cell_type": "markdown",
      "source": [
        "Vemos en cuántas (y cuáles son) sucursales hay agentes estándar dentro del grupo de control para saber si están entrando agentes de todas ellas. Observamos que hay 11 y solo se ha accedido desde 9 sucursales **(cambiar si se modifica)**."
      ],
      "metadata": {
        "id": "a1Qoq21kGd_e"
      }
    },
    {
      "cell_type": "code",
      "source": [
        "df2_est['SUCURSAL'].unique()"
      ],
      "metadata": {
        "id": "-HhgeyzXGd3n"
      },
      "execution_count": null,
      "outputs": []
    },
    {
      "cell_type": "code",
      "source": [
        "# Grupo exp como ctrl\n",
        "df1_2_est = Gr1_2[Gr1_2[\"TIPOLOGIA\"].str.contains(\"ESTANDAR\")]\n",
        "\n",
        "accesos_est_ctrl1_2 = pd.merge(aud_gr1_2, df1_2_est, how = 'inner', left_on = 'USERID', right_on = 'LDAP')\n",
        "\n",
        "df_est_ctrl1_2 = accesos_est_ctrl1_2.groupby(by=['TIPO EVENTO', 'SUCURSAL'], as_index=False).count()\n",
        "\n",
        "fig = px.scatter(df_est_ctrl1_2, y=\"TIPO EVENTO\", x=\"SUCURSAL\", color=\"USERID\")\n",
        "fig.update_traces(marker_size=8)\n",
        "fig.show()"
      ],
      "metadata": {
        "id": "AIcxx2AlK0vK"
      },
      "execution_count": null,
      "outputs": []
    },
    {
      "cell_type": "markdown",
      "source": [
        "###Impacto por agente\n",
        "¿Cuántos agentes del grupo experimental están haciendo uso de los informes? ¿Cuáles de ellos acceden a Callidus? ¿Es un número alto?"
      ],
      "metadata": {
        "id": "wue--nyJHpQB"
      }
    },
    {
      "cell_type": "markdown",
      "source": [
        "Primero para los agentes en formación del grupo experimental."
      ],
      "metadata": {
        "id": "-tSFaRfCIsxm"
      }
    },
    {
      "cell_type": "code",
      "source": [
        "agentes_est_prueba = prueba.groupby(by=['NOMBRE USUARIO'], as_index=False).count()\n",
        "\n",
        "fig = px.scatter(agentes_est_prueba, y=\"USERID\", x=\"NOMBRE USUARIO\")\n",
        "fig.update_traces(marker_size=8)\n",
        "fig.show()"
      ],
      "metadata": {
        "id": "zTp3gwBcHnDE"
      },
      "execution_count": null,
      "outputs": []
    },
    {
      "cell_type": "code",
      "source": [
        "agentes_for_exp = accesos_for_exp.groupby(by=['NOMBRE USUARIO'], as_index=False).count()\n",
        "\n",
        "fig = px.scatter(agentes_for_exp, y=\"USERID\", x=\"NOMBRE USUARIO\")\n",
        "fig.update_traces(marker_size=8)\n",
        "fig.show()"
      ],
      "metadata": {
        "id": "0UlKZpgxH5_-"
      },
      "execution_count": null,
      "outputs": []
    },
    {
      "cell_type": "code",
      "source": [
        "# CODIGO PARA ENCONTRAR AGENTES CONCRETOS\n",
        "agente = Gr2[Gr2[\"NOMBRE\"].str.contains(\"ALICIA\")]\n",
        "agente"
      ],
      "metadata": {
        "id": "jmAYfzu8FglT"
      },
      "execution_count": null,
      "outputs": []
    },
    {
      "cell_type": "code",
      "source": [
        "agentes_est_exp = accesos_est_exp.groupby(by=['NOMBRE USUARIO'], as_index=False).count()\n",
        "\n",
        "fig = px.scatter(agentes_est_exp, y=\"USERID\", x=\"NOMBRE USUARIO\")\n",
        "fig.update_traces(marker_size=8)\n",
        "fig.show()"
      ],
      "metadata": {
        "id": "ig62rtoa-d1V"
      },
      "execution_count": null,
      "outputs": []
    },
    {
      "cell_type": "markdown",
      "source": [
        "Agentes por sucursal, formación y estándar juntos."
      ],
      "metadata": {
        "id": "Ry4hXp17FZSi"
      }
    },
    {
      "cell_type": "code",
      "source": [
        "agentes_for_exp = accesos_for_exp.groupby(by=['NOMBRE USUARIO', 'SUCURSAL'], as_index=False).count()\n",
        "agentes_est_exp = accesos_est_exp.groupby(by=['NOMBRE USUARIO', 'SUCURSAL'], as_index=False).count()\n",
        "agentes_for_ctrl = accesos_for_ctrl.groupby(by=['NOMBRE USUARIO', 'SUCURSAL'], as_index=False).count()\n",
        "agentes_est_ctrl = accesos_est_ctrl.groupby(by=['NOMBRE USUARIO', 'SUCURSAL'], as_index=False).count()\n",
        "\n",
        "import plotly.graph_objects as go\n",
        "\n",
        "fig = go.Figure()\n",
        "\n",
        "# Añadir la primera traza para los datos del establecimiento\n",
        "fig.add_trace(go.Scatter(\n",
        "    x=agentes_est_exp['SUCURSAL'],\n",
        "    y=agentes_est_exp['USERID'],\n",
        "    mode='markers',  # Modo de puntos\n",
        "    marker=dict(size=8, color='blue'),  # Controlar el tamaño y color de los puntos\n",
        "    name='ESTÁNDAR'  # Nombre de la leyenda\n",
        "))\n",
        "\n",
        "# Añadir la segunda traza para los datos foráneos\n",
        "fig.add_trace(go.Scatter(\n",
        "    x=agentes_for_exp['SUCURSAL'],\n",
        "    y=agentes_for_exp['USERID'],\n",
        "    mode='markers',\n",
        "    marker=dict(size=8, color='red'),  # Otro color\n",
        "    name='FORMACIÓN'\n",
        "))\n",
        "\n",
        "# Añadir la segunda traza para los datos foráneos\n",
        "fig.add_trace(go.Scatter(\n",
        "    x=agentes_for_ctrl['SUCURSAL'],\n",
        "    y=agentes_for_ctrl['USERID'],\n",
        "    mode='markers',\n",
        "    marker=dict(size=8, color='red', symbol='x'),  # Otro color\n",
        "    name='FORMACIÓN'\n",
        "))\n",
        "\n",
        "# Añadir la segunda traza para los datos foráneos\n",
        "fig.add_trace(go.Scatter(\n",
        "    x=agentes_est_ctrl['SUCURSAL'],\n",
        "    y=agentes_est_ctrl['USERID'],\n",
        "    mode='markers',\n",
        "    marker=dict(size=8, color='blue', symbol='x'),  # Otro color\n",
        "    name='ESTÁNDAR'\n",
        "))\n",
        "\n",
        "# Actualizar el layout para añadir título y mejorar la presentación\n",
        "fig.update_layout(\n",
        "    title='Accesos Grupo Experimental por Usuario y Sucursal',\n",
        "    xaxis_title='Sucursal',\n",
        "    yaxis_title='Número de Accesos',\n",
        "    legend_title='Tipo de Usuario'\n",
        ")\n",
        "\n",
        "# Mostrar el gráfico\n",
        "fig.show()"
      ],
      "metadata": {
        "id": "Of_SVX8OFXXp"
      },
      "execution_count": null,
      "outputs": []
    },
    {
      "cell_type": "markdown",
      "source": [
        "Cuántos agentes están usando los informes, por tipología y en su totalidad."
      ],
      "metadata": {
        "id": "YsEWgqZZLQUo"
      }
    },
    {
      "cell_type": "markdown",
      "source": [
        "Totalidad de agentes en el grupo experimental y según la tipología."
      ],
      "metadata": {
        "id": "B7N_1fnmI74O"
      }
    },
    {
      "cell_type": "code",
      "source": [
        "print('Hay', agentes_for_exp['NOMBRE USUARIO'].nunique(), 'agentes en formación del grupo experimental usando los informes y', agentes_est_exp['NOMBRE USUARIO'].nunique(), 'agentes estándar, es decir, un total de', agentes_for_exp['NOMBRE USUARIO'].nunique() + agentes_est_exp['NOMBRE USUARIO'].nunique(), 'agentes.')\n",
        "print('Hay', df_for['NOMBRE'].nunique(), 'agentes en formación y', df_est['NOMBRE'].nunique(), 'agentes estándar en el grupo experimental, es decir, un total de', df_for['NOMBRE'].nunique() + df_est['NOMBRE'].nunique(), 'agentes.')"
      ],
      "metadata": {
        "id": "X0D3aq2vI7JC"
      },
      "execution_count": null,
      "outputs": []
    },
    {
      "cell_type": "markdown",
      "source": [
        "Medimos porcentualmente qué representan estos datos."
      ],
      "metadata": {
        "id": "e2EHxhThMRu3"
      }
    },
    {
      "cell_type": "code",
      "source": [
        "dif_for_exp = round((100*agentes_for_exp['NOMBRE USUARIO'].nunique())/df_for['NOMBRE'].nunique(),2)\n",
        "\n",
        "dif_est_exp = round((100*agentes_est_exp['NOMBRE USUARIO'].nunique())/df_est['NOMBRE'].nunique(),2)\n",
        "\n",
        "total_usando = agentes_for_exp['NOMBRE USUARIO'].nunique() + agentes_est_exp['NOMBRE USUARIO'].nunique()\n",
        "total_exp = (df_for['NOMBRE'].nunique() + df_est['NOMBRE'].nunique())\n",
        "\n",
        "dif_total_exp = round((100*total_usando)/total_exp,2)\n",
        "\n",
        "print('Hay', dif_for_exp, '% de agentes en formación y', dif_est_exp, '% agentes estándar usando los informes, es decir, un total de', dif_total_exp, '% de agentes.')"
      ],
      "metadata": {
        "id": "scOv-qMiMRQ4"
      },
      "execution_count": null,
      "outputs": []
    },
    {
      "cell_type": "markdown",
      "source": [
        "####Para el grupo de control"
      ],
      "metadata": {
        "id": "luS1O5JYOeNF"
      }
    },
    {
      "cell_type": "code",
      "source": [
        "agentes_for_ctrl = accesos_for_ctrl.groupby(by=['NOMBRE USUARIO'], as_index=False).count()\n",
        "\n",
        "fig = px.scatter(agentes_for_ctrl, y=\"USERID\", x=\"NOMBRE USUARIO\")\n",
        "fig.update_traces(marker_size=8)\n",
        "fig.show()"
      ],
      "metadata": {
        "id": "l34E6H79OiEY"
      },
      "execution_count": null,
      "outputs": []
    },
    {
      "cell_type": "code",
      "source": [
        "agentes_est_ctrl = accesos_est_ctrl.groupby(by=['NOMBRE USUARIO'], as_index=False).count()\n",
        "\n",
        "fig = px.scatter(agentes_est_ctrl, y=\"USERID\", x=\"NOMBRE USUARIO\")\n",
        "fig.update_traces(marker_size=8)\n",
        "fig.show()"
      ],
      "metadata": {
        "id": "DOm4qZLqOo72"
      },
      "execution_count": null,
      "outputs": []
    },
    {
      "cell_type": "code",
      "source": [
        "agente = Gr2[Gr2[\"NOMBRE\"].str.contains(\"IRENE\")]\n",
        "agente"
      ],
      "metadata": {
        "id": "cj3cubEbF_9I"
      },
      "execution_count": null,
      "outputs": []
    },
    {
      "cell_type": "code",
      "source": [
        "print('Hay', agentes_for_ctrl['NOMBRE USUARIO'].nunique(), 'agentes en formación usando Callidus del grupo de control y', agentes_est_ctrl['NOMBRE USUARIO'].nunique(), 'agentes estándar, es decir, un total de', agentes_for_ctrl['NOMBRE USUARIO'].nunique() + agentes_est_ctrl['NOMBRE USUARIO'].nunique(), 'agentes.')\n",
        "print('Hay', df2_for['NOMBRE'].nunique(), 'agentes en formación y', df2_est['NOMBRE'].nunique(), 'agentes estándar en el grupo de control, es decir, un total de', df2_for['NOMBRE'].nunique() + df2_est['NOMBRE'].nunique(), 'agentes.')"
      ],
      "metadata": {
        "id": "OfC2stIIV6BJ"
      },
      "execution_count": null,
      "outputs": []
    },
    {
      "cell_type": "markdown",
      "source": [
        "Medimos los porcentajes."
      ],
      "metadata": {
        "id": "lSgJ-F5UWOMl"
      }
    },
    {
      "cell_type": "code",
      "source": [
        "dif_for_ctrl = round((100*agentes_for_ctrl['NOMBRE USUARIO'].nunique())/df2_for['NOMBRE'].nunique(),2)\n",
        "\n",
        "dif_est_ctrl = round((100*agentes_est_exp['NOMBRE USUARIO'].nunique())/df2_est['NOMBRE'].nunique(),2)\n",
        "\n",
        "total_usando_ctrl = agentes_for_ctrl['NOMBRE USUARIO'].nunique() + agentes_est_ctrl['NOMBRE USUARIO'].nunique()\n",
        "total_ctrl = (df2_for['NOMBRE'].nunique() + df2_est['NOMBRE'].nunique())\n",
        "\n",
        "dif_total_ctrl = round((100*total_usando_ctrl)/total_ctrl,2)\n",
        "\n",
        "print('Hay', dif_for_ctrl, '% de agentes en formación y', dif_est_ctrl, '% agentes estándar usando Callidus del grupo de control, es decir, un total de', dif_total_ctrl, '% de agentes.')"
      ],
      "metadata": {
        "id": "xm-LCJNGWOo-"
      },
      "execution_count": null,
      "outputs": []
    },
    {
      "cell_type": "code",
      "source": [
        "# Grupo exp como ctrl\n",
        "agentes_for_ctrl1_2 = accesos_for_ctrl1_2.groupby(by=['NOMBRE USUARIO'], as_index=False).count()\n",
        "\n",
        "fig = px.scatter(agentes_for_ctrl1_2, y=\"USERID\", x=\"NOMBRE USUARIO\")\n",
        "fig.update_traces(marker_size=8)\n",
        "fig.show()"
      ],
      "metadata": {
        "id": "oTHRao-XLG9h"
      },
      "execution_count": null,
      "outputs": []
    },
    {
      "cell_type": "code",
      "source": [
        "# Grupo exp como ctrl\n",
        "agentes_est_ctrl1_2 = accesos_est_ctrl1_2.groupby(by=['NOMBRE USUARIO'], as_index=False).count()\n",
        "\n",
        "fig = px.scatter(agentes_est_ctrl1_2, y=\"USERID\", x=\"NOMBRE USUARIO\")\n",
        "fig.update_traces(marker_size=8)\n",
        "fig.show()"
      ],
      "metadata": {
        "id": "YhPQPzFfLOdY"
      },
      "execution_count": null,
      "outputs": []
    },
    {
      "cell_type": "code",
      "source": [
        "print('Hay', agentes_for_ctrl1_2['NOMBRE USUARIO'].nunique(), 'agentes en formación usando Callidus del grupo experimental como grupo de control y', agentes_est_ctrl1_2['NOMBRE USUARIO'].nunique(), 'agentes estándar, es decir, un total de', agentes_for_ctrl1_2['NOMBRE USUARIO'].nunique() + agentes_est_ctrl1_2['NOMBRE USUARIO'].nunique(), 'agentes.')\n",
        "print('Hay', df1_2_for['NOMBRE'].nunique(), 'agentes en formación y', df1_2_est['NOMBRE'].nunique(), 'agentes estándar en el grupo experimental como grupo de control, es decir, un total de', df1_2_for['NOMBRE'].nunique() + df1_2_est['NOMBRE'].nunique(), 'agentes.')"
      ],
      "metadata": {
        "id": "FatWdrncLWdf"
      },
      "execution_count": null,
      "outputs": []
    },
    {
      "cell_type": "code",
      "source": [
        "dif_for_ctrl1_2 = round((100*agentes_for_ctrl1_2['NOMBRE USUARIO'].nunique())/df1_2_for['NOMBRE'].nunique(),2)\n",
        "\n",
        "dif_est_ctrl1_2 = round((100*agentes_est_ctrl1_2['NOMBRE USUARIO'].nunique())/df1_2_est['NOMBRE'].nunique(),2)\n",
        "\n",
        "total_usando_ctrl1_2 = agentes_for_ctrl1_2['NOMBRE USUARIO'].nunique() + agentes_est_ctrl1_2['NOMBRE USUARIO'].nunique()\n",
        "total_ctrl1_2 = (df1_2_for['NOMBRE'].nunique() + df1_2_est['NOMBRE'].nunique())\n",
        "\n",
        "dif_total_ctrl1_2 = round((100*total_usando_ctrl1_2)/total_ctrl1_2,2)\n",
        "\n",
        "print('Hay', dif_for_ctrl1_2, '% de agentes en formación y', dif_est_ctrl1_2, '% agentes estándar usando Callidus del grupo experimental como control, es decir, un total de', dif_total_ctrl1_2, '% de agentes.')"
      ],
      "metadata": {
        "id": "IQuCBWH3MNyi"
      },
      "execution_count": null,
      "outputs": []
    },
    {
      "cell_type": "markdown",
      "source": [
        "###Medimos las Bajas\n",
        "Vamos a ver los agentes de ambos grupos que se han dado de baja hasta el momento, a partir del 1.18 la parte de agentes inactivos que será subida diariamente."
      ],
      "metadata": {
        "id": "2N2LzaaWYoxD"
      }
    },
    {
      "cell_type": "markdown",
      "source": [
        "####Bajas de los agentes del grupo experimental"
      ],
      "metadata": {
        "id": "f06FTjjdbKcJ"
      }
    },
    {
      "cell_type": "code",
      "source": [
        "bajas_exp = Gr1[Gr1['NOMBRE'].isin(bajas['NOMBRE'].unique())]\n",
        "\n",
        "bajas_exp"
      ],
      "metadata": {
        "id": "7WgAFlZ-Yoj1"
      },
      "execution_count": null,
      "outputs": []
    },
    {
      "cell_type": "markdown",
      "source": [
        "####Bajas de los agentes del grupo de control"
      ],
      "metadata": {
        "id": "aNcHk4ZEbPD6"
      }
    },
    {
      "cell_type": "code",
      "source": [
        "bajas_ctrl = Gr2[Gr2['NOMBRE'].isin(bajas['NOMBRE'].unique())]\n",
        "\n",
        "bajas_ctrl"
      ],
      "metadata": {
        "id": "Dk5H2W1tbOpX"
      },
      "execution_count": null,
      "outputs": []
    },
    {
      "cell_type": "markdown",
      "source": [
        "###Medición de la Producción\n"
      ],
      "metadata": {
        "id": "5Mv1eCo-oFUW"
      }
    },
    {
      "cell_type": "markdown",
      "source": [
        "####Pólizas Físicas y Corregidas\n",
        "Comenzamos a medir las pólizas (tanto físicas como corregidas) de los agentes del grupo experimental, el de control y la producción del grupo experimental en los meses del primer trimestre."
      ],
      "metadata": {
        "id": "XPSDgxM2onV2"
      }
    },
    {
      "cell_type": "markdown",
      "source": [
        "#####Grupo Experimental (1º Trim VS 2º Trim)"
      ],
      "metadata": {
        "id": "ex_ClpZ9odCa"
      }
    },
    {
      "cell_type": "code",
      "source": [
        "prod_fis_corr_exp = prod_fis_corr[prod_fis_corr['POSITIONNAME'].isin(Gr1['LDAP'].unique())]\n",
        "\n",
        "suma_fis_trim1 = prod_fis_corr_exp['PRIMER TRIM POL FIS'].sum()\n",
        "suma_fis_trim2 = prod_fis_corr_exp['SEGUNDO TRIM POL FIS'].sum()\n",
        "\n",
        "# Preparar datos para el gráfico\n",
        "sumas_fis = [suma_fis_trim1, suma_fis_trim2]\n",
        "columnas_fis = ['PRIMER TRIM POL FIS', 'SEGUNDO TRIM POL FIS']\n",
        "\n",
        "# Crear el gráfico de barras\n",
        "plt.figure(figsize=(8, 6))\n",
        "plt.bar(columnas_fis, sumas_fis, color=['orange', 'green'])\n",
        "plt.xlabel('Pólizas Físicas por Trimestre')\n",
        "plt.ylabel('Total producción (Pólizas Físicas)')\n",
        "plt.title('Suma de Pólizas Físicas por Trimestre (Grupo Experimental)')\n",
        "plt.show()"
      ],
      "metadata": {
        "id": "CGncRzFYoE8g"
      },
      "execution_count": null,
      "outputs": []
    },
    {
      "cell_type": "code",
      "source": [
        "print('En el primer trimestre el grupo experimental hizo', suma_fis_trim1,'pólizas físicas, mientras que en el segundo', suma_fis_trim2,'.')\n",
        "print('En el primer trimestre el grupo experimental hizo un 100 % pólizas físicas, mientras que en el segundo', round((100*suma_fis_trim2)/suma_fis_trim1,2),'%.')"
      ],
      "metadata": {
        "id": "DizRGIFkvwkL"
      },
      "execution_count": null,
      "outputs": []
    },
    {
      "cell_type": "code",
      "source": [
        "suma_corr_trim1 = prod_fis_corr_exp['PRIMER TRIM POL CORR'].sum()\n",
        "suma_corr_trim2 = prod_fis_corr_exp['SEGUNDO TRIM POL CORR'].sum()\n",
        "\n",
        "# Preparar datos para el gráfico\n",
        "sumas_corr = [suma_corr_trim1, suma_corr_trim2]\n",
        "columnas_corr = ['PRIMER TRIM POL CORR', 'SEGUNDO TRIM POL CORR']\n",
        "\n",
        "# Crear el gráfico de barras\n",
        "plt.figure(figsize=(8, 6))\n",
        "plt.bar(columnas_corr, sumas_corr, color=['orange', 'green'])\n",
        "plt.xlabel('Pólizas Corregidas por Trimestre')\n",
        "plt.ylabel('Total producción (Pólizas Corregidas)')\n",
        "plt.title('Suma de Pólizas Corregidas por Trimestre (Grupo Experimental)')\n",
        "plt.show()"
      ],
      "metadata": {
        "id": "6AJgVhBepBtZ"
      },
      "execution_count": null,
      "outputs": []
    },
    {
      "cell_type": "code",
      "source": [
        "print('En el primer trimestre el grupo experimental hizo', round(suma_corr_trim1),'pólizas corregidas, mientras que en el segundo', round(suma_corr_trim2,2),'.')\n",
        "print('En el primer trimestre el grupo experimental hizo un 100 % pólizas corregidas, mientras que en el segundo', round((100*suma_corr_trim2)/suma_corr_trim1,2),'%.')"
      ],
      "metadata": {
        "id": "sL44JXtSwmVS"
      },
      "execution_count": null,
      "outputs": []
    },
    {
      "cell_type": "markdown",
      "source": [
        "#####Grupo de Control (1º Trim VS 2º Trim)"
      ],
      "metadata": {
        "id": "fdyOkFU1z--D"
      }
    },
    {
      "cell_type": "code",
      "source": [
        "prod_fis_corr_ctrl = prod_fis_corr[prod_fis_corr['POSITIONNAME'].isin(Gr2['LDAP'].unique())]\n",
        "\n",
        "suma_fis_trim1_ctrl = prod_fis_corr_ctrl['PRIMER TRIM POL FIS'].sum()\n",
        "suma_fis_trim2_ctrl = prod_fis_corr_ctrl['SEGUNDO TRIM POL FIS'].sum()\n",
        "\n",
        "# Preparar datos para el gráfico\n",
        "sumas_fis_ctrl = [suma_fis_trim1_ctrl, suma_fis_trim2_ctrl]\n",
        "\n",
        "# Crear el gráfico de barras\n",
        "plt.figure(figsize=(8, 6))\n",
        "plt.bar(columnas_fis, sumas_fis_ctrl, color=['lightblue', 'brown'])\n",
        "plt.xlabel('Pólizas Físicas por Trimestre')\n",
        "plt.ylabel('Total producción (Pólizas Físicas)')\n",
        "plt.title('Suma de Pólizas Físicas por Trimestre (Grupo Control)')\n",
        "plt.show()"
      ],
      "metadata": {
        "id": "jcPPh-8SxDhN"
      },
      "execution_count": null,
      "outputs": []
    },
    {
      "cell_type": "markdown",
      "source": [
        "Comparamos los valores y contemplando que las del primer trimestre corresponden al 100% sacamos los porcentajes."
      ],
      "metadata": {
        "id": "BHwKNELay_8N"
      }
    },
    {
      "cell_type": "code",
      "source": [
        "print('En el primer trimestre el grupo de control hizo', suma_fis_trim1_ctrl,'pólizas físicas, mientras que en el segundo', suma_fis_trim2_ctrl,'.')\n",
        "print('En el primer trimestre el grupo de control hizo un 100 % pólizas físicas, mientras que en el segundo', round((100*suma_fis_trim2_ctrl)/suma_fis_trim1_ctrl,2),'%.')"
      ],
      "metadata": {
        "id": "EbMQH3JUyLzy"
      },
      "execution_count": null,
      "outputs": []
    },
    {
      "cell_type": "code",
      "source": [
        "suma_corr_trim1_ctrl = prod_fis_corr_ctrl['PRIMER TRIM POL CORR'].sum()\n",
        "suma_corr_trim2_ctrl = prod_fis_corr_ctrl['SEGUNDO TRIM POL CORR'].sum()\n",
        "\n",
        "# Preparar datos para el gráfico\n",
        "sumas_corr_ctrl = [suma_corr_trim1_ctrl, suma_corr_trim2_ctrl]\n",
        "\n",
        "# Crear el gráfico de barras\n",
        "plt.figure(figsize=(8, 6))\n",
        "plt.bar(columnas_corr, sumas_corr_ctrl, color=['lightblue', 'brown'])\n",
        "plt.xlabel('Pólizas Corregias por Trimestre')\n",
        "plt.ylabel('Total producción (Pólizas Corregidas)')\n",
        "plt.title('Suma de Pólizas Corregidas por Trimestre (Grupo Control)')\n",
        "plt.show()"
      ],
      "metadata": {
        "id": "L2kGw8ESxYxn"
      },
      "execution_count": null,
      "outputs": []
    },
    {
      "cell_type": "code",
      "source": [
        "print('En el primer trimestre el grupo de control hizo', round(suma_corr_trim1_ctrl,2),'pólizas corregidas, mientras que en el segundo', round(suma_corr_trim2_ctrl,2),'.')\n",
        "print('En el primer trimestre el grupo de control hizo un 100 % pólizas corregidas, mientras que en el segundo', round((100*suma_corr_trim2_ctrl)/suma_corr_trim1_ctrl,2),'%.')"
      ],
      "metadata": {
        "id": "0VctvTnjyKEO"
      },
      "execution_count": null,
      "outputs": []
    },
    {
      "cell_type": "markdown",
      "source": [
        "#####Segundo Trimestre (Experimental VS Control)"
      ],
      "metadata": {
        "id": "M_N3aNkW0Cfo"
      }
    },
    {
      "cell_type": "code",
      "source": [
        "# Preparar datos para el gráfico\n",
        "sumas_fis_comparativa = [suma_fis_trim2, suma_fis_trim2_ctrl]\n",
        "columnas_fis_comparativa = ['POL FIS Experimental', 'POL FIS Control']\n",
        "\n",
        "# Crear el gráfico de barras\n",
        "plt.figure(figsize=(8, 6))\n",
        "plt.bar(columnas_fis_comparativa, sumas_fis_comparativa, color=['red', 'blue'])\n",
        "plt.xlabel('Pólizas Físicas por Grupo (en el 2º Trimestre)')\n",
        "plt.ylabel('Total producción (Pólizas Físicas)')\n",
        "plt.title('Suma de Pólizas Físicas por Grupo')\n",
        "plt.show()"
      ],
      "metadata": {
        "id": "1tfJqv340PAT"
      },
      "execution_count": null,
      "outputs": []
    },
    {
      "cell_type": "code",
      "source": [
        "print('En el segundo trimestre el grupo de control hizo', round(suma_fis_trim2_ctrl,2),'pólizas físicas, mientras que el experimental', round(suma_fis_trim2,2),'.')\n",
        "print('El grupo de control hizo un 100 % pólizas físicas, mientras que el experimental', round((100*suma_fis_trim2)/suma_fis_trim2_ctrl,2),'%.')"
      ],
      "metadata": {
        "id": "EPQtWRSJ3X3f"
      },
      "execution_count": null,
      "outputs": []
    },
    {
      "cell_type": "code",
      "source": [
        "# Preparar datos para el gráfico\n",
        "sumas_corr_comparativa = [suma_corr_trim2, suma_corr_trim2_ctrl]\n",
        "columnas_corr_comparativa = ['POL CORR Experimental', 'POL CORR Control']\n",
        "\n",
        "# Crear el gráfico de barras\n",
        "plt.figure(figsize=(8, 6))\n",
        "plt.bar(columnas_corr_comparativa, sumas_corr_comparativa, color=['red', 'blue'])\n",
        "plt.xlabel('Pólizas Corregidas por Grupo (en el 2º Trimestre)')\n",
        "plt.ylabel('Total producción (Pólizas Corregidas)')\n",
        "plt.title('Suma de Pólizas Corregidas por Grupo')\n",
        "plt.show()"
      ],
      "metadata": {
        "id": "QL1Y4Vkc0CTi"
      },
      "execution_count": null,
      "outputs": []
    },
    {
      "cell_type": "code",
      "source": [
        "print('En el segundo trimestre el grupo de control hizo', round(suma_corr_trim2_ctrl,2),'pólizas corregidas, mientras que el experimental', round(suma_corr_trim2,2),'.')\n",
        "print('El grupo de control hizo un 100 % pólizas corregidas, mientras que el experimental', round((100*suma_corr_trim2)/suma_corr_trim2_ctrl,2),'%.')"
      ],
      "metadata": {
        "id": "gneLye0P30Hi"
      },
      "execution_count": null,
      "outputs": []
    },
    {
      "cell_type": "markdown",
      "source": [
        "####Pólizas Físicas y Corregidas - Media mensual\n",
        "Se procede a realizar el estudio de manera mensual con las medias, teniendo en cuenta los agentes que hay en el mes (teniendo en cuenta los agentes que no estuvieran dados de alta enb el 1er trimestre y las bajas que se vayan produciendo)."
      ],
      "metadata": {
        "id": "k7ShL2DUt91K"
      }
    },
    {
      "cell_type": "code",
      "source": [
        "enero_bajas = bajas[bajas['F.BAJA'] <= pd.to_datetime('2024-01-01')]\n",
        "febrero_bajas = bajas[bajas['F.BAJA'] <= pd.to_datetime('2024-02-01')]\n",
        "marzo_bajas = bajas[bajas['F.BAJA'] <= pd.to_datetime('2024-03-01')]\n",
        "abril_bajas = bajas[bajas['F.BAJA'] <= pd.to_datetime('2024-04-01')]\n",
        "mayo_bajas = bajas[bajas['F.BAJA'] <= pd.to_datetime('2024-05-01')]\n",
        "junio_bajas = bajas[bajas['F.BAJA'] <= pd.to_datetime('2024-06-01')]\n",
        "\n",
        "\n",
        "enero_exp = Gr1[(Gr1['F.ALTA'] <= pd.to_datetime('2024-01-01')) & (~Gr1['LDAP'].isin(enero_bajas))]\n",
        "febrero_exp = Gr1[(Gr1['F.ALTA'] <= pd.to_datetime('2024-02-01')) & (~Gr1['LDAP'].isin(febrero_bajas))]\n",
        "marzo_exp = Gr1[(Gr1['F.ALTA'] <= pd.to_datetime('2024-03-01')) & (~Gr1['LDAP'].isin(marzo_bajas))]\n",
        "abril_exp = Gr1[(Gr1['F.ALTA'] <= pd.to_datetime('2024-04-01')) & (~Gr1['LDAP'].isin(abril_bajas))]\n",
        "mayo_exp = Gr1[(Gr1['F.ALTA'] <= pd.to_datetime('2024-05-01')) & (~Gr1['LDAP'].isin(mayo_bajas))]\n",
        "junio_exp = Gr1[(Gr1['F.ALTA'] <= pd.to_datetime('2024-06-01')) & (~Gr1['LDAP'].isin(junio_bajas))]\n",
        "\n",
        "\n",
        "enero_ctrl = Gr2[(Gr2['F.ALTA'] <= pd.to_datetime('2024-01-01')) & (~Gr2['LDAP'].isin(enero_bajas))]\n",
        "febrero_ctrl = Gr2[(Gr2['F.ALTA'] <= pd.to_datetime('2024-02-01')) & (~Gr2['LDAP'].isin(febrero_bajas))]\n",
        "marzo_ctrl = Gr2[(Gr2['F.ALTA'] <= pd.to_datetime('2024-03-01')) & (~Gr2['LDAP'].isin(marzo_bajas))]\n",
        "abril_ctrl = Gr2[(Gr2['F.ALTA'] <= pd.to_datetime('2024-04-01')) & (~Gr2['LDAP'].isin(abril_bajas))]\n",
        "mayo_ctrl = Gr2[(Gr2['F.ALTA'] <= pd.to_datetime('2024-05-01')) & (~Gr2['LDAP'].isin(mayo_bajas))]\n",
        "junio_ctrl = Gr2[(Gr2['F.ALTA'] <= pd.to_datetime('2024-06-01')) & (~Gr2['LDAP'].isin(junio_bajas))]"
      ],
      "metadata": {
        "id": "BMJejiE-ueNW"
      },
      "execution_count": null,
      "outputs": []
    },
    {
      "cell_type": "code",
      "source": [
        "enero = prod_fis_corr[prod_fis_corr['POSITIONNAME'].isin(enero_exp['LDAP'].unique())]\n",
        "febrero = prod_fis_corr[prod_fis_corr['POSITIONNAME'].isin(febrero_exp['LDAP'].unique())]\n",
        "marzo = prod_fis_corr[prod_fis_corr['POSITIONNAME'].isin(marzo_exp['LDAP'].unique())]\n",
        "abril = prod_fis_corr[prod_fis_corr['POSITIONNAME'].isin(abril_exp['LDAP'].unique())]\n",
        "mayo = prod_fis_corr[prod_fis_corr['POSITIONNAME'].isin(mayo_exp['LDAP'].unique())]\n",
        "# junio = prod_fis_corr[prod_fis_corr['POSITIONNAME'].isin(junio_exp['LDAP'].unique())]\n",
        "\n",
        "media_fis_enero_exp = enero['POL. FIS. 2024-01'].sum()/enero_exp.shape[0]\n",
        "media_fis_febrero_exp = febrero['POL. FIS. 2024-02'].sum()/febrero_exp.shape[0]\n",
        "media_fis_marzo_exp = marzo['POL. FIS. 2024-03'].sum()/marzo_exp.shape[0]\n",
        "media_fis_abril_exp = abril['POL. FIS. 2024-04'].sum()/abril_exp.shape[0]\n",
        "media_fis_mayo_exp = mayo['POL. FIS. 2024-05'].sum()/mayo_exp.shape[0]\n",
        "# media_fis_junio_exp = junio['POL. FIS. 2024-06'].sum()/junio_exp.shape[0]\n",
        "\n",
        "# # Preparar datos para el gráfico\n",
        "medias_fis_exp = [media_fis_enero_exp, media_fis_febrero_exp, media_fis_marzo_exp, media_fis_abril_exp, media_fis_mayo_exp]\n",
        "columnas_fis = ['ENERO POL FIS', 'FEBRERO POL FIS', 'MARZO POL FIS', 'ABRIL POL FIS', 'MAYO POL FIS']\n",
        "\n",
        "# Crear el gráfico de barras\n",
        "plt.figure(figsize=(8, 6))\n",
        "plt.bar(columnas_fis, medias_fis_exp, color=['orange', 'green', 'brown', 'pink'])\n",
        "plt.xlabel('Pólizas Físicas Mensuales')\n",
        "plt.ylabel('Total producción (Pólizas Físicas)')\n",
        "plt.title('Suma de Pólizas Físicas por Mes (Grupo Experimental)')\n",
        "plt.show()"
      ],
      "metadata": {
        "id": "8i8Q9kV6w5Kv"
      },
      "execution_count": null,
      "outputs": []
    },
    {
      "cell_type": "code",
      "source": [
        "media_corr_enero_exp = enero['POL. CORR. 2024-01'].sum()/enero_exp.shape[0]\n",
        "media_corr_febrero_exp = febrero['POL. CORR. 2024-02'].sum()/febrero_exp.shape[0]\n",
        "media_corr_marzo_exp = marzo['POL. CORR. 2024-03'].sum()/marzo_exp.shape[0]\n",
        "media_corr_abril_exp = abril['POL. CORR. 2024-04'].sum()/abril_exp.shape[0]\n",
        "# media_corr_mayo_exp = mayo['POL. CORR. 2024-05'].sum()/mayo_exp.shape[0]\n",
        "# media_corr_junio_exp = junio['POL. CORR. 2024-06'].sum()/junio_exp.shape[0]\n",
        "\n",
        "# # Preparar datos para el gráfico\n",
        "medias_corr_exp = [media_corr_enero_exp, media_corr_febrero_exp, media_corr_marzo_exp, media_corr_abril_exp, media_corr_mayo_exp]\n",
        "columnas_corr = ['ENERO POL CORR', 'FEBRERO POL CORR', 'MARZO POL CORR', 'ABRIL POL CORR', 'MAYO POL CORR']\n",
        "\n",
        "# Crear el gráfico de barras\n",
        "plt.figure(figsize=(8, 6))\n",
        "plt.bar(columnas_corr, medias_corr_exp, color=['orange', 'green', 'brown', 'pink'])\n",
        "plt.xlabel('Pólizas Físicas Mensual')\n",
        "plt.ylabel('Total producción (Pólizas Corregidas)')\n",
        "plt.title('Suma de Pólizas Corregidas por Mes (Grupo Experimental)')\n",
        "plt.show()"
      ],
      "metadata": {
        "id": "fFFqi4TyvSgK"
      },
      "execution_count": null,
      "outputs": []
    },
    {
      "cell_type": "code",
      "source": [
        "enero = prod_fis_corr[prod_fis_corr['POSITIONNAME'].isin(enero_ctrl['LDAP'].unique())]\n",
        "febrero = prod_fis_corr[prod_fis_corr['POSITIONNAME'].isin(febrero_ctrl['LDAP'].unique())]\n",
        "marzo = prod_fis_corr[prod_fis_corr['POSITIONNAME'].isin(marzo_ctrl['LDAP'].unique())]\n",
        "abril = prod_fis_corr[prod_fis_corr['POSITIONNAME'].isin(abril_ctrl['LDAP'].unique())]\n",
        "mayo = prod_fis_corr[prod_fis_corr['POSITIONNAME'].isin(mayo_ctrl['LDAP'].unique())]\n",
        "# junio = prod_fis_corr[prod_fis_corr['POSITIONNAME'].isin(junio_ctrl['LDAP'].unique())]\n",
        "\n",
        "media_fis_enero_ctrl = enero['POL. FIS. 2024-01'].sum()/enero_ctrl.shape[0]\n",
        "media_fis_febrero_ctrl = febrero['POL. FIS. 2024-02'].sum()/febrero_ctrl.shape[0]\n",
        "media_fis_marzo_ctrl = marzo['POL. FIS. 2024-03'].sum()/marzo_ctrl.shape[0]\n",
        "media_fis_abril_ctrl = abril['POL. FIS. 2024-04'].sum()/abril_ctrl.shape[0]\n",
        "media_fis_mayo_ctrl = mayo['POL. FIS. 2024-05'].sum()/mayo_ctrl.shape[0]\n",
        "# media_fis_junio_ctrl = junio['POL. FIS. 2024-06'].sum()/junio_ctrl.shape[0]\n",
        "\n",
        "# # Preparar datos para el gráfico\n",
        "medias_fis_ctrl = [media_fis_enero_ctrl, media_fis_febrero_ctrl, media_fis_marzo_ctrl, media_fis_abril_ctrl, media_fis_mayo_ctrl]\n",
        "# columnas_fis = ['ENERO POL FIS', 'FEBRERO POL FIS', 'MARZO POL FIS', 'ABRIL POL FIS']\n",
        "\n",
        "# Crear el gráfico de barras\n",
        "plt.figure(figsize=(8, 6))\n",
        "plt.bar(columnas_fis, medias_fis_ctrl, color=['orange', 'green', 'brown', 'pink'])\n",
        "plt.xlabel('Pólizas Físicas por Trimestre')\n",
        "plt.ylabel('Total producción (Pólizas Físicas)')\n",
        "plt.title('Suma de Pólizas Físicas por Trimestre (Grupo Control)')\n",
        "plt.show()"
      ],
      "metadata": {
        "id": "AiVc80WQ0-cf"
      },
      "execution_count": null,
      "outputs": []
    },
    {
      "cell_type": "code",
      "source": [
        "media_corr_enero_ctrl = enero['POL. CORR. 2024-01'].sum()/enero_ctrl.shape[0]\n",
        "media_corr_febrero_ctrl = febrero['POL. CORR. 2024-02'].sum()/febrero_ctrl.shape[0]\n",
        "media_corr_marzo_ctrl = marzo['POL. CORR. 2024-03'].sum()/marzo_ctrl.shape[0]\n",
        "media_corr_abril_ctrl = abril['POL. CORR. 2024-04'].sum()/abril_ctrl.shape[0]\n",
        "media_corr_mayo_ctrl = mayo['POL. CORR. 2024-05'].sum()/mayo_ctrl.shape[0]\n",
        "# media_corr_junio_ctrl = junio['POL. CORR. 2024-06'].sum()/junio_ctrl.shape[0]\n",
        "\n",
        "# # Preparar datos para el gráfico\n",
        "medias_corr_ctrl = [media_corr_enero_ctrl, media_corr_febrero_ctrl, media_corr_marzo_ctrl, media_corr_abril_ctrl, media_corr_mayo_ctrl]\n",
        "# columnas_corr = ['ENERO POL CORR', 'FEBRERO POL CORR', 'MARZO POL CORR', 'ABRIL POL CORR', 'MAYO POL CORR']\n",
        "\n",
        "# Crear el gráfico de barras\n",
        "plt.figure(figsize=(8, 6))\n",
        "plt.bar(columnas_corr, medias_corr_ctrl, color=['orange', 'green', 'brown', 'pink'])\n",
        "plt.xlabel('Pólizas Físicas Mensual')\n",
        "plt.ylabel('Total producción (Pólizas Físicas)')\n",
        "plt.title('Suma de Pólizas Físicas por Mes (Grupo Control)')\n",
        "plt.show()"
      ],
      "metadata": {
        "id": "G5QejN_DvtxN"
      },
      "execution_count": null,
      "outputs": []
    },
    {
      "cell_type": "code",
      "source": [
        "medias_fis = [media_fis_enero_exp, media_fis_enero_ctrl, media_fis_febrero_exp, media_fis_febrero_ctrl, media_fis_marzo_exp, media_fis_marzo_ctrl, media_fis_abril_exp, media_fis_abril_ctrl, media_fis_mayo_exp, media_fis_mayo_ctrl]\n",
        "columnas_fis_total = ['ENERO POL FIS EXP', 'ENERO POL FIS CTRL', 'FEBRERO POL FIS EXP','FEBRERO POL FIS CTRL', 'MARZO POL FIS EXP', 'MARZO POL FIS CTRL', 'ABRIL POL FIS EXP', 'ABRIL POL FIS CTRL']\n",
        "\n",
        "# Crear el gráfico de barras\n",
        "plt.figure(figsize=(20, 8))\n",
        "plt.bar(columnas_fis_total, medias_fis, color=['red', 'blue'])\n",
        "plt.xlabel('Pólizas Físicas Mensual')\n",
        "plt.ylabel('Total producción (Pólizas Físicas)')\n",
        "plt.title('Media de Pólizas Físicas por Mes (Control vs Experimental)')\n",
        "plt.show()"
      ],
      "metadata": {
        "id": "V7mhGBJZ4iLX"
      },
      "execution_count": null,
      "outputs": []
    },
    {
      "cell_type": "code",
      "source": [
        "medias_corr = [media_corr_enero_exp, media_corr_enero_ctrl, media_corr_febrero_exp, media_corr_febrero_ctrl, media_corr_marzo_exp, media_corr_marzo_ctrl, media_corr_abril_exp, media_corr_abril_ctrl, media_corr_mayo_exp, media_corr_mayo_ctrl]\n",
        "columnas_corr_total = ['ENERO POL CORR EXP', 'ENERO POL CORR CTRL', 'FEBRERO POL CORR EXP','FEBRERO POL CORR CTRL', 'MARZO POL CORR EXP', 'MARZO POL CORR CTRL', 'ABRIL POL CORR EXP', 'ABRIL POL CORR CTRL', 'MAYO POL CORR EXP', 'MAYO POL CORR CTRL']\n",
        "\n",
        "# Crear el gráfico de barras\n",
        "plt.figure(figsize=(20, 8))\n",
        "bars = plt.bar(columnas_corr_total, medias_corr, color=['red', 'blue'])\n",
        "plt.xlabel('Pólizas Corregidas por Trimestre')\n",
        "plt.ylabel('Total producción (Pólizas Corregidas)')\n",
        "plt.title('Suma de Pólizas Corregidas por Mes (Control vs Experimental)')\n",
        "plt.legend([bars[0], bars[1]], ['Experimental', 'Control'])\n",
        "plt.show()"
      ],
      "metadata": {
        "id": "rUKkKCOmwg8S"
      },
      "execution_count": null,
      "outputs": []
    },
    {
      "cell_type": "markdown",
      "source": [
        "####Tipo de Producción\n",
        "Vemos si la venta se encamina hacia donde la compañía busca."
      ],
      "metadata": {
        "id": "kcEZAZAX685w"
      }
    },
    {
      "cell_type": "code",
      "source": [
        "enero_prod_esp_exp = pd.merge(prod_enero, enero_exp, on='NIF', how='inner')\n",
        "febrero_prod_esp_exp = pd.merge(prod_febrero, febrero_exp, on='NIF', how='inner')\n",
        "marzo_prod_esp_exp = pd.merge(prod_marzo, marzo_exp, on='NIF', how='inner')\n",
        "abril_prod_esp_exp = pd.merge(prod_abril, abril_exp, on='NIF', how='inner')\n",
        "mayo_prod_esp_exp = pd.merge(prod_mayo, mayo_exp, on='NIF', how='inner')\n",
        "# junio_prod_esp_exp = pd.merge(prod_junio, junio_exp, on='NIF', how='inner')\n",
        "\n",
        "media_hogar_enero_exp = enero_prod_esp_exp['POL. FIS. HOGAR'].sum()/enero_prod_esp_exp.shape[0]\n",
        "media_rrtt_enero_exp = enero_prod_esp_exp['POL. FIS. RRTT'].sum()/enero_prod_esp_exp.shape[0]\n",
        "media_rrpp_enero_exp = enero_prod_esp_exp['POL. FIS. RRPP'].sum()/enero_prod_esp_exp.shape[0]\n",
        "media_aseg_enero_exp = enero_prod_esp_exp['ASEG.'].sum()/enero_prod_esp_exp.shape[0]\n",
        "\n",
        "media_hogar_febrero_exp = febrero_prod_esp_exp['POL. FIS. HOGAR'].sum()/febrero_prod_esp_exp.shape[0]\n",
        "media_rrtt_febrero_exp = febrero_prod_esp_exp['POL. FIS. RRTT'].sum()/febrero_prod_esp_exp.shape[0]\n",
        "media_rrpp_febrero_exp = febrero_prod_esp_exp['POL. FIS. RRPP'].sum()/febrero_prod_esp_exp.shape[0]\n",
        "media_aseg_febrero_exp = febrero_prod_esp_exp['ASEG.'].sum()/febrero_prod_esp_exp.shape[0]\n",
        "\n",
        "media_hogar_marzo_exp = marzo_prod_esp_exp['POL. FIS. HOGAR'].sum()/marzo_prod_esp_exp.shape[0]\n",
        "media_rrtt_marzo_exp = marzo_prod_esp_exp['POL. FIS. RRTT'].sum()/marzo_prod_esp_exp.shape[0]\n",
        "media_rrpp_marzo_exp = marzo_prod_esp_exp['POL. FIS. RRPP'].sum()/marzo_prod_esp_exp.shape[0]\n",
        "media_aseg_marzo_exp = marzo_prod_esp_exp['ASEG.'].sum()/marzo_prod_esp_exp.shape[0]\n",
        "\n",
        "media_hogar_abril_exp = abril_prod_esp_exp['POL. FIS. HOGAR'].sum()/abril_prod_esp_exp.shape[0]\n",
        "media_rrtt_abril_exp = abril_prod_esp_exp['POL. FIS. RRTT'].sum()/abril_prod_esp_exp.shape[0]\n",
        "media_rrpp_abril_exp = abril_prod_esp_exp['POL. FIS. RRPP'].sum()/abril_prod_esp_exp.shape[0]\n",
        "media_aseg_abril_exp = abril_prod_esp_exp['ASEG.'].sum()/abril_prod_esp_exp.shape[0]\n",
        "\n",
        "media_hogar_mayo_exp = mayo_prod_esp_exp['POL. FIS. HOGAR'].sum()/mayo_prod_esp_exp.shape[0]\n",
        "media_rrtt_mayo_exp = mayo_prod_esp_exp['POL. FIS. RRTT'].sum()/mayo_prod_esp_exp.shape[0]\n",
        "media_rrpp_mayo_exp = mayo_prod_esp_exp['POL. FIS. RRPP'].sum()/mayo_prod_esp_exp.shape[0]\n",
        "media_aseg_mayo_exp = mayo_prod_esp_exp['ASEG.'].sum()/mayo_prod_esp_exp.shape[0]\n",
        "\n",
        "# media_hogar_junio_exp = junio_prod_esp_exp['POL. FIS. HOGAR'].sum()/junio_prod_esp_exp.shape[0]\n",
        "# media_rrtt_junio_exp = junio_prod_esp_exp['POL. FIS. RRTT'].sum()/junio_prod_esp_exp.shape[0]\n",
        "# media_rrpp_junio_exp = junio_prod_esp_exp['POL. FIS. RRPP'].sum()/junio_prod_esp_exp.shape[0]\n",
        "# media_aseg_junio_exp = junio_prod_esp_exp['ASEG.'].sum()/junio_prod_esp_exp.shape[0]"
      ],
      "metadata": {
        "id": "x9YnF0yM8AYN"
      },
      "execution_count": null,
      "outputs": []
    },
    {
      "cell_type": "code",
      "source": [
        "enero_prod_esp_ctrl = pd.merge(prod_enero, enero_ctrl, on='NIF', how='inner')\n",
        "febrero_prod_esp_ctrl = pd.merge(prod_febrero, febrero_ctrl, on='NIF', how='inner')\n",
        "marzo_prod_esp_ctrl = pd.merge(prod_marzo, marzo_ctrl, on='NIF', how='inner')\n",
        "abril_prod_esp_ctrl = pd.merge(prod_abril, abril_ctrl, on='NIF', how='inner')\n",
        "mayo_prod_esp_ctrl = pd.merge(prod_mayo, mayo_ctrl, on='NIF', how='inner')\n",
        "# junio_prod_esp_ctrl = pd.merge(prod_junio, junio_ctrl, on='NIF', how='inner')\n",
        "\n",
        "media_hogar_enero_ctrl = enero_prod_esp_ctrl['POL. FIS. HOGAR'].sum()/enero_prod_esp_ctrl.shape[0]\n",
        "media_rrtt_enero_ctrl = enero_prod_esp_ctrl['POL. FIS. RRTT'].sum()/enero_prod_esp_ctrl.shape[0]\n",
        "media_rrpp_enero_ctrl = enero_prod_esp_ctrl['POL. FIS. RRPP'].sum()/enero_prod_esp_ctrl.shape[0]\n",
        "media_aseg_enero_ctrl = enero_prod_esp_ctrl['ASEG.'].sum()/enero_prod_esp_ctrl.shape[0]\n",
        "\n",
        "media_hogar_febrero_ctrl = febrero_prod_esp_ctrl['POL. FIS. HOGAR'].sum()/febrero_prod_esp_ctrl.shape[0]\n",
        "media_rrtt_febrero_ctrl = febrero_prod_esp_ctrl['POL. FIS. RRTT'].sum()/febrero_prod_esp_ctrl.shape[0]\n",
        "media_rrpp_febrero_ctrl = febrero_prod_esp_ctrl['POL. FIS. RRPP'].sum()/febrero_prod_esp_ctrl.shape[0]\n",
        "media_aseg_febrero_ctrl = febrero_prod_esp_ctrl['ASEG.'].sum()/febrero_prod_esp_ctrl.shape[0]\n",
        "\n",
        "media_hogar_marzo_ctrl = marzo_prod_esp_ctrl['POL. FIS. HOGAR'].sum()/marzo_prod_esp_ctrl.shape[0]\n",
        "media_rrtt_marzo_ctrl = marzo_prod_esp_ctrl['POL. FIS. RRTT'].sum()/marzo_prod_esp_ctrl.shape[0]\n",
        "media_rrpp_marzo_ctrl = marzo_prod_esp_ctrl['POL. FIS. RRPP'].sum()/marzo_prod_esp_ctrl.shape[0]\n",
        "media_aseg_marzo_ctrl = marzo_prod_esp_ctrl['ASEG.'].sum()/marzo_prod_esp_ctrl.shape[0]\n",
        "\n",
        "media_hogar_abril_ctrl = abril_prod_esp_ctrl['POL. FIS. HOGAR'].sum()/abril_prod_esp_ctrl.shape[0]\n",
        "media_rrtt_abril_ctrl = abril_prod_esp_ctrl['POL. FIS. RRTT'].sum()/abril_prod_esp_ctrl.shape[0]\n",
        "media_rrpp_abril_ctrl = abril_prod_esp_ctrl['POL. FIS. RRPP'].sum()/abril_prod_esp_ctrl.shape[0]\n",
        "media_aseg_abril_ctrl = abril_prod_esp_ctrl['ASEG.'].sum()/abril_prod_esp_ctrl.shape[0]\n",
        "\n",
        "media_hogar_mayo_ctrl = mayo_prod_esp_ctrl['POL. FIS. HOGAR'].sum()/mayo_prod_esp_ctrl.shape[0]\n",
        "media_rrtt_mayo_ctrl = mayo_prod_esp_ctrl['POL. FIS. RRTT'].sum()/mayo_prod_esp_ctrl.shape[0]\n",
        "media_rrpp_mayo_ctrl = mayo_prod_esp_ctrl['POL. FIS. RRPP'].sum()/mayo_prod_esp_ctrl.shape[0]\n",
        "media_aseg_mayo_ctrl = mayo_prod_esp_ctrl['ASEG.'].sum()/mayo_prod_esp_ctrl.shape[0]\n",
        "\n",
        "# media_hogar_junio_ctrl = junio_prod_esp_ctrl['POL. FIS. HOGAR'].sum()/junio_prod_esp_ctrl.shape[0]\n",
        "# media_rrtt_junio_ctrl = junio_prod_esp_ctrl['POL. FIS. RRTT'].sum()/junio_prod_esp_ctrl.shape[0]\n",
        "# media_rrpp_junio_ctrl = junio_prod_esp_ctrl['POL. FIS. RRPP'].sum()/junio_prod_esp_ctrl.shape[0]\n",
        "# media_aseg_junio_ctrl = junio_prod_esp_ctrl['ASEG.'].sum()/junio_prod_esp_ctrl.shape[0]"
      ],
      "metadata": {
        "id": "rmjGB2Y_Jham"
      },
      "execution_count": null,
      "outputs": []
    },
    {
      "cell_type": "code",
      "source": [
        "# Preparar datos para el gráfico\n",
        "medias_enero = [media_hogar_enero_exp, media_rrtt_enero_exp, media_rrpp_enero_exp, media_aseg_enero_exp]\n",
        "columnas_tipo_prod = ['HOGAR', 'RRTT', 'RRPP', 'ASEGURADOS']\n",
        "\n",
        "# Crear el gráfico de barras\n",
        "plt.figure(figsize=(8, 5))\n",
        "bars = plt.bar(columnas_tipo_prod, medias_enero, color=['orange', 'green', 'brown', 'pink'])\n",
        "plt.xlabel('Tipos de producción')\n",
        "plt.ylabel('Media producción por Tipo')\n",
        "plt.title('Media Tipo Producción Enero (Grupo Experimental)')\n",
        "plt.legend([bars[0], bars[1], bars[2], bars[3]], ['Hogar', 'RRTT', 'RRPP', 'Asegurados'])\n",
        "plt.show()"
      ],
      "metadata": {
        "id": "G6ZUJd2p7L2f"
      },
      "execution_count": null,
      "outputs": []
    },
    {
      "cell_type": "code",
      "source": [
        "# Preparar datos para el gráfico\n",
        "medias_febrero = [media_hogar_febrero_exp, media_rrtt_febrero_exp, media_rrpp_febrero_exp, media_aseg_febrero_exp]\n",
        "\n",
        "# Crear el gráfico de barras\n",
        "plt.figure(figsize=(8, 5))\n",
        "bars = plt.bar(columnas_tipo_prod, medias_febrero, color=['orange', 'green', 'brown', 'pink'])\n",
        "plt.xlabel('Tipos de producción')\n",
        "plt.ylabel('Media producción por Tipo')\n",
        "plt.title('Media Tipo Producción Febrero (Grupo Experimental)')\n",
        "plt.legend([bars[0], bars[1], bars[2], bars[3]], ['Hogar', 'RRTT', 'RRPP', 'Asegurados'])\n",
        "plt.show()"
      ],
      "metadata": {
        "id": "85WzBj0FBFfo"
      },
      "execution_count": null,
      "outputs": []
    },
    {
      "cell_type": "code",
      "source": [
        "# Preparar datos para el gráfico\n",
        "medias_marzo = [media_hogar_marzo_exp, media_rrtt_marzo_exp, media_rrpp_marzo_exp, media_aseg_marzo_exp]\n",
        "\n",
        "# Crear el gráfico de barras\n",
        "plt.figure(figsize=(8, 5))\n",
        "bars = plt.bar(columnas_tipo_prod, medias_marzo, color=['orange', 'green', 'brown', 'pink'])\n",
        "plt.xlabel('Tipos de producción')\n",
        "plt.ylabel('Media producción por Tipo')\n",
        "plt.title('Media Tipo Producción Marzo (Grupo Experimental)')\n",
        "plt.legend([bars[0], bars[1], bars[2], bars[3]], ['Hogar', 'RRTT', 'RRPP', 'Asegurados'])\n",
        "plt.show()"
      ],
      "metadata": {
        "id": "CpQm0KxKG6MY"
      },
      "execution_count": null,
      "outputs": []
    },
    {
      "cell_type": "code",
      "source": [
        "# Preparar datos para el gráfico\n",
        "medias_abril = [media_hogar_abril_exp, media_rrtt_abril_exp, media_rrpp_abril_exp, media_aseg_abril_exp]\n",
        "\n",
        "# Crear el gráfico de barras\n",
        "plt.figure(figsize=(10, 7))\n",
        "bars = plt.bar(columnas_tipo_prod, medias_abril, color=['orange', 'green', 'brown', 'pink'])\n",
        "plt.xlabel('Tipos de producción')\n",
        "plt.ylabel('Media producción por Tipo')\n",
        "plt.title('Media Tipo Producción Abril (Grupo Experimental)')\n",
        "plt.legend([bars[0], bars[1], bars[2], bars[3]], ['Hogar', 'RRTT', 'RRPP', 'Asegurados'])\n",
        "plt.show()"
      ],
      "metadata": {
        "id": "XQyhVBUJHK_W"
      },
      "execution_count": null,
      "outputs": []
    },
    {
      "cell_type": "code",
      "source": [
        "# Preparar datos para el gráfico\n",
        "medias_mayo = [media_hogar_mayo_exp, media_rrtt_mayo_exp, media_rrpp_mayo_exp, media_aseg_mayo_exp]\n",
        "\n",
        "# Crear el gráfico de barras\n",
        "plt.figure(figsize=(10, 7))\n",
        "bars = plt.bar(columnas_tipo_prod, medias_mayo, color=['orange', 'green', 'brown', 'pink'])\n",
        "plt.xlabel('Tipos de producción')\n",
        "plt.ylabel('Media producción por Tipo')\n",
        "plt.title('Media Tipo Producción Mayo (Grupo Experimental)')\n",
        "plt.legend([bars[0], bars[1], bars[2], bars[3]], ['Hogar', 'RRTT', 'RRPP', 'Asegurados'])\n",
        "plt.show()"
      ],
      "metadata": {
        "id": "r_FRoKP5kkSZ"
      },
      "execution_count": null,
      "outputs": []
    },
    {
      "cell_type": "code",
      "source": [
        "# # Preparar datos para el gráfico\n",
        "# medias_junio = [media_hogar_junio_exp, media_rrtt_junio_exp, media_rrpp_junio_exp, media_aseg_junio_exp]\n",
        "\n",
        "# # Crear el gráfico de barras\n",
        "# plt.figure(figsize=(10, 7))\n",
        "# bars = plt.bar(columnas_tipo_prod, medias_junio, color=['orange', 'green', 'brown', 'pink'])\n",
        "# plt.xlabel('Tipos de producción')\n",
        "# plt.ylabel('Media producción por Tipo')\n",
        "# plt.title('Media Tipo Producción Junio (Grupo Experimental)')\n",
        "# plt.legend([bars[0], bars[1], bars[2], bars[3]], ['Hogar', 'RRTT', 'RRPP', 'Asegurados'])\n",
        "# plt.show()"
      ],
      "metadata": {
        "id": "rYDkVMiJkybf"
      },
      "execution_count": null,
      "outputs": []
    },
    {
      "cell_type": "code",
      "source": [
        "# Preparar datos para el gráfico\n",
        "medias_hogar_exp = [media_hogar_enero_exp, media_hogar_febrero_exp, media_hogar_marzo_exp, media_hogar_abril_exp, media_hogar_mayo_exp]\n",
        "# , media_hogar_junio_exp]\n",
        "columnas_hogar = ['HOGAR ENERO', 'HOGAR FEBRERO', 'HOGAR MARZO', 'HOGAR ABRIL', 'HOGAR MAYO']\n",
        "# , 'HOGAR MAYO', 'HOGAR JUNIO']\n",
        "\n",
        "# Crear el gráfico de barras\n",
        "plt.figure(figsize=(10, 8))\n",
        "bars = plt.bar(columnas_hogar, medias_hogar_exp, color=['orange', 'green', 'brown', 'pink'])\n",
        "plt.xlabel('Tipos de producción')\n",
        "plt.ylabel('Media producción por Tipo')\n",
        "plt.title('Media Producción Hogar Mensual (Grupo Experimental)')\n",
        "plt.legend([bars[0], bars[1], bars[2], bars[3]], ['Enero', 'Febrero', 'Marzo', 'Abril'])\n",
        "plt.show()"
      ],
      "metadata": {
        "id": "d1B9CcMeHXgH"
      },
      "execution_count": null,
      "outputs": []
    },
    {
      "cell_type": "markdown",
      "source": [
        "#####Grupo Control VS Experimental"
      ],
      "metadata": {
        "id": "CtR3-GdFIvNL"
      }
    },
    {
      "cell_type": "code",
      "source": [
        "# Preparar datos para el gráfico\n",
        "medias_hogar = [media_hogar_enero_exp, media_hogar_enero_ctrl, media_hogar_febrero_exp, media_hogar_febrero_ctrl, media_hogar_marzo_exp, media_hogar_marzo_ctrl, media_hogar_abril_exp, media_hogar_abril_ctrl, media_hogar_mayo_exp, media_hogar_mayo_ctrl]\n",
        "#, media_hogar_junio_exp, media_hogar_junio_ctrl]\n",
        "columnas_meses = ['ENERO EXP', 'ENERO CTRL', 'FEBRERO EXP', 'FEBRERO CTRL', 'MARZO EXP', 'MARZO CTRL', 'ABRIL EXP', 'ABRIL CTRL', 'MAYO EXP', 'MAYO CTRL']\n",
        "#, 'JUNIO EXP', 'JUNIO CTRL']\n",
        "\n",
        "# Crear el gráfico de barras\n",
        "plt.figure(figsize=(15, 5))\n",
        "bars = plt.bar(columnas_meses, medias_hogar, color = ['red', 'blue'])\n",
        "plt.xlabel('Mes - Grupo')\n",
        "plt.ylabel('Media producción por Tipo')\n",
        "plt.title('Media Producción Hogar Mensual (Experimental VS Control)')\n",
        "plt.legend([bars[0], bars[1]], ['Experimental', 'Control'])\n",
        "plt.show()"
      ],
      "metadata": {
        "id": "3WX8XfTAI0kq"
      },
      "execution_count": null,
      "outputs": []
    },
    {
      "cell_type": "code",
      "source": [
        "# Preparar datos para el gráfico\n",
        "medias_rrtt = [media_rrtt_enero_exp, media_rrtt_enero_ctrl, media_rrtt_febrero_exp, media_rrtt_febrero_ctrl, media_rrtt_marzo_exp, media_rrtt_marzo_ctrl, media_rrtt_abril_exp, media_rrtt_abril_ctrl, media_rrtt_mayo_exp, media_rrtt_mayo_ctrl]\n",
        "# , media_rrtt_junio_exp, media_rrtt_junio_ctrl]\n",
        "\n",
        "\n",
        "# Crear el gráfico de barras\n",
        "plt.figure(figsize=(15, 5))\n",
        "bars = plt.bar(columnas_meses, medias_rrtt, color=['red', 'blue'])\n",
        "plt.xlabel('Mes - Grupo')\n",
        "plt.ylabel('Media producción por Tipo')\n",
        "plt.title('Media Producción RRTT Mensual (Experimental VS Control)')\n",
        "plt.legend([bars[0], bars[1]], ['Experimental', 'Control'])\n",
        "plt.show()"
      ],
      "metadata": {
        "id": "3tGr0dp0K_8o"
      },
      "execution_count": null,
      "outputs": []
    },
    {
      "cell_type": "code",
      "source": [
        "# Preparar datos para el gráfico\n",
        "medias_rrpp = [media_rrpp_enero_exp, media_rrpp_enero_ctrl, media_rrpp_febrero_exp, media_rrpp_febrero_ctrl, media_rrpp_marzo_exp, media_rrpp_marzo_ctrl, media_rrpp_abril_exp, media_rrpp_abril_ctrl, media_rrpp_mayo_exp, media_rrpp_mayo_ctrl]\n",
        "# , media_rrpp_junio_exp, media_rrpp_junio_ctrl]\n",
        "\n",
        "\n",
        "# Crear el gráfico de barras\n",
        "plt.figure(figsize=(15, 5))\n",
        "bars = plt.bar(columnas_meses, medias_rrpp, color=['red', 'blue'])\n",
        "plt.xlabel('Mes - Grupo')\n",
        "plt.ylabel('Media producción por Tipo')\n",
        "plt.title('Media Producción RRPP Mensual (Experimental VS Control)')\n",
        "plt.legend([bars[0], bars[1]], ['Experimental', 'Control'])\n",
        "plt.show()"
      ],
      "metadata": {
        "id": "jZFU2txzLfCV"
      },
      "execution_count": null,
      "outputs": []
    },
    {
      "cell_type": "code",
      "source": [
        "# Preparar datos para el gráfico\n",
        "medias_aseg = [media_aseg_enero_exp, media_aseg_enero_ctrl, media_aseg_febrero_exp, media_aseg_febrero_ctrl, media_aseg_marzo_exp, media_aseg_marzo_ctrl, media_aseg_abril_exp, media_aseg_abril_ctrl, media_aseg_mayo_exp, media_aseg_mayo_ctrl]\n",
        "# , media_aseg_junio_exp, media_aseg_junio_ctrl]\n",
        "\n",
        "\n",
        "# Crear el gráfico de barras\n",
        "plt.figure(figsize=(15, 5))\n",
        "bars = plt.bar(columnas_meses, medias_aseg, color=['red', 'blue'])\n",
        "plt.xlabel('Mes - Grupo')\n",
        "plt.ylabel('Media producción por Tipo')\n",
        "plt.title('Media Producción Asegurados Mensual (Experimental VS Control)')\n",
        "plt.legend([bars[0], bars[1]], ['Experimental', 'Control'])\n",
        "plt.show()"
      ],
      "metadata": {
        "id": "hZtI5MicLz6H"
      },
      "execution_count": null,
      "outputs": []
    },
    {
      "cell_type": "markdown",
      "source": [
        "##RAPPEL TOAL MEDIO"
      ],
      "metadata": {
        "id": "zUqEdSglStUP"
      }
    },
    {
      "cell_type": "code",
      "source": [
        "media_rappel_total_enero_exp = enero_prod_esp_exp['RAPPEL_TOTAL'].sum()/enero_prod_esp_exp.shape[0]\n",
        "media_rappel_total_febrero_exp = febrero_prod_esp_exp['RAPPEL_TOTAL'].sum()/febrero_prod_esp_exp.shape[0]\n",
        "media_rappel_total_marzo_exp = marzo_prod_esp_exp['RAPPEL_TOTAL'].sum()/marzo_prod_esp_exp.shape[0]\n",
        "media_rappel_total_abril_exp = abril_prod_esp_exp['RAPPEL_TOTAL'].sum()/abril_prod_esp_exp.shape[0]\n",
        "media_rappel_total_mayo_exp = mayo_prod_esp_exp['RAPPEL_TOTAL'].sum()/mayo_prod_esp_exp.shape[0]\n",
        "# media_rappel_total_junio_exp = junio_prod_esp_exp['RAPPEL_TOTAL'].sum()/junio_prod_esp_exp.shape[0]\n",
        "\n",
        "media_rappel_total_enero_ctrl = enero_prod_esp_ctrl['RAPPEL_TOTAL'].sum()/enero_prod_esp_ctrl.shape[0]\n",
        "media_rappel_total_febrero_ctrl = febrero_prod_esp_ctrl['RAPPEL_TOTAL'].sum()/febrero_prod_esp_ctrl.shape[0]\n",
        "media_rappel_total_marzo_ctrl = marzo_prod_esp_ctrl['RAPPEL_TOTAL'].sum()/marzo_prod_esp_ctrl.shape[0]\n",
        "media_rappel_total_abril_ctrl = abril_prod_esp_ctrl['RAPPEL_TOTAL'].sum()/abril_prod_esp_ctrl.shape[0]\n",
        "media_rappel_total_mayo_ctrl = mayo_prod_esp_ctrl['RAPPEL_TOTAL'].sum()/mayo_prod_esp_ctrl.shape[0]\n",
        "# media_rappel_total_junio_ctrl = junio_prod_esp_ctrl['RAPPEL_TOTAL'].sum()/junio_prod_esp_ctrl.shape[0]"
      ],
      "metadata": {
        "id": "Fne6lJ3BSv8T"
      },
      "execution_count": null,
      "outputs": []
    },
    {
      "cell_type": "code",
      "source": [
        "# Preparar datos para el gráfico\n",
        "medias_rappel_total = [media_rappel_total_enero_exp, media_rappel_total_enero_ctrl, media_rappel_total_febrero_exp, media_rappel_total_febrero_ctrl, media_rappel_total_marzo_exp, media_rappel_total_marzo_ctrl, media_rappel_total_abril_exp, media_rappel_total_abril_ctrl, media_rappel_total_mayo_exp, media_rappel_total_mayo_ctrl]\n",
        "# , media_rappel_total_junio_exp, media_rappel_total_junio_ctrl]\n",
        "\n",
        "\n",
        "# Crear el gráfico de barras\n",
        "plt.figure(figsize=(15, 5))\n",
        "bars = plt.bar(columnas_meses, medias_rappel_total, color=['red', 'blue'])\n",
        "plt.xlabel('Mes - Grupo')\n",
        "plt.ylabel('Media Rappel Total')\n",
        "plt.title('Media Rappel Total Cobrado Mensual (Experimental VS Control)')\n",
        "plt.legend([bars[0], bars[1]], ['Experimental', 'Control'])\n",
        "plt.show()"
      ],
      "metadata": {
        "id": "H_pxD_oXTlys"
      },
      "execution_count": null,
      "outputs": []
    },
    {
      "cell_type": "markdown",
      "source": [
        "##RAPPEL COBRADO PORCENTUAL\n"
      ],
      "metadata": {
        "id": "z_1Gbyu9aZ-V"
      }
    },
    {
      "cell_type": "markdown",
      "source": [
        "####Grupo Experimental"
      ],
      "metadata": {
        "id": "mjXKnZL6alDW"
      }
    },
    {
      "cell_type": "code",
      "source": [
        "porcentaje_rappel_cobrado_enero_exp = (enero_prod_esp_exp['COBRA_RAPPEL'].sum()/enero_prod_esp_exp.shape[0])*100\n",
        "porcentaje_rappel_cobrado_febrero_exp = (febrero_prod_esp_exp['COBRA_RAPPEL'].sum()/febrero_prod_esp_exp.shape[0])*100\n",
        "porcentaje_rappel_cobrado_marzo_exp = (marzo_prod_esp_exp['COBRA_RAPPEL'].sum()/marzo_prod_esp_exp.shape[0])*100\n",
        "porcentaje_rappel_cobrado_abril_exp = (abril_prod_esp_exp['COBRA_RAPPEL'].sum()/abril_prod_esp_exp.shape[0])*100\n",
        "porcentaje_rappel_cobrado_mayo_exp = (mayo_prod_esp_exp['COBRA_RAPPEL'].sum()/mayo_prod_esp_exp.shape[0])*100\n",
        "# porcentaje_rappel_cobrado_junio_exp = (junio_prod_esp_exp['COBRA_RAPPEL'].sum()/junio_prod_esp_exp.shape[0])*100\n",
        "\n",
        "porcentaje_rappel_cobrado_enero_ctrl = (enero_prod_esp_ctrl['COBRA_RAPPEL'].sum()/enero_prod_esp_ctrl.shape[0])*100\n",
        "porcentaje_rappel_cobrado_febrero_ctrl = (febrero_prod_esp_ctrl['COBRA_RAPPEL'].sum()/febrero_prod_esp_ctrl.shape[0])*100\n",
        "porcentaje_rappel_cobrado_marzo_ctrl = (marzo_prod_esp_ctrl['COBRA_RAPPEL'].sum()/marzo_prod_esp_ctrl.shape[0])*100\n",
        "porcentaje_rappel_cobrado_abril_ctrl = (abril_prod_esp_ctrl['COBRA_RAPPEL'].sum()/abril_prod_esp_ctrl.shape[0])*100\n",
        "porcentaje_rappel_cobrado_mayo_ctrl = (mayo_prod_esp_ctrl['COBRA_RAPPEL'].sum()/mayo_prod_esp_ctrl.shape[0])*100\n",
        "# porcentaje_rappel_cobrado_junio_ctrl = (junio_prod_esp_ctrl['COBRA_RAPPEL'].sum()/junio_prod_esp_ctrl.shape[0])*100"
      ],
      "metadata": {
        "id": "AXWlVG8MUz4D"
      },
      "execution_count": null,
      "outputs": []
    },
    {
      "cell_type": "code",
      "source": [
        "# Preparar datos para el gráfico\n",
        "porcentaje_rappel_cobrado = [porcentaje_rappel_cobrado_enero_exp, porcentaje_rappel_cobrado_enero_ctrl, porcentaje_rappel_cobrado_febrero_exp, porcentaje_rappel_cobrado_febrero_ctrl, porcentaje_rappel_cobrado_marzo_exp, porcentaje_rappel_cobrado_marzo_ctrl, porcentaje_rappel_cobrado_abril_exp, porcentaje_rappel_cobrado_abril_ctrl, porcentaje_rappel_cobrado_mayo_exp, porcentaje_rappel_cobrado_mayo_ctrl]\n",
        "# , porcentaje_rappel_cobrado_junio_exp, porcentaje_rappel_cobrado_junio_ctrl]\n",
        "\n",
        "\n",
        "# Crear el gráfico de barras\n",
        "plt.figure(figsize=(15, 5))\n",
        "bars = plt.bar(columnas_meses, porcentaje_rappel_cobrado, color=['red', 'blue'])\n",
        "plt.xlabel('Mes - Grupo')\n",
        "plt.ylabel('Porcentaje Agentes Cobrando Rappel')\n",
        "plt.title('Porcentaje Agentes Cobrando Rappel por Mes (Experimental VS Control)')\n",
        "plt.legend([bars[0], bars[1]], ['Experimental', 'Control'])\n",
        "plt.show()"
      ],
      "metadata": {
        "id": "MMegeDxDbRU9"
      },
      "execution_count": null,
      "outputs": []
    },
    {
      "cell_type": "markdown",
      "source": [
        "####Solo agentes estándar para el XXL"
      ],
      "metadata": {
        "id": "j3eUqOnon1PH"
      }
    },
    {
      "cell_type": "code",
      "source": [
        "enero_prod_esp_exp_est = enero_prod_esp_exp[enero_prod_esp_exp[\"TIPOLOGIA\"].str.contains(\"ESTANDAR\")]\n",
        "febrero_prod_esp_exp_est = febrero_prod_esp_exp[febrero_prod_esp_exp[\"TIPOLOGIA\"].str.contains(\"ESTANDAR\")]\n",
        "marzo_prod_esp_exp_est = marzo_prod_esp_exp[marzo_prod_esp_exp[\"TIPOLOGIA\"].str.contains(\"ESTANDAR\")]\n",
        "abril_prod_esp_exp_est = abril_prod_esp_exp[abril_prod_esp_exp[\"TIPOLOGIA\"].str.contains(\"ESTANDAR\")]\n",
        "mayo_prod_esp_exp_est = mayo_prod_esp_exp[mayo_prod_esp_exp[\"TIPOLOGIA\"].str.contains(\"ESTANDAR\")]\n",
        "# junio_prod_esp_exp_est = junio_prod_esp_exp[junio_prod_esp_exp[\"TIPOLOGIA\"].str.contains(\"ESTANDAR\")]\n",
        "\n",
        "enero_prod_esp_ctrl_est = enero_prod_esp_ctrl[enero_prod_esp_ctrl[\"TIPOLOGIA\"].str.contains(\"ESTANDAR\")]\n",
        "febrero_prod_esp_ctrl_est = febrero_prod_esp_ctrl[febrero_prod_esp_ctrl[\"TIPOLOGIA\"].str.contains(\"ESTANDAR\")]\n",
        "marzo_prod_esp_ctrl_est = marzo_prod_esp_ctrl[marzo_prod_esp_ctrl[\"TIPOLOGIA\"].str.contains(\"ESTANDAR\")]\n",
        "abril_prod_esp_ctrl_est = abril_prod_esp_ctrl[abril_prod_esp_ctrl[\"TIPOLOGIA\"].str.contains(\"ESTANDAR\")]\n",
        "mayo_prod_esp_ctrl_est = mayo_prod_esp_ctrl[mayo_prod_esp_ctrl[\"TIPOLOGIA\"].str.contains(\"ESTANDAR\")]\n",
        "# junio_prod_esp_ctrl_est = junio_prod_esp_ctrl[junio_prod_esp_ctrl[\"TIPOLOGIA\"].str.contains(\"ESTANDAR\")]"
      ],
      "metadata": {
        "id": "TEEiwGeqn0l_"
      },
      "execution_count": null,
      "outputs": []
    },
    {
      "cell_type": "code",
      "source": [
        "porcentaje_rappelxxl_cobrado_enero_exp = (enero_prod_esp_exp_est['COBRA_RAPPELXXL'].sum()/enero_prod_esp_exp_est.shape[0])*100\n",
        "porcentaje_rappelxxl_cobrado_febrero_exp = (febrero_prod_esp_exp_est['COBRA_RAPPELXXL'].sum()/febrero_prod_esp_exp_est.shape[0])*100\n",
        "porcentaje_rappelxxl_cobrado_marzo_exp = (marzo_prod_esp_exp_est['COBRA_RAPPELXXL'].sum()/marzo_prod_esp_exp_est.shape[0])*100\n",
        "porcentaje_rappelxxl_cobrado_abril_exp = (abril_prod_esp_exp_est['COBRA_RAPPELXXL'].sum()/abril_prod_esp_exp_est.shape[0])*100\n",
        "porcentaje_rappelxxl_cobrado_mayo_exp = (mayo_prod_esp_exp_est['COBRA_RAPPELXXL'].sum()/mayo_prod_esp_exp_est.shape[0])*100\n",
        "# porcentaje_rappelxxl_cobrado_junio_exp = (junio_prod_esp_exp_est['COBRA_RAPPELXXL'].sum()/junio_prod_esp_exp_est.shape[0])*100\n",
        "\n",
        "porcentaje_rappelxxl_cobrado_enero_ctrl = (enero_prod_esp_ctrl_est['COBRA_RAPPELXXL'].sum()/enero_prod_esp_ctrl.shape[0])*100\n",
        "porcentaje_rappelxxl_cobrado_febrero_ctrl = (febrero_prod_esp_ctrl_est['COBRA_RAPPELXXL'].sum()/febrero_prod_esp_ctrl.shape[0])*100\n",
        "porcentaje_rappelxxl_cobrado_marzo_ctrl = (marzo_prod_esp_ctrl_est['COBRA_RAPPELXXL'].sum()/marzo_prod_esp_ctrl.shape[0])*100\n",
        "porcentaje_rappelxxl_cobrado_abril_ctrl = (abril_prod_esp_ctrl_est['COBRA_RAPPELXXL'].sum()/abril_prod_esp_ctrl.shape[0])*100\n",
        "porcentaje_rappelxxl_cobrado_mayo_ctrl = (mayo_prod_esp_ctrl_est['COBRA_RAPPELXXL'].sum()/mayo_prod_esp_ctrl.shape[0])*100\n",
        "# porcentaje_rappelxxl_cobrado_junio_ctrl = (junio_prod_esp_ctrl_est['COBRA_RAPPELXXL'].sum()/junio_prod_esp_ctrl.shape[0])*100"
      ],
      "metadata": {
        "id": "gs3E31IcnZno"
      },
      "execution_count": null,
      "outputs": []
    },
    {
      "cell_type": "code",
      "source": [
        "# Preparar datos para el gráfico\n",
        "porcentaje_rappelxxl_cobrado = [porcentaje_rappelxxl_cobrado_enero_exp, porcentaje_rappelxxl_cobrado_enero_ctrl, porcentaje_rappelxxl_cobrado_febrero_exp, porcentaje_rappelxxl_cobrado_febrero_ctrl, porcentaje_rappelxxl_cobrado_marzo_exp, porcentaje_rappelxxl_cobrado_marzo_ctrl, porcentaje_rappelxxl_cobrado_abril_exp, porcentaje_rappelxxl_cobrado_abril_ctrl, porcentaje_rappelxxl_cobrado_mayo_exp, porcentaje_rappelxxl_cobrado_mayo_ctrl]\n",
        "# , porcentaje_rappelxxl_cobrado_junio_exp, porcentaje_rappelxxl_cobrado_junio_ctrl]\n",
        "\n",
        "\n",
        "# Crear el gráfico de barras\n",
        "plt.figure(figsize=(15, 5))\n",
        "bars = plt.bar(columnas_meses, porcentaje_rappelxxl_cobrado, color=['red', 'blue'])\n",
        "plt.xlabel('Mes - Grupo')\n",
        "plt.ylabel('Porcentaje Agentes Cobrando Rappel XXL')\n",
        "plt.title('Porcentaje Agentes Cobrando Rappel XXL por Mes (Experimental VS Control)')\n",
        "plt.legend([bars[0], bars[1]], ['Experimental', 'Control'])\n",
        "plt.show()"
      ],
      "metadata": {
        "id": "BCR62NgTpp2L"
      },
      "execution_count": null,
      "outputs": []
    },
    {
      "cell_type": "markdown",
      "source": [
        "**OTROS ESTUDIOS QUE SE PUEDEN HACER:**\n",
        "\n",
        "\n",
        "\n",
        "*   Filtrar solo por tipo de evento READ para ver en una gráfica el impacto por sucursales (u oficinas o puntos de venta).\n",
        "*   Usar como grupo de control_2 el grupo experimental en los 3 meses anteriores para ver cómo varía."
      ],
      "metadata": {
        "id": "tl6GaJkiiz5B"
      }
    }
  ],
  "metadata": {
    "colab": {
      "name": "Welcome To Colaboratory",
      "provenance": []
    },
    "kernelspec": {
      "display_name": "Python 3",
      "name": "python3"
    }
  },
  "nbformat": 4,
  "nbformat_minor": 0
}