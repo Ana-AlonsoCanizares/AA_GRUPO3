{
  "nbformat": 4,
  "nbformat_minor": 0,
  "metadata": {
    "colab": {
      "provenance": [],
      "include_colab_link": true
    },
    "kernelspec": {
      "name": "python3",
      "display_name": "Python 3"
    },
    "language_info": {
      "name": "python"
    }
  },
  "cells": [
    {
      "cell_type": "markdown",
      "metadata": {
        "id": "view-in-github",
        "colab_type": "text"
      },
      "source": [
        "<a href=\"https://colab.research.google.com/github/Ana-AlonsoCanizares/AA_GRUPO3/blob/main/INFORME_CU.ipynb\" target=\"_parent\"><img src=\"https://colab.research.google.com/assets/colab-badge.svg\" alt=\"Open In Colab\"/></a>"
      ]
    },
    {
      "cell_type": "markdown",
      "source": [
        "#Informe Provincial Cuenca\n",
        "##Descarga y limpeza de datos"
      ],
      "metadata": {
        "id": "cncOKnCG9KT2"
      }
    },
    {
      "cell_type": "markdown",
      "source": [
        "Comenzamos cargando los datos de la carpeta de Google Drive en la que estén guardados (será necesario cambiar esta ruta en función de la ruta del ordenador).\n",
        "\n",
        "Es necesario aceptar la conexión con la cuenta de Google Drive.\n",
        "\n",
        "Importante y esencial, antes de tirar el código es necesario que la carpeta de Drive a la que se va a llamar tenga los archivos en formato xlsx así nombrados: 'CU_SAAF.xlsx', 'CU_AT.xlsx', 'CU_EMPLEO.xlsx', 'CU_LOG.xlsx' para que no haya errores a la hora de ejecutar este código.\n",
        "\n",
        "**¡OJO! Primeros archivo con extensión xlsx y los de las zonas a clasificar, con extensión csv, en teoría, los csv no deberían modificarse (a menos que las normativas cambien y con ello las zonas de impacto se modifiquen).**\n",
        "\n",
        "**Y todos las columnas deben tener los nombres definidos en el documento \"Resumen de datos por servicio FASPAS\" y en mayúsculas antes de ser subidos al programa.**"
      ],
      "metadata": {
        "id": "SHATfRyI9VF6"
      }
    },
    {
      "cell_type": "code",
      "execution_count": 1,
      "metadata": {
        "colab": {
          "base_uri": "https://localhost:8080/"
        },
        "id": "mhwbvGlQ9JVW",
        "outputId": "3ef49971-4344-485e-cc28-550769efb8f7"
      },
      "outputs": [
        {
          "output_type": "stream",
          "name": "stdout",
          "text": [
            "Mounted at /content/drive\n"
          ]
        }
      ],
      "source": [
        "from google.colab import drive\n",
        "drive.mount('/content/drive')"
      ]
    },
    {
      "cell_type": "markdown",
      "source": [
        "Se importan las librerías necesarias para la parte de carga de datos y su limpieza."
      ],
      "metadata": {
        "id": "T6gtnbKM-e5p"
      }
    },
    {
      "cell_type": "code",
      "source": [
        "pip install unidecode"
      ],
      "metadata": {
        "colab": {
          "base_uri": "https://localhost:8080/"
        },
        "id": "4Cdv4QrHLrle",
        "outputId": "63882360-760b-4893-f7ea-77ca905d19da"
      },
      "execution_count": 2,
      "outputs": [
        {
          "output_type": "stream",
          "name": "stdout",
          "text": [
            "Collecting unidecode\n",
            "  Downloading Unidecode-1.3.8-py3-none-any.whl (235 kB)\n",
            "\u001b[?25l     \u001b[90m━━━━━━━━━━━━━━━━━━━━━━━━━━━━━━━━━━━━━━━━\u001b[0m \u001b[32m0.0/235.5 kB\u001b[0m \u001b[31m?\u001b[0m eta \u001b[36m-:--:--\u001b[0m\r\u001b[2K     \u001b[91m━━━━━━━━━━━━━━━━━━━━━━━━━━━━━━━━━━━━━━\u001b[0m\u001b[90m╺\u001b[0m\u001b[90m━\u001b[0m \u001b[32m225.3/235.5 kB\u001b[0m \u001b[31m7.9 MB/s\u001b[0m eta \u001b[36m0:00:01\u001b[0m\r\u001b[2K     \u001b[90m━━━━━━━━━━━━━━━━━━━━━━━━━━━━━━━━━━━━━━━━\u001b[0m \u001b[32m235.5/235.5 kB\u001b[0m \u001b[31m6.3 MB/s\u001b[0m eta \u001b[36m0:00:00\u001b[0m\n",
            "\u001b[?25hInstalling collected packages: unidecode\n",
            "Successfully installed unidecode-1.3.8\n"
          ]
        }
      ]
    },
    {
      "cell_type": "code",
      "source": [
        "import os\n",
        "import pandas as pd\n",
        "import numpy as np\n",
        "from unidecode import unidecode\n",
        "import matplotlib.pyplot as plt"
      ],
      "metadata": {
        "id": "e4n3PNFZ-oIq"
      },
      "execution_count": 3,
      "outputs": []
    },
    {
      "cell_type": "code",
      "source": [
        "# Asegúrarse de cambiar la ruta por el nombre real de la carpeta en Google Drive\n",
        "folder_path = '/content/drive/My Drive/PFG_FASPAS/CU'\n",
        "docs_xlsx = [f for f in os.listdir(folder_path) if f.endswith('.xlsx')]\n",
        "print(docs_xlsx)\n",
        "\n",
        "# Asegúrarse de cambiar la ruta por el nombre real de la carpeta en Google Drive\n",
        "folder_path_csv = '/content/drive/My Drive/PFG_FASPAS/Zonas_Prioritarias'\n",
        "doc_zonas = [f for f in os.listdir(folder_path_csv) if f.endswith('.xlsx')]\n",
        "print(doc_zonas)\n",
        "\n",
        "# Asegúrarse de cambiar la ruta por el nombre real de la carpeta en Google Drive\n",
        "folder_path_mun = '/content/drive/My Drive/PFG_FASPAS/Municipios_Despoblacion'\n",
        "doc_mun = [f for f in os.listdir(folder_path_mun) if f.endswith('.xlsx')]\n",
        "print(doc_mun)"
      ],
      "metadata": {
        "colab": {
          "base_uri": "https://localhost:8080/"
        },
        "id": "yMug4vBB9ozZ",
        "outputId": "2895231e-0db3-4de0-a663-0885027e4624"
      },
      "execution_count": 8,
      "outputs": [
        {
          "output_type": "stream",
          "name": "stdout",
          "text": [
            "['CU_SOCIOS.xlsx', 'CU_SAAF_limpio.xlsx', 'CU_AT_limpio.xlsx', 'CU_LOG_limpio.xlsx', 'CU_EM_limpio.xlsx']\n",
            "['mun_pri_clm_limpio.xlsx']\n",
            "['Municipios_Despoblacion_CLM.xlsx']\n"
          ]
        }
      ]
    },
    {
      "cell_type": "markdown",
      "source": [
        "Creación de un diccionario que almacene los dataframes (.xlsx) contenidos en la carpeta de Cuenca.\n",
        "\n",
        "Se irán cargando todos los archivos en un dataframe que se añade al diccionario con el nombre de dicho archivo como clave."
      ],
      "metadata": {
        "id": "hxl_Z9P1-wXB"
      }
    },
    {
      "cell_type": "code",
      "source": [
        "dic_dataframes = {}\n",
        "dic_zonas = {}\n",
        "dic_mun = {}\n",
        "\n",
        "for doc in docs_xlsx:\n",
        "    entire_path = os.path.join(folder_path, doc)\n",
        "    df = pd.read_excel(entire_path)\n",
        "    # Uso el nombre del archivo como clave\n",
        "    dic_dataframes[doc] = df\n",
        "\n",
        "for doc in doc_zonas:\n",
        "  entire_path = os.path.join(folder_path_csv, doc)\n",
        "  df = pd.read_excel(entire_path)\n",
        "  # Uso el nombre del archivo como clave\n",
        "  dic_zonas[doc] = df\n",
        "\n",
        "for doc in doc_mun:\n",
        "  entire_path = os.path.join(folder_path_mun, doc)\n",
        "  df = pd.read_excel(entire_path)\n",
        "  # Uso el nombre del archivo como clave\n",
        "  dic_mun[doc] = df"
      ],
      "metadata": {
        "id": "wpsYAD2X-c4D"
      },
      "execution_count": 9,
      "outputs": []
    },
    {
      "cell_type": "markdown",
      "source": [
        "A continuación se debe observar que el dataframe cuente con al menos las columnas: 'AÑOS ATENCIÓN', 'FECHA NACIMIENTO' **en formato fecha**, 'LOCALIDAD', 'GÉNERO' y 'CP'"
      ],
      "metadata": {
        "id": "swAIR8SeSRpf"
      }
    },
    {
      "cell_type": "markdown",
      "source": [
        "Ahora que sabemos cuáles son las claves, guardamos cada dataframe por separado para trabajar con todos ellos de manera individual, por el momento."
      ],
      "metadata": {
        "id": "j7NG1ZuiB2pr"
      }
    },
    {
      "cell_type": "code",
      "source": [
        "# Imprimir todas las claves\n",
        "for clave in dic_dataframes.keys():\n",
        "    print(clave)\n",
        "for clave in dic_zonas.keys():\n",
        "  print(clave)\n",
        "for clave in dic_mun.keys():\n",
        "  print(clave)"
      ],
      "metadata": {
        "colab": {
          "base_uri": "https://localhost:8080/"
        },
        "id": "-bSrp6NdAwQZ",
        "outputId": "c28a16d2-da8a-424e-c0c4-a4eb5f5f3144"
      },
      "execution_count": 10,
      "outputs": [
        {
          "output_type": "stream",
          "name": "stdout",
          "text": [
            "CU_SOCIOS.xlsx\n",
            "CU_SAAF_limpio.xlsx\n",
            "CU_AT_limpio.xlsx\n",
            "CU_LOG_limpio.xlsx\n",
            "CU_EM_limpio.xlsx\n",
            "mun_pri_clm_limpio.xlsx\n",
            "Municipios_Despoblacion_CLM.xlsx\n"
          ]
        }
      ]
    },
    {
      "cell_type": "code",
      "source": [
        "CU_SAAF = dic_dataframes.get(\"CU_SAAF_limpio.xlsx\")\n",
        "CU_AT = dic_dataframes.get(\"CU_AT_limpio.xlsx\")\n",
        "CU_EM = dic_dataframes.get(\"CU_EM_limpio.xlsx\")\n",
        "CU_LOG = dic_dataframes.get(\"CU_LOG_limpio.xlsx\")\n",
        "mun_pri_clm = dic_zonas.get(\"mun_pri_clm_limpio.xlsx\")\n",
        "mun_desp_clm = dic_zonas.get(\"Municipios_Despoblacion_CLM.xlsx\")\n",
        "# CU_SO = dic_dataframes.get(\"CU_SO_limpio.xlsx\")"
      ],
      "metadata": {
        "id": "tgagsBVtCDkc"
      },
      "execution_count": 11,
      "outputs": []
    },
    {
      "cell_type": "code",
      "source": [
        "# # CÓDIGO SOLO PARA EL CURRO (PQ NO PUEDO ACCEDER AL DRIVE)\n",
        "# CU_SAAF = pd.read_excel('/content/CU_SAAF.xlsx')\n",
        "# CU_AT = pd.read_excel('/content/CU_AT.xlsx')\n",
        "# CU_EMPLEO = pd.read_excel('/content/CU_EMPLEO.xlsx')\n",
        "# CU_LOG = pd.read_excel('/content/CU_LOG.xlsx')\n",
        "# # CU_SOCIOS = pd.read_excel('/content/CU_SOCIOS.xlsx')\n",
        "# mun_pri_clm = pd.read_csv('/content/municipios_prioritarios_clm.csv')"
      ],
      "metadata": {
        "id": "FzS8Balj4ozG"
      },
      "execution_count": null,
      "outputs": []
    },
    {
      "cell_type": "code",
      "source": [
        "def impact_analysis_per_service(df, key):\n",
        "    # Calcular el conteo de registros para cada categoría\n",
        "    cat_count = df['LOCALIDAD'].value_counts()\n",
        "    # Imprimir los resultados\n",
        "    print(f\"\\n\\nEn el caso del servicio de {key}, las localidades con impacto dentro de las que se incluyen en las zonas prioritarias son:\\n\")\n",
        "\n",
        "    # Iterar sobre la serie y mostrar el impacto\n",
        "    for localidad, valor in cat_count.items():\n",
        "        if valor > 10:\n",
        "            print(f\"La localidad de {localidad} que tiene un impacto fuerte, ya que cuenta con {valor} registros.\\n\")\n",
        "        elif valor > 5:\n",
        "            print(f\"La localidad de {localidad} que tiene un impacto medio, ya que cuenta con {valor} registros.\\n\")\n",
        "        else:\n",
        "            if valor > 1:\n",
        "                print(f\"La localidad de {localidad} que tiene un impacto leve, ya que cuenta con {valor} registros.\\n\")\n",
        "            else:\n",
        "                print(f\"La localidad de {localidad} que tiene un impacto leve, ya que cuenta con {valor} registro.\\n\")\n",
        "\n",
        "def impact_analysis(df):\n",
        "    # Calcular el conteo de registros para cada categoría\n",
        "    cat_count = df['LOCALIDAD'].value_counts()\n",
        "    # Imprimir los resultados\n",
        "    print(f\"\\nPara todos los servicios de la provincia de Cuenca, las localidades con impacto dentro de las que se incluyen en las zonas prioritarias son:\\n\")\n",
        "\n",
        "    # Iterar sobre la serie y mostrar el impacto\n",
        "    for localidad, valor in cat_count.items():\n",
        "        if valor > 10:\n",
        "            print(f\"La localidad de {localidad} que tiene un impacto fuerte, ya que cuenta con {valor} registros.\\n\")\n",
        "        elif valor > 5:\n",
        "            print(f\"La localidad de {localidad} que tiene un impacto medio, ya que cuenta con {valor} registros.\\n\")\n",
        "        else:\n",
        "            if valor > 1:\n",
        "                print(f\"La localidad de {localidad} que tiene un impacto leve, ya que cuenta con {valor} registros.\\n\")\n",
        "            else:\n",
        "                print(f\"La localidad de {localidad} que tiene un impacto leve, ya que cuenta con {valor} registro.\\n\")\n",
        "\n",
        "def combine_and_filter_common_columns(df_dict, common_columns):\n",
        "    \"\"\"\n",
        "    Combina los DataFrames en el diccionario según las columnas comunes y elimina las filas\n",
        "    donde los valores de las columnas comunes sean iguales.\n",
        "\n",
        "    :param df_dict: Diccionario de DataFrames\n",
        "    :param common_columns: Lista de columnas comunes a considerar\n",
        "    :return: DataFrame combinado y filtrado\n",
        "    \"\"\"\n",
        "    # Crear una lista para almacenar los DataFrames con las tres columnas comunes\n",
        "    df_list = []\n",
        "\n",
        "    # Extraer las columnas comunes de cada DataFrame y añadirlas a la lista\n",
        "    for key, df in df_dict.items():\n",
        "        df_common = df[common_columns]\n",
        "        df_list.append(df_common)\n",
        "\n",
        "    # Concatenar todos los DataFrames de la lista en uno solo\n",
        "    combined_df = pd.concat(df_list)\n",
        "\n",
        "    # Eliminar las filas donde los valores de las tres columnas sean iguales\n",
        "    combined_df = combined_df.drop_duplicates(subset=common_columns, keep=False)\n",
        "\n",
        "    return combined_df"
      ],
      "metadata": {
        "id": "Ytfhidh0bzXC"
      },
      "execution_count": 12,
      "outputs": []
    },
    {
      "cell_type": "markdown",
      "source": [
        "#Número total de usuarios y socios\n",
        "Vamos a sacar el número total de usuarios y socios por servicio y cuáles son únicos, independientemente del servicio al que pertenezcan."
      ],
      "metadata": {
        "id": "UQon77Gkix7V"
      }
    },
    {
      "cell_type": "code",
      "source": [
        "df_dict = {\n",
        "    'zp_SAAF': CU_SAAF,\n",
        "    'zp_AT': CU_AT,\n",
        "    'zp_EM':CU_EM,\n",
        "    'zp_LOG':CU_LOG\n",
        "    # 'zp_SO': CU_SO\n",
        "}"
      ],
      "metadata": {
        "id": "OANPBSJcixcy"
      },
      "execution_count": 13,
      "outputs": []
    },
    {
      "cell_type": "code",
      "source": [
        "# Iterando sobre el diccionario para crear gráficos y analizar impacto\n",
        "for key, df in df_dict.items():\n",
        "  valor = len(df)\n",
        "  print(f'Para el servicio de {key} hay un total de {valor} usuarios.\\n')\n",
        "\n",
        "# Definir las columnas comunes\n",
        "common_columns = ['GENERO','LOCALIDAD', 'FECHA NACIMIENTO', 'CP']\n",
        "\n",
        "# Llamar a la función\n",
        "result_df = combine_and_filter_common_columns(df_dict, common_columns)\n",
        "\n",
        "total = len(result_df)\n",
        "print(f'\\nLa provincia de Cuenca cuenta con un total de {total} usuarios y socios distintos.')"
      ],
      "metadata": {
        "id": "QZ3Wct82jUDr",
        "outputId": "a41fa098-5b55-4a56-a2f1-0693bd8355e9",
        "colab": {
          "base_uri": "https://localhost:8080/"
        }
      },
      "execution_count": 14,
      "outputs": [
        {
          "output_type": "stream",
          "name": "stdout",
          "text": [
            "Para el servicio de zp_SAAF hay un total de 77 usuarios.\n",
            "\n",
            "Para el servicio de zp_AT hay un total de 9 usuarios.\n",
            "\n",
            "Para el servicio de zp_EM hay un total de 15 usuarios.\n",
            "\n",
            "Para el servicio de zp_LOG hay un total de 51 usuarios.\n",
            "\n",
            "\n",
            "La provincia de Cuenca cuenta con un total de 135 usuarios y socios distintos.\n"
          ]
        }
      ]
    },
    {
      "cell_type": "markdown",
      "source": [
        "# Dataframes cruzados con zonas prioritarias\n",
        "\n",
        "Cruzamos todos los dfs con el df de municipios prioritarios para sacar el impacto de cada servicio en estas zonas."
      ],
      "metadata": {
        "id": "iCE0swqIWWZw"
      }
    },
    {
      "cell_type": "code",
      "source": [
        "dict_prio = {\n",
        "    'zp_SAAF': pd.merge(CU_SAAF, mun_pri_clm, left_on='LOCALIDAD', right_on='ZONA PRIORITARIA'),\n",
        "    'zp_AT': pd.merge(CU_AT, mun_pri_clm, left_on='LOCALIDAD', right_on='ZONA PRIORITARIA'),\n",
        "    'zp_EM': pd.merge(CU_EM, mun_pri_clm, left_on='LOCALIDAD', right_on='ZONA PRIORITARIA'),\n",
        "    'zp_LOG': pd.merge(CU_LOG, mun_pri_clm, left_on='LOCALIDAD', right_on='ZONA PRIORITARIA')\n",
        "    # 'zp_SO': pd.merge(CU_SO, mun_pri_clm, left_on='LOCALIDAD', right_on='ZONA PRIORITARIA')\n",
        "}"
      ],
      "metadata": {
        "id": "i4n9cHTXcCqI"
      },
      "execution_count": 15,
      "outputs": []
    },
    {
      "cell_type": "code",
      "source": [
        "dict_mun_desp = {\n",
        "    'zp_SAAF': pd.merge(CU_SAAF, mun_desp_clm, left_on='LOCALIDAD', right_on='MUNICIPIO'),\n",
        "    'zp_AT': pd.merge(CU_AT, mun_desp_clm, left_on='LOCALIDAD', right_on='MUNICIPIO'),\n",
        "    'zp_EM': pd.merge(CU_EM, mun_desp_clm, left_on='LOCALIDAD', right_on='MUNICIPIO'),\n",
        "    'zp_LOG': pd.merge(CU_LOG, mun_desp_clm, left_on='LOCALIDAD', right_on='MUNICIPIO')\n",
        "    # 'zp_SO': pd.merge(CU_SO, mun_desp_clm, left_on='LOCALIDAD', right_on='MUNICIPIO')\n",
        "}"
      ],
      "metadata": {
        "id": "jT8ioqM3_tmj"
      },
      "execution_count": null,
      "outputs": []
    },
    {
      "cell_type": "markdown",
      "source": [
        "Vemos el impacto que tiene en las zonas prioritarias."
      ],
      "metadata": {
        "id": "41R1ETSNgyxX"
      }
    },
    {
      "cell_type": "code",
      "source": [
        "# Iterando sobre el diccionario para crear gráficos\n",
        "for key, df in dict_prio.items():\n",
        "    # Calcular el conteo de registros para cada categoría\n",
        "    cat_count = df['LOCALIDAD'].value_counts()\n",
        "\n",
        "    # Crear un gráfico de barras\n",
        "    ax = cat_count.sort_index().plot(kind='bar')\n",
        "\n",
        "    # Personalización adicional\n",
        "    plt.title(f'{key}: Impacto en Zonas por Zonas Prioritarias')\n",
        "    plt.xlabel('ZONA PRIORITARIA')\n",
        "    plt.ylabel('Número de Registros')\n",
        "    plt.xticks(rotation=45)  # Rota las etiquetas del eje X para mejor lectura\n",
        "\n",
        "    # Añadir el número de conteos en la parte superior de cada barra\n",
        "    for i in ax.containers:\n",
        "        ax.bar_label(i, label_type='edge')\n",
        "\n",
        "    # Mostrar el gráfico\n",
        "    plt.show()"
      ],
      "metadata": {
        "id": "yA6sWBBaeR-c",
        "outputId": "62e6082f-fe42-485d-a2bb-c3fe79694af4",
        "colab": {
          "base_uri": "https://localhost:8080/",
          "height": 1000
        }
      },
      "execution_count": null,
      "outputs": [
        {
          "output_type": "display_data",
          "data": {
            "text/plain": [
              "<Figure size 640x480 with 1 Axes>"
            ],
            "image/png": "[encoded data removed]"
          },
          "metadata": {}
        },
        {
          "output_type": "display_data",
          "data": {
            "text/plain": [
              "<Figure size 640x480 with 1 Axes>"
            ],
            "image/png": "[encoded data removed]"
          },
          "metadata": {}
        },
        {
          "output_type": "display_data",
          "data": {
            "text/plain": [
              "<Figure size 640x480 with 1 Axes>"
            ],
            "image/png": "[encoded data removed]"
          },
          "metadata": {}
        },
        {
          "output_type": "display_data",
          "data": {
            "text/plain": [
              "<Figure size 640x480 with 1 Axes>"
            ],
            "image/png": "[encoded data removed]"
          },
          "metadata": {}
        }
      ]
    },
    {
      "cell_type": "code",
      "source": [
        "# Iterando sobre el diccionario para crear gráficos y analizar impacto\n",
        "for key, df in dict_prio.items():\n",
        "    impact_analysis_per_service(df, key)"
      ],
      "metadata": {
        "id": "_jZTIFrahZzL",
        "outputId": "b38da6e7-5d3f-4373-b4f9-0601a449ca33",
        "colab": {
          "base_uri": "https://localhost:8080/"
        }
      },
      "execution_count": null,
      "outputs": [
        {
          "output_type": "stream",
          "name": "stdout",
          "text": [
            "\n",
            "\n",
            "En el caso del servicio de zp_SAAF, las localidades con impacto dentro de las que se incluyen en las zonas prioritarias son:\n",
            "\n",
            "La localidad de CUENCA que tiene un impacto fuerte, ya que cuenta con 45 registros.\n",
            "\n",
            "La localidad de HUETE que tiene un impacto leve, ya que cuenta con 1 registro.\n",
            "\n",
            "La localidad de LEDANA que tiene un impacto leve, ya que cuenta con 1 registro.\n",
            "\n",
            "\n",
            "\n",
            "En el caso del servicio de zp_AT, las localidades con impacto dentro de las que se incluyen en las zonas prioritarias son:\n",
            "\n",
            "La localidad de CUENCA que tiene un impacto medio, ya que cuenta con 6 registros.\n",
            "\n",
            "\n",
            "\n",
            "En el caso del servicio de zp_EM, las localidades con impacto dentro de las que se incluyen en las zonas prioritarias son:\n",
            "\n",
            "La localidad de CUENCA que tiene un impacto medio, ya que cuenta con 8 registros.\n",
            "\n",
            "\n",
            "\n",
            "En el caso del servicio de zp_LOG, las localidades con impacto dentro de las que se incluyen en las zonas prioritarias son:\n",
            "\n",
            "La localidad de CUENCA que tiene un impacto fuerte, ya que cuenta con 27 registros.\n",
            "\n",
            "La localidad de HUETE que tiene un impacto leve, ya que cuenta con 1 registro.\n",
            "\n"
          ]
        }
      ]
    },
    {
      "cell_type": "code",
      "source": [
        "# Iterando sobre el diccionario para crear gráficos y analizar impacto\n",
        "for key, df in dict_prio.items():\n",
        "  valor = len(df)\n",
        "  print(f'Para el servicio de {key} hay un total de {valor} usuarios en zonas prioritarias.\\n')"
      ],
      "metadata": {
        "id": "7H-Nh6GeljPg",
        "outputId": "a39b5b96-7bdf-4207-d771-e3f2e995ec1a",
        "colab": {
          "base_uri": "https://localhost:8080/"
        }
      },
      "execution_count": null,
      "outputs": [
        {
          "output_type": "stream",
          "name": "stdout",
          "text": [
            "Para el servicio de zp_SAAF hay un total de 47 usuarios en zonas prioritarias.\n",
            "\n",
            "Para el servicio de zp_AT hay un total de 6 usuarios en zonas prioritarias.\n",
            "\n",
            "Para el servicio de zp_EM hay un total de 8 usuarios en zonas prioritarias.\n",
            "\n",
            "Para el servicio de zp_LOG hay un total de 28 usuarios en zonas prioritarias.\n",
            "\n"
          ]
        }
      ]
    },
    {
      "cell_type": "markdown",
      "source": [
        "Para el informe de impacto real de la provincia de Cuenca, tendremos en cuenta la localidad, la fecha de nacimiento y el género de los registros para no duplicar usuarios."
      ],
      "metadata": {
        "id": "FccobOQhdtwh"
      }
    },
    {
      "cell_type": "code",
      "source": [
        "# Definir las columnas comunes\n",
        "common_columns = ['GENERO','LOCALIDAD', 'FECHA NACIMIENTO', 'CP']\n",
        "\n",
        "# Llamar a la función\n",
        "result_df = combine_and_filter_common_columns(dict_prio, common_columns)\n",
        "\n",
        "impact_analysis(result_df)"
      ],
      "metadata": {
        "id": "3FAElvWcdtQg",
        "outputId": "4f0470a5-8194-48d1-da96-9d1fe2e7f624",
        "colab": {
          "base_uri": "https://localhost:8080/"
        }
      },
      "execution_count": null,
      "outputs": [
        {
          "output_type": "stream",
          "name": "stdout",
          "text": [
            "\n",
            "Para todos los servicios de la provincia de Cuenca, las localidades con impacto dentro de las que se incluyen en las zonas prioritarias son:\n",
            "\n",
            "La localidad de CUENCA que tiene un impacto fuerte, ya que cuenta con 79 registros.\n",
            "\n",
            "La localidad de HUETE que tiene un impacto leve, ya que cuenta con 2 registros.\n",
            "\n",
            "La localidad de LEDANA que tiene un impacto leve, ya que cuenta con 1 registro.\n",
            "\n"
          ]
        }
      ]
    }
  ]
}