{
  "nbformat": 4,
  "nbformat_minor": 0,
  "metadata": {
    "colab": {
      "provenance": [],
      "include_colab_link": true
    },
    "kernelspec": {
      "name": "python3",
      "display_name": "Python 3"
    },
    "language_info": {
      "name": "python"
    }
  },
  "cells": [
    {
      "cell_type": "markdown",
      "metadata": {
        "id": "view-in-github",
        "colab_type": "text"
      },
      "source": [
        "<a href=\"https://colab.research.google.com/github/Ana-AlonsoCanizares/AA_GRUPO3/blob/main/INFORME_CU.ipynb\" target=\"_parent\"><img src=\"https://colab.research.google.com/assets/colab-badge.svg\" alt=\"Open In Colab\"/></a>"
      ]
    },
    {
      "cell_type": "markdown",
      "source": [
        "#Informe Provincial Cuenca\n",
        "##Descarga y limpeza de datos"
      ],
      "metadata": {
        "id": "cncOKnCG9KT2"
      }
    },
    {
      "cell_type": "markdown",
      "source": [
        "Comenzamos cargando los datos de la carpeta de Google Drive en la que estén guardados (será necesario cambiar esta ruta en función de la ruta del ordenador).\n",
        "\n",
        "Es necesario aceptar la conexión con la cuenta de Google Drive.\n",
        "\n",
        "Importante y esencial, antes de tirar el código es necesario que la carpeta de Drive a la que se va a llamar tenga los archivos en formato xlsx así nombrados: 'CU_SAAF.xlsx', 'CU_AT.xlsx', 'CU_EMPLEO.xlsx', 'CU_LOG.xlsx' para que no haya errores a la hora de ejecutar este código.\n",
        "\n",
        "**¡OJO! Primeros archivo con extensión xlsx y los de las zonas a clasificar, con extensión csv, en teoría, los csv no deberían modificarse (a menos que las normativas cambien y con ello las zonas de impacto se modifiquen).**\n",
        "\n",
        "**Y todos las columnas deben tener los nombres definidos en el documento \"Resumen de datos por servicio FASPAS\" y en mayúsculas antes de ser subidos al programa.**"
      ],
      "metadata": {
        "id": "SHATfRyI9VF6"
      }
    },
    {
      "cell_type": "code",
      "execution_count": 2,
      "metadata": {
        "colab": {
          "base_uri": "https://localhost:8080/",
          "height": 304
        },
        "id": "mhwbvGlQ9JVW",
        "outputId": "6299dde5-bb3f-4bbc-8770-92b0a243c8b5"
      },
      "outputs": [
        {
          "output_type": "error",
          "ename": "ValueError",
          "evalue": "The domain policy has disabled Drive File Stream: https://support.google.com/a/answer/7496409",
          "traceback": [
            "\u001b[0;31m---------------------------------------------------------------------------\u001b[0m",
            "\u001b[0;31mValueError\u001b[0m                                Traceback (most recent call last)",
            "\u001b[0;32m<ipython-input-2-d5df0069828e>\u001b[0m in \u001b[0;36m<cell line: 2>\u001b[0;34m()\u001b[0m\n\u001b[1;32m      1\u001b[0m \u001b[0;32mfrom\u001b[0m \u001b[0mgoogle\u001b[0m\u001b[0;34m.\u001b[0m\u001b[0mcolab\u001b[0m \u001b[0;32mimport\u001b[0m \u001b[0mdrive\u001b[0m\u001b[0;34m\u001b[0m\u001b[0;34m\u001b[0m\u001b[0m\n\u001b[0;32m----> 2\u001b[0;31m \u001b[0mdrive\u001b[0m\u001b[0;34m.\u001b[0m\u001b[0mmount\u001b[0m\u001b[0;34m(\u001b[0m\u001b[0;34m'/content/drive'\u001b[0m\u001b[0;34m)\u001b[0m\u001b[0;34m\u001b[0m\u001b[0;34m\u001b[0m\u001b[0m\n\u001b[0m",
            "\u001b[0;32m/usr/local/lib/python3.10/dist-packages/google/colab/drive.py\u001b[0m in \u001b[0;36mmount\u001b[0;34m(mountpoint, force_remount, timeout_ms, readonly)\u001b[0m\n\u001b[1;32m     98\u001b[0m \u001b[0;32mdef\u001b[0m \u001b[0mmount\u001b[0m\u001b[0;34m(\u001b[0m\u001b[0mmountpoint\u001b[0m\u001b[0;34m,\u001b[0m \u001b[0mforce_remount\u001b[0m\u001b[0;34m=\u001b[0m\u001b[0;32mFalse\u001b[0m\u001b[0;34m,\u001b[0m \u001b[0mtimeout_ms\u001b[0m\u001b[0;34m=\u001b[0m\u001b[0;36m120000\u001b[0m\u001b[0;34m,\u001b[0m \u001b[0mreadonly\u001b[0m\u001b[0;34m=\u001b[0m\u001b[0;32mFalse\u001b[0m\u001b[0;34m)\u001b[0m\u001b[0;34m:\u001b[0m\u001b[0;34m\u001b[0m\u001b[0;34m\u001b[0m\u001b[0m\n\u001b[1;32m     99\u001b[0m   \u001b[0;34m\"\"\"Mount your Google Drive at the specified mountpoint path.\"\"\"\u001b[0m\u001b[0;34m\u001b[0m\u001b[0;34m\u001b[0m\u001b[0m\n\u001b[0;32m--> 100\u001b[0;31m   return _mount(\n\u001b[0m\u001b[1;32m    101\u001b[0m       \u001b[0mmountpoint\u001b[0m\u001b[0;34m,\u001b[0m\u001b[0;34m\u001b[0m\u001b[0;34m\u001b[0m\u001b[0m\n\u001b[1;32m    102\u001b[0m       \u001b[0mforce_remount\u001b[0m\u001b[0;34m=\u001b[0m\u001b[0mforce_remount\u001b[0m\u001b[0;34m,\u001b[0m\u001b[0;34m\u001b[0m\u001b[0;34m\u001b[0m\u001b[0m\n",
            "\u001b[0;32m/usr/local/lib/python3.10/dist-packages/google/colab/drive.py\u001b[0m in \u001b[0;36m_mount\u001b[0;34m(mountpoint, force_remount, timeout_ms, ephemeral, readonly)\u001b[0m\n\u001b[1;32m    286\u001b[0m       \u001b[0;31m# Now kill bash.\u001b[0m\u001b[0;34m\u001b[0m\u001b[0;34m\u001b[0m\u001b[0m\n\u001b[1;32m    287\u001b[0m       \u001b[0md\u001b[0m\u001b[0;34m.\u001b[0m\u001b[0mkill\u001b[0m\u001b[0;34m(\u001b[0m\u001b[0m_signal\u001b[0m\u001b[0;34m.\u001b[0m\u001b[0mSIGKILL\u001b[0m\u001b[0;34m)\u001b[0m\u001b[0;34m\u001b[0m\u001b[0;34m\u001b[0m\u001b[0m\n\u001b[0;32m--> 288\u001b[0;31m       raise ValueError(\n\u001b[0m\u001b[1;32m    289\u001b[0m           \u001b[0mstr\u001b[0m\u001b[0;34m(\u001b[0m\u001b[0mdomain_disabled_drivefs\u001b[0m\u001b[0;34m)\u001b[0m\u001b[0;34m\u001b[0m\u001b[0;34m\u001b[0m\u001b[0m\n\u001b[1;32m    290\u001b[0m           \u001b[0;34m+\u001b[0m \u001b[0;34m': https://support.google.com/a/answer/7496409'\u001b[0m\u001b[0;34m\u001b[0m\u001b[0;34m\u001b[0m\u001b[0m\n",
            "\u001b[0;31mValueError\u001b[0m: The domain policy has disabled Drive File Stream: https://support.google.com/a/answer/7496409"
          ]
        }
      ],
      "source": [
        "from google.colab import drive\n",
        "drive.mount('/content/drive')"
      ]
    },
    {
      "cell_type": "markdown",
      "source": [
        "Se importan las librerías necesarias para la parte de carga de datos y su limpieza."
      ],
      "metadata": {
        "id": "T6gtnbKM-e5p"
      }
    },
    {
      "cell_type": "code",
      "source": [
        "import os\n",
        "import pandas as pd\n",
        "import numpy as np"
      ],
      "metadata": {
        "id": "e4n3PNFZ-oIq"
      },
      "execution_count": 4,
      "outputs": []
    },
    {
      "cell_type": "code",
      "source": [
        "# Asegúrarse de cambiar la ruta por el nombre real de la carpeta en Google Drive\n",
        "folder_path = '/content/drive/My Drive/PFG_FASPAS/CU'\n",
        "docs_xlsx = [f for f in os.listdir(folder_path) if f.endswith('.xlsx')]\n",
        "print(docs_xlsx)\n",
        "\n",
        "# Asegúrarse de cambiar la ruta por el nombre real de la carpeta en Google Drive\n",
        "folder_path_csv = '/content/drive/My Drive/PFG_FASPAS/Zonas_Prioritarias'\n",
        "docs_csv = [f for f in os.listdir(folder_path_csv) if f.endswith('.csv')]\n",
        "print(docs_csv)"
      ],
      "metadata": {
        "colab": {
          "base_uri": "https://localhost:8080/"
        },
        "id": "yMug4vBB9ozZ",
        "outputId": "2bf55e76-c1db-4dc0-803f-bcd857711a90"
      },
      "execution_count": null,
      "outputs": [
        {
          "output_type": "stream",
          "name": "stdout",
          "text": [
            "['CU_SAAF.xlsx', 'CU_AT.xlsx', 'CU_EMPLEO.xlsx', 'CU_LOG.xlsx']\n",
            "['municipios_prioritarios_clm.csv']\n"
          ]
        }
      ]
    },
    {
      "cell_type": "markdown",
      "source": [
        "Creación de un diccionario que almacene los dataframes (.xlsx) contenidos en la carpeta de Cuenca.\n",
        "\n",
        "Se irán cargando todos los archivos en un dataframe que se añade al diccionario con el nombre de dicho archivo como clave."
      ],
      "metadata": {
        "id": "hxl_Z9P1-wXB"
      }
    },
    {
      "cell_type": "code",
      "source": [
        "dic_dataframes = {}\n",
        "dic_zonas = {}\n",
        "\n",
        "for doc in docs_xlsx:\n",
        "    entire_path = os.path.join(folder_path, doc)\n",
        "    df = pd.read_excel(entire_path)\n",
        "    # Uso el nombre del archivo como clave\n",
        "    dic_dataframes[doc] = df\n",
        "\n",
        "for doc in docs_csv:\n",
        "  entire_path = os.path.join(folder_path_csv, doc)\n",
        "  df = pd.read_csv(entire_path)\n",
        "  # Uso el nombre del archivo como clave\n",
        "  dic_zonas[doc] = df"
      ],
      "metadata": {
        "id": "wpsYAD2X-c4D"
      },
      "execution_count": null,
      "outputs": []
    },
    {
      "cell_type": "markdown",
      "source": [
        "A continuación se debe observar que el dataframe cuente con al menos las columnas: 'AÑOS ATENCIÓN', 'FECHA NACIMIENTO', 'LOCALIDAD', 'GÉNERO' y 'CP'"
      ],
      "metadata": {
        "id": "swAIR8SeSRpf"
      }
    },
    {
      "cell_type": "markdown",
      "source": [
        "Ahora que sabemos cuáles son las claves, guardamos cada dataframe por separado para trabajar con todos ellos de manera individual, por el momento."
      ],
      "metadata": {
        "id": "j7NG1ZuiB2pr"
      }
    },
    {
      "cell_type": "code",
      "source": [
        "# Imprimir todas las claves\n",
        "for clave in dic_dataframes.keys():\n",
        "    print(clave)"
      ],
      "metadata": {
        "colab": {
          "base_uri": "https://localhost:8080/"
        },
        "id": "-bSrp6NdAwQZ",
        "outputId": "c8509b32-0856-4ba2-813b-b8b6e4803f1b"
      },
      "execution_count": null,
      "outputs": [
        {
          "output_type": "stream",
          "name": "stdout",
          "text": [
            "CU_SAAF.xlsx\n",
            "CU_AT.xlsx\n",
            "CU_EMPLEO.xlsx\n",
            "CU_LOG.xlsx\n"
          ]
        }
      ]
    },
    {
      "cell_type": "code",
      "source": [
        "CU_SAAF = dic_dataframes.get(\"CU_SAAF.xlsx\")\n",
        "CU_AT = dic_dataframes.get(\"CU_AT.xlsx\")\n",
        "CU_EMPLEO = dic_dataframes.get(\"CU_EMPLEO.xlsx\")\n",
        "CU_LOG = dic_dataframes.get(\"CU_LOG.xlsx\")\n",
        "# CU_SOCIOS = dic_dataframes.get(\"CU_SOCIOS.xlsx\")"
      ],
      "metadata": {
        "id": "tgagsBVtCDkc"
      },
      "execution_count": 5,
      "outputs": []
    },
    {
      "cell_type": "markdown",
      "source": [
        "Vamos a limpiar cada uno de los dataframes en función de los datos que tenemos y vamos a normalizarlos para cuando los crucemos entre ellos.\n",
        "\n",
        "Comenzamos con los datos de Servicio de Atención y Apoyo a Familias (SAAF)."
      ],
      "metadata": {
        "id": "51k6fU9qClCD"
      }
    },
    {
      "cell_type": "markdown",
      "source": [
        "Sacamos la información del dataset y observamos que de 77 entradas, el campo de 'GRADO DEPENDENCIA' tan solo tiene 1 registro, por lo que se procede a eliminarla. El 'GRADO DISCAPACIDAD' de momento lo dejamos ya que para el impacto territorial no lo vamos a usar."
      ],
      "metadata": {
        "id": "TmNPUhvqDIUk"
      }
    },
    {
      "cell_type": "code",
      "source": [
        "# CÓDIGO SOLO PARA EL CURRO (PQ NO PUEDO ACCEDER AL DRIVE)\n",
        "CU_SAAF = pd.read_excel('/content/CU_SAAF.xlsx')\n",
        "CU_AT = pd.read_excel('/content/CU_AT.xlsx')\n",
        "CU_EMPLEO = pd.read_excel('/content/CU_EMPLEO.xlsx')\n",
        "CU_LOG = pd.read_excel('/content/CU_LOG.xlsx')\n",
        "# CU_SOCIOS = pd.read_excel('/content/CU_SOCIOS.xlsx')"
      ],
      "metadata": {
        "id": "FzS8Balj4ozG"
      },
      "execution_count": 6,
      "outputs": []
    },
    {
      "cell_type": "code",
      "source": [
        "# Lista de columnas necesarias para hacer el impacto territorial en todos los dataframes\n",
        "needed_columns = ['FECHA NACIMIENTO', 'LOCALIDAD', 'GÉNERO', 'CP']\n",
        "\n",
        "# Asegurarse de que todas las columnas necesarias existan en todos los dataframes, creándolas si es necesario\n",
        "for col in needed_columns:\n",
        "    if col not in CU_SAAF.columns:\n",
        "        CU_SAAF[col] = np.nan  # Creamos la columna con valores NaN para que se ejecute el código\n",
        "    if col not in CU_AT.columns:\n",
        "        CU_AT[col] = np.nan\n",
        "    if col not in CU_EMPLEO.columns:\n",
        "        CU_EMPLEO[col] = np.nan\n",
        "    if col not in CU_LOG.columns:\n",
        "        CU_LOG[col] = np.nan\n",
        "    # if col not in CU_SOCIOS.columns:\n",
        "    #     CU_SOCIOS[col] = np.nan\n",
        "\n",
        "CU_SAAF.info()"
      ],
      "metadata": {
        "colab": {
          "base_uri": "https://localhost:8080/"
        },
        "id": "1IJU09ZlVrml",
        "outputId": "e8b138cc-8e9b-4fa7-d4b9-1f1d9a0ae340"
      },
      "execution_count": 13,
      "outputs": [
        {
          "output_type": "stream",
          "name": "stdout",
          "text": [
            "<class 'pandas.core.frame.DataFrame'>\n",
            "RangeIndex: 77 entries, 0 to 76\n",
            "Data columns (total 12 columns):\n",
            " #   Column                  Non-Null Count  Dtype  \n",
            "---  ------                  --------------  -----  \n",
            " 0   AÑO ATENCIÓN            77 non-null     int64  \n",
            " 1   FECHA NACIMIENTO        77 non-null     object \n",
            " 2   GÉNERO                  77 non-null     object \n",
            " 3   LOCALIDAD               76 non-null     object \n",
            " 4   CP                      72 non-null     Int64  \n",
            " 5   TIPO SORDERA            77 non-null     object \n",
            " 6   GRADO PÉRDIDA           59 non-null     object \n",
            " 7   MOMENTO APARICIÓN       61 non-null     object \n",
            " 8   TIPO PRÓTESIS           77 non-null     object \n",
            " 9   MODALIDAD COMUNICATIVA  77 non-null     object \n",
            " 10  GRADO DEPENDENCIA       1 non-null      object \n",
            " 11  GRADO DISCAPACIDAD      32 non-null     float64\n",
            "dtypes: Int64(1), float64(1), int64(1), object(9)\n",
            "memory usage: 7.4+ KB\n"
          ]
        }
      ]
    },
    {
      "cell_type": "markdown",
      "source": [
        "Lo primero que hacemos es eliminar aquellas columnas cuyos datos NO se hayan pedido."
      ],
      "metadata": {
        "id": "0Ly23V5wG1nt"
      }
    },
    {
      "cell_type": "code",
      "source": [
        "# Lista de columnas que me quedo independientemente de las que tenga el pdf\n",
        "# OJOOOOOO: volver a mirar los archivos originales para normalizar todo (¿Lleva implante de tronco cerebral/osteointegrado/de oído medio?...\n",
        "columns_to_keep = ['FECHA ALTA', 'FECHA NACIMIENTO', 'LOCALIDAD', 'GÉNERO', 'CP', 'TIPO SORDERA', 'MOMENTO APARICIÓN', '¿LLEVA AUDÍFONO?', 'AUD O PRÓTESIS', 'MODALIDAD COMUNICATIVA', 'GRADO DISCAPACIDAD', 'TIPO PRÓTESIS', 'GRADO PÉRDIDA']\n",
        "\n",
        "# Solo las que estén contenidas en el df\n",
        "CU_SAAF = CU_SAAF[CU_SAAF.columns.intersection(columns_to_keep)]"
      ],
      "metadata": {
        "id": "JuStpQyZG1Bl"
      },
      "execution_count": 18,
      "outputs": []
    },
    {
      "cell_type": "markdown",
      "source": [
        "Por otra parte, la columna 'FECHA NACIMIENTO' nos quedamos solo con la fecha (OJOOOO ¿O SOLO EL AÑO????), eliminando la hora. Por defecto, Excel pone el CP como float, asi que lo pasamos a entero."
      ],
      "metadata": {
        "id": "1mM-6P2bFsHg"
      }
    },
    {
      "cell_type": "code",
      "source": [
        "CU_SAAF['CP'] = CU_SAAF['CP'].astype('Int64')\n",
        "\n",
        "CU_SAAF['FECHA NACIMIENTO'] = CU_SAAF['FECHA NACIMIENTO'].astype(str)\n",
        "\n",
        "CU_SAAF['FECHA NACIMIENTO'] = CU_SAAF['FECHA NACIMIENTO'].str.split(' ').str[0]"
      ],
      "metadata": {
        "id": "iYaNPSKaEicA",
        "colab": {
          "base_uri": "https://localhost:8080/"
        },
        "outputId": "b45c96d1-8945-4572-cc27-f31cf005af0a"
      },
      "execution_count": 19,
      "outputs": [
        {
          "output_type": "stream",
          "name": "stderr",
          "text": [
            "<ipython-input-19-0a10314fec0d>:1: SettingWithCopyWarning: \n",
            "A value is trying to be set on a copy of a slice from a DataFrame.\n",
            "Try using .loc[row_indexer,col_indexer] = value instead\n",
            "\n",
            "See the caveats in the documentation: https://pandas.pydata.org/pandas-docs/stable/user_guide/indexing.html#returning-a-view-versus-a-copy\n",
            "  CU_SAAF['CP'] = CU_SAAF['CP'].astype('Int64')\n",
            "<ipython-input-19-0a10314fec0d>:3: SettingWithCopyWarning: \n",
            "A value is trying to be set on a copy of a slice from a DataFrame.\n",
            "Try using .loc[row_indexer,col_indexer] = value instead\n",
            "\n",
            "See the caveats in the documentation: https://pandas.pydata.org/pandas-docs/stable/user_guide/indexing.html#returning-a-view-versus-a-copy\n",
            "  CU_SAAF['FECHA NACIMIENTO'] = CU_SAAF['FECHA NACIMIENTO'].astype(str)\n",
            "<ipython-input-19-0a10314fec0d>:5: SettingWithCopyWarning: \n",
            "A value is trying to be set on a copy of a slice from a DataFrame.\n",
            "Try using .loc[row_indexer,col_indexer] = value instead\n",
            "\n",
            "See the caveats in the documentation: https://pandas.pydata.org/pandas-docs/stable/user_guide/indexing.html#returning-a-view-versus-a-copy\n",
            "  CU_SAAF['FECHA NACIMIENTO'] = CU_SAAF['FECHA NACIMIENTO'].str.split(' ').str[0]\n"
          ]
        }
      ]
    },
    {
      "cell_type": "markdown",
      "source": [
        "Si existe en el dataframe, como en este caso, aquellos que no tienen registro de 'TIPO PRÓTESIS' hay que examinar el motivo. Vamos a ver aquellos registros distintos que tienen todas las columnas. Vemos que en la columna 'TIPO PRÓTESIS' no hay ninguna salida que sea \"NO TIENE\" y preguntamos a FASPAS, tras su aprobación, procedemos a sustituir los valores nulos por 'NO TIENE'."
      ],
      "metadata": {
        "id": "Qo75GIDwHlyQ"
      }
    },
    {
      "cell_type": "code",
      "source": [
        "column_names = CU_SAAF.columns.tolist()\n",
        "\n",
        "for column in column_names:\n",
        "  unique_val = CU_SAAF[column].unique()\n",
        "  print(unique_val)"
      ],
      "metadata": {
        "colab": {
          "base_uri": "https://localhost:8080/"
        },
        "id": "gncHuxcIHUnJ",
        "outputId": "873f6bc1-6bf3-4938-db11-818ae2951efe"
      },
      "execution_count": 20,
      "outputs": [
        {
          "output_type": "stream",
          "name": "stdout",
          "text": [
            "['1993-02-05' '1975-07-10' '28/22/1995' '2008-09-16' '2008-09-25'\n",
            " '2007-10-26' '2008-08-08' '1995-08-02' '2005-10-13' '2010-12-29'\n",
            " '2006-11-17' '1999-10-14' '2010-12-14' '1961-05-20' '1990-09-11'\n",
            " '2003-08-26' '2008-12-22' '2010-03-04' '1982-05-24' '2011-10-29'\n",
            " '2012-12-12' '2012-12-14' '1950-08-26' '1959-06-18' '2014-01-02'\n",
            " '2012-09-17' '2013-09-04' '2007-09-19' '1976-05-12' '2012-05-24'\n",
            " '1961-08-14' '2009-01-01' '2015-11-11' '2016-05-18' '2014-12-28'\n",
            " '2006-03-12' '2016-08-11' '1986-08-13' '2016-10-10' '2017-02-07'\n",
            " '2016-01-15' '1951-10-13' '2006-04-22' '2017-10-13' '1935-04-12'\n",
            " '2018-06-20' '2018-03-02' '1945-08-10' '1949-08-28' '1941-06-22'\n",
            " '2008-04-07' '1955-06-12' '1993-03-05' '2019-12-19' '2020-03-31'\n",
            " '1997-10-02' '1992-01-19' '2019-07-15' '1974-12-07' '2021-04-07'\n",
            " '2020-06-05' '2019-07-29' '2018-10-20' '2020-07-01' '2020-04-23'\n",
            " '2020-04-15' '2020-03-03' '2020-07-23' '2020-11-04' '2020-10-15'\n",
            " '1905-06-25' '2016-09-04' '2018-07-31' '2008-08-22' '1969-07-12'\n",
            " '1946-05-13' '2019-11-23']\n",
            "['M' 'HOMBRE']\n",
            "['NOHALES' 'VALVERDE DEL JÚCAR' 'CARBONERAS' 'CUENCA' 'MINGLANILLA'\n",
            " 'POZORRUBIO' 'CHILLARÓN' 'CAMPILLO DE ALTOBUEY' 'TARANCÓN'\n",
            " 'VILLAMAYOR DE SANTIAGO' 'VALERA DE ABAJO' 'ATALAYA DE CAÑAVATE' 'CAÑETE'\n",
            " 'MOTA DEL CUERVO' 'MOTILLA DEL PALANCAR' 'PRIEGO' nan\n",
            " 'TORRUBIA DEL CAMPO' 'HUETE' 'BELMONTE' 'CAÑAMARES' 'VILLAR DE OLALLA'\n",
            " 'LEDAÑA' 'VILLALBA DE LA SIERRA' 'REILLO' 'HORCAJO DE SANTIAGO']\n",
            "<IntegerArray>\n",
            "[16191, 16100, 16350, 16004, 16003, 16260, 16414, 16190, 16210, 16410, 16415,\n",
            " 16120, 16710, 16300,  <NA>, 16630, 16200, 16002, 16000, 16400, 16001, 16800,\n",
            " 16413, 16500, 16640, 16890, 16195, 16237, 16140, 16390]\n",
            "Length: 30, dtype: Int64\n",
            "['NEUROSENSORIAL' 'MIXTA' 'CONDUCTIVA' 'TEL']\n",
            "['DAP' 'DAS' 'DAM' 'DAL' nan 'DAL Y DAM' 'DAM Y DAP']\n",
            "['PRELOCUTIVA' 'POSTLOCUTIVA' 'PERILOCUTIVA' nan]\n",
            "['2 IMPLANTES COCLEARES' '2 AUDÍFONOS' 'AUDIFONO' 'NO TIENE'\n",
            " 'AUDIFONO + IC' 'IC' '2 IC' '2 AUDIFONOS' 'AUDIFONOS']\n",
            "['ORAL']\n",
            "[0.7  0.41  nan 0.44 0.33 0.46 0.43 0.36 0.63 0.56 0.71 0.53 0.76 0.42\n",
            " 0.35 0.45 0.5  0.3  0.39 0.24 0.8  0.65]\n",
            "['SI' 'NO']\n"
          ]
        }
      ]
    },
    {
      "cell_type": "markdown",
      "source": [
        "Se observa que la 'MODALIDAD COMUNICATIVA' no da ninguna información, pues todos los registros son \"ORAL\", sim embargo, la dejamos por si acaso en un futuro los registros cambiaran.\n",
        "\n",
        "Y procedemos a poner todos los valores de los registros en mayúsculas, para uniformar los datos."
      ],
      "metadata": {
        "id": "4-jR--TTKzM_"
      }
    },
    {
      "cell_type": "code",
      "source": [
        "for column in CU_SAAF.columns:\n",
        "    if CU_SAAF[column].dtype == 'object':\n",
        "        CU_SAAF[column] = CU_SAAF[column].str.upper()"
      ],
      "metadata": {
        "colab": {
          "base_uri": "https://localhost:8080/"
        },
        "id": "PI_k8fqYDuEK",
        "outputId": "d1b1560e-0a78-4dcf-8341-78ac4c694ed2"
      },
      "execution_count": 21,
      "outputs": [
        {
          "output_type": "stream",
          "name": "stderr",
          "text": [
            "<ipython-input-21-5330a7e415d9>:3: SettingWithCopyWarning: \n",
            "A value is trying to be set on a copy of a slice from a DataFrame.\n",
            "Try using .loc[row_indexer,col_indexer] = value instead\n",
            "\n",
            "See the caveats in the documentation: https://pandas.pydata.org/pandas-docs/stable/user_guide/indexing.html#returning-a-view-versus-a-copy\n",
            "  CU_SAAF[column] = CU_SAAF[column].str.upper()\n"
          ]
        }
      ]
    },
    {
      "cell_type": "markdown",
      "source": [
        "Se disminuye la complejidad de los datos de manera que solo nos quedamos con la categoría de 'AUD O PRÓTESIS' que indica si lleva o no alguno de los dispotivos posibles (¿Lleva implante de tronco cerebral/osteointegrado/de oído medio?) con independencia de cuál de estos sea."
      ],
      "metadata": {
        "id": "f0bDOcSLVe57"
      }
    },
    {
      "cell_type": "code",
      "source": [
        "# HAY QUE CONTEMPLAR TOOOODAS LAS ENTRADAS!!!\n",
        "if 'TIPO PRÓTESIS' in CU_SAAF.columns:\n",
        "  CU_SAAF['TIPO PRÓTESIS'] = CU_SAAF['TIPO PRÓTESIS'].fillna('NO TIENE')\n",
        "  CU_SAAF['AUD O PRÓTESIS'] = np.where(CU_SAAF['TIPO PRÓTESIS'] == 'NO TIENE', 'NO', 'SI')\n",
        "  CU_SAAF.drop('TIPO PRÓTESIS', axis=1, inplace=True)\n",
        "\n",
        "elif '¿LLEVA AUDÍFONO?' in CU_SAAF.columns:\n",
        "  si = ['SI', 'SÍ', 'YES', 'S']\n",
        "  for s in si:\n",
        "    CU_SAAF['AUD O PRÓTESIS'] = np.where(CU_SAAF['¿LLEVA AUDÍFONO?'] == si, 'SI', 'NO')\n",
        "\n",
        "elif 'AUD O PRÓTESIS' in CU_SAAF.columns:\n",
        "  si = ['SI', 'SÍ', 'YES', 'S']\n",
        "  no = ['NO', 'N']\n",
        "\n",
        "  for s in si:\n",
        "    CU_SAAF['AUD O PRÓTESIS'] = CU_SAAF['AUD O PRÓTESIS'].replace(s, 'SI')\n",
        "\n",
        "  for n in no:\n",
        "    CU_SAAF['AUD O PRÓTESIS'] = CU_SAAF['AUD O PRÓTESIS'].replace(n, 'NO')"
      ],
      "metadata": {
        "id": "iFVuG1LXH-Fp"
      },
      "execution_count": 16,
      "outputs": []
    },
    {
      "cell_type": "markdown",
      "source": [
        "Para contemplar que otros datos que se ingresen sean distintos, vamos a jugar con eliminar aquellas columnas que no sean esenciales para el estudio territorial, sino que nos den información más sociológica y sirvan para un estudio social; siempre y cuando el porcentaje de valores nulos sea mayor o igual que 1/3 del total de registros."
      ],
      "metadata": {
        "id": "oiLN3k37MBz3"
      }
    },
    {
      "cell_type": "code",
      "source": [
        "# Añado 'AÑO ATENCIÓN' para SAAF\n",
        "needed_columns = ['AÑO ATENCIÓN', 'FECHA NACIMIENTO', 'LOCALIDAD', 'GÉNERO', 'CP']\n",
        "\n",
        "# Creación de la lista de columnas consideradas para posible eliminación\n",
        "social_columns = [col for col in CU_SAAF.columns if col not in needed_columns]\n",
        "\n",
        "# Porcentaje máximo de valores nulos permitido\n",
        "max_percentage = 1/3\n",
        "\n",
        "# Identifico columnas para eliminar\n",
        "del_columns = []\n",
        "for col in social_columns:\n",
        "    if CU_SAAF[col].isnull().sum() / len(df) >= max_percentage:\n",
        "        del_columns.append(col)\n",
        "\n",
        "# Eliminar las columnas identificadas\n",
        "CU_SAAF.drop(columns=del_columns, inplace=True)"
      ],
      "metadata": {
        "id": "eGbzUeKaMtVx"
      },
      "execution_count": null,
      "outputs": []
    },
    {
      "cell_type": "markdown",
      "source": [
        "Además, pondremos todos los registros de MUJER como M y HOMBRE como H. Esto lo realizaremos con todos los dataframes. Contemplamos que los registros que llegan pueden tener otros nombres en este campo."
      ],
      "metadata": {
        "id": "acwjNFXXIUOD"
      }
    },
    {
      "cell_type": "code",
      "source": [
        "if 'GÉNERO' in CU_SAAF.columns:\n",
        "  # OJO: contemplar tb las diferentes formas de escribir TODAS LAS COLUMNAS 'MOMENTO APARICIÓN', HAY QUE NORMALIZAR TODO\n",
        "  mujer = ['MUJER', 'HEMBRA', 'FEMENINO', 'FEM', 'F']\n",
        "  hombre = ['GOMBRE', 'MACHO', 'MASCULINO', 'MASC', 'MAS']\n",
        "\n",
        "  for m in mujer:\n",
        "    CU_SAAF['GÉNERO'] = CU_SAAF['GÉNERO'].replace(m, 'M')\n",
        "\n",
        "  for h in hombre:\n",
        "    CU_SAAF['GÉNERO'] = CU_SAAF['GÉNERO'].replace(h, 'H')"
      ],
      "metadata": {
        "id": "suN6C-mPFnGC",
        "colab": {
          "base_uri": "https://localhost:8080/"
        },
        "outputId": "86286ffc-36fe-4fb7-ae32-d6c50c532be2"
      },
      "execution_count": 27,
      "outputs": [
        {
          "output_type": "stream",
          "name": "stderr",
          "text": [
            "<ipython-input-27-a65fe868edea>:7: SettingWithCopyWarning: \n",
            "A value is trying to be set on a copy of a slice from a DataFrame.\n",
            "Try using .loc[row_indexer,col_indexer] = value instead\n",
            "\n",
            "See the caveats in the documentation: https://pandas.pydata.org/pandas-docs/stable/user_guide/indexing.html#returning-a-view-versus-a-copy\n",
            "  CU_SAAF['GÉNERO'] = CU_SAAF['GÉNERO'].replace(m, 'M')\n",
            "<ipython-input-27-a65fe868edea>:10: SettingWithCopyWarning: \n",
            "A value is trying to be set on a copy of a slice from a DataFrame.\n",
            "Try using .loc[row_indexer,col_indexer] = value instead\n",
            "\n",
            "See the caveats in the documentation: https://pandas.pydata.org/pandas-docs/stable/user_guide/indexing.html#returning-a-view-versus-a-copy\n",
            "  CU_SAAF['GÉNERO'] = CU_SAAF['GÉNERO'].replace(h, 'H')\n"
          ]
        }
      ]
    },
    {
      "cell_type": "markdown",
      "source": [
        "Para el resto de columnas que todavía existan procedo a normalizar los registros teniendo en cuenta todos los posibles valores a tomar."
      ],
      "metadata": {
        "id": "15UArGI8au_M"
      }
    },
    {
      "cell_type": "code",
      "source": [
        "if 'TIPO SORDERA' in CU_SAAF.columns:\n",
        "  # Lista con las posibles salidas permitidas\n",
        "  strings_to_keep = ['NEUROSENSORIAL', 'CONDUCTIVA', 'MIXTA', 'TEL']\n",
        "\n",
        "  # Sustituyo los registros distintos por la palabra 'NO REGISTRADO' (VER SI SE CAMBIA ESTO)\n",
        "  CU_SAAF.loc[~CU_SAAF['TIPO SORDERA'].isin(strings_to_keep), 'TIPO SORDERA'] = 'NO REGISTRADO'\n",
        "\n",
        "if 'MOMENTO APARICIÓN' in CU_SAAF.columns:\n",
        "  strings_to_keep = ['PERILOCUTIVA', 'POSTLOCUTIVA', 'PRELOCUTIVA']\n",
        "\n",
        "  # Sustituyo los registros distintos por la palabra 'NO REGISTRADO' (VER SI SE CAMBIA ESTO)\n",
        "  CU_SAAF.loc[~CU_SAAF['MOMENTO APARICIÓN'].isin(strings_to_keep), 'MOMENTO APARICIÓN'] = 'NO REGISTRADO'\n",
        "\n",
        "if 'MODALIDAD COMUNICATIVA' in CU_SAAF.columns:\n",
        "  strings_to_keep = ['SIGNO', 'LSE','SIGNOS', 'ORAL', 'BIMODAL', 'L.S.E.', 'L.S.E', 'SIGNOS NATURALES', 'ORAL,SIGNOS NATURALES', 'ORAL, SIGNOS NATURALES']\n",
        "\n",
        "  # Sustituyo los registros distintos por la palabra 'NO REGISTRADO' (VER SI SE CAMBIA ESTO)\n",
        "  CU_SAAF.loc[~CU_SAAF['MOMENTO APARICIÓN'].isin(strings_to_keep), 'MOMENTO APARICIÓN'] = 'NO REGISTRADO'\n",
        "\n",
        "  # Normalizo todas las formas de llamar a las distintas modalidades comunicativas\n",
        "  ORAL = ['ORAL', 'ORAL,SIGNOS NATURALES', 'ORAL, SIGNOS NATURALES']\n",
        "  LSE = ['LSE', 'L.S.E.','L.S.E']\n",
        "  SIGNOS = ['SIGNO', 'SIGNOS', 'SIGNOS NATURALES']\n",
        "\n",
        "  for o in ORAL:\n",
        "    CU_SAAF['MODALIDAD COMUNICATIVA'] = CU_SAAF['MODALIDAD COMUNICATIVA'].replace(o, 'ORAL')\n",
        "\n",
        "  for l in LSE:\n",
        "    CU_SAAF['MODALIDAD COMUNICATIVA'] = CU_SAAF['MODALIDAD COMUNICATIVA'].replace(l, 'LSE')\n",
        "\n",
        "  for s in SIGNOS:\n",
        "    CU_SAAF['MODALIDAD COMUNICATIVA'] = CU_SAAF['MODALIDAD COMUNICATIVA'].replace(s, 'SIGNOS')\n",
        "\n",
        "if 'GRADO PÉRDIDA' in CU_SAAF.columns:\n",
        "  CU_SAAF['GRADO PÉRDIDA'] = CU_SAAF['GRADO PÉRDIDA'].astype(str)\n",
        "\n",
        "  # Selecciono solo las 3 primeras letras (quitando la parte de DB si la tuviera)\n",
        "  CU_SAAF['GRADO PÉRDIDA'] = CU_SAAF['GRADO PÉRDIDA'].str.slice(0, 3)\n",
        "\n",
        "  strings_to_keep = ['DAP', 'DAM', 'DAS', 'DAL']\n",
        "\n",
        "  CU_SAAF.loc[~CU_SAAF['GRADO PÉRDIDA'].isin(strings_to_keep), 'GRADO PÉRDIDA'] = 'NO REGISTRADO'"
      ],
      "metadata": {
        "colab": {
          "base_uri": "https://localhost:8080/"
        },
        "id": "5F-V0DwZaopA",
        "outputId": "4a511c81-34be-414f-9b6e-e9c1e1a4aae7"
      },
      "execution_count": 22,
      "outputs": [
        {
          "output_type": "stream",
          "name": "stderr",
          "text": [
            "<ipython-input-22-c05c5f012cf1>:26: SettingWithCopyWarning: \n",
            "A value is trying to be set on a copy of a slice from a DataFrame.\n",
            "Try using .loc[row_indexer,col_indexer] = value instead\n",
            "\n",
            "See the caveats in the documentation: https://pandas.pydata.org/pandas-docs/stable/user_guide/indexing.html#returning-a-view-versus-a-copy\n",
            "  CU_SAAF['MODALIDAD COMUNICATIVA'] = CU_SAAF['MODALIDAD COMUNICATIVA'].replace(o, 'ORAL')\n",
            "<ipython-input-22-c05c5f012cf1>:29: SettingWithCopyWarning: \n",
            "A value is trying to be set on a copy of a slice from a DataFrame.\n",
            "Try using .loc[row_indexer,col_indexer] = value instead\n",
            "\n",
            "See the caveats in the documentation: https://pandas.pydata.org/pandas-docs/stable/user_guide/indexing.html#returning-a-view-versus-a-copy\n",
            "  CU_SAAF['MODALIDAD COMUNICATIVA'] = CU_SAAF['MODALIDAD COMUNICATIVA'].replace(l, 'LSE')\n",
            "<ipython-input-22-c05c5f012cf1>:32: SettingWithCopyWarning: \n",
            "A value is trying to be set on a copy of a slice from a DataFrame.\n",
            "Try using .loc[row_indexer,col_indexer] = value instead\n",
            "\n",
            "See the caveats in the documentation: https://pandas.pydata.org/pandas-docs/stable/user_guide/indexing.html#returning-a-view-versus-a-copy\n",
            "  CU_SAAF['MODALIDAD COMUNICATIVA'] = CU_SAAF['MODALIDAD COMUNICATIVA'].replace(s, 'SIGNOS')\n",
            "<ipython-input-22-c05c5f012cf1>:35: SettingWithCopyWarning: \n",
            "A value is trying to be set on a copy of a slice from a DataFrame.\n",
            "Try using .loc[row_indexer,col_indexer] = value instead\n",
            "\n",
            "See the caveats in the documentation: https://pandas.pydata.org/pandas-docs/stable/user_guide/indexing.html#returning-a-view-versus-a-copy\n",
            "  CU_SAAF['GRADO PÉRDIDA'] = CU_SAAF['GRADO PÉRDIDA'].astype(str)\n",
            "<ipython-input-22-c05c5f012cf1>:38: SettingWithCopyWarning: \n",
            "A value is trying to be set on a copy of a slice from a DataFrame.\n",
            "Try using .loc[row_indexer,col_indexer] = value instead\n",
            "\n",
            "See the caveats in the documentation: https://pandas.pydata.org/pandas-docs/stable/user_guide/indexing.html#returning-a-view-versus-a-copy\n",
            "  CU_SAAF['GRADO PÉRDIDA'] = CU_SAAF['GRADO PÉRDIDA'].str.slice(0, 3)\n"
          ]
        }
      ]
    },
    {
      "cell_type": "code",
      "source": [
        "column_names = CU_SAAF.columns.tolist()\n",
        "\n",
        "for column in column_names:\n",
        "  unique_val = CU_SAAF[column].unique()\n",
        "  print(unique_val)"
      ],
      "metadata": {
        "colab": {
          "base_uri": "https://localhost:8080/"
        },
        "id": "cSeUe27-gdB_",
        "outputId": "1c768a04-9549-4b15-b5ad-6634cebc3ec4"
      },
      "execution_count": 28,
      "outputs": [
        {
          "output_type": "stream",
          "name": "stdout",
          "text": [
            "['1993-02-05' '1975-07-10' '28/22/1995' '2008-09-16' '2008-09-25'\n",
            " '2007-10-26' '2008-08-08' '1995-08-02' '2005-10-13' '2010-12-29'\n",
            " '2006-11-17' '1999-10-14' '2010-12-14' '1961-05-20' '1990-09-11'\n",
            " '2003-08-26' '2008-12-22' '2010-03-04' '1982-05-24' '2011-10-29'\n",
            " '2012-12-12' '2012-12-14' '1950-08-26' '1959-06-18' '2014-01-02'\n",
            " '2012-09-17' '2013-09-04' '2007-09-19' '1976-05-12' '2012-05-24'\n",
            " '1961-08-14' '2009-01-01' '2015-11-11' '2016-05-18' '2014-12-28'\n",
            " '2006-03-12' '2016-08-11' '1986-08-13' '2016-10-10' '2017-02-07'\n",
            " '2016-01-15' '1951-10-13' '2006-04-22' '2017-10-13' '1935-04-12'\n",
            " '2018-06-20' '2018-03-02' '1945-08-10' '1949-08-28' '1941-06-22'\n",
            " '2008-04-07' '1955-06-12' '1993-03-05' '2019-12-19' '2020-03-31'\n",
            " '1997-10-02' '1992-01-19' '2019-07-15' '1974-12-07' '2021-04-07'\n",
            " '2020-06-05' '2019-07-29' '2018-10-20' '2020-07-01' '2020-04-23'\n",
            " '2020-04-15' '2020-03-03' '2020-07-23' '2020-11-04' '2020-10-15'\n",
            " '1905-06-25' '2016-09-04' '2018-07-31' '2008-08-22' '1969-07-12'\n",
            " '1946-05-13' '2019-11-23']\n",
            "['M' 'HOMBRE']\n",
            "['NOHALES' 'VALVERDE DEL JÚCAR' 'CARBONERAS' 'CUENCA' 'MINGLANILLA'\n",
            " 'POZORRUBIO' 'CHILLARÓN' 'CAMPILLO DE ALTOBUEY' 'TARANCÓN'\n",
            " 'VILLAMAYOR DE SANTIAGO' 'VALERA DE ABAJO' 'ATALAYA DE CAÑAVATE' 'CAÑETE'\n",
            " 'MOTA DEL CUERVO' 'MOTILLA DEL PALANCAR' 'PRIEGO' nan\n",
            " 'TORRUBIA DEL CAMPO' 'HUETE' 'BELMONTE' 'CAÑAMARES' 'VILLAR DE OLALLA'\n",
            " 'LEDAÑA' 'VILLALBA DE LA SIERRA' 'REILLO' 'HORCAJO DE SANTIAGO']\n",
            "<IntegerArray>\n",
            "[16191, 16100, 16350, 16004, 16003, 16260, 16414, 16190, 16210, 16410, 16415,\n",
            " 16120, 16710, 16300,  <NA>, 16630, 16200, 16002, 16000, 16400, 16001, 16800,\n",
            " 16413, 16500, 16640, 16890, 16195, 16237, 16140, 16390]\n",
            "Length: 30, dtype: Int64\n",
            "['NEUROSENSORIAL' 'MIXTA' 'CONDUCTIVA' 'TEL']\n",
            "['DAP' 'DAS' 'DAM' 'DAL' 'NO REGISTRADO']\n",
            "['NO REGISTRADO']\n",
            "['2 IMPLANTES COCLEARES' '2 AUDÍFONOS' 'AUDIFONO' 'NO TIENE'\n",
            " 'AUDIFONO + IC' 'IC' '2 IC' '2 AUDIFONOS' 'AUDIFONOS']\n",
            "['ORAL']\n",
            "[0.7  0.41  nan 0.44 0.33 0.46 0.43 0.36 0.63 0.56 0.71 0.53 0.76 0.42\n",
            " 0.35 0.45 0.5  0.3  0.39 0.24 0.8  0.65]\n",
            "['SI' 'NO']\n"
          ]
        }
      ]
    },
    {
      "cell_type": "markdown",
      "source": [
        "Aquí podemos ver cuáles son las columnas que se tendrán en cuenta para este caso y sus datos."
      ],
      "metadata": {
        "id": "BoAn1uH0T7Hx"
      }
    },
    {
      "cell_type": "code",
      "source": [
        "CU_SAAF.info() # ESTO SE PUEDE BORRAR\n",
        "column_names = CU_SAAF.columns.tolist()\n",
        "print('\\n')\n",
        "\n",
        "for column in column_names:\n",
        "  unique_val = CU_SAAF[column].unique()\n",
        "  print(unique_val)"
      ],
      "metadata": {
        "colab": {
          "base_uri": "https://localhost:8080/"
        },
        "id": "1doWoxX2Jltq",
        "outputId": "a102b6b1-299d-4e95-f311-7dba73739426"
      },
      "execution_count": null,
      "outputs": [
        {
          "output_type": "stream",
          "name": "stdout",
          "text": [
            "<class 'pandas.core.frame.DataFrame'>\n",
            "RangeIndex: 77 entries, 0 to 76\n",
            "Data columns (total 9 columns):\n",
            " #   Column                  Non-Null Count  Dtype \n",
            "---  ------                  --------------  ----- \n",
            " 0   AÑO ATENCIÓN            77 non-null     int64 \n",
            " 1   FECHA NACIMIENTO        77 non-null     object\n",
            " 2   GÉNERO                  77 non-null     object\n",
            " 3   LOCALIDAD               77 non-null     object\n",
            " 4   CP                      74 non-null     Int64 \n",
            " 5   TIPO SORDERA            77 non-null     object\n",
            " 6   MOMENTO APARICIÓN       61 non-null     object\n",
            " 7   TIPO PRÓTESIS           77 non-null     object\n",
            " 8   MODALIDAD COMUNICATIVA  77 non-null     object\n",
            "dtypes: Int64(1), int64(1), object(7)\n",
            "memory usage: 5.6+ KB\n",
            "\n",
            "\n",
            "[2011 2012 2013 2014 2015 2016 2017 2018 2019 2020 2021 2022 2023 2024]\n",
            "['1993-02-05' '1975-07-10' '28/22/1995' '2008-09-16' '2008-09-25'\n",
            " '2007-10-26' '2008-08-08' '1995-08-02' '2005-10-13' '2010-12-29'\n",
            " '2006-11-17' '1999-10-14' '2010-12-14' '1961-05-20' '1990-09-11'\n",
            " '2003-08-26' '2008-12-22' '2010-03-04' '1982-05-24' '2011-10-29'\n",
            " '2012-12-12' '2012-12-14' '1950-08-26' '1959-06-18' '2014-01-02'\n",
            " '2012-09-17' '2013-09-04' '2007-09-19' '1976-05-12' '2012-05-24'\n",
            " '1961-08-14' '2009-01-01' '2015-11-11' '2016-05-18' '2014-12-28'\n",
            " '2006-03-12' '2016-08-11' '1986-08-13' '2016-10-10' '2017-02-07'\n",
            " '2016-01-15' '1951-10-13' '2006-04-22' '2017-10-13' '1935-04-12'\n",
            " '2018-06-20' '2018-03-02' '1945-08-10' '1949-08-28' '1941-06-22'\n",
            " '2008-04-07' '1955-06-12' '1993-03-05' '2019-12-19' '2020-03-31'\n",
            " '1997-10-02' '1992-01-19' '2019-07-15' '1974-12-07' '2021-04-07'\n",
            " '2020-06-05' '2019-07-29' '2018-10-20' '2020-07-01' '2020-04-23'\n",
            " '2020-04-15' '2020-03-03' '2020-07-23' '2020-11-04' '2020-10-15'\n",
            " '1905-06-25' '2016-09-04' '2018-07-31' '2008-08-22' '1969-07-12'\n",
            " '1946-05-13' '2019-11-23']\n",
            "['M' 'HOMBRE']\n",
            "['NOHALES' 'VALVERDE DEL JÚCAR' 'CARBONERAS' 'CUENCA' 'MINGLANILLA'\n",
            " 'POZORRUBIO' 'CHILLARÓN' 'CAMPILLO DE ALTOBUEY' 'TARANCÓN'\n",
            " 'VILLAMAYOR DE SANTIAGO' 'VALERA DE ABAJO' 'ATALAYA DE CAÑAVATE' 'CAÑETE'\n",
            " 'MOTA DEL CUERVO' 'MOTILLA DEL PALANCAR' 'PRIEGO' 'TORRUBIA DEL CAMPO'\n",
            " 'HUETE' 'BELMONTE' 'CAÑAMARES' 'VILLAR DE OLALLA' 'LEDAÑA'\n",
            " 'VILLALBA DE LA SIERRA' 'REILLO' 'HORCAJO DE SANTIAGO']\n",
            "<IntegerArray>\n",
            "[16191, 16100, 16350, 16004, 16003, 16260, 16414, 16190, 16210, 16410, 16415,\n",
            " 16120, 16710, 16300,  <NA>, 16630, 16200, 16002, 16000, 16400, 16001, 16800,\n",
            " 16413, 16500, 16640, 16890, 16195, 16237, 16140, 16390]\n",
            "Length: 30, dtype: Int64\n",
            "['NEUROSENSORIAL' 'MIXTA' 'CONDUCTIVA' 'TEL']\n",
            "['PRELOCUTIVA' 'POSTLOCUTIVA' 'PERILOCUTIVA' nan]\n",
            "['2 IMPLANTES COCLEARES' '2 AUDÍFONOS' 'AUDIFONO' 'NO TIENE'\n",
            " 'AUDIFONO + IC' 'IC' '2 IC' '2 AUDIFONOS' 'AUDIFONOS']\n",
            "['ORAL']\n"
          ]
        }
      ]
    },
    {
      "cell_type": "markdown",
      "source": [
        "**OJOOOOOOOO HAY QUE VER CÓMO PROCEDER PARA AQUELLOS REGISTROS CON DATOS NULOS EN LOS CAMPOS DE CP Y LOCALIDAD**\n",
        "\n",
        "¿¿SI HAY UNO DE LOS DOS DEJAMOS EL REGISTRO, PERO SI NO HAY NADA EN AMBOS CAMPOS LOS ELIMINAMOS??"
      ],
      "metadata": {
        "id": "5Caz70iSPETl"
      }
    },
    {
      "cell_type": "markdown",
      "source": [
        "Se crea un filtro booleano que coge aquellos registros con ambos campos nulos y se lo aplicamos al dataframe. Ya que aquellos registros sin geolocalización no nos sirven para el objetivo principal que es saber el impacto que se tiene en las diferentes zonas para desarrollar un plan de ampliación territorial estratégico basado en el estudio estadístico."
      ],
      "metadata": {
        "id": "I52DZXN9QMN7"
      }
    },
    {
      "cell_type": "code",
      "source": [
        "CU_SAAF = CU_SAAF.dropna(subset=['CP', 'LOCALIDAD'], how='all')\n",
        "\n",
        "CP_loc_filter = CU_SAAF['CP'].isnull() & CU_SAAF['LOCALIDAD'].isnull()\n",
        "\n",
        "CU_SAAF = CU_SAAF[~CP_loc_filter]"
      ],
      "metadata": {
        "id": "1CxJ0s9vPDpo"
      },
      "execution_count": null,
      "outputs": []
    },
    {
      "cell_type": "code",
      "source": [
        "CU_SAAF"
      ],
      "metadata": {
        "colab": {
          "base_uri": "https://localhost:8080/",
          "height": 580
        },
        "id": "SjVcTjrKQs94",
        "outputId": "bbd224f8-e483-4b64-86d9-c9f37075a887"
      },
      "execution_count": null,
      "outputs": [
        {
          "output_type": "execute_result",
          "data": {
            "text/plain": [
              "    AÑO ATENCIÓN FECHA NACIMIENTO  GÉNERO              LOCALIDAD     CP  \\\n",
              "0           2011       1993-02-05       M                NOHALES  16191   \n",
              "1           2011       1975-07-10       M     VALVERDE DEL JÚCAR  16100   \n",
              "2           2011       28/22/1995       M             CARBONERAS  16350   \n",
              "3           2011       2008-09-16       M                 CUENCA  16004   \n",
              "4           2011       2008-09-25       M                 CUENCA  16003   \n",
              "..           ...              ...     ...                    ...    ...   \n",
              "72          2018       2018-07-31  HOMBRE  VILLALBA DE LA SIERRA  16140   \n",
              "73          2018       2008-08-22  HOMBRE                 CUENCA  16004   \n",
              "74          2019       1969-07-12       M                 REILLO  16390   \n",
              "75          2024       1946-05-13       M       VILLAR DE OLALLA  16195   \n",
              "76          2024       2019-11-23       M    HORCAJO DE SANTIAGO  16410   \n",
              "\n",
              "      TIPO SORDERA MOMENTO APARICIÓN          TIPO PRÓTESIS  \\\n",
              "0   NEUROSENSORIAL       PRELOCUTIVA  2 IMPLANTES COCLEARES   \n",
              "1   NEUROSENSORIAL      POSTLOCUTIVA  2 IMPLANTES COCLEARES   \n",
              "2   NEUROSENSORIAL       PRELOCUTIVA  2 IMPLANTES COCLEARES   \n",
              "3            MIXTA       PRELOCUTIVA  2 IMPLANTES COCLEARES   \n",
              "4   NEUROSENSORIAL       PRELOCUTIVA  2 IMPLANTES COCLEARES   \n",
              "..             ...               ...                    ...   \n",
              "72      CONDUCTIVA       PRELOCUTIVA               NO TIENE   \n",
              "73           MIXTA       PRELOCUTIVA               NO TIENE   \n",
              "74  NEUROSENSORIAL      POSTLOCUTIVA          AUDIFONO + IC   \n",
              "75  NEUROSENSORIAL      POSTLOCUTIVA               NO TIENE   \n",
              "76  NEUROSENSORIAL       PRELOCUTIVA                     IC   \n",
              "\n",
              "   MODALIDAD COMUNICATIVA  \n",
              "0                    ORAL  \n",
              "1                    ORAL  \n",
              "2                    ORAL  \n",
              "3                    ORAL  \n",
              "4                    ORAL  \n",
              "..                    ...  \n",
              "72                   ORAL  \n",
              "73                   ORAL  \n",
              "74                   ORAL  \n",
              "75                   ORAL  \n",
              "76                   ORAL  \n",
              "\n",
              "[77 rows x 9 columns]"
            ],
            "text/html": [
              "\n",
              "  <div id=\"df-2a472474-dbe9-4d06-9417-13704c86d265\" class=\"colab-df-container\">\n",
              "    <div>\n",
              "<style scoped>\n",
              "    .dataframe tbody tr th:only-of-type {\n",
              "        vertical-align: middle;\n",
              "    }\n",
              "\n",
              "    .dataframe tbody tr th {\n",
              "        vertical-align: top;\n",
              "    }\n",
              "\n",
              "    .dataframe thead th {\n",
              "        text-align: right;\n",
              "    }\n",
              "</style>\n",
              "<table border=\"1\" class=\"dataframe\">\n",
              "  <thead>\n",
              "    <tr style=\"text-align: right;\">\n",
              "      <th></th>\n",
              "      <th>AÑO ATENCIÓN</th>\n",
              "      <th>FECHA NACIMIENTO</th>\n",
              "      <th>GÉNERO</th>\n",
              "      <th>LOCALIDAD</th>\n",
              "      <th>CP</th>\n",
              "      <th>TIPO SORDERA</th>\n",
              "      <th>MOMENTO APARICIÓN</th>\n",
              "      <th>TIPO PRÓTESIS</th>\n",
              "      <th>MODALIDAD COMUNICATIVA</th>\n",
              "    </tr>\n",
              "  </thead>\n",
              "  <tbody>\n",
              "    <tr>\n",
              "      <th>0</th>\n",
              "      <td>2011</td>\n",
              "      <td>1993-02-05</td>\n",
              "      <td>M</td>\n",
              "      <td>NOHALES</td>\n",
              "      <td>16191</td>\n",
              "      <td>NEUROSENSORIAL</td>\n",
              "      <td>PRELOCUTIVA</td>\n",
              "      <td>2 IMPLANTES COCLEARES</td>\n",
              "      <td>ORAL</td>\n",
              "    </tr>\n",
              "    <tr>\n",
              "      <th>1</th>\n",
              "      <td>2011</td>\n",
              "      <td>1975-07-10</td>\n",
              "      <td>M</td>\n",
              "      <td>VALVERDE DEL JÚCAR</td>\n",
              "      <td>16100</td>\n",
              "      <td>NEUROSENSORIAL</td>\n",
              "      <td>POSTLOCUTIVA</td>\n",
              "      <td>2 IMPLANTES COCLEARES</td>\n",
              "      <td>ORAL</td>\n",
              "    </tr>\n",
              "    <tr>\n",
              "      <th>2</th>\n",
              "      <td>2011</td>\n",
              "      <td>28/22/1995</td>\n",
              "      <td>M</td>\n",
              "      <td>CARBONERAS</td>\n",
              "      <td>16350</td>\n",
              "      <td>NEUROSENSORIAL</td>\n",
              "      <td>PRELOCUTIVA</td>\n",
              "      <td>2 IMPLANTES COCLEARES</td>\n",
              "      <td>ORAL</td>\n",
              "    </tr>\n",
              "    <tr>\n",
              "      <th>3</th>\n",
              "      <td>2011</td>\n",
              "      <td>2008-09-16</td>\n",
              "      <td>M</td>\n",
              "      <td>CUENCA</td>\n",
              "      <td>16004</td>\n",
              "      <td>MIXTA</td>\n",
              "      <td>PRELOCUTIVA</td>\n",
              "      <td>2 IMPLANTES COCLEARES</td>\n",
              "      <td>ORAL</td>\n",
              "    </tr>\n",
              "    <tr>\n",
              "      <th>4</th>\n",
              "      <td>2011</td>\n",
              "      <td>2008-09-25</td>\n",
              "      <td>M</td>\n",
              "      <td>CUENCA</td>\n",
              "      <td>16003</td>\n",
              "      <td>NEUROSENSORIAL</td>\n",
              "      <td>PRELOCUTIVA</td>\n",
              "      <td>2 IMPLANTES COCLEARES</td>\n",
              "      <td>ORAL</td>\n",
              "    </tr>\n",
              "    <tr>\n",
              "      <th>...</th>\n",
              "      <td>...</td>\n",
              "      <td>...</td>\n",
              "      <td>...</td>\n",
              "      <td>...</td>\n",
              "      <td>...</td>\n",
              "      <td>...</td>\n",
              "      <td>...</td>\n",
              "      <td>...</td>\n",
              "      <td>...</td>\n",
              "    </tr>\n",
              "    <tr>\n",
              "      <th>72</th>\n",
              "      <td>2018</td>\n",
              "      <td>2018-07-31</td>\n",
              "      <td>HOMBRE</td>\n",
              "      <td>VILLALBA DE LA SIERRA</td>\n",
              "      <td>16140</td>\n",
              "      <td>CONDUCTIVA</td>\n",
              "      <td>PRELOCUTIVA</td>\n",
              "      <td>NO TIENE</td>\n",
              "      <td>ORAL</td>\n",
              "    </tr>\n",
              "    <tr>\n",
              "      <th>73</th>\n",
              "      <td>2018</td>\n",
              "      <td>2008-08-22</td>\n",
              "      <td>HOMBRE</td>\n",
              "      <td>CUENCA</td>\n",
              "      <td>16004</td>\n",
              "      <td>MIXTA</td>\n",
              "      <td>PRELOCUTIVA</td>\n",
              "      <td>NO TIENE</td>\n",
              "      <td>ORAL</td>\n",
              "    </tr>\n",
              "    <tr>\n",
              "      <th>74</th>\n",
              "      <td>2019</td>\n",
              "      <td>1969-07-12</td>\n",
              "      <td>M</td>\n",
              "      <td>REILLO</td>\n",
              "      <td>16390</td>\n",
              "      <td>NEUROSENSORIAL</td>\n",
              "      <td>POSTLOCUTIVA</td>\n",
              "      <td>AUDIFONO + IC</td>\n",
              "      <td>ORAL</td>\n",
              "    </tr>\n",
              "    <tr>\n",
              "      <th>75</th>\n",
              "      <td>2024</td>\n",
              "      <td>1946-05-13</td>\n",
              "      <td>M</td>\n",
              "      <td>VILLAR DE OLALLA</td>\n",
              "      <td>16195</td>\n",
              "      <td>NEUROSENSORIAL</td>\n",
              "      <td>POSTLOCUTIVA</td>\n",
              "      <td>NO TIENE</td>\n",
              "      <td>ORAL</td>\n",
              "    </tr>\n",
              "    <tr>\n",
              "      <th>76</th>\n",
              "      <td>2024</td>\n",
              "      <td>2019-11-23</td>\n",
              "      <td>M</td>\n",
              "      <td>HORCAJO DE SANTIAGO</td>\n",
              "      <td>16410</td>\n",
              "      <td>NEUROSENSORIAL</td>\n",
              "      <td>PRELOCUTIVA</td>\n",
              "      <td>IC</td>\n",
              "      <td>ORAL</td>\n",
              "    </tr>\n",
              "  </tbody>\n",
              "</table>\n",
              "<p>77 rows × 9 columns</p>\n",
              "</div>\n",
              "    <div class=\"colab-df-buttons\">\n",
              "\n",
              "  <div class=\"colab-df-container\">\n",
              "    <button class=\"colab-df-convert\" onclick=\"convertToInteractive('df-2a472474-dbe9-4d06-9417-13704c86d265')\"\n",
              "            title=\"Convert this dataframe to an interactive table.\"\n",
              "            style=\"display:none;\">\n",
              "\n",
              "  <svg xmlns=\"http://www.w3.org/2000/svg\" height=\"24px\" viewBox=\"0 -960 960 960\">\n",
              "    <path d=\"M120-120v-720h720v720H120Zm60-500h600v-160H180v160Zm220 220h160v-160H400v160Zm0 220h160v-160H400v160ZM180-400h160v-160H180v160Zm440 0h160v-160H620v160ZM180-180h160v-160H180v160Zm440 0h160v-160H620v160Z\"/>\n",
              "  </svg>\n",
              "    </button>\n",
              "\n",
              "  <style>\n",
              "    .colab-df-container {\n",
              "      display:flex;\n",
              "      gap: 12px;\n",
              "    }\n",
              "\n",
              "    .colab-df-convert {\n",
              "      background-color: #E8F0FE;\n",
              "      border: none;\n",
              "      border-radius: 50%;\n",
              "      cursor: pointer;\n",
              "      display: none;\n",
              "      fill: #1967D2;\n",
              "      height: 32px;\n",
              "      padding: 0 0 0 0;\n",
              "      width: 32px;\n",
              "    }\n",
              "\n",
              "    .colab-df-convert:hover {\n",
              "      background-color: #E2EBFA;\n",
              "      box-shadow: 0px 1px 2px rgba(60, 64, 67, 0.3), 0px 1px 3px 1px rgba(60, 64, 67, 0.15);\n",
              "      fill: #174EA6;\n",
              "    }\n",
              "\n",
              "    .colab-df-buttons div {\n",
              "      margin-bottom: 4px;\n",
              "    }\n",
              "\n",
              "    [theme=dark] .colab-df-convert {\n",
              "      background-color: #3B4455;\n",
              "      fill: #D2E3FC;\n",
              "    }\n",
              "\n",
              "    [theme=dark] .colab-df-convert:hover {\n",
              "      background-color: #434B5C;\n",
              "      box-shadow: 0px 1px 3px 1px rgba(0, 0, 0, 0.15);\n",
              "      filter: drop-shadow(0px 1px 2px rgba(0, 0, 0, 0.3));\n",
              "      fill: #FFFFFF;\n",
              "    }\n",
              "  </style>\n",
              "\n",
              "    <script>\n",
              "      const buttonEl =\n",
              "        document.querySelector('#df-2a472474-dbe9-4d06-9417-13704c86d265 button.colab-df-convert');\n",
              "      buttonEl.style.display =\n",
              "        google.colab.kernel.accessAllowed ? 'block' : 'none';\n",
              "\n",
              "      async function convertToInteractive(key) {\n",
              "        const element = document.querySelector('#df-2a472474-dbe9-4d06-9417-13704c86d265');\n",
              "        const dataTable =\n",
              "          await google.colab.kernel.invokeFunction('convertToInteractive',\n",
              "                                                    [key], {});\n",
              "        if (!dataTable) return;\n",
              "\n",
              "        const docLinkHtml = 'Like what you see? Visit the ' +\n",
              "          '<a target=\"_blank\" href=https://colab.research.google.com/notebooks/data_table.ipynb>data table notebook</a>'\n",
              "          + ' to learn more about interactive tables.';\n",
              "        element.innerHTML = '';\n",
              "        dataTable['output_type'] = 'display_data';\n",
              "        await google.colab.output.renderOutput(dataTable, element);\n",
              "        const docLink = document.createElement('div');\n",
              "        docLink.innerHTML = docLinkHtml;\n",
              "        element.appendChild(docLink);\n",
              "      }\n",
              "    </script>\n",
              "  </div>\n",
              "\n",
              "\n",
              "<div id=\"df-a0fac239-5d27-4e8f-959b-62a2cb035058\">\n",
              "  <button class=\"colab-df-quickchart\" onclick=\"quickchart('df-a0fac239-5d27-4e8f-959b-62a2cb035058')\"\n",
              "            title=\"Suggest charts\"\n",
              "            style=\"display:none;\">\n",
              "\n",
              "<svg xmlns=\"http://www.w3.org/2000/svg\" height=\"24px\"viewBox=\"0 0 24 24\"\n",
              "     width=\"24px\">\n",
              "    <g>\n",
              "        <path d=\"M19 3H5c-1.1 0-2 .9-2 2v14c0 1.1.9 2 2 2h14c1.1 0 2-.9 2-2V5c0-1.1-.9-2-2-2zM9 17H7v-7h2v7zm4 0h-2V7h2v10zm4 0h-2v-4h2v4z\"/>\n",
              "    </g>\n",
              "</svg>\n",
              "  </button>\n",
              "\n",
              "<style>\n",
              "  .colab-df-quickchart {\n",
              "      --bg-color: #E8F0FE;\n",
              "      --fill-color: #1967D2;\n",
              "      --hover-bg-color: #E2EBFA;\n",
              "      --hover-fill-color: #174EA6;\n",
              "      --disabled-fill-color: #AAA;\n",
              "      --disabled-bg-color: #DDD;\n",
              "  }\n",
              "\n",
              "  [theme=dark] .colab-df-quickchart {\n",
              "      --bg-color: #3B4455;\n",
              "      --fill-color: #D2E3FC;\n",
              "      --hover-bg-color: #434B5C;\n",
              "      --hover-fill-color: #FFFFFF;\n",
              "      --disabled-bg-color: #3B4455;\n",
              "      --disabled-fill-color: #666;\n",
              "  }\n",
              "\n",
              "  .colab-df-quickchart {\n",
              "    background-color: var(--bg-color);\n",
              "    border: none;\n",
              "    border-radius: 50%;\n",
              "    cursor: pointer;\n",
              "    display: none;\n",
              "    fill: var(--fill-color);\n",
              "    height: 32px;\n",
              "    padding: 0;\n",
              "    width: 32px;\n",
              "  }\n",
              "\n",
              "  .colab-df-quickchart:hover {\n",
              "    background-color: var(--hover-bg-color);\n",
              "    box-shadow: 0 1px 2px rgba(60, 64, 67, 0.3), 0 1px 3px 1px rgba(60, 64, 67, 0.15);\n",
              "    fill: var(--button-hover-fill-color);\n",
              "  }\n",
              "\n",
              "  .colab-df-quickchart-complete:disabled,\n",
              "  .colab-df-quickchart-complete:disabled:hover {\n",
              "    background-color: var(--disabled-bg-color);\n",
              "    fill: var(--disabled-fill-color);\n",
              "    box-shadow: none;\n",
              "  }\n",
              "\n",
              "  .colab-df-spinner {\n",
              "    border: 2px solid var(--fill-color);\n",
              "    border-color: transparent;\n",
              "    border-bottom-color: var(--fill-color);\n",
              "    animation:\n",
              "      spin 1s steps(1) infinite;\n",
              "  }\n",
              "\n",
              "  @keyframes spin {\n",
              "    0% {\n",
              "      border-color: transparent;\n",
              "      border-bottom-color: var(--fill-color);\n",
              "      border-left-color: var(--fill-color);\n",
              "    }\n",
              "    20% {\n",
              "      border-color: transparent;\n",
              "      border-left-color: var(--fill-color);\n",
              "      border-top-color: var(--fill-color);\n",
              "    }\n",
              "    30% {\n",
              "      border-color: transparent;\n",
              "      border-left-color: var(--fill-color);\n",
              "      border-top-color: var(--fill-color);\n",
              "      border-right-color: var(--fill-color);\n",
              "    }\n",
              "    40% {\n",
              "      border-color: transparent;\n",
              "      border-right-color: var(--fill-color);\n",
              "      border-top-color: var(--fill-color);\n",
              "    }\n",
              "    60% {\n",
              "      border-color: transparent;\n",
              "      border-right-color: var(--fill-color);\n",
              "    }\n",
              "    80% {\n",
              "      border-color: transparent;\n",
              "      border-right-color: var(--fill-color);\n",
              "      border-bottom-color: var(--fill-color);\n",
              "    }\n",
              "    90% {\n",
              "      border-color: transparent;\n",
              "      border-bottom-color: var(--fill-color);\n",
              "    }\n",
              "  }\n",
              "</style>\n",
              "\n",
              "  <script>\n",
              "    async function quickchart(key) {\n",
              "      const quickchartButtonEl =\n",
              "        document.querySelector('#' + key + ' button');\n",
              "      quickchartButtonEl.disabled = true;  // To prevent multiple clicks.\n",
              "      quickchartButtonEl.classList.add('colab-df-spinner');\n",
              "      try {\n",
              "        const charts = await google.colab.kernel.invokeFunction(\n",
              "            'suggestCharts', [key], {});\n",
              "      } catch (error) {\n",
              "        console.error('Error during call to suggestCharts:', error);\n",
              "      }\n",
              "      quickchartButtonEl.classList.remove('colab-df-spinner');\n",
              "      quickchartButtonEl.classList.add('colab-df-quickchart-complete');\n",
              "    }\n",
              "    (() => {\n",
              "      let quickchartButtonEl =\n",
              "        document.querySelector('#df-a0fac239-5d27-4e8f-959b-62a2cb035058 button');\n",
              "      quickchartButtonEl.style.display =\n",
              "        google.colab.kernel.accessAllowed ? 'block' : 'none';\n",
              "    })();\n",
              "  </script>\n",
              "</div>\n",
              "    </div>\n",
              "  </div>\n"
            ],
            "application/vnd.google.colaboratory.intrinsic+json": {
              "type": "dataframe",
              "variable_name": "CU_SAAF",
              "summary": "{\n  \"name\": \"CU_SAAF\",\n  \"rows\": 77,\n  \"fields\": [\n    {\n      \"column\": \"A\\u00d1O ATENCI\\u00d3N\",\n      \"properties\": {\n        \"dtype\": \"number\",\n        \"std\": 4,\n        \"min\": 2011,\n        \"max\": 2024,\n        \"num_unique_values\": 14,\n        \"samples\": [\n          2020,\n          2022,\n          2011\n        ],\n        \"semantic_type\": \"\",\n        \"description\": \"\"\n      }\n    },\n    {\n      \"column\": \"FECHA NACIMIENTO\",\n      \"properties\": {\n        \"dtype\": \"string\",\n        \"num_unique_values\": 77,\n        \"samples\": [\n          \"2008-09-25\",\n          \"2006-03-12\",\n          \"2006-11-17\"\n        ],\n        \"semantic_type\": \"\",\n        \"description\": \"\"\n      }\n    },\n    {\n      \"column\": \"G\\u00c9NERO\",\n      \"properties\": {\n        \"dtype\": \"category\",\n        \"num_unique_values\": 2,\n        \"samples\": [\n          \"HOMBRE\",\n          \"M\"\n        ],\n        \"semantic_type\": \"\",\n        \"description\": \"\"\n      }\n    },\n    {\n      \"column\": \"LOCALIDAD\",\n      \"properties\": {\n        \"dtype\": \"category\",\n        \"num_unique_values\": 25,\n        \"samples\": [\n          \"TARANC\\u00d3N\",\n          \"TORRUBIA DEL CAMPO\"\n        ],\n        \"semantic_type\": \"\",\n        \"description\": \"\"\n      }\n    },\n    {\n      \"column\": \"CP\",\n      \"properties\": {\n        \"dtype\": \"Int64\",\n        \"num_unique_values\": 29,\n        \"samples\": [\n          \"16140\",\n          \"16002\"\n        ],\n        \"semantic_type\": \"\",\n        \"description\": \"\"\n      }\n    },\n    {\n      \"column\": \"TIPO SORDERA\",\n      \"properties\": {\n        \"dtype\": \"category\",\n        \"num_unique_values\": 4,\n        \"samples\": [\n          \"MIXTA\",\n          \"TEL\"\n        ],\n        \"semantic_type\": \"\",\n        \"description\": \"\"\n      }\n    },\n    {\n      \"column\": \"MOMENTO APARICI\\u00d3N\",\n      \"properties\": {\n        \"dtype\": \"category\",\n        \"num_unique_values\": 3,\n        \"samples\": [\n          \"PRELOCUTIVA\",\n          \"POSTLOCUTIVA\"\n        ],\n        \"semantic_type\": \"\",\n        \"description\": \"\"\n      }\n    },\n    {\n      \"column\": \"TIPO PR\\u00d3TESIS\",\n      \"properties\": {\n        \"dtype\": \"category\",\n        \"num_unique_values\": 9,\n        \"samples\": [\n          \"2 AUDIFONOS\",\n          \"2 AUD\\u00cdFONOS\"\n        ],\n        \"semantic_type\": \"\",\n        \"description\": \"\"\n      }\n    },\n    {\n      \"column\": \"MODALIDAD COMUNICATIVA\",\n      \"properties\": {\n        \"dtype\": \"category\",\n        \"num_unique_values\": 1,\n        \"samples\": [\n          \"ORAL\"\n        ],\n        \"semantic_type\": \"\",\n        \"description\": \"\"\n      }\n    }\n  ]\n}"
            }
          },
          "metadata": {},
          "execution_count": 56
        }
      ]
    }
  ]
}