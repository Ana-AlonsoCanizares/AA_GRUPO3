{
  "cells": [
    {
      "cell_type": "markdown",
      "metadata": {
        "id": "view-in-github",
        "colab_type": "text"
      },
      "source": [
        "<a href=\"https://colab.research.google.com/github/Ana-AlonsoCanizares/AA_GRUPO3/blob/main/Limpieza_AT.ipynb\" target=\"_parent\"><img src=\"https://colab.research.google.com/assets/colab-badge.svg\" alt=\"Open In Colab\"/></a>"
      ]
    },
    {
      "cell_type": "markdown",
      "source": [
        "#**Faltan los datos de Guadalajara de AT**\n"
      ],
      "metadata": {
        "id": "v018wrST81Fb"
      }
    },
    {
      "cell_type": "code",
      "source": [
        "# from google.colab import drive\n",
        "# drive.mount('/content/drive')"
      ],
      "metadata": {
        "id": "fKfBUap_RjEA"
      },
      "execution_count": 1,
      "outputs": []
    },
    {
      "cell_type": "code",
      "source": [
        "pip install unidecode"
      ],
      "metadata": {
        "id": "KnFkLXsMRn5d",
        "outputId": "5a4d641b-d3a5-4bda-dd9b-c8322c53b71e",
        "colab": {
          "base_uri": "https://localhost:8080/"
        }
      },
      "execution_count": 2,
      "outputs": [
        {
          "output_type": "stream",
          "name": "stdout",
          "text": [
            "Collecting unidecode\n",
            "  Downloading Unidecode-1.3.8-py3-none-any.whl (235 kB)\n",
            "\u001b[2K     \u001b[90m━━━━━━━━━━━━━━━━━━━━━━━━━━━━━━━━━━━━━━━━\u001b[0m \u001b[32m235.5/235.5 kB\u001b[0m \u001b[31m2.7 MB/s\u001b[0m eta \u001b[36m0:00:00\u001b[0m\n",
            "\u001b[?25hInstalling collected packages: unidecode\n",
            "Successfully installed unidecode-1.3.8\n"
          ]
        }
      ]
    },
    {
      "cell_type": "code",
      "source": [
        "import os\n",
        "import pandas as pd\n",
        "import numpy as np\n",
        "from unidecode import unidecode\n",
        "import matplotlib.pyplot as plt"
      ],
      "metadata": {
        "id": "us_9Si-LRpIO"
      },
      "execution_count": 3,
      "outputs": []
    },
    {
      "cell_type": "code",
      "source": [
        "# # Asegúrarse de cambiar la ruta por el nombre real de la carpeta en Google Drive\n",
        "# folder_path = '/content/drive/My Drive/PFG_FASPAS/SAAF'\n",
        "# docs_xlsx = [f for f in os.listdir(folder_path) if f.endswith('.xlsx')]\n",
        "# print(docs_xlsx)\n",
        "\n",
        "# # Asegúrarse de cambiar la ruta por el nombre real de la carpeta en Google Drive\n",
        "# folder_path_csv = '/content/drive/My Drive/PFG_FASPAS/Zonas_Prioritarias'\n",
        "# docs_csv = [f for f in os.listdir(folder_path_csv) if f.endswith('.csv')]\n",
        "# print(docs_csv)"
      ],
      "metadata": {
        "id": "ng3k6yBpRq8j"
      },
      "execution_count": 4,
      "outputs": []
    },
    {
      "cell_type": "code",
      "source": [
        "# dic_dataframes = {}\n",
        "# dic_zonas = {}\n",
        "\n",
        "# for doc in docs_xlsx:\n",
        "#     entire_path = os.path.join(folder_path, doc)\n",
        "#     df = pd.read_excel(entire_path)\n",
        "#     # Uso el nombre del archivo como clave\n",
        "#     dic_dataframes[doc] = df\n",
        "\n",
        "# for doc in docs_csv:\n",
        "#   entire_path = os.path.join(folder_path_csv, doc)\n",
        "#   df = pd.read_csv(entire_path)\n",
        "#   # Uso el nombre del archivo como clave\n",
        "#   dic_zonas[doc] = df\n",
        "\n",
        "# # Imprimir todas las claves\n",
        "# for clave in dic_dataframes.keys():\n",
        "#     print(clave)"
      ],
      "metadata": {
        "id": "xQj4iHjmRtu6"
      },
      "execution_count": 5,
      "outputs": []
    },
    {
      "cell_type": "code",
      "source": [
        "# CU_SAAF = dic_dataframes.get(\"CU_SAAF.xlsx\")\n",
        "# CU_AT = dic_dataframes.get(\"CU_AT.xlsx\")\n",
        "# CU_EMPLEO = dic_dataframes.get(\"CU_EMPLEO.xlsx\")\n",
        "# CU_LOG = dic_dataframes.get(\"CU_LOG.xlsx\")\n",
        "# # CU_SOCIOS = dic_dataframes.get(\"CU_SOCIOS.xlsx\")"
      ],
      "metadata": {
        "id": "PdTbQUpQRvy4"
      },
      "execution_count": 6,
      "outputs": []
    },
    {
      "cell_type": "code",
      "source": [
        "# CÓDIGO SOLO PARA EL CURRO (PQ NO PUEDO ACCEDER AL DRIVE)\n",
        "# Primero cogemos todos los trimestres de CU para probar\n",
        "CU_Trim1_2022_AT = pd.read_excel('/content/CU_Trim1_2022_AT.xlsx')\n",
        "CU_Trim2_2022_AT = pd.read_excel('/content/CU_Trim2_2022_AT.xlsx')\n",
        "CU_Trim3_2022_AT = pd.read_excel('/content/CU_Trim3_2022_AT.xlsx')\n",
        "CU_Trim4_2022_AT = pd.read_excel('/content/CU_Trim4_2022_AT.xlsx')\n",
        "CU_Trim1_2023_AT = pd.read_excel('/content/CU_Trim1_2023_AT.xlsx')\n",
        "CU_Trim2_2023_AT = pd.read_excel('/content/CU_Trim2_2023_AT.xlsx')\n",
        "CU_Trim3_2023_AT = pd.read_excel('/content/CU_Trim3_2023_AT.xlsx')\n",
        "CU_Trim4_2023_AT = pd.read_excel('/content/CU_Trim4_2023_AT.xlsx')"
      ],
      "metadata": {
        "id": "yFITrDMYRx5v"
      },
      "execution_count": 111,
      "outputs": []
    },
    {
      "cell_type": "code",
      "source": [
        "# Definir la función que realiza las transformaciones\n",
        "def transform_df(df):\n",
        "    col_excluded = ['FECHA NACIMIENTO', 'FECHA DE NACIMIENTO', 'FECHA NAC']\n",
        "\n",
        "    # Convertir todas las columnas de tipo object a mayúsculas, excepto las especificadas\n",
        "    for column in df.columns:\n",
        "        if df[column].dtype == 'object' and column not in col_excluded:\n",
        "            df[column] = df[column].apply(lambda x: unidecode(x.upper()) if isinstance(x, str) else x)\n",
        "\n",
        "    # Ahora, aplicamos unidecode a los nombres de las columnas\n",
        "    df.columns = [unidecode(col.upper()) for col in df.columns]\n",
        "\n",
        "    return df\n",
        "\n",
        "def add_trim(df, trim):\n",
        "    df['YEAR - TRIMESTRE'] = trim\n",
        "    return df\n",
        "\n",
        "def kept_columns(df):\n",
        "  # Lista de columnas a quedarse\n",
        "  all_needed_columns = ['FECHA NACIMIENTO (DD/MM/AAAA)', 'SEXO\\n(DESPLEGABLE)', 'CODIGO POSTAL', 'PROVINCIA\\n(DESPLEGABLE)', 'LOCALIDAD', 'MOTIVO DE DERIVACION', 'GRADO DISCAPACIDAD\\n(INDICAR PORCENTAJE O DEJAR EN BLANCO)', 'YEAR - TRIMESTRE']\n",
        "  df = df[df.columns.intersection(all_needed_columns)]\n",
        "  return df\n",
        "\n",
        "def mapping_names(df):\n",
        "    # Diccionario con los mapeos deseados\n",
        "    columns_map = {\n",
        "        'SEXO\\n(DESPLEGABLE)': 'GENERO',\n",
        "        'FECHA NACIMIENTO (DD/MM/AAAA)': 'FECHA NACIMIENTO',\n",
        "        'CODIGO POSTAL': 'CP',\n",
        "        'MOTIVO DE DERIVACION': 'MOTIVO DERIVACION',\n",
        "        'PROVINCIA\\n(DESPLEGABLE)': 'PROVINCIA',\n",
        "        'GRADO DISCAPACIDAD\\n(INDICAR PORCENTAJE O DEJAR EN BLANCO)': 'GRADO DISCAPACIDAD'\n",
        "    }\n",
        "\n",
        "    # Crear un nuevo diccionario para los nombres de columnas\n",
        "    rename_columns = {}\n",
        "\n",
        "    # Iterar sobre las columnas y aplicar el mapeo\n",
        "    for col in df.columns:\n",
        "        norm_col = columns_map.get(col, col)\n",
        "        rename_columns[col] = norm_col\n",
        "\n",
        "    # Renombrar las columnas del DataFrame\n",
        "    df.rename(columns=rename_columns, inplace=True)\n",
        "    return df\n",
        "\n",
        "def CP_loc(df):\n",
        "\n",
        "  df['CP'] =df['CP'].astype('Int64')\n",
        "\n",
        "  df['YEAR NACIMIENTO'] = df['FECHA NACIMIENTO'].dt.year\n",
        "\n",
        "  df = df.dropna(subset=['CP', 'LOCALIDAD'], how='all')\n",
        "\n",
        "  CP_loc_filter = df['CP'].isnull() & df['LOCALIDAD'].isnull()\n",
        "\n",
        "  df = df[~CP_loc_filter]\n",
        "  return df\n",
        "\n",
        "def entire_df(df, columns):\n",
        "  # Eliminamos duplicados en las columnas de identificación\n",
        "  df.drop_duplicates(subset=columns, inplace=True)\n",
        "\n",
        "  # Agrupamos por las columnas de identificación personales y contamos las apariciones por trimestre\n",
        "  grouped = df.groupby(['FECHA NACIMIENTO', 'GENERO', 'CP', 'PROVINCIA', 'LOCALIDAD', 'MOTIVO DERIVACION', 'GRADO DISCAPACIDAD', 'YEAR NACIMIENTO'])\n",
        "\n",
        "  # Creamos un DataFrame con la cantidad de apariciones por trimestre\n",
        "  df_return = grouped['YEAR - TRIMESTRE'].value_counts().unstack(fill_value=0).reset_index()\n",
        "\n",
        "  # Cambiamos los nombres de las columnas para que sean más específicos\n",
        "  new_column_names = {trimestre: f'{trimestre.replace(\" \", \"_\")}' for trimestre in df_return.columns if 'TRIM' in trimestre}\n",
        "  df_return.rename(columns=new_column_names, inplace=True)\n",
        "  return df_return"
      ],
      "metadata": {
        "id": "uc0_mJa-TJSn"
      },
      "execution_count": 110,
      "outputs": []
    },
    {
      "cell_type": "code",
      "source": [
        "CU_Trim1_2022_AT = transform_df(CU_Trim1_2022_AT)\n",
        "CU_Trim1_2022_AT = add_trim(CU_Trim1_2022_AT, '2022 TRIM 1')\n",
        "CU_Trim1_2022_AT = kept_columns(CU_Trim1_2022_AT)\n",
        "CU_Trim1_2022_AT = mapping_names(CU_Trim1_2022_AT)\n",
        "CU_Trim1_2022_AT = CP_loc(CU_Trim1_2022_AT)\n",
        "\n",
        "CU_Trim2_2022_AT = transform_df(CU_Trim2_2022_AT)\n",
        "CU_Trim2_2022_AT = add_trim(CU_Trim2_2022_AT, '2022 TRIM 2')\n",
        "CU_Trim2_2022_AT = kept_columns(CU_Trim2_2022_AT)\n",
        "CU_Trim2_2022_AT = mapping_names(CU_Trim2_2022_AT)\n",
        "CU_Trim2_2022_AT = CP_loc(CU_Trim2_2022_AT)\n",
        "\n",
        "CU_Trim3_2022_AT = transform_df(CU_Trim3_2022_AT)\n",
        "CU_Trim3_2022_AT = add_trim(CU_Trim3_2022_AT, '2022 TRIM 3')\n",
        "CU_Trim3_2022_AT = kept_columns(CU_Trim3_2022_AT)\n",
        "CU_Trim3_2022_AT = mapping_names(CU_Trim3_2022_AT)\n",
        "CU_Trim3_2022_AT = CP_loc(CU_Trim3_2022_AT)\n",
        "\n",
        "CU_Trim4_2022_AT = transform_df(CU_Trim4_2022_AT)\n",
        "CU_Trim4_2022_AT = add_trim(CU_Trim4_2022_AT, '2022 TRIM 4')\n",
        "CU_Trim4_2022_AT = kept_columns(CU_Trim4_2022_AT)\n",
        "CU_Trim4_2022_AT = mapping_names(CU_Trim4_2022_AT)\n",
        "CU_Trim4_2022_AT = CP_loc(CU_Trim4_2022_AT)\n",
        "\n",
        "CU_Trim1_2023_AT = transform_df(CU_Trim1_2023_AT)\n",
        "CU_Trim1_2023_AT = add_trim(CU_Trim1_2023_AT, '2023 TRIM 1')\n",
        "CU_Trim1_2023_AT = kept_columns(CU_Trim1_2023_AT)\n",
        "CU_Trim1_2023_AT = mapping_names(CU_Trim1_2023_AT)\n",
        "CU_Trim1_2023_AT = CP_loc(CU_Trim1_2023_AT)\n",
        "\n",
        "CU_Trim2_2023_AT = transform_df(CU_Trim2_2023_AT)\n",
        "CU_Trim2_2023_AT = add_trim(CU_Trim2_2023_AT, '2023 TRIM 2')\n",
        "CU_Trim2_2023_AT = kept_columns(CU_Trim2_2023_AT)\n",
        "CU_Trim2_2023_AT = mapping_names(CU_Trim2_2023_AT)\n",
        "CU_Trim2_2023_AT = CP_loc(CU_Trim2_2023_AT)\n",
        "\n",
        "CU_Trim3_2023_AT = transform_df(CU_Trim3_2023_AT)\n",
        "CU_Trim3_2023_AT = add_trim(CU_Trim3_2023_AT, '2023 TRIM 3')\n",
        "CU_Trim3_2023_AT = kept_columns(CU_Trim3_2023_AT)\n",
        "CU_Trim3_2023_AT = mapping_names(CU_Trim3_2023_AT)\n",
        "CU_Trim3_2023_AT = CP_loc(CU_Trim3_2023_AT)\n",
        "\n",
        "CU_Trim4_2023_AT = transform_df(CU_Trim4_2023_AT)\n",
        "CU_Trim4_2023_AT = add_trim(CU_Trim4_2023_AT, '2023 TRIM 4')\n",
        "CU_Trim4_2023_AT = kept_columns(CU_Trim4_2023_AT)\n",
        "CU_Trim4_2023_AT = mapping_names(CU_Trim4_2023_AT)\n",
        "CU_Trim4_2023_AT = CP_loc(CU_Trim4_2023_AT)\n",
        "\n",
        "# Concatenamos todos los DataFrames (Asegúrate de que todos tienen las mismas columnas)\n",
        "CU_df_total = pd.concat([CU_Trim1_2022_AT, CU_Trim2_2022_AT, CU_Trim3_2022_AT, CU_Trim4_2022_AT, CU_Trim1_2023_AT, CU_Trim2_2023_AT, CU_Trim3_2023_AT, CU_Trim4_2023_AT])\n",
        "all_needed_columns = ['FECHA NACIMIENTO', 'GENERO', 'CP', 'PROVINCIA', 'LOCALIDAD', 'MOTIVO DERIVACION', 'GRADO DISCAPACIDAD', 'YEAR - TRIMESTRE', 'YEAR NACIMIENTO']\n",
        "CU_AT = entire_df(CU_df_total, all_needed_columns)"
      ],
      "metadata": {
        "id": "g9IMK0unTbFR",
        "outputId": "b8287340-1ece-4f1e-d7f8-965a1c261d3f",
        "colab": {
          "base_uri": "https://localhost:8080/"
        }
      },
      "execution_count": 112,
      "outputs": [
        {
          "output_type": "stream",
          "name": "stderr",
          "text": [
            "<ipython-input-110-ab05004eec47>:45: SettingWithCopyWarning: \n",
            "A value is trying to be set on a copy of a slice from a DataFrame\n",
            "\n",
            "See the caveats in the documentation: https://pandas.pydata.org/pandas-docs/stable/user_guide/indexing.html#returning-a-view-versus-a-copy\n",
            "  df.rename(columns=rename_columns, inplace=True)\n",
            "<ipython-input-110-ab05004eec47>:50: SettingWithCopyWarning: \n",
            "A value is trying to be set on a copy of a slice from a DataFrame.\n",
            "Try using .loc[row_indexer,col_indexer] = value instead\n",
            "\n",
            "See the caveats in the documentation: https://pandas.pydata.org/pandas-docs/stable/user_guide/indexing.html#returning-a-view-versus-a-copy\n",
            "  df['CP'] =df['CP'].astype('Int64')\n",
            "<ipython-input-110-ab05004eec47>:52: SettingWithCopyWarning: \n",
            "A value is trying to be set on a copy of a slice from a DataFrame.\n",
            "Try using .loc[row_indexer,col_indexer] = value instead\n",
            "\n",
            "See the caveats in the documentation: https://pandas.pydata.org/pandas-docs/stable/user_guide/indexing.html#returning-a-view-versus-a-copy\n",
            "  df['YEAR NACIMIENTO'] = df['FECHA NACIMIENTO'].dt.year\n",
            "<ipython-input-110-ab05004eec47>:45: SettingWithCopyWarning: \n",
            "A value is trying to be set on a copy of a slice from a DataFrame\n",
            "\n",
            "See the caveats in the documentation: https://pandas.pydata.org/pandas-docs/stable/user_guide/indexing.html#returning-a-view-versus-a-copy\n",
            "  df.rename(columns=rename_columns, inplace=True)\n",
            "<ipython-input-110-ab05004eec47>:50: SettingWithCopyWarning: \n",
            "A value is trying to be set on a copy of a slice from a DataFrame.\n",
            "Try using .loc[row_indexer,col_indexer] = value instead\n",
            "\n",
            "See the caveats in the documentation: https://pandas.pydata.org/pandas-docs/stable/user_guide/indexing.html#returning-a-view-versus-a-copy\n",
            "  df['CP'] =df['CP'].astype('Int64')\n",
            "<ipython-input-110-ab05004eec47>:52: SettingWithCopyWarning: \n",
            "A value is trying to be set on a copy of a slice from a DataFrame.\n",
            "Try using .loc[row_indexer,col_indexer] = value instead\n",
            "\n",
            "See the caveats in the documentation: https://pandas.pydata.org/pandas-docs/stable/user_guide/indexing.html#returning-a-view-versus-a-copy\n",
            "  df['YEAR NACIMIENTO'] = df['FECHA NACIMIENTO'].dt.year\n",
            "<ipython-input-110-ab05004eec47>:45: SettingWithCopyWarning: \n",
            "A value is trying to be set on a copy of a slice from a DataFrame\n",
            "\n",
            "See the caveats in the documentation: https://pandas.pydata.org/pandas-docs/stable/user_guide/indexing.html#returning-a-view-versus-a-copy\n",
            "  df.rename(columns=rename_columns, inplace=True)\n",
            "<ipython-input-110-ab05004eec47>:50: SettingWithCopyWarning: \n",
            "A value is trying to be set on a copy of a slice from a DataFrame.\n",
            "Try using .loc[row_indexer,col_indexer] = value instead\n",
            "\n",
            "See the caveats in the documentation: https://pandas.pydata.org/pandas-docs/stable/user_guide/indexing.html#returning-a-view-versus-a-copy\n",
            "  df['CP'] =df['CP'].astype('Int64')\n",
            "<ipython-input-110-ab05004eec47>:52: SettingWithCopyWarning: \n",
            "A value is trying to be set on a copy of a slice from a DataFrame.\n",
            "Try using .loc[row_indexer,col_indexer] = value instead\n",
            "\n",
            "See the caveats in the documentation: https://pandas.pydata.org/pandas-docs/stable/user_guide/indexing.html#returning-a-view-versus-a-copy\n",
            "  df['YEAR NACIMIENTO'] = df['FECHA NACIMIENTO'].dt.year\n",
            "<ipython-input-110-ab05004eec47>:45: SettingWithCopyWarning: \n",
            "A value is trying to be set on a copy of a slice from a DataFrame\n",
            "\n",
            "See the caveats in the documentation: https://pandas.pydata.org/pandas-docs/stable/user_guide/indexing.html#returning-a-view-versus-a-copy\n",
            "  df.rename(columns=rename_columns, inplace=True)\n",
            "<ipython-input-110-ab05004eec47>:50: SettingWithCopyWarning: \n",
            "A value is trying to be set on a copy of a slice from a DataFrame.\n",
            "Try using .loc[row_indexer,col_indexer] = value instead\n",
            "\n",
            "See the caveats in the documentation: https://pandas.pydata.org/pandas-docs/stable/user_guide/indexing.html#returning-a-view-versus-a-copy\n",
            "  df['CP'] =df['CP'].astype('Int64')\n",
            "<ipython-input-110-ab05004eec47>:52: SettingWithCopyWarning: \n",
            "A value is trying to be set on a copy of a slice from a DataFrame.\n",
            "Try using .loc[row_indexer,col_indexer] = value instead\n",
            "\n",
            "See the caveats in the documentation: https://pandas.pydata.org/pandas-docs/stable/user_guide/indexing.html#returning-a-view-versus-a-copy\n",
            "  df['YEAR NACIMIENTO'] = df['FECHA NACIMIENTO'].dt.year\n",
            "<ipython-input-110-ab05004eec47>:45: SettingWithCopyWarning: \n",
            "A value is trying to be set on a copy of a slice from a DataFrame\n",
            "\n",
            "See the caveats in the documentation: https://pandas.pydata.org/pandas-docs/stable/user_guide/indexing.html#returning-a-view-versus-a-copy\n",
            "  df.rename(columns=rename_columns, inplace=True)\n",
            "<ipython-input-110-ab05004eec47>:50: SettingWithCopyWarning: \n",
            "A value is trying to be set on a copy of a slice from a DataFrame.\n",
            "Try using .loc[row_indexer,col_indexer] = value instead\n",
            "\n",
            "See the caveats in the documentation: https://pandas.pydata.org/pandas-docs/stable/user_guide/indexing.html#returning-a-view-versus-a-copy\n",
            "  df['CP'] =df['CP'].astype('Int64')\n",
            "<ipython-input-110-ab05004eec47>:52: SettingWithCopyWarning: \n",
            "A value is trying to be set on a copy of a slice from a DataFrame.\n",
            "Try using .loc[row_indexer,col_indexer] = value instead\n",
            "\n",
            "See the caveats in the documentation: https://pandas.pydata.org/pandas-docs/stable/user_guide/indexing.html#returning-a-view-versus-a-copy\n",
            "  df['YEAR NACIMIENTO'] = df['FECHA NACIMIENTO'].dt.year\n",
            "<ipython-input-110-ab05004eec47>:45: SettingWithCopyWarning: \n",
            "A value is trying to be set on a copy of a slice from a DataFrame\n",
            "\n",
            "See the caveats in the documentation: https://pandas.pydata.org/pandas-docs/stable/user_guide/indexing.html#returning-a-view-versus-a-copy\n",
            "  df.rename(columns=rename_columns, inplace=True)\n",
            "<ipython-input-110-ab05004eec47>:50: SettingWithCopyWarning: \n",
            "A value is trying to be set on a copy of a slice from a DataFrame.\n",
            "Try using .loc[row_indexer,col_indexer] = value instead\n",
            "\n",
            "See the caveats in the documentation: https://pandas.pydata.org/pandas-docs/stable/user_guide/indexing.html#returning-a-view-versus-a-copy\n",
            "  df['CP'] =df['CP'].astype('Int64')\n",
            "<ipython-input-110-ab05004eec47>:52: SettingWithCopyWarning: \n",
            "A value is trying to be set on a copy of a slice from a DataFrame.\n",
            "Try using .loc[row_indexer,col_indexer] = value instead\n",
            "\n",
            "See the caveats in the documentation: https://pandas.pydata.org/pandas-docs/stable/user_guide/indexing.html#returning-a-view-versus-a-copy\n",
            "  df['YEAR NACIMIENTO'] = df['FECHA NACIMIENTO'].dt.year\n",
            "<ipython-input-110-ab05004eec47>:45: SettingWithCopyWarning: \n",
            "A value is trying to be set on a copy of a slice from a DataFrame\n",
            "\n",
            "See the caveats in the documentation: https://pandas.pydata.org/pandas-docs/stable/user_guide/indexing.html#returning-a-view-versus-a-copy\n",
            "  df.rename(columns=rename_columns, inplace=True)\n",
            "<ipython-input-110-ab05004eec47>:50: SettingWithCopyWarning: \n",
            "A value is trying to be set on a copy of a slice from a DataFrame.\n",
            "Try using .loc[row_indexer,col_indexer] = value instead\n",
            "\n",
            "See the caveats in the documentation: https://pandas.pydata.org/pandas-docs/stable/user_guide/indexing.html#returning-a-view-versus-a-copy\n",
            "  df['CP'] =df['CP'].astype('Int64')\n",
            "<ipython-input-110-ab05004eec47>:52: SettingWithCopyWarning: \n",
            "A value is trying to be set on a copy of a slice from a DataFrame.\n",
            "Try using .loc[row_indexer,col_indexer] = value instead\n",
            "\n",
            "See the caveats in the documentation: https://pandas.pydata.org/pandas-docs/stable/user_guide/indexing.html#returning-a-view-versus-a-copy\n",
            "  df['YEAR NACIMIENTO'] = df['FECHA NACIMIENTO'].dt.year\n",
            "<ipython-input-110-ab05004eec47>:45: SettingWithCopyWarning: \n",
            "A value is trying to be set on a copy of a slice from a DataFrame\n",
            "\n",
            "See the caveats in the documentation: https://pandas.pydata.org/pandas-docs/stable/user_guide/indexing.html#returning-a-view-versus-a-copy\n",
            "  df.rename(columns=rename_columns, inplace=True)\n",
            "<ipython-input-110-ab05004eec47>:50: SettingWithCopyWarning: \n",
            "A value is trying to be set on a copy of a slice from a DataFrame.\n",
            "Try using .loc[row_indexer,col_indexer] = value instead\n",
            "\n",
            "See the caveats in the documentation: https://pandas.pydata.org/pandas-docs/stable/user_guide/indexing.html#returning-a-view-versus-a-copy\n",
            "  df['CP'] =df['CP'].astype('Int64')\n",
            "<ipython-input-110-ab05004eec47>:52: SettingWithCopyWarning: \n",
            "A value is trying to be set on a copy of a slice from a DataFrame.\n",
            "Try using .loc[row_indexer,col_indexer] = value instead\n",
            "\n",
            "See the caveats in the documentation: https://pandas.pydata.org/pandas-docs/stable/user_guide/indexing.html#returning-a-view-versus-a-copy\n",
            "  df['YEAR NACIMIENTO'] = df['FECHA NACIMIENTO'].dt.year\n"
          ]
        }
      ]
    }
  ],
  "metadata": {
    "colab": {
      "name": "Welcome To Colaboratory",
      "provenance": [],
      "include_colab_link": true
    },
    "kernelspec": {
      "display_name": "Python 3",
      "name": "python3"
    }
  },
  "nbformat": 4,
  "nbformat_minor": 0
}