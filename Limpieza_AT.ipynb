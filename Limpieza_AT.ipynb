{
  "cells": [
    {
      "cell_type": "markdown",
      "metadata": {
        "id": "view-in-github",
        "colab_type": "text"
      },
      "source": [
        "<a href=\"https://colab.research.google.com/github/Ana-AlonsoCanizares/AA_GRUPO3/blob/main/Limpieza_AT.ipynb\" target=\"_parent\"><img src=\"https://colab.research.google.com/assets/colab-badge.svg\" alt=\"Open In Colab\"/></a>"
      ]
    },
    {
      "cell_type": "markdown",
      "source": [
        "#**Faltan los datos de Guadalajara de AT**\n"
      ],
      "metadata": {
        "id": "v018wrST81Fb"
      }
    },
    {
      "cell_type": "code",
      "source": [
        "# from google.colab import drive\n",
        "# drive.mount('/content/drive')"
      ],
      "metadata": {
        "id": "fKfBUap_RjEA"
      },
      "execution_count": null,
      "outputs": []
    },
    {
      "cell_type": "code",
      "source": [
        "pip install unidecode"
      ],
      "metadata": {
        "id": "KnFkLXsMRn5d",
        "outputId": "cec11aa1-8a91-4438-b862-2d14cb7b6402",
        "colab": {
          "base_uri": "https://localhost:8080/"
        }
      },
      "execution_count": 1,
      "outputs": [
        {
          "output_type": "stream",
          "name": "stdout",
          "text": [
            "Collecting unidecode\n",
            "  Downloading Unidecode-1.3.8-py3-none-any.whl (235 kB)\n",
            "\u001b[?25l     \u001b[90m━━━━━━━━━━━━━━━━━━━━━━━━━━━━━━━━━━━━━━━━\u001b[0m \u001b[32m0.0/235.5 kB\u001b[0m \u001b[31m?\u001b[0m eta \u001b[36m-:--:--\u001b[0m\r\u001b[2K     \u001b[91m━━━━━━━━━━━━━━━━━━━━━━━━━━━━━━━━━━\u001b[0m\u001b[91m╸\u001b[0m\u001b[90m━━━━━\u001b[0m \u001b[32m204.8/235.5 kB\u001b[0m \u001b[31m5.9 MB/s\u001b[0m eta \u001b[36m0:00:01\u001b[0m\r\u001b[2K     \u001b[90m━━━━━━━━━━━━━━━━━━━━━━━━━━━━━━━━━━━━━━━━\u001b[0m \u001b[32m235.5/235.5 kB\u001b[0m \u001b[31m5.2 MB/s\u001b[0m eta \u001b[36m0:00:00\u001b[0m\n",
            "\u001b[?25hInstalling collected packages: unidecode\n",
            "Successfully installed unidecode-1.3.8\n"
          ]
        }
      ]
    },
    {
      "cell_type": "code",
      "source": [
        "import os\n",
        "import pandas as pd\n",
        "import numpy as np\n",
        "from unidecode import unidecode\n",
        "import matplotlib.pyplot as plt"
      ],
      "metadata": {
        "id": "us_9Si-LRpIO"
      },
      "execution_count": 2,
      "outputs": []
    },
    {
      "cell_type": "code",
      "source": [
        "# # Asegúrarse de cambiar la ruta por el nombre real de la carpeta en Google Drive\n",
        "# folder_path = '/content/drive/My Drive/PFG_FASPAS/SAAF'\n",
        "# docs_xlsx = [f for f in os.listdir(folder_path) if f.endswith('.xlsx')]\n",
        "# print(docs_xlsx)\n",
        "\n",
        "# # Asegúrarse de cambiar la ruta por el nombre real de la carpeta en Google Drive\n",
        "# folder_path_csv = '/content/drive/My Drive/PFG_FASPAS/Zonas_Prioritarias'\n",
        "# docs_csv = [f for f in os.listdir(folder_path_csv) if f.endswith('.csv')]\n",
        "# print(docs_csv)"
      ],
      "metadata": {
        "id": "ng3k6yBpRq8j"
      },
      "execution_count": null,
      "outputs": []
    },
    {
      "cell_type": "code",
      "source": [
        "# dic_dataframes = {}\n",
        "# dic_zonas = {}\n",
        "\n",
        "# for doc in docs_xlsx:\n",
        "#     entire_path = os.path.join(folder_path, doc)\n",
        "#     df = pd.read_excel(entire_path)\n",
        "#     # Uso el nombre del archivo como clave\n",
        "#     dic_dataframes[doc] = df\n",
        "\n",
        "# for doc in docs_csv:\n",
        "#   entire_path = os.path.join(folder_path_csv, doc)\n",
        "#   df = pd.read_csv(entire_path)\n",
        "#   # Uso el nombre del archivo como clave\n",
        "#   dic_zonas[doc] = df\n",
        "\n",
        "# # Imprimir todas las claves\n",
        "# for clave in dic_dataframes.keys():\n",
        "#     print(clave)"
      ],
      "metadata": {
        "id": "xQj4iHjmRtu6"
      },
      "execution_count": null,
      "outputs": []
    },
    {
      "cell_type": "code",
      "source": [
        "# CU_SAAF = dic_dataframes.get(\"CU_SAAF.xlsx\")\n",
        "# CU_AT = dic_dataframes.get(\"CU_AT.xlsx\")\n",
        "# CU_EMPLEO = dic_dataframes.get(\"CU_EMPLEO.xlsx\")\n",
        "# CU_LOG = dic_dataframes.get(\"CU_LOG.xlsx\")\n",
        "# # CU_SOCIOS = dic_dataframes.get(\"CU_SOCIOS.xlsx\")"
      ],
      "metadata": {
        "id": "PdTbQUpQRvy4"
      },
      "execution_count": null,
      "outputs": []
    },
    {
      "cell_type": "code",
      "source": [
        "# CÓDIGO SOLO PARA EL CURRO (PQ NO PUEDO ACCEDER AL DRIVE)\n",
        "# Primero cogemos todos los trimestres de CU para probar\n",
        "CU_Trim1_2022_AT = pd.read_excel('/content/CU_Trim1_2022_AT.xlsx')\n",
        "CU_Trim2_2022_AT = pd.read_excel('/content/CU_Trim2_2022_AT.xlsx')\n",
        "CU_Trim3_2022_AT = pd.read_excel('/content/CU_Trim3_2022_AT.xlsx')\n",
        "CU_Trim4_2022_AT = pd.read_excel('/content/CU_Trim4_2022_AT.xlsx')\n",
        "CU_Trim1_2023_AT = pd.read_excel('/content/CU_Trim1_2023_AT.xlsx')\n",
        "CU_Trim2_2023_AT = pd.read_excel('/content/CU_Trim2_2023_AT.xlsx')\n",
        "CU_Trim3_2023_AT = pd.read_excel('/content/CU_Trim3_2023_AT.xlsx')\n",
        "CU_Trim4_2023_AT = pd.read_excel('/content/CU_Trim4_2023_AT.xlsx')"
      ],
      "metadata": {
        "id": "yFITrDMYRx5v"
      },
      "execution_count": 8,
      "outputs": []
    },
    {
      "cell_type": "code",
      "source": [
        "# CÓDIGO SOLO PARA EL CURRO (PQ NO PUEDO ACCEDER AL DRIVE)\n",
        "TO_Trim1_2022_AT = pd.read_excel('/content/TO_Trim1_2022_AT.xlsx')\n",
        "TO_Trim2_2022_AT = pd.read_excel('/content/TO_Trim2_2022_AT.xlsx')\n",
        "TO_Trim3_2022_AT = pd.read_excel('/content/TO_Trim3_2022_AT.xlsx')\n",
        "TO_Trim4_2022_AT = pd.read_excel('/content/TO_Trim4_2022_AT.xlsx')\n",
        "TO_Trim1_2023_AT = pd.read_excel('/content/TO_Trim1_2023_AT.xlsx')\n",
        "TO_Trim2_2023_AT = pd.read_excel('/content/TO_Trim2_2023_AT.xlsx')\n",
        "TO_Trim3_2023_AT = pd.read_excel('/content/TO_Trim3_2023_AT.xlsx')\n",
        "TO_Trim4_2023_AT = pd.read_excel('/content/TO_Trim4_2023_AT.xlsx')"
      ],
      "metadata": {
        "id": "bMSAUn2y2Tu8"
      },
      "execution_count": 9,
      "outputs": []
    },
    {
      "cell_type": "code",
      "source": [
        "# Definir la función que realiza las transformaciones\n",
        "def transform_df(df):\n",
        "    col_excluded = ['FECHA NACIMIENTO', 'FECHA DE NACIMIENTO', 'FECHA NAC']\n",
        "\n",
        "    # Convertir todas las columnas de tipo object a mayúsculas, excepto las especificadas\n",
        "    for column in df.columns:\n",
        "        if df[column].dtype == 'object' and column not in col_excluded:\n",
        "            df[column] = df[column].apply(lambda x: unidecode(x.upper()) if isinstance(x, str) else x)\n",
        "\n",
        "    # Ahora, aplicamos unidecode a los nombres de las columnas\n",
        "    df.columns = [unidecode(col.upper()) for col in df.columns]\n",
        "\n",
        "    return df\n",
        "\n",
        "def add_trim(df, trim):\n",
        "    df['YEAR - TRIMESTRE'] = trim\n",
        "    return df\n",
        "\n",
        "def kept_columns(df):\n",
        "  # Lista de columnas a quedarse\n",
        "  all_needed_columns = ['FECHA NACIMIENTO (DD/MM/AAAA)', 'SEXO\\n(DESPLEGABLE)', 'CODIGO POSTAL', 'PROVINCIA\\n(DESPLEGABLE)', 'LOCALIDAD', 'MOTIVO DE DERIVACION', 'GRADO DISCAPACIDAD\\n(INDICAR PORCENTAJE O DEJAR EN BLANCO)', 'YEAR - TRIMESTRE']\n",
        "  df = df[df.columns.intersection(all_needed_columns)]\n",
        "  return df\n",
        "\n",
        "def mapping_names(df):\n",
        "    # Diccionario con los mapeos deseados\n",
        "    columns_map = {\n",
        "        'SEXO\\n(DESPLEGABLE)': 'GENERO',\n",
        "        'FECHA NACIMIENTO (DD/MM/AAAA)': 'FECHA NACIMIENTO',\n",
        "        'CODIGO POSTAL': 'CP',\n",
        "        'MOTIVO DE DERIVACION': 'MOTIVO DERIVACION',\n",
        "        'PROVINCIA\\n(DESPLEGABLE)': 'PROVINCIA',\n",
        "        'GRADO DISCAPACIDAD\\n(INDICAR PORCENTAJE O DEJAR EN BLANCO)': 'GRADO DISCAPACIDAD'\n",
        "    }\n",
        "\n",
        "    # Crear un nuevo diccionario para los nombres de columnas\n",
        "    rename_columns = {}\n",
        "\n",
        "    # Iterar sobre las columnas y aplicar el mapeo\n",
        "    for col in df.columns:\n",
        "        norm_col = columns_map.get(col, col)\n",
        "        rename_columns[col] = norm_col\n",
        "\n",
        "    # Renombrar las columnas del DataFrame\n",
        "    df.rename(columns=rename_columns, inplace=True)\n",
        "    return df\n",
        "\n",
        "def CP_loc(df):\n",
        "\n",
        "  df['CP'] =df['CP'].astype('Int64')\n",
        "\n",
        "  df['YEAR NACIMIENTO'] = df['FECHA NACIMIENTO'].dt.year\n",
        "\n",
        "  df = df.dropna(subset=['CP', 'LOCALIDAD'], how='all')\n",
        "\n",
        "  CP_loc_filter = df['CP'].isnull() & df['LOCALIDAD'].isnull()\n",
        "\n",
        "  df = df[~CP_loc_filter]\n",
        "  return df\n",
        "\n",
        "def entire_df(df, columns):\n",
        "  # Eliminamos duplicados en las columnas de identificación\n",
        "  df.drop_duplicates(subset=columns, inplace=True)\n",
        "\n",
        "  # Agrupamos por las columnas de identificación personales y contamos las apariciones por trimestre\n",
        "  grouped = df.groupby(['FECHA NACIMIENTO', 'GENERO', 'CP', 'PROVINCIA', 'LOCALIDAD', 'MOTIVO DERIVACION', 'GRADO DISCAPACIDAD', 'YEAR NACIMIENTO'])\n",
        "\n",
        "  # Creamos un DataFrame con la cantidad de apariciones por trimestre\n",
        "  df_return = grouped['YEAR - TRIMESTRE'].value_counts().unstack(fill_value=0).reset_index()\n",
        "\n",
        "  # Cambiamos los nombres de las columnas para que sean más específicos\n",
        "  new_column_names = {trimestre: f'{trimestre.replace(\" \", \"_\")}' for trimestre in df_return.columns if 'TRIM' in trimestre}\n",
        "  df_return.rename(columns=new_column_names, inplace=True)\n",
        "  return df_return"
      ],
      "metadata": {
        "id": "uc0_mJa-TJSn"
      },
      "execution_count": 5,
      "outputs": []
    },
    {
      "cell_type": "code",
      "source": [
        "CU_Trim1_2022_AT = transform_df(CU_Trim1_2022_AT)\n",
        "CU_Trim1_2022_AT = add_trim(CU_Trim1_2022_AT, '2022 TRIM 1')\n",
        "CU_Trim1_2022_AT = kept_columns(CU_Trim1_2022_AT)\n",
        "CU_Trim1_2022_AT = mapping_names(CU_Trim1_2022_AT)\n",
        "CU_Trim1_2022_AT = CP_loc(CU_Trim1_2022_AT)\n",
        "\n",
        "CU_Trim2_2022_AT = transform_df(CU_Trim2_2022_AT)\n",
        "CU_Trim2_2022_AT = add_trim(CU_Trim2_2022_AT, '2022 TRIM 2')\n",
        "CU_Trim2_2022_AT = kept_columns(CU_Trim2_2022_AT)\n",
        "CU_Trim2_2022_AT = mapping_names(CU_Trim2_2022_AT)\n",
        "CU_Trim2_2022_AT = CP_loc(CU_Trim2_2022_AT)\n",
        "\n",
        "CU_Trim3_2022_AT = transform_df(CU_Trim3_2022_AT)\n",
        "CU_Trim3_2022_AT = add_trim(CU_Trim3_2022_AT, '2022 TRIM 3')\n",
        "CU_Trim3_2022_AT = kept_columns(CU_Trim3_2022_AT)\n",
        "CU_Trim3_2022_AT = mapping_names(CU_Trim3_2022_AT)\n",
        "CU_Trim3_2022_AT = CP_loc(CU_Trim3_2022_AT)\n",
        "\n",
        "CU_Trim4_2022_AT = transform_df(CU_Trim4_2022_AT)\n",
        "CU_Trim4_2022_AT = add_trim(CU_Trim4_2022_AT, '2022 TRIM 4')\n",
        "CU_Trim4_2022_AT = kept_columns(CU_Trim4_2022_AT)\n",
        "CU_Trim4_2022_AT = mapping_names(CU_Trim4_2022_AT)\n",
        "CU_Trim4_2022_AT = CP_loc(CU_Trim4_2022_AT)\n",
        "\n",
        "CU_Trim1_2023_AT = transform_df(CU_Trim1_2023_AT)\n",
        "CU_Trim1_2023_AT = add_trim(CU_Trim1_2023_AT, '2023 TRIM 1')\n",
        "CU_Trim1_2023_AT = kept_columns(CU_Trim1_2023_AT)\n",
        "CU_Trim1_2023_AT = mapping_names(CU_Trim1_2023_AT)\n",
        "CU_Trim1_2023_AT = CP_loc(CU_Trim1_2023_AT)\n",
        "\n",
        "CU_Trim2_2023_AT = transform_df(CU_Trim2_2023_AT)\n",
        "CU_Trim2_2023_AT = add_trim(CU_Trim2_2023_AT, '2023 TRIM 2')\n",
        "CU_Trim2_2023_AT = kept_columns(CU_Trim2_2023_AT)\n",
        "CU_Trim2_2023_AT = mapping_names(CU_Trim2_2023_AT)\n",
        "CU_Trim2_2023_AT = CP_loc(CU_Trim2_2023_AT)\n",
        "\n",
        "CU_Trim3_2023_AT = transform_df(CU_Trim3_2023_AT)\n",
        "CU_Trim3_2023_AT = add_trim(CU_Trim3_2023_AT, '2023 TRIM 3')\n",
        "CU_Trim3_2023_AT = kept_columns(CU_Trim3_2023_AT)\n",
        "CU_Trim3_2023_AT = mapping_names(CU_Trim3_2023_AT)\n",
        "CU_Trim3_2023_AT = CP_loc(CU_Trim3_2023_AT)\n",
        "\n",
        "CU_Trim4_2023_AT = transform_df(CU_Trim4_2023_AT)\n",
        "CU_Trim4_2023_AT = add_trim(CU_Trim4_2023_AT, '2023 TRIM 4')\n",
        "CU_Trim4_2023_AT = kept_columns(CU_Trim4_2023_AT)\n",
        "CU_Trim4_2023_AT = mapping_names(CU_Trim4_2023_AT)\n",
        "CU_Trim4_2023_AT = CP_loc(CU_Trim4_2023_AT)\n",
        "\n",
        "# Concatenamos todos los DataFrames (Asegúrate de que todos tienen las mismas columnas)\n",
        "CU_df_total = pd.concat([CU_Trim1_2022_AT, CU_Trim2_2022_AT, CU_Trim3_2022_AT, CU_Trim4_2022_AT, CU_Trim1_2023_AT, CU_Trim2_2023_AT, CU_Trim3_2023_AT, CU_Trim4_2023_AT])\n",
        "all_needed_columns = ['FECHA NACIMIENTO', 'GENERO', 'CP', 'PROVINCIA', 'LOCALIDAD', 'MOTIVO DERIVACION', 'GRADO DISCAPACIDAD', 'YEAR - TRIMESTRE', 'YEAR NACIMIENTO']\n",
        "CU_AT = entire_df(CU_df_total, all_needed_columns)"
      ],
      "metadata": {
        "id": "g9IMK0unTbFR",
        "outputId": "43c11f30-1597-486b-c28d-82de8e8eff1b",
        "colab": {
          "base_uri": "https://localhost:8080/"
        }
      },
      "execution_count": 6,
      "outputs": [
        {
          "output_type": "stream",
          "name": "stderr",
          "text": [
            "<ipython-input-5-ab05004eec47>:45: SettingWithCopyWarning: \n",
            "A value is trying to be set on a copy of a slice from a DataFrame\n",
            "\n",
            "See the caveats in the documentation: https://pandas.pydata.org/pandas-docs/stable/user_guide/indexing.html#returning-a-view-versus-a-copy\n",
            "  df.rename(columns=rename_columns, inplace=True)\n",
            "<ipython-input-5-ab05004eec47>:50: SettingWithCopyWarning: \n",
            "A value is trying to be set on a copy of a slice from a DataFrame.\n",
            "Try using .loc[row_indexer,col_indexer] = value instead\n",
            "\n",
            "See the caveats in the documentation: https://pandas.pydata.org/pandas-docs/stable/user_guide/indexing.html#returning-a-view-versus-a-copy\n",
            "  df['CP'] =df['CP'].astype('Int64')\n",
            "<ipython-input-5-ab05004eec47>:52: SettingWithCopyWarning: \n",
            "A value is trying to be set on a copy of a slice from a DataFrame.\n",
            "Try using .loc[row_indexer,col_indexer] = value instead\n",
            "\n",
            "See the caveats in the documentation: https://pandas.pydata.org/pandas-docs/stable/user_guide/indexing.html#returning-a-view-versus-a-copy\n",
            "  df['YEAR NACIMIENTO'] = df['FECHA NACIMIENTO'].dt.year\n",
            "<ipython-input-5-ab05004eec47>:45: SettingWithCopyWarning: \n",
            "A value is trying to be set on a copy of a slice from a DataFrame\n",
            "\n",
            "See the caveats in the documentation: https://pandas.pydata.org/pandas-docs/stable/user_guide/indexing.html#returning-a-view-versus-a-copy\n",
            "  df.rename(columns=rename_columns, inplace=True)\n",
            "<ipython-input-5-ab05004eec47>:50: SettingWithCopyWarning: \n",
            "A value is trying to be set on a copy of a slice from a DataFrame.\n",
            "Try using .loc[row_indexer,col_indexer] = value instead\n",
            "\n",
            "See the caveats in the documentation: https://pandas.pydata.org/pandas-docs/stable/user_guide/indexing.html#returning-a-view-versus-a-copy\n",
            "  df['CP'] =df['CP'].astype('Int64')\n",
            "<ipython-input-5-ab05004eec47>:52: SettingWithCopyWarning: \n",
            "A value is trying to be set on a copy of a slice from a DataFrame.\n",
            "Try using .loc[row_indexer,col_indexer] = value instead\n",
            "\n",
            "See the caveats in the documentation: https://pandas.pydata.org/pandas-docs/stable/user_guide/indexing.html#returning-a-view-versus-a-copy\n",
            "  df['YEAR NACIMIENTO'] = df['FECHA NACIMIENTO'].dt.year\n",
            "<ipython-input-5-ab05004eec47>:45: SettingWithCopyWarning: \n",
            "A value is trying to be set on a copy of a slice from a DataFrame\n",
            "\n",
            "See the caveats in the documentation: https://pandas.pydata.org/pandas-docs/stable/user_guide/indexing.html#returning-a-view-versus-a-copy\n",
            "  df.rename(columns=rename_columns, inplace=True)\n",
            "<ipython-input-5-ab05004eec47>:45: SettingWithCopyWarning: \n",
            "A value is trying to be set on a copy of a slice from a DataFrame\n",
            "\n",
            "See the caveats in the documentation: https://pandas.pydata.org/pandas-docs/stable/user_guide/indexing.html#returning-a-view-versus-a-copy\n",
            "  df.rename(columns=rename_columns, inplace=True)\n",
            "<ipython-input-5-ab05004eec47>:50: SettingWithCopyWarning: \n",
            "A value is trying to be set on a copy of a slice from a DataFrame.\n",
            "Try using .loc[row_indexer,col_indexer] = value instead\n",
            "\n",
            "See the caveats in the documentation: https://pandas.pydata.org/pandas-docs/stable/user_guide/indexing.html#returning-a-view-versus-a-copy\n",
            "  df['CP'] =df['CP'].astype('Int64')\n",
            "<ipython-input-5-ab05004eec47>:52: SettingWithCopyWarning: \n",
            "A value is trying to be set on a copy of a slice from a DataFrame.\n",
            "Try using .loc[row_indexer,col_indexer] = value instead\n",
            "\n",
            "See the caveats in the documentation: https://pandas.pydata.org/pandas-docs/stable/user_guide/indexing.html#returning-a-view-versus-a-copy\n",
            "  df['YEAR NACIMIENTO'] = df['FECHA NACIMIENTO'].dt.year\n",
            "<ipython-input-5-ab05004eec47>:45: SettingWithCopyWarning: \n",
            "A value is trying to be set on a copy of a slice from a DataFrame\n",
            "\n",
            "See the caveats in the documentation: https://pandas.pydata.org/pandas-docs/stable/user_guide/indexing.html#returning-a-view-versus-a-copy\n",
            "  df.rename(columns=rename_columns, inplace=True)\n",
            "<ipython-input-5-ab05004eec47>:50: SettingWithCopyWarning: \n",
            "A value is trying to be set on a copy of a slice from a DataFrame.\n",
            "Try using .loc[row_indexer,col_indexer] = value instead\n",
            "\n",
            "See the caveats in the documentation: https://pandas.pydata.org/pandas-docs/stable/user_guide/indexing.html#returning-a-view-versus-a-copy\n",
            "  df['CP'] =df['CP'].astype('Int64')\n",
            "<ipython-input-5-ab05004eec47>:52: SettingWithCopyWarning: \n",
            "A value is trying to be set on a copy of a slice from a DataFrame.\n",
            "Try using .loc[row_indexer,col_indexer] = value instead\n",
            "\n",
            "See the caveats in the documentation: https://pandas.pydata.org/pandas-docs/stable/user_guide/indexing.html#returning-a-view-versus-a-copy\n",
            "  df['YEAR NACIMIENTO'] = df['FECHA NACIMIENTO'].dt.year\n",
            "<ipython-input-5-ab05004eec47>:45: SettingWithCopyWarning: \n",
            "A value is trying to be set on a copy of a slice from a DataFrame\n",
            "\n",
            "See the caveats in the documentation: https://pandas.pydata.org/pandas-docs/stable/user_guide/indexing.html#returning-a-view-versus-a-copy\n",
            "  df.rename(columns=rename_columns, inplace=True)\n",
            "<ipython-input-5-ab05004eec47>:50: SettingWithCopyWarning: \n",
            "A value is trying to be set on a copy of a slice from a DataFrame.\n",
            "Try using .loc[row_indexer,col_indexer] = value instead\n",
            "\n",
            "See the caveats in the documentation: https://pandas.pydata.org/pandas-docs/stable/user_guide/indexing.html#returning-a-view-versus-a-copy\n",
            "  df['CP'] =df['CP'].astype('Int64')\n",
            "<ipython-input-5-ab05004eec47>:52: SettingWithCopyWarning: \n",
            "A value is trying to be set on a copy of a slice from a DataFrame.\n",
            "Try using .loc[row_indexer,col_indexer] = value instead\n",
            "\n",
            "See the caveats in the documentation: https://pandas.pydata.org/pandas-docs/stable/user_guide/indexing.html#returning-a-view-versus-a-copy\n",
            "  df['YEAR NACIMIENTO'] = df['FECHA NACIMIENTO'].dt.year\n",
            "<ipython-input-5-ab05004eec47>:45: SettingWithCopyWarning: \n",
            "A value is trying to be set on a copy of a slice from a DataFrame\n",
            "\n",
            "See the caveats in the documentation: https://pandas.pydata.org/pandas-docs/stable/user_guide/indexing.html#returning-a-view-versus-a-copy\n",
            "  df.rename(columns=rename_columns, inplace=True)\n",
            "<ipython-input-5-ab05004eec47>:50: SettingWithCopyWarning: \n",
            "A value is trying to be set on a copy of a slice from a DataFrame.\n",
            "Try using .loc[row_indexer,col_indexer] = value instead\n",
            "\n",
            "See the caveats in the documentation: https://pandas.pydata.org/pandas-docs/stable/user_guide/indexing.html#returning-a-view-versus-a-copy\n",
            "  df['CP'] =df['CP'].astype('Int64')\n",
            "<ipython-input-5-ab05004eec47>:52: SettingWithCopyWarning: \n",
            "A value is trying to be set on a copy of a slice from a DataFrame.\n",
            "Try using .loc[row_indexer,col_indexer] = value instead\n",
            "\n",
            "See the caveats in the documentation: https://pandas.pydata.org/pandas-docs/stable/user_guide/indexing.html#returning-a-view-versus-a-copy\n",
            "  df['YEAR NACIMIENTO'] = df['FECHA NACIMIENTO'].dt.year\n"
          ]
        }
      ]
    },
    {
      "cell_type": "code",
      "source": [
        "TO_Trim1_2022_AT['CP']"
      ],
      "metadata": {
        "id": "w_UcL47k40AD",
        "outputId": "fdc14235-d2b6-4958-fbe9-7590eea302e0",
        "colab": {
          "base_uri": "https://localhost:8080/"
        }
      },
      "execution_count": 12,
      "outputs": [
        {
          "output_type": "execute_result",
          "data": {
            "text/plain": [
              "0     45593\n",
              "1     45008\n",
              "2     45270\n",
              "3     45300\n",
              "4     45190\n",
              "5     45360\n",
              "6     45005\n",
              "7     45300\n",
              "8     45500\n",
              "9     45590\n",
              "10    45006\n",
              "11    45260\n",
              "12         \n",
              "13    45230\n",
              "14    45260\n",
              "15    45593\n",
              "16    45217\n",
              "17    45005\n",
              "18    45005\n",
              "19    45001\n",
              "20    45007\n",
              "21    45590\n",
              "22    45510\n",
              "23    45007\n",
              "24    45004\n",
              "25    45007\n",
              "26    45007\n",
              "27    45880\n",
              "Name: CP, dtype: object"
            ]
          },
          "metadata": {},
          "execution_count": 12
        }
      ]
    },
    {
      "cell_type": "code",
      "source": [
        "TO_Trim1_2022_AT = transform_df(TO_Trim1_2022_AT)\n",
        "TO_Trim1_2022_AT = add_trim(TO_Trim1_2022_AT, '2022 TRIM 1')\n",
        "TO_Trim1_2022_AT = kept_columns(TO_Trim1_2022_AT)\n",
        "TO_Trim1_2022_AT = mapping_names(TO_Trim1_2022_AT)\n",
        "TO_Trim1_2022_AT = CP_loc(TO_Trim1_2022_AT)\n",
        "\n",
        "TO_Trim2_2022_AT = transform_df(TO_Trim2_2022_AT)\n",
        "TO_Trim2_2022_AT = add_trim(TO_Trim2_2022_AT, '2022 TRIM 2')\n",
        "TO_Trim2_2022_AT = kept_columns(TO_Trim2_2022_AT)\n",
        "TO_Trim2_2022_AT = mapping_names(TO_Trim2_2022_AT)\n",
        "TO_Trim2_2022_AT = CP_loc(TO_Trim2_2022_AT)\n",
        "\n",
        "TO_Trim3_2022_AT = transform_df(TO_Trim3_2022_AT)\n",
        "TO_Trim3_2022_AT = add_trim(TO_Trim3_2022_AT, '2022 TRIM 3')\n",
        "TO_Trim3_2022_AT = kept_columns(TO_Trim3_2022_AT)\n",
        "TO_Trim3_2022_AT = mapping_names(TO_Trim3_2022_AT)\n",
        "TO_Trim3_2022_AT = CP_loc(TO_Trim3_2022_AT)\n",
        "\n",
        "TO_Trim4_2022_AT = transform_df(TO_Trim4_2022_AT)\n",
        "TO_Trim4_2022_AT = add_trim(TO_Trim4_2022_AT, '2022 TRIM 4')\n",
        "TO_Trim4_2022_AT = kept_columns(TO_Trim4_2022_AT)\n",
        "TO_Trim4_2022_AT = mapping_names(TO_Trim4_2022_AT)\n",
        "TO_Trim4_2022_AT = CP_loc(TO_Trim4_2022_AT)\n",
        "\n",
        "TO_Trim1_2023_AT = transform_df(TO_Trim1_2023_AT)\n",
        "TO_Trim1_2023_AT = add_trim(TO_Trim1_2023_AT, '2023 TRIM 1')\n",
        "TO_Trim1_2023_AT = kept_columns(TO_Trim1_2023_AT)\n",
        "TO_Trim1_2023_AT = mapping_names(TO_Trim1_2023_AT)\n",
        "TO_Trim1_2023_AT = CP_loc(TO_Trim1_2023_AT)\n",
        "\n",
        "TO_Trim2_2023_AT = transform_df(TO_Trim2_2023_AT)\n",
        "TO_Trim2_2023_AT = add_trim(TO_Trim2_2023_AT, '2023 TRIM 2')\n",
        "TO_Trim2_2023_AT = kept_columns(TO_Trim2_2023_AT)\n",
        "TO_Trim2_2023_AT = mapping_names(TO_Trim2_2023_AT)\n",
        "TO_Trim2_2023_AT = CP_loc(TO_Trim2_2023_AT)\n",
        "\n",
        "TO_Trim3_2023_AT = transform_df(TO_Trim3_2023_AT)\n",
        "TO_Trim3_2023_AT = add_trim(TO_Trim3_2023_AT, '2023 TRIM 3')\n",
        "TO_Trim3_2023_AT = kept_columns(TO_Trim3_2023_AT)\n",
        "TO_Trim3_2023_AT = mapping_names(TO_Trim3_2023_AT)\n",
        "TO_Trim3_2023_AT = CP_loc(TO_Trim3_2023_AT)\n",
        "\n",
        "TO_Trim4_2023_AT = transform_df(TO_Trim4_2023_AT)\n",
        "TO_Trim4_2023_AT = add_trim(TO_Trim4_2023_AT, '2023 TRIM 4')\n",
        "TO_Trim4_2023_AT = kept_columns(TO_Trim4_2023_AT)\n",
        "TO_Trim4_2023_AT = mapping_names(TO_Trim4_2023_AT)\n",
        "TO_Trim4_2023_AT = CP_loc(TO_Trim4_2023_AT)\n",
        "\n",
        "# Concatenamos todos los DataFrames (Asegúrate de que todos tienen las mismas columnas)\n",
        "TO_df_total = pd.concat([TO_Trim1_2022_AT, TO_Trim2_2022_AT, TO_Trim3_2022_AT, TO_Trim4_2022_AT, TO_Trim1_2023_AT, TO_Trim2_2023_AT, TO_Trim3_2023_AT, TO_Trim4_2023_AT])\n",
        "all_needed_columns = ['FECHA NACIMIENTO', 'GENERO', 'CP', 'PROVINCIA', 'LOCALIDAD', 'MOTIVO DERIVACION', 'GRADO DISCAPACIDAD', 'YEAR - TRIMESTRE', 'YEAR NACIMIENTO']\n",
        "TO_AT = entire_df(TO_df_total, all_needed_columns)"
      ],
      "metadata": {
        "id": "HZpsBBzN2hE8",
        "outputId": "a1796ade-2044-4655-c68e-1ccafa64717f",
        "colab": {
          "base_uri": "https://localhost:8080/",
          "height": 495
        }
      },
      "execution_count": 10,
      "outputs": [
        {
          "output_type": "stream",
          "name": "stderr",
          "text": [
            "<ipython-input-5-ab05004eec47>:45: SettingWithCopyWarning: \n",
            "A value is trying to be set on a copy of a slice from a DataFrame\n",
            "\n",
            "See the caveats in the documentation: https://pandas.pydata.org/pandas-docs/stable/user_guide/indexing.html#returning-a-view-versus-a-copy\n",
            "  df.rename(columns=rename_columns, inplace=True)\n"
          ]
        },
        {
          "output_type": "error",
          "ename": "ValueError",
          "evalue": "invalid literal for int() with base 10: '  '",
          "traceback": [
            "\u001b[0;31m---------------------------------------------------------------------------\u001b[0m",
            "\u001b[0;31mTypeError\u001b[0m                                 Traceback (most recent call last)",
            "\u001b[0;32m/usr/local/lib/python3.10/dist-packages/pandas/core/arrays/integer.py\u001b[0m in \u001b[0;36m_safe_cast\u001b[0;34m(cls, values, dtype, copy)\u001b[0m\n\u001b[1;32m     50\u001b[0m         \u001b[0;32mtry\u001b[0m\u001b[0;34m:\u001b[0m\u001b[0;34m\u001b[0m\u001b[0;34m\u001b[0m\u001b[0m\n\u001b[0;32m---> 51\u001b[0;31m             \u001b[0;32mreturn\u001b[0m \u001b[0mvalues\u001b[0m\u001b[0;34m.\u001b[0m\u001b[0mastype\u001b[0m\u001b[0;34m(\u001b[0m\u001b[0mdtype\u001b[0m\u001b[0;34m,\u001b[0m \u001b[0mcasting\u001b[0m\u001b[0;34m=\u001b[0m\u001b[0;34m\"safe\"\u001b[0m\u001b[0;34m,\u001b[0m \u001b[0mcopy\u001b[0m\u001b[0;34m=\u001b[0m\u001b[0mcopy\u001b[0m\u001b[0;34m)\u001b[0m\u001b[0;34m\u001b[0m\u001b[0;34m\u001b[0m\u001b[0m\n\u001b[0m\u001b[1;32m     52\u001b[0m         \u001b[0;32mexcept\u001b[0m \u001b[0mTypeError\u001b[0m \u001b[0;32mas\u001b[0m \u001b[0merr\u001b[0m\u001b[0;34m:\u001b[0m\u001b[0;34m\u001b[0m\u001b[0;34m\u001b[0m\u001b[0m\n",
            "\u001b[0;31mTypeError\u001b[0m: Cannot cast array data from dtype('O') to dtype('int64') according to the rule 'safe'",
            "\nDuring handling of the above exception, another exception occurred:\n",
            "\u001b[0;31mValueError\u001b[0m                                Traceback (most recent call last)",
            "\u001b[0;32m<ipython-input-10-d13b1bcae50c>\u001b[0m in \u001b[0;36m<cell line: 5>\u001b[0;34m()\u001b[0m\n\u001b[1;32m      3\u001b[0m \u001b[0mTO_Trim1_2022_AT\u001b[0m \u001b[0;34m=\u001b[0m \u001b[0mkept_columns\u001b[0m\u001b[0;34m(\u001b[0m\u001b[0mTO_Trim1_2022_AT\u001b[0m\u001b[0;34m)\u001b[0m\u001b[0;34m\u001b[0m\u001b[0;34m\u001b[0m\u001b[0m\n\u001b[1;32m      4\u001b[0m \u001b[0mTO_Trim1_2022_AT\u001b[0m \u001b[0;34m=\u001b[0m \u001b[0mmapping_names\u001b[0m\u001b[0;34m(\u001b[0m\u001b[0mTO_Trim1_2022_AT\u001b[0m\u001b[0;34m)\u001b[0m\u001b[0;34m\u001b[0m\u001b[0;34m\u001b[0m\u001b[0m\n\u001b[0;32m----> 5\u001b[0;31m \u001b[0mTO_Trim1_2022_AT\u001b[0m \u001b[0;34m=\u001b[0m \u001b[0mCP_loc\u001b[0m\u001b[0;34m(\u001b[0m\u001b[0mTO_Trim1_2022_AT\u001b[0m\u001b[0;34m)\u001b[0m\u001b[0;34m\u001b[0m\u001b[0;34m\u001b[0m\u001b[0m\n\u001b[0m\u001b[1;32m      6\u001b[0m \u001b[0;34m\u001b[0m\u001b[0m\n\u001b[1;32m      7\u001b[0m \u001b[0mTO_Trim2_2022_AT\u001b[0m \u001b[0;34m=\u001b[0m \u001b[0mtransform_df\u001b[0m\u001b[0;34m(\u001b[0m\u001b[0mTO_Trim2_2022_AT\u001b[0m\u001b[0;34m)\u001b[0m\u001b[0;34m\u001b[0m\u001b[0;34m\u001b[0m\u001b[0m\n",
            "\u001b[0;32m<ipython-input-5-ab05004eec47>\u001b[0m in \u001b[0;36mCP_loc\u001b[0;34m(df)\u001b[0m\n\u001b[1;32m     48\u001b[0m \u001b[0;32mdef\u001b[0m \u001b[0mCP_loc\u001b[0m\u001b[0;34m(\u001b[0m\u001b[0mdf\u001b[0m\u001b[0;34m)\u001b[0m\u001b[0;34m:\u001b[0m\u001b[0;34m\u001b[0m\u001b[0;34m\u001b[0m\u001b[0m\n\u001b[1;32m     49\u001b[0m \u001b[0;34m\u001b[0m\u001b[0m\n\u001b[0;32m---> 50\u001b[0;31m   \u001b[0mdf\u001b[0m\u001b[0;34m[\u001b[0m\u001b[0;34m'CP'\u001b[0m\u001b[0;34m]\u001b[0m \u001b[0;34m=\u001b[0m\u001b[0mdf\u001b[0m\u001b[0;34m[\u001b[0m\u001b[0;34m'CP'\u001b[0m\u001b[0;34m]\u001b[0m\u001b[0;34m.\u001b[0m\u001b[0mastype\u001b[0m\u001b[0;34m(\u001b[0m\u001b[0;34m'Int64'\u001b[0m\u001b[0;34m)\u001b[0m\u001b[0;34m\u001b[0m\u001b[0;34m\u001b[0m\u001b[0m\n\u001b[0m\u001b[1;32m     51\u001b[0m \u001b[0;34m\u001b[0m\u001b[0m\n\u001b[1;32m     52\u001b[0m   \u001b[0mdf\u001b[0m\u001b[0;34m[\u001b[0m\u001b[0;34m'YEAR NACIMIENTO'\u001b[0m\u001b[0;34m]\u001b[0m \u001b[0;34m=\u001b[0m \u001b[0mdf\u001b[0m\u001b[0;34m[\u001b[0m\u001b[0;34m'FECHA NACIMIENTO'\u001b[0m\u001b[0;34m]\u001b[0m\u001b[0;34m.\u001b[0m\u001b[0mdt\u001b[0m\u001b[0;34m.\u001b[0m\u001b[0myear\u001b[0m\u001b[0;34m\u001b[0m\u001b[0;34m\u001b[0m\u001b[0m\n",
            "\u001b[0;32m/usr/local/lib/python3.10/dist-packages/pandas/core/generic.py\u001b[0m in \u001b[0;36mastype\u001b[0;34m(self, dtype, copy, errors)\u001b[0m\n\u001b[1;32m   6322\u001b[0m         \u001b[0;32melse\u001b[0m\u001b[0;34m:\u001b[0m\u001b[0;34m\u001b[0m\u001b[0;34m\u001b[0m\u001b[0m\n\u001b[1;32m   6323\u001b[0m             \u001b[0;31m# else, only a single dtype is given\u001b[0m\u001b[0;34m\u001b[0m\u001b[0;34m\u001b[0m\u001b[0m\n\u001b[0;32m-> 6324\u001b[0;31m             \u001b[0mnew_data\u001b[0m \u001b[0;34m=\u001b[0m \u001b[0mself\u001b[0m\u001b[0;34m.\u001b[0m\u001b[0m_mgr\u001b[0m\u001b[0;34m.\u001b[0m\u001b[0mastype\u001b[0m\u001b[0;34m(\u001b[0m\u001b[0mdtype\u001b[0m\u001b[0;34m=\u001b[0m\u001b[0mdtype\u001b[0m\u001b[0;34m,\u001b[0m \u001b[0mcopy\u001b[0m\u001b[0;34m=\u001b[0m\u001b[0mcopy\u001b[0m\u001b[0;34m,\u001b[0m \u001b[0merrors\u001b[0m\u001b[0;34m=\u001b[0m\u001b[0merrors\u001b[0m\u001b[0;34m)\u001b[0m\u001b[0;34m\u001b[0m\u001b[0;34m\u001b[0m\u001b[0m\n\u001b[0m\u001b[1;32m   6325\u001b[0m             \u001b[0;32mreturn\u001b[0m \u001b[0mself\u001b[0m\u001b[0;34m.\u001b[0m\u001b[0m_constructor\u001b[0m\u001b[0;34m(\u001b[0m\u001b[0mnew_data\u001b[0m\u001b[0;34m)\u001b[0m\u001b[0;34m.\u001b[0m\u001b[0m__finalize__\u001b[0m\u001b[0;34m(\u001b[0m\u001b[0mself\u001b[0m\u001b[0;34m,\u001b[0m \u001b[0mmethod\u001b[0m\u001b[0;34m=\u001b[0m\u001b[0;34m\"astype\"\u001b[0m\u001b[0;34m)\u001b[0m\u001b[0;34m\u001b[0m\u001b[0;34m\u001b[0m\u001b[0m\n\u001b[1;32m   6326\u001b[0m \u001b[0;34m\u001b[0m\u001b[0m\n",
            "\u001b[0;32m/usr/local/lib/python3.10/dist-packages/pandas/core/internals/managers.py\u001b[0m in \u001b[0;36mastype\u001b[0;34m(self, dtype, copy, errors)\u001b[0m\n\u001b[1;32m    449\u001b[0m             \u001b[0mcopy\u001b[0m \u001b[0;34m=\u001b[0m \u001b[0;32mFalse\u001b[0m\u001b[0;34m\u001b[0m\u001b[0;34m\u001b[0m\u001b[0m\n\u001b[1;32m    450\u001b[0m \u001b[0;34m\u001b[0m\u001b[0m\n\u001b[0;32m--> 451\u001b[0;31m         return self.apply(\n\u001b[0m\u001b[1;32m    452\u001b[0m             \u001b[0;34m\"astype\"\u001b[0m\u001b[0;34m,\u001b[0m\u001b[0;34m\u001b[0m\u001b[0;34m\u001b[0m\u001b[0m\n\u001b[1;32m    453\u001b[0m             \u001b[0mdtype\u001b[0m\u001b[0;34m=\u001b[0m\u001b[0mdtype\u001b[0m\u001b[0;34m,\u001b[0m\u001b[0;34m\u001b[0m\u001b[0;34m\u001b[0m\u001b[0m\n",
            "\u001b[0;32m/usr/local/lib/python3.10/dist-packages/pandas/core/internals/managers.py\u001b[0m in \u001b[0;36mapply\u001b[0;34m(self, f, align_keys, **kwargs)\u001b[0m\n\u001b[1;32m    350\u001b[0m                 \u001b[0mapplied\u001b[0m \u001b[0;34m=\u001b[0m \u001b[0mb\u001b[0m\u001b[0;34m.\u001b[0m\u001b[0mapply\u001b[0m\u001b[0;34m(\u001b[0m\u001b[0mf\u001b[0m\u001b[0;34m,\u001b[0m \u001b[0;34m**\u001b[0m\u001b[0mkwargs\u001b[0m\u001b[0;34m)\u001b[0m\u001b[0;34m\u001b[0m\u001b[0;34m\u001b[0m\u001b[0m\n\u001b[1;32m    351\u001b[0m             \u001b[0;32melse\u001b[0m\u001b[0;34m:\u001b[0m\u001b[0;34m\u001b[0m\u001b[0;34m\u001b[0m\u001b[0m\n\u001b[0;32m--> 352\u001b[0;31m                 \u001b[0mapplied\u001b[0m \u001b[0;34m=\u001b[0m \u001b[0mgetattr\u001b[0m\u001b[0;34m(\u001b[0m\u001b[0mb\u001b[0m\u001b[0;34m,\u001b[0m \u001b[0mf\u001b[0m\u001b[0;34m)\u001b[0m\u001b[0;34m(\u001b[0m\u001b[0;34m**\u001b[0m\u001b[0mkwargs\u001b[0m\u001b[0;34m)\u001b[0m\u001b[0;34m\u001b[0m\u001b[0;34m\u001b[0m\u001b[0m\n\u001b[0m\u001b[1;32m    353\u001b[0m             \u001b[0mresult_blocks\u001b[0m \u001b[0;34m=\u001b[0m \u001b[0mextend_blocks\u001b[0m\u001b[0;34m(\u001b[0m\u001b[0mapplied\u001b[0m\u001b[0;34m,\u001b[0m \u001b[0mresult_blocks\u001b[0m\u001b[0;34m)\u001b[0m\u001b[0;34m\u001b[0m\u001b[0;34m\u001b[0m\u001b[0m\n\u001b[1;32m    354\u001b[0m \u001b[0;34m\u001b[0m\u001b[0m\n",
            "\u001b[0;32m/usr/local/lib/python3.10/dist-packages/pandas/core/internals/blocks.py\u001b[0m in \u001b[0;36mastype\u001b[0;34m(self, dtype, copy, errors, using_cow)\u001b[0m\n\u001b[1;32m    509\u001b[0m         \u001b[0mvalues\u001b[0m \u001b[0;34m=\u001b[0m \u001b[0mself\u001b[0m\u001b[0;34m.\u001b[0m\u001b[0mvalues\u001b[0m\u001b[0;34m\u001b[0m\u001b[0;34m\u001b[0m\u001b[0m\n\u001b[1;32m    510\u001b[0m \u001b[0;34m\u001b[0m\u001b[0m\n\u001b[0;32m--> 511\u001b[0;31m         \u001b[0mnew_values\u001b[0m \u001b[0;34m=\u001b[0m \u001b[0mastype_array_safe\u001b[0m\u001b[0;34m(\u001b[0m\u001b[0mvalues\u001b[0m\u001b[0;34m,\u001b[0m \u001b[0mdtype\u001b[0m\u001b[0;34m,\u001b[0m \u001b[0mcopy\u001b[0m\u001b[0;34m=\u001b[0m\u001b[0mcopy\u001b[0m\u001b[0;34m,\u001b[0m \u001b[0merrors\u001b[0m\u001b[0;34m=\u001b[0m\u001b[0merrors\u001b[0m\u001b[0;34m)\u001b[0m\u001b[0;34m\u001b[0m\u001b[0;34m\u001b[0m\u001b[0m\n\u001b[0m\u001b[1;32m    512\u001b[0m \u001b[0;34m\u001b[0m\u001b[0m\n\u001b[1;32m    513\u001b[0m         \u001b[0mnew_values\u001b[0m \u001b[0;34m=\u001b[0m \u001b[0mmaybe_coerce_values\u001b[0m\u001b[0;34m(\u001b[0m\u001b[0mnew_values\u001b[0m\u001b[0;34m)\u001b[0m\u001b[0;34m\u001b[0m\u001b[0;34m\u001b[0m\u001b[0m\n",
            "\u001b[0;32m/usr/local/lib/python3.10/dist-packages/pandas/core/dtypes/astype.py\u001b[0m in \u001b[0;36mastype_array_safe\u001b[0;34m(values, dtype, copy, errors)\u001b[0m\n\u001b[1;32m    240\u001b[0m \u001b[0;34m\u001b[0m\u001b[0m\n\u001b[1;32m    241\u001b[0m     \u001b[0;32mtry\u001b[0m\u001b[0;34m:\u001b[0m\u001b[0;34m\u001b[0m\u001b[0;34m\u001b[0m\u001b[0m\n\u001b[0;32m--> 242\u001b[0;31m         \u001b[0mnew_values\u001b[0m \u001b[0;34m=\u001b[0m \u001b[0mastype_array\u001b[0m\u001b[0;34m(\u001b[0m\u001b[0mvalues\u001b[0m\u001b[0;34m,\u001b[0m \u001b[0mdtype\u001b[0m\u001b[0;34m,\u001b[0m \u001b[0mcopy\u001b[0m\u001b[0;34m=\u001b[0m\u001b[0mcopy\u001b[0m\u001b[0;34m)\u001b[0m\u001b[0;34m\u001b[0m\u001b[0;34m\u001b[0m\u001b[0m\n\u001b[0m\u001b[1;32m    243\u001b[0m     \u001b[0;32mexcept\u001b[0m \u001b[0;34m(\u001b[0m\u001b[0mValueError\u001b[0m\u001b[0;34m,\u001b[0m \u001b[0mTypeError\u001b[0m\u001b[0;34m)\u001b[0m\u001b[0;34m:\u001b[0m\u001b[0;34m\u001b[0m\u001b[0;34m\u001b[0m\u001b[0m\n\u001b[1;32m    244\u001b[0m         \u001b[0;31m# e.g. _astype_nansafe can fail on object-dtype of strings\u001b[0m\u001b[0;34m\u001b[0m\u001b[0;34m\u001b[0m\u001b[0m\n",
            "\u001b[0;32m/usr/local/lib/python3.10/dist-packages/pandas/core/dtypes/astype.py\u001b[0m in \u001b[0;36mastype_array\u001b[0;34m(values, dtype, copy)\u001b[0m\n\u001b[1;32m    185\u001b[0m \u001b[0;34m\u001b[0m\u001b[0m\n\u001b[1;32m    186\u001b[0m     \u001b[0;32melse\u001b[0m\u001b[0;34m:\u001b[0m\u001b[0;34m\u001b[0m\u001b[0;34m\u001b[0m\u001b[0m\n\u001b[0;32m--> 187\u001b[0;31m         \u001b[0mvalues\u001b[0m \u001b[0;34m=\u001b[0m \u001b[0m_astype_nansafe\u001b[0m\u001b[0;34m(\u001b[0m\u001b[0mvalues\u001b[0m\u001b[0;34m,\u001b[0m \u001b[0mdtype\u001b[0m\u001b[0;34m,\u001b[0m \u001b[0mcopy\u001b[0m\u001b[0;34m=\u001b[0m\u001b[0mcopy\u001b[0m\u001b[0;34m)\u001b[0m\u001b[0;34m\u001b[0m\u001b[0;34m\u001b[0m\u001b[0m\n\u001b[0m\u001b[1;32m    188\u001b[0m \u001b[0;34m\u001b[0m\u001b[0m\n\u001b[1;32m    189\u001b[0m     \u001b[0;31m# in pandas we don't store numpy str dtypes, so convert to object\u001b[0m\u001b[0;34m\u001b[0m\u001b[0;34m\u001b[0m\u001b[0m\n",
            "\u001b[0;32m/usr/local/lib/python3.10/dist-packages/pandas/core/dtypes/astype.py\u001b[0m in \u001b[0;36m_astype_nansafe\u001b[0;34m(arr, dtype, copy, skipna)\u001b[0m\n\u001b[1;32m     82\u001b[0m     \u001b[0;31m# dispatch on extension dtype if needed\u001b[0m\u001b[0;34m\u001b[0m\u001b[0;34m\u001b[0m\u001b[0m\n\u001b[1;32m     83\u001b[0m     \u001b[0;32mif\u001b[0m \u001b[0misinstance\u001b[0m\u001b[0;34m(\u001b[0m\u001b[0mdtype\u001b[0m\u001b[0;34m,\u001b[0m \u001b[0mExtensionDtype\u001b[0m\u001b[0;34m)\u001b[0m\u001b[0;34m:\u001b[0m\u001b[0;34m\u001b[0m\u001b[0;34m\u001b[0m\u001b[0m\n\u001b[0;32m---> 84\u001b[0;31m         \u001b[0;32mreturn\u001b[0m \u001b[0mdtype\u001b[0m\u001b[0;34m.\u001b[0m\u001b[0mconstruct_array_type\u001b[0m\u001b[0;34m(\u001b[0m\u001b[0;34m)\u001b[0m\u001b[0;34m.\u001b[0m\u001b[0m_from_sequence\u001b[0m\u001b[0;34m(\u001b[0m\u001b[0marr\u001b[0m\u001b[0;34m,\u001b[0m \u001b[0mdtype\u001b[0m\u001b[0;34m=\u001b[0m\u001b[0mdtype\u001b[0m\u001b[0;34m,\u001b[0m \u001b[0mcopy\u001b[0m\u001b[0;34m=\u001b[0m\u001b[0mcopy\u001b[0m\u001b[0;34m)\u001b[0m\u001b[0;34m\u001b[0m\u001b[0;34m\u001b[0m\u001b[0m\n\u001b[0m\u001b[1;32m     85\u001b[0m \u001b[0;34m\u001b[0m\u001b[0m\n\u001b[1;32m     86\u001b[0m     \u001b[0;32melif\u001b[0m \u001b[0;32mnot\u001b[0m \u001b[0misinstance\u001b[0m\u001b[0;34m(\u001b[0m\u001b[0mdtype\u001b[0m\u001b[0;34m,\u001b[0m \u001b[0mnp\u001b[0m\u001b[0;34m.\u001b[0m\u001b[0mdtype\u001b[0m\u001b[0;34m)\u001b[0m\u001b[0;34m:\u001b[0m  \u001b[0;31m# pragma: no cover\u001b[0m\u001b[0;34m\u001b[0m\u001b[0;34m\u001b[0m\u001b[0m\n",
            "\u001b[0;32m/usr/local/lib/python3.10/dist-packages/pandas/core/arrays/masked.py\u001b[0m in \u001b[0;36m_from_sequence\u001b[0;34m(cls, scalars, dtype, copy)\u001b[0m\n\u001b[1;32m    138\u001b[0m         \u001b[0mcls\u001b[0m\u001b[0;34m:\u001b[0m \u001b[0mtype\u001b[0m\u001b[0;34m[\u001b[0m\u001b[0mBaseMaskedArrayT\u001b[0m\u001b[0;34m]\u001b[0m\u001b[0;34m,\u001b[0m \u001b[0mscalars\u001b[0m\u001b[0;34m,\u001b[0m \u001b[0;34m*\u001b[0m\u001b[0;34m,\u001b[0m \u001b[0mdtype\u001b[0m\u001b[0;34m=\u001b[0m\u001b[0;32mNone\u001b[0m\u001b[0;34m,\u001b[0m \u001b[0mcopy\u001b[0m\u001b[0;34m:\u001b[0m \u001b[0mbool\u001b[0m \u001b[0;34m=\u001b[0m \u001b[0;32mFalse\u001b[0m\u001b[0;34m\u001b[0m\u001b[0;34m\u001b[0m\u001b[0m\n\u001b[1;32m    139\u001b[0m     ) -> BaseMaskedArrayT:\n\u001b[0;32m--> 140\u001b[0;31m         \u001b[0mvalues\u001b[0m\u001b[0;34m,\u001b[0m \u001b[0mmask\u001b[0m \u001b[0;34m=\u001b[0m \u001b[0mcls\u001b[0m\u001b[0;34m.\u001b[0m\u001b[0m_coerce_to_array\u001b[0m\u001b[0;34m(\u001b[0m\u001b[0mscalars\u001b[0m\u001b[0;34m,\u001b[0m \u001b[0mdtype\u001b[0m\u001b[0;34m=\u001b[0m\u001b[0mdtype\u001b[0m\u001b[0;34m,\u001b[0m \u001b[0mcopy\u001b[0m\u001b[0;34m=\u001b[0m\u001b[0mcopy\u001b[0m\u001b[0;34m)\u001b[0m\u001b[0;34m\u001b[0m\u001b[0;34m\u001b[0m\u001b[0m\n\u001b[0m\u001b[1;32m    141\u001b[0m         \u001b[0;32mreturn\u001b[0m \u001b[0mcls\u001b[0m\u001b[0;34m(\u001b[0m\u001b[0mvalues\u001b[0m\u001b[0;34m,\u001b[0m \u001b[0mmask\u001b[0m\u001b[0;34m)\u001b[0m\u001b[0;34m\u001b[0m\u001b[0;34m\u001b[0m\u001b[0m\n\u001b[1;32m    142\u001b[0m \u001b[0;34m\u001b[0m\u001b[0m\n",
            "\u001b[0;32m/usr/local/lib/python3.10/dist-packages/pandas/core/arrays/numeric.py\u001b[0m in \u001b[0;36m_coerce_to_array\u001b[0;34m(cls, value, dtype, copy)\u001b[0m\n\u001b[1;32m    275\u001b[0m         \u001b[0mdefault_dtype\u001b[0m \u001b[0;34m=\u001b[0m \u001b[0mdtype_cls\u001b[0m\u001b[0;34m.\u001b[0m\u001b[0m_default_np_dtype\u001b[0m\u001b[0;34m\u001b[0m\u001b[0;34m\u001b[0m\u001b[0m\n\u001b[1;32m    276\u001b[0m         \u001b[0mmask\u001b[0m \u001b[0;34m=\u001b[0m \u001b[0;32mNone\u001b[0m\u001b[0;34m\u001b[0m\u001b[0;34m\u001b[0m\u001b[0m\n\u001b[0;32m--> 277\u001b[0;31m         values, mask, _, _ = _coerce_to_data_and_mask(\n\u001b[0m\u001b[1;32m    278\u001b[0m             \u001b[0mvalue\u001b[0m\u001b[0;34m,\u001b[0m \u001b[0mmask\u001b[0m\u001b[0;34m,\u001b[0m \u001b[0mdtype\u001b[0m\u001b[0;34m,\u001b[0m \u001b[0mcopy\u001b[0m\u001b[0;34m,\u001b[0m \u001b[0mdtype_cls\u001b[0m\u001b[0;34m,\u001b[0m \u001b[0mdefault_dtype\u001b[0m\u001b[0;34m\u001b[0m\u001b[0;34m\u001b[0m\u001b[0m\n\u001b[1;32m    279\u001b[0m         )\n",
            "\u001b[0;32m/usr/local/lib/python3.10/dist-packages/pandas/core/arrays/numeric.py\u001b[0m in \u001b[0;36m_coerce_to_data_and_mask\u001b[0;34m(values, mask, dtype, copy, dtype_cls, default_dtype)\u001b[0m\n\u001b[1;32m    231\u001b[0m         \u001b[0mvalues\u001b[0m \u001b[0;34m=\u001b[0m \u001b[0mvalues\u001b[0m\u001b[0;34m.\u001b[0m\u001b[0mastype\u001b[0m\u001b[0;34m(\u001b[0m\u001b[0mdtype\u001b[0m\u001b[0;34m,\u001b[0m \u001b[0mcopy\u001b[0m\u001b[0;34m=\u001b[0m\u001b[0mcopy\u001b[0m\u001b[0;34m)\u001b[0m\u001b[0;34m\u001b[0m\u001b[0;34m\u001b[0m\u001b[0m\n\u001b[1;32m    232\u001b[0m     \u001b[0;32melse\u001b[0m\u001b[0;34m:\u001b[0m\u001b[0;34m\u001b[0m\u001b[0;34m\u001b[0m\u001b[0m\n\u001b[0;32m--> 233\u001b[0;31m         \u001b[0mvalues\u001b[0m \u001b[0;34m=\u001b[0m \u001b[0mdtype_cls\u001b[0m\u001b[0;34m.\u001b[0m\u001b[0m_safe_cast\u001b[0m\u001b[0;34m(\u001b[0m\u001b[0mvalues\u001b[0m\u001b[0;34m,\u001b[0m \u001b[0mdtype\u001b[0m\u001b[0;34m,\u001b[0m \u001b[0mcopy\u001b[0m\u001b[0;34m=\u001b[0m\u001b[0;32mFalse\u001b[0m\u001b[0;34m)\u001b[0m\u001b[0;34m\u001b[0m\u001b[0;34m\u001b[0m\u001b[0m\n\u001b[0m\u001b[1;32m    234\u001b[0m \u001b[0;34m\u001b[0m\u001b[0m\n\u001b[1;32m    235\u001b[0m     \u001b[0;32mreturn\u001b[0m \u001b[0mvalues\u001b[0m\u001b[0;34m,\u001b[0m \u001b[0mmask\u001b[0m\u001b[0;34m,\u001b[0m \u001b[0mdtype\u001b[0m\u001b[0;34m,\u001b[0m \u001b[0minferred_type\u001b[0m\u001b[0;34m\u001b[0m\u001b[0;34m\u001b[0m\u001b[0m\n",
            "\u001b[0;32m/usr/local/lib/python3.10/dist-packages/pandas/core/arrays/integer.py\u001b[0m in \u001b[0;36m_safe_cast\u001b[0;34m(cls, values, dtype, copy)\u001b[0m\n\u001b[1;32m     51\u001b[0m             \u001b[0;32mreturn\u001b[0m \u001b[0mvalues\u001b[0m\u001b[0;34m.\u001b[0m\u001b[0mastype\u001b[0m\u001b[0;34m(\u001b[0m\u001b[0mdtype\u001b[0m\u001b[0;34m,\u001b[0m \u001b[0mcasting\u001b[0m\u001b[0;34m=\u001b[0m\u001b[0;34m\"safe\"\u001b[0m\u001b[0;34m,\u001b[0m \u001b[0mcopy\u001b[0m\u001b[0;34m=\u001b[0m\u001b[0mcopy\u001b[0m\u001b[0;34m)\u001b[0m\u001b[0;34m\u001b[0m\u001b[0;34m\u001b[0m\u001b[0m\n\u001b[1;32m     52\u001b[0m         \u001b[0;32mexcept\u001b[0m \u001b[0mTypeError\u001b[0m \u001b[0;32mas\u001b[0m \u001b[0merr\u001b[0m\u001b[0;34m:\u001b[0m\u001b[0;34m\u001b[0m\u001b[0;34m\u001b[0m\u001b[0m\n\u001b[0;32m---> 53\u001b[0;31m             \u001b[0mcasted\u001b[0m \u001b[0;34m=\u001b[0m \u001b[0mvalues\u001b[0m\u001b[0;34m.\u001b[0m\u001b[0mastype\u001b[0m\u001b[0;34m(\u001b[0m\u001b[0mdtype\u001b[0m\u001b[0;34m,\u001b[0m \u001b[0mcopy\u001b[0m\u001b[0;34m=\u001b[0m\u001b[0mcopy\u001b[0m\u001b[0;34m)\u001b[0m\u001b[0;34m\u001b[0m\u001b[0;34m\u001b[0m\u001b[0m\n\u001b[0m\u001b[1;32m     54\u001b[0m             \u001b[0;32mif\u001b[0m \u001b[0;34m(\u001b[0m\u001b[0mcasted\u001b[0m \u001b[0;34m==\u001b[0m \u001b[0mvalues\u001b[0m\u001b[0;34m)\u001b[0m\u001b[0;34m.\u001b[0m\u001b[0mall\u001b[0m\u001b[0;34m(\u001b[0m\u001b[0;34m)\u001b[0m\u001b[0;34m:\u001b[0m\u001b[0;34m\u001b[0m\u001b[0;34m\u001b[0m\u001b[0m\n\u001b[1;32m     55\u001b[0m                 \u001b[0;32mreturn\u001b[0m \u001b[0mcasted\u001b[0m\u001b[0;34m\u001b[0m\u001b[0;34m\u001b[0m\u001b[0m\n",
            "\u001b[0;31mValueError\u001b[0m: invalid literal for int() with base 10: '  '"
          ]
        }
      ]
    },
    {
      "cell_type": "code",
      "source": [
        "# Save DataFrame to an Excel file\n",
        "excel_file = 'CU_EM_limpio.xlsx'\n",
        "CU_EM.to_excel(excel_file, index=False)\n",
        "\n",
        "# excel_file = 'CR_EM_limpio.xlsx'\n",
        "# CR_EM.to_excel(excel_file, index=False)\n",
        "\n",
        "excel_file = 'TO_EM_limpio.xlsx'\n",
        "TO_EM.to_excel(excel_file, index=False)\n",
        "\n",
        "excel_file = 'AB_EM_limpio.xlsx'\n",
        "AB_EM.to_excel(excel_file, index=False)\n",
        "\n",
        "excel_file = 'CLM_EM.xlsx'\n",
        "CLM_EM.to_excel(excel_file, index=False)"
      ],
      "metadata": {
        "id": "N_d4q_MB2NMQ"
      },
      "execution_count": null,
      "outputs": []
    }
  ],
  "metadata": {
    "colab": {
      "name": "Welcome To Colaboratory",
      "provenance": [],
      "include_colab_link": true
    },
    "kernelspec": {
      "display_name": "Python 3",
      "name": "python3"
    }
  },
  "nbformat": 4,
  "nbformat_minor": 0
}