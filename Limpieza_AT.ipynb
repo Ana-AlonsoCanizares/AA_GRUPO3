{
  "cells": [
    {
      "cell_type": "markdown",
      "metadata": {
        "id": "view-in-github",
        "colab_type": "text"
      },
      "source": [
        "<a href=\"https://colab.research.google.com/github/Ana-AlonsoCanizares/AA_GRUPO3/blob/main/Limpieza_AT.ipynb\" target=\"_parent\"><img src=\"https://colab.research.google.com/assets/colab-badge.svg\" alt=\"Open In Colab\"/></a>"
      ]
    },
    {
      "cell_type": "markdown",
      "source": [
        "#**Faltan los datos de Guadalajara de AT**\n"
      ],
      "metadata": {
        "id": "v018wrST81Fb"
      }
    },
    {
      "cell_type": "code",
      "source": [
        "# from google.colab import drive\n",
        "# drive.mount('/content/drive')"
      ],
      "metadata": {
        "id": "fKfBUap_RjEA"
      },
      "execution_count": null,
      "outputs": []
    },
    {
      "cell_type": "code",
      "source": [
        "pip install unidecode"
      ],
      "metadata": {
        "id": "KnFkLXsMRn5d",
        "outputId": "5adfbd8a-011d-4b84-c5ba-2abdb42eb3c2",
        "colab": {
          "base_uri": "https://localhost:8080/"
        }
      },
      "execution_count": 2,
      "outputs": [
        {
          "output_type": "stream",
          "name": "stdout",
          "text": [
            "Collecting unidecode\n",
            "  Downloading Unidecode-1.3.8-py3-none-any.whl (235 kB)\n",
            "\u001b[?25l     \u001b[90m━━━━━━━━━━━━━━━━━━━━━━━━━━━━━━━━━━━━━━━━\u001b[0m \u001b[32m0.0/235.5 kB\u001b[0m \u001b[31m?\u001b[0m eta \u001b[36m-:--:--\u001b[0m\r\u001b[2K     \u001b[91m━━━━━━━━━━━━━━━━━━━━━━━━━━━━━━━━━━━━━━\u001b[0m\u001b[90m╺\u001b[0m\u001b[90m━\u001b[0m \u001b[32m225.3/235.5 kB\u001b[0m \u001b[31m6.6 MB/s\u001b[0m eta \u001b[36m0:00:01\u001b[0m\r\u001b[2K     \u001b[90m━━━━━━━━━━━━━━━━━━━━━━━━━━━━━━━━━━━━━━━━\u001b[0m \u001b[32m235.5/235.5 kB\u001b[0m \u001b[31m5.0 MB/s\u001b[0m eta \u001b[36m0:00:00\u001b[0m\n",
            "\u001b[?25hInstalling collected packages: unidecode\n",
            "Successfully installed unidecode-1.3.8\n"
          ]
        }
      ]
    },
    {
      "cell_type": "code",
      "source": [
        "import os\n",
        "import pandas as pd\n",
        "import numpy as np\n",
        "from unidecode import unidecode\n",
        "import matplotlib.pyplot as plt"
      ],
      "metadata": {
        "id": "us_9Si-LRpIO"
      },
      "execution_count": 3,
      "outputs": []
    },
    {
      "cell_type": "code",
      "source": [
        "# # Asegúrarse de cambiar la ruta por el nombre real de la carpeta en Google Drive\n",
        "# folder_path = '/content/drive/My Drive/PFG_FASPAS/SAAF'\n",
        "# docs_xlsx = [f for f in os.listdir(folder_path) if f.endswith('.xlsx')]\n",
        "# print(docs_xlsx)\n",
        "\n",
        "# # Asegúrarse de cambiar la ruta por el nombre real de la carpeta en Google Drive\n",
        "# folder_path_csv = '/content/drive/My Drive/PFG_FASPAS/Zonas_Prioritarias'\n",
        "# docs_csv = [f for f in os.listdir(folder_path_csv) if f.endswith('.csv')]\n",
        "# print(docs_csv)"
      ],
      "metadata": {
        "id": "ng3k6yBpRq8j"
      },
      "execution_count": null,
      "outputs": []
    },
    {
      "cell_type": "code",
      "source": [
        "# dic_dataframes = {}\n",
        "# dic_zonas = {}\n",
        "\n",
        "# for doc in docs_xlsx:\n",
        "#     entire_path = os.path.join(folder_path, doc)\n",
        "#     df = pd.read_excel(entire_path)\n",
        "#     # Uso el nombre del archivo como clave\n",
        "#     dic_dataframes[doc] = df\n",
        "\n",
        "# for doc in docs_csv:\n",
        "#   entire_path = os.path.join(folder_path_csv, doc)\n",
        "#   df = pd.read_csv(entire_path)\n",
        "#   # Uso el nombre del archivo como clave\n",
        "#   dic_zonas[doc] = df\n",
        "\n",
        "# # Imprimir todas las claves\n",
        "# for clave in dic_dataframes.keys():\n",
        "#     print(clave)"
      ],
      "metadata": {
        "id": "xQj4iHjmRtu6"
      },
      "execution_count": null,
      "outputs": []
    },
    {
      "cell_type": "code",
      "source": [
        "# CU_SAAF = dic_dataframes.get(\"CU_SAAF.xlsx\")\n",
        "# CU_AT = dic_dataframes.get(\"CU_AT.xlsx\")\n",
        "# CU_EMPLEO = dic_dataframes.get(\"CU_EMPLEO.xlsx\")\n",
        "# CU_LOG = dic_dataframes.get(\"CU_LOG.xlsx\")\n",
        "# # CU_SOCIOS = dic_dataframes.get(\"CU_SOCIOS.xlsx\")"
      ],
      "metadata": {
        "id": "PdTbQUpQRvy4"
      },
      "execution_count": null,
      "outputs": []
    },
    {
      "cell_type": "code",
      "source": [
        "# CÓDIGO SOLO PARA EL CURRO (PQ NO PUEDO ACCEDER AL DRIVE)\n",
        "# Primero cogemos todos los trimestres de CU para probar\n",
        "CU_Trim1_2022_AT = pd.read_excel('/content/CU_Trim1_2022_AT.xlsx')\n",
        "CU_Trim2_2022_AT = pd.read_excel('/content/CU_Trim2_2022_AT.xlsx')\n",
        "CU_Trim3_2022_AT = pd.read_excel('/content/CU_Trim3_2022_AT.xlsx')\n",
        "CU_Trim4_2022_AT = pd.read_excel('/content/CU_Trim4_2022_AT.xlsx')\n",
        "CU_Trim1_2023_AT = pd.read_excel('/content/CU_Trim1_2023_AT.xlsx')\n",
        "CU_Trim2_2023_AT = pd.read_excel('/content/CU_Trim2_2023_AT.xlsx')\n",
        "CU_Trim3_2023_AT = pd.read_excel('/content/CU_Trim3_2023_AT.xlsx')\n",
        "CU_Trim4_2023_AT = pd.read_excel('/content/CU_Trim4_2023_AT.xlsx')"
      ],
      "metadata": {
        "id": "yFITrDMYRx5v"
      },
      "execution_count": 4,
      "outputs": []
    },
    {
      "cell_type": "code",
      "source": [
        "CU_Trim1_2022_AT.info()"
      ],
      "metadata": {
        "id": "jQ4B8eidSXGV",
        "outputId": "2fba5e3d-2564-4394-eba3-19ac2c440939",
        "colab": {
          "base_uri": "https://localhost:8080/"
        }
      },
      "execution_count": 6,
      "outputs": [
        {
          "output_type": "stream",
          "name": "stdout",
          "text": [
            "<class 'pandas.core.frame.DataFrame'>\n",
            "RangeIndex: 44 entries, 0 to 43\n",
            "Data columns (total 37 columns):\n",
            " #   Column                                Non-Null Count  Dtype  \n",
            "---  ------                                --------------  -----  \n",
            " 0   Unnamed: 0                            7 non-null      object \n",
            " 1   Unnamed: 1                            7 non-null      object \n",
            " 2   Unnamed: 2                            7 non-null      object \n",
            " 3   Unnamed: 3                            7 non-null      object \n",
            " 4   Unnamed: 4                            7 non-null      object \n",
            " 5   Unnamed: 5                            35 non-null     object \n",
            " 6   Unnamed: 6                            35 non-null     object \n",
            " 7   Unnamed: 7                            7 non-null      object \n",
            " 8   Unnamed: 8                            7 non-null      object \n",
            " 9   Unnamed: 9                            7 non-null      object \n",
            " 10  Unnamed: 10                           7 non-null      object \n",
            " 11  Unnamed: 11                           7 non-null      object \n",
            " 12  Unnamed: 12                           7 non-null      object \n",
            " 13  Unnamed: 13                           7 non-null      object \n",
            " 14  Unnamed: 14                           7 non-null      object \n",
            " 15  Unnamed: 15                           7 non-null      object \n",
            " 16  Unnamed: 16                           3 non-null      object \n",
            " 17  Unnamed: 17                           6 non-null      object \n",
            " 18  Unnamed: 18                           7 non-null      object \n",
            " 19  Unnamed: 19                           7 non-null      object \n",
            " 20  Unnamed: 20                           7 non-null      object \n",
            " 21  Unnamed: 21                           1 non-null      object \n",
            " 22  Unnamed: 22                           35 non-null     object \n",
            " 23  Unnamed: 23                           35 non-null     object \n",
            " 24  Unnamed: 24                           35 non-null     object \n",
            " 25  Unnamed: 25                           1 non-null      object \n",
            " 26  Unnamed: 26                           0 non-null      float64\n",
            " 27  Unnamed: 27                           0 non-null      float64\n",
            " 28  Unnamed: 28                           0 non-null      float64\n",
            " 29  Unnamed: 29                           0 non-null      float64\n",
            " 30  Provincia                             5 non-null      object \n",
            " 31  Sexo                                  2 non-null      object \n",
            " 32  Derivación                            7 non-null      object \n",
            " 33  Dependencia                           4 non-null      object \n",
            " 34  Perfil del profesional de referencia  5 non-null      object \n",
            " 35  Entorno donde se realiza el apoyo     7 non-null      object \n",
            " 36  Motivo de finalización                9 non-null      object \n",
            "dtypes: float64(4), object(33)\n",
            "memory usage: 12.8+ KB\n"
          ]
        }
      ]
    },
    {
      "cell_type": "code",
      "source": [
        "# Definir la función que realiza las transformaciones\n",
        "def transform_df(df):\n",
        "    col_excluded = ['FECHA NACIMIENTO', 'FECHA DE NACIMIENTO', 'FECHA NAC']\n",
        "\n",
        "    # Convertir todas las columnas de tipo object a mayúsculas, excepto las especificadas\n",
        "    for column in df.columns:\n",
        "        if df[column].dtype == 'object' and column not in col_excluded:\n",
        "            df[column] = df[column].apply(lambda x: unidecode(x.upper()) if isinstance(x, str) else x)\n",
        "\n",
        "    # Ahora, aplicamos unidecode a los nombres de las columnas\n",
        "    df.columns = [unidecode(col.upper()) for col in df.columns]\n",
        "\n",
        "    return df"
      ],
      "metadata": {
        "id": "uc0_mJa-TJSn"
      },
      "execution_count": 7,
      "outputs": []
    },
    {
      "cell_type": "code",
      "source": [
        "CU_Trim1_2022_AT = transform_df(CU_Trim1_2022_AT)"
      ],
      "metadata": {
        "id": "g9IMK0unTbFR"
      },
      "execution_count": null,
      "outputs": []
    }
  ],
  "metadata": {
    "colab": {
      "name": "Welcome To Colaboratory",
      "provenance": [],
      "include_colab_link": true
    },
    "kernelspec": {
      "display_name": "Python 3",
      "name": "python3"
    }
  },
  "nbformat": 4,
  "nbformat_minor": 0
}