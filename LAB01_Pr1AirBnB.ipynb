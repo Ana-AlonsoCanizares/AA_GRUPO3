{
  "nbformat": 4,
  "nbformat_minor": 0,
  "metadata": {
    "colab": {
      "provenance": [],
      "include_colab_link": true
    },
    "kernelspec": {
      "name": "python3",
      "display_name": "Python 3"
    },
    "language_info": {
      "name": "python"
    }
  },
  "cells": [
    {
      "cell_type": "markdown",
      "metadata": {
        "id": "view-in-github",
        "colab_type": "text"
      },
      "source": [
        "<a href=\"https://colab.research.google.com/github/Ana-AlonsoCanizares/AA_GRUPO3/blob/main/LAB01_Pr1AirBnB.ipynb\" target=\"_parent\"><img src=\"https://colab.research.google.com/assets/colab-badge.svg\" alt=\"Open In Colab\"/></a>"
      ]
    },
    {
      "cell_type": "markdown",
      "source": [
        "# Objetivo\n",
        "El problema del alquiler de la vivienda ya forma parte del contexto de la mayoría de grandes ciudades del mundo. Hay varios factores que se enumeran como parte del problema: el turismo masivo, la distribución de las ciudades o el auge de los apartamentos turísticos como es el caso de AirBnB. Lo que si queda claro es que los datos obtenidos del portal sirven para obtener una radiografía más o menos valida de la ciudad. A través del dataset proporcionado en Moodle en el que se miden las estancias en los últimos años en la ciudad de New York. Hay varias preguntas que nos hacemos, que contestaremos a continuación.\n",
        "\n",
        "# Resolución\n",
        "## Apartado 1\n",
        "El barrio de Williamsburg es uno de los barrios de moda hoy en día. Desde 2005 ha pasado de ser un distrito donde principalmente se encontraban fabricas a acoger una gran cantidad de gente joven y nuevos negocios. ¿Teniendo en cuenta los datos proporcionados que posición en términos de popularidad/calidad se puede decir que ostenta el barrio con respecto a los demás que forma New York? \n",
        " \n",
        "Lo primero que tendremos que hacer es cargar todo el archivo csv en un DataFrame para poder manipularlos. Habrá que comprobar si existen datos redundantes o anómalos.\n",
        "\n",
        "Para medir  la popularidad/calidad del barrio, tendremos primero  en cuenta el número de apartamentos  de calidad según los usuarios. Para ello, lo primero será clasificar los apartamentos como “Muy Malos”, “Malos”, “Regulares”, “Buenos” y “Muy Buenos”. Para ello primero haremos un par de transformaciones de los datos. La columna de reseñas por mes, se dividirán en 3 rangos iguales, después dependiendo del valor concreto que tenga cada apartamento se le asignarán las etiquetas: “Baja”, “Media” y ”Alta”. Para la columna que indica el número de días que está disponible asignaremos las etiquetas de menor valor a mayor de la siguiente manera: “Poco disponible”, “Disponible normalmente” y “Altamente disponible”. Finalmente crearemos una columna para clasificar los apartamentos, teniendo en cuenta las siguientes reglas: \n",
        "\n",
        "• Si Reseñas es Baja y Disponibilidad es “Poco disponible” -> “Bueno”\n",
        "\n",
        "• Si Reseñas es Media y Disponibilidad es “Poco disponible” -> “Bueno”\n",
        "\n",
        "• Si Reseñas es Alta y Disponibilidad es “Poco disponible” -> “Muy Bueno”\n",
        "\n",
        "• Si Reseñas es Baja y Disponibilidad es “Disponible normalmente” -> “Regular”\n",
        "\n",
        "• Si Reseñas es Media y Disponibilidad es “Disponible normalmente” -> “Regular”\n",
        "\n",
        "• Si Reseñas es Alta y Disponibilidad es “Disponible normalmente” -> “Bueno” \n",
        "\n",
        "• Si Reseñas es Baja y Disponibilidad es “Altamente disponible” -> “Malo” \n",
        "\n",
        "• Si Reseñas es Media y Disponibilidad es “Altamente disponible” -> “Malo” \n",
        "\n",
        "• Si Reseñas es alta y Disponibilidad es “Altamente disponible” -> “Muy malo” \n"
      ],
      "metadata": {
        "id": "5O-TnR4u5IxB"
      }
    },
    {
      "cell_type": "code",
      "source": [
        "# Importación de librerías a utilizar\n",
        "import pandas as pd\n",
        "import numpy as np\n",
        "import matplotlib.pyplot as plt\n",
        "import numpy as np\n",
        "from numpy.core.function_base import linspace\n",
        "from math import floor\n",
        "from math import ceil\n",
        "from numpy.ma.core import size\n",
        "\n",
        "# Lectura de la base de datos\n",
        "filename = 'airbnb.csv'\n",
        "data = pd.read_csv(filename, sep = ',')\n",
        "\n",
        "# Revisión de los datos\n",
        "print(data.shape)\n",
        "data.head(10)"
      ],
      "metadata": {
        "colab": {
          "base_uri": "https://localhost:8080/",
          "height": 791
        },
        "id": "cNQ28H5p6xRE",
        "outputId": "73328410-f283-4784-a795-2de742996b0f"
      },
      "execution_count": 1,
      "outputs": [
        {
          "output_type": "stream",
          "name": "stdout",
          "text": [
            "(48895, 16)\n"
          ]
        },
        {
          "output_type": "execute_result",
          "data": {
            "text/plain": [
              "     id                                              name  host_id  \\\n",
              "0  2539                Clean & quiet apt home by the park     2787   \n",
              "1  2595                             Skylit Midtown Castle     2845   \n",
              "2  3647               THE VILLAGE OF HARLEM....NEW YORK !     4632   \n",
              "3  3831                   Cozy Entire Floor of Brownstone     4869   \n",
              "4  5022  Entire Apt: Spacious Studio/Loft by central park     7192   \n",
              "5  5099         Large Cozy 1 BR Apartment In Midtown East     7322   \n",
              "6  5121                                   BlissArtsSpace!     7356   \n",
              "7  5178                  Large Furnished Room Near B'way      8967   \n",
              "8  5203                Cozy Clean Guest Room - Family Apt     7490   \n",
              "9  5238                Cute & Cozy Lower East Side 1 bdrm     7549   \n",
              "\n",
              "     host_name neighbourhood_group       neighbourhood  latitude  longitude  \\\n",
              "0         John            Brooklyn          Kensington  40.64749  -73.97237   \n",
              "1     Jennifer           Manhattan             Midtown  40.75362  -73.98377   \n",
              "2    Elisabeth           Manhattan              Harlem  40.80902  -73.94190   \n",
              "3  LisaRoxanne            Brooklyn        Clinton Hill  40.68514  -73.95976   \n",
              "4        Laura           Manhattan         East Harlem  40.79851  -73.94399   \n",
              "5        Chris           Manhattan         Murray Hill  40.74767  -73.97500   \n",
              "6        Garon            Brooklyn  Bedford-Stuyvesant  40.68688  -73.95596   \n",
              "7     Shunichi           Manhattan      Hell's Kitchen  40.76489  -73.98493   \n",
              "8    MaryEllen           Manhattan     Upper West Side  40.80178  -73.96723   \n",
              "9          Ben           Manhattan           Chinatown  40.71344  -73.99037   \n",
              "\n",
              "         room_type  price  minimum_nights  number_of_reviews last_review  \\\n",
              "0     Private room    149               1                  9  2018-10-19   \n",
              "1  Entire home/apt    225               1                 45  2019-05-21   \n",
              "2     Private room    150               3                  0         NaN   \n",
              "3  Entire home/apt     89               1                270  2019-07-05   \n",
              "4  Entire home/apt     80              10                  9  2018-11-19   \n",
              "5  Entire home/apt    200               3                 74  2019-06-22   \n",
              "6     Private room     60              45                 49  2017-10-05   \n",
              "7     Private room     79               2                430  2019-06-24   \n",
              "8     Private room     79               2                118  2017-07-21   \n",
              "9  Entire home/apt    150               1                160  2019-06-09   \n",
              "\n",
              "   reviews_per_month  calculated_host_listings_count  availability_365  \n",
              "0               0.21                               6               365  \n",
              "1               0.38                               2               355  \n",
              "2                NaN                               1               365  \n",
              "3               4.64                               1               194  \n",
              "4               0.10                               1                 0  \n",
              "5               0.59                               1               129  \n",
              "6               0.40                               1                 0  \n",
              "7               3.47                               1               220  \n",
              "8               0.99                               1                 0  \n",
              "9               1.33                               4               188  "
            ],
            "text/html": [
              "\n",
              "  <div id=\"df-3cdad9a4-4dde-493f-b613-ccef0e322dee\">\n",
              "    <div class=\"colab-df-container\">\n",
              "      <div>\n",
              "<style scoped>\n",
              "    .dataframe tbody tr th:only-of-type {\n",
              "        vertical-align: middle;\n",
              "    }\n",
              "\n",
              "    .dataframe tbody tr th {\n",
              "        vertical-align: top;\n",
              "    }\n",
              "\n",
              "    .dataframe thead th {\n",
              "        text-align: right;\n",
              "    }\n",
              "</style>\n",
              "<table border=\"1\" class=\"dataframe\">\n",
              "  <thead>\n",
              "    <tr style=\"text-align: right;\">\n",
              "      <th></th>\n",
              "      <th>id</th>\n",
              "      <th>name</th>\n",
              "      <th>host_id</th>\n",
              "      <th>host_name</th>\n",
              "      <th>neighbourhood_group</th>\n",
              "      <th>neighbourhood</th>\n",
              "      <th>latitude</th>\n",
              "      <th>longitude</th>\n",
              "      <th>room_type</th>\n",
              "      <th>price</th>\n",
              "      <th>minimum_nights</th>\n",
              "      <th>number_of_reviews</th>\n",
              "      <th>last_review</th>\n",
              "      <th>reviews_per_month</th>\n",
              "      <th>calculated_host_listings_count</th>\n",
              "      <th>availability_365</th>\n",
              "    </tr>\n",
              "  </thead>\n",
              "  <tbody>\n",
              "    <tr>\n",
              "      <th>0</th>\n",
              "      <td>2539</td>\n",
              "      <td>Clean &amp; quiet apt home by the park</td>\n",
              "      <td>2787</td>\n",
              "      <td>John</td>\n",
              "      <td>Brooklyn</td>\n",
              "      <td>Kensington</td>\n",
              "      <td>40.64749</td>\n",
              "      <td>-73.97237</td>\n",
              "      <td>Private room</td>\n",
              "      <td>149</td>\n",
              "      <td>1</td>\n",
              "      <td>9</td>\n",
              "      <td>2018-10-19</td>\n",
              "      <td>0.21</td>\n",
              "      <td>6</td>\n",
              "      <td>365</td>\n",
              "    </tr>\n",
              "    <tr>\n",
              "      <th>1</th>\n",
              "      <td>2595</td>\n",
              "      <td>Skylit Midtown Castle</td>\n",
              "      <td>2845</td>\n",
              "      <td>Jennifer</td>\n",
              "      <td>Manhattan</td>\n",
              "      <td>Midtown</td>\n",
              "      <td>40.75362</td>\n",
              "      <td>-73.98377</td>\n",
              "      <td>Entire home/apt</td>\n",
              "      <td>225</td>\n",
              "      <td>1</td>\n",
              "      <td>45</td>\n",
              "      <td>2019-05-21</td>\n",
              "      <td>0.38</td>\n",
              "      <td>2</td>\n",
              "      <td>355</td>\n",
              "    </tr>\n",
              "    <tr>\n",
              "      <th>2</th>\n",
              "      <td>3647</td>\n",
              "      <td>THE VILLAGE OF HARLEM....NEW YORK !</td>\n",
              "      <td>4632</td>\n",
              "      <td>Elisabeth</td>\n",
              "      <td>Manhattan</td>\n",
              "      <td>Harlem</td>\n",
              "      <td>40.80902</td>\n",
              "      <td>-73.94190</td>\n",
              "      <td>Private room</td>\n",
              "      <td>150</td>\n",
              "      <td>3</td>\n",
              "      <td>0</td>\n",
              "      <td>NaN</td>\n",
              "      <td>NaN</td>\n",
              "      <td>1</td>\n",
              "      <td>365</td>\n",
              "    </tr>\n",
              "    <tr>\n",
              "      <th>3</th>\n",
              "      <td>3831</td>\n",
              "      <td>Cozy Entire Floor of Brownstone</td>\n",
              "      <td>4869</td>\n",
              "      <td>LisaRoxanne</td>\n",
              "      <td>Brooklyn</td>\n",
              "      <td>Clinton Hill</td>\n",
              "      <td>40.68514</td>\n",
              "      <td>-73.95976</td>\n",
              "      <td>Entire home/apt</td>\n",
              "      <td>89</td>\n",
              "      <td>1</td>\n",
              "      <td>270</td>\n",
              "      <td>2019-07-05</td>\n",
              "      <td>4.64</td>\n",
              "      <td>1</td>\n",
              "      <td>194</td>\n",
              "    </tr>\n",
              "    <tr>\n",
              "      <th>4</th>\n",
              "      <td>5022</td>\n",
              "      <td>Entire Apt: Spacious Studio/Loft by central park</td>\n",
              "      <td>7192</td>\n",
              "      <td>Laura</td>\n",
              "      <td>Manhattan</td>\n",
              "      <td>East Harlem</td>\n",
              "      <td>40.79851</td>\n",
              "      <td>-73.94399</td>\n",
              "      <td>Entire home/apt</td>\n",
              "      <td>80</td>\n",
              "      <td>10</td>\n",
              "      <td>9</td>\n",
              "      <td>2018-11-19</td>\n",
              "      <td>0.10</td>\n",
              "      <td>1</td>\n",
              "      <td>0</td>\n",
              "    </tr>\n",
              "    <tr>\n",
              "      <th>5</th>\n",
              "      <td>5099</td>\n",
              "      <td>Large Cozy 1 BR Apartment In Midtown East</td>\n",
              "      <td>7322</td>\n",
              "      <td>Chris</td>\n",
              "      <td>Manhattan</td>\n",
              "      <td>Murray Hill</td>\n",
              "      <td>40.74767</td>\n",
              "      <td>-73.97500</td>\n",
              "      <td>Entire home/apt</td>\n",
              "      <td>200</td>\n",
              "      <td>3</td>\n",
              "      <td>74</td>\n",
              "      <td>2019-06-22</td>\n",
              "      <td>0.59</td>\n",
              "      <td>1</td>\n",
              "      <td>129</td>\n",
              "    </tr>\n",
              "    <tr>\n",
              "      <th>6</th>\n",
              "      <td>5121</td>\n",
              "      <td>BlissArtsSpace!</td>\n",
              "      <td>7356</td>\n",
              "      <td>Garon</td>\n",
              "      <td>Brooklyn</td>\n",
              "      <td>Bedford-Stuyvesant</td>\n",
              "      <td>40.68688</td>\n",
              "      <td>-73.95596</td>\n",
              "      <td>Private room</td>\n",
              "      <td>60</td>\n",
              "      <td>45</td>\n",
              "      <td>49</td>\n",
              "      <td>2017-10-05</td>\n",
              "      <td>0.40</td>\n",
              "      <td>1</td>\n",
              "      <td>0</td>\n",
              "    </tr>\n",
              "    <tr>\n",
              "      <th>7</th>\n",
              "      <td>5178</td>\n",
              "      <td>Large Furnished Room Near B'way</td>\n",
              "      <td>8967</td>\n",
              "      <td>Shunichi</td>\n",
              "      <td>Manhattan</td>\n",
              "      <td>Hell's Kitchen</td>\n",
              "      <td>40.76489</td>\n",
              "      <td>-73.98493</td>\n",
              "      <td>Private room</td>\n",
              "      <td>79</td>\n",
              "      <td>2</td>\n",
              "      <td>430</td>\n",
              "      <td>2019-06-24</td>\n",
              "      <td>3.47</td>\n",
              "      <td>1</td>\n",
              "      <td>220</td>\n",
              "    </tr>\n",
              "    <tr>\n",
              "      <th>8</th>\n",
              "      <td>5203</td>\n",
              "      <td>Cozy Clean Guest Room - Family Apt</td>\n",
              "      <td>7490</td>\n",
              "      <td>MaryEllen</td>\n",
              "      <td>Manhattan</td>\n",
              "      <td>Upper West Side</td>\n",
              "      <td>40.80178</td>\n",
              "      <td>-73.96723</td>\n",
              "      <td>Private room</td>\n",
              "      <td>79</td>\n",
              "      <td>2</td>\n",
              "      <td>118</td>\n",
              "      <td>2017-07-21</td>\n",
              "      <td>0.99</td>\n",
              "      <td>1</td>\n",
              "      <td>0</td>\n",
              "    </tr>\n",
              "    <tr>\n",
              "      <th>9</th>\n",
              "      <td>5238</td>\n",
              "      <td>Cute &amp; Cozy Lower East Side 1 bdrm</td>\n",
              "      <td>7549</td>\n",
              "      <td>Ben</td>\n",
              "      <td>Manhattan</td>\n",
              "      <td>Chinatown</td>\n",
              "      <td>40.71344</td>\n",
              "      <td>-73.99037</td>\n",
              "      <td>Entire home/apt</td>\n",
              "      <td>150</td>\n",
              "      <td>1</td>\n",
              "      <td>160</td>\n",
              "      <td>2019-06-09</td>\n",
              "      <td>1.33</td>\n",
              "      <td>4</td>\n",
              "      <td>188</td>\n",
              "    </tr>\n",
              "  </tbody>\n",
              "</table>\n",
              "</div>\n",
              "      <button class=\"colab-df-convert\" onclick=\"convertToInteractive('df-3cdad9a4-4dde-493f-b613-ccef0e322dee')\"\n",
              "              title=\"Convert this dataframe to an interactive table.\"\n",
              "              style=\"display:none;\">\n",
              "        \n",
              "  <svg xmlns=\"http://www.w3.org/2000/svg\" height=\"24px\"viewBox=\"0 0 24 24\"\n",
              "       width=\"24px\">\n",
              "    <path d=\"M0 0h24v24H0V0z\" fill=\"none\"/>\n",
              "    <path d=\"M18.56 5.44l.94 2.06.94-2.06 2.06-.94-2.06-.94-.94-2.06-.94 2.06-2.06.94zm-11 1L8.5 8.5l.94-2.06 2.06-.94-2.06-.94L8.5 2.5l-.94 2.06-2.06.94zm10 10l.94 2.06.94-2.06 2.06-.94-2.06-.94-.94-2.06-.94 2.06-2.06.94z\"/><path d=\"M17.41 7.96l-1.37-1.37c-.4-.4-.92-.59-1.43-.59-.52 0-1.04.2-1.43.59L10.3 9.45l-7.72 7.72c-.78.78-.78 2.05 0 2.83L4 21.41c.39.39.9.59 1.41.59.51 0 1.02-.2 1.41-.59l7.78-7.78 2.81-2.81c.8-.78.8-2.07 0-2.86zM5.41 20L4 18.59l7.72-7.72 1.47 1.35L5.41 20z\"/>\n",
              "  </svg>\n",
              "      </button>\n",
              "      \n",
              "  <style>\n",
              "    .colab-df-container {\n",
              "      display:flex;\n",
              "      flex-wrap:wrap;\n",
              "      gap: 12px;\n",
              "    }\n",
              "\n",
              "    .colab-df-convert {\n",
              "      background-color: #E8F0FE;\n",
              "      border: none;\n",
              "      border-radius: 50%;\n",
              "      cursor: pointer;\n",
              "      display: none;\n",
              "      fill: #1967D2;\n",
              "      height: 32px;\n",
              "      padding: 0 0 0 0;\n",
              "      width: 32px;\n",
              "    }\n",
              "\n",
              "    .colab-df-convert:hover {\n",
              "      background-color: #E2EBFA;\n",
              "      box-shadow: 0px 1px 2px rgba(60, 64, 67, 0.3), 0px 1px 3px 1px rgba(60, 64, 67, 0.15);\n",
              "      fill: #174EA6;\n",
              "    }\n",
              "\n",
              "    [theme=dark] .colab-df-convert {\n",
              "      background-color: #3B4455;\n",
              "      fill: #D2E3FC;\n",
              "    }\n",
              "\n",
              "    [theme=dark] .colab-df-convert:hover {\n",
              "      background-color: #434B5C;\n",
              "      box-shadow: 0px 1px 3px 1px rgba(0, 0, 0, 0.15);\n",
              "      filter: drop-shadow(0px 1px 2px rgba(0, 0, 0, 0.3));\n",
              "      fill: #FFFFFF;\n",
              "    }\n",
              "  </style>\n",
              "\n",
              "      <script>\n",
              "        const buttonEl =\n",
              "          document.querySelector('#df-3cdad9a4-4dde-493f-b613-ccef0e322dee button.colab-df-convert');\n",
              "        buttonEl.style.display =\n",
              "          google.colab.kernel.accessAllowed ? 'block' : 'none';\n",
              "\n",
              "        async function convertToInteractive(key) {\n",
              "          const element = document.querySelector('#df-3cdad9a4-4dde-493f-b613-ccef0e322dee');\n",
              "          const dataTable =\n",
              "            await google.colab.kernel.invokeFunction('convertToInteractive',\n",
              "                                                     [key], {});\n",
              "          if (!dataTable) return;\n",
              "\n",
              "          const docLinkHtml = 'Like what you see? Visit the ' +\n",
              "            '<a target=\"_blank\" href=https://colab.research.google.com/notebooks/data_table.ipynb>data table notebook</a>'\n",
              "            + ' to learn more about interactive tables.';\n",
              "          element.innerHTML = '';\n",
              "          dataTable['output_type'] = 'display_data';\n",
              "          await google.colab.output.renderOutput(dataTable, element);\n",
              "          const docLink = document.createElement('div');\n",
              "          docLink.innerHTML = docLinkHtml;\n",
              "          element.appendChild(docLink);\n",
              "        }\n",
              "      </script>\n",
              "    </div>\n",
              "  </div>\n",
              "  "
            ]
          },
          "metadata": {},
          "execution_count": 1
        }
      ]
    },
    {
      "cell_type": "markdown",
      "source": [
        "## Preparación y limpieza de datos\n",
        "A continuación, preparamos los datos para el realizar el primer apartado de la práctica 1.\n",
        "\n",
        "Comenzamos eliminando las filas en función del 'id' que estén duplicadas, ya que no puede haber apartamentos repetidos.\n",
        "\n",
        "Hemos decidido que en la columna 'reviews_per_month', las casillas que contenga un NaN las pondremos a cero, ya que quiere decir que no tienen ninguna reseña."
      ],
      "metadata": {
        "id": "_BELN3DJVFSc"
      }
    },
    {
      "cell_type": "code",
      "source": [
        "data = data.drop_duplicates(subset=['id'], keep='last')\n",
        "data[\"reviews_per_month\"] = data[\"reviews_per_month\"].replace(np.nan,0)"
      ],
      "metadata": {
        "id": "9PrY_QFgpHGc"
      },
      "execution_count": 2,
      "outputs": []
    },
    {
      "cell_type": "code",
      "source": [
        "fig = plt.figure(figsize =(10, 7))\n",
        "\n",
        "# Crear gráfico\n",
        "ax = fig.add_subplot(111)\n",
        "ax.boxplot(data[\"reviews_per_month\"])\n",
        "ax.set_title('Reviews per month')\n",
        "\n",
        "# Dibujar gráfico\n",
        "plt.show()"
      ],
      "metadata": {
        "id": "5AGxneMmsuJO",
        "outputId": "6403ec1e-317a-4365-a6da-87781bd79993",
        "colab": {
          "base_uri": "https://localhost:8080/",
          "height": 444
        }
      },
      "execution_count": 3,
      "outputs": [
        {
          "output_type": "display_data",
          "data": {
            "text/plain": [
              "<Figure size 720x504 with 1 Axes>"
            ],
            "image/png": "[encoded data removed]"
          },
          "metadata": {
            "needs_background": "light"
          }
        }
      ]
    },
    {
      "cell_type": "markdown",
      "source": [
        "Observamos que hay muchos valores outliers (anómalos). Entendemos que como la base de datos proviene de AirBnB y las reseñas solo se pueden realizar con la cuenta desde la cual se realiza la reserva, es decir, aunque haya un apartamento que albergue a un número elevado de personas todos los meses.\n",
        "\n",
        "Por lo que el número máximo de reseñas por mes será 31. Una por día/usuario reservado (como mucho). De manera que aquellos valores que superen este límite los consideraremos \"errores\" y procedemos a eliminarlos. "
      ],
      "metadata": {
        "id": "pckjgdpSZwXY"
      }
    },
    {
      "cell_type": "code",
      "source": [
        "data = data.drop(data[data.reviews_per_month > 31].index)\n",
        "\n",
        "# Gráfica sin los errores\n",
        "fig = plt.figure(figsize =(10, 7))\n",
        "\n",
        "# Crear gráfico\n",
        "ax = fig.add_subplot(111)\n",
        "ax.boxplot(data[\"reviews_per_month\"])\n",
        "ax.set_title('Reviews per month')\n",
        "\n",
        "# Dibujar gráfico\n",
        "plt.show()"
      ],
      "metadata": {
        "colab": {
          "base_uri": "https://localhost:8080/",
          "height": 444
        },
        "id": "D60kYUun9T9W",
        "outputId": "c0862a9b-3e6c-45f1-d256-92ff17134b3e"
      },
      "execution_count": 4,
      "outputs": [
        {
          "output_type": "display_data",
          "data": {
            "text/plain": [
              "<Figure size 720x504 with 1 Axes>"
            ],
            "image/png": "[encoded data removed]"
          },
          "metadata": {
            "needs_background": "light"
          }
        }
      ]
    },
    {
      "cell_type": "markdown",
      "source": [
        "Para poder clasificar la columna 'reviews_per_month' en 3 rangos iguales, redondearemos el mínimo a el entero menor más cercano y el máximo al entero mayor más cercano. Al igual que los límites, el rango será redondeado al entero superior para poder usar la función linspace.\n",
        "\n",
        "Así nos aseguramos que aunque modifiquen la base de datos de entrada, el código sigue funcionando, sin dejarse ningún dato olvidado."
      ],
      "metadata": {
        "id": "uspoS_wSa8yr"
      }
    },
    {
      "cell_type": "code",
      "source": [
        "max = ceil(data.max()['reviews_per_month'])\n",
        "min = floor(data.min()['reviews_per_month'])\n",
        "rango = ceil((max - min)/3)\n",
        "\n",
        "# Primer rango: Baja\n",
        "data[\"reviews_per_month\"] = data[\"reviews_per_month\"].replace(np.around(np.linspace(min,min+rango, rango*100+1),decimals=2),\"Baja\")\n",
        "\n",
        "# Segundo rango: Media\n",
        "data[\"reviews_per_month\"] = data[\"reviews_per_month\"].replace(np.around(np.linspace(min+rango, min+rango*2, rango*100+1),decimals=2),\"Media\")\n",
        "\n",
        "# Tercer rango: Alta\n",
        "data[\"reviews_per_month\"] = data[\"reviews_per_month\"].replace(np.around(np.linspace(min+rango*2, min+rango*3, rango*100+1),decimals=2),\"Alta\")\n"
      ],
      "metadata": {
        "id": "MwfoqxqNtESs",
        "outputId": "c7a5fd54-ac3d-4a1b-dfcc-8c490f084840",
        "colab": {
          "base_uri": "https://localhost:8080/"
        }
      },
      "execution_count": 5,
      "outputs": [
        {
          "output_type": "stream",
          "name": "stderr",
          "text": [
            "<ipython-input-5-ad478030111f>:1: FutureWarning: Dropping of nuisance columns in DataFrame reductions (with 'numeric_only=None') is deprecated; in a future version this will raise TypeError.  Select only valid columns before calling the reduction.\n",
            "  max = ceil(data.max()['reviews_per_month'])\n",
            "<ipython-input-5-ad478030111f>:2: FutureWarning: Dropping of nuisance columns in DataFrame reductions (with 'numeric_only=None') is deprecated; in a future version this will raise TypeError.  Select only valid columns before calling the reduction.\n",
            "  min = floor(data.min()['reviews_per_month'])\n"
          ]
        }
      ]
    },
    {
      "cell_type": "markdown",
      "source": [
        "Realizamos el mismo procedimiento con la columna 'availability_365'."
      ],
      "metadata": {
        "id": "Q8OO2qcjci-0"
      }
    },
    {
      "cell_type": "code",
      "source": [
        "fig = plt.figure(figsize =(10, 7))\n",
        "\n",
        "# Crear gráfico\n",
        "ax = fig.add_subplot(111)\n",
        "ax.boxplot(data[\"availability_365\"])\n",
        "ax.set_title('Availability 365')\n",
        "\n",
        "# Dibujar gráfico\n",
        "plt.show()"
      ],
      "metadata": {
        "id": "iOOEHCAku6AU",
        "outputId": "2c689cc5-8aa3-4d25-c367-0ecbe6da836d",
        "colab": {
          "base_uri": "https://localhost:8080/",
          "height": 444
        }
      },
      "execution_count": 6,
      "outputs": [
        {
          "output_type": "display_data",
          "data": {
            "text/plain": [
              "<Figure size 720x504 with 1 Axes>"
            ],
            "image/png": "[encoded data removed]"
          },
          "metadata": {
            "needs_background": "light"
          }
        }
      ]
    },
    {
      "cell_type": "markdown",
      "source": [
        "Como cabía de esperar, en este caso no hay outliers.\n",
        "\n",
        "Clasificamos la columna \"availability_365\" en 3 rangos iguales."
      ],
      "metadata": {
        "id": "_ikZaENCcuHL"
      }
    },
    {
      "cell_type": "code",
      "source": [
        "max = ceil(data.max()['availability_365'])\n",
        "min = floor(data.min()['availability_365'])\n",
        "rango = ceil((max - min)/3)\n",
        "\n",
        "# Primer rango: Poco disponible\n",
        "data[\"availability_365\"] = data[\"availability_365\"].replace(range(min,min+rango),\"Poco disponible\")\n",
        "\n",
        "# Segundo rango: Disponible normalmente\n",
        "data[\"availability_365\"] = data[\"availability_365\"].replace(range(min+rango,min+rango*2),\"Disponible normalmente\")\n",
        "\n",
        "# Primer rango: Altamente disponible\n",
        "data[\"availability_365\"] = data[\"availability_365\"].replace(range(min+rango*2,min+rango*3),\"Altamente disponible\")"
      ],
      "metadata": {
        "id": "fwiQIliT0T8D",
        "outputId": "0ccc6e00-50c7-457a-a2f3-63ec1b0b9e36",
        "colab": {
          "base_uri": "https://localhost:8080/"
        }
      },
      "execution_count": 7,
      "outputs": [
        {
          "output_type": "stream",
          "name": "stderr",
          "text": [
            "<ipython-input-7-83db2e5d74d8>:1: FutureWarning: Dropping of nuisance columns in DataFrame reductions (with 'numeric_only=None') is deprecated; in a future version this will raise TypeError.  Select only valid columns before calling the reduction.\n",
            "  max = ceil(data.max()['availability_365'])\n",
            "<ipython-input-7-83db2e5d74d8>:2: FutureWarning: Dropping of nuisance columns in DataFrame reductions (with 'numeric_only=None') is deprecated; in a future version this will raise TypeError.  Select only valid columns before calling the reduction.\n",
            "  min = floor(data.min()['availability_365'])\n"
          ]
        }
      ]
    },
    {
      "cell_type": "markdown",
      "source": [
        "###Creación de nuevas columnas\n",
        "\n",
        "Creamos las columnas 'calification' y 'calification_num'. En la primera columna clasificaremos los apartamentos en función del enunciado (de tipo string); y en la segunda la clasificación será numérica.\n",
        "\n",
        "En ambas tendremos en cuenta las reseñas y la disponibilidad."
      ],
      "metadata": {
        "id": "-Jfz-_YBdmgh"
      }
    },
    {
      "cell_type": "code",
      "source": [
        "# Añadimos las nuevas columnas vacías\n",
        "data['calification'] = data.apply(lambda _: '', axis=1)\n",
        "data['calification_num'] = data.apply(lambda _: '', axis=1)"
      ],
      "metadata": {
        "id": "aSwiVIp62jba"
      },
      "execution_count": 8,
      "outputs": []
    },
    {
      "cell_type": "code",
      "source": [
        "# Procedemos a rellenar las columnas creadas en función de los datos de \"reviews_per_month\" y \"availability_365\".\n",
        "# Asignamos un valor numérico a cada uno de los atributos Muy mal, Malo, Regular, Bueno y Muy bueno; 1, 2, 3 ,4 y 5 respectivamente.\n",
        "\n",
        "# Estos son Buenos\n",
        "data[\"calification\"] = data[\"calification\"].mask(((data[\"reviews_per_month\"] == \"Baja\") | (data[\"reviews_per_month\"] == \"Media\")) & (data[\"availability_365\"] == \"Poco disponible\"), \"Bueno\")\n",
        "data[\"calification_num\"] = data[\"calification_num\"].mask(((data[\"reviews_per_month\"] == \"Baja\") | (data[\"reviews_per_month\"] == \"Media\")) & (data[\"availability_365\"] == \"Poco disponible\"), 4)\n",
        "\n",
        "data[\"calification\"] = data[\"calification\"].mask((data[\"reviews_per_month\"] == \"Alta\") & (data[\"availability_365\"] == \"Disponible normalmente\"), \"Bueno\")\n",
        "data[\"calification_num\"] = data[\"calification_num\"].mask((data[\"reviews_per_month\"] == \"Alta\") & (data[\"availability_365\"] == \"Disponible normalmente\"), 4)\n",
        "\n",
        "# Estos son Muy Buenos\n",
        "data[\"calification\"] = data[\"calification\"].mask((data[\"reviews_per_month\"] == \"Alta\") & (data[\"availability_365\"] == \"Poco disponible\"), \"Muy Bueno\")\n",
        "data[\"calification_num\"] = data[\"calification_num\"].mask((data[\"reviews_per_month\"] == \"Alta\") & (data[\"availability_365\"] == \"Poco disponible\"), 5)\n",
        "\n",
        "# Estos son Regulares\n",
        "data[\"calification\"] = data[\"calification\"].mask(((data[\"reviews_per_month\"] == \"Baja\") | (data[\"reviews_per_month\"] == \"Media\")) & (data[\"availability_365\"] == \"Disponible normalmente\"), \"Regular\")\n",
        "data[\"calification_num\"] = data[\"calification_num\"].mask(((data[\"reviews_per_month\"] == \"Baja\") | (data[\"reviews_per_month\"] == \"Media\")) & (data[\"availability_365\"] == \"Disponible normalmente\"), 3)\n",
        "\n",
        "# Estos son Malos\n",
        "data[\"calification\"] = data[\"calification\"].mask(((data[\"reviews_per_month\"] == \"Baja\") | (data[\"reviews_per_month\"] == \"Media\")) & (data[\"availability_365\"] == \"Altamente disponible\"), \"Malo\")\n",
        "data[\"calification_num\"] = data[\"calification_num\"].mask(((data[\"reviews_per_month\"] == \"Baja\") | (data[\"reviews_per_month\"] == \"Media\")) & (data[\"availability_365\"] == \"Altamente disponible\"), 2)\n",
        "\n",
        "# Estos son Muy Malos\n",
        "data[\"calification\"] = data[\"calification\"].mask((data[\"reviews_per_month\"] == \"Alta\") & (data[\"availability_365\"] == \"Altamente disponible\"), \"Muy malo\")\n",
        "data[\"calification_num\"] = data[\"calification_num\"].mask((data[\"reviews_per_month\"] == \"Alta\") & (data[\"availability_365\"] == \"Altamente disponible\"), 1)"
      ],
      "metadata": {
        "id": "XlEuXB5sHvTb"
      },
      "execution_count": 9,
      "outputs": []
    },
    {
      "cell_type": "code",
      "source": [
        "# Cambio de la tipología de la columna 'calification_num' de object a int64\n",
        "data = data.astype({'calification_num': 'int'})\n",
        "\n",
        "# Comprobamos que se haya hecho bien la conversión del tipo de dato\n",
        "data.dtypes"
      ],
      "metadata": {
        "id": "ggFzp1QdsoQG",
        "outputId": "4e6db5a1-9983-4536-c42b-7b88cb5e1435",
        "colab": {
          "base_uri": "https://localhost:8080/"
        }
      },
      "execution_count": 10,
      "outputs": [
        {
          "output_type": "execute_result",
          "data": {
            "text/plain": [
              "id                                  int64\n",
              "name                               object\n",
              "host_id                             int64\n",
              "host_name                          object\n",
              "neighbourhood_group                object\n",
              "neighbourhood                      object\n",
              "latitude                          float64\n",
              "longitude                         float64\n",
              "room_type                          object\n",
              "price                               int64\n",
              "minimum_nights                      int64\n",
              "number_of_reviews                   int64\n",
              "last_review                        object\n",
              "reviews_per_month                  object\n",
              "calculated_host_listings_count      int64\n",
              "availability_365                   object\n",
              "calification                       object\n",
              "calification_num                    int64\n",
              "dtype: object"
            ]
          },
          "metadata": {},
          "execution_count": 10
        }
      ]
    },
    {
      "cell_type": "markdown",
      "source": [
        "Agrupamos en función de la columna 'neighbourhood', proyectando la media de calificación de cada uno de ellos.\n",
        "\n",
        "Ingresamos una columna de Ranking, que enumera de mejor a peor los barrios en función de la media de calificación obtenida para cada uno."
      ],
      "metadata": {
        "id": "6mcIDHd6e1Y7"
      }
    },
    {
      "cell_type": "code",
      "source": [
        "df = data.groupby('neighbourhood').mean()[\"calification_num\"].reset_index()\n",
        "df = df.sort_values(by = ['calification_num'], ascending = False)\n",
        "\n",
        "# Añadimos una nueva columna que enumera en función de la calificación\n",
        "ranking_list = linspace(1, len(df), len(df))\n",
        "df['Ranking'] = ranking_list\n",
        "df = df.astype({'Ranking': 'int'})\n",
        "df.head(22)"
      ],
      "metadata": {
        "colab": {
          "base_uri": "https://localhost:8080/",
          "height": 739
        },
        "id": "S2O4H0_brNOC",
        "outputId": "47414446-2c87-4932-aa91-d7a6cdd1a34d"
      },
      "execution_count": 11,
      "outputs": [
        {
          "output_type": "execute_result",
          "data": {
            "text/plain": [
              "                  neighbourhood  calification_num  Ranking\n",
              "9    Bay Terrace, Staten Island          4.000000        1\n",
              "219                     Woodrow          4.000000        2\n",
              "141                    New Dorp          4.000000        3\n",
              "172                   Rossville          4.000000        4\n",
              "143             New Springville          3.875000        5\n",
              "57            Downtown Brooklyn          3.855422        6\n",
              "116                 Little Neck          3.800000        7\n",
              "130         Morningside Heights          3.791908        8\n",
              "138                   Navy Yard          3.785714        9\n",
              "45                  Columbia St          3.714286       10\n",
              "43                  Cobble Hill          3.696970       11\n",
              "37                 Civic Center          3.692308       12\n",
              "25             Brooklyn Heights          3.688312       13\n",
              "188             Stuyvesant Town          3.675676       14\n",
              "21                 Breezy Point          3.666667       15\n",
              "145                      Nolita          3.656126       16\n",
              "31              Carroll Gardens          3.626609       17\n",
              "64                 East Village          3.614679       18\n",
              "214                Williamsburg          3.612755       19\n",
              "169            Roosevelt Island          3.610390       20\n",
              "70                 Emerson Hill          3.600000       21\n",
              "124                     Melrose          3.600000       22"
            ],
            "text/html": [
              "\n",
              "  <div id=\"df-77942fbc-7201-4ea9-bc6d-18f6d79ab9e8\">\n",
              "    <div class=\"colab-df-container\">\n",
              "      <div>\n",
              "<style scoped>\n",
              "    .dataframe tbody tr th:only-of-type {\n",
              "        vertical-align: middle;\n",
              "    }\n",
              "\n",
              "    .dataframe tbody tr th {\n",
              "        vertical-align: top;\n",
              "    }\n",
              "\n",
              "    .dataframe thead th {\n",
              "        text-align: right;\n",
              "    }\n",
              "</style>\n",
              "<table border=\"1\" class=\"dataframe\">\n",
              "  <thead>\n",
              "    <tr style=\"text-align: right;\">\n",
              "      <th></th>\n",
              "      <th>neighbourhood</th>\n",
              "      <th>calification_num</th>\n",
              "      <th>Ranking</th>\n",
              "    </tr>\n",
              "  </thead>\n",
              "  <tbody>\n",
              "    <tr>\n",
              "      <th>9</th>\n",
              "      <td>Bay Terrace, Staten Island</td>\n",
              "      <td>4.000000</td>\n",
              "      <td>1</td>\n",
              "    </tr>\n",
              "    <tr>\n",
              "      <th>219</th>\n",
              "      <td>Woodrow</td>\n",
              "      <td>4.000000</td>\n",
              "      <td>2</td>\n",
              "    </tr>\n",
              "    <tr>\n",
              "      <th>141</th>\n",
              "      <td>New Dorp</td>\n",
              "      <td>4.000000</td>\n",
              "      <td>3</td>\n",
              "    </tr>\n",
              "    <tr>\n",
              "      <th>172</th>\n",
              "      <td>Rossville</td>\n",
              "      <td>4.000000</td>\n",
              "      <td>4</td>\n",
              "    </tr>\n",
              "    <tr>\n",
              "      <th>143</th>\n",
              "      <td>New Springville</td>\n",
              "      <td>3.875000</td>\n",
              "      <td>5</td>\n",
              "    </tr>\n",
              "    <tr>\n",
              "      <th>57</th>\n",
              "      <td>Downtown Brooklyn</td>\n",
              "      <td>3.855422</td>\n",
              "      <td>6</td>\n",
              "    </tr>\n",
              "    <tr>\n",
              "      <th>116</th>\n",
              "      <td>Little Neck</td>\n",
              "      <td>3.800000</td>\n",
              "      <td>7</td>\n",
              "    </tr>\n",
              "    <tr>\n",
              "      <th>130</th>\n",
              "      <td>Morningside Heights</td>\n",
              "      <td>3.791908</td>\n",
              "      <td>8</td>\n",
              "    </tr>\n",
              "    <tr>\n",
              "      <th>138</th>\n",
              "      <td>Navy Yard</td>\n",
              "      <td>3.785714</td>\n",
              "      <td>9</td>\n",
              "    </tr>\n",
              "    <tr>\n",
              "      <th>45</th>\n",
              "      <td>Columbia St</td>\n",
              "      <td>3.714286</td>\n",
              "      <td>10</td>\n",
              "    </tr>\n",
              "    <tr>\n",
              "      <th>43</th>\n",
              "      <td>Cobble Hill</td>\n",
              "      <td>3.696970</td>\n",
              "      <td>11</td>\n",
              "    </tr>\n",
              "    <tr>\n",
              "      <th>37</th>\n",
              "      <td>Civic Center</td>\n",
              "      <td>3.692308</td>\n",
              "      <td>12</td>\n",
              "    </tr>\n",
              "    <tr>\n",
              "      <th>25</th>\n",
              "      <td>Brooklyn Heights</td>\n",
              "      <td>3.688312</td>\n",
              "      <td>13</td>\n",
              "    </tr>\n",
              "    <tr>\n",
              "      <th>188</th>\n",
              "      <td>Stuyvesant Town</td>\n",
              "      <td>3.675676</td>\n",
              "      <td>14</td>\n",
              "    </tr>\n",
              "    <tr>\n",
              "      <th>21</th>\n",
              "      <td>Breezy Point</td>\n",
              "      <td>3.666667</td>\n",
              "      <td>15</td>\n",
              "    </tr>\n",
              "    <tr>\n",
              "      <th>145</th>\n",
              "      <td>Nolita</td>\n",
              "      <td>3.656126</td>\n",
              "      <td>16</td>\n",
              "    </tr>\n",
              "    <tr>\n",
              "      <th>31</th>\n",
              "      <td>Carroll Gardens</td>\n",
              "      <td>3.626609</td>\n",
              "      <td>17</td>\n",
              "    </tr>\n",
              "    <tr>\n",
              "      <th>64</th>\n",
              "      <td>East Village</td>\n",
              "      <td>3.614679</td>\n",
              "      <td>18</td>\n",
              "    </tr>\n",
              "    <tr>\n",
              "      <th>214</th>\n",
              "      <td>Williamsburg</td>\n",
              "      <td>3.612755</td>\n",
              "      <td>19</td>\n",
              "    </tr>\n",
              "    <tr>\n",
              "      <th>169</th>\n",
              "      <td>Roosevelt Island</td>\n",
              "      <td>3.610390</td>\n",
              "      <td>20</td>\n",
              "    </tr>\n",
              "    <tr>\n",
              "      <th>70</th>\n",
              "      <td>Emerson Hill</td>\n",
              "      <td>3.600000</td>\n",
              "      <td>21</td>\n",
              "    </tr>\n",
              "    <tr>\n",
              "      <th>124</th>\n",
              "      <td>Melrose</td>\n",
              "      <td>3.600000</td>\n",
              "      <td>22</td>\n",
              "    </tr>\n",
              "  </tbody>\n",
              "</table>\n",
              "</div>\n",
              "      <button class=\"colab-df-convert\" onclick=\"convertToInteractive('df-77942fbc-7201-4ea9-bc6d-18f6d79ab9e8')\"\n",
              "              title=\"Convert this dataframe to an interactive table.\"\n",
              "              style=\"display:none;\">\n",
              "        \n",
              "  <svg xmlns=\"http://www.w3.org/2000/svg\" height=\"24px\"viewBox=\"0 0 24 24\"\n",
              "       width=\"24px\">\n",
              "    <path d=\"M0 0h24v24H0V0z\" fill=\"none\"/>\n",
              "    <path d=\"M18.56 5.44l.94 2.06.94-2.06 2.06-.94-2.06-.94-.94-2.06-.94 2.06-2.06.94zm-11 1L8.5 8.5l.94-2.06 2.06-.94-2.06-.94L8.5 2.5l-.94 2.06-2.06.94zm10 10l.94 2.06.94-2.06 2.06-.94-2.06-.94-.94-2.06-.94 2.06-2.06.94z\"/><path d=\"M17.41 7.96l-1.37-1.37c-.4-.4-.92-.59-1.43-.59-.52 0-1.04.2-1.43.59L10.3 9.45l-7.72 7.72c-.78.78-.78 2.05 0 2.83L4 21.41c.39.39.9.59 1.41.59.51 0 1.02-.2 1.41-.59l7.78-7.78 2.81-2.81c.8-.78.8-2.07 0-2.86zM5.41 20L4 18.59l7.72-7.72 1.47 1.35L5.41 20z\"/>\n",
              "  </svg>\n",
              "      </button>\n",
              "      \n",
              "  <style>\n",
              "    .colab-df-container {\n",
              "      display:flex;\n",
              "      flex-wrap:wrap;\n",
              "      gap: 12px;\n",
              "    }\n",
              "\n",
              "    .colab-df-convert {\n",
              "      background-color: #E8F0FE;\n",
              "      border: none;\n",
              "      border-radius: 50%;\n",
              "      cursor: pointer;\n",
              "      display: none;\n",
              "      fill: #1967D2;\n",
              "      height: 32px;\n",
              "      padding: 0 0 0 0;\n",
              "      width: 32px;\n",
              "    }\n",
              "\n",
              "    .colab-df-convert:hover {\n",
              "      background-color: #E2EBFA;\n",
              "      box-shadow: 0px 1px 2px rgba(60, 64, 67, 0.3), 0px 1px 3px 1px rgba(60, 64, 67, 0.15);\n",
              "      fill: #174EA6;\n",
              "    }\n",
              "\n",
              "    [theme=dark] .colab-df-convert {\n",
              "      background-color: #3B4455;\n",
              "      fill: #D2E3FC;\n",
              "    }\n",
              "\n",
              "    [theme=dark] .colab-df-convert:hover {\n",
              "      background-color: #434B5C;\n",
              "      box-shadow: 0px 1px 3px 1px rgba(0, 0, 0, 0.15);\n",
              "      filter: drop-shadow(0px 1px 2px rgba(0, 0, 0, 0.3));\n",
              "      fill: #FFFFFF;\n",
              "    }\n",
              "  </style>\n",
              "\n",
              "      <script>\n",
              "        const buttonEl =\n",
              "          document.querySelector('#df-77942fbc-7201-4ea9-bc6d-18f6d79ab9e8 button.colab-df-convert');\n",
              "        buttonEl.style.display =\n",
              "          google.colab.kernel.accessAllowed ? 'block' : 'none';\n",
              "\n",
              "        async function convertToInteractive(key) {\n",
              "          const element = document.querySelector('#df-77942fbc-7201-4ea9-bc6d-18f6d79ab9e8');\n",
              "          const dataTable =\n",
              "            await google.colab.kernel.invokeFunction('convertToInteractive',\n",
              "                                                     [key], {});\n",
              "          if (!dataTable) return;\n",
              "\n",
              "          const docLinkHtml = 'Like what you see? Visit the ' +\n",
              "            '<a target=\"_blank\" href=https://colab.research.google.com/notebooks/data_table.ipynb>data table notebook</a>'\n",
              "            + ' to learn more about interactive tables.';\n",
              "          element.innerHTML = '';\n",
              "          dataTable['output_type'] = 'display_data';\n",
              "          await google.colab.output.renderOutput(dataTable, element);\n",
              "          const docLink = document.createElement('div');\n",
              "          docLink.innerHTML = docLinkHtml;\n",
              "          element.appendChild(docLink);\n",
              "        }\n",
              "      </script>\n",
              "    </div>\n",
              "  </div>\n",
              "  "
            ]
          },
          "metadata": {},
          "execution_count": 11
        }
      ]
    },
    {
      "cell_type": "markdown",
      "source": [
        "## Resolución del apartado 1\n",
        "Convertimos la columna 'neighbourhood' a string para poder realizar la comparación.\n",
        "\n",
        "Sacamos la posición del barrio Williamsburg dentro del Ranking y su media, tal y como nos pide el enunciado."
      ],
      "metadata": {
        "id": "71I6svl9fmfV"
      }
    },
    {
      "cell_type": "code",
      "source": [
        "df = df.astype({'neighbourhood': 'str'})\n",
        "\n",
        "for index in range(len(df)):\n",
        "  if df.iloc[index]['neighbourhood'] == 'Williamsburg':\n",
        "    Williamsburg_index = index + 1\n",
        "    Williamsburg_calification = df.iloc[index]['calification_num']\n",
        "print('El barrio de Williamsburg ocupa la posición', Williamsburg_index, 'con una calificación media de', Williamsburg_calification, 'de los', index + 1, 'barrios que hay.')"
      ],
      "metadata": {
        "colab": {
          "base_uri": "https://localhost:8080/"
        },
        "id": "mVUxZfw3rz-C",
        "outputId": "8847449d-872a-4c9c-d0ab-4f0e539b1447"
      },
      "execution_count": 12,
      "outputs": [
        {
          "output_type": "stream",
          "name": "stdout",
          "text": [
            "El barrio de Williamsburg ocupa la posición 19 con una calificación media de 3.612755102040816 de los 221 barrios que hay.\n"
          ]
        }
      ]
    },
    {
      "cell_type": "markdown",
      "source": [
        "## Apartado 2\n",
        "Explica visualmente como se distribuyen los 5 barrios más populares (esto serán aquellos cuyos \n",
        "apartamentos estén más solicitados en números absolutos). Para ello utiliza un diagrama de burbuja donde el \n",
        "eje de las X indica el barrio y el eje Y la calidad de los apartamentos. Usa todos los diagramas que necesites \n",
        "para llegar a esta conclusión final. "
      ],
      "metadata": {
        "id": "TWa217NV7cEc"
      }
    },
    {
      "cell_type": "code",
      "source": [
        "df = data.groupby(by = [\"neighbourhood\"]).sum().sort_values(by = \"number_of_reviews\")[-5:].reset_index()"
      ],
      "metadata": {
        "id": "b7U44aG-JbQv"
      },
      "execution_count": 13,
      "outputs": []
    },
    {
      "cell_type": "markdown",
      "source": [
        "Hemos localizado los 5 mejores barrios, en función del número de reseñas que tienen, ya que a mayor número de reseñas, será un número mayor de veces que ha sido solicitado un apartamento. \n",
        "\n",
        "La calidad de los apartamentos la medimosa partir de la nueva columna añadida."
      ],
      "metadata": {
        "id": "x2-Oy7onPnHc"
      }
    },
    {
      "cell_type": "code",
      "source": [
        "best5neighbourhoods = df[\"neighbourhood\"]\n",
        "df = data.groupby(by = [\"neighbourhood\"]).mean()[\"calification_num\"]\n",
        "califications = df.loc[best5neighbourhoods]\n",
        "plt.scatter(best5neighbourhoods, califications, s = 130, c = \"red\")"
      ],
      "metadata": {
        "colab": {
          "base_uri": "https://localhost:8080/",
          "height": 282
        },
        "id": "5B3uNjKUhUV8",
        "outputId": "9ef78b24-849c-4a60-c665-42a8573311ef"
      },
      "execution_count": 14,
      "outputs": [
        {
          "output_type": "execute_result",
          "data": {
            "text/plain": [
              "<matplotlib.collections.PathCollection at 0x7fb10d220340>"
            ]
          },
          "metadata": {},
          "execution_count": 14
        },
        {
          "output_type": "display_data",
          "data": {
            "text/plain": [
              "<Figure size 432x288 with 1 Axes>"
            ],
            "image/png": "[encoded data removed]"
          },
          "metadata": {
            "needs_background": "light"
          }
        }
      ]
    },
    {
      "cell_type": "markdown",
      "source": [
        "Como podemos observar en el diagrama de burbujas, el barrio más solicitado, es decir, el barrio con más media de reseñas por mes, es Williamsburg con una media de calificación de algo mayor que 3.60. Seguido de Bushwick con una media de 3.50.\n",
        "\n",
        "Como era de esperar, el más solicitado tenía que ser Williamsburg ya que comparando en el ranking del apartado 1), era el que estaba en la posición más alta de los cinco."
      ],
      "metadata": {
        "id": "7EgQFyIimevu"
      }
    },
    {
      "cell_type": "code",
      "source": [
        "data.head()"
      ],
      "metadata": {
        "colab": {
          "base_uri": "https://localhost:8080/",
          "height": 461
        },
        "id": "q0Y66vz9mFG6",
        "outputId": "c6d72c78-fe72-4dbb-c11a-cb0255ac3a36"
      },
      "execution_count": 15,
      "outputs": [
        {
          "output_type": "execute_result",
          "data": {
            "text/plain": [
              "     id                                              name  host_id  \\\n",
              "0  2539                Clean & quiet apt home by the park     2787   \n",
              "1  2595                             Skylit Midtown Castle     2845   \n",
              "2  3647               THE VILLAGE OF HARLEM....NEW YORK !     4632   \n",
              "3  3831                   Cozy Entire Floor of Brownstone     4869   \n",
              "4  5022  Entire Apt: Spacious Studio/Loft by central park     7192   \n",
              "\n",
              "     host_name neighbourhood_group neighbourhood  latitude  longitude  \\\n",
              "0         John            Brooklyn    Kensington  40.64749  -73.97237   \n",
              "1     Jennifer           Manhattan       Midtown  40.75362  -73.98377   \n",
              "2    Elisabeth           Manhattan        Harlem  40.80902  -73.94190   \n",
              "3  LisaRoxanne            Brooklyn  Clinton Hill  40.68514  -73.95976   \n",
              "4        Laura           Manhattan   East Harlem  40.79851  -73.94399   \n",
              "\n",
              "         room_type  price  minimum_nights  number_of_reviews last_review  \\\n",
              "0     Private room    149               1                  9  2018-10-19   \n",
              "1  Entire home/apt    225               1                 45  2019-05-21   \n",
              "2     Private room    150               3                  0         NaN   \n",
              "3  Entire home/apt     89               1                270  2019-07-05   \n",
              "4  Entire home/apt     80              10                  9  2018-11-19   \n",
              "\n",
              "  reviews_per_month  calculated_host_listings_count        availability_365  \\\n",
              "0              Baja                               6    Altamente disponible   \n",
              "1              Baja                               2    Altamente disponible   \n",
              "2              Baja                               1    Altamente disponible   \n",
              "3              Baja                               1  Disponible normalmente   \n",
              "4              Baja                               1         Poco disponible   \n",
              "\n",
              "  calification  calification_num  \n",
              "0         Malo                 2  \n",
              "1         Malo                 2  \n",
              "2         Malo                 2  \n",
              "3      Regular                 3  \n",
              "4        Bueno                 4  "
            ],
            "text/html": [
              "\n",
              "  <div id=\"df-bc91d25f-1b23-499c-8eb7-fa2d6a23ee37\">\n",
              "    <div class=\"colab-df-container\">\n",
              "      <div>\n",
              "<style scoped>\n",
              "    .dataframe tbody tr th:only-of-type {\n",
              "        vertical-align: middle;\n",
              "    }\n",
              "\n",
              "    .dataframe tbody tr th {\n",
              "        vertical-align: top;\n",
              "    }\n",
              "\n",
              "    .dataframe thead th {\n",
              "        text-align: right;\n",
              "    }\n",
              "</style>\n",
              "<table border=\"1\" class=\"dataframe\">\n",
              "  <thead>\n",
              "    <tr style=\"text-align: right;\">\n",
              "      <th></th>\n",
              "      <th>id</th>\n",
              "      <th>name</th>\n",
              "      <th>host_id</th>\n",
              "      <th>host_name</th>\n",
              "      <th>neighbourhood_group</th>\n",
              "      <th>neighbourhood</th>\n",
              "      <th>latitude</th>\n",
              "      <th>longitude</th>\n",
              "      <th>room_type</th>\n",
              "      <th>price</th>\n",
              "      <th>minimum_nights</th>\n",
              "      <th>number_of_reviews</th>\n",
              "      <th>last_review</th>\n",
              "      <th>reviews_per_month</th>\n",
              "      <th>calculated_host_listings_count</th>\n",
              "      <th>availability_365</th>\n",
              "      <th>calification</th>\n",
              "      <th>calification_num</th>\n",
              "    </tr>\n",
              "  </thead>\n",
              "  <tbody>\n",
              "    <tr>\n",
              "      <th>0</th>\n",
              "      <td>2539</td>\n",
              "      <td>Clean &amp; quiet apt home by the park</td>\n",
              "      <td>2787</td>\n",
              "      <td>John</td>\n",
              "      <td>Brooklyn</td>\n",
              "      <td>Kensington</td>\n",
              "      <td>40.64749</td>\n",
              "      <td>-73.97237</td>\n",
              "      <td>Private room</td>\n",
              "      <td>149</td>\n",
              "      <td>1</td>\n",
              "      <td>9</td>\n",
              "      <td>2018-10-19</td>\n",
              "      <td>Baja</td>\n",
              "      <td>6</td>\n",
              "      <td>Altamente disponible</td>\n",
              "      <td>Malo</td>\n",
              "      <td>2</td>\n",
              "    </tr>\n",
              "    <tr>\n",
              "      <th>1</th>\n",
              "      <td>2595</td>\n",
              "      <td>Skylit Midtown Castle</td>\n",
              "      <td>2845</td>\n",
              "      <td>Jennifer</td>\n",
              "      <td>Manhattan</td>\n",
              "      <td>Midtown</td>\n",
              "      <td>40.75362</td>\n",
              "      <td>-73.98377</td>\n",
              "      <td>Entire home/apt</td>\n",
              "      <td>225</td>\n",
              "      <td>1</td>\n",
              "      <td>45</td>\n",
              "      <td>2019-05-21</td>\n",
              "      <td>Baja</td>\n",
              "      <td>2</td>\n",
              "      <td>Altamente disponible</td>\n",
              "      <td>Malo</td>\n",
              "      <td>2</td>\n",
              "    </tr>\n",
              "    <tr>\n",
              "      <th>2</th>\n",
              "      <td>3647</td>\n",
              "      <td>THE VILLAGE OF HARLEM....NEW YORK !</td>\n",
              "      <td>4632</td>\n",
              "      <td>Elisabeth</td>\n",
              "      <td>Manhattan</td>\n",
              "      <td>Harlem</td>\n",
              "      <td>40.80902</td>\n",
              "      <td>-73.94190</td>\n",
              "      <td>Private room</td>\n",
              "      <td>150</td>\n",
              "      <td>3</td>\n",
              "      <td>0</td>\n",
              "      <td>NaN</td>\n",
              "      <td>Baja</td>\n",
              "      <td>1</td>\n",
              "      <td>Altamente disponible</td>\n",
              "      <td>Malo</td>\n",
              "      <td>2</td>\n",
              "    </tr>\n",
              "    <tr>\n",
              "      <th>3</th>\n",
              "      <td>3831</td>\n",
              "      <td>Cozy Entire Floor of Brownstone</td>\n",
              "      <td>4869</td>\n",
              "      <td>LisaRoxanne</td>\n",
              "      <td>Brooklyn</td>\n",
              "      <td>Clinton Hill</td>\n",
              "      <td>40.68514</td>\n",
              "      <td>-73.95976</td>\n",
              "      <td>Entire home/apt</td>\n",
              "      <td>89</td>\n",
              "      <td>1</td>\n",
              "      <td>270</td>\n",
              "      <td>2019-07-05</td>\n",
              "      <td>Baja</td>\n",
              "      <td>1</td>\n",
              "      <td>Disponible normalmente</td>\n",
              "      <td>Regular</td>\n",
              "      <td>3</td>\n",
              "    </tr>\n",
              "    <tr>\n",
              "      <th>4</th>\n",
              "      <td>5022</td>\n",
              "      <td>Entire Apt: Spacious Studio/Loft by central park</td>\n",
              "      <td>7192</td>\n",
              "      <td>Laura</td>\n",
              "      <td>Manhattan</td>\n",
              "      <td>East Harlem</td>\n",
              "      <td>40.79851</td>\n",
              "      <td>-73.94399</td>\n",
              "      <td>Entire home/apt</td>\n",
              "      <td>80</td>\n",
              "      <td>10</td>\n",
              "      <td>9</td>\n",
              "      <td>2018-11-19</td>\n",
              "      <td>Baja</td>\n",
              "      <td>1</td>\n",
              "      <td>Poco disponible</td>\n",
              "      <td>Bueno</td>\n",
              "      <td>4</td>\n",
              "    </tr>\n",
              "  </tbody>\n",
              "</table>\n",
              "</div>\n",
              "      <button class=\"colab-df-convert\" onclick=\"convertToInteractive('df-bc91d25f-1b23-499c-8eb7-fa2d6a23ee37')\"\n",
              "              title=\"Convert this dataframe to an interactive table.\"\n",
              "              style=\"display:none;\">\n",
              "        \n",
              "  <svg xmlns=\"http://www.w3.org/2000/svg\" height=\"24px\"viewBox=\"0 0 24 24\"\n",
              "       width=\"24px\">\n",
              "    <path d=\"M0 0h24v24H0V0z\" fill=\"none\"/>\n",
              "    <path d=\"M18.56 5.44l.94 2.06.94-2.06 2.06-.94-2.06-.94-.94-2.06-.94 2.06-2.06.94zm-11 1L8.5 8.5l.94-2.06 2.06-.94-2.06-.94L8.5 2.5l-.94 2.06-2.06.94zm10 10l.94 2.06.94-2.06 2.06-.94-2.06-.94-.94-2.06-.94 2.06-2.06.94z\"/><path d=\"M17.41 7.96l-1.37-1.37c-.4-.4-.92-.59-1.43-.59-.52 0-1.04.2-1.43.59L10.3 9.45l-7.72 7.72c-.78.78-.78 2.05 0 2.83L4 21.41c.39.39.9.59 1.41.59.51 0 1.02-.2 1.41-.59l7.78-7.78 2.81-2.81c.8-.78.8-2.07 0-2.86zM5.41 20L4 18.59l7.72-7.72 1.47 1.35L5.41 20z\"/>\n",
              "  </svg>\n",
              "      </button>\n",
              "      \n",
              "  <style>\n",
              "    .colab-df-container {\n",
              "      display:flex;\n",
              "      flex-wrap:wrap;\n",
              "      gap: 12px;\n",
              "    }\n",
              "\n",
              "    .colab-df-convert {\n",
              "      background-color: #E8F0FE;\n",
              "      border: none;\n",
              "      border-radius: 50%;\n",
              "      cursor: pointer;\n",
              "      display: none;\n",
              "      fill: #1967D2;\n",
              "      height: 32px;\n",
              "      padding: 0 0 0 0;\n",
              "      width: 32px;\n",
              "    }\n",
              "\n",
              "    .colab-df-convert:hover {\n",
              "      background-color: #E2EBFA;\n",
              "      box-shadow: 0px 1px 2px rgba(60, 64, 67, 0.3), 0px 1px 3px 1px rgba(60, 64, 67, 0.15);\n",
              "      fill: #174EA6;\n",
              "    }\n",
              "\n",
              "    [theme=dark] .colab-df-convert {\n",
              "      background-color: #3B4455;\n",
              "      fill: #D2E3FC;\n",
              "    }\n",
              "\n",
              "    [theme=dark] .colab-df-convert:hover {\n",
              "      background-color: #434B5C;\n",
              "      box-shadow: 0px 1px 3px 1px rgba(0, 0, 0, 0.15);\n",
              "      filter: drop-shadow(0px 1px 2px rgba(0, 0, 0, 0.3));\n",
              "      fill: #FFFFFF;\n",
              "    }\n",
              "  </style>\n",
              "\n",
              "      <script>\n",
              "        const buttonEl =\n",
              "          document.querySelector('#df-bc91d25f-1b23-499c-8eb7-fa2d6a23ee37 button.colab-df-convert');\n",
              "        buttonEl.style.display =\n",
              "          google.colab.kernel.accessAllowed ? 'block' : 'none';\n",
              "\n",
              "        async function convertToInteractive(key) {\n",
              "          const element = document.querySelector('#df-bc91d25f-1b23-499c-8eb7-fa2d6a23ee37');\n",
              "          const dataTable =\n",
              "            await google.colab.kernel.invokeFunction('convertToInteractive',\n",
              "                                                     [key], {});\n",
              "          if (!dataTable) return;\n",
              "\n",
              "          const docLinkHtml = 'Like what you see? Visit the ' +\n",
              "            '<a target=\"_blank\" href=https://colab.research.google.com/notebooks/data_table.ipynb>data table notebook</a>'\n",
              "            + ' to learn more about interactive tables.';\n",
              "          element.innerHTML = '';\n",
              "          dataTable['output_type'] = 'display_data';\n",
              "          await google.colab.output.renderOutput(dataTable, element);\n",
              "          const docLink = document.createElement('div');\n",
              "          docLink.innerHTML = docLinkHtml;\n",
              "          element.appendChild(docLink);\n",
              "        }\n",
              "      </script>\n",
              "    </div>\n",
              "  </div>\n",
              "  "
            ]
          },
          "metadata": {},
          "execution_count": 15
        }
      ]
    },
    {
      "cell_type": "markdown",
      "source": [
        "## Apartado 3\n",
        "Una  vez  obtenida  la  información  del  apartado  anterior,  queremos  tratar  de  entender  las \n",
        "diferencias  de  precio  entre  alquilar  un  apartamento  entero  y  una  habitación  privada.  Usa  los diagramas de \n",
        "cajas donde cada uno de los 5 barrios más populares está representado por una caja y haz una interpretación \n",
        "de los resultados. "
      ],
      "metadata": {
        "id": "TcFXbHG3jIYj"
      }
    },
    {
      "cell_type": "code",
      "source": [
        "# Creamos una base de datos vacía y añadimos las nuevas columnas vacías\n",
        "df = data[data['neighbourhood'].isin(best5neighbourhoods)]\n",
        "df = df[['neighbourhood', 'room_type','price']].copy()\n",
        "\n",
        "# No nos interesan las habitaciones compartidas\n",
        "df.drop(df[df['room_type'] == 'Shared room'].index, inplace = True)\n",
        "\n",
        "# Separamos los barrios y los precios en funciónn del tipo de habitación\n",
        "df_private = df[df['room_type'] == 'Private room']\n",
        "df_entire = df[df['room_type'] == 'Entire home/apt']"
      ],
      "metadata": {
        "id": "IfCdsQztjKS5"
      },
      "execution_count": 16,
      "outputs": []
    },
    {
      "cell_type": "markdown",
      "source": [
        "Lo que hemos realizado en esta parte de código son dos dataframes distintos; uno que contiene las habitaciones privadas y otro con los apartamentos enteros. \n",
        "\n",
        "Ambos incluyen el nombre del barrio, el tipo de habitación y el precio; que son las características que nos interesan mostrar.\n",
        "\n",
        "A continuación, realizamos dos diagramas de cajas. El primero para representar los precios de las habitaciones privadas y así, poder comparar entre los distintos barrios. Y el segundo lo mismo teniendo en cuenta los apartamentos enteros."
      ],
      "metadata": {
        "id": "jEB8k-r3nuwg"
      }
    },
    {
      "cell_type": "code",
      "source": [
        "# Crear gráfico de las habitaciones privadas\n",
        "df_private.boxplot(column = ['price'], by = 'neighbourhood')\n",
        "\n",
        "# Crear gráfico de los apartamentos enteros\n",
        "df_entire.boxplot(column = ['price'], by = 'neighbourhood')"
      ],
      "metadata": {
        "id": "SD2b-LyvqQiL",
        "outputId": "8592cb12-90e2-4c63-e7c2-b9994a64540c",
        "colab": {
          "base_uri": "https://localhost:8080/",
          "height": 692
        }
      },
      "execution_count": 17,
      "outputs": [
        {
          "output_type": "stream",
          "name": "stderr",
          "text": [
            "/usr/local/lib/python3.8/dist-packages/matplotlib/cbook/__init__.py:1376: VisibleDeprecationWarning: Creating an ndarray from ragged nested sequences (which is a list-or-tuple of lists-or-tuples-or ndarrays with different lengths or shapes) is deprecated. If you meant to do this, you must specify 'dtype=object' when creating the ndarray.\n",
            "  X = np.atleast_1d(X.T if isinstance(X, np.ndarray) else np.asarray(X))\n",
            "/usr/local/lib/python3.8/dist-packages/matplotlib/cbook/__init__.py:1376: VisibleDeprecationWarning: Creating an ndarray from ragged nested sequences (which is a list-or-tuple of lists-or-tuples-or ndarrays with different lengths or shapes) is deprecated. If you meant to do this, you must specify 'dtype=object' when creating the ndarray.\n",
            "  X = np.atleast_1d(X.T if isinstance(X, np.ndarray) else np.asarray(X))\n"
          ]
        },
        {
          "output_type": "execute_result",
          "data": {
            "text/plain": [
              "<matplotlib.axes._subplots.AxesSubplot at 0x7fb10dc466a0>"
            ]
          },
          "metadata": {},
          "execution_count": 17
        },
        {
          "output_type": "display_data",
          "data": {
            "text/plain": [
              "<Figure size 432x288 with 1 Axes>"
            ],
            "image/png": "[encoded data removed]"
          },
          "metadata": {
            "needs_background": "light"
          }
        },
        {
          "output_type": "display_data",
          "data": {
            "text/plain": [
              "<Figure size 432x288 with 1 Axes>"
            ],
            "image/png": "[encoded data removed]"
          },
          "metadata": {
            "needs_background": "light"
          }
        }
      ]
    },
    {
      "cell_type": "markdown",
      "source": [
        "Debido a que hay muchos valores outliers no se puede sacar una conclusión clara, por esta razón vamos a volver a representar los diagramas de cajas, pero esta vez sin mostrar los outliers para tener una visión más clara de los datos y poder sacar conclusiones."
      ],
      "metadata": {
        "id": "YgZFCOGYoWpj"
      }
    },
    {
      "cell_type": "code",
      "source": [
        "# Crear gráfico de las habitaciones privadas\n",
        "df_private.boxplot(column = ['price'], by = 'neighbourhood', showfliers=False)\n",
        "\n",
        "# Crear gráfico de los apartamentos enteros\n",
        "df_entire.boxplot(column = ['price'], by = 'neighbourhood', showfliers=False) "
      ],
      "metadata": {
        "id": "m_EusgeL4VOc",
        "outputId": "9f84c0df-0a44-4a51-e987-554532d833eb",
        "colab": {
          "base_uri": "https://localhost:8080/",
          "height": 692
        }
      },
      "execution_count": 18,
      "outputs": [
        {
          "output_type": "stream",
          "name": "stderr",
          "text": [
            "/usr/local/lib/python3.8/dist-packages/matplotlib/cbook/__init__.py:1376: VisibleDeprecationWarning: Creating an ndarray from ragged nested sequences (which is a list-or-tuple of lists-or-tuples-or ndarrays with different lengths or shapes) is deprecated. If you meant to do this, you must specify 'dtype=object' when creating the ndarray.\n",
            "  X = np.atleast_1d(X.T if isinstance(X, np.ndarray) else np.asarray(X))\n",
            "/usr/local/lib/python3.8/dist-packages/matplotlib/cbook/__init__.py:1376: VisibleDeprecationWarning: Creating an ndarray from ragged nested sequences (which is a list-or-tuple of lists-or-tuples-or ndarrays with different lengths or shapes) is deprecated. If you meant to do this, you must specify 'dtype=object' when creating the ndarray.\n",
            "  X = np.atleast_1d(X.T if isinstance(X, np.ndarray) else np.asarray(X))\n"
          ]
        },
        {
          "output_type": "execute_result",
          "data": {
            "text/plain": [
              "<matplotlib.axes._subplots.AxesSubplot at 0x7fb10e113520>"
            ]
          },
          "metadata": {},
          "execution_count": 18
        },
        {
          "output_type": "display_data",
          "data": {
            "text/plain": [
              "<Figure size 432x288 with 1 Axes>"
            ],
            "image/png": "[encoded data removed]"
          },
          "metadata": {
            "needs_background": "light"
          }
        },
        {
          "output_type": "display_data",
          "data": {
            "text/plain": [
              "<Figure size 432x288 with 1 Axes>"
            ],
            "image/png": "[encoded data removed]"
          },
          "metadata": {
            "needs_background": "light"
          }
        }
      ]
    },
    {
      "cell_type": "markdown",
      "source": [
        "Observando las dos gráficas, a primera vista podemos decir que esta claro que en el barrio de Hell's Kitchen los precios están mucho más caros y dispersos, en general, que en el resto de los barrios.\n",
        "\n",
        "También podemos concluir que en los barrios 'Bedford-Stuyvesan', 'Bushwick' y 'Harlem', los precios estan más o menos igual repartidos. Por tanto, da igual en que barrio te quieras alojar que los precios van a rondar en los mismos rangos.\n",
        "\n",
        "Los precios más bajos se encuentran en el barrio de Bushwick, pero a la hora de precio/calidad, habrá que comprobar otros barrios que a lo mejor sean un poco más caros pero ofrezcan una mejor calidad. \n",
        "\n",
        "Esto podriamos deducir de estos gráfico; sin embargo, volviendo al apartado 2, el barrio de 'Bushwick' tiene mejor calidad (3.50 de media de calificación) que Harlem, por ejemplo.\n",
        "\n",
        "Como conclusión, diríamos que a la hora de escoger un apartamento, la mejor opción sería en 'Bushwick', pues tiene la mejor relación calidad/precio. Por dar un ejemplo, el barrio de 'Hell's Kitchen' parece que es bastante bueno ya que los precios son más altos, pero al observar la media de calificaciones es bastante baja.\n",
        "\n",
        "Es por estos detalles, que razonamos que a la hora de escoger un apartamento, se deben tener en cuenta más parámetros."
      ],
      "metadata": {
        "id": "JrhRdbLmpRe7"
      }
    },
    {
      "cell_type": "markdown",
      "source": [
        "## Apartado 4\n",
        "Por  último,  se  intuye  que  la  tendencia  a  dejar  reseñas  en  las  apps  que  prestan  servicios,  ha aumentado  en  los  últimos  años.  Decide  que  diagrama  es  más  útil  para  este  caso.  Dibújalo  y  realiza  una interpretación del mismo. Tomaremos la fecha de la última reseña como el dato útil para realizar dicho caso.\n",
        "\n",
        "###Preparación y conversión de datos\n",
        "Borramos de la base de datos aquellos apartamentos que no tienen ninguna reseña, ya que no los vamos a utilizar y ya no los necesitamos en más apartados.\n",
        "\n",
        "Creamos una nueva columna 'year_last_review' que contiene el año de la última reseña realizada y lo convertimos a tipo numérico.\n",
        "\n",
        "Establecemos un nuevo dataframe que contenga solo el 'id' del apartamento y la columna de 'year_last_review' (para que sea más sencillo graficar).\n",
        "\n",
        "Y realizamos un groupby en función del año para sacar el número total de reseñas por año."
      ],
      "metadata": {
        "id": "TkUsp2vKnIKD"
      }
    },
    {
      "cell_type": "code",
      "source": [
        "# Borramos de la base de datos aquellos apartamentos que no tienen ninguna\n",
        "data = data.dropna(subset = ['last_review'])\n",
        "\n",
        "# Convertimos la columna de 'last_review' de 'object' a tipo 'string'\n",
        "data = data.astype({'last_review': 'str'})\n",
        "\n",
        "# Añadimos la nueva columna vacía 'year_last_review' y la convertimos a string para poder trabajar con ella.\n",
        "data['year_last_review'] = data.apply(lambda _: '', axis=1)\n",
        "data['num_year'] = data.apply(lambda _: '', axis=1)\n",
        "data = data.astype({'year_last_review': 'str'})\n",
        "\n",
        "# De esta manera, 'year_last_review' contendrá solo el año en el que se hizo la última reseña del mismo.\n",
        "data['year_last_review'] = data['last_review'].str[:4]\n",
        "\n",
        "# Convertimos dicha columna en tipo entero\n",
        "data = data.astype({'year_last_review': 'int'})\n",
        "\n",
        "# Creamos un nuevo df que contiene solo dos columnas, una con el total de reseñas por año y otra con el año al que pertenece dicha suma\n",
        "df = data[['id', 'year_last_review']].copy()\n",
        "\n",
        "df = df.groupby('year_last_review').count()\n",
        "\n",
        "# Renombramos la columna (para que tenga sentido lo que contiene).\n",
        "df = df.rename(columns = {'id':'num_reviews_per_year'})\n",
        "# Vemos el nuevo dataframe\n",
        "df"
      ],
      "metadata": {
        "colab": {
          "base_uri": "https://localhost:8080/",
          "height": 363
        },
        "id": "xyMvA5jSnK-C",
        "outputId": "09efed33-6af8-4948-fcde-2b7d379c9a80"
      },
      "execution_count": 19,
      "outputs": [
        {
          "output_type": "execute_result",
          "data": {
            "text/plain": [
              "                  num_reviews_per_year\n",
              "year_last_review                      \n",
              "2011                                 7\n",
              "2012                                25\n",
              "2013                                48\n",
              "2014                               199\n",
              "2015                              1393\n",
              "2016                              2707\n",
              "2017                              3205\n",
              "2018                              6050\n",
              "2019                             25208"
            ],
            "text/html": [
              "\n",
              "  <div id=\"df-faf5964a-5791-41bf-a9aa-bcc5f0b50bc1\">\n",
              "    <div class=\"colab-df-container\">\n",
              "      <div>\n",
              "<style scoped>\n",
              "    .dataframe tbody tr th:only-of-type {\n",
              "        vertical-align: middle;\n",
              "    }\n",
              "\n",
              "    .dataframe tbody tr th {\n",
              "        vertical-align: top;\n",
              "    }\n",
              "\n",
              "    .dataframe thead th {\n",
              "        text-align: right;\n",
              "    }\n",
              "</style>\n",
              "<table border=\"1\" class=\"dataframe\">\n",
              "  <thead>\n",
              "    <tr style=\"text-align: right;\">\n",
              "      <th></th>\n",
              "      <th>num_reviews_per_year</th>\n",
              "    </tr>\n",
              "    <tr>\n",
              "      <th>year_last_review</th>\n",
              "      <th></th>\n",
              "    </tr>\n",
              "  </thead>\n",
              "  <tbody>\n",
              "    <tr>\n",
              "      <th>2011</th>\n",
              "      <td>7</td>\n",
              "    </tr>\n",
              "    <tr>\n",
              "      <th>2012</th>\n",
              "      <td>25</td>\n",
              "    </tr>\n",
              "    <tr>\n",
              "      <th>2013</th>\n",
              "      <td>48</td>\n",
              "    </tr>\n",
              "    <tr>\n",
              "      <th>2014</th>\n",
              "      <td>199</td>\n",
              "    </tr>\n",
              "    <tr>\n",
              "      <th>2015</th>\n",
              "      <td>1393</td>\n",
              "    </tr>\n",
              "    <tr>\n",
              "      <th>2016</th>\n",
              "      <td>2707</td>\n",
              "    </tr>\n",
              "    <tr>\n",
              "      <th>2017</th>\n",
              "      <td>3205</td>\n",
              "    </tr>\n",
              "    <tr>\n",
              "      <th>2018</th>\n",
              "      <td>6050</td>\n",
              "    </tr>\n",
              "    <tr>\n",
              "      <th>2019</th>\n",
              "      <td>25208</td>\n",
              "    </tr>\n",
              "  </tbody>\n",
              "</table>\n",
              "</div>\n",
              "      <button class=\"colab-df-convert\" onclick=\"convertToInteractive('df-faf5964a-5791-41bf-a9aa-bcc5f0b50bc1')\"\n",
              "              title=\"Convert this dataframe to an interactive table.\"\n",
              "              style=\"display:none;\">\n",
              "        \n",
              "  <svg xmlns=\"http://www.w3.org/2000/svg\" height=\"24px\"viewBox=\"0 0 24 24\"\n",
              "       width=\"24px\">\n",
              "    <path d=\"M0 0h24v24H0V0z\" fill=\"none\"/>\n",
              "    <path d=\"M18.56 5.44l.94 2.06.94-2.06 2.06-.94-2.06-.94-.94-2.06-.94 2.06-2.06.94zm-11 1L8.5 8.5l.94-2.06 2.06-.94-2.06-.94L8.5 2.5l-.94 2.06-2.06.94zm10 10l.94 2.06.94-2.06 2.06-.94-2.06-.94-.94-2.06-.94 2.06-2.06.94z\"/><path d=\"M17.41 7.96l-1.37-1.37c-.4-.4-.92-.59-1.43-.59-.52 0-1.04.2-1.43.59L10.3 9.45l-7.72 7.72c-.78.78-.78 2.05 0 2.83L4 21.41c.39.39.9.59 1.41.59.51 0 1.02-.2 1.41-.59l7.78-7.78 2.81-2.81c.8-.78.8-2.07 0-2.86zM5.41 20L4 18.59l7.72-7.72 1.47 1.35L5.41 20z\"/>\n",
              "  </svg>\n",
              "      </button>\n",
              "      \n",
              "  <style>\n",
              "    .colab-df-container {\n",
              "      display:flex;\n",
              "      flex-wrap:wrap;\n",
              "      gap: 12px;\n",
              "    }\n",
              "\n",
              "    .colab-df-convert {\n",
              "      background-color: #E8F0FE;\n",
              "      border: none;\n",
              "      border-radius: 50%;\n",
              "      cursor: pointer;\n",
              "      display: none;\n",
              "      fill: #1967D2;\n",
              "      height: 32px;\n",
              "      padding: 0 0 0 0;\n",
              "      width: 32px;\n",
              "    }\n",
              "\n",
              "    .colab-df-convert:hover {\n",
              "      background-color: #E2EBFA;\n",
              "      box-shadow: 0px 1px 2px rgba(60, 64, 67, 0.3), 0px 1px 3px 1px rgba(60, 64, 67, 0.15);\n",
              "      fill: #174EA6;\n",
              "    }\n",
              "\n",
              "    [theme=dark] .colab-df-convert {\n",
              "      background-color: #3B4455;\n",
              "      fill: #D2E3FC;\n",
              "    }\n",
              "\n",
              "    [theme=dark] .colab-df-convert:hover {\n",
              "      background-color: #434B5C;\n",
              "      box-shadow: 0px 1px 3px 1px rgba(0, 0, 0, 0.15);\n",
              "      filter: drop-shadow(0px 1px 2px rgba(0, 0, 0, 0.3));\n",
              "      fill: #FFFFFF;\n",
              "    }\n",
              "  </style>\n",
              "\n",
              "      <script>\n",
              "        const buttonEl =\n",
              "          document.querySelector('#df-faf5964a-5791-41bf-a9aa-bcc5f0b50bc1 button.colab-df-convert');\n",
              "        buttonEl.style.display =\n",
              "          google.colab.kernel.accessAllowed ? 'block' : 'none';\n",
              "\n",
              "        async function convertToInteractive(key) {\n",
              "          const element = document.querySelector('#df-faf5964a-5791-41bf-a9aa-bcc5f0b50bc1');\n",
              "          const dataTable =\n",
              "            await google.colab.kernel.invokeFunction('convertToInteractive',\n",
              "                                                     [key], {});\n",
              "          if (!dataTable) return;\n",
              "\n",
              "          const docLinkHtml = 'Like what you see? Visit the ' +\n",
              "            '<a target=\"_blank\" href=https://colab.research.google.com/notebooks/data_table.ipynb>data table notebook</a>'\n",
              "            + ' to learn more about interactive tables.';\n",
              "          element.innerHTML = '';\n",
              "          dataTable['output_type'] = 'display_data';\n",
              "          await google.colab.output.renderOutput(dataTable, element);\n",
              "          const docLink = document.createElement('div');\n",
              "          docLink.innerHTML = docLinkHtml;\n",
              "          element.appendChild(docLink);\n",
              "        }\n",
              "      </script>\n",
              "    </div>\n",
              "  </div>\n",
              "  "
            ]
          },
          "metadata": {},
          "execution_count": 19
        }
      ]
    },
    {
      "cell_type": "markdown",
      "source": [
        "Mostramos el diagrama de líneas que representa los años en función del número de reseñas y procedemos a realizar la comprobación de que se han cogido todas las reseñas creadas."
      ],
      "metadata": {
        "id": "M8tH2qGRYBgf"
      }
    },
    {
      "cell_type": "code",
      "source": [
        "# Vector con los años a graficar\n",
        "years = data['year_last_review'].drop_duplicates()\n",
        "\n",
        "years = years.sort_values()\n",
        "# 'number_reviews_per_year' array que contiene el número de reseñas por año\n",
        "number_reviews_per_year = df['num_reviews_per_year'].to_numpy()\n",
        "\n",
        "fig, ax = plt.subplots()\n",
        "\n",
        "ax.plot(years, number_reviews_per_year)\n",
        "plt.xlabel('Años')\n",
        "plt.ylabel('Número de reseñas por año')\n",
        "plt.show()\n",
        "\n",
        "# Comprobación de que se han tenido en cuenta todas las filas\n",
        "# 'Total' tiene que ser igual al número total de filas que contiene data \n",
        "total = 0\n",
        "\n",
        "for i in range(len(number_reviews_per_year)):\n",
        "  total = total + number_reviews_per_year[i]\n",
        "\n",
        "if total == len(data):\n",
        "  print('\\nSe ha realizado correctamente.')\n",
        "else:\n",
        "   print('\\nHa habido un error. El número de datos no se corresponde.')\n"
      ],
      "metadata": {
        "colab": {
          "base_uri": "https://localhost:8080/",
          "height": 314
        },
        "id": "hjNtaCEPgAiI",
        "outputId": "72c2fd50-6729-47ac-bf00-5f5e481ef1b7"
      },
      "execution_count": 20,
      "outputs": [
        {
          "output_type": "display_data",
          "data": {
            "text/plain": [
              "<Figure size 432x288 with 1 Axes>"
            ],
            "image/png": "[encoded data removed]"
          },
          "metadata": {
            "needs_background": "light"
          }
        },
        {
          "output_type": "stream",
          "name": "stdout",
          "text": [
            "\n",
            "Se ha realizado correctamente.\n"
          ]
        }
      ]
    },
    {
      "cell_type": "markdown",
      "source": [
        "###Conclusión\n",
        "El gráfico nos representa de una forma muy clara como las reseñas siguen una función exponencial, prácticamente, a lo largo de los años. \n",
        "\n",
        "A partir de 2014, comienzan a crecer el número de reseñas. Podemos concluir que es cierto que la tendencia de dejar reseñas en las apps aumenta según pasan los años, esto se debe al gran incremento del uso de AirBnB en los últimos años, y a la forma en la que los usuarios se fían más de un apartamento u otro en función de las reseñas de usuarios previos.\n",
        "\n",
        "Es por ello, que a día de hoy, los anfitriones de los apartamentos piden directamente al cliente que deje una reseña, buscando una mejor puntuación que conlleve una afluencia mayor de usuarios que se interesen por su apartamento."
      ],
      "metadata": {
        "id": "NqySYEK_sFvE"
      }
    }
  ]
}