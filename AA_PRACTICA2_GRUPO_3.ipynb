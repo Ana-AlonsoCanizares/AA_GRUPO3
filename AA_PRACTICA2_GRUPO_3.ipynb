{
  "nbformat": 4,
  "nbformat_minor": 0,
  "metadata": {
    "colab": {
      "provenance": [],
      "authorship_tag": "ABX9TyMpaR1Ls1ZrE9HQMo0j7Sti",
      "include_colab_link": true
    },
    "kernelspec": {
      "name": "python3",
      "display_name": "Python 3"
    },
    "language_info": {
      "name": "python"
    },
    "accelerator": "GPU",
    "gpuClass": "standard"
  },
  "cells": [
    {
      "cell_type": "markdown",
      "metadata": {
        "id": "view-in-github",
        "colab_type": "text"
      },
      "source": [
        "<a href=\"https://colab.research.google.com/github/Ana-AlonsoCanizares/AA_GRUPO3/blob/main/AA_PRACTICA2_GRUPO_3.ipynb\" target=\"_parent\"><img src=\"https://colab.research.google.com/assets/colab-badge.svg\" alt=\"Open In Colab\"/></a>"
      ]
    },
    {
      "cell_type": "code",
      "execution_count": 5,
      "metadata": {
        "colab": {
          "base_uri": "https://localhost:8080/"
        },
        "id": "iR9w2WH3heIB",
        "outputId": "99b7ec24-63dd-4e52-98a7-be36ed63e72c"
      },
      "outputs": [
        {
          "output_type": "stream",
          "name": "stdout",
          "text": [
            "Colab only includes TensorFlow 2.x; %tensorflow_version has no effect.\n",
            "2.9.2\n"
          ]
        }
      ],
      "source": [
        "%tensorflow_version 2.x\n",
        "import tensorflow as tf\n",
        "from tensorflow import keras\n",
        "\n",
        "import numpy as np\n",
        "import matplotlib.pyplot as plt\n",
        "\n",
        "print(tf.__version__)"
      ]
    },
    {
      "cell_type": "code",
      "source": [
        "# CARGAMOS EL CONJUNTO DE DATOS MNIST EN KERAS\n",
        "from keras.datasets import fashion_mnist\n",
        "\n",
        "(train_images, train_labels), (test_images, test_labels) = fashion_mnist.load_data()\n",
        "print(train_images.shape)"
      ],
      "metadata": {
        "colab": {
          "base_uri": "https://localhost:8080/"
        },
        "id": "jLBBZ5_riFww",
        "outputId": "30ed6601-176b-4f4b-8173-bba80d86acbc"
      },
      "execution_count": 6,
      "outputs": [
        {
          "output_type": "stream",
          "name": "stdout",
          "text": [
            "Downloading data from https://storage.googleapis.com/tensorflow/tf-keras-datasets/train-labels-idx1-ubyte.gz\n",
            "29515/29515 [==============================] - 0s 0us/step\n",
            "Downloading data from https://storage.googleapis.com/tensorflow/tf-keras-datasets/train-images-idx3-ubyte.gz\n",
            "26421880/26421880 [==============================] - 1s 0us/step\n",
            "Downloading data from https://storage.googleapis.com/tensorflow/tf-keras-datasets/t10k-labels-idx1-ubyte.gz\n",
            "5148/5148 [==============================] - 0s 0us/step\n",
            "Downloading data from https://storage.googleapis.com/tensorflow/tf-keras-datasets/t10k-images-idx3-ubyte.gz\n",
            "4422102/4422102 [==============================] - 0s 0us/step\n",
            "(60000, 28, 28)\n"
          ]
        }
      ]
    },
    {
      "cell_type": "code",
      "source": [
        "# Vemos la matriz de la imagen número 10 (28x28)\n",
        "import numpy as np\n",
        "np.set_printoptions(precision=2, suppress=True, linewidth=145)\n",
        "print(np.matrix(train_images[9]))"
      ],
      "metadata": {
        "colab": {
          "base_uri": "https://localhost:8080/"
        },
        "id": "iw5020HGiyNW",
        "outputId": "54e19f28-7821-4003-f0b5-3718e8e3074c"
      },
      "execution_count": 7,
      "outputs": [
        {
          "output_type": "stream",
          "name": "stdout",
          "text": [
            "[[  0   0   0   0   0   0   0   0   0   0   0   0   0   0   0   0   0   0   0   0   0   0   0   0   0   0   0   0]\n",
            " [  0   0   0   0   0   0   0   0   0   0   0   0   0   0   0   0   0   0   0   0   0   0   0   0   0   0   0   0]\n",
            " [  0   0   0   0   0   0   0   0   0   0   0   0   0   1   1   0   0   0   0   0   0   0 164  50   0   7   0   0]\n",
            " [  0   0   0   0   0   0   0   0   1   0   0   1   0   0   1   1   0   0   5   0  45 217 255 176   0   6   0   0]\n",
            " [  0   0   0   0   0   0   0   0   0   1   1   0   3   3   5   9   0   2   0  62 236 231 215  27   0   1   0   0]\n",
            " [  0   0   0   0   0   0   0   0   0   0   0   0   0   0   0   0   0   0  29 244 231 234  74   0   1   0   0   0]\n",
            " [  0   0   0   0   0   0   0   0   0   2   0   0   0  23  41  59 111 134 138 226 202 217  22   0   1   0   0   0]\n",
            " [  0   0   0   0   0   0   0   0   0   5   0  35 179 195 182 225 198 241 177 199 205 210  26   0   1   0   0   3]\n",
            " [  0   0   0   0   0   0   0   0   0   0   0   0  19   0   0   0   0   0 235 243 198 119   0   3   1   3   4   0]\n",
            " [  0   0   0   0   0   0   0   0   0   0   0   0   0   2   5   0   0   0 170 252 181 182   0   0   0   0   0  19]\n",
            " [  0   0   0   0   0   0   0   0   0   0   0   0   1   1   0   0   4   0  76 255 183 219   9   0   0  42 191 164]\n",
            " [  0   0   0   0   0   0   0   0   0   0   0   0   0   0   0   0   2   0   0 237 198 204  75  47 221 221 238  25]\n",
            " [  0   0   0   0   0   0   0   0   0   0   0   1   0   0   1   2   1   0   0 209 212 229 255 254 232 227 174   0]\n",
            " [  0   0   0   0   0   0   0   0   0   0   0   0   0   0   1   0   0   0   0   0 210 255  87 101 230 238 105   0]\n",
            " [  0   0   0   0   0   0   0   0   0   0   0   0   0   1   0   4   1   0   1 250 236   0   0   0 224 233  20   0]\n",
            " [  0   0   0   0   0   1   3   4   4   2   0   0   0   1   0   2   0   0 204 185   0   0   0   6 227 202   0   0]\n",
            " [  0   1   0   1   0   0   0   0   0   0   0   0   0   1   0   0   0 173 159   0   0   2   0  10 237 153   0   0]\n",
            " [  0   0   1   0   0   0   0  40 138  21   0   0   2   0   8   0 132 195   0   0   0   0   0   8 240 118   0   1]\n",
            " [  5   6   4   0 132 232 208 208 241 217   0   0   0   1   0  29 217  35   0   9   0   2   0  25 238  58   0   2]\n",
            " [  0   0   0   0 181 255 231 233 219 238  77   0   0   0   0 196 145   0   0   0   0   2   0  49 228   0   0   2]\n",
            " [ 62  92   8   0 207 255 216 198 189 208 221   0   0   0 177 239  19   0   0   0   0   2   0  64 218   0   0   3]\n",
            " [ 96 249 223 211 237 243 211 228 255 252 255 138  38 175 242 173   0   0   0   0   0   2   0  89 204   0   0   2]\n",
            " [  0 197 240 240 237 219 222 244 235 243 244 255 255 234 233  45   0   2   0   0   0   2   0 105 188   0   0   0]\n",
            " [  0 165 253 224 229 242 244 232 239 242 243 237 230 230 207   0   0   1   0   0   0   9   0 120 165   0   8   0]\n",
            " [  0  45 255 252 253 241 229 223 230 235 240 239 233 245  65   0   2   0   0   0   0  10   0 128 143   0  10   0]\n",
            " [  0   0   0  72 202 255 255 255 255 255 255 255 255 194   0   0   2   0   0   0   0   8   0 186 160   0   9   0]\n",
            " [  0   0   0   0   0   0  38  89 135 162 180 179 152   0   0   1   0   0   0   0   0   1   0  68  29   0   3   0]\n",
            " [  0   0   0   0   0   0   0   0   0   0   0   0   0   0   0   0   0   0   0   0   0   0   0   0   0   0   0   0]]\n"
          ]
        }
      ]
    },
    {
      "cell_type": "code",
      "source": [
        "# La imagen anterior corresponde con la sandalia (tacón) asociada al número 5. Hasta se puede intuir.... \n",
        "train_labels[9]"
      ],
      "metadata": {
        "colab": {
          "base_uri": "https://localhost:8080/"
        },
        "id": "9q-NIlqEi-JI",
        "outputId": "ddba681a-d00e-41db-b5c2-cbb42e1895d3"
      },
      "execution_count": 8,
      "outputs": [
        {
          "output_type": "execute_result",
          "data": {
            "text/plain": [
              "5"
            ]
          },
          "metadata": {},
          "execution_count": 8
        }
      ]
    },
    {
      "cell_type": "code",
      "source": [
        "# Veamos el elemento 10 y pintémoslo con matplotlib\n",
        "import matplotlib.pyplot as plt\n",
        "digit = train_images[9]\n",
        "plt.imshow(digit, cmap=plt.cm.binary)\n",
        "plt.show()"
      ],
      "metadata": {
        "colab": {
          "base_uri": "https://localhost:8080/",
          "height": 265
        },
        "id": "6EWH0TzZjHcd",
        "outputId": "554f8681-3686-400b-a60d-0671b2a7a818"
      },
      "execution_count": 9,
      "outputs": [
        {
          "output_type": "display_data",
          "data": {
            "text/plain": [
              "<Figure size 432x288 with 1 Axes>"
            ],
            "image/png": "[encoded data removed]"
          },
          "metadata": {
            "needs_background": "light"
          }
        }
      ]
    },
    {
      "cell_type": "code",
      "source": [
        "# Normalizamos las imágenes\n",
        "\n",
        "# Imagenes de entrenamiento.\n",
        "train_images = train_images.astype('float32') / 255\n",
        "\n",
        "# Imagenes de test.\n",
        "test_images = test_images.astype('float32') / 255"
      ],
      "metadata": {
        "id": "7WvWQqj9jWGy"
      },
      "execution_count": 10,
      "outputs": []
    },
    {
      "cell_type": "markdown",
      "source": [
        "## Casos\n"
      ],
      "metadata": {
        "id": "JPvteOLtjzOl"
      }
    },
    {
      "cell_type": "markdown",
      "source": [
        "En esta sección se definen y entrenan los tres casos a estudiar en la práctica.\n",
        "\n",
        "Nuestro problema de clasificación de prendas será secuencial y tendrá una salida con 10 clases correspondientes a los diez tipos de prendas, independientemente del resto de parámetros utilizados, los cuales iremos variando.\n",
        "\n",
        "También, estarán formados por capas de neuronas convolucionales, donde los píxeles de entrada se irán recorriendo en función del tamaño de las ventanas aplicado en cada capa.\n",
        "\n",
        "La capa de salida estará formada por 10 neuronas y por la función de activación 'softmax' para que nos devuelva un vector de distribución de probabilidad sobre las clases que buscamos clasificar."
      ],
      "metadata": {
        "id": "qnsiKhAHj4Jb"
      }
    },
    {
      "cell_type": "code",
      "source": [
        "# Librerías a utilizar para construir los modelos\n",
        "from keras import models\n",
        "from keras import layers\n",
        "from tensorflow.keras import Sequential\n",
        "from tensorflow.keras.layers import Conv2D\n",
        "from tensorflow.keras.layers import MaxPooling2D\n",
        "from tensorflow.keras.layers import Dense\n",
        "from tensorflow.keras.layers import Flatten"
      ],
      "metadata": {
        "id": "Ha_LsPzml0ag"
      },
      "execution_count": 11,
      "outputs": []
    },
    {
      "cell_type": "code",
      "source": [
        "# Definimos variables que van a contener los resultados de los entrenamientos\n",
        "HISTORY = []\n",
        "TEST_LOSS = []\n",
        "TEST_ACC = []"
      ],
      "metadata": {
        "id": "ul8lzxF2lLxJ"
      },
      "execution_count": 12,
      "outputs": []
    },
    {
      "cell_type": "markdown",
      "source": [
        "### Caso 1"
      ],
      "metadata": {
        "id": "o68i0KhnlPS1"
      }
    },
    {
      "cell_type": "code",
      "source": [
        "model_1 = Sequential()\n",
        "model_1.add(Conv2D(32, (5, 5), activation='relu', input_shape=(28, 28, 1)))\n",
        "model_1.add(MaxPooling2D((2, 2)))\n",
        "\n",
        "model_1.add(Conv2D(64, (5, 5), activation='relu', input_shape=(28, 28, 1)))\n",
        "model_1.add(MaxPooling2D((2, 2)))\n",
        "\n",
        "model_1.add(Flatten())\n",
        "model_1.add(Dense(10, activation='softmax'))\n",
        "\n",
        "model_1.summary()"
      ],
      "metadata": {
        "colab": {
          "base_uri": "https://localhost:8080/"
        },
        "id": "WdD0-L2ymAgW",
        "outputId": "df68cbcf-e553-4ecc-867e-7152354a5fc1"
      },
      "execution_count": 13,
      "outputs": [
        {
          "output_type": "stream",
          "name": "stdout",
          "text": [
            "Model: \"sequential_2\"\n",
            "_________________________________________________________________\n",
            " Layer (type)                Output Shape              Param #   \n",
            "=================================================================\n",
            " conv2d_4 (Conv2D)           (None, 24, 24, 32)        832       \n",
            "                                                                 \n",
            " max_pooling2d_4 (MaxPooling  (None, 12, 12, 32)       0         \n",
            " 2D)                                                             \n",
            "                                                                 \n",
            " conv2d_5 (Conv2D)           (None, 8, 8, 64)          51264     \n",
            "                                                                 \n",
            " max_pooling2d_5 (MaxPooling  (None, 4, 4, 64)         0         \n",
            " 2D)                                                             \n",
            "                                                                 \n",
            " flatten_2 (Flatten)         (None, 1024)              0         \n",
            "                                                                 \n",
            " dense_4 (Dense)             (None, 10)                10250     \n",
            "                                                                 \n",
            "=================================================================\n",
            "Total params: 62,346\n",
            "Trainable params: 62,346\n",
            "Non-trainable params: 0\n",
            "_________________________________________________________________\n"
          ]
        }
      ]
    },
    {
      "cell_type": "code",
      "source": [
        "model_1.compile(loss='sparse_categorical_crossentropy',\n",
        "              optimizer='sgd',\n",
        "              metrics=['accuracy'])\n",
        "\n",
        "history_m1 = model_1.fit(train_images, train_labels,\n",
        "                      batch_size=100,\n",
        "                      epochs=5)\n",
        "\n",
        "HISTORY.append(history_m1)"
      ],
      "metadata": {
        "colab": {
          "base_uri": "https://localhost:8080/"
        },
        "id": "yyXN06WZnpxC",
        "outputId": "ab400f23-ed57-4539-da9c-871f98dc205c"
      },
      "execution_count": 14,
      "outputs": [
        {
          "output_type": "stream",
          "name": "stdout",
          "text": [
            "Epoch 1/5\n",
            "600/600 [==============================] - 10s 4ms/step - loss: 1.2459 - accuracy: 0.5953\n",
            "Epoch 2/5\n",
            "600/600 [==============================] - 2s 3ms/step - loss: 0.6819 - accuracy: 0.7508\n",
            "Epoch 3/5\n",
            "600/600 [==============================] - 2s 3ms/step - loss: 0.5946 - accuracy: 0.7846\n",
            "Epoch 4/5\n",
            "600/600 [==============================] - 2s 3ms/step - loss: 0.5425 - accuracy: 0.8044\n",
            "Epoch 5/5\n",
            "600/600 [==============================] - 2s 3ms/step - loss: 0.5072 - accuracy: 0.8198\n"
          ]
        }
      ]
    },
    {
      "cell_type": "code",
      "source": [
        "test_loss_m1, test_acc_m1 = model_1.evaluate(test_images, test_labels)\n",
        "TEST_LOSS.append(test_loss_m1)\n",
        "TEST_ACC.append(test_acc_m1)\n",
        "\n",
        "print('Test accuracy:', test_acc_m1)\n",
        "print('Test loss:', test_loss_m1)"
      ],
      "metadata": {
        "colab": {
          "base_uri": "https://localhost:8080/"
        },
        "id": "q7_6UKRfou0d",
        "outputId": "d71b158a-2dc1-4ddc-8733-e96be4eff272"
      },
      "execution_count": 15,
      "outputs": [
        {
          "output_type": "stream",
          "name": "stdout",
          "text": [
            "313/313 [==============================] - 1s 3ms/step - loss: 0.5220 - accuracy: 0.8109\n",
            "Test accuracy: 0.8108999729156494\n",
            "Test loss: 0.5220004916191101\n"
          ]
        }
      ]
    },
    {
      "cell_type": "markdown",
      "source": [
        "### Caso 2"
      ],
      "metadata": {
        "id": "PIPbe4sAo9xQ"
      }
    },
    {
      "cell_type": "code",
      "source": [
        "model_2 = Sequential()\n",
        "model_2.add(Conv2D(64, (7, 7), activation='relu', input_shape=(28, 28, 1)))\n",
        "model_2.add(MaxPooling2D((2, 2)))\n",
        "\n",
        "model_2.add(Conv2D(128, (3, 3), activation='relu', input_shape=(28, 28, 1)))\n",
        "model_2.add(MaxPooling2D((2, 2)))\n",
        "\n",
        "model_2.add(Flatten())\n",
        "model_2.add(Dense(65, activation='relu'))\n",
        "model_2.add(Dense(10, activation='softmax'))\n",
        "\n",
        "model_2.summary()"
      ],
      "metadata": {
        "colab": {
          "base_uri": "https://localhost:8080/"
        },
        "id": "oyX4ImGsplXI",
        "outputId": "280b7b76-a22a-4cf9-edba-1fff75cda7d1"
      },
      "execution_count": 16,
      "outputs": [
        {
          "output_type": "stream",
          "name": "stdout",
          "text": [
            "Model: \"sequential_3\"\n",
            "_________________________________________________________________\n",
            " Layer (type)                Output Shape              Param #   \n",
            "=================================================================\n",
            " conv2d_6 (Conv2D)           (None, 22, 22, 64)        3200      \n",
            "                                                                 \n",
            " max_pooling2d_6 (MaxPooling  (None, 11, 11, 64)       0         \n",
            " 2D)                                                             \n",
            "                                                                 \n",
            " conv2d_7 (Conv2D)           (None, 9, 9, 128)         73856     \n",
            "                                                                 \n",
            " max_pooling2d_7 (MaxPooling  (None, 4, 4, 128)        0         \n",
            " 2D)                                                             \n",
            "                                                                 \n",
            " flatten_3 (Flatten)         (None, 2048)              0         \n",
            "                                                                 \n",
            " dense_5 (Dense)             (None, 65)                133185    \n",
            "                                                                 \n",
            " dense_6 (Dense)             (None, 10)                660       \n",
            "                                                                 \n",
            "=================================================================\n",
            "Total params: 210,901\n",
            "Trainable params: 210,901\n",
            "Non-trainable params: 0\n",
            "_________________________________________________________________\n"
          ]
        }
      ]
    },
    {
      "cell_type": "code",
      "source": [
        "model_2.compile(loss='sparse_categorical_crossentropy',\n",
        "              optimizer='sgd',\n",
        "              metrics=['accuracy'])\n",
        "\n",
        "history_m2 = model_2.fit(train_images, train_labels,\n",
        "                      batch_size=100,\n",
        "                      epochs=5)\n",
        "\n",
        "HISTORY.append(history_m2)"
      ],
      "metadata": {
        "colab": {
          "base_uri": "https://localhost:8080/"
        },
        "id": "k_l60TR6qca9",
        "outputId": "e7a44306-3bcc-4cee-fa71-82df7ff5e708"
      },
      "execution_count": 17,
      "outputs": [
        {
          "output_type": "stream",
          "name": "stdout",
          "text": [
            "Epoch 1/5\n",
            "600/600 [==============================] - 3s 5ms/step - loss: 1.3524 - accuracy: 0.5501\n",
            "Epoch 2/5\n",
            "600/600 [==============================] - 3s 5ms/step - loss: 0.7307 - accuracy: 0.7252\n",
            "Epoch 3/5\n",
            "600/600 [==============================] - 3s 4ms/step - loss: 0.6325 - accuracy: 0.7618\n",
            "Epoch 4/5\n",
            "600/600 [==============================] - 3s 4ms/step - loss: 0.5747 - accuracy: 0.7857\n",
            "Epoch 5/5\n",
            "600/600 [==============================] - 3s 4ms/step - loss: 0.5386 - accuracy: 0.8021\n"
          ]
        }
      ]
    },
    {
      "cell_type": "code",
      "source": [
        "test_loss_m2, test_acc_m2 = model_2.evaluate(test_images, test_labels)\n",
        "TEST_LOSS.append(test_loss_m2)\n",
        "TEST_ACC.append(test_acc_m2)\n",
        "\n",
        "print('Test accuracy:', test_acc_m2)\n",
        "print('Test loss:', test_loss_m2)"
      ],
      "metadata": {
        "colab": {
          "base_uri": "https://localhost:8080/"
        },
        "id": "d-FIUdm7qoaw",
        "outputId": "7b969d06-4485-48ca-9396-e834605b2ad9"
      },
      "execution_count": 18,
      "outputs": [
        {
          "output_type": "stream",
          "name": "stdout",
          "text": [
            "313/313 [==============================] - 1s 3ms/step - loss: 0.5556 - accuracy: 0.8001\n",
            "Test accuracy: 0.8001000285148621\n",
            "Test loss: 0.5555535554885864\n"
          ]
        }
      ]
    },
    {
      "cell_type": "markdown",
      "source": [
        "### Caso 3"
      ],
      "metadata": {
        "id": "4-7Ir6NQqwip"
      }
    },
    {
      "cell_type": "code",
      "source": [
        "model_3 = Sequential()\n",
        "model_3.add(Conv2D(64, (7, 7), activation='relu', input_shape=(28, 28, 1)))\n",
        "model_3.add(MaxPooling2D((2, 2)))\n",
        "\n",
        "model_3.add(Conv2D(128, (3, 3), activation='relu', input_shape=(28, 28, 1)))\n",
        "model_3.add(MaxPooling2D((2, 2)))\n",
        "\n",
        "model_3.add(Flatten())\n",
        "model_3.add(Dense(65, activation='relu'))\n",
        "model_3.add(Dense(10, activation='softmax'))\n",
        "\n",
        "model_3.summary()"
      ],
      "metadata": {
        "colab": {
          "base_uri": "https://localhost:8080/"
        },
        "id": "RYtVXLq1qyzD",
        "outputId": "25538d8c-7d4f-4666-d2b7-20f6a2cf781f"
      },
      "execution_count": 19,
      "outputs": [
        {
          "output_type": "stream",
          "name": "stdout",
          "text": [
            "Model: \"sequential_4\"\n",
            "_________________________________________________________________\n",
            " Layer (type)                Output Shape              Param #   \n",
            "=================================================================\n",
            " conv2d_8 (Conv2D)           (None, 22, 22, 64)        3200      \n",
            "                                                                 \n",
            " max_pooling2d_8 (MaxPooling  (None, 11, 11, 64)       0         \n",
            " 2D)                                                             \n",
            "                                                                 \n",
            " conv2d_9 (Conv2D)           (None, 9, 9, 128)         73856     \n",
            "                                                                 \n",
            " max_pooling2d_9 (MaxPooling  (None, 4, 4, 128)        0         \n",
            " 2D)                                                             \n",
            "                                                                 \n",
            " flatten_4 (Flatten)         (None, 2048)              0         \n",
            "                                                                 \n",
            " dense_7 (Dense)             (None, 65)                133185    \n",
            "                                                                 \n",
            " dense_8 (Dense)             (None, 10)                660       \n",
            "                                                                 \n",
            "=================================================================\n",
            "Total params: 210,901\n",
            "Trainable params: 210,901\n",
            "Non-trainable params: 0\n",
            "_________________________________________________________________\n"
          ]
        }
      ]
    },
    {
      "cell_type": "code",
      "source": [
        "model_3.compile(loss='sparse_categorical_crossentropy',\n",
        "              optimizer='adam',\n",
        "              metrics=['accuracy'])\n",
        "\n",
        "history_m3 = model_3.fit(train_images, train_labels,\n",
        "                      batch_size=100,\n",
        "                      epochs=5)\n",
        "\n",
        "HISTORY.append(history_m3)"
      ],
      "metadata": {
        "colab": {
          "base_uri": "https://localhost:8080/"
        },
        "id": "taml9KQUq96P",
        "outputId": "65faa94d-5127-42b2-9d4a-719e8aa3e3b7"
      },
      "execution_count": 20,
      "outputs": [
        {
          "output_type": "stream",
          "name": "stdout",
          "text": [
            "Epoch 1/5\n",
            "600/600 [==============================] - 3s 5ms/step - loss: 0.5635 - accuracy: 0.7940\n",
            "Epoch 2/5\n",
            "600/600 [==============================] - 3s 5ms/step - loss: 0.3733 - accuracy: 0.8648\n",
            "Epoch 3/5\n",
            "600/600 [==============================] - 3s 5ms/step - loss: 0.3234 - accuracy: 0.8828\n",
            "Epoch 4/5\n",
            "600/600 [==============================] - 3s 5ms/step - loss: 0.2911 - accuracy: 0.8932\n",
            "Epoch 5/5\n",
            "600/600 [==============================] - 3s 5ms/step - loss: 0.2689 - accuracy: 0.9008\n"
          ]
        }
      ]
    },
    {
      "cell_type": "code",
      "source": [
        "test_loss_m3, test_acc_m3 = model_3.evaluate(test_images, test_labels)\n",
        "TEST_LOSS.append(test_loss_m3)\n",
        "TEST_ACC.append(test_acc_m3)\n",
        "\n",
        "print('Test accuracy:', test_acc_m3)\n",
        "print('Test loss:', test_loss_m3)"
      ],
      "metadata": {
        "colab": {
          "base_uri": "https://localhost:8080/"
        },
        "id": "vQBnTQDArFuy",
        "outputId": "3737209e-fa24-43e7-9933-467b08984ab4"
      },
      "execution_count": 21,
      "outputs": [
        {
          "output_type": "stream",
          "name": "stdout",
          "text": [
            "313/313 [==============================] - 1s 3ms/step - loss: 0.3022 - accuracy: 0.8887\n",
            "Test accuracy: 0.888700008392334\n",
            "Test loss: 0.30220749974250793\n"
          ]
        }
      ]
    },
    {
      "cell_type": "markdown",
      "source": [
        "### Variantes\n",
        "\n",
        "#### Caso 1. Variante 1"
      ],
      "metadata": {
        "id": "YqoyOnEcr-h4"
      }
    },
    {
      "cell_type": "code",
      "source": [
        "#Partición del conjunto de datos de entrenamiento\n",
        "split = 0.25\n",
        "\n",
        "index = int(len(train_images) * split) # índice a partir del cual se realiza la partición\n",
        "\n",
        "# Partición imágenes\n",
        "train_val = train_images[:index]\n",
        "train_train = train_images[index:]\n",
        "\n",
        "# Partición etiquetas one-hot encoded\n",
        "train_labels_val = train_labels[:index]\n",
        "train_train_labels = train_labels[index:]"
      ],
      "metadata": {
        "id": "XgV6HE_usDOn"
      },
      "execution_count": 27,
      "outputs": []
    },
    {
      "cell_type": "code",
      "source": [
        "model_1_variante_1 = Sequential()\n",
        "model_1_variante_1.add(Conv2D(32, (5, 5), activation='relu', input_shape=(28, 28, 1)))\n",
        "model_1_variante_1.add(MaxPooling2D((2, 2)))\n",
        "\n",
        "model_1_variante_1.add(Conv2D(64, (5, 5), activation='relu', input_shape=(28, 28, 1)))\n",
        "model_1_variante_1.add(MaxPooling2D((2, 2)))\n",
        "\n",
        "model_1_variante_1.add(Flatten())\n",
        "model_1_variante_1.add(Dense(10, activation='softmax'))\n",
        "\n",
        "model_1_variante_1.summary()"
      ],
      "metadata": {
        "colab": {
          "base_uri": "https://localhost:8080/"
        },
        "id": "-tVtIvS7uvyo",
        "outputId": "43b1f4b3-6f77-49fc-a4a3-d0b7168edea2"
      },
      "execution_count": 28,
      "outputs": [
        {
          "output_type": "stream",
          "name": "stdout",
          "text": [
            "Model: \"sequential_5\"\n",
            "_________________________________________________________________\n",
            " Layer (type)                Output Shape              Param #   \n",
            "=================================================================\n",
            " conv2d_10 (Conv2D)          (None, 24, 24, 32)        832       \n",
            "                                                                 \n",
            " max_pooling2d_10 (MaxPoolin  (None, 12, 12, 32)       0         \n",
            " g2D)                                                            \n",
            "                                                                 \n",
            " conv2d_11 (Conv2D)          (None, 8, 8, 64)          51264     \n",
            "                                                                 \n",
            " max_pooling2d_11 (MaxPoolin  (None, 4, 4, 64)         0         \n",
            " g2D)                                                            \n",
            "                                                                 \n",
            " flatten_5 (Flatten)         (None, 1024)              0         \n",
            "                                                                 \n",
            " dense_9 (Dense)             (None, 10)                10250     \n",
            "                                                                 \n",
            "=================================================================\n",
            "Total params: 62,346\n",
            "Trainable params: 62,346\n",
            "Non-trainable params: 0\n",
            "_________________________________________________________________\n"
          ]
        }
      ]
    },
    {
      "cell_type": "code",
      "source": [
        "model_1_variante_1.compile(loss='sparse_categorical_crossentropy',\n",
        "              optimizer='sgd',\n",
        "              metrics=['accuracy'])\n",
        "\n",
        "history_m1_v_1 = model_1_variante_1.fit(train_images, train_labels,\n",
        "                      batch_size=100,\n",
        "                      epochs=25,\n",
        "                      validation_data = (train_val, train_labels_val))\n",
        "\n",
        "HISTORY.append(history_m1_v_1)"
      ],
      "metadata": {
        "colab": {
          "base_uri": "https://localhost:8080/"
        },
        "id": "huf0Pybuu9pi",
        "outputId": "9fd2490d-bdd2-4eea-8ef1-927d0bb91e98"
      },
      "execution_count": 29,
      "outputs": [
        {
          "output_type": "stream",
          "name": "stdout",
          "text": [
            "Epoch 1/25\n",
            "600/600 [==============================] - 3s 4ms/step - loss: 1.1651 - accuracy: 0.6001 - val_loss: 0.7230 - val_accuracy: 0.7404\n",
            "Epoch 2/25\n",
            "600/600 [==============================] - 2s 4ms/step - loss: 0.6668 - accuracy: 0.7559 - val_loss: 0.5928 - val_accuracy: 0.7866\n",
            "Epoch 3/25\n",
            "600/600 [==============================] - 2s 4ms/step - loss: 0.5816 - accuracy: 0.7882 - val_loss: 0.5351 - val_accuracy: 0.8083\n",
            "Epoch 4/25\n",
            "600/600 [==============================] - 2s 4ms/step - loss: 0.5311 - accuracy: 0.8073 - val_loss: 0.5390 - val_accuracy: 0.8039\n",
            "Epoch 5/25\n",
            "600/600 [==============================] - 2s 4ms/step - loss: 0.4965 - accuracy: 0.8231 - val_loss: 0.4703 - val_accuracy: 0.8319\n",
            "Epoch 6/25\n",
            "600/600 [==============================] - 2s 4ms/step - loss: 0.4713 - accuracy: 0.8327 - val_loss: 0.4613 - val_accuracy: 0.8277\n",
            "Epoch 7/25\n",
            "600/600 [==============================] - 2s 4ms/step - loss: 0.4515 - accuracy: 0.8406 - val_loss: 0.4314 - val_accuracy: 0.8471\n",
            "Epoch 8/25\n",
            "600/600 [==============================] - 2s 4ms/step - loss: 0.4350 - accuracy: 0.8470 - val_loss: 0.4160 - val_accuracy: 0.8548\n",
            "Epoch 9/25\n",
            "600/600 [==============================] - 2s 4ms/step - loss: 0.4214 - accuracy: 0.8531 - val_loss: 0.4351 - val_accuracy: 0.8385\n",
            "Epoch 10/25\n",
            "600/600 [==============================] - 2s 4ms/step - loss: 0.4108 - accuracy: 0.8558 - val_loss: 0.4174 - val_accuracy: 0.8533\n",
            "Epoch 11/25\n",
            "600/600 [==============================] - 2s 4ms/step - loss: 0.4020 - accuracy: 0.8586 - val_loss: 0.3865 - val_accuracy: 0.8646\n",
            "Epoch 12/25\n",
            "600/600 [==============================] - 2s 4ms/step - loss: 0.3932 - accuracy: 0.8622 - val_loss: 0.3793 - val_accuracy: 0.8665\n",
            "Epoch 13/25\n",
            "600/600 [==============================] - 2s 4ms/step - loss: 0.3856 - accuracy: 0.8644 - val_loss: 0.3903 - val_accuracy: 0.8591\n",
            "Epoch 14/25\n",
            "600/600 [==============================] - 2s 4ms/step - loss: 0.3791 - accuracy: 0.8669 - val_loss: 0.3729 - val_accuracy: 0.8684\n",
            "Epoch 15/25\n",
            "600/600 [==============================] - 2s 4ms/step - loss: 0.3733 - accuracy: 0.8687 - val_loss: 0.3646 - val_accuracy: 0.8739\n",
            "Epoch 16/25\n",
            "600/600 [==============================] - 2s 4ms/step - loss: 0.3678 - accuracy: 0.8710 - val_loss: 0.3703 - val_accuracy: 0.8682\n",
            "Epoch 17/25\n",
            "600/600 [==============================] - 2s 4ms/step - loss: 0.3620 - accuracy: 0.8723 - val_loss: 0.3561 - val_accuracy: 0.8749\n",
            "Epoch 18/25\n",
            "600/600 [==============================] - 3s 5ms/step - loss: 0.3575 - accuracy: 0.8748 - val_loss: 0.3481 - val_accuracy: 0.8747\n",
            "Epoch 19/25\n",
            "600/600 [==============================] - 2s 4ms/step - loss: 0.3531 - accuracy: 0.8756 - val_loss: 0.3391 - val_accuracy: 0.8805\n",
            "Epoch 20/25\n",
            "600/600 [==============================] - 2s 4ms/step - loss: 0.3477 - accuracy: 0.8778 - val_loss: 0.3348 - val_accuracy: 0.8808\n",
            "Epoch 21/25\n",
            "600/600 [==============================] - 2s 4ms/step - loss: 0.3437 - accuracy: 0.8794 - val_loss: 0.3353 - val_accuracy: 0.8825\n",
            "Epoch 22/25\n",
            "600/600 [==============================] - 3s 4ms/step - loss: 0.3398 - accuracy: 0.8805 - val_loss: 0.3317 - val_accuracy: 0.8826\n",
            "Epoch 23/25\n",
            "600/600 [==============================] - 2s 4ms/step - loss: 0.3351 - accuracy: 0.8823 - val_loss: 0.3238 - val_accuracy: 0.8844\n",
            "Epoch 24/25\n",
            "600/600 [==============================] - 2s 4ms/step - loss: 0.3314 - accuracy: 0.8832 - val_loss: 0.3210 - val_accuracy: 0.8860\n",
            "Epoch 25/25\n",
            "600/600 [==============================] - 2s 4ms/step - loss: 0.3279 - accuracy: 0.8839 - val_loss: 0.3136 - val_accuracy: 0.8904\n"
          ]
        }
      ]
    }
  ]
}