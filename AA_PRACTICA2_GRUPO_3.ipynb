{
  "nbformat": 4,
  "nbformat_minor": 0,
  "metadata": {
    "colab": {
      "provenance": [],
      "authorship_tag": "ABX9TyOp45KG78sTUupEY3EjuHWJ",
      "include_colab_link": true
    },
    "kernelspec": {
      "name": "python3",
      "display_name": "Python 3"
    },
    "language_info": {
      "name": "python"
    },
    "accelerator": "GPU",
    "gpuClass": "standard"
  },
  "cells": [
    {
      "cell_type": "markdown",
      "metadata": {
        "id": "view-in-github",
        "colab_type": "text"
      },
      "source": [
        "<a href=\"https://colab.research.google.com/github/Ana-AlonsoCanizares/AA_GRUPO3/blob/main/AA_PRACTICA2_GRUPO_3.ipynb\" target=\"_parent\"><img src=\"https://colab.research.google.com/assets/colab-badge.svg\" alt=\"Open In Colab\"/></a>"
      ]
    },
    {
      "cell_type": "code",
      "execution_count": 1,
      "metadata": {
        "colab": {
          "base_uri": "https://localhost:8080/"
        },
        "id": "iR9w2WH3heIB",
        "outputId": "d2a72276-b55b-4804-8f0b-abdc249ab467"
      },
      "outputs": [
        {
          "output_type": "stream",
          "name": "stdout",
          "text": [
            "Colab only includes TensorFlow 2.x; %tensorflow_version has no effect.\n",
            "2.9.2\n"
          ]
        }
      ],
      "source": [
        "%tensorflow_version 2.x\n",
        "import tensorflow as tf\n",
        "from tensorflow import keras\n",
        "\n",
        "import numpy as np\n",
        "import matplotlib.pyplot as plt\n",
        "\n",
        "print(tf.__version__)"
      ]
    },
    {
      "cell_type": "code",
      "source": [
        "# CARGAMOS EL CONJUNTO DE DATOS MNIST EN KERAS\n",
        "from keras.datasets import fashion_mnist\n",
        "\n",
        "(train_images, train_labels), (test_images, test_labels) = fashion_mnist.load_data()\n",
        "print(train_images.shape)"
      ],
      "metadata": {
        "colab": {
          "base_uri": "https://localhost:8080/"
        },
        "id": "jLBBZ5_riFww",
        "outputId": "3f8428e7-fe59-4165-a826-f45b2175ff2d"
      },
      "execution_count": 2,
      "outputs": [
        {
          "output_type": "stream",
          "name": "stdout",
          "text": [
            "(60000, 28, 28)\n"
          ]
        }
      ]
    },
    {
      "cell_type": "code",
      "source": [
        "# Vemos la matriz de la imagen número 10 (28x28)\n",
        "import numpy as np\n",
        "np.set_printoptions(precision=2, suppress=True, linewidth=145)\n",
        "print(np.matrix(train_images[9]))"
      ],
      "metadata": {
        "colab": {
          "base_uri": "https://localhost:8080/"
        },
        "id": "iw5020HGiyNW",
        "outputId": "56870c45-26a7-4f17-8811-54ce4c1ac4c2"
      },
      "execution_count": 3,
      "outputs": [
        {
          "output_type": "stream",
          "name": "stdout",
          "text": [
            "[[  0   0   0   0   0   0   0   0   0   0   0   0   0   0   0   0   0   0   0   0   0   0   0   0   0   0   0   0]\n",
            " [  0   0   0   0   0   0   0   0   0   0   0   0   0   0   0   0   0   0   0   0   0   0   0   0   0   0   0   0]\n",
            " [  0   0   0   0   0   0   0   0   0   0   0   0   0   1   1   0   0   0   0   0   0   0 164  50   0   7   0   0]\n",
            " [  0   0   0   0   0   0   0   0   1   0   0   1   0   0   1   1   0   0   5   0  45 217 255 176   0   6   0   0]\n",
            " [  0   0   0   0   0   0   0   0   0   1   1   0   3   3   5   9   0   2   0  62 236 231 215  27   0   1   0   0]\n",
            " [  0   0   0   0   0   0   0   0   0   0   0   0   0   0   0   0   0   0  29 244 231 234  74   0   1   0   0   0]\n",
            " [  0   0   0   0   0   0   0   0   0   2   0   0   0  23  41  59 111 134 138 226 202 217  22   0   1   0   0   0]\n",
            " [  0   0   0   0   0   0   0   0   0   5   0  35 179 195 182 225 198 241 177 199 205 210  26   0   1   0   0   3]\n",
            " [  0   0   0   0   0   0   0   0   0   0   0   0  19   0   0   0   0   0 235 243 198 119   0   3   1   3   4   0]\n",
            " [  0   0   0   0   0   0   0   0   0   0   0   0   0   2   5   0   0   0 170 252 181 182   0   0   0   0   0  19]\n",
            " [  0   0   0   0   0   0   0   0   0   0   0   0   1   1   0   0   4   0  76 255 183 219   9   0   0  42 191 164]\n",
            " [  0   0   0   0   0   0   0   0   0   0   0   0   0   0   0   0   2   0   0 237 198 204  75  47 221 221 238  25]\n",
            " [  0   0   0   0   0   0   0   0   0   0   0   1   0   0   1   2   1   0   0 209 212 229 255 254 232 227 174   0]\n",
            " [  0   0   0   0   0   0   0   0   0   0   0   0   0   0   1   0   0   0   0   0 210 255  87 101 230 238 105   0]\n",
            " [  0   0   0   0   0   0   0   0   0   0   0   0   0   1   0   4   1   0   1 250 236   0   0   0 224 233  20   0]\n",
            " [  0   0   0   0   0   1   3   4   4   2   0   0   0   1   0   2   0   0 204 185   0   0   0   6 227 202   0   0]\n",
            " [  0   1   0   1   0   0   0   0   0   0   0   0   0   1   0   0   0 173 159   0   0   2   0  10 237 153   0   0]\n",
            " [  0   0   1   0   0   0   0  40 138  21   0   0   2   0   8   0 132 195   0   0   0   0   0   8 240 118   0   1]\n",
            " [  5   6   4   0 132 232 208 208 241 217   0   0   0   1   0  29 217  35   0   9   0   2   0  25 238  58   0   2]\n",
            " [  0   0   0   0 181 255 231 233 219 238  77   0   0   0   0 196 145   0   0   0   0   2   0  49 228   0   0   2]\n",
            " [ 62  92   8   0 207 255 216 198 189 208 221   0   0   0 177 239  19   0   0   0   0   2   0  64 218   0   0   3]\n",
            " [ 96 249 223 211 237 243 211 228 255 252 255 138  38 175 242 173   0   0   0   0   0   2   0  89 204   0   0   2]\n",
            " [  0 197 240 240 237 219 222 244 235 243 244 255 255 234 233  45   0   2   0   0   0   2   0 105 188   0   0   0]\n",
            " [  0 165 253 224 229 242 244 232 239 242 243 237 230 230 207   0   0   1   0   0   0   9   0 120 165   0   8   0]\n",
            " [  0  45 255 252 253 241 229 223 230 235 240 239 233 245  65   0   2   0   0   0   0  10   0 128 143   0  10   0]\n",
            " [  0   0   0  72 202 255 255 255 255 255 255 255 255 194   0   0   2   0   0   0   0   8   0 186 160   0   9   0]\n",
            " [  0   0   0   0   0   0  38  89 135 162 180 179 152   0   0   1   0   0   0   0   0   1   0  68  29   0   3   0]\n",
            " [  0   0   0   0   0   0   0   0   0   0   0   0   0   0   0   0   0   0   0   0   0   0   0   0   0   0   0   0]]\n"
          ]
        }
      ]
    },
    {
      "cell_type": "code",
      "source": [
        "# La imagen anterior corresponde con la sandalia (tacón) asociada al número 5. Hasta se puede intuir.... \n",
        "train_labels[9]"
      ],
      "metadata": {
        "colab": {
          "base_uri": "https://localhost:8080/"
        },
        "id": "9q-NIlqEi-JI",
        "outputId": "83d9fb48-d7d7-41e4-9ea4-7fb609be9eae"
      },
      "execution_count": 4,
      "outputs": [
        {
          "output_type": "execute_result",
          "data": {
            "text/plain": [
              "5"
            ]
          },
          "metadata": {},
          "execution_count": 4
        }
      ]
    },
    {
      "cell_type": "code",
      "source": [
        "# Veamos el elemento 10 y pintémoslo con matplotlib\n",
        "import matplotlib.pyplot as plt\n",
        "digit = train_images[9]\n",
        "plt.imshow(digit, cmap=plt.cm.binary)\n",
        "plt.show()"
      ],
      "metadata": {
        "colab": {
          "base_uri": "https://localhost:8080/",
          "height": 265
        },
        "id": "6EWH0TzZjHcd",
        "outputId": "3394896d-d1cc-44f0-93cc-e5edb7e29d4a"
      },
      "execution_count": 5,
      "outputs": [
        {
          "output_type": "display_data",
          "data": {
            "text/plain": [
              "<Figure size 432x288 with 1 Axes>"
            ],
            "image/png": "[encoded data removed]"
          },
          "metadata": {
            "needs_background": "light"
          }
        }
      ]
    },
    {
      "cell_type": "code",
      "source": [
        "# Normalizamos las imágenes\n",
        "\n",
        "# Imagenes de entrenamiento.\n",
        "train_images = train_images.astype('float32') / 255\n",
        "\n",
        "# Imagenes de test.\n",
        "test_images = test_images.astype('float32') / 255"
      ],
      "metadata": {
        "id": "7WvWQqj9jWGy"
      },
      "execution_count": 6,
      "outputs": []
    },
    {
      "cell_type": "markdown",
      "source": [
        "## Casos\n"
      ],
      "metadata": {
        "id": "JPvteOLtjzOl"
      }
    },
    {
      "cell_type": "markdown",
      "source": [
        "En esta sección se definen y entrenan los tres casos a estudiar en la práctica.\n",
        "\n",
        "Nuestro problema de clasificación de prendas será secuencial y tendrá una salida con 10 clases correspondientes a los diez tipos de prendas, independientemente del resto de parámetros utilizados, los cuales iremos variando.\n",
        "\n",
        "También, estarán formados por capas de neuronas convolucionales, donde los píxeles de entrada se irán recorriendo en función del tamaño de las ventanas aplicado en cada capa.\n",
        "\n",
        "La capa de salida estará formada por 10 neuronas y por la función de activación 'softmax' para que nos devuelva un vector de distribución de probabilidad sobre las clases que buscamos clasificar."
      ],
      "metadata": {
        "id": "qnsiKhAHj4Jb"
      }
    },
    {
      "cell_type": "code",
      "source": [
        "# Librerías a utilizar para construir los modelos\n",
        "from keras import models\n",
        "from keras import layers\n",
        "from tensorflow.keras import Sequential\n",
        "from tensorflow.keras.layers import Conv2D\n",
        "from tensorflow.keras.layers import MaxPooling2D\n",
        "from tensorflow.keras.layers import Dense\n",
        "from tensorflow.keras.layers import Flatten"
      ],
      "metadata": {
        "id": "Ha_LsPzml0ag"
      },
      "execution_count": 7,
      "outputs": []
    },
    {
      "cell_type": "code",
      "source": [
        "# Definimos variables que van a contener los resultados de los entrenamientos\n",
        "HISTORY = []\n",
        "TEST_LOSS = []\n",
        "TEST_ACC = []"
      ],
      "metadata": {
        "id": "ul8lzxF2lLxJ"
      },
      "execution_count": 8,
      "outputs": []
    },
    {
      "cell_type": "markdown",
      "source": [
        "### Caso 1"
      ],
      "metadata": {
        "id": "o68i0KhnlPS1"
      }
    },
    {
      "cell_type": "code",
      "source": [
        "modelo_1 = Sequential()\n",
        "modelo_1.add(Conv2D(32, (5, 5), activation='relu', input_shape=(28, 28, 1)))\n",
        "modelo_1.add(MaxPooling2D((2, 2)))\n",
        "\n",
        "modelo_1.add(Conv2D(64, (5, 5), activation='relu', input_shape=(28, 28, 1)))\n",
        "modelo_1.add(MaxPooling2D((2, 2)))\n",
        "\n",
        "modelo_1.add(Flatten())\n",
        "modelo_1.add(Dense(10, activation='softmax'))\n",
        "\n",
        "modelo_1.summary()"
      ],
      "metadata": {
        "colab": {
          "base_uri": "https://localhost:8080/"
        },
        "id": "WdD0-L2ymAgW",
        "outputId": "2452aeff-9b4f-4f39-a768-f17211944672"
      },
      "execution_count": 9,
      "outputs": [
        {
          "output_type": "stream",
          "name": "stdout",
          "text": [
            "Model: \"sequential\"\n",
            "_________________________________________________________________\n",
            " Layer (type)                Output Shape              Param #   \n",
            "=================================================================\n",
            " conv2d (Conv2D)             (None, 24, 24, 32)        832       \n",
            "                                                                 \n",
            " max_pooling2d (MaxPooling2D  (None, 12, 12, 32)       0         \n",
            " )                                                               \n",
            "                                                                 \n",
            " conv2d_1 (Conv2D)           (None, 8, 8, 64)          51264     \n",
            "                                                                 \n",
            " max_pooling2d_1 (MaxPooling  (None, 4, 4, 64)         0         \n",
            " 2D)                                                             \n",
            "                                                                 \n",
            " flatten (Flatten)           (None, 1024)              0         \n",
            "                                                                 \n",
            " dense (Dense)               (None, 10)                10250     \n",
            "                                                                 \n",
            "=================================================================\n",
            "Total params: 62,346\n",
            "Trainable params: 62,346\n",
            "Non-trainable params: 0\n",
            "_________________________________________________________________\n"
          ]
        }
      ]
    },
    {
      "cell_type": "code",
      "source": [
        "modelo_1.compile(loss='sparse_categorical_crossentropy',\n",
        "              optimizer='sgd',\n",
        "              metrics=['accuracy'])\n",
        "\n",
        "history_m1 = modelo_1.fit(train_images, train_labels,\n",
        "                      batch_size=100,\n",
        "                      epochs=5)\n",
        "\n",
        "HISTORY.append(history_m1)"
      ],
      "metadata": {
        "colab": {
          "base_uri": "https://localhost:8080/"
        },
        "id": "yyXN06WZnpxC",
        "outputId": "190dd6d5-a817-4473-80a8-22e4b71650fd"
      },
      "execution_count": 10,
      "outputs": [
        {
          "output_type": "stream",
          "name": "stdout",
          "text": [
            "Epoch 1/5\n",
            "600/600 [==============================] - 5s 4ms/step - loss: 1.2629 - accuracy: 0.5823\n",
            "Epoch 2/5\n",
            "600/600 [==============================] - 3s 5ms/step - loss: 0.6847 - accuracy: 0.7469\n",
            "Epoch 3/5\n",
            "600/600 [==============================] - 3s 6ms/step - loss: 0.5953 - accuracy: 0.7832\n",
            "Epoch 4/5\n",
            "600/600 [==============================] - 3s 5ms/step - loss: 0.5429 - accuracy: 0.8042\n",
            "Epoch 5/5\n",
            "600/600 [==============================] - 3s 5ms/step - loss: 0.5029 - accuracy: 0.8201\n"
          ]
        }
      ]
    },
    {
      "cell_type": "code",
      "source": [
        "test_loss_m1, test_acc_m1 = modelo_1.evaluate(test_images, test_labels)\n",
        "TEST_LOSS.append(test_loss_m1)\n",
        "TEST_ACC.append(test_acc_m1)\n",
        "\n",
        "print('Test accuracy:', test_acc_m1)\n",
        "print('Test loss:', test_loss_m1)"
      ],
      "metadata": {
        "colab": {
          "base_uri": "https://localhost:8080/"
        },
        "id": "q7_6UKRfou0d",
        "outputId": "4a8dc6a5-255c-4d7d-836a-21528c325cea"
      },
      "execution_count": 11,
      "outputs": [
        {
          "output_type": "stream",
          "name": "stdout",
          "text": [
            "313/313 [==============================] - 1s 3ms/step - loss: 0.5170 - accuracy: 0.8154\n",
            "Test accuracy: 0.8154000043869019\n",
            "Test loss: 0.5169611573219299\n"
          ]
        }
      ]
    },
    {
      "cell_type": "markdown",
      "source": [
        "### Caso 2"
      ],
      "metadata": {
        "id": "PIPbe4sAo9xQ"
      }
    },
    {
      "cell_type": "code",
      "source": [
        "modelo_2 = Sequential()\n",
        "modelo_2.add(Conv2D(64, (7, 7), activation='relu', input_shape=(28, 28, 1)))\n",
        "modelo_2.add(MaxPooling2D((2, 2)))\n",
        "\n",
        "modelo_2.add(Conv2D(128, (3, 3), activation='relu', input_shape=(28, 28, 1)))\n",
        "modelo_2.add(MaxPooling2D((2, 2)))\n",
        "\n",
        "modelo_2.add(Flatten())\n",
        "modelo_2.add(Dense(65, activation='relu'))\n",
        "modelo_2.add(Dense(10, activation='softmax'))\n",
        "\n",
        "modelo_2.summary()"
      ],
      "metadata": {
        "colab": {
          "base_uri": "https://localhost:8080/"
        },
        "id": "oyX4ImGsplXI",
        "outputId": "2c38cd6c-addf-41f1-ee5e-bd9ee721adda"
      },
      "execution_count": 12,
      "outputs": [
        {
          "output_type": "stream",
          "name": "stdout",
          "text": [
            "Model: \"sequential_1\"\n",
            "_________________________________________________________________\n",
            " Layer (type)                Output Shape              Param #   \n",
            "=================================================================\n",
            " conv2d_2 (Conv2D)           (None, 22, 22, 64)        3200      \n",
            "                                                                 \n",
            " max_pooling2d_2 (MaxPooling  (None, 11, 11, 64)       0         \n",
            " 2D)                                                             \n",
            "                                                                 \n",
            " conv2d_3 (Conv2D)           (None, 9, 9, 128)         73856     \n",
            "                                                                 \n",
            " max_pooling2d_3 (MaxPooling  (None, 4, 4, 128)        0         \n",
            " 2D)                                                             \n",
            "                                                                 \n",
            " flatten_1 (Flatten)         (None, 2048)              0         \n",
            "                                                                 \n",
            " dense_1 (Dense)             (None, 65)                133185    \n",
            "                                                                 \n",
            " dense_2 (Dense)             (None, 10)                660       \n",
            "                                                                 \n",
            "=================================================================\n",
            "Total params: 210,901\n",
            "Trainable params: 210,901\n",
            "Non-trainable params: 0\n",
            "_________________________________________________________________\n"
          ]
        }
      ]
    },
    {
      "cell_type": "code",
      "source": [
        "modelo_2.compile(loss='sparse_categorical_crossentropy',\n",
        "                optimizer='sgd',\n",
        "                metrics=['accuracy'])\n",
        "\n",
        "history_m2 = modelo_2.fit(train_images, train_labels,\n",
        "                          batch_size=100,\n",
        "                          epochs=5)\n",
        "\n",
        "HISTORY.append(history_m2)"
      ],
      "metadata": {
        "colab": {
          "base_uri": "https://localhost:8080/"
        },
        "id": "k_l60TR6qca9",
        "outputId": "c7df4b8d-a480-48ae-e63b-62c9af579cc8"
      },
      "execution_count": 13,
      "outputs": [
        {
          "output_type": "stream",
          "name": "stdout",
          "text": [
            "Epoch 1/5\n",
            "600/600 [==============================] - 3s 5ms/step - loss: 1.2496 - accuracy: 0.5716\n",
            "Epoch 2/5\n",
            "600/600 [==============================] - 3s 4ms/step - loss: 0.7361 - accuracy: 0.7258\n",
            "Epoch 3/5\n",
            "600/600 [==============================] - 3s 4ms/step - loss: 0.6463 - accuracy: 0.7575\n",
            "Epoch 4/5\n",
            "600/600 [==============================] - 3s 4ms/step - loss: 0.5906 - accuracy: 0.7807\n",
            "Epoch 5/5\n",
            "600/600 [==============================] - 3s 4ms/step - loss: 0.5497 - accuracy: 0.7968\n"
          ]
        }
      ]
    },
    {
      "cell_type": "code",
      "source": [
        "test_loss_m2, test_acc_m2 = modelo_2.evaluate(test_images, test_labels)\n",
        "TEST_LOSS.append(test_loss_m2)\n",
        "TEST_ACC.append(test_acc_m2)\n",
        "\n",
        "print('Test accuracy:', test_acc_m2)\n",
        "print('Test loss:', test_loss_m2)"
      ],
      "metadata": {
        "colab": {
          "base_uri": "https://localhost:8080/"
        },
        "id": "d-FIUdm7qoaw",
        "outputId": "8bde93bb-700a-47bf-fcb5-c65a6c3c07f1"
      },
      "execution_count": 14,
      "outputs": [
        {
          "output_type": "stream",
          "name": "stdout",
          "text": [
            "313/313 [==============================] - 1s 3ms/step - loss: 0.5842 - accuracy: 0.7637\n",
            "Test accuracy: 0.763700008392334\n",
            "Test loss: 0.5842481255531311\n"
          ]
        }
      ]
    },
    {
      "cell_type": "markdown",
      "source": [
        "### Caso 3"
      ],
      "metadata": {
        "id": "4-7Ir6NQqwip"
      }
    },
    {
      "cell_type": "code",
      "source": [
        "modelo_3 = Sequential()\n",
        "modelo_3.add(Conv2D(64, (7, 7), activation='relu', input_shape=(28, 28, 1)))\n",
        "modelo_3.add(MaxPooling2D((2, 2)))\n",
        "\n",
        "modelo_3.add(Conv2D(128, (3, 3), activation='relu', input_shape=(28, 28, 1)))\n",
        "modelo_3.add(MaxPooling2D((2, 2)))\n",
        "\n",
        "modelo_3.add(Flatten())\n",
        "modelo_3.add(Dense(65, activation='relu'))\n",
        "modelo_3.add(Dense(10, activation='softmax'))\n",
        "\n",
        "modelo_3.summary()"
      ],
      "metadata": {
        "colab": {
          "base_uri": "https://localhost:8080/"
        },
        "id": "RYtVXLq1qyzD",
        "outputId": "34ccaef4-d345-4788-f78b-688411800ade"
      },
      "execution_count": 15,
      "outputs": [
        {
          "output_type": "stream",
          "name": "stdout",
          "text": [
            "Model: \"sequential_2\"\n",
            "_________________________________________________________________\n",
            " Layer (type)                Output Shape              Param #   \n",
            "=================================================================\n",
            " conv2d_4 (Conv2D)           (None, 22, 22, 64)        3200      \n",
            "                                                                 \n",
            " max_pooling2d_4 (MaxPooling  (None, 11, 11, 64)       0         \n",
            " 2D)                                                             \n",
            "                                                                 \n",
            " conv2d_5 (Conv2D)           (None, 9, 9, 128)         73856     \n",
            "                                                                 \n",
            " max_pooling2d_5 (MaxPooling  (None, 4, 4, 128)        0         \n",
            " 2D)                                                             \n",
            "                                                                 \n",
            " flatten_2 (Flatten)         (None, 2048)              0         \n",
            "                                                                 \n",
            " dense_3 (Dense)             (None, 65)                133185    \n",
            "                                                                 \n",
            " dense_4 (Dense)             (None, 10)                660       \n",
            "                                                                 \n",
            "=================================================================\n",
            "Total params: 210,901\n",
            "Trainable params: 210,901\n",
            "Non-trainable params: 0\n",
            "_________________________________________________________________\n"
          ]
        }
      ]
    },
    {
      "cell_type": "code",
      "source": [
        "model_3.compile(loss='sparse_categorical_crossentropy',\n",
        "              optimizer='adam',\n",
        "              metrics=['accuracy'])\n",
        "\n",
        "history_m3 = model_3.fit(train_images, train_labels,\n",
        "                      batch_size=100,\n",
        "                      epochs=5)\n",
        "\n",
        "HISTORY.append(history_m3)"
      ],
      "metadata": {
        "colab": {
          "base_uri": "https://localhost:8080/"
        },
        "id": "taml9KQUq96P",
        "outputId": "95200269-73fe-4b69-83a8-1e5be2a160b9"
      },
      "execution_count": 16,
      "outputs": [
        {
          "output_type": "stream",
          "name": "stdout",
          "text": [
            "Epoch 1/5\n",
            "600/600 [==============================] - 3s 5ms/step - loss: 0.5522 - accuracy: 0.7994\n",
            "Epoch 2/5\n",
            "600/600 [==============================] - 3s 5ms/step - loss: 0.3590 - accuracy: 0.8707\n",
            "Epoch 3/5\n",
            "600/600 [==============================] - 3s 5ms/step - loss: 0.3111 - accuracy: 0.8855\n",
            "Epoch 4/5\n",
            "600/600 [==============================] - 3s 4ms/step - loss: 0.2825 - accuracy: 0.8971\n",
            "Epoch 5/5\n",
            "600/600 [==============================] - 3s 5ms/step - loss: 0.2604 - accuracy: 0.9042\n"
          ]
        }
      ]
    },
    {
      "cell_type": "code",
      "source": [
        "test_loss_m3, test_acc_m3 = model_3.evaluate(test_images, test_labels)\n",
        "TEST_LOSS.append(test_loss_m3)\n",
        "TEST_ACC.append(test_acc_m3)\n",
        "\n",
        "print('Test accuracy:', test_acc_m3)\n",
        "print('Test loss:', test_loss_m3)"
      ],
      "metadata": {
        "colab": {
          "base_uri": "https://localhost:8080/"
        },
        "id": "vQBnTQDArFuy",
        "outputId": "5ecb2cf1-1294-45c6-d9e0-ef0d4e943c61"
      },
      "execution_count": 17,
      "outputs": [
        {
          "output_type": "stream",
          "name": "stdout",
          "text": [
            "313/313 [==============================] - 1s 3ms/step - loss: 0.2953 - accuracy: 0.8934\n",
            "Test accuracy: 0.8934000134468079\n",
            "Test loss: 0.29532110691070557\n"
          ]
        }
      ]
    },
    {
      "cell_type": "markdown",
      "source": [
        "### Variantes\n",
        "\n",
        "#### Caso 1. Variante 1"
      ],
      "metadata": {
        "id": "YqoyOnEcr-h4"
      }
    },
    {
      "cell_type": "code",
      "source": [
        "#Partición del conjunto de datos de entrenamiento\n",
        "split = 0.25\n",
        "\n",
        "index = int(len(train_images) * split) # índice a partir del cual se realiza la partición\n",
        "\n",
        "# Partición imágenes\n",
        "train_val = train_images[:index]\n",
        "train_train = train_images[index:]\n",
        "\n",
        "# Partición etiquetas one-hot encoded\n",
        "train_labels_val = train_labels[:index]\n",
        "train_train_labels = train_labels[index:]"
      ],
      "metadata": {
        "id": "XgV6HE_usDOn"
      },
      "execution_count": 18,
      "outputs": []
    },
    {
      "cell_type": "code",
      "source": [
        "model_1_variante_1 = Sequential()\n",
        "model_1_variante_1.add(Conv2D(32, (5, 5), activation='relu', input_shape=(28, 28, 1)))\n",
        "model_1_variante_1.add(MaxPooling2D((2, 2)))\n",
        "\n",
        "model_1_variante_1.add(Conv2D(64, (5, 5), activation='relu', input_shape=(28, 28, 1)))\n",
        "model_1_variante_1.add(MaxPooling2D((2, 2)))\n",
        "\n",
        "model_1_variante_1.add(Flatten())\n",
        "model_1_variante_1.add(Dense(10, activation='softmax'))\n",
        "\n",
        "model_1_variante_1.summary()"
      ],
      "metadata": {
        "colab": {
          "base_uri": "https://localhost:8080/"
        },
        "id": "-tVtIvS7uvyo",
        "outputId": "e468aebc-f039-48ed-a405-20cd07c1d6c5"
      },
      "execution_count": 19,
      "outputs": [
        {
          "output_type": "stream",
          "name": "stdout",
          "text": [
            "Model: \"sequential_3\"\n",
            "_________________________________________________________________\n",
            " Layer (type)                Output Shape              Param #   \n",
            "=================================================================\n",
            " conv2d_6 (Conv2D)           (None, 24, 24, 32)        832       \n",
            "                                                                 \n",
            " max_pooling2d_6 (MaxPooling  (None, 12, 12, 32)       0         \n",
            " 2D)                                                             \n",
            "                                                                 \n",
            " conv2d_7 (Conv2D)           (None, 8, 8, 64)          51264     \n",
            "                                                                 \n",
            " max_pooling2d_7 (MaxPooling  (None, 4, 4, 64)         0         \n",
            " 2D)                                                             \n",
            "                                                                 \n",
            " flatten_3 (Flatten)         (None, 1024)              0         \n",
            "                                                                 \n",
            " dense_5 (Dense)             (None, 10)                10250     \n",
            "                                                                 \n",
            "=================================================================\n",
            "Total params: 62,346\n",
            "Trainable params: 62,346\n",
            "Non-trainable params: 0\n",
            "_________________________________________________________________\n"
          ]
        }
      ]
    },
    {
      "cell_type": "code",
      "source": [
        "model_1_variante_1.compile(loss='sparse_categorical_crossentropy',\n",
        "              optimizer='sgd',\n",
        "              metrics=['accuracy'])\n",
        "\n",
        "history_m1_v_1 = model_1_variante_1.fit(train_images, train_labels,\n",
        "                      batch_size=100,\n",
        "                      epochs=25,\n",
        "                      validation_data = (train_val, train_labels_val))\n",
        "\n",
        "HISTORY.append(history_m1_v_1)"
      ],
      "metadata": {
        "colab": {
          "base_uri": "https://localhost:8080/"
        },
        "id": "huf0Pybuu9pi",
        "outputId": "0a4be14f-a2ae-4cd9-801a-47b2ea720741"
      },
      "execution_count": 20,
      "outputs": [
        {
          "output_type": "stream",
          "name": "stdout",
          "text": [
            "Epoch 1/25\n",
            "600/600 [==============================] - 3s 4ms/step - loss: 1.2340 - accuracy: 0.5807 - val_loss: 0.7640 - val_accuracy: 0.7245\n",
            "Epoch 2/25\n",
            "600/600 [==============================] - 2s 4ms/step - loss: 0.6895 - accuracy: 0.7471 - val_loss: 0.6115 - val_accuracy: 0.7781\n",
            "Epoch 3/25\n",
            "600/600 [==============================] - 2s 4ms/step - loss: 0.5948 - accuracy: 0.7824 - val_loss: 0.5518 - val_accuracy: 0.7967\n",
            "Epoch 4/25\n",
            "600/600 [==============================] - 2s 4ms/step - loss: 0.5422 - accuracy: 0.8040 - val_loss: 0.5249 - val_accuracy: 0.8084\n",
            "Epoch 5/25\n",
            "600/600 [==============================] - 3s 5ms/step - loss: 0.5042 - accuracy: 0.8207 - val_loss: 0.4774 - val_accuracy: 0.8315\n",
            "Epoch 6/25\n",
            "600/600 [==============================] - 2s 4ms/step - loss: 0.4766 - accuracy: 0.8314 - val_loss: 0.4519 - val_accuracy: 0.8385\n",
            "Epoch 7/25\n",
            "600/600 [==============================] - 2s 4ms/step - loss: 0.4564 - accuracy: 0.8389 - val_loss: 0.4359 - val_accuracy: 0.8479\n",
            "Epoch 8/25\n",
            "600/600 [==============================] - 2s 4ms/step - loss: 0.4381 - accuracy: 0.8450 - val_loss: 0.4216 - val_accuracy: 0.8487\n",
            "Epoch 9/25\n",
            "600/600 [==============================] - 2s 4ms/step - loss: 0.4241 - accuracy: 0.8498 - val_loss: 0.4209 - val_accuracy: 0.8512\n",
            "Epoch 10/25\n",
            "600/600 [==============================] - 2s 4ms/step - loss: 0.4125 - accuracy: 0.8541 - val_loss: 0.3943 - val_accuracy: 0.8622\n",
            "Epoch 11/25\n",
            "600/600 [==============================] - 2s 4ms/step - loss: 0.4016 - accuracy: 0.8589 - val_loss: 0.4000 - val_accuracy: 0.8587\n",
            "Epoch 12/25\n",
            "600/600 [==============================] - 2s 4ms/step - loss: 0.3924 - accuracy: 0.8616 - val_loss: 0.3733 - val_accuracy: 0.8698\n",
            "Epoch 13/25\n",
            "600/600 [==============================] - 2s 4ms/step - loss: 0.3843 - accuracy: 0.8648 - val_loss: 0.4012 - val_accuracy: 0.8559\n",
            "Epoch 14/25\n",
            "600/600 [==============================] - 2s 4ms/step - loss: 0.3779 - accuracy: 0.8666 - val_loss: 0.3754 - val_accuracy: 0.8659\n",
            "Epoch 15/25\n",
            "600/600 [==============================] - 2s 4ms/step - loss: 0.3701 - accuracy: 0.8686 - val_loss: 0.3731 - val_accuracy: 0.8673\n",
            "Epoch 16/25\n",
            "600/600 [==============================] - 2s 4ms/step - loss: 0.3645 - accuracy: 0.8699 - val_loss: 0.3541 - val_accuracy: 0.8735\n",
            "Epoch 17/25\n",
            "600/600 [==============================] - 2s 4ms/step - loss: 0.3581 - accuracy: 0.8731 - val_loss: 0.3450 - val_accuracy: 0.8791\n",
            "Epoch 18/25\n",
            "600/600 [==============================] - 2s 4ms/step - loss: 0.3536 - accuracy: 0.8745 - val_loss: 0.3624 - val_accuracy: 0.8689\n",
            "Epoch 19/25\n",
            "600/600 [==============================] - 2s 4ms/step - loss: 0.3473 - accuracy: 0.8763 - val_loss: 0.3364 - val_accuracy: 0.8801\n",
            "Epoch 20/25\n",
            "600/600 [==============================] - 2s 4ms/step - loss: 0.3441 - accuracy: 0.8779 - val_loss: 0.3427 - val_accuracy: 0.8758\n",
            "Epoch 21/25\n",
            "600/600 [==============================] - 2s 4ms/step - loss: 0.3391 - accuracy: 0.8798 - val_loss: 0.3278 - val_accuracy: 0.8843\n",
            "Epoch 22/25\n",
            "600/600 [==============================] - 2s 4ms/step - loss: 0.3354 - accuracy: 0.8807 - val_loss: 0.3211 - val_accuracy: 0.8845\n",
            "Epoch 23/25\n",
            "600/600 [==============================] - 3s 4ms/step - loss: 0.3307 - accuracy: 0.8831 - val_loss: 0.3227 - val_accuracy: 0.8859\n",
            "Epoch 24/25\n",
            "600/600 [==============================] - 2s 4ms/step - loss: 0.3278 - accuracy: 0.8829 - val_loss: 0.3226 - val_accuracy: 0.8850\n",
            "Epoch 25/25\n",
            "600/600 [==============================] - 2s 4ms/step - loss: 0.3237 - accuracy: 0.8855 - val_loss: 0.3170 - val_accuracy: 0.8858\n"
          ]
        }
      ]
    },
    {
      "cell_type": "code",
      "source": [
        "test_loss_m1_v1, test_acc_m1_v1 = model_1_variante_1.evaluate(test_images, test_labels)\n",
        "TEST_LOSS.append(test_loss_m1_v1)\n",
        "TEST_ACC.append(test_acc_m1_v1)\n",
        "\n",
        "print('Test accuracy:', test_acc_m1_v1)\n",
        "print('Test loss:', test_loss_m1_v1)"
      ],
      "metadata": {
        "colab": {
          "base_uri": "https://localhost:8080/"
        },
        "id": "NdW0qwHknEvv",
        "outputId": "7143d5c7-f425-40c3-d147-2859940836ef"
      },
      "execution_count": 21,
      "outputs": [
        {
          "output_type": "stream",
          "name": "stdout",
          "text": [
            "313/313 [==============================] - 1s 3ms/step - loss: 0.3499 - accuracy: 0.8768\n",
            "Test accuracy: 0.876800000667572\n",
            "Test loss: 0.3498806953430176\n"
          ]
        }
      ]
    },
    {
      "cell_type": "markdown",
      "source": [
        "### Caso 1. Variante 2."
      ],
      "metadata": {
        "id": "kh7qYb3xlmnu"
      }
    },
    {
      "cell_type": "code",
      "source": [
        "model_1_variante_2 = Sequential()\n",
        "model_1_variante_2.add(Conv2D(32, (5, 5), activation='tanh', input_shape=(28, 28, 1)))\n",
        "model_1_variante_2.add(MaxPooling2D((2, 2)))\n",
        "\n",
        "model_1_variante_2.add(Conv2D(64, (5, 5), activation='tanh', input_shape=(28, 28, 1)))\n",
        "model_1_variante_2.add(MaxPooling2D((2, 2)))\n",
        "\n",
        "model_1_variante_2.add(Flatten())\n",
        "model_1_variante_2.add(Dense(10, activation='softmax'))\n",
        "\n",
        "model_1_variante_2.summary()"
      ],
      "metadata": {
        "colab": {
          "base_uri": "https://localhost:8080/"
        },
        "id": "YVauCa2Clr3s",
        "outputId": "7562e164-164c-4694-bfef-fa98aa255b58"
      },
      "execution_count": 22,
      "outputs": [
        {
          "output_type": "stream",
          "name": "stdout",
          "text": [
            "Model: \"sequential_4\"\n",
            "_________________________________________________________________\n",
            " Layer (type)                Output Shape              Param #   \n",
            "=================================================================\n",
            " conv2d_8 (Conv2D)           (None, 24, 24, 32)        832       \n",
            "                                                                 \n",
            " max_pooling2d_8 (MaxPooling  (None, 12, 12, 32)       0         \n",
            " 2D)                                                             \n",
            "                                                                 \n",
            " conv2d_9 (Conv2D)           (None, 8, 8, 64)          51264     \n",
            "                                                                 \n",
            " max_pooling2d_9 (MaxPooling  (None, 4, 4, 64)         0         \n",
            " 2D)                                                             \n",
            "                                                                 \n",
            " flatten_4 (Flatten)         (None, 1024)              0         \n",
            "                                                                 \n",
            " dense_6 (Dense)             (None, 10)                10250     \n",
            "                                                                 \n",
            "=================================================================\n",
            "Total params: 62,346\n",
            "Trainable params: 62,346\n",
            "Non-trainable params: 0\n",
            "_________________________________________________________________\n"
          ]
        }
      ]
    },
    {
      "cell_type": "code",
      "source": [
        "model_1_variante_2.compile(loss='sparse_categorical_crossentropy',\n",
        "              optimizer='sgd',\n",
        "              metrics=['accuracy'])\n",
        "\n",
        "history_m1_v_2 = model_1_variante_2.fit(train_images, train_labels,\n",
        "                      batch_size=100,\n",
        "                      epochs=5)\n",
        "\n",
        "HISTORY.append(history_m1_v_2)"
      ],
      "metadata": {
        "colab": {
          "base_uri": "https://localhost:8080/"
        },
        "id": "jirtCYUQl52L",
        "outputId": "473287e5-4caa-4144-8d98-de9c6bdc5c6d"
      },
      "execution_count": 23,
      "outputs": [
        {
          "output_type": "stream",
          "name": "stdout",
          "text": [
            "Epoch 1/5\n",
            "600/600 [==============================] - 3s 4ms/step - loss: 1.0887 - accuracy: 0.6539\n",
            "Epoch 2/5\n",
            "600/600 [==============================] - 2s 3ms/step - loss: 0.6651 - accuracy: 0.7589\n",
            "Epoch 3/5\n",
            "600/600 [==============================] - 2s 3ms/step - loss: 0.5873 - accuracy: 0.7863\n",
            "Epoch 4/5\n",
            "600/600 [==============================] - 2s 3ms/step - loss: 0.5398 - accuracy: 0.8047\n",
            "Epoch 5/5\n",
            "600/600 [==============================] - 2s 3ms/step - loss: 0.5055 - accuracy: 0.8195\n"
          ]
        }
      ]
    },
    {
      "cell_type": "code",
      "source": [
        "test_loss_m1_v2, test_acc_m1_v2 = model_1_variante_2.evaluate(test_images, test_labels)\n",
        "TEST_LOSS.append(test_loss_m1_v2)\n",
        "TEST_ACC.append(test_acc_m1_v2)\n",
        "\n",
        "print('Test accuracy:', test_acc_m1_v2)\n",
        "print('Test loss:', test_loss_m1_v2)"
      ],
      "metadata": {
        "colab": {
          "base_uri": "https://localhost:8080/"
        },
        "id": "lWhywmD7nZge",
        "outputId": "ba323333-64be-427f-e0c3-0d4462797a3d"
      },
      "execution_count": 24,
      "outputs": [
        {
          "output_type": "stream",
          "name": "stdout",
          "text": [
            "313/313 [==============================] - 1s 3ms/step - loss: 0.5162 - accuracy: 0.8123\n",
            "Test accuracy: 0.8123000264167786\n",
            "Test loss: 0.516233503818512\n"
          ]
        }
      ]
    },
    {
      "cell_type": "markdown",
      "source": [
        "## Funciones para graficar"
      ],
      "metadata": {
        "id": "tDK2LP8bsfcR"
      }
    },
    {
      "cell_type": "code",
      "source": [
        "# Curvas de aprendizaje\n",
        "\"\"\"\n",
        "Notas: Los elementos de HISTORY son diccionarios que contienen los nombres de las métricas como claves \n",
        "y sus valores (.values()) son listas con los valores de las métricas durante el entrenamiento model.fit\n",
        "\"\"\"\n",
        "def curvas_aprendizaje(HISTORY, nfilas, ncol, size = (18,10), title = []):\n",
        "    # Función para imprimir las curvas de aprendizaje en una rejilla de nfilas x ncol\n",
        "    # Argumentos: HISTORY = Lista con variables history de keras (obtenidas de model.fit)\n",
        "    #        nfilas, ncol = Nº de filas y columnas de la rejilla\n",
        "    #                size = Tamaño total de la rejilla (por defecto es (18,10))\n",
        "    # !Importante: El nº total de filas x col debe ser superiror al de los elementos pasados como argumento en HISTORY\n",
        "    if len(HISTORY) > nfilas*ncol:\n",
        "        print(\"Error. Dimensiones incompatibles\")\n",
        "        return 0\n",
        "    else:\n",
        "        fig = plt.figure(figsize=size) # Especifica tamaño de la figura\n",
        "\n",
        "        for i, registro in enumerate(HISTORY):\n",
        "\n",
        "            plt.subplot(nfilas, ncol, i+1) # Añade subplot (gráfica para un modelo)\n",
        "            if title:\n",
        "              plt.title(title[i])\n",
        "            else:\n",
        "              plt.title(\"Modelo \" + str(i+1)) # Formato de cada gráfica\n",
        "            plt.xlabel('Épocas')\n",
        "            plt.ylim((0,2))\n",
        "\n",
        "            acc = registro.history['accuracy']\n",
        "            loss = registro.history['loss']\n",
        "\n",
        "            x = list(range(1, len(acc) + 1))\n",
        "\n",
        "            plt.plot(x,loss, 'o-') # Imprime \n",
        "            plt.plot(x, acc, 'o-')\n",
        "\n",
        "            plt.xticks(x)\n",
        "            plt.legend(list(registro.history.keys()))\n",
        "            plt.text(len(x), loss[len(loss)-1], str(round(loss[len(loss)-1],3))) # Valor punto final  loss\n",
        "            plt.text(len(x), acc[len(acc)-1], str(round(acc[len(acc)-1],3))) # Valor punto final  loss\n",
        "\n",
        "    fig.tight_layout()\n",
        "    plt.show()\n",
        "\n",
        "\n",
        "# Entrenamiento-validacion\n",
        "def entrenamiento_validacion(HISTORY, nfilas, ncol, title, size = (18,10)):\n",
        "  if len(HISTORY) < nfilas*ncol:\n",
        "    print(\"Error. Dimensiones incompatibles\")\n",
        "    return 0\n",
        "  else:\n",
        "    fig = plt.figure(figsize=size) # Especifica tamaño de la figura\n",
        "\n",
        "  for i, history in enumerate(HISTORY):\n",
        "    acc = history.history['accuracy']\n",
        "    val_acc = history.history['val_accuracy']\n",
        "    loss = history.history['loss']\n",
        "    val_loss = history.history['val_loss']\n",
        "\n",
        "    epochs = range(1, len(acc) + 1)\n",
        "\n",
        "    plt.subplot(nfilas, ncol, i+1)\n",
        "\n",
        "    # \"bo\" es para \"punto azun\"\n",
        "    plt.plot(epochs, loss, 'bo', label='Pérdida de Entrenamiento')\n",
        "    # \"b\" es para \"linea continua azul\"\n",
        "    plt.plot(epochs, val_loss, 'b', label='Pérdida de Validación')\n",
        "    plt.title(title[i])\n",
        "    plt.xlabel('Epochs')\n",
        "    plt.ylabel('Loss')\n",
        "    plt.legend()\n",
        "\n",
        "  plt.show()\n",
        "\n",
        "\n",
        "\n",
        "# Confusion Matrix\n",
        "def plot_confusion_matrix(cm, classes,\n",
        "                          normalize=False,\n",
        "                          title='Confusion matrix',\n",
        "                          cmap=plt.cm.Blues):\n",
        "    \"\"\"\n",
        "    This function prints and plots the confusion matrix.\n",
        "    Normalization can be applied by setting `normalize=True`.\n",
        "    \"\"\"\n",
        "    plt.imshow(cm, interpolation='nearest', cmap=cmap)\n",
        "    plt.title(title)\n",
        "    plt.colorbar()\n",
        "    tick_marks = np.arange(len(classes))\n",
        "    plt.xticks(tick_marks, classes, rotation=45)\n",
        "    plt.yticks(tick_marks, classes)\n",
        "\n",
        "    if normalize:\n",
        "        cm = cm.astype('float') / cm.sum(axis=1)[:, np.newaxis]\n",
        "\n",
        "    thresh = cm.max() / 2.\n",
        "    for i, j in itertools.product(range(cm.shape[0]), range(cm.shape[1])):\n",
        "        plt.text(j, i, cm[i, j],\n",
        "                 horizontalalignment=\"center\",\n",
        "                 color=\"white\" if cm[i, j] > thresh else \"black\")\n",
        "\n",
        "    plt.tight_layout()\n",
        "    plt.ylabel('Observación')\n",
        "    plt.xlabel('Predicción')\n",
        "\n",
        "def show_confusion_matrix(predictions):\n",
        "    # Predicción de valores desde el dataset de validación\n",
        "    Y_pred = predictions\n",
        "    # Convertir en predicciones de clases desde los vectores one-hot encoding \n",
        "    Y_pred_classes = np.argmax(Y_pred, axis = 1) \n",
        "    # Convertir en clases de observación desde los vectores one-hot encoding\n",
        "    Y_true = np.argmax(test_labels, axis = 1) \n",
        "    # Computar la matriz de confusión\n",
        "    confusion_mtx = confusion_matrix(Y_true, Y_pred_classes) \n",
        "    # Dibujar la matriz de confusión\n",
        "    plot_confusion_matrix(confusion_mtx, classes = range(10))\n",
        "\n",
        "# Prediction distributions\n",
        "def plot_image(i, predictions_array, true_label, img):\n",
        "    predictions_array, true_label, img = predictions_array, true_label[i], img[i]\n",
        "    plt.grid(False)\n",
        "    plt.xticks([])\n",
        "    plt.yticks([])\n",
        "\n",
        "    plt.imshow(img, cmap=plt.cm.binary)    \n",
        "\n",
        "    predicted_label = np.argmax(predictions_array)\n",
        "    if predicted_label.all() == true_label.all():\n",
        "      color = 'blue'\n",
        "    else:\n",
        "      color = 'red'\n",
        "\n",
        "    plt.xlabel(\"{} {:2.0f}% ({})\".format(predicted_label,\n",
        "                                  100*np.max(predictions_array),\n",
        "                                  true_label),\n",
        "                                  color=color)\n",
        "\n",
        "\n",
        "def plot_value_array(i, predictions_array, true_label):\n",
        "    predictions_array, true_label = predictions_array, true_label[i]\n",
        "    plt.grid(False)\n",
        "    plt.xticks(range(10))\n",
        "    plt.yticks([])\n",
        "    thisplot = plt.bar(range(10), predictions_array, color=\"#777777\")\n",
        "    plt.ylim([0, 1])\n",
        "    predicted_label = np.argmax(predictions_array)\n",
        "\n",
        "    thisplot[predicted_label].set_color('red')\n",
        "    thisplot[true_label].set_color('black')\n",
        "\n",
        "def show_predicted_distributions(predictions, n):\n",
        "    Y_true = np.argmax(test_labels, axis = 1)\n",
        "    for i in range(n):\n",
        "      plt.figure(figsize=(6,3))\n",
        "      plt.subplot(1,2,1)\n",
        "      plot_image(i, predictions[i], Y_true, test_images.reshape(10000,28,28))\n",
        "      plt.subplot(1,2,2)\n",
        "      plot_value_array(i, predictions[i],  Y_true)\n",
        "      plt.show()\n",
        "      plt.clf()\n",
        "\n",
        "def show_single_predicted_dist(predictions, i, title):\n",
        "      Y_true = np.argmax(test_labels, axis = 1)\n",
        "      plt.figure(figsize=(6,3))\n",
        "      plt.subplot(1,2,1)\n",
        "      plot_image(i, predictions[i], Y_true, test_images.reshape(10000,28,28))\n",
        "      plt.subplot(1,2,2)\n",
        "      plot_value_array(i, predictions[i],  Y_true)\n",
        "\n",
        "      plt.title(title)\n",
        "      plt.tight_layout()\n",
        "      plt.show()\n",
        "\n",
        "\n",
        "\n",
        "# Gráfico de barras horizontales\n",
        "def testerror_testacc(ERROR, ACC, titles, size = (12,12)):\n",
        "    fig = plt.figure(figsize=size) # Especifica tamaño de la figura\n",
        "\n",
        "    # Ordena pérdida en orden ascendente y precisión en orden descendente\n",
        "    sorted_err = dict(zip(titles, ERROR))\n",
        "    sorted_err = dict(sorted(sorted_err.items(), key = lambda x: x[1], reverse=True)) \n",
        "\n",
        "    sorted_acc = dict(zip(titles, ACC))\n",
        "    sorted_acc = dict(sorted(sorted_acc.items(), key = lambda x: x[1])) \n",
        "\n",
        "    # Gráfica\n",
        "    plt.subplot(1, 2, 1)\n",
        "    plt.barh(list(sorted_err.keys()), list(sorted_err.values()))\n",
        "    plt.title('Test error')\n",
        "\n",
        "    plt.subplot(1,2,2)\n",
        "    plt.barh(list(sorted_acc.keys()), list(sorted_acc.values()), color='orange')\n",
        "    plt.title('Test accuracy')\n",
        "\n",
        "    fig.tight_layout()\n",
        "    plt.show()"
      ],
      "metadata": {
        "id": "h_wGhYR-siVE"
      },
      "execution_count": 28,
      "outputs": []
    },
    {
      "cell_type": "markdown",
      "source": [
        "## Predicciones"
      ],
      "metadata": {
        "id": "pQq_CTs2qxQt"
      }
    },
    {
      "cell_type": "code",
      "source": [
        "predictions1 = model_1.predict(test_images)\n",
        "predictions2 = model_2.predict(test_images) \n",
        "predictions3 = model_3.predict(test_images)"
      ],
      "metadata": {
        "colab": {
          "base_uri": "https://localhost:8080/"
        },
        "id": "QM7wbrzxq2L_",
        "outputId": "dd751579-9368-4b01-b144-a81c1c0f6ffd"
      },
      "execution_count": 30,
      "outputs": [
        {
          "output_type": "stream",
          "name": "stdout",
          "text": [
            "313/313 [==============================] - 1s 2ms/step\n",
            "313/313 [==============================] - 1s 2ms/step\n",
            "313/313 [==============================] - 1s 2ms/step\n"
          ]
        }
      ]
    },
    {
      "cell_type": "markdown",
      "source": [
        "### Matrices de confusión"
      ],
      "metadata": {
        "id": "bjWnb3tksL_5"
      }
    },
    {
      "cell_type": "code",
      "source": [
        "# Modelo 1\n",
        "# HAY QUE CAMBIAR LAS FUNCIONES (TENEMOS MATRICES, NO VECTORES) \n",
        "# show_confusion_matrix(predictions1)"
      ],
      "metadata": {
        "id": "J0noMb8LsOVb"
      },
      "execution_count": 36,
      "outputs": []
    },
    {
      "cell_type": "code",
      "source": [
        "# Modelo 2\n",
        "# show_confusion_matrix(predictions2)"
      ],
      "metadata": {
        "id": "NostoLacwGQ9"
      },
      "execution_count": null,
      "outputs": []
    },
    {
      "cell_type": "code",
      "source": [
        "# Predicciones de las 10 primeras imagenes de test\n",
        "# Modelo 1 show_predicted_distributions(predictions1, 2)"
      ],
      "metadata": {
        "id": "cWWL2WgnvhZf"
      },
      "execution_count": 37,
      "outputs": []
    }
  ]
}