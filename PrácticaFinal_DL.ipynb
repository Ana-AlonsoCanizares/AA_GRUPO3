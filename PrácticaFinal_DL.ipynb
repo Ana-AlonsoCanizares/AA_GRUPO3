{
  "cells": [
    {
      "cell_type": "code",
      "execution_count": 4,
      "metadata": {
        "colab": {
          "base_uri": "https://localhost:8080/"
        },
        "id": "WovRdT4jlXkH",
        "outputId": "f1810695-d83a-4949-87e3-7b411d7c89ca"
      },
      "outputs": [
        {
          "output_type": "stream",
          "name": "stdout",
          "text": [
            "Requirement already satisfied: fitz in /usr/local/lib/python3.10/dist-packages (0.0.1.dev2)\n",
            "Requirement already satisfied: configobj in /usr/local/lib/python3.10/dist-packages (from fitz) (5.0.8)\n",
            "Requirement already satisfied: configparser in /usr/local/lib/python3.10/dist-packages (from fitz) (7.0.0)\n",
            "Requirement already satisfied: httplib2 in /usr/local/lib/python3.10/dist-packages (from fitz) (0.22.0)\n",
            "Requirement already satisfied: nibabel in /usr/local/lib/python3.10/dist-packages (from fitz) (4.0.2)\n",
            "Requirement already satisfied: nipype in /usr/local/lib/python3.10/dist-packages (from fitz) (1.8.6)\n",
            "Requirement already satisfied: numpy in /usr/local/lib/python3.10/dist-packages (from fitz) (1.25.2)\n",
            "Requirement already satisfied: pandas in /usr/local/lib/python3.10/dist-packages (from fitz) (2.0.3)\n",
            "Requirement already satisfied: pyxnat in /usr/local/lib/python3.10/dist-packages (from fitz) (1.6.2)\n",
            "Requirement already satisfied: scipy in /usr/local/lib/python3.10/dist-packages (from fitz) (1.11.4)\n",
            "Requirement already satisfied: six in /usr/local/lib/python3.10/dist-packages (from configobj->fitz) (1.16.0)\n",
            "Requirement already satisfied: pyparsing!=3.0.0,!=3.0.1,!=3.0.2,!=3.0.3,<4,>=2.4.2 in /usr/local/lib/python3.10/dist-packages (from httplib2->fitz) (3.1.2)\n",
            "Requirement already satisfied: packaging>=17.0 in /usr/local/lib/python3.10/dist-packages (from nibabel->fitz) (24.0)\n",
            "Requirement already satisfied: setuptools in /usr/local/lib/python3.10/dist-packages (from nibabel->fitz) (67.7.2)\n",
            "Requirement already satisfied: click>=6.6.0 in /usr/local/lib/python3.10/dist-packages (from nipype->fitz) (8.1.7)\n",
            "Requirement already satisfied: networkx>=2.0 in /usr/local/lib/python3.10/dist-packages (from nipype->fitz) (3.3)\n",
            "Requirement already satisfied: prov>=1.5.2 in /usr/local/lib/python3.10/dist-packages (from nipype->fitz) (2.0.0)\n",
            "Requirement already satisfied: pydot>=1.2.3 in /usr/local/lib/python3.10/dist-packages (from nipype->fitz) (1.4.2)\n",
            "Requirement already satisfied: python-dateutil>=2.2 in /usr/local/lib/python3.10/dist-packages (from nipype->fitz) (2.8.2)\n",
            "Requirement already satisfied: rdflib>=5.0.0 in /usr/local/lib/python3.10/dist-packages (from nipype->fitz) (7.0.0)\n",
            "Requirement already satisfied: simplejson>=3.8.0 in /usr/local/lib/python3.10/dist-packages (from nipype->fitz) (3.19.2)\n",
            "Requirement already satisfied: traits!=5.0,<6.4,>=4.6 in /usr/local/lib/python3.10/dist-packages (from nipype->fitz) (6.3.2)\n",
            "Requirement already satisfied: filelock>=3.0.0 in /usr/local/lib/python3.10/dist-packages (from nipype->fitz) (3.14.0)\n",
            "Requirement already satisfied: etelemetry>=0.2.0 in /usr/local/lib/python3.10/dist-packages (from nipype->fitz) (0.3.1)\n",
            "Requirement already satisfied: looseversion in /usr/local/lib/python3.10/dist-packages (from nipype->fitz) (1.3.0)\n",
            "Requirement already satisfied: pytz>=2020.1 in /usr/local/lib/python3.10/dist-packages (from pandas->fitz) (2023.4)\n",
            "Requirement already satisfied: tzdata>=2022.1 in /usr/local/lib/python3.10/dist-packages (from pandas->fitz) (2024.1)\n",
            "Requirement already satisfied: lxml>=4.3 in /usr/local/lib/python3.10/dist-packages (from pyxnat->fitz) (4.9.4)\n",
            "Requirement already satisfied: requests>=2.20 in /usr/local/lib/python3.10/dist-packages (from pyxnat->fitz) (2.31.0)\n",
            "Requirement already satisfied: pathlib>=1.0 in /usr/local/lib/python3.10/dist-packages (from pyxnat->fitz) (1.0.1)\n",
            "Requirement already satisfied: ci-info>=0.2 in /usr/local/lib/python3.10/dist-packages (from etelemetry>=0.2.0->nipype->fitz) (0.3.0)\n",
            "Requirement already satisfied: isodate<0.7.0,>=0.6.0 in /usr/local/lib/python3.10/dist-packages (from rdflib>=5.0.0->nipype->fitz) (0.6.1)\n",
            "Requirement already satisfied: charset-normalizer<4,>=2 in /usr/local/lib/python3.10/dist-packages (from requests>=2.20->pyxnat->fitz) (3.3.2)\n",
            "Requirement already satisfied: idna<4,>=2.5 in /usr/local/lib/python3.10/dist-packages (from requests>=2.20->pyxnat->fitz) (3.7)\n",
            "Requirement already satisfied: urllib3<3,>=1.21.1 in /usr/local/lib/python3.10/dist-packages (from requests>=2.20->pyxnat->fitz) (2.0.7)\n",
            "Requirement already satisfied: certifi>=2017.4.17 in /usr/local/lib/python3.10/dist-packages (from requests>=2.20->pyxnat->fitz) (2024.2.2)\n"
          ]
        }
      ],
      "source": [
        "pip install fitz"
      ]
    },
    {
      "cell_type": "code",
      "execution_count": 5,
      "metadata": {
        "colab": {
          "base_uri": "https://localhost:8080/"
        },
        "id": "fEao0GuXlmm4",
        "outputId": "eec290e1-5261-469b-f3e9-6dac7b4969ea"
      },
      "outputs": [
        {
          "output_type": "stream",
          "name": "stdout",
          "text": [
            "Requirement already satisfied: pymupdf in /usr/local/lib/python3.10/dist-packages (1.24.3)\n",
            "Requirement already satisfied: PyMuPDFb==1.24.3 in /usr/local/lib/python3.10/dist-packages (from pymupdf) (1.24.3)\n"
          ]
        }
      ],
      "source": [
        "pip install pymupdf"
      ]
    },
    {
      "cell_type": "code",
      "source": [
        "from tensorflow import keras\n",
        "from tensorflow.keras import layers\n",
        "import string\n",
        "import numpy as np\n",
        "import tensorflow as tf\n",
        "import fitz\n",
        "import re\n",
        "import random"
      ],
      "metadata": {
        "id": "fjwINrU6DhDE"
      },
      "execution_count": null,
      "outputs": []
    },
    {
      "cell_type": "code",
      "execution_count": 35,
      "metadata": {
        "id": "EVKItA4elA0Y"
      },
      "outputs": [],
      "source": [
        "pdf_doc = fitz.open(\"Poemas_Antonio_Machado.docx\")\n",
        "\n",
        "poemas = []\n",
        "\n",
        "for page in pdf_doc:\n",
        "  text = page.get_text()\n",
        "  poemas.extend(text.strip().split(\"\\n\\n\"))\n",
        "\n",
        "# poemas"
      ]
    },
    {
      "cell_type": "code",
      "source": [
        "def insert_spaces_before_after_newline(text):\n",
        "    # Utiliza expresiones regulares para encontrar todas las ocurrencias de \\n\n",
        "    pattern = re.compile(r'(?<=\\n)|(?=\\n)')\n",
        "    # Inserta un espacio antes y después de cada ocurrencia de \\n\n",
        "    modified_text = pattern.sub(' ', text)\n",
        "    return modified_text\n",
        "\n",
        "# Meter espacios alrededor de los saltos de línea\n",
        "for i, poema in enumerate(poemas):\n",
        "  poemas[i] = insert_spaces_before_after_newline(poemas[i])\n",
        "\n",
        "# poemas"
      ],
      "metadata": {
        "colab": {
          "base_uri": "https://localhost:8080/"
        },
        "id": "wFd-Xd_fdJPm",
        "outputId": "c776a588-1517-4533-f5f7-dceef0eb5757"
      },
      "execution_count": 26,
      "outputs": [
        {
          "output_type": "execute_result",
          "data": {
            "text/plain": [
              "['Está en la sala familiar, sombría, \\n y entre nosotros, el querido hermano \\n que en el sueño infantil de un claro día \\n vimos partir hacia un país lejano. \\n Hoy tiene ya las sienes plateadas, \\n un gris mechón sobre la angosta frente; \\n y la fría inquietud de sus miradas \\n revela un alma casi toda ausente. \\n Deshójanse las copas otoñales \\n del parque mustio y viejo. \\n La tarde, tras los húmedos cristales, \\n se pinta, y en el fondo del espejo. \\n El rostro del hermano se ilumina \\n suavemente. ¿Floridos desengaños \\n dorados por la tarde que declina? \\n ¿Ansias de vida nueva en nuevos años? \\n ¿Lamentará la juventud perdida? \\n Lejos quedó —la pobre loba— muerta. \\n ¿La blanca juventud nunca vivida \\n teme, que ha de cantar ante su puerta? \\n ¿Sonríe al sol de oro, \\n de la tierra de un sueño no encontrada;',\n",
              " 'y ve su nave hender el mar sonoro, \\n de viento y luz la blanca vela henchida? \\n Él ha visto las hojas otoñales, \\n amarillas, rodar, las olorosas \\n ramas del eucalipto, los rosales \\n que enseñan otra vez sus blancas rosas… \\n Y este dolor que añora o desconfía \\n el temblor de una lágrima reprime, \\n y un resto de viril hipocresía \\n en el semblante pálido se imprime. \\n Serio retrato en la pared clarea \\n todavía. Nosotros divagamos. \\n En la tristeza del hogar golpea \\n el tictac del reloj. Todos callamos. \\n He andado muchos caminos, \\n he abierto muchas veredas; \\n he navegado en cien mares, \\n y atracado en cien riberas. \\n En todas partes he visto \\n caravanas de tristeza, \\n soberbios y melancólicos',\n",
              " 'borrachos de sombra negra, \\n y pedantones al paño \\n que miran, callan, y piensan \\n que saben, porque no beben \\n el vino de las tabernas. \\n Mala gente que camina \\n y va apestando la tierra... \\n Y en todas partes he visto \\n gentes que danzan o juegan, \\n cuando pueden, y laboran \\n sus cuatro palmos de tierra. \\n Nunca, si llegan a un sitio, \\n preguntan adónde llegan. \\n Cuando caminan, cabalgan \\n a lomos de mula vieja, \\n y no conocen la prisa \\n ni aun en los días de fiesta. \\n Donde hay vino, beben vino; \\n donde no hay vino, agua fresca. \\n Son buenas gentes que viven, \\n laboran, pasan y sueñan, \\n y en un día como tantos,',\n",
              " 'descansan bajo la tierra. \\n La plaza y los naranjos encendidos \\n con sus frutas redondas y risueñas. \\n Tumulto de pequeños colegiales \\n que, al salir en desorden de la escuela, \\n llenan el aire de la plaza en sombra \\n con la algazara de sus voces nuevas. \\n ¡Alegría infantil en los rincones \\n de las ciudades muertas!... \\n ¡Y algo nuestro de ayer, que todavía \\n vemos vagar por estas calles viejas! \\n Tierra le dieron una tarde horrible \\n del mes de julio, bajo el sol de fuego. \\n A un paso de la abierta sepultura, \\n había rosas de podridos pétalos, \\n entre geranios de áspera fragancia \\n y roja flor. El cielo \\n puro y azul. Corría \\n un aire fuerte y seco. \\n De los gruesos cordeles suspendido,',\n",
              " 'pesadamente, descender hicieron \\n el ataúd al fondo de la fosa \\n los dos sepultureros... \\n Y al resonar sonó con recio golpe, \\n solemne, en el silencio. \\n Un golpe de ataúd en tierra es algo \\n perfectamente serio. \\n Sobre la negra caja se rompían \\n los pesados terrones polvorientos... \\n El aire se llevaba \\n de la honda fosa el blanquecino aliento. \\n —Y tú, sin sombra ya, duerme y reposa, \\n larga paz a tus huesos... \\n Definitivamente, \\n duerme un sueño tranquilo y verdadero. \\n Una tarde parda y fría \\n de invierno. Los colegiales \\n estudian. Monotonía \\n de lluvia tras los cristales. \\n Es la clase. En un cartel \\n se representa a Caín',\n",
              " 'fugitivo, y muerto Abel, \\n junto a una mancha carmín. \\n Con timbre sonoro y hueco \\n truena el maestro, un anciano \\n mal vestido, enjuto y seco, \\n que lleva un libro en la mano. \\n Y todo un coro infantil \\n va cantando la lección; \\n mil veces ciento, cien mil, \\n mil veces mil, un millón. \\n Una tarde parda y fría \\n de invierno. Los colegiales \\n estudian. Monotonía \\n de la lluvia en los cristales. \\n El limonero lánguido suspende \\n una pálida rama polvorienta, \\n sobre el encanto de la fuente limpia, \\n y allá en el fondo sueñan \\n los frutos de oro... \\n Es una tarde clara, \\n casi de primavera,',\n",
              " 'tibia tarde de marzo \\n que el hálito de abril cercano lleva; \\n y estoy solo, en el patio silencioso, \\n buscando una ilusión cándida y vieja: \\n alguna sombra sobre el blanco muro, \\n algún recuerdo, en el pretil de piedra \\n de la fuente, dormido, o, en el aire, \\n algún vagar de túnica ligera. \\n En el ambiente de la tarde flota \\n ese aroma de ausencia. \\n que dice al alma luminosa: nunca, \\n y al corazón: espera. \\n Ese aroma que evoca los fantasmas \\n de las fragancias vírgenes y muertas. \\n Sí, te recuerdo, tarde alegre y clara, \\n casi de primavera, \\n tarde sin flores, cuando me traías \\n el buen perfume de la hierbabuena, \\n y de la buena albahaca, \\n que tenía mi madre en sus macetas. \\n Que tú me viste hundir mis manos puras \\n en el agua serena,',\n",
              " 'para alcanzar los frutos encantados \\n que hoy en el fondo de la fuente sueñan... \\n Sí, te conozco, tarde alegre y clara, \\n casi de primavera. \\n Yo escucho los cantos \\n de viejas cadencias, \\n que los niños cantan \\n cuando en coro juegan, \\n y vierten en coro \\n sus almas que sueñan, \\n cual vierten sus aguas \\n las fuentes de piedra: \\n con monotonías \\n de risas eternas, \\n que no son alegres, \\n con lágrimas viejas, \\n que no son amargas \\n y dicen tristezas, \\n tristezas de amores \\n de antiguas leyendas. \\n En los labios niños, \\n las canciones llevan',\n",
              " 'confusa la historia \\n y clara la pena; \\n como clara el agua \\n lleva su conseja \\n de viejos amores, \\n que nunca se cuentan. \\n Jugando a la sombra \\n de una plaza vieja, \\n los niños cantaban... \\n La fuente de piedra \\n vertía su eterno \\n cristal de leyenda. \\n Cantaban los niños \\n canciones ingenuas, \\n de un algo que pasa \\n y que nunca llega: \\n la historia confusa \\n y clara la pena. \\n Seguía su cuento \\n la fuente serena; \\n borrada la historia, \\n contaba la pena.',\n",
              " 'Se ha asomado una cigüeña a lo alto del campanario. \\n Girando en torno a la torre y al caserón solitario, \\n y las golondrinas chillan. Pasaron del blanco invierno, \\n de nevascas y ventiscas los crudos soplos de infierno. \\n Es una tibia mañana. \\n El sol calienta un poquito la pobre tierra soriana. \\n Pasados los verdes pinos, \\n casi azules, primavera \\n se ve brotar en los finos \\n chopos de la carretera \\n y del río. El Duero corre, terso y mudo, mansamente. \\n El campo parece, más que joven, adolescente. \\n Entre las hierbas alguna humilde flor ha nacido, \\n azul o blanca. ¡Belleza del campo apenas florido, \\n y mística primavera! \\n ¡Chopos del camino blanco, álamos de la ribera \\n , espuma de la montaña \\n ante la azul lejanía \\n sol del día, claro día! \\n ¡Hermosa tierra de España! \\n A la desierta plaza',\n",
              " 'conduce un laberinto de callejas. \\n A un lado, el viejo paredón sombrío \\n de una ruinosa iglesia; \\n a otro lado, la tapia blanquecina \\n de un huerto de cipreses y palmeras, \\n y, frente a mí, la casa, \\n y en la casa la reja \\n ante el cristal que levemente empaña \\n su figurilla plácida y risueña. \\n Me apartaré. No quiero \\n llamar a tu ventana ... Primavera \\n viene —su veste blanca \\n flota en el aire de la plaza muerta—; \\n viene a encender las rosas \\n rojas de tus rosales... Quiero verla ... \\n Yo voy soñando caminos \\n de la tarde. ¡Las colinas \\n doradas, los verdes pinos, \\n las polvorientas encinas!... \\n ¿Adonde el camino irá? \\n Yo voy cantando, viajero',\n",
              " 'a lo largo del sendero... \\n —La tarde cayendo está—, \\n \"En el corazón tenía \\n la espina de una pasión; \\n logré arrancármela un día: \\n ya no siento el corazón.\" \\n Y todo el campo un momento \\n se queda, mudo y sombrío, \\n meditando. Suena el viento \\n en los álamos del río. \\n La tarde más se obscurece; \\n y el camino que serpea \\n y débilmente blanquea, \\n se enturbia y desaparece. \\n Mi cantar vuelve a plañir: \\n \"Aguda espina dorada, \\n quién te pudiera sentir \\n en el corazón clavada.\" \\n Amada, el aura dice \\n tu pura veste blanca ... \\n No te verán mis ojos',\n",
              " '¡mi corazón te aguarda! \\n El viento me ha traído \\n tu nombre en la mañana; \\n el eco de tus pasos \\n repite la montaña ... \\n No te verán, mis ojos; \\n ¡mi corazón te aguarda! \\n En las sombrías torres \\n repican las campanas... \\n No te verán mis ojos; \\n ¡mi corazón te aguarda! \\n Los golpes del martillo \\n dicen la negra caja; \\n y el sitio de la fosa, \\n los golpes de la azada... \\n No te verán mis ojos; \\n ¡mi corazón te aguarda! \\n Yo meditaba absorto, devanando \\n los hilos del hastío y la tristeza, \\n cuando llegó a mi oído, \\n por la ventana de mi estancia, abierta',\n",
              " 'a una caliente noche de verano, \\n el plañir de una copla soñolienta, \\n quebrada por los trémolos sombríos \\n de las músicas magas de mi tierra. \\n ... Y era el Amor, como una roja llama. \\n —Nerviosa mano en la vibrante cuerda \\n ponía un largo suspirar de oro, \\n que se trocaba en surtidor de estrellas—. \\n ... Y era la Muerte, al hombro la cuchilla, \\n el paso largo, torva y esquelética, \\n —tal cuando yo era niño la soñaba—. \\n Y en la guitarra, resonante y trémula, \\n la brusca mano, al golpear, fingía \\n el reposar de un ataúd en tierra. \\n Y era un plañido solitario el soplo \\n que el polvo barre y la ceniza avienta. \\n La calle en sombra. Ocultan los altos caserones \\n el sol que muere; hay ecos de luz en los balcones. \\n ¿No ves, en el encanto del mirador florido, \\n óvalo rosado de un rostro conocido? \\n La imagen, tras el vidrio de equívoco reflejo,',\n",
              " 'surge o se apaga como daguerrotipo viejo. \\n Suena en la calle sólo el ruido de tu paso; \\n se extinguen lentamente los ecos del ocaso. \\n ¡Oh, angustia! Pesa y duele el corazón ... ¿Es ella? \\n No puede ser... Camina... En el azul, la estrella. \\n Siempre fugitiva y siempre \\n cerca de mí, en negro manto \\n mal cubierto el desdeñoso \\n gesto de tu rostro pálido. \\n No sé adonde vas, ni dónde \\n tu virgen belleza tálamo \\n busca en la noche. No sé \\n qué sueños cierran tus párpados, \\n ni de quién haya entreabierto \\n tu lecho inhospitalario. \\n Detén el paso, belleza \\n esquiva, detén el paso. \\n Besar quisiera la amarga, \\n amarga flor de tus labios. \\n En una tarde clara y amplia como el hastío,',\n",
              " 'cuando su lanza blande el tórrido verano, \\n copiaban el fantasma de un grave sueño mío \\n mil sombras en teoría, enhiestas, sobre el llano. \\n La gloria del ocaso era un purpúreo espejo, \\n era un cristal de llamas, que al infinito viejo \\n iba, arrojando el grave soñar en la llanura... \\n Y yo sentí la espuela sonora de mi paso \\n repercutir lejana en el sangriento ocaso, \\n y más allá, la alegre canción de un alba pura. \\n ¡Verdes jardinillos, \\n claras plazoletas, \\n fuente verdinosa \\n donde el agua sueña, \\n donde el agua muda \\n resbala en la piedra!... \\n Las hojas de un verde \\n mustio, casi negras \\n de la acacia, el viento \\n de septiembre besa, \\n y se lleva algunas \\n amarillas, secas,',\n",
              " 'jugando, entre el polvo \\n blanco de la tierra. \\n Linda doncellita, \\n que el cántaro llenas \\n de agua transparente, \\n tú, al verme, no llevas \\n a los negros bucles \\n de tu cabellera, \\n distraídamente, \\n la mano morena, \\n ni, luego, en el limpio \\n cristal te contemplas... \\n Tú miras al aire \\n de la tarde bella, \\n mientras de agua clara \\n el cántaro llenas. \\n Mientras la sombra pasa de un santo amor, hoy quiero \\n poner un dulce salmo sobre mi viejo atril. \\n Acordaré las notas del órgano severo \\n al suspirar fragante del pífano de abril. \\n Madurarán su aroma las pomas otoñales,',\n",
              " 'la mirra y el incienso salmodiarán su olor; \\n exhalarán su fresco perfume los rosales, \\n bajo la paz en sombra del tibio huerto en flor. \\n Al grave acorde lento de música y aroma, \\n la sola y vieja y noble razón de mi rezar \\n levantará su vuelo suave de paloma, \\n y la palabra blanca se elevará al altar. \\n Daba el reloj las doce... y eran doce \\n golpes de azada en tierra... \\n ...¡Mi hora! —grité—. ... El silencio \\n me respondió: —No temas; \\n tú no verás caer la última gota \\n que en la clepsidra tiembla. \\n Dormirás muchas horas todavía \\n sobre la orilla vieja, \\n y encontrarás una mañana pura \\n amarrada tu barca a otra ribera. \\n Sobre la tierra amarga, \\n caminos tiene el sueño \\n laberínticos, sendas tortuosas,',\n",
              " 'parques en flor y en sombra y en silencio \\n criptas hondas, escalas sobre estrellas; \\n retablos de esperanzas y recuerdos. \\n Figurillas que pasan y sonríen \\n —juguetes melancólicos de viejo—; \\n imágenes amigas, \\n a la vuelta florida del sendero, \\n y quimeras rosadas \\n que hacen camino ... lejos... \\n En la desnuda tierra del camino \\n la hora florida brota, \\n espino solitario, \\n del valle humilde en la revuelta umbrosa. \\n El salmo verdadero \\n de tenue voz hoy torna \\n al corazón, y al labio, \\n la palabra quebrada y temblorosa. \\n Mis viejos mares duermen; se apagaron \\n sus espumas sonoras \\n sobre la playa estéril. La tormenta \\n camina lejos en la nube torva.',\n",
              " 'Vuelve la paz al cielo; \\n la brisa tutelar esparce aromas \\n otra vez sobre el campo, y aparece, \\n en la bendita soledad, tu sombra. \\n Crear fiestas de amores \\n en nuestro amor pensamos, \\n quemar nuevos aromas \\n en montes no pisados, \\n y guardar el secreto \\n de nuestros rostros pálidos, \\n porque en las bacanales de la vida \\n vacías nuestras copas conservamos, \\n mientras con eco de cristal y espuma \\n ríen los zumos de la vid dorados. \\n Un pájaro escondido entre las ramas \\n del parque solitario, \\n silba burlón... \\n Nosotros exprimimos \\n la penumbra de un sueño en nuestro vaso ... \\n Y algo, que es tierra en nuestra carne, siente \\n la humedad del jardín como un halago.',\n",
              " 'Algunos lienzos del recuerdo tienen \\n luz de jardín y soledad de campo \\n la placidez del sueño \\n en el paisaje familiar soñado. \\n Otros guardan las fiestas \\n de días aun lejanos; \\n figurillas sutiles \\n que pone un titerero en su retablo... \\n Ante el balcón florido, \\n está la cita de un amor amargo. \\n Brilla la tarde en el resol bermejo... \\n La hiedra efunde de los muros blancos … \\n A la revuelta de una calle en sombra, \\n un fantasma irrisorio besa un nardo. \\n Crece en la plaza en sombra \\n el musgo, y en la piedra vieja y santa \\n de la iglesia. En el atrio hay un mendigo ... \\n Más vieja que la iglesia tiene el alma. \\n Sube muy lento, en las mañanas frías, \\n por la marmórea grada, \\n hasta un rincón de piedra... Allí aparece',\n",
              " 'su mano seca entre la rota capa. \\n Con las órbitas huecas de sus ojos \\n ha visto cómo pasan \\n las blancas sombras, en los claros días, \\n las blancas sombras de las horas santas. \\n ¿Mi amor? ... ¿Recuerdas, dime, \\n aquellos juncos tiernos, \\n lánguidos y amarillos \\n que hay en el cauce seco? ... \\n ¿Recuerdas la amapola \\n que calcinó el verano, \\n la amapola marchita, \\n negro crespón del campo? ... \\n ¿Te acuerdas del sol yerto \\n y humilde, en la mañana, \\n que brilla y tiembla roto \\n sobre una fuente helada? ... \\n Me dijo un alba de la primavera: \\n Yo florecí en tu corazón sombrío \\n ha muchos años, caminante viejo',\n",
              " 'que no cortas las flores del camino. \\n Tu corazón de sombra, ¿acaso guarda \\n el viejo aroma de mis viejos lirios? \\n ¿Perfuman aún mis rosas la alba frente \\n del hada de tu sueño adamantino? \\n Respondí a la mañana: \\n Sólo tienen cristal los sueños míos. \\n Yo no conozco el hada de mis sueños; \\n ni sé si está mi corazón florido. \\n - Pero si aguardas la mañana pura \\n que ha de romper el vaso cristalino, \\n quizás el hada te dará tus rosas, \\n mi corazón tus lirios. \\n Es una forma juvenil que un día \\n a nuestra casa llega. \\n Nosotros le decimos: ¿por qué tornas \\n a la morada vieja? Ella abre la ventana, y todo el campo \\n en luz y aroma entra. \\n En el blanco sendero, \\n los troncos de los árboles negrean; \\n las hojas de sus copas',\n",
              " 'son humo verde que a lo lejos sueña. \\n Parece una laguna \\n el ancho río entre la blanca niebla \\n de la mañana. Por los montes cárdenos \\n camina otra quimera. \\n ¡Oh, dime, noche amiga, amada vieja, \\n que me traes el retablo de mis sueños \\n siempre desierto y desolado, y sólo \\n con mi fantasma dentro, \\n mi pobre sombra triste \\n sobre la estepa y bajo el sol de fuego, \\n o soñando amarguras \\n en las voces de todos los misterios, \\n dime, si sabes, vieja amada, dime \\n si son mías las lágrimas que vierto! \\n Me respondió la noche: \\n Jamás me revelaste tu secreto. \\n Yo nunca supe, amado, \\n si eras tú ese fantasma de tu sueño, \\n ni averigüé si era su voz la tuya, \\n o era la voz de un histrión grotesco.',\n",
              " 'Dije a la noche: Amada mentirosa, \\n tú sabes mi secreto; \\n tú has visto la honda gruta \\n donde fabrica su cristal mi sueño, \\n y sabes que mis lágrimas son mías. \\n y sabes mi dolor, mi dolor viejo. \\n ¡Oh! Yo no sé, dijo la noche, amado, \\n yo no sé tu secreto, \\n aunque he visto vagar ese que dices \\n desolado fantasma, por tu sueño. \\n Yo me asomo a las almas cuando lloran \\n y escucho su hondo rezo, \\n humilde y solitario, \\n ese que llamas salmo verdadero; \\n pero en las hondas bóvedas del alma \\n no sé si el llanto es una voz o un eco. \\n Para escuchar tu queja de tus labios \\n yo te busqué en tu sueño, \\n y allí te vi vagando en un borroso \\n laberinto de espejos. \\n Me dijo una tarde',\n",
              " 'de la primavera: \\n Si buscas caminos \\n en flor en la tierra, \\n mata tus palabras \\n y oye tu alma vieja. \\n Que el mismo albo lino \\n que te vista, sea \\n tu traje de duelo, \\n tu traje de fiesta. \\n Ama tu alegría \\n y ama tu tristeza, \\n si buscas caminos \\n en flor en la tierra. \\n Respondí a la tarde \\n de la primavera: \\n Tú has dicho el secreto \\n que en mi alma reza: \\n Yo odio la alegría \\n por odio a la pena. \\n Mas antes que pise \\n tu florida senda, \\n quisiera traerte',\n",
              " 'muerta mi alma vieja. \\n Era una mañana y abril sonreía. \\n Frente al horizonte dorado moría \\n la luna, muy blanca y opaca; tras ella, \\n cual tenue ligera quimera, corría \\n la nube que apenas enturbia una estrella. \\n Como sonreía la rosa mañana \\n al sol del Oriente abrí mi ventana; \\n y en mi triste alcoba penetró el Oriente \\n en canto de alondras, en risa de fuente \\n y en suave perfume de flora temprana. \\n Fue una clara tarde de melancolía. \\n Abril sonreía. Yo abrí las ventanas \\n de mi casa al viento... El viento traía \\n perfume de rosas, dolor de campanas... \\n Doblar de campanas lejanas, llorosas, \\n suave de rosas aromado aliento ... \\n ... ¿Dónde están los huertos floridos de rosas? \\n ¿Qué dicen las dulces campanas al viento? \\n Pregunté a la tarde de abril que moría: \\n ¿Al fin la alegría se acerca a mi casa?',\n",
              " 'La tarde de abril sonrió: La alegría \\n pasó por tu puerta —y luego, sombría: \\n Pasó por tu puerta. Dos veces no pasa. \\n El casco roído y verdoso \\n del viejo falucho \\n reposa en la arena... \\n La vela tronchada parece \\n que aun sueña en el sol y en el mar. \\n El mar hierve y canta ... \\n El mar es un sueño sonoro \\n bajo el sol de abril. \\n El mar hierve y ríe \\n con olas azules y espumas de leche y de plata, \\n el mar hierve y ríe \\n bajo el cielo azul. \\n El mar lactescente, \\n el mar rutilante, \\n que ríe en sus liras de plata sus risas azules... \\n ¡Hierve y ríe el mar!... \\n El aire parece que duerme encantado \\n en la fúlgida niebla de sol blanquecino.',\n",
              " 'La gaviota palpita en el aire dormido, y al lento \\n volar soñoliento, se aleja y se pierde en la bruma del sol. \\n El sueño bajo el sol que aturde y ciega, \\n tórrido sueño en la hora de arrebol; \\n el río luminoso el aire surca; \\n esplende la montaña; \\n la tarde es polvo y sol. \\n El sibilante caracol del viento \\n ronco dormita en el remoto alcor; \\n emerge el sueño ingrave en la palmera, \\n luego se enciende en el naranjo en flor. \\n La estúpida cigüeña \\n su garabato escribe en el sopor \\n del molino parado; el toro abate \\n sobre la hierba la testuz feroz. \\n La verde, quieta espuma del ramaje \\n efunde sobre el blanco paredón, \\n lejano, inerte, del jardín sombrío, \\n dormido bajo el cielo fanfarrón. \\n Lejos, enfrente de la tarde roja, \\n refulge el ventanal del torreón.',\n",
              " 'La tarde caía \\n triste y polvorienta. \\n El agua cantaba \\n su copla plebeya \\n en los cangilones \\n de la noria lenta. \\n Soñaba la mula, \\n ¡pobre mula vieja!, \\n al compás de sombra \\n que en el agua suena. \\n La tarde caía \\n triste y polvorienta. \\n Yo no sé qué noble, \\n divino poeta, \\n unió a la amargura \\n de la eterna rueda \\n la dulce armonía \\n del agua que sueña, \\n y vendó tus ojos \\n ¡pobre mula vieja!... \\n Mas sé que fue un noble, \\n divino poeta,',\n",
              " 'corazón maduro \\n de sombra y de ciencia. \\n Recuerdo que una tarde de soledad y hastío \\n ¡oh tarde como tantas!, el alma mía era, \\n bajo el azul monótono, un ancho y terso río \\n que ni tenía un pobre juncal en su ribera. \\n ¡Oh mundo sin encanto, sentimental inopia \\n que borra el misterioso azogue del cristal! \\n ¡Oh el alma sin amores que el Universo copia \\n con un irremediable bostezo universal! \\n Quiso el poeta recordar a solas; \\n las ondas bien amadas, la luz de los cabellos \\n que él llamaba en sus rimas rubias olas. \\n Leyó... La letra mata: no se acordaba de ellos... \\n Y un día —como tantos— al aspirar un día \\n aromas de una rosa que en el rosal se abría, \\n brotó como una llama la luz de los cabellos \\n que él en sus madrigales llamaba rubias olas, \\n brotó, porque un aroma igual tuvieron ellos... \\n Y se alejó en silencio para llorar a solas.',\n",
              " 'Lejos de tu jardín quema la tarde \\n inciensos de oro en purpurinas llamas, \\n tras el bosque de cobre y de ceniza. \\n En tu jardín hay dalias. \\n ¡Malhaya tu jardín!... Hoy me parece \\n la obra de un peluquero, \\n con esa pobre palmerilla enana, \\n y ese cuadro de mirtos recortados... \\n y el naranjito en su tonel... El agua \\n de la fuente de piedra \\n no cesa de reír sobre la concha blanca. \\n Naranjo en maceta, ¡qué triste es tu suerte! \\n Medrosas tiritan tus hojas menguadas. \\n Naranjo en la corte, ¡qué pena de verte \\n con tus naranjitas secas y arrugadas! \\n Pobre limonero de fruto amarillo \\n cual pomo pulido de pálida cera, \\n ¡qué pena mirarte, mísero arbolito \\n criado en mezquino tonel de madera! \\n De los claros bosques de la Andalucía, \\n ¿quién os trajo a esta castellana tierra',\n",
              " 'que barren los vientos de la adusta sierra, \\n hijos de los campos de la tierra mía? \\n ¡Gloria de los huertos, árbol limonero, \\n que enciendes los frutos de pálido oro, \\n y alumbras del negro cipresal austero \\n las quietas plegarias erguidas en coro; \\n y fresco naranjo del patio querido, \\n del campo risueño y el huerto soñado, \\n siempre en mi recuerdo maduro o florido \\n de frondas y aromas y frutos cargado! \\n Está la plaza sombría; \\n muere el día. \\n Suenan lejos las campanas. \\n De balcones y ventanas \\n se iluminan las vidrieras, \\n con reflejos mortecinos, \\n como huesos blanquecinos \\n y borrosas calaveras. \\n En toda la tarde brilla \\n una luz de pesadilla. \\n Está el sol en el ocaso.',\n",
              " 'Suena el eco de mi paso. \\n —¿Eres tú? Ya te esperaba... \\n —No eres tú a quien yo buscaba. \\n Pasan las horas de hastío \\n por la estancia familiar, \\n el amplio cuarto sombrío \\n donde yo empecé a soñar. \\n Del reloj arrinconado, \\n que en la penumbra clarea, \\n el tictac acompasado \\n odiosamente golpea. \\n Dice la monotonía \\n del agua clara al caer: \\n un día es como otro día; \\n hoy es lo mismo que ayer. \\n Cae la tarde. El viento agita \\n el parque mustio y dorado... \\n ¡Qué largamente ha llorado \\n toda la fronda marchita! \\n Sonaba el reloj la una,',\n",
              " 'dentro de mi cuarto. Era \\n triste la noche. La luna, \\n reluciente calavera, \\n ya del cenit declinado, \\n iba del ciprés del huerto \\n fríamente iluminado \\n el alto ramaje yerto. \\n Por la entreabierta ventana \\n llegaban a mis oídos \\n metálicos alaridos \\n de una música lejana. \\n Una música tristona, \\n una mazurca olvidada, \\n entre inocente y burlona, \\n mal tañida y mal soplada. \\n Y yo sentí el estupor \\n del alma cuando bosteza \\n el corazón, la cabeza, \\n y... morirse es lo mejor. \\n Este amor que quiere ser \\n acaso pronto será;',\n",
              " 'pero ¿cuándo ha de volver \\n lo que acaba de pasar? \\n Hoy dista mucho de ayer. \\n ¡Ayer es Nunca jamás! \\n Moneda que está en la mano \\n quizá se deba guardar; \\n la monedita del alma \\n se pierde si no se da. \\n Nuestras vidas son los ríos, \\n que van a dar a la mar, \\n que es el morir. ¡Gran cantar! \\n Entre los poetas míos \\n tiene Manrique un altar. \\n Dulce goce de vivir: \\n mala ciencia del pasar, \\n ciego huir a la mar. \\n Tras el pavor del morir \\n está el placer de llegar. \\n ¡Gran placer! \\n Mas ¿y el horror de volver? \\n ¡Gran pesar!',\n",
              " '¿Mi corazón se ha dormido? \\n Colmenares de mis sueños \\n ¿ya no labráis? ¿Está seca \\n la noria del pensamiento, \\n los cangilones vacíos, \\n girando, de sombra llenos? \\n No, mi corazón no duerme. \\n Está despierto, despierto. \\n Ni duerme ni sueña, mira, \\n los claros ojos abiertos, \\n señas lejanas y escucha \\n a orillas del gran silencio. \\n Desgarrada la nube; el arco iris \\n brillando ya en el cielo, \\n y en un fanal de lluvia \\n y sol en el campo envuelto. \\n Desperté. ¿Quién enturbia \\n los mágicos cristales de mi sueño? \\n Mi corazón latía \\n atónito y disperso. \\n ...¡El limonar florido,',\n",
              " 'el cipresal del huerto, \\n el prado verde, el sol, el agua, el iris..., \\n el agua en tus cabellos!... \\n Y todo en la memoria se perdía \\n como una pompa de jabón al viento. \\n Y era el demonio de mi sueño, el ángel \\n más hermoso. Brillaban \\n como aceros los ojos victoriosos, \\n y las sangrientas llamas \\n de su antorcha alumbraron \\n la honda cripta del alma. \\n — ¿Vendrás conmigo? —No, jamás; las tumbas \\n y los muertos me espantan. \\n Pero la férrea mano \\n mi diestra atenazaba. \\n —Vendrás conmigo... Y avancé en mi sueño \\n cegado por la roja luminaria. \\n Y en la cripta sentí sonar cadenas, \\n y rebullir de fieras enjauladas. \\n Desde el umbral de un sueño me llamaron...',\n",
              " 'Era la buena voz, la voz querida. \\n —Dime: ¿vendrás conmigo a ver el alma?... \\n Llegó a mi corazón una caricia. \\n —Contigo siempre... Y avancé en mi sueño \\n por una larga, escueta galería, \\n sintiendo el roce de la veste pura \\n y el palpitar suave de la mano amiga. \\n Si yo fuera un poeta \\n galante cantaría \\n a vuestros ojos un cantar tan puro \\n como en el mármol blanco el agua limpia. \\n Y en una estrofa de agua \\n todo el cantar sería: \\n \"Ya sé que no responden a mis ojos, \\n que ven y no preguntan cuando miran, \\n los vuestros claros, vuestros ojos tienen \\n la buena luz tranquila, \\n la buena luz del mundo en flor, que he visto \\n desde los brazos de mi madre un día.\" \\n Llamó a mi corazón, un claro día,',\n",
              " 'con un perfume de jazmín, el viento \\n —A cambio de este aroma, \\n todo el aroma de tus rosas quiero. \\n —No tengo rosas; flores \\n en mi jardín no hay ya; todas han muerto. \\n Me llevaré los llantos de las fuentes, \\n las hojas amarillas y los mustios pétalos. \\n Y el viento huyó... Mi corazón sangraba \\n Alma, ¿qué has hecho de tu pobre huerto? \\n Hoy buscarás en vano \\n a tu dolor consuelo. \\n Lleváronse tus hadas \\n el lino de tus sueños. \\n Está la fuente muda, \\n y está marchito el huerto. \\n Hoy sólo quedan lágrimas \\n para llorar. No hay que llorar, ¡silencio! \\n Y nada importa ya que el vino de oro \\n rebose de tu copa cristalina, \\n o el agrio zumo enturbie el puro vaso...',\n",
              " 'Tú sabes, las secretas galerías \\n del alma, los caminos de los sueños, \\n y la tarde tranquila \\n donde van a morir... Allí te aguardan \\n las hadas silenciosas de la vida, \\n y hacia un jardín de eterna primavera \\n te llevarán un día. \\n Tocados de otros días, \\n mustios encajes y marchitas sedas; \\n salterios arrumbados, \\n rincones de las salas polvorientas; \\n daguerrotipos turbios, \\n cartas que amarillean; \\n libracos no leídos \\n que guardan grises florecitas secas; \\n romanticismos muertos, \\n cursilerías viejas, \\n cosas de ayer que sois el alma, y cantos \\n y cuentos de la abuela!... \\n La casa tan querida',\n",
              " 'donde habitaba ella, \\n sobre un montón de escombros arruinada \\n o derruida, enseña \\n el negro y carcomido \\n mal trabado esqueleto de madera. \\n La luna está vertiendo \\n su clara luz en sueños que platea \\n en las ventanas. Mal vestido y triste, \\n voy caminando por la calle vieja. \\n Ante el pálido lienzo de la tarde, \\n la iglesia, con sus torres afiladas \\n y el ancho campanario, en cuyos huecos \\n voltean suavemente las campanas, \\n alta y sombría, surge. \\n La estrella es una lágrima \\n en el azul celeste. \\n Bajo la estrella clara, \\n flota, vellón disperso, \\n una nube quimérica de plata. \\n ¡Oh tarde luminosa!',\n",
              " 'El aire está encantado. \\n La blanca cigüeña \\n dormita volando, \\n y las golondrinas se cruzan, tendidas \\n las alas agudas al viento dorado, \\n y en la tarde risueña se alejan \\n volando, soñando... \\n Y hay una que torna como la saeta, \\n las alas agudas tendidas al aire sombrío, \\n buscando su negro rincón del tejado. \\n La blanca cigüeña, \\n como un garabato, \\n tranquila y disforme, ¡tan disparatada! \\n sobre el campanario. \\n ¿Y ha de morir contigo el mundo \\n donde guarda el recuerdo \\n los hálitos más puros de la vida, \\n la blanca sombra del amor primero, \\n la voz que fue a tu corazón, la mano \\n que tú querías retener en sueños, \\n y todos los amores',\n",
              " 'que llegaron al alma, al hondo cielo? \\n ¿Y ha de morir contigo el mundo tuyo, \\n la vieja vida en orden tuyo y nuevo? \\n ¿Los yunques y crisoles de tu alma \\n trabajan para el polvo y para el viento? \\n Desnuda está la tierra, \\n y el alma aúlla al horizonte pálido \\n como loba famélica. ¿Qué buscas, \\n poeta, en el ocaso? \\n Amargo caminar, porque el camino \\n pesa en el corazón. ¡El viento helado, \\n y la noche que llega, y la amargura \\n de la distancia!... En el camino blanco \\n algunos yertos árboles negrean; \\n en los montes lejanos \\n hay oro y sangre ... El sol murió... ¿Qué buscas \\n poeta, en el ocaso? \\n La tarde está muriendo \\n como un hogar humilde que se apaga. \\n Allá, sobre los montes,',\n",
              " 'quedan algunas brasas. \\n Y ese árbol roto en el camino blanco \\n hace llorar de lástima. \\n ¡Dos ramas en el tronco herido, y una \\n hoja marchita y negra en cada rama! \\n ¿Lloras?... Entre los álamos de oro, \\n lejos, la sombra del amor te aguarda. \\n El hada más hermosa ha sonreído \\n al ver la lumbre de una estrella pálida, \\n que en hilo suave, blanco y silencioso \\n se enrosca al huso de su rubia hermana. \\n Y vuelve a sonreír, porque en su rueca \\n el hilo de los campos se enmaraña. \\n Tras la tenue cortina de la alcoba \\n está el jardín envuelto en luz dorada. \\n La cuna, casi en sombra. El niño duerme. \\n Dos hadas laboriosas lo acompañan, \\n hilando de los sueños los sutiles \\n copos en ruecas de marfil y plata. \\n Guitarra del mesón que hoy suenas jota,',\n",
              " 'mañana petenera, \\n según quien llega y tañe \\n las empolvadas cuerdas, \\n guitarra del mesón de los caminos, \\n no fuiste nunca, ni serás, poeta. \\n Tú eres alma que dice su armonía \\n solitaria a las almas pasajeras... \\n Y siempre que te escucha el caminante \\n sueña escuchar un aire de su tierra. \\n La primavera besaba \\n suavemente la arboleda, \\n y el verde nuevo brotaba \\n como una verde humareda. \\n Las nubes iban pasando \\n sobre el campo juvenil... \\n Yo vi en las hojas temblando \\n las frescas lluvias de abril. \\n Bajo ese almendro florido, \\n todo cargado de flor \\n —recordé—, yo he maldecido \\n mi juventud sin amor.',\n",
              " 'Hoy, en mitad de la vida, \\n me he parado a meditar... \\n ¡Juventud nunca vivida \\n quién te volviera a soñar! \\n Eran ayer mis dolores \\n como gusanos de seda \\n que iban labrando capullos; \\n hoy son mariposas negras. \\n ¡De cuántas flores amargas \\n ha sacado blanca cera! \\n ¡Oh tiempo en que mis pesares \\n trabajaban como abejas! \\n Hoy son como avenas locas, \\n o cizaña en sementera, \\n como tizón en espiga, \\n como carcoma en madera. \\n ¡Oh tiempo en que mis dolores \\n tenían lágrimas buenas, \\n y eran como agua de noria \\n que va regando una huerta! \\n Hoy son agua de torrente',\n",
              " 'que arranca el limo a la tierra. \\n Dolores que ayer hicieron \\n de mi corazón colmena, \\n hoy tratan mi corazón \\n como a una muralla vieja: \\n quieren derribarlo, y pronto, \\n al golpe de la piqueta. \\n Húmedo está, bajo el laurel, el banco \\n de verdinosa piedra; \\n lavó la lluvia, sobre el muro blanco, \\n las empolvadas hojas de la hiedra. \\n Del viento del otoño el tibio aliento \\n los céspedes undula, y la alameda \\n conversa con el viento... \\n ¡el viento de la tarde en la arboleda! \\n Mientras el sol en el ocaso esplende \\n que los racimos de la vid orea, \\n y el buen burgués, en su balcón, enciende \\n la estoica pipa en que el tabaco humea, \\n voy recordando versos juveniles... \\n ¿Qué fue de aquel mi corazón sonoro?',\n",
              " '¿Será cierto que os vais, sombras gentiles, \\n huyendo entre los árboles de oro?']"
            ]
          },
          "metadata": {},
          "execution_count": 26
        }
      ]
    },
    {
      "cell_type": "code",
      "execution_count": 36,
      "metadata": {
        "colab": {
          "base_uri": "https://localhost:8080/"
        },
        "id": "oxsphTyq9hqt",
        "outputId": "723b0593-b87e-43d5-cf39-40aae0886cec"
      },
      "outputs": [
        {
          "output_type": "stream",
          "name": "stdout",
          "text": [
            "Media de palabras en total: 109.71428571428571\n"
          ]
        }
      ],
      "source": [
        "# Calcular el total de palabras en todos los poemas\n",
        "total_palabras = sum(len(poema.split()) for poema in poemas)\n",
        "\n",
        "# Calcular la media de palabras en total\n",
        "media_palabras_total = total_palabras / len(poemas)\n",
        "\n",
        "print(\"Media de palabras en total:\", media_palabras_total)"
      ]
    },
    {
      "cell_type": "code",
      "source": [
        "def count_syllables(line):\n",
        "    # Simple function to count syllables in a line of text\n",
        "    # Adjust the pattern as needed for more accuracy\n",
        "    vowels = 'aeiouAEIOUáéíóúÁÉÍÓÚ'\n",
        "    return sum(1 for word in line.split() for letter in word if letter in vowels)"
      ],
      "metadata": {
        "id": "Pq0xxgE9-4P5"
      },
      "execution_count": 37,
      "outputs": []
    },
    {
      "cell_type": "code",
      "source": [
        "def rhyme_scheme(poem):\n",
        "    # Simplified rhyme scheme detection\n",
        "    lines = poem.split('\\n')\n",
        "    ends = [line.split()[-1] for line in lines if line]\n",
        "    rhyme_dict = {}\n",
        "    scheme = ''\n",
        "    for word in ends:\n",
        "        if word not in rhyme_dict:\n",
        "            rhyme_dict[word] = chr(len(rhyme_dict) + 65)  # A, B, C, ...\n",
        "        scheme += rhyme_dict[word]\n",
        "    return scheme"
      ],
      "metadata": {
        "id": "yGgS-hAS-0H9"
      },
      "execution_count": 38,
      "outputs": []
    },
    {
      "cell_type": "code",
      "execution_count": 39,
      "metadata": {
        "id": "1rvc4FXVt9sZ"
      },
      "outputs": [],
      "source": [
        "max_length = round(media_palabras_total)\n",
        "max_tokens = 20000  # Tamaño del vocabulario\n",
        "batch_size = 4      # Tamaño del lote\n",
        "embed_dim = 256     # Dimensión del embedding\n",
        "num_heads = 2       # Número de cabezas del MultiHead\n",
        "dense_dim = 32      # Nº de neuronas de la capa densa\n",
        "EPOCHS = 30         # Nº de épocas"
      ]
    },
    {
      "cell_type": "code",
      "source": [
        "def split_text(text):\n",
        "    # Calcula la longitud total del texto\n",
        "    text_length = len(text)\n",
        "\n",
        "    # Encuentra el índice medio del texto\n",
        "    middle_index = text_length // 2\n",
        "\n",
        "    # Retrocede desde el índice medio hasta el inicio del texto y encuentra el espacio más cercano\n",
        "    start_index = text.rfind(' ', 0, middle_index)\n",
        "\n",
        "    # Retrocede desde el índice medio hasta el final del texto y encuentra el espacio más cercano\n",
        "    end_index = text.find(' ', middle_index)\n",
        "\n",
        "    # Si no se encontraron espacios antes o después del índice medio, ajusta los índices para dividir entre palabras\n",
        "    if start_index == -1:\n",
        "        start_index = 0\n",
        "    if end_index == -1:\n",
        "        end_index = text_length\n",
        "\n",
        "    # Divide el texto en dos partes\n",
        "    first_half = text[:end_index]\n",
        "    second_half = text[end_index:]\n",
        "\n",
        "    return first_half, second_half"
      ],
      "metadata": {
        "id": "Zgl_f9P5UCNo"
      },
      "execution_count": 40,
      "outputs": []
    },
    {
      "cell_type": "code",
      "source": [
        "# Split and enrich each poem\n",
        "poema_pairs = []\n",
        "for poema in poemas:\n",
        "    first_half, second_half = split_text(poema)\n",
        "    lines = poema.split('\\n')\n",
        "    features = [count_syllables(line) for line in lines]\n",
        "    scheme = rhyme_scheme(poema)\n",
        "    enriched_first_half = ' | '.join([line + ' | ' + str(feature) for line, feature in zip(first_half.split('\\n'), features)])\n",
        "    enriched_second_half = ' | '.join([line + ' | ' + str(feature) for line, feature in zip(second_half.split('\\n'), features)])\n",
        "    poema_pairs.append((enriched_first_half, \"[start] \" + enriched_second_half + \" [end]\"))"
      ],
      "metadata": {
        "id": "xFzBA6l5_7V8"
      },
      "execution_count": 41,
      "outputs": []
    },
    {
      "cell_type": "code",
      "execution_count": 42,
      "metadata": {
        "id": "8AGm8ilJ2gMk"
      },
      "outputs": [],
      "source": [
        "random.shuffle(poema_pairs)\n",
        "# 15% validación\n",
        "num_val_samples = int(0.15 * len(poema_pairs))\n",
        "# 70% entrenamiento\n",
        "num_train_samples = len(poema_pairs) - 2 * num_val_samples\n",
        "train_pairs = poema_pairs[:num_train_samples]\n",
        "val_pairs = poema_pairs[num_train_samples:num_train_samples + num_val_samples]\n",
        "# 15% test o pruebas\n",
        "test_pairs = poema_pairs[num_train_samples + num_val_samples:]"
      ]
    },
    {
      "cell_type": "code",
      "source": [
        "string.punctuation"
      ],
      "metadata": {
        "colab": {
          "base_uri": "https://localhost:8080/",
          "height": 35
        },
        "id": "uhRsGs-bXP5-",
        "outputId": "b723b361-8d92-48cb-b25e-bf8745f6ffa2"
      },
      "execution_count": 43,
      "outputs": [
        {
          "output_type": "execute_result",
          "data": {
            "text/plain": [
              "'!\"#$%&\\'()*+,-./:;<=>?@[\\\\]^_`{|}~'"
            ],
            "application/vnd.google.colaboratory.intrinsic+json": {
              "type": "string"
            }
          },
          "metadata": {},
          "execution_count": 43
        }
      ]
    },
    {
      "cell_type": "code",
      "execution_count": 44,
      "metadata": {
        "id": "4jL87Fux8JO1"
      },
      "outputs": [],
      "source": [
        "# Prepara una función de estandarización de cadenas\n",
        "# personalizada para la capa TextVectorization en\n",
        "# español: conserva [ y ] pero elimina ¿ y ¡ (así como\n",
        "# todos los demás caracteres de cadenas.puntuación)\n",
        "# Poemas\n",
        "strip_chars = string.punctuation + \"¿\" + \"¡\"\n",
        "strip_chars = strip_chars.replace(\"\\\\\", \"\")\n",
        "\n",
        "# Poemas con [start] y [end]\n",
        "strip_chars2 = string.punctuation + \"¿\" + \"¡\"\n",
        "strip_chars2 = strip_chars2.replace(\"[\", \"\")\n",
        "strip_chars2 = strip_chars2.replace(\"]\", \"\")\n",
        "strip_chars2 = strip_chars2.replace(\"\\\\\", \"\")\n",
        "\n",
        "# Poemas\n",
        "def custom_standardization(input_string):\n",
        "    lowercase = tf.strings.lower(input_string)\n",
        "    return tf.strings.regex_replace(\n",
        "        lowercase, f\"[{re.escape(strip_chars)}]\", \"\")\n",
        "\n",
        "text_vectorization = layers.TextVectorization(\n",
        "    max_tokens=max_tokens,\n",
        "    output_mode=\"int\",\n",
        "    output_sequence_length=max_length,\n",
        "    standardize=custom_standardization,\n",
        ")\n",
        "\n",
        "# Poemas con [start] y [end]\n",
        "def custom_standardization_2(input_string):\n",
        "    lowercase = tf.strings.lower(input_string)\n",
        "    return tf.strings.regex_replace(\n",
        "        lowercase, f\"[{re.escape(strip_chars2)}]\", \"\")\n",
        "\n",
        "text_vectorization_start_end = layers.TextVectorization(\n",
        "    max_tokens=max_tokens,\n",
        "    output_mode=\"int\",\n",
        "    # Generamos poemas que tengan un token\n",
        "    # adicional, ya que necesitaremos compensar la oración\n",
        "    # en un paso durante el entrenamiento\n",
        "    output_sequence_length=max_length + 1,\n",
        "    standardize=custom_standardization_2,\n",
        ")\n",
        "\n",
        "train_poemas = [pair[0] for pair in train_pairs]\n",
        "train_poemas_start_end = [pair[1] for pair in train_pairs]\n",
        "\n",
        "# Aprende el vocabulario de cada poema\n",
        "text_vectorization.adapt(train_poemas)\n",
        "text_vectorization_start_end.adapt(train_poemas_start_end)"
      ]
    },
    {
      "cell_type": "code",
      "execution_count": 45,
      "metadata": {
        "id": "HQF9qH7EwLU6"
      },
      "outputs": [],
      "source": [
        "def format_dataset(p, p_s_e):\n",
        "    p = text_vectorization(p)\n",
        "    p_s_e = text_vectorization_start_end(p_s_e)\n",
        "    return ({\n",
        "        \"poema\": p,\n",
        "        # El poema de entrada\n",
        "        # no incluye el último token para\n",
        "        # mantener las entradas y los\n",
        "        # objetivos en la misma longitud.\n",
        "        \"poema_start_end\": p_s_e[:, :-1],\n",
        "    # El poema objetivo está un\n",
        "    # paso por delante. Ambos siguen siendo\n",
        "    # de la misma longitud\n",
        "    }, p_s_e[:, 1:])\n",
        "\n",
        "def make_dataset(pairs):\n",
        "    poema_texts, poema_start_end_texts = zip(*pairs)\n",
        "    poema_texts = list(poema_texts)\n",
        "    poema_start_end_texts = list(poema_start_end_texts)\n",
        "    dataset = tf.data.Dataset.from_tensor_slices((poema_texts, poema_start_end_texts))\n",
        "    dataset = dataset.batch(batch_size)\n",
        "    dataset = dataset.map(format_dataset, num_parallel_calls=4)\n",
        "    # Utilizamos el almacenamiento en caché en memoria\n",
        "    # para acelerar el preprocesamiento\n",
        "    return dataset.shuffle(2048).prefetch(16).cache()\n",
        "\n",
        "train_ds = make_dataset(train_pairs)\n",
        "val_ds = make_dataset(val_pairs)"
      ]
    },
    {
      "cell_type": "code",
      "execution_count": 46,
      "metadata": {
        "colab": {
          "base_uri": "https://localhost:8080/"
        },
        "id": "vhArJKeWymTz",
        "outputId": "f4b2277c-e989-4196-df55-366e528fd404"
      },
      "outputs": [
        {
          "output_type": "stream",
          "name": "stdout",
          "text": [
            "inputs['poema'].shape: (4, 110)\n",
            "inputs['poema_start_end'].shape: (4, 110)\n",
            "targets.shape: (4, 110)\n"
          ]
        }
      ],
      "source": [
        "for inputs, targets in train_ds.take(1):\n",
        "  print(f\"inputs['poema'].shape: {inputs['poema'].shape}\")\n",
        "  print(f\"inputs['poema_start_end'].shape: {inputs['poema_start_end'].shape}\")\n",
        "  print(f\"targets.shape: {targets.shape}\")"
      ]
    },
    {
      "cell_type": "code",
      "execution_count": 47,
      "metadata": {
        "id": "837lkZR39Na9"
      },
      "outputs": [],
      "source": [
        "class TransformerEncoder(layers.Layer):\n",
        "    def __init__(self, embed_dim, dense_dim, num_heads, **kwargs):\n",
        "        super().__init__(**kwargs)\n",
        "        # Tamaño de los vectores de los tokens de entrada\n",
        "        self.embed_dim = embed_dim\n",
        "        # Tamaño de la capa densa interna\n",
        "        self.dense_dim = dense_dim\n",
        "        # Número de attention heads\n",
        "        self.num_heads = num_heads\n",
        "        self.attention = layers.MultiHeadAttention(\n",
        "            num_heads=num_heads, key_dim=embed_dim)\n",
        "        self.dense_proj = keras.Sequential(\n",
        "            [layers.Dense(dense_dim, activation=\"relu\"),\n",
        "             layers.Dense(embed_dim),]\n",
        "        )\n",
        "        self.layernorm_1 = layers.LayerNormalization()\n",
        "        self.layernorm_2 = layers.LayerNormalization()\n",
        "\n",
        "    # El cálculo va en call()\n",
        "    def call(self, inputs, mask=None):\n",
        "        # La máscara que generará la capa Embedding\n",
        "        # será 2D, pero la capa de atención espera\n",
        "        # ser 3D o 4D, por lo que ampliamos su rango\n",
        "        if mask is not None:\n",
        "            mask = mask[:, tf.newaxis, :]\n",
        "        attention_output = self.attention(\n",
        "            inputs, inputs, attention_mask=mask)\n",
        "        proj_input = self.layernorm_1(inputs + attention_output)\n",
        "        proj_output = self.dense_proj(proj_input)\n",
        "        return self.layernorm_2(proj_input + proj_output)\n",
        "\n",
        "    # Implementamos la serialización para\n",
        "    # que podamos guardar el modelo\n",
        "    def get_config(self):\n",
        "        config = super().get_config()\n",
        "        config.update({\n",
        "            \"embed_dim\": self.embed_dim,\n",
        "            \"num_heads\": self.num_heads,\n",
        "            \"dense_dim\": self.dense_dim,\n",
        "        })\n",
        "        return config"
      ]
    },
    {
      "cell_type": "code",
      "execution_count": 48,
      "metadata": {
        "id": "sJG2KJ3yf1ho"
      },
      "outputs": [],
      "source": [
        "class TransformerDecoder(layers.Layer):\n",
        "    def __init__(self, embed_dim, dense_dim, num_heads, **kwargs):\n",
        "        super().__init__(**kwargs)\n",
        "        self.embed_dim = embed_dim\n",
        "        self.dense_dim = dense_dim\n",
        "        self.num_heads = num_heads\n",
        "        self.attention_1 = layers.MultiHeadAttention(\n",
        "            num_heads=num_heads, key_dim=embed_dim)\n",
        "        self.attention_2 = layers.MultiHeadAttention(\n",
        "            num_heads=num_heads, key_dim=embed_dim)\n",
        "        self.dense_proj = keras.Sequential(\n",
        "            [layers.Dense(dense_dim, activation=\"relu\"),\n",
        "             layers.Dense(embed_dim),]\n",
        "        )\n",
        "        self.layernorm_1 = layers.LayerNormalization()\n",
        "        self.layernorm_2 = layers.LayerNormalization()\n",
        "        self.layernorm_3 = layers.LayerNormalization()\n",
        "        # Este atributo asegura que la capa propagará\n",
        "        # su máscara de entrada a sus salidas; el\n",
        "        # enmascaramiento en Keras es explícitamente\n",
        "        # opt-in. Si pasa una máscara a una capa que\n",
        "        # no implementa compute_mask() y que no expone\n",
        "        # este atributo support_masking, es un error.\n",
        "        self.supports_masking = True\n",
        "\n",
        "    def get_config(self):\n",
        "        config = super().get_config()\n",
        "        config.update({\n",
        "            \"embed_dim\": self.embed_dim,\n",
        "            \"num_heads\": self.num_heads,\n",
        "            \"dense_dim\": self.dense_dim,\n",
        "        })\n",
        "        return config\n",
        "\n",
        "    def get_causal_attention_mask(self, inputs):\n",
        "        input_shape = tf.shape(inputs)\n",
        "        batch_size, sequence_length = input_shape[0], input_shape[1]\n",
        "        i = tf.range(sequence_length)[:, tf.newaxis]\n",
        "        j = tf.range(sequence_length)\n",
        "        mask = tf.cast(i >= j, dtype=\"int32\")\n",
        "        mask = tf.reshape(mask, (1, input_shape[1], input_shape[1]))\n",
        "        mult = tf.concat(\n",
        "            [tf.expand_dims(batch_size, -1),\n",
        "             tf.constant([1, 1], dtype=tf.int32)], axis=0)\n",
        "        return tf.tile(mask, mult)\n",
        "\n",
        "    def call(self, inputs, encoder_outputs, mask=None):\n",
        "        causal_mask = self.get_causal_attention_mask(inputs)\n",
        "        if mask is not None:\n",
        "            padding_mask = tf.cast(\n",
        "                mask[:, tf.newaxis, :], dtype=\"int32\")\n",
        "            padding_mask = tf.minimum(padding_mask, causal_mask)\n",
        "        attention_output_1 = self.attention_1(\n",
        "            query=inputs,\n",
        "            value=inputs,\n",
        "            key=inputs,\n",
        "            attention_mask=causal_mask)\n",
        "        attention_output_1 = self.layernorm_1(inputs + attention_output_1)\n",
        "        attention_output_2 = self.attention_2(\n",
        "            query=attention_output_1,\n",
        "            value=encoder_outputs,\n",
        "            key=encoder_outputs,\n",
        "            attention_mask=padding_mask,\n",
        "        )\n",
        "        attention_output_2 = self.layernorm_2(\n",
        "            attention_output_1 + attention_output_2)\n",
        "        proj_output = self.dense_proj(attention_output_2)\n",
        "        return self.layernorm_3(attention_output_2 + proj_output)"
      ]
    },
    {
      "cell_type": "code",
      "execution_count": 49,
      "metadata": {
        "id": "t2wIUqcF-Wh9"
      },
      "outputs": [],
      "source": [
        "class PositionalEmbedding(layers.Layer):\n",
        "    # Una desventaja de las incrustaciones de posición es que\n",
        "    # la longitud de la secuencia debe conocerse de antemano\n",
        "    def __init__(self, sequence_length, input_dim, output_dim, **kwargs):\n",
        "        super().__init__(**kwargs)\n",
        "        # Prepara una capa de embedding para los índices de token.\n",
        "        self.token_embeddings = layers.Embedding(\n",
        "            input_dim=input_dim, output_dim=output_dim, mask_zero = True)\n",
        "        self.position_embeddings = layers.Embedding(\n",
        "            # Y otro para las posiciones te tokens\n",
        "            input_dim=sequence_length, output_dim=output_dim)\n",
        "        self.sequence_length = sequence_length\n",
        "        self.input_dim = input_dim\n",
        "        self.output_dim = output_dim\n",
        "\n",
        "    def call(self, inputs):\n",
        "        length = tf.shape(inputs)[-1]\n",
        "        positions = tf.range(start=0, limit=length, delta=1)\n",
        "        embedded_tokens = self.token_embeddings(inputs)\n",
        "        embedded_positions = self.position_embeddings(positions)\n",
        "        # Agrega ambos vectores embeddings juntos\n",
        "        return embedded_tokens + embedded_positions\n",
        "\n",
        "    def compute_mask(self, inputs, mask=None):\n",
        "        # Al igual que la capa de embedding,\n",
        "        # esta capa debería poder generar una\n",
        "        # máscara para que podamos ignorar los\n",
        "        # ceros de relleno en las entradas.\n",
        "        # El framework llamará automáticamente\n",
        "        # al método compute_mask y la máscara\n",
        "        # se propagará a la siguiente capa.\n",
        "        return tf.math.not_equal(inputs, 0)\n",
        "\n",
        "    # Implementamos la serialización para que\n",
        "    # podamos guardar el modelo.\n",
        "    def get_config(self):\n",
        "        config = super().get_config()\n",
        "        # config = super(PositionalEmbedding, self).get_config()\n",
        "        config.update({\n",
        "            \"output_dim\": self.output_dim,\n",
        "            \"sequence_length\": self.sequence_length,\n",
        "            \"input_dim\": self.input_dim,\n",
        "        })\n",
        "        return config"
      ]
    },
    {
      "cell_type": "code",
      "execution_count": 50,
      "metadata": {
        "id": "DCAi4PI4gF7K"
      },
      "outputs": [],
      "source": [
        "def get_causal_attention_mask(self, inputs):\n",
        "        input_shape = tf.shape(inputs)\n",
        "        batch_size, sequence_length = input_shape[0], input_shape[1]\n",
        "        i = tf.range(sequence_length)[:, tf.newaxis]\n",
        "        j = tf.range(sequence_length)\n",
        "        # Genere una matriz de forma (sequence_length, sequence_length)\n",
        "        # con 1 en una mitad y 0 en la otra\n",
        "        mask = tf.cast(i >= j, dtype=\"int32\")\n",
        "        # Lo replicamos a lo largo del eje del lote para obtener una matriz\n",
        "        # de forma  (batch_size, sequence_length, sequence_length)\n",
        "        mask = tf.reshape(mask, (1, input_shape[1], input_shape[1]))\n",
        "        mult = tf.concat(\n",
        "            [tf.expand_dims(batch_size, -1),\n",
        "             tf.constant([1, 1], dtype=tf.int32)], axis=0)\n",
        "        return tf.tile(mask, mult)"
      ]
    },
    {
      "cell_type": "code",
      "execution_count": 51,
      "metadata": {
        "id": "53gEcrfTgHGk"
      },
      "outputs": [],
      "source": [
        "def call(self, inputs, encoder_outputs, mask=None):\n",
        "        # Recupera la máscara causal\n",
        "        causal_mask = self.get_causal_attention_mask(inputs)\n",
        "        # Prepara la máscara de entrada (que describe las\n",
        "        # ubicaciones de relleno en la secuencia de destino)\n",
        "        if mask is not None:\n",
        "            padding_mask = tf.cast(\n",
        "                mask[:, tf.newaxis, :], dtype=\"int32\")\n",
        "            # Fusiona las dos máscaras juntas\n",
        "            padding_mask = tf.minimum(padding_mask, causal_mask)\n",
        "        attention_output_1 = self.attention_1(\n",
        "            query=inputs,\n",
        "            value=inputs,\n",
        "            key=inputs,\n",
        "            # Pasamos la máscara causal a la primera capa de atención,\n",
        "            # que realiza la self-attention sobre la secuencia de destino.\n",
        "            attention_mask=causal_mask)\n",
        "        attention_output_1 = self.layernorm_1(inputs + attention_output_1)\n",
        "        attention_output_2 = self.attention_2(\n",
        "            query=attention_output_1,\n",
        "            value=encoder_outputs,\n",
        "            key=encoder_outputs,\n",
        "            # Pasamos la máscara combinada a la segunda\n",
        "            # capa de atención, que relaciona la secuencia\n",
        "            # de origen con la secuencia de destino\n",
        "            attention_mask=padding_mask,\n",
        "        )\n",
        "        attention_output_2 = self.layernorm_2(\n",
        "            attention_output_1 + attention_output_2)\n",
        "        proj_output = self.dense_proj(attention_output_2)\n",
        "        return self.layernorm_3(attention_output_2 + proj_output)"
      ]
    },
    {
      "cell_type": "code",
      "execution_count": 66,
      "metadata": {
        "colab": {
          "base_uri": "https://localhost:8080/"
        },
        "id": "eD6tyOEgbnzG",
        "outputId": "05438526-c188-416a-dabf-7132167918b4"
      },
      "outputs": [
        {
          "output_type": "stream",
          "name": "stdout",
          "text": [
            "Model: \"model_2\"\n",
            "__________________________________________________________________________________________________\n",
            " Layer (type)                Output Shape                 Param #   Connected to                  \n",
            "==================================================================================================\n",
            " poema (InputLayer)          [(None, None)]               0         []                            \n",
            "                                                                                                  \n",
            " poema_start_end (InputLaye  [(None, None)]               0         []                            \n",
            " r)                                                                                               \n",
            "                                                                                                  \n",
            " positional_embedding_4 (Po  (None, None, 512)            1029632   ['poema[0][0]']               \n",
            " sitionalEmbedding)                                       0                                       \n",
            "                                                                                                  \n",
            " positional_embedding_5 (Po  (None, None, 512)            1029632   ['poema_start_end[0][0]']     \n",
            " sitionalEmbedding)                                       0                                       \n",
            "                                                                                                  \n",
            " transformer_encoder_2 (Tra  (None, None, 512)            4269120   ['positional_embedding_4[0][0]\n",
            " nsformerEncoder)                                                   ']                            \n",
            "                                                                                                  \n",
            " transformer_decoder_2 (Tra  (None, None, 512)            8471104   ['positional_embedding_5[0][0]\n",
            " nsformerDecoder)                                                   ',                            \n",
            "                                                                     'transformer_encoder_2[0][0]'\n",
            "                                                                    ]                             \n",
            "                                                                                                  \n",
            " dropout_2 (Dropout)         (None, None, 512)            0         ['transformer_decoder_2[0][0]'\n",
            "                                                                    ]                             \n",
            "                                                                                                  \n",
            " dense_14 (Dense)            (None, None, 20000)          1026000   ['dropout_2[0][0]']           \n",
            "                                                          0                                       \n",
            "                                                                                                  \n",
            "==================================================================================================\n",
            "Total params: 43592864 (166.29 MB)\n",
            "Trainable params: 43592864 (166.29 MB)\n",
            "Non-trainable params: 0 (0.00 Byte)\n",
            "__________________________________________________________________________________________________\n"
          ]
        }
      ],
      "source": [
        "# # Define the hyperparameters with adjusted values\n",
        "# max_length = round(media_palabras_total)\n",
        "# max_tokens = 20000  # Vocabulary size\n",
        "# batch_size = 4      # Batch size\n",
        "# embed_dim = 512     # Increased embedding dimension\n",
        "# num_heads = 4       # Increased number of attention heads\n",
        "# dense_dim = 64      # Increased number of neurons in the dense layer\n",
        "# dropout_rate = 0.1  # Added dropout rate\n",
        "# EPOCHS = 30         # Number of epochs\n",
        "\n",
        "# from tensorflow.keras.optimizers.schedules import ExponentialDecay\n",
        "\n",
        "# # Set up a learning rate schedule\n",
        "# initial_learning_rate = 0.0005\n",
        "# lr_schedule = ExponentialDecay(\n",
        "#     initial_learning_rate,\n",
        "#     decay_steps=100000,\n",
        "#     decay_rate=0.96,\n",
        "#     staircase=True)\n",
        "\n",
        "# # Compile the model with an adjusted optimizer using the learning rate schedule\n",
        "# optimizer = keras.optimizers.Adam(learning_rate=lr_schedule)\n",
        "\n",
        "# transformer.compile(optimizer=optimizer,\n",
        "#                     loss=\"sparse_categorical_crossentropy\",\n",
        "#                     metrics=[\"accuracy\"])\n",
        "\n",
        "# # Display the model summary to check the architecture\n",
        "# transformer.summary()"
      ]
    },
    {
      "cell_type": "code",
      "execution_count": 67,
      "metadata": {
        "colab": {
          "base_uri": "https://localhost:8080/"
        },
        "id": "Z903hJSveU7n",
        "outputId": "316b582b-e1ac-4008-9b8c-412035b42b48"
      },
      "outputs": [
        {
          "output_type": "stream",
          "name": "stdout",
          "text": [
            "Epoch 1/30\n",
            "9/9 [==============================] - 32s 3s/step - loss: 9.1529 - accuracy: 0.0303 - val_loss: 8.0824 - val_accuracy: 0.0312\n",
            "Epoch 2/30\n",
            "9/9 [==============================] - 22s 3s/step - loss: 6.6981 - accuracy: 0.0414 - val_loss: 7.1123 - val_accuracy: 0.0312\n",
            "Epoch 3/30\n",
            "9/9 [==============================] - 25s 3s/step - loss: 5.8319 - accuracy: 0.0354 - val_loss: 7.3651 - val_accuracy: 0.0457\n",
            "Epoch 4/30\n",
            "9/9 [==============================] - 24s 3s/step - loss: 5.7306 - accuracy: 0.0405 - val_loss: 7.4955 - val_accuracy: 0.0312\n",
            "Epoch 5/30\n",
            "9/9 [==============================] - 24s 3s/step - loss: 5.6910 - accuracy: 0.0393 - val_loss: 7.6928 - val_accuracy: 0.0416\n",
            "Epoch 6/30\n",
            "9/9 [==============================] - 26s 3s/step - loss: 5.6128 - accuracy: 0.0636 - val_loss: 7.7842 - val_accuracy: 0.0312\n",
            "Epoch 7/30\n",
            "9/9 [==============================] - 24s 3s/step - loss: 5.5013 - accuracy: 0.0734 - val_loss: 7.6093 - val_accuracy: 0.0624\n",
            "Epoch 8/30\n",
            "9/9 [==============================] - 25s 3s/step - loss: 5.2159 - accuracy: 0.1310 - val_loss: 7.1895 - val_accuracy: 0.0541\n",
            "Epoch 9/30\n",
            "9/9 [==============================] - 22s 2s/step - loss: 4.8246 - accuracy: 0.1959 - val_loss: 7.3374 - val_accuracy: 0.0582\n",
            "Epoch 10/30\n",
            "9/9 [==============================] - 25s 3s/step - loss: 4.3877 - accuracy: 0.2411 - val_loss: 7.0879 - val_accuracy: 0.0644\n",
            "Epoch 11/30\n",
            "9/9 [==============================] - 25s 3s/step - loss: 3.8695 - accuracy: 0.3005 - val_loss: 7.0513 - val_accuracy: 0.0728\n",
            "Epoch 12/30\n",
            "9/9 [==============================] - 24s 3s/step - loss: 3.3818 - accuracy: 0.3850 - val_loss: 7.1443 - val_accuracy: 0.0748\n",
            "Epoch 13/30\n",
            "9/9 [==============================] - 22s 3s/step - loss: 2.9300 - accuracy: 0.4776 - val_loss: 7.1317 - val_accuracy: 0.0686\n",
            "Epoch 14/30\n",
            "9/9 [==============================] - 25s 3s/step - loss: 2.5483 - accuracy: 0.5429 - val_loss: 7.1085 - val_accuracy: 0.0707\n",
            "Epoch 15/30\n",
            "9/9 [==============================] - 24s 3s/step - loss: 2.2123 - accuracy: 0.5975 - val_loss: 7.2692 - val_accuracy: 0.0769\n",
            "Epoch 16/30\n",
            "9/9 [==============================] - 25s 3s/step - loss: 1.9428 - accuracy: 0.6509 - val_loss: 7.3240 - val_accuracy: 0.0603\n",
            "Epoch 17/30\n",
            "9/9 [==============================] - 22s 3s/step - loss: 1.9524 - accuracy: 0.6522 - val_loss: 7.4837 - val_accuracy: 0.0624\n",
            "Epoch 18/30\n",
            "9/9 [==============================] - 23s 3s/step - loss: 1.7849 - accuracy: 0.6872 - val_loss: 7.3358 - val_accuracy: 0.0707\n",
            "Epoch 19/30\n",
            "9/9 [==============================] - 24s 3s/step - loss: 1.7522 - accuracy: 0.6863 - val_loss: 7.2764 - val_accuracy: 0.0707\n",
            "Epoch 20/30\n",
            "9/9 [==============================] - 25s 3s/step - loss: 1.9768 - accuracy: 0.6633 - val_loss: 7.6620 - val_accuracy: 0.0748\n",
            "Epoch 21/30\n",
            "9/9 [==============================] - 22s 3s/step - loss: 1.6843 - accuracy: 0.7093 - val_loss: 7.5147 - val_accuracy: 0.0603\n",
            "Epoch 22/30\n",
            "9/9 [==============================] - 24s 3s/step - loss: 1.6263 - accuracy: 0.7226 - val_loss: 8.2169 - val_accuracy: 0.0644\n",
            "Epoch 23/30\n",
            "9/9 [==============================] - 26s 3s/step - loss: 1.1205 - accuracy: 0.7956 - val_loss: 8.0029 - val_accuracy: 0.0686\n",
            "Epoch 24/30\n",
            "9/9 [==============================] - 22s 2s/step - loss: 1.0134 - accuracy: 0.7943 - val_loss: 8.1485 - val_accuracy: 0.0457\n",
            "Epoch 25/30\n",
            "9/9 [==============================] - 25s 3s/step - loss: 0.9353 - accuracy: 0.8276 - val_loss: 8.1744 - val_accuracy: 0.0624\n",
            "Epoch 26/30\n",
            "9/9 [==============================] - 22s 2s/step - loss: 0.9422 - accuracy: 0.8032 - val_loss: 8.3766 - val_accuracy: 0.0644\n",
            "Epoch 27/30\n",
            "9/9 [==============================] - 24s 3s/step - loss: 0.6692 - accuracy: 0.8673 - val_loss: 8.3214 - val_accuracy: 0.0541\n",
            "Epoch 28/30\n",
            "9/9 [==============================] - 24s 3s/step - loss: 0.5412 - accuracy: 0.9001 - val_loss: 8.3346 - val_accuracy: 0.0478\n",
            "Epoch 29/30\n",
            "9/9 [==============================] - 23s 3s/step - loss: 0.4217 - accuracy: 0.9360 - val_loss: 8.4230 - val_accuracy: 0.0561\n",
            "Epoch 30/30\n",
            "9/9 [==============================] - 24s 3s/step - loss: 0.3559 - accuracy: 0.9492 - val_loss: 8.4697 - val_accuracy: 0.0541\n"
          ]
        },
        {
          "output_type": "execute_result",
          "data": {
            "text/plain": [
              "<keras.src.callbacks.History at 0x7d92c4657040>"
            ]
          },
          "metadata": {},
          "execution_count": 67
        }
      ],
      "source": [
        "# transformer.fit(train_ds, epochs=EPOCHS, validation_data=val_ds)"
      ]
    },
    {
      "cell_type": "code",
      "execution_count": 73,
      "metadata": {
        "colab": {
          "base_uri": "https://localhost:8080/"
        },
        "id": "npnnTWLK8W-k",
        "outputId": "c674331f-5dc1-4c28-8663-1dfe28a57e62"
      },
      "outputs": [
        {
          "output_type": "stream",
          "name": "stdout",
          "text": [
            "-\n",
            "[start] lejana en el sangriento ocaso 15 y más allá la alegre canción de un alba pura 17 verdes jardinillos 17 claras plazoletas 18 fuente verdinosa 18 donde el agua sueña 16 donde el agua muda 15 resbala en la piedra 16 las hojas de la hierbabuena 11 y roja flor el campo 13 en luz y sueñan 9 y en el blanco sendero 12 [end]\n",
            "-\n",
            "[start] lejana en el sangriento ocaso 15 y más allá la alegre canción de un alba pura 17 verdes jardinillos 17 claras plazoletas 18 fuente verdinosa 18 donde el agua sueña 16 donde el agua muda 15 resbala en la piedra 16 las hojas de la hierbabuena 11 y roja flor el campo 13 en luz y sueñan 9 y en el blanco sendero 12 [end]\n",
            "-\n",
            "[start] lejana en el sangriento ocaso 15 y más allá la alegre canción de un alba pura 17 verdes jardinillos 17 claras plazoletas 18 fuente verdinosa 18 donde el agua sueña 16 donde el agua muda 15 resbala en la piedra 16 las hojas de la hierbabuena 11 y roja flor el campo 13 en luz y sueñan 9 y en el blanco sendero 12 [end]\n",
            "-\n",
            "[start] lejana en el sangriento ocaso 15 y más allá la alegre canción de un alba pura 17 verdes jardinillos 17 claras plazoletas 18 fuente verdinosa 18 donde el alma 11 no sé si el llanto es una voz o un eco 11 para escuchar tu pura veste blanca 8 no te verán mis ojos 9 [end]\n",
            "-\n",
            "[start] y escucha 9 a orillas del gran silencio 9 desgarrada la nube el arco iris 9 brillando ya en el cielo 10 y en un fanal de lluvia 8 y sol en el campo envuelto 8 desperté quién enturbia 9 los mágicos cristales de lluvia tras los cristales 12 es la clase en que tenía mi madre en sus macetas 11 que tú me viste hundir mis manos puras 13 en el agua serena 7 [end]\n"
          ]
        }
      ],
      "source": [
        "# import numpy as np\n",
        "# poema_vocab = text_vectorization_start_end.get_vocabulary()\n",
        "# spa_index_lookup = dict(zip(range(len(poema_vocab)), poema_vocab))\n",
        "# max_decoded_sentence_length = max_length\n",
        "\n",
        "# def decode_sequence(input_sentence):\n",
        "#     tokenized_input_sentence = text_vectorization([input_sentence])\n",
        "#     decoded_sentence = \"[start]\"\n",
        "#     for i in range(max_decoded_sentence_length):\n",
        "#         tokenized_target_sentence = text_vectorization_start_end(\n",
        "#             [decoded_sentence])[:, :-1]\n",
        "#         predictions = transformer(\n",
        "#             [tokenized_input_sentence, tokenized_target_sentence])\n",
        "#         # Muestra el siguiente token\n",
        "#         sampled_token_index = np.argmax(predictions[0, i, :])\n",
        "#         # Convertimos la siguiente predicción del token en una\n",
        "#         # cadena y la agregamos a la oración generada\n",
        "#         sampled_token = spa_index_lookup[sampled_token_index]\n",
        "#         decoded_sentence += \" \" + sampled_token\n",
        "#         # Condición de salida\n",
        "#         if sampled_token == \"[end]\":\n",
        "#             break\n",
        "#     return decoded_sentence\n",
        "\n",
        "# test_eng_texts = [pair[0] for pair in test_pairs]\n",
        "# for _ in range(5):\n",
        "#     input_sentence = random.choice(test_eng_texts)\n",
        "#     print(\"-\")\n",
        "#     # print(input_sentence)\n",
        "#     print(decode_sequence(input_sentence))"
      ]
    },
    {
      "cell_type": "code",
      "source": [
        "# Transformer encoder\n",
        "encoder_inputs = keras.Input(shape=(None,), dtype=\"int64\", name = \"poema\")\n",
        "x = PositionalEmbedding(max_length, max_tokens, embed_dim)(encoder_inputs)\n",
        "encoder_outputs = TransformerEncoder(embed_dim, dense_dim, num_heads)(x)\n",
        "\n",
        "# Transformer decoder\n",
        "decoder_inputs = keras.Input(shape=(None,), dtype=\"int64\", name = \"poema_start_end\")\n",
        "x = PositionalEmbedding(max_length, max_tokens, embed_dim)(decoder_inputs)\n",
        "# Codificamos la oración objetivo y la combinamos con la oración fuente codificada\n",
        "x = TransformerDecoder(embed_dim, dense_dim, num_heads)(x, encoder_outputs)\n",
        "x = layers.Dropout(0.5)(x)\n",
        "\n",
        "# Predecimos una palabra para cada posición de salida\n",
        "decoder_outputs = layers.Dense(max_tokens, activation=\"softmax\")(x)\n",
        "transformer = keras.Model([encoder_inputs, decoder_inputs], decoder_outputs)\n",
        "\n",
        "transformer.compile(optimizer=\"rmsprop\",\n",
        "              loss=\"sparse_categorical_crossentropy\",\n",
        "              metrics=[\"accuracy\"])\n",
        "transformer.summary()"
      ],
      "metadata": {
        "colab": {
          "base_uri": "https://localhost:8080/"
        },
        "id": "KxM791eyUbau",
        "outputId": "a2d82b6d-64f3-4b89-9741-49c57cdf41fb"
      },
      "execution_count": 69,
      "outputs": [
        {
          "output_type": "stream",
          "name": "stdout",
          "text": [
            "Model: \"model_3\"\n",
            "__________________________________________________________________________________________________\n",
            " Layer (type)                Output Shape                 Param #   Connected to                  \n",
            "==================================================================================================\n",
            " poema (InputLayer)          [(None, None)]               0         []                            \n",
            "                                                                                                  \n",
            " poema_start_end (InputLaye  [(None, None)]               0         []                            \n",
            " r)                                                                                               \n",
            "                                                                                                  \n",
            " positional_embedding_6 (Po  (None, None, 512)            1029632   ['poema[0][0]']               \n",
            " sitionalEmbedding)                                       0                                       \n",
            "                                                                                                  \n",
            " positional_embedding_7 (Po  (None, None, 512)            1029632   ['poema_start_end[0][0]']     \n",
            " sitionalEmbedding)                                       0                                       \n",
            "                                                                                                  \n",
            " transformer_encoder_3 (Tra  (None, None, 512)            4269120   ['positional_embedding_6[0][0]\n",
            " nsformerEncoder)                                                   ']                            \n",
            "                                                                                                  \n",
            " transformer_decoder_3 (Tra  (None, None, 512)            8471104   ['positional_embedding_7[0][0]\n",
            " nsformerDecoder)                                                   ',                            \n",
            "                                                                     'transformer_encoder_3[0][0]'\n",
            "                                                                    ]                             \n",
            "                                                                                                  \n",
            " dropout_3 (Dropout)         (None, None, 512)            0         ['transformer_decoder_3[0][0]'\n",
            "                                                                    ]                             \n",
            "                                                                                                  \n",
            " dense_19 (Dense)            (None, None, 20000)          1026000   ['dropout_3[0][0]']           \n",
            "                                                          0                                       \n",
            "                                                                                                  \n",
            "==================================================================================================\n",
            "Total params: 43592864 (166.29 MB)\n",
            "Trainable params: 43592864 (166.29 MB)\n",
            "Non-trainable params: 0 (0.00 Byte)\n",
            "__________________________________________________________________________________________________\n"
          ]
        }
      ]
    },
    {
      "cell_type": "code",
      "source": [
        "max_length = round(media_palabras_total)\n",
        "max_tokens = 20000  # Tamaño del vocabulario\n",
        "batch_size = 4      # Tamaño del lote\n",
        "embed_dim = 256     # Dimensión del embedding\n",
        "num_heads = 2       # Número de cabezas del MultiHead\n",
        "dense_dim = 32      # Nº de neuronas de la capa densa\n",
        "EPOCHS = 30         # Nº de épocas\n",
        "\n",
        "transformer.fit(train_ds, epochs=EPOCHS, validation_data=val_ds)"
      ],
      "metadata": {
        "colab": {
          "base_uri": "https://localhost:8080/"
        },
        "id": "1EdRDQXKUlBh",
        "outputId": "1153dd47-665a-4ae5-9f7f-be3f499141b9"
      },
      "execution_count": 72,
      "outputs": [
        {
          "output_type": "stream",
          "name": "stdout",
          "text": [
            "Epoch 1/30\n",
            "9/9 [==============================] - 28s 2s/step - loss: 8.6464 - accuracy: 0.0294 - val_loss: 7.3744 - val_accuracy: 0.0312\n",
            "Epoch 2/30\n",
            "9/9 [==============================] - 20s 2s/step - loss: 6.8948 - accuracy: 0.0397 - val_loss: 7.0227 - val_accuracy: 0.0374\n",
            "Epoch 3/30\n",
            "9/9 [==============================] - 22s 2s/step - loss: 6.4691 - accuracy: 0.0572 - val_loss: 6.9285 - val_accuracy: 0.0437\n",
            "Epoch 4/30\n",
            "9/9 [==============================] - 21s 2s/step - loss: 6.3203 - accuracy: 0.0760 - val_loss: 6.8963 - val_accuracy: 0.0499\n",
            "Epoch 5/30\n",
            "9/9 [==============================] - 22s 2s/step - loss: 5.9509 - accuracy: 0.0730 - val_loss: 6.9112 - val_accuracy: 0.0644\n",
            "Epoch 6/30\n",
            "9/9 [==============================] - 20s 2s/step - loss: 5.6350 - accuracy: 0.1229 - val_loss: 6.8562 - val_accuracy: 0.0582\n",
            "Epoch 7/30\n",
            "9/9 [==============================] - 21s 2s/step - loss: 5.2022 - accuracy: 0.1652 - val_loss: 7.0903 - val_accuracy: 0.0686\n",
            "Epoch 8/30\n",
            "9/9 [==============================] - 21s 2s/step - loss: 4.8249 - accuracy: 0.2104 - val_loss: 6.7858 - val_accuracy: 0.0561\n",
            "Epoch 9/30\n",
            "9/9 [==============================] - 20s 2s/step - loss: 4.2678 - accuracy: 0.2702 - val_loss: 6.7900 - val_accuracy: 0.0582\n",
            "Epoch 10/30\n",
            "9/9 [==============================] - 22s 2s/step - loss: 3.7345 - accuracy: 0.3350 - val_loss: 6.8187 - val_accuracy: 0.0561\n",
            "Epoch 11/30\n",
            "9/9 [==============================] - 22s 2s/step - loss: 3.2646 - accuracy: 0.3948 - val_loss: 6.8591 - val_accuracy: 0.0561\n",
            "Epoch 12/30\n",
            "9/9 [==============================] - 22s 2s/step - loss: 2.9265 - accuracy: 0.4345 - val_loss: 6.9592 - val_accuracy: 0.0603\n",
            "Epoch 13/30\n",
            "9/9 [==============================] - 20s 2s/step - loss: 2.4749 - accuracy: 0.5224 - val_loss: 6.9724 - val_accuracy: 0.0665\n",
            "Epoch 14/30\n",
            "9/9 [==============================] - 22s 2s/step - loss: 2.1142 - accuracy: 0.5941 - val_loss: 7.0547 - val_accuracy: 0.0644\n",
            "Epoch 15/30\n",
            "9/9 [==============================] - 20s 2s/step - loss: 1.7763 - accuracy: 0.6496 - val_loss: 7.1604 - val_accuracy: 0.0624\n",
            "Epoch 16/30\n",
            "9/9 [==============================] - 24s 3s/step - loss: 1.4831 - accuracy: 0.7123 - val_loss: 7.2728 - val_accuracy: 0.0728\n",
            "Epoch 17/30\n",
            "9/9 [==============================] - 20s 2s/step - loss: 1.2625 - accuracy: 0.7563 - val_loss: 7.3576 - val_accuracy: 0.0707\n",
            "Epoch 18/30\n",
            "9/9 [==============================] - 22s 2s/step - loss: 1.0552 - accuracy: 0.7896 - val_loss: 7.4326 - val_accuracy: 0.0707\n",
            "Epoch 19/30\n",
            "9/9 [==============================] - 22s 3s/step - loss: 0.9346 - accuracy: 0.8212 - val_loss: 7.5823 - val_accuracy: 0.0686\n",
            "Epoch 20/30\n",
            "9/9 [==============================] - 20s 2s/step - loss: 0.7607 - accuracy: 0.8574 - val_loss: 7.6680 - val_accuracy: 0.0665\n",
            "Epoch 21/30\n",
            "9/9 [==============================] - 21s 2s/step - loss: 0.6636 - accuracy: 0.8681 - val_loss: 7.8035 - val_accuracy: 0.0624\n",
            "Epoch 22/30\n",
            "9/9 [==============================] - 23s 3s/step - loss: 0.5618 - accuracy: 0.8933 - val_loss: 7.8670 - val_accuracy: 0.0603\n",
            "Epoch 23/30\n",
            "9/9 [==============================] - 20s 2s/step - loss: 0.5083 - accuracy: 0.9070 - val_loss: 8.0040 - val_accuracy: 0.0603\n",
            "Epoch 24/30\n",
            "9/9 [==============================] - 22s 2s/step - loss: 0.4356 - accuracy: 0.9189 - val_loss: 8.1391 - val_accuracy: 0.0644\n",
            "Epoch 25/30\n",
            "9/9 [==============================] - 22s 2s/step - loss: 0.3672 - accuracy: 0.9283 - val_loss: 8.2040 - val_accuracy: 0.0624\n",
            "Epoch 26/30\n",
            "9/9 [==============================] - 20s 2s/step - loss: 0.3257 - accuracy: 0.9377 - val_loss: 8.3444 - val_accuracy: 0.0624\n",
            "Epoch 27/30\n",
            "9/9 [==============================] - 23s 3s/step - loss: 0.2718 - accuracy: 0.9513 - val_loss: 8.4334 - val_accuracy: 0.0665\n",
            "Epoch 28/30\n",
            "9/9 [==============================] - 20s 2s/step - loss: 0.2185 - accuracy: 0.9676 - val_loss: 8.5207 - val_accuracy: 0.0520\n",
            "Epoch 29/30\n",
            "9/9 [==============================] - 21s 2s/step - loss: 0.2076 - accuracy: 0.9620 - val_loss: 8.6533 - val_accuracy: 0.0603\n",
            "Epoch 30/30\n",
            "9/9 [==============================] - 22s 3s/step - loss: 0.1854 - accuracy: 0.9701 - val_loss: 8.7340 - val_accuracy: 0.0582\n"
          ]
        },
        {
          "output_type": "execute_result",
          "data": {
            "text/plain": [
              "<keras.src.callbacks.History at 0x7d91f0829000>"
            ]
          },
          "metadata": {},
          "execution_count": 72
        }
      ]
    },
    {
      "cell_type": "code",
      "source": [
        "import numpy as np\n",
        "poema_vocab = text_vectorization_start_end.get_vocabulary()\n",
        "spa_index_lookup = dict(zip(range(len(poema_vocab)), poema_vocab))\n",
        "max_decoded_sentence_length = max_length\n",
        "\n",
        "def decode_sequence(input_sentence):\n",
        "    tokenized_input_sentence = text_vectorization([input_sentence])\n",
        "    decoded_sentence = \"[start]\"\n",
        "    for i in range(max_decoded_sentence_length):\n",
        "        tokenized_target_sentence = text_vectorization_start_end(\n",
        "            [decoded_sentence])[:, :-1]\n",
        "        predictions = transformer(\n",
        "            [tokenized_input_sentence, tokenized_target_sentence])\n",
        "        # Muestra el siguiente token\n",
        "        sampled_token_index = np.argmax(predictions[0, i, :])\n",
        "        # Convertimos la siguiente predicción del token en una\n",
        "        # cadena y la agregamos a la oración generada\n",
        "        sampled_token = spa_index_lookup[sampled_token_index]\n",
        "        decoded_sentence += \" \" + sampled_token\n",
        "        # Condición de salida\n",
        "        if sampled_token == \"[end]\":\n",
        "            break\n",
        "    return decoded_sentence\n",
        "\n",
        "test_eng_texts = [pair[0] for pair in test_pairs]\n",
        "for _ in range(5):\n",
        "    input_sentence = random.choice(test_eng_texts)\n",
        "    print(\"-\")\n",
        "    print(input_sentence)\n",
        "    print(decode_sequence(input_sentence))"
      ],
      "metadata": {
        "colab": {
          "base_uri": "https://localhost:8080/"
        },
        "id": "n8lgImSoUrxF",
        "outputId": "bbe268fd-34ae-4bfb-8e81-55e13d8d361b"
      },
      "execution_count": 74,
      "outputs": [
        {
          "output_type": "stream",
          "name": "stdout",
          "text": [
            "-\n",
            "La gaviota palpita en el aire dormido, y al lento | 19 | volar soñoliento, se aleja y se pierde en la bruma del sol. | 21 | El sueño bajo el sol que aturde y ciega, | 16 | tórrido sueño en la hora de arrebol; | 14 | el río luminoso el aire surca; | 13 | esplende la montaña; | 7 | la tarde es polvo y sol. | 7 | El sibilante caracol del viento | 12 | ronco dormita en el remoto alcor; | 12 | emerge el sueño ingrave en la palmera, | 15 | luego | 15\n",
            "[start] y polvorienta 6 la monotonía 9 del agua clara al caer 12 un día es como otro día 9 hoy es lo mismo que ayer 10 cae la tarde que vierto 9 me respondió la ceniza avienta 13 la calle en sombra ocultan los altos caserones 14 el sol que muere hay ecos de tu sueño 7 y allí te vi vagando en ruecas de marfil y plata 14 guitarra del mesón que hoy suenas jota 15 [end]\n",
            "-\n",
            "pero ¿cuándo ha de volver | 9 | lo que acaba de pasar? | 9 | Hoy dista mucho de ayer. | 8 | ¡Ayer es Nunca jamás! | 7 | Moneda que está en la mano | 11 | quizá se deba guardar; | 9 | la monedita del alma | 8 | se pierde si no se da. | 8 | Nuestras vidas son los ríos, | 9 | que van a dar a la mar, | 8 | que | 9\n",
            "[start] y escucha 9 a orillas del gran silencio 9 desgarrada la nube el arco iris 9 brillando ya en el cielo 10 y en un fanal de lluvia 8 y sol en el campo envuelto 8 desperté quién enturbia 9 los mágicos cristales de lluvia tras los cristales 12 es la clase en que tenía mi madre en sus macetas 11 que tú me viste hundir mis manos puras 13 en el agua serena 7 [end]\n",
            "-\n",
            "para alcanzar los frutos encantados | 12 | que hoy en el fondo de la fuente sueñan... | 15 | Sí, te conozco, tarde alegre y clara, | 12 | casi de primavera. | 7 | Yo escucho los cantos | 7 | de viejas cadencias, | 8 | que los niños cantan | 7 | cuando en coro juegan, | 9 | y vierten en coro | 6 | sus almas que | 8\n",
            "[start] lejana en el sangriento ocaso 15 y más allá la alegre canción de un alba pura 17 verdes jardinillos 17 claras plazoletas 18 fuente verdinosa 18 donde el agua sueña 16 donde el agua muda 15 resbala en la piedra 16 las hojas de la hierbabuena 11 y roja flor el campo 13 en luz y sueñan 9 y en el blanco sendero 12 [end]\n",
            "-\n",
            "La gaviota palpita en el aire dormido, y al lento | 19 | volar soñoliento, se aleja y se pierde en la bruma del sol. | 21 | El sueño bajo el sol que aturde y ciega, | 16 | tórrido sueño en la hora de arrebol; | 14 | el río luminoso el aire surca; | 13 | esplende la montaña; | 7 | la tarde es polvo y sol. | 7 | El sibilante caracol del viento | 12 | ronco dormita en el remoto alcor; | 12 | emerge el sueño ingrave en la palmera, | 15 | luego | 15\n",
            "[start] y polvorienta 6 la monotonía 9 del agua clara al caer 12 un día es como otro día 9 hoy es lo mismo que ayer 10 cae la tarde que vierto 9 me respondió la ceniza avienta 13 la calle en sombra ocultan los altos caserones 14 el sol que muere hay ecos de tu sueño 7 y allí te vi vagando en ruecas de marfil y plata 14 guitarra del mesón que hoy suenas jota 15 [end]\n",
            "-\n",
            "de la primavera: | 6 | Si buscas caminos | 6 | en flor en la tierra, | 7 | mata tus palabras | 6 | y oye tu alma vieja. | 8 | Que el mismo albo lino | 9 | que te vista, sea | 7 | tu traje de duelo, | 7 | tu traje de fiesta. | 7 | Ama tu alegría | 7 | y ama tu tristeza, | 6 | si | 6\n",
            "[start] una clara tarde de melancolía 9 abril sonreía yo abrí las ventanas 16 y solitario 9 ese que llamas salmo verdadero 12 pero en las hondas bóvedas del alma 11 no sé si el llanto es una voz o un eco 11 para escuchar tu queja de tus labios 12 yo te busqué en luz y sueñan 9 [end]\n"
          ]
        }
      ]
    }
  ],
  "metadata": {
    "colab": {
      "provenance": []
    },
    "kernelspec": {
      "display_name": "Python 3",
      "name": "python3"
    },
    "language_info": {
      "name": "python"
    }
  },
  "nbformat": 4,
  "nbformat_minor": 0
}