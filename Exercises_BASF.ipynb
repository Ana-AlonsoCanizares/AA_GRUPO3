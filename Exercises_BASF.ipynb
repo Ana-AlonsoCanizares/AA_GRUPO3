{
  "nbformat": 4,
  "nbformat_minor": 0,
  "metadata": {
    "colab": {
      "provenance": [],
      "authorship_tag": "ABX9TyMIEIchsmQTTrIvqmtj37zy",
      "include_colab_link": true
    },
    "kernelspec": {
      "name": "python3",
      "display_name": "Python 3"
    },
    "language_info": {
      "name": "python"
    }
  },
  "cells": [
    {
      "cell_type": "markdown",
      "metadata": {
        "id": "view-in-github",
        "colab_type": "text"
      },
      "source": [
        "<a href=\"https://colab.research.google.com/github/Ana-AlonsoCanizares/AA_GRUPO3/blob/main/Exercises_BASF.ipynb\" target=\"_parent\"><img src=\"https://colab.research.google.com/assets/colab-badge.svg\" alt=\"Open In Colab\"/></a>"
      ]
    },
    {
      "cell_type": "code",
      "source": [
        "def subsequence_in_array(subsequence, array):\n",
        "    \"\"\"\n",
        "    Verificatiion if the subsequence is on the array\n",
        "    \"\"\"\n",
        "    return subsequence in array\n",
        "\n",
        "def common_subsequence(arr1, arr2, arr3):\n",
        "    \"\"\"\n",
        "    Longest common subsequence contained in the 3 arrays.\n",
        "    \"\"\"\n",
        "    stack = []        # Stack for actual sequence\n",
        "    positions = []    # Stack with positions arr1 and arr2\n",
        "    results = []      # list with valid subsequences\n",
        "    i, j = 0, 0       # Pointers of arr1 and arr2\n",
        "\n",
        "    while i < len(arr1) and j < len(arr2):\n",
        "        if arr1[i] == arr2[j]:\n",
        "            # New subsequence or continuation of previous one\n",
        "            stack.append(arr1[i])\n",
        "            positions.append((i, j))\n",
        "            i += 1\n",
        "            j += 1\n",
        "\n",
        "            # Is the subsequence in arr3?\n",
        "            subsequence = ''.join(stack)\n",
        "            if subsequence_in_array(subsequence, arr3):\n",
        "                # If so, save it in results\n",
        "                results.append(subsequence)\n",
        "            else:\n",
        "                # If not, clear it\n",
        "                stack.clear()\n",
        "                positions.clear()\n",
        "        else:\n",
        "            # If the characters are not the same, restart the subsequence\n",
        "            if stack:\n",
        "                # Is it in arr3?\n",
        "                subsequence = ''.join(stack)\n",
        "                if subsequence_in_array(subsequence, arr3):\n",
        "                    results.append(subsequence)\n",
        "                # Restart de stacks\n",
        "                stack.clear()\n",
        "                positions.clear()\n",
        "\n",
        "            # Advance the pointer on the array with less characters\n",
        "            if arr1[i] < arr2[j]:\n",
        "                i += 1\n",
        "            else:\n",
        "                j += 1\n",
        "\n",
        "    # Verificar cualquier subsecuencia restante al final\n",
        "    if stack:\n",
        "        subsequence = ''.join(stack)\n",
        "        if subsequence_in_array(subsequence, arr3):\n",
        "            results.append(subsequence)\n",
        "\n",
        "    # Encontrar la subsecuencia más larga de los resultados\n",
        "    if results:\n",
        "        subsecuencia_mas_larga = max(results, key=len)\n",
        "    else:\n",
        "        subsecuencia_mas_larga = \"\"\n",
        "\n",
        "    return subsecuencia_mas_larga\n",
        "\n",
        "# Ejemplo de uso:\n",
        "arr1 = \"UIBAZDBSIAHFB\"\n",
        "arr2 = \"PQACIZDBIBDLAG\"\n",
        "arr3 = \"QIDBCZDBKSHDVF\"\n",
        "\n",
        "result = common_subsequence(arr1, arr2, arr3)\n",
        "print(f\"The longest subsequence is: {result}\")"
      ],
      "metadata": {
        "colab": {
          "base_uri": "https://localhost:8080/"
        },
        "id": "9mZGIICuijUe",
        "outputId": "ee562a46-5b9b-4b22-8dec-f44fd150b92c"
      },
      "execution_count": 1,
      "outputs": [
        {
          "output_type": "stream",
          "name": "stdout",
          "text": [
            "The longest subsequence is: ZDB\n"
          ]
        }
      ]
    },
    {
      "cell_type": "code",
      "source": [
        "from datetime import datetime"
      ],
      "metadata": {
        "id": "H-aImRpJfeNc"
      },
      "execution_count": null,
      "outputs": []
    },
    {
      "cell_type": "code",
      "source": [
        "timestamp = 1714897800\n",
        "dt_object = datetime.fromtimestamp(timestamp)\n",
        "print(\"Converted Datetime:\", dt_object)"
      ],
      "metadata": {
        "colab": {
          "base_uri": "https://localhost:8080/"
        },
        "id": "Mi4ZJq9vfo4C",
        "outputId": "061845fb-92ca-44e8-cae5-8837c38a69f2"
      },
      "execution_count": null,
      "outputs": [
        {
          "output_type": "stream",
          "name": "stdout",
          "text": [
            "Converted Datetime: 2024-05-05 08:30:00\n"
          ]
        }
      ]
    }
  ]
}